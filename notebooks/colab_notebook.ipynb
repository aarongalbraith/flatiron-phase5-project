{
 "cells": [
  {
   "cell_type": "code",
   "execution_count": 1,
   "id": "edb030bd",
   "metadata": {},
   "outputs": [
    {
     "name": "stderr",
     "output_type": "stream",
     "text": [
      "[nltk_data] Downloading package wordnet to\n",
      "[nltk_data]     /Users/stubbletrouble/nltk_data...\n",
      "[nltk_data]   Package wordnet is already up-to-date!\n",
      "[nltk_data] Downloading package punkt to\n",
      "[nltk_data]     /Users/stubbletrouble/nltk_data...\n",
      "[nltk_data]   Package punkt is already up-to-date!\n"
     ]
    },
    {
     "name": "stdout",
     "output_type": "stream",
     "text": [
      "Requirement already satisfied: contractions in /Users/stubbletrouble/opt/anaconda3/envs/learn-env/lib/python3.8/site-packages (0.1.73)\r\n",
      "Requirement already satisfied: textsearch>=0.0.21 in /Users/stubbletrouble/opt/anaconda3/envs/learn-env/lib/python3.8/site-packages (from contractions) (0.0.24)\r\n",
      "Requirement already satisfied: anyascii in /Users/stubbletrouble/opt/anaconda3/envs/learn-env/lib/python3.8/site-packages (from textsearch>=0.0.21->contractions) (0.3.2)\r\n",
      "Requirement already satisfied: pyahocorasick in /Users/stubbletrouble/opt/anaconda3/envs/learn-env/lib/python3.8/site-packages (from textsearch>=0.0.21->contractions) (2.0.0)\r\n"
     ]
    }
   ],
   "source": [
    "import pandas as pd\n",
    "import matplotlib.pyplot as plt\n",
    "import numpy as np\n",
    "from datetime import datetime\n",
    "\n",
    "import nltk\n",
    "from nltk.stem import WordNetLemmatizer\n",
    "from nltk import FreqDist\n",
    "from nltk.tokenize import word_tokenize, sent_tokenize\n",
    "from nltk.corpus import cmudict\n",
    "\n",
    "nltk.download('wordnet')\n",
    "nltk.download('punkt')\n",
    "\n",
    "\n",
    "from nltk.corpus import stopwords\n",
    "\n",
    "import string\n",
    "from wordcloud import WordCloud\n",
    "\n",
    "import html\n",
    "\n",
    "! pip install contractions\n",
    "import contractions\n",
    "\n",
    "import re\n",
    "\n",
    "from IPython.display import display\n",
    "\n",
    "import seaborn as sns\n",
    "\n",
    "from xgboost import XGBClassifier\n",
    "\n",
    "from sklearn.model_selection import train_test_split\n",
    "\n",
    "from sklearn.metrics import confusion_matrix, accuracy_score, precision_score, f1_score\n",
    "from sklearn.pipeline import Pipeline\n",
    "\n",
    "from sklearn.linear_model import LogisticRegression\n",
    "from sklearn.feature_extraction.text import TfidfVectorizer\n",
    "# from sklearn.naive_bayes import MultinomialNB, GaussianNB\n",
    "from sklearn.model_selection import train_test_split, GridSearchCV\n",
    "from sklearn.preprocessing import StandardScaler\n",
    "from sklearn.compose import ColumnTransformer\n",
    "from sklearn.ensemble import BaggingClassifier, RandomForestClassifier, AdaBoostClassifier, GradientBoostingClassifier\n",
    "from sklearn.tree import DecisionTreeClassifier\n",
    "from sklearn.svm import SVC\n",
    "from sklearn.metrics import accuracy_score, recall_score, confusion_matrix\n",
    "# from sklearn.metrics import plot_confusion_matrix\n",
    "from sklearn.metrics import precision_score, f1_score, roc_auc_score, log_loss\n",
    "\n",
    "from sklearn.metrics import confusion_matrix, ConfusionMatrixDisplay\n",
    "\n",
    "\n",
    "from pathlib import Path\n",
    "\n",
    "SEED = 1979\n",
    "\n",
    "do_grids = False\n",
    "\n",
    "light_frame = True"
   ]
  },
  {
   "cell_type": "code",
   "execution_count": null,
   "id": "130f89c4",
   "metadata": {},
   "outputs": [],
   "source": [
    "!pip uninstall xgboost\n",
    "!pip install xgboost-0.81-py2.py3-none-manylinux1_x86_64.whl"
   ]
  },
  {
   "cell_type": "code",
   "execution_count": 2,
   "id": "40b0feb9",
   "metadata": {},
   "outputs": [],
   "source": [
    "url1 = 'https://raw.githubusercontent.com/aarongalbraith/flatiron-phase5-project/main/data/drugsComTrain_raw.tsv'\n",
    "url2 = 'https://raw.githubusercontent.com/aarongalbraith/flatiron-phase5-project/main/data/drugsComTest_raw.tsv'"
   ]
  },
  {
   "cell_type": "code",
   "execution_count": 3,
   "id": "e62a7cb5",
   "metadata": {},
   "outputs": [],
   "source": [
    "d1 = pd.read_csv(url1, delimiter='\\t', encoding='latin-1')\n",
    "d2 = pd.read_csv(url2, delimiter='\\t', encoding='latin-1')\n",
    "df = pd.concat([d1,d2]).reset_index().drop(columns=['Unnamed: 0', 'index'])"
   ]
  },
  {
   "cell_type": "code",
   "execution_count": 4,
   "id": "aacba9c3",
   "metadata": {},
   "outputs": [],
   "source": [
    "df.drop(df[~df.condition.isin(['Birth Control', 'Emergency Contraception'])].index, inplace=True)"
   ]
  },
  {
   "cell_type": "code",
   "execution_count": 5,
   "id": "bce9d6e8",
   "metadata": {},
   "outputs": [],
   "source": [
    "if light_frame == True:\n",
    "    random_df = np.random.choice(df.index, 1000, replace=False)\n",
    "    df = df[df.index.isin(random_df)]"
   ]
  },
  {
   "cell_type": "code",
   "execution_count": 6,
   "id": "198da75e",
   "metadata": {},
   "outputs": [],
   "source": [
    "def method_fix(usefulCount):\n",
    "    if usefulCount % 4 == 0:\n",
    "        return 'Leonardo'\n",
    "    elif usefulCount % 4 == 1:\n",
    "        return 'Raphael'\n",
    "    elif usefulCount % 4 == 2:\n",
    "        return 'Michaelangelo'\n",
    "    else:\n",
    "        return 'Donatello'\n",
    "\n",
    "df['method'] = df.usefulCount.apply(method_fix)"
   ]
  },
  {
   "cell_type": "code",
   "execution_count": 7,
   "id": "8deb93b8",
   "metadata": {},
   "outputs": [],
   "source": [
    "engineered_features = []"
   ]
  },
  {
   "cell_type": "code",
   "execution_count": 8,
   "id": "ec8dc7bc",
   "metadata": {},
   "outputs": [],
   "source": [
    "df['target'] = df.method"
   ]
  },
  {
   "cell_type": "code",
   "execution_count": 9,
   "id": "9b35e1f8",
   "metadata": {},
   "outputs": [],
   "source": [
    "X_train, X_test, y_train, y_test = \\\n",
    "train_test_split(df[['review'] + engineered_features], df['target'], test_size=0.2, random_state=SEED)"
   ]
  },
  {
   "cell_type": "code",
   "execution_count": 10,
   "id": "0ce9dbe8",
   "metadata": {},
   "outputs": [],
   "source": [
    "# reset variables\n",
    "\n",
    "text_preprocessor = None\n",
    "numerical_preprocessor = None\n",
    "preprocessor = None\n",
    "pipeline = None\n",
    "accuracy = None\n",
    "feature_names = None\n",
    "coefficients = None\n",
    "decision_function_values = None\n",
    "importance_df = None\n",
    "feature_importance = None"
   ]
  },
  {
   "cell_type": "code",
   "execution_count": 11,
   "id": "496e7644",
   "metadata": {},
   "outputs": [],
   "source": [
    "max_features = None\n",
    "stop_words = []\n",
    "ngram_range = (1,3)"
   ]
  },
  {
   "cell_type": "code",
   "execution_count": 12,
   "id": "29de4b79",
   "metadata": {},
   "outputs": [],
   "source": [
    "text_preprocessor = TfidfVectorizer(\n",
    "    max_features=max_features,\n",
    "    ngram_range=ngram_range\n",
    ")\n",
    "\n",
    "numerical_preprocessor = StandardScaler()\n",
    "\n",
    "preprocessor = ColumnTransformer(\n",
    "    transformers=[\n",
    "        ('text', text_preprocessor, 'review'),\n",
    "        ('numerical', numerical_preprocessor, engineered_features)\n",
    "    ]\n",
    ")"
   ]
  },
  {
   "cell_type": "code",
   "execution_count": 13,
   "id": "1f4f0103",
   "metadata": {},
   "outputs": [],
   "source": [
    "def run_model_1(model):\n",
    "    pipeline = Pipeline([\n",
    "        ('preprocessor', preprocessor),\n",
    "        ('model', model)\n",
    "    ])\n",
    "    \n",
    "    pipeline.fit(X_train, y_train)\n",
    "    # generate predictions for the test data\n",
    "    y_pred = pipeline.predict(X_test)\n",
    "    # display the training and test accuracy scores\n",
    "    print(f\"Training Score: {round(pipeline.score(X_train, y_train),4)} \\\n",
    "    \\nTest Score:     {round(pipeline.score(X_test, y_test),4)}\")\n",
    "    \n",
    "    # generate predictions for the test data\n",
    "    y_pred = pipeline.predict(X_test)\n",
    "    \n",
    "    # calculate different evaluation metrics\n",
    "    accuracy = accuracy_score(y_test, y_pred)\n",
    "    f1_macro = f1_score(y_test, y_pred, average='macro')\n",
    "#     roc_auc = roc_auc_score(y_test, y_pred_proba)\n",
    "    \n",
    "    # display different evaluation metrics\n",
    "    print(f\"\\nAccuracy Score: {round(accuracy, 4)}\")\n",
    "    print(f\"F1 Macro Score: {round(f1_macro, 4)}\")\n",
    "#     print(f\"ROC-AUC Score: {round(roc_auc, 4)}\")\n",
    "    \n",
    "    # plot the confusion matrix\n",
    "    cm = confusion_matrix(y_test, y_pred, labels=pipeline.classes_)\n",
    "    disp = ConfusionMatrixDisplay(confusion_matrix=cm, display_labels=pipeline.classes_)\n",
    "    fig, ax = plt.subplots(figsize=(8, 6))\n",
    "    disp.plot(cmap='Greens', ax=ax)\n",
    "    plt.xticks(rotation=90)\n",
    "    plt.show()"
   ]
  },
  {
   "cell_type": "markdown",
   "id": "f8742dc5",
   "metadata": {},
   "source": [
    "## XGBoost"
   ]
  },
  {
   "cell_type": "code",
   "execution_count": 14,
   "id": "3c58cb86",
   "metadata": {},
   "outputs": [
    {
     "name": "stdout",
     "output_type": "stream",
     "text": [
      "Training Score: 1.0     \n",
      "Test Score:     0.255\n",
      "\n",
      "Accuracy Score: 0.255\n",
      "F1 Macro Score: 0.2511\n"
     ]
    },
    {
     "data": {
      "image/png": "[encoded data removed]",
      "text/plain": [
       "<Figure size 576x432 with 2 Axes>"
      ]
     },
     "metadata": {
      "needs_background": "light"
     },
     "output_type": "display_data"
    },
    {
     "name": "stdout",
     "output_type": "stream",
     "text": [
      "CPU times: user 1min 17s, sys: 4.54 s, total: 1min 21s\n",
      "Wall time: 13.6 s\n"
     ]
    }
   ],
   "source": [
    "%%time\n",
    "\n",
    "run_model_1(XGBClassifier(\n",
    "    random_state=SEED\n",
    "))"
   ]
  }
 ],
 "metadata": {
  "kernelspec": {
   "display_name": "Python (learn-env)",
   "language": "python",
   "name": "learn-env"
  },
  "language_info": {
   "codemirror_mode": {
    "name": "ipython",
    "version": 3
   },
   "file_extension": ".py",
   "mimetype": "text/x-python",
   "name": "python",
   "nbconvert_exporter": "python",
   "pygments_lexer": "ipython3",
   "version": "3.8.5"
  }
 },
 "nbformat": 4,
 "nbformat_minor": 5
}
