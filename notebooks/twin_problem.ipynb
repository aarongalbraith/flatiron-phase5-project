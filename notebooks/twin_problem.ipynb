{
 "cells": [
  {
   "cell_type": "markdown",
   "id": "7e26c80c",
   "metadata": {},
   "source": [
    "https://archive.ics.uci.edu/dataset/462/drug+review+dataset+drugs+com"
   ]
  },
  {
   "cell_type": "markdown",
   "id": "e9b14b4b",
   "metadata": {},
   "source": [
    "# Flatiron Phase 5 Project\n",
    "\n",
    "## Aaron Galbraith\n",
    "\n",
    "https://www.linkedin.com/in/aarongalbraith \\\n",
    "https://github.com/aarongalbraith\n",
    "\n",
    "### Submitted: November 21, 2023\n",
    "\n",
    "## working contents\n",
    "\n",
    "- **[functions](#functions)<br>**\n",
    "- **[rough overview](#rough-overview)<br>**\n",
    "- **[duplicates](#duplicates)<br>**\n",
    "- **[missing values](#missing-values)<br>**\n",
    "- **[contractions](#contractions)<br>**\n",
    "- **[dates](#dates)<br>**\n",
    "- **[ratings](#ratings)<br>**\n",
    "- **[focusing on birth control](#focusing-on-birth-control)<br>**\n",
    "- **[feature engineering ideas](#feature-engineering-ideas)<br>**\n",
    "- **[rudimentary word cloud maker](#rudimentary-word-cloud-maker)<br>**\n",
    "- **[end](#end)<br>**\n",
    "\n",
    "\n",
    "## Contents\n",
    "\n",
    "- **[Business Understanding](#Business-Understanding)<br>**\n",
    "- **[Data Understanding](#Data-Understanding)**<br>\n",
    "- **[Data Preparation](#Data-Preparation)**<br>\n",
    "- **[Exploration](#Exploration)**<br>\n",
    "- **[Modeling](#Modeling)**<br>\n",
    "- **[Evaluation](#Evaluation)**<br>\n",
    "- **[Recommendations](#Recommendations)<br>**\n",
    "- **[Further Inquiry](#Further-Inquiry)**<br>"
   ]
  },
  {
   "cell_type": "code",
   "execution_count": 1,
   "id": "0a0c658a",
   "metadata": {},
   "outputs": [],
   "source": [
    "import pandas as pd\n",
    "import matplotlib.pyplot as plt\n",
    "\n",
    "import nltk\n",
    "from nltk.tokenize import word_tokenize\n",
    "from nltk.stem import WordNetLemmatizer\n",
    "from nltk import FreqDist\n",
    "from nltk.corpus import stopwords\n",
    "import string\n",
    "from wordcloud import WordCloud\n",
    "\n",
    "import html\n",
    "import contractions\n",
    "\n",
    "import re\n",
    "\n",
    "from IPython.display import display\n",
    "\n",
    "from sklearn.model_selection import train_test_split\n",
    "\n",
    "from sklearn.metrics import confusion_matrix, plot_confusion_matrix, accuracy_score, precision_score, f1_score\n",
    "from sklearn.pipeline import Pipeline\n",
    "\n",
    "from sklearn.feature_extraction.text import TfidfVectorizer\n",
    "from sklearn.naive_bayes import MultinomialNB\n",
    "from sklearn.model_selection import train_test_split, GridSearchCV\n",
    "\n",
    "\n",
    "SEED = 1979\n",
    "\n",
    "do_grids = True"
   ]
  },
  {
   "cell_type": "code",
   "execution_count": 2,
   "id": "d997272b",
   "metadata": {},
   "outputs": [],
   "source": [
    "d1 = pd.read_csv('../data/drugsComTrain_raw.tsv', delimiter='\\t', encoding='latin-1')\n",
    "d2 = pd.read_csv('../data/drugsComTest_raw.tsv', delimiter='\\t', encoding='latin-1')\n",
    "df = pd.concat([d1,d2]).reset_index().drop(columns=['Unnamed: 0', 'index'])"
   ]
  },
  {
   "cell_type": "markdown",
   "id": "b1bdb2f7",
   "metadata": {},
   "source": [
    "# functions"
   ]
  },
  {
   "cell_type": "code",
   "execution_count": 3,
   "id": "0f696a88",
   "metadata": {},
   "outputs": [],
   "source": [
    "def show_review(index):\n",
    "    print(df.review.loc[index])\n",
    "    display(df[df.review == df.loc[index].review][['drugName', 'condition', 'rating', 'date', 'usefulCount']])"
   ]
  },
  {
   "cell_type": "code",
   "execution_count": 4,
   "id": "b52a3822",
   "metadata": {},
   "outputs": [],
   "source": [
    "def show_similar(index):\n",
    "    \n",
    "    count_total = df[\n",
    "        (df.drugName == df.loc[index].drugName) & \\\n",
    "        (df.condition == df.loc[index].condition) & \\\n",
    "        (df.date == df.loc[index].date)\n",
    "    ].review.count()\n",
    "    \n",
    "    count_similar = df[\n",
    "        (df.drugName == df.loc[index].drugName) & \\\n",
    "        (df.condition == df.loc[index].condition) & \\\n",
    "        (df.rating == df.loc[index].rating) & \\\n",
    "        (df.date == df.loc[index].date)\n",
    "    ].review.count()\n",
    "    \n",
    "    print('On', df.loc[index].date, df.loc[index].drugName, 'was reviewed', count_total, \\\n",
    "          'times and received a rating of', df.loc[index].rating, count_similar, 'times.\\n')\n",
    "    print('From that date, here are all', count_similar, 'reviews with the same rating:\\n')\n",
    "    for ind in df[\n",
    "        (df.drugName == df.loc[index].drugName) & \\\n",
    "        (df.condition == df.loc[index].condition) & \\\n",
    "        (df.rating == df.loc[index].rating) & \\\n",
    "        (df.date == df.loc[index].date)\n",
    "    ].index:\n",
    "        print(df.loc[ind].review,'\\n')\n",
    "    \n",
    "    print('Here is a breakdown of all the dates when reviewers gave the same drug name and condition THIS RATING:')\n",
    "    display(df[\n",
    "        (df.drugName == df.loc[index].drugName) & \\\n",
    "        (df.condition == df.loc[index].condition) & \\\n",
    "        (df.rating == df.loc[index].rating)\n",
    "    ].date.value_counts())"
   ]
  },
  {
   "cell_type": "markdown",
   "id": "a5cd7d5d",
   "metadata": {},
   "source": [
    "# missing values"
   ]
  },
  {
   "cell_type": "code",
   "execution_count": 5,
   "id": "d92626f3",
   "metadata": {},
   "outputs": [
    {
     "data": {
      "text/plain": [
       "1194"
      ]
     },
     "execution_count": 5,
     "metadata": {},
     "output_type": "execute_result"
    }
   ],
   "source": [
    "len(df[df.condition.isna()])"
   ]
  },
  {
   "cell_type": "code",
   "execution_count": 6,
   "id": "12e3461f",
   "metadata": {},
   "outputs": [],
   "source": [
    "df.condition.fillna('missing', inplace=True)"
   ]
  },
  {
   "cell_type": "code",
   "execution_count": 7,
   "id": "4a527132",
   "metadata": {},
   "outputs": [
    {
     "data": {
      "text/plain": [
       "1194"
      ]
     },
     "execution_count": 7,
     "metadata": {},
     "output_type": "execute_result"
    }
   ],
   "source": [
    "len(df[df.condition == 'missing'])"
   ]
  },
  {
   "cell_type": "markdown",
   "id": "fb652ef7",
   "metadata": {},
   "source": [
    "We noticed another condition label that was meant to indicate missing and should be accordingly changed."
   ]
  },
  {
   "cell_type": "code",
   "execution_count": 8,
   "id": "3b29f375",
   "metadata": {},
   "outputs": [],
   "source": [
    "df.condition = df.condition.apply(lambda x: 'missing' if 'Not Listed' in x else x)"
   ]
  },
  {
   "cell_type": "code",
   "execution_count": 9,
   "id": "e431cd55",
   "metadata": {},
   "outputs": [
    {
     "data": {
      "text/plain": [
       "1786"
      ]
     },
     "execution_count": 9,
     "metadata": {},
     "output_type": "execute_result"
    }
   ],
   "source": [
    "len(df[df.condition == 'missing'])"
   ]
  },
  {
   "cell_type": "markdown",
   "id": "c08712e0",
   "metadata": {},
   "source": [
    "We've identified some actual missing condition labels, but we noticed there are more condition labels that seem suspicious, particularly ones that start with something other than an upper case character. Let's look at all such condition labels."
   ]
  },
  {
   "cell_type": "code",
   "execution_count": 10,
   "id": "7e66fc26",
   "metadata": {},
   "outputs": [
    {
     "data": {
      "text/plain": [
       "{'0</span> users found this comment helpful.',\n",
       " '100</span> users found this comment helpful.',\n",
       " '105</span> users found this comment helpful.',\n",
       " '10</span> users found this comment helpful.',\n",
       " '110</span> users found this comment helpful.',\n",
       " '11</span> users found this comment helpful.',\n",
       " '121</span> users found this comment helpful.',\n",
       " '123</span> users found this comment helpful.',\n",
       " '12</span> users found this comment helpful.',\n",
       " '135</span> users found this comment helpful.',\n",
       " '13</span> users found this comment helpful.',\n",
       " '142</span> users found this comment helpful.',\n",
       " '145</span> users found this comment helpful.',\n",
       " '146</span> users found this comment helpful.',\n",
       " '14</span> users found this comment helpful.',\n",
       " '15</span> users found this comment helpful.',\n",
       " '16</span> users found this comment helpful.',\n",
       " '17</span> users found this comment helpful.',\n",
       " '18</span> users found this comment helpful.',\n",
       " '19</span> users found this comment helpful.',\n",
       " '1</span> users found this comment helpful.',\n",
       " '20</span> users found this comment helpful.',\n",
       " '21</span> users found this comment helpful.',\n",
       " '22</span> users found this comment helpful.',\n",
       " '23</span> users found this comment helpful.',\n",
       " '24</span> users found this comment helpful.',\n",
       " '25</span> users found this comment helpful.',\n",
       " '26</span> users found this comment helpful.',\n",
       " '27</span> users found this comment helpful.',\n",
       " '28</span> users found this comment helpful.',\n",
       " '29</span> users found this comment helpful.',\n",
       " '2</span> users found this comment helpful.',\n",
       " '30</span> users found this comment helpful.',\n",
       " '31</span> users found this comment helpful.',\n",
       " '32</span> users found this comment helpful.',\n",
       " '33</span> users found this comment helpful.',\n",
       " '34</span> users found this comment helpful.',\n",
       " '35</span> users found this comment helpful.',\n",
       " '36</span> users found this comment helpful.',\n",
       " '37</span> users found this comment helpful.',\n",
       " '38</span> users found this comment helpful.',\n",
       " '39</span> users found this comment helpful.',\n",
       " '3</span> users found this comment helpful.',\n",
       " '40</span> users found this comment helpful.',\n",
       " '41</span> users found this comment helpful.',\n",
       " '42</span> users found this comment helpful.',\n",
       " '43</span> users found this comment helpful.',\n",
       " '44</span> users found this comment helpful.',\n",
       " '45</span> users found this comment helpful.',\n",
       " '46</span> users found this comment helpful.',\n",
       " '47</span> users found this comment helpful.',\n",
       " '48</span> users found this comment helpful.',\n",
       " '4</span> users found this comment helpful.',\n",
       " '51</span> users found this comment helpful.',\n",
       " '54</span> users found this comment helpful.',\n",
       " '55</span> users found this comment helpful.',\n",
       " '5</span> users found this comment helpful.',\n",
       " '61</span> users found this comment helpful.',\n",
       " '62</span> users found this comment helpful.',\n",
       " '63</span> users found this comment helpful.',\n",
       " '64</span> users found this comment helpful.',\n",
       " '6</span> users found this comment helpful.',\n",
       " '70</span> users found this comment helpful.',\n",
       " '72</span> users found this comment helpful.',\n",
       " '74</span> users found this comment helpful.',\n",
       " '75</span> users found this comment helpful.',\n",
       " '76</span> users found this comment helpful.',\n",
       " '77</span> users found this comment helpful.',\n",
       " '79</span> users found this comment helpful.',\n",
       " '7</span> users found this comment helpful.',\n",
       " '83</span> users found this comment helpful.',\n",
       " '84</span> users found this comment helpful.',\n",
       " '85</span> users found this comment helpful.',\n",
       " '8</span> users found this comment helpful.',\n",
       " '92</span> users found this comment helpful.',\n",
       " '94</span> users found this comment helpful.',\n",
       " '95</span> users found this comment helpful.',\n",
       " '98</span> users found this comment helpful.',\n",
       " '99</span> users found this comment helpful.',\n",
       " '9</span> users found this comment helpful.',\n",
       " 'acial Lipoatrophy',\n",
       " 'acial Wrinkles',\n",
       " 'actor IX Deficiency',\n",
       " 'ailure to Thrive',\n",
       " 'amilial Cold Autoinflammatory Syndrome',\n",
       " 'amilial Mediterranean Feve',\n",
       " 'atigue',\n",
       " 'cal Segmental Glomerulosclerosis',\n",
       " 'emale Infertility',\n",
       " 'eve',\n",
       " 'ge (amlodipine / valsartan)',\n",
       " 'ge HCT (amlodipine / hydrochlorothiazide / valsartan)',\n",
       " 'ibrocystic Breast Disease',\n",
       " 'ibromyalgia',\n",
       " 'lic Acid Deficiency',\n",
       " 'llicle Stimulation',\n",
       " 'llicular Lymphoma',\n",
       " 'm Pain Disorde',\n",
       " 'mance Anxiety',\n",
       " 'me',\n",
       " 'min / pioglitazone)',\n",
       " 'min / rosiglitazone)',\n",
       " 'min / saxagliptin)',\n",
       " 'min / sitagliptin)',\n",
       " 'min)',\n",
       " 'mis',\n",
       " 'mist (',\n",
       " 'moterol / mometasone)',\n",
       " 'moterol)',\n",
       " 'mulation) (phenylephrine)',\n",
       " 't Care',\n",
       " 't Pac with Cyclobenzaprine (cyclobenzaprine)',\n",
       " 'tic (mycophenolic acid)',\n",
       " 'unctional Gastric Disorde',\n",
       " 'ungal Infection Prophylaxis',\n",
       " 'ungal Pneumonia',\n",
       " \"von Willebrand's Disease\",\n",
       " 'zen Shoulde'}"
      ]
     },
     "execution_count": 10,
     "metadata": {},
     "output_type": "execute_result"
    }
   ],
   "source": [
    "set(df[(~df.condition.str[0].isin(list(string.ascii_uppercase))) &\n",
    "   (df.condition != 'missing')\n",
    "  ].condition)"
   ]
  },
  {
   "cell_type": "markdown",
   "id": "e4d1cf43",
   "metadata": {},
   "source": [
    "These fall into three categories. Ones that include \"users found this comment helpful\" should be regarded as erroneous and therefore missing."
   ]
  },
  {
   "cell_type": "code",
   "execution_count": 11,
   "id": "4aff7375",
   "metadata": {},
   "outputs": [],
   "source": [
    "df.condition = df.condition.apply(lambda x: 'missing' if 'users found' in x else x)"
   ]
  },
  {
   "cell_type": "code",
   "execution_count": 12,
   "id": "f2bd93f1",
   "metadata": {},
   "outputs": [
    {
     "data": {
      "text/plain": [
       "2957"
      ]
     },
     "execution_count": 12,
     "metadata": {},
     "output_type": "execute_result"
    }
   ],
   "source": [
    "len(df[df.condition == 'missing'])"
   ]
  },
  {
   "cell_type": "markdown",
   "id": "3e6723ec",
   "metadata": {},
   "source": [
    " Ones that show a clipped copy of the drug name and end with a parenthesis should also be regarded as missing."
   ]
  },
  {
   "cell_type": "code",
   "execution_count": 13,
   "id": "ebe110e4",
   "metadata": {},
   "outputs": [],
   "source": [
    "df.condition = df.condition.apply(lambda x: 'missing' \\\n",
    "                                  if x[0] not in list(string.ascii_uppercase) and \\\n",
    "                                  x[-1] in ['(', ')'] \\\n",
    "                                  else x)"
   ]
  },
  {
   "cell_type": "code",
   "execution_count": 14,
   "id": "44b7a421",
   "metadata": {},
   "outputs": [
    {
     "data": {
      "text/plain": [
       "3286"
      ]
     },
     "execution_count": 14,
     "metadata": {},
     "output_type": "execute_result"
    }
   ],
   "source": [
    "len(df[df.condition == 'missing'])"
   ]
  },
  {
   "cell_type": "markdown",
   "id": "c9f248df",
   "metadata": {},
   "source": [
    "Most of the ones that show a clipped version of the condition label can possibly be restored."
   ]
  },
  {
   "cell_type": "code",
   "execution_count": 15,
   "id": "c644ff0a",
   "metadata": {},
   "outputs": [],
   "source": [
    "def condition_restore(condition):\n",
    "    if condition.split()[-1] in ['Disorde', 'eve', 'Shoulde', 'Cance']:\n",
    "        condition = condition+'r'\n",
    "    if condition.split()[0] in ['acial', 'ibrocystic', 'ungal', 'amilial', 'ailure', 'ever', \\\n",
    "                                'emale', 'unctional', 'actor', 'ibromyalgia', 'atigue']:\n",
    "        condition = 'F'+condition\n",
    "    if condition.split()[0] in ['llicular', 'llicle', 'lic', 'cal']:\n",
    "        condition = 'Fo'+condition\n",
    "    if condition.split()[0] in ['mance']:\n",
    "        condition = 'Perfor'+condition\n",
    "    if condition.split()[0] in ['zen']:\n",
    "        condition = 'Fro'+condition\n",
    "    if condition.split()[0] in ['mis']:\n",
    "        condition = 'Dermatitis Herpetifor'+condition\n",
    "    return condition\n",
    "\n",
    "df.condition = df.condition.apply(lambda x: condition_restore(x))"
   ]
  },
  {
   "cell_type": "markdown",
   "id": "80fd284e",
   "metadata": {},
   "source": [
    "Let's look at what we have left."
   ]
  },
  {
   "cell_type": "code",
   "execution_count": 16,
   "id": "b45b0859",
   "metadata": {},
   "outputs": [
    {
     "data": {
      "text/plain": [
       "{'m Pain Disorder', 'me', 't Care', \"von Willebrand's Disease\"}"
      ]
     },
     "execution_count": 16,
     "metadata": {},
     "output_type": "execute_result"
    }
   ],
   "source": [
    "set(df[(~df.condition.str[0].isin(list(string.ascii_uppercase))) &\n",
    "   (df.condition != 'missing')\n",
    "  ].condition)"
   ]
  },
  {
   "cell_type": "markdown",
   "id": "feaeb412",
   "metadata": {},
   "source": [
    "\"von Willebrand's Disease\" appears to be a naturally uncapitalized condition. The others have been impossible to restore and will also be regarded as missing."
   ]
  },
  {
   "cell_type": "code",
   "execution_count": 17,
   "id": "5eb441be",
   "metadata": {},
   "outputs": [],
   "source": [
    "df.condition = df.condition.apply(lambda x: 'missing' \\\n",
    "                                  if x[0] not in list(string.ascii_uppercase) and \\\n",
    "                                  x.split()[0] != 'von' \\\n",
    "                                  else x)"
   ]
  },
  {
   "cell_type": "code",
   "execution_count": 18,
   "id": "1b36c3db",
   "metadata": {},
   "outputs": [
    {
     "data": {
      "text/plain": [
       "3293"
      ]
     },
     "execution_count": 18,
     "metadata": {},
     "output_type": "execute_result"
    }
   ],
   "source": [
    "len(df[df.condition == 'missing'])"
   ]
  },
  {
   "cell_type": "markdown",
   "id": "c4fe0a53",
   "metadata": {},
   "source": [
    "## proposed solutions for missing values\n",
    "\n",
    "1. For every record with a missing condition, we will assign it the condition that is most common for the drug indicated by that record.\n",
    "\n",
    "2. Before executing solution 1, find each record's twin and use the condition label from the twin where applicable.\n",
    "\n",
    "For now, we'll just execute solution 2."
   ]
  },
  {
   "cell_type": "code",
   "execution_count": 19,
   "id": "643dd65d",
   "metadata": {},
   "outputs": [],
   "source": [
    "drugs_w_missing_condition = list(set(df[df.condition == 'missing'].drugName))"
   ]
  },
  {
   "cell_type": "code",
   "execution_count": 20,
   "id": "1ca3d96e",
   "metadata": {},
   "outputs": [
    {
     "data": {
      "text/plain": [
       "842"
      ]
     },
     "execution_count": 20,
     "metadata": {},
     "output_type": "execute_result"
    }
   ],
   "source": [
    "len(drugs_w_missing_condition)"
   ]
  },
  {
   "cell_type": "markdown",
   "id": "b5459834",
   "metadata": {},
   "source": [
    "This applies to about a quarter of the drugs. We'll create a dictionary that reports the most common condition for these drugs."
   ]
  },
  {
   "cell_type": "code",
   "execution_count": 21,
   "id": "2b3f47fe",
   "metadata": {},
   "outputs": [],
   "source": [
    "most_common_condition = {}\n",
    "\n",
    "for drug in drugs_w_missing_condition:\n",
    "    condition = df[df.drugName == drug].condition.value_counts().idxmax()\n",
    "    if condition == 'missing' and len(set(df[df.drugName == drug].condition)) > 1:\n",
    "        condition = df[(df.drugName == drug) &\n",
    "                       (df.condition != 'missing')\n",
    "                      ].condition.value_counts().idxmax()\n",
    "    proportion = round(df[df.drugName == drug].condition.value_counts(normalize=True)[0],2)\n",
    "    most_common_condition[drug] = [condition, proportion]"
   ]
  },
  {
   "cell_type": "code",
   "execution_count": 22,
   "id": "17edd412",
   "metadata": {},
   "outputs": [
    {
     "data": {
      "text/plain": [
       "['Erectile Dysfunction', 0.87]"
      ]
     },
     "execution_count": 22,
     "metadata": {},
     "output_type": "execute_result"
    }
   ],
   "source": [
    "most_common_condition['Viagra']"
   ]
  },
  {
   "cell_type": "markdown",
   "id": "c2859766",
   "metadata": {},
   "source": [
    "For example, if a review with an unlisted condition is about Viagra, we will assume the condition is Erectile Dysfunction."
   ]
  },
  {
   "cell_type": "code",
   "execution_count": 23,
   "id": "785382af",
   "metadata": {},
   "outputs": [],
   "source": [
    "df['condition'] = df.apply(lambda x: most_common_condition[x.drugName][0] \\\n",
    "                           if x.condition == 'missing' \\\n",
    "                           else x.condition, axis = 1)"
   ]
  },
  {
   "cell_type": "code",
   "execution_count": 24,
   "id": "50663e23",
   "metadata": {},
   "outputs": [
    {
     "data": {
      "text/plain": [
       "105"
      ]
     },
     "execution_count": 24,
     "metadata": {},
     "output_type": "execute_result"
    }
   ],
   "source": [
    "len(df[df.condition == 'missing'])"
   ]
  },
  {
   "cell_type": "markdown",
   "id": "b48db1c6",
   "metadata": {},
   "source": [
    "This is how many records there are that still have no label for condition. This means the drugs indicated in these records are *only* indicated in references without an indicated condition. They may still have a \"twin\" records that we could match them to, but while we're skipping that solution step, there's not really anything we can do with these records, and we may as well drop them."
   ]
  },
  {
   "cell_type": "code",
   "execution_count": 25,
   "id": "d3b8ff8f",
   "metadata": {},
   "outputs": [],
   "source": [
    "df.drop(df[df.condition == 'missing'].index, inplace=True)"
   ]
  },
  {
   "cell_type": "markdown",
   "id": "c8ddcff6",
   "metadata": {},
   "source": [
    "# duplicates"
   ]
  },
  {
   "cell_type": "code",
   "execution_count": 26,
   "id": "f4984ba2",
   "metadata": {},
   "outputs": [
    {
     "data": {
      "text/plain": [
       "False    214956\n",
       "True          2\n",
       "Name: count, dtype: int64"
      ]
     },
     "execution_count": 26,
     "metadata": {},
     "output_type": "execute_result"
    }
   ],
   "source": [
    "df.duplicated().value_counts()"
   ]
  },
  {
   "cell_type": "code",
   "execution_count": 27,
   "id": "594da399",
   "metadata": {},
   "outputs": [
    {
     "data": {
      "text/html": [
       "<div>\n",
       "<style scoped>\n",
       "    .dataframe tbody tr th:only-of-type {\n",
       "        vertical-align: middle;\n",
       "    }\n",
       "\n",
       "    .dataframe tbody tr th {\n",
       "        vertical-align: top;\n",
       "    }\n",
       "\n",
       "    .dataframe thead th {\n",
       "        text-align: right;\n",
       "    }\n",
       "</style>\n",
       "<table border=\"1\" class=\"dataframe\">\n",
       "  <thead>\n",
       "    <tr style=\"text-align: right;\">\n",
       "      <th></th>\n",
       "      <th>drugName</th>\n",
       "      <th>condition</th>\n",
       "      <th>review</th>\n",
       "      <th>rating</th>\n",
       "      <th>date</th>\n",
       "      <th>usefulCount</th>\n",
       "    </tr>\n",
       "  </thead>\n",
       "  <tbody>\n",
       "    <tr>\n",
       "      <th>178703</th>\n",
       "      <td>Levonorgestrel</td>\n",
       "      <td>Emergency Contraception</td>\n",
       "      <td>\"I had a quickie n he decided to finish it off...</td>\n",
       "      <td>1.0</td>\n",
       "      <td>September 23, 2016</td>\n",
       "      <td>10</td>\n",
       "    </tr>\n",
       "    <tr>\n",
       "      <th>191001</th>\n",
       "      <td>Plan B</td>\n",
       "      <td>Emergency Contraception</td>\n",
       "      <td>\"I had a quickie n he decided to finish it off...</td>\n",
       "      <td>1.0</td>\n",
       "      <td>September 23, 2016</td>\n",
       "      <td>10</td>\n",
       "    </tr>\n",
       "  </tbody>\n",
       "</table>\n",
       "</div>"
      ],
      "text/plain": [
       "              drugName                condition  \\\n",
       "178703  Levonorgestrel  Emergency Contraception   \n",
       "191001          Plan B  Emergency Contraception   \n",
       "\n",
       "                                                   review  rating  \\\n",
       "178703  \"I had a quickie n he decided to finish it off...     1.0   \n",
       "191001  \"I had a quickie n he decided to finish it off...     1.0   \n",
       "\n",
       "                      date  usefulCount  \n",
       "178703  September 23, 2016           10  \n",
       "191001  September 23, 2016           10  "
      ]
     },
     "execution_count": 27,
     "metadata": {},
     "output_type": "execute_result"
    }
   ],
   "source": [
    "df[df.duplicated()]"
   ]
  },
  {
   "cell_type": "code",
   "execution_count": 28,
   "id": "6f820851",
   "metadata": {},
   "outputs": [
    {
     "name": "stdout",
     "output_type": "stream",
     "text": [
      "\"I had a quickie n he decided to finish it off in me... Well IMMEDIATELY we went 2 our local pharmacy n bought this plan b 1 step pill.I took it immediately.2 weeks later,took a pregnancy test n got the world&#039;s BIGGEST POSITIVE. The small pill was $50.That was the 1st time in a year n a half that I had intercourse n the last after I had my first son. I honestly believe this pill is ineffective because they just want u to think it works when n reality, it would never work. Alot of women don&#039;t know their bodies when they ovulate so if your not fertile and he ejaculates n u and u take the pill n dont get preg., The pill is supposed to make u think it worked. DO NOT buy. Was NEVER effective. Thank u!\"\n"
     ]
    },
    {
     "data": {
      "text/html": [
       "<div>\n",
       "<style scoped>\n",
       "    .dataframe tbody tr th:only-of-type {\n",
       "        vertical-align: middle;\n",
       "    }\n",
       "\n",
       "    .dataframe tbody tr th {\n",
       "        vertical-align: top;\n",
       "    }\n",
       "\n",
       "    .dataframe thead th {\n",
       "        text-align: right;\n",
       "    }\n",
       "</style>\n",
       "<table border=\"1\" class=\"dataframe\">\n",
       "  <thead>\n",
       "    <tr style=\"text-align: right;\">\n",
       "      <th></th>\n",
       "      <th>drugName</th>\n",
       "      <th>condition</th>\n",
       "      <th>rating</th>\n",
       "      <th>date</th>\n",
       "      <th>usefulCount</th>\n",
       "    </tr>\n",
       "  </thead>\n",
       "  <tbody>\n",
       "    <tr>\n",
       "      <th>131531</th>\n",
       "      <td>Levonorgestrel</td>\n",
       "      <td>Emergency Contraception</td>\n",
       "      <td>1.0</td>\n",
       "      <td>September 23, 2016</td>\n",
       "      <td>10</td>\n",
       "    </tr>\n",
       "    <tr>\n",
       "      <th>143768</th>\n",
       "      <td>Plan B</td>\n",
       "      <td>Emergency Contraception</td>\n",
       "      <td>1.0</td>\n",
       "      <td>September 23, 2016</td>\n",
       "      <td>10</td>\n",
       "    </tr>\n",
       "    <tr>\n",
       "      <th>178703</th>\n",
       "      <td>Levonorgestrel</td>\n",
       "      <td>Emergency Contraception</td>\n",
       "      <td>1.0</td>\n",
       "      <td>September 23, 2016</td>\n",
       "      <td>10</td>\n",
       "    </tr>\n",
       "    <tr>\n",
       "      <th>191001</th>\n",
       "      <td>Plan B</td>\n",
       "      <td>Emergency Contraception</td>\n",
       "      <td>1.0</td>\n",
       "      <td>September 23, 2016</td>\n",
       "      <td>10</td>\n",
       "    </tr>\n",
       "  </tbody>\n",
       "</table>\n",
       "</div>"
      ],
      "text/plain": [
       "              drugName                condition  rating                date  \\\n",
       "131531  Levonorgestrel  Emergency Contraception     1.0  September 23, 2016   \n",
       "143768          Plan B  Emergency Contraception     1.0  September 23, 2016   \n",
       "178703  Levonorgestrel  Emergency Contraception     1.0  September 23, 2016   \n",
       "191001          Plan B  Emergency Contraception     1.0  September 23, 2016   \n",
       "\n",
       "        usefulCount  \n",
       "131531           10  \n",
       "143768           10  \n",
       "178703           10  \n",
       "191001           10  "
      ]
     },
     "metadata": {},
     "output_type": "display_data"
    }
   ],
   "source": [
    "show_review(178703)"
   ]
  },
  {
   "cell_type": "markdown",
   "id": "73d87e77",
   "metadata": {},
   "source": [
    "This is curious. The same review is recorded four times. There are two identical pairs, where the difference between the pairs is the drug name. We can drop one from each pair, but this will need to be revisited."
   ]
  },
  {
   "cell_type": "code",
   "execution_count": 29,
   "id": "ef117e1a",
   "metadata": {},
   "outputs": [],
   "source": [
    "df.drop_duplicates(inplace=True)"
   ]
  },
  {
   "cell_type": "markdown",
   "id": "c9252721",
   "metadata": {},
   "source": [
    "# contractions\n",
    "\n",
    "Here is an example of a contraction."
   ]
  },
  {
   "cell_type": "code",
   "execution_count": 30,
   "id": "cb7689d9",
   "metadata": {},
   "outputs": [
    {
     "data": {
      "text/plain": [
       "'I&#039;m glad'"
      ]
     },
     "execution_count": 30,
     "metadata": {},
     "output_type": "execute_result"
    }
   ],
   "source": [
    "df.review[3][56:69]"
   ]
  },
  {
   "cell_type": "markdown",
   "id": "20f7b9ce",
   "metadata": {},
   "source": [
    "Here is how the html function fixes it."
   ]
  },
  {
   "cell_type": "code",
   "execution_count": 31,
   "id": "3df72e34",
   "metadata": {},
   "outputs": [
    {
     "data": {
      "text/plain": [
       "\"I'm glad\""
      ]
     },
     "execution_count": 31,
     "metadata": {},
     "output_type": "execute_result"
    }
   ],
   "source": [
    "html.unescape(df.loc[3][2])[56:64]"
   ]
  },
  {
   "cell_type": "markdown",
   "id": "ddc3e51e",
   "metadata": {},
   "source": [
    "Here is how the contractions function fixes (the html function's fix of) it."
   ]
  },
  {
   "cell_type": "code",
   "execution_count": 32,
   "id": "0d29974f",
   "metadata": {},
   "outputs": [
    {
     "data": {
      "text/plain": [
       "'I am glad'"
      ]
     },
     "execution_count": 32,
     "metadata": {},
     "output_type": "execute_result"
    }
   ],
   "source": [
    "contractions.fix(html.unescape(df.loc[3][2]))[56:65]"
   ]
  },
  {
   "cell_type": "markdown",
   "id": "ef748dda",
   "metadata": {},
   "source": [
    "Here is an instance of \"ain't\" with the same functions applied."
   ]
  },
  {
   "cell_type": "code",
   "execution_count": 33,
   "id": "1789498e",
   "metadata": {},
   "outputs": [
    {
     "data": {
      "text/plain": [
       "'I ain&#039;t complaining'"
      ]
     },
     "execution_count": 33,
     "metadata": {},
     "output_type": "execute_result"
    }
   ],
   "source": [
    "df.review.loc[507][75:99]"
   ]
  },
  {
   "cell_type": "code",
   "execution_count": 34,
   "id": "c177c6cf",
   "metadata": {},
   "outputs": [
    {
     "data": {
      "text/plain": [
       "\"I ain't complaining\""
      ]
     },
     "execution_count": 34,
     "metadata": {},
     "output_type": "execute_result"
    }
   ],
   "source": [
    "html.unescape(df.review.loc[507])[75:94]"
   ]
  },
  {
   "cell_type": "code",
   "execution_count": 35,
   "id": "44d4b4e2",
   "metadata": {},
   "outputs": [
    {
     "data": {
      "text/plain": [
       "'I are not complaining'"
      ]
     },
     "execution_count": 35,
     "metadata": {},
     "output_type": "execute_result"
    }
   ],
   "source": [
    "contractions.fix(html.unescape(df.review.loc[507]))[75:96]"
   ]
  },
  {
   "cell_type": "code",
   "execution_count": 36,
   "id": "cf8a60db",
   "metadata": {},
   "outputs": [
    {
     "data": {
      "text/plain": [
       "53"
      ]
     },
     "execution_count": 36,
     "metadata": {},
     "output_type": "execute_result"
    }
   ],
   "source": [
    "len(df[df.review.str.contains('ain&#039;t')])"
   ]
  },
  {
   "cell_type": "markdown",
   "id": "a8044c39",
   "metadata": {},
   "source": [
    "There are 53 instances of \"ain't\".\n",
    "\n",
    "I'm currently having difficulty downloading the package that appropriately fixes \"ain't\" into \"is not\" or \"are not\" etc. This shouldn't matter after I remove stop words. I think it will be helpful to exclude negatives like \"no\" and \"not\" from the stop words. It could certainly be of help to look for bigrams like \"not good\"."
   ]
  },
  {
   "cell_type": "code",
   "execution_count": 37,
   "id": "a3cf81f4",
   "metadata": {},
   "outputs": [],
   "source": [
    "df.review = df.review.apply(lambda x: html.unescape(x))"
   ]
  },
  {
   "cell_type": "markdown",
   "id": "3884fcb4",
   "metadata": {},
   "source": [
    "# make some dummy dfs to use"
   ]
  },
  {
   "cell_type": "code",
   "execution_count": 38,
   "id": "933dfee6",
   "metadata": {},
   "outputs": [
    {
     "data": {
      "text/plain": [
       "85967"
      ]
     },
     "execution_count": 38,
     "metadata": {},
     "output_type": "execute_result"
    }
   ],
   "source": [
    "df_old = df.copy()\n",
    "len(df_old[df_old.duplicated(subset = df_old.columns.difference(['drugName']))])"
   ]
  },
  {
   "cell_type": "code",
   "execution_count": 39,
   "id": "ebc73c5e",
   "metadata": {},
   "outputs": [
    {
     "data": {
      "text/plain": [
       "19420"
      ]
     },
     "execution_count": 39,
     "metadata": {},
     "output_type": "execute_result"
    }
   ],
   "source": [
    "df_bc = df_old.drop(df_old[df_old.condition != 'Birth Control'].index)\n",
    "df_bc.reset_index(inplace=True)\n",
    "df_bc.drop(columns='index', inplace=True)\n",
    "len(df_bc[df_bc.duplicated(subset = df_bc.columns.difference(['drugName']))])"
   ]
  },
  {
   "cell_type": "code",
   "execution_count": 40,
   "id": "f0ca8b39",
   "metadata": {},
   "outputs": [
    {
     "data": {
      "text/plain": [
       "5072"
      ]
     },
     "execution_count": 40,
     "metadata": {},
     "output_type": "execute_result"
    }
   ],
   "source": [
    "df_20000 = df_bc[df_bc.index < 20000]\n",
    "len(df_20000[df_20000.duplicated(subset = df_20000.columns.difference(['drugName']))])"
   ]
  },
  {
   "cell_type": "code",
   "execution_count": 41,
   "id": "2f82ab63",
   "metadata": {},
   "outputs": [
    {
     "data": {
      "text/plain": [
       "1241"
      ]
     },
     "execution_count": 41,
     "metadata": {},
     "output_type": "execute_result"
    }
   ],
   "source": [
    "df_10000 = df_bc[df_bc.index < 10000]\n",
    "len(df_10000[df_10000.duplicated(subset = df_10000.columns.difference(['drugName']))])"
   ]
  },
  {
   "cell_type": "code",
   "execution_count": 42,
   "id": "e34777c6",
   "metadata": {},
   "outputs": [
    {
     "data": {
      "text/plain": [
       "310"
      ]
     },
     "execution_count": 42,
     "metadata": {},
     "output_type": "execute_result"
    }
   ],
   "source": [
    "df_5000 = df_bc[df_bc.index < 5000]\n",
    "len(df_5000[df_5000.duplicated(subset = df_5000.columns.difference(['drugName']))])"
   ]
  },
  {
   "cell_type": "code",
   "execution_count": 43,
   "id": "8dd151c6",
   "metadata": {},
   "outputs": [
    {
     "data": {
      "text/plain": [
       "50"
      ]
     },
     "execution_count": 43,
     "metadata": {},
     "output_type": "execute_result"
    }
   ],
   "source": [
    "df_2000 = df_bc[df_bc.index < 2000]\n",
    "len(df_2000[df_2000.duplicated(subset = df_2000.columns.difference(['drugName']))])"
   ]
  },
  {
   "cell_type": "markdown",
   "id": "7dab4cc9",
   "metadata": {},
   "source": [
    "# *I messed this up because I did not restore the list bucket_B in the third trial of 2,000 or 5,000*"
   ]
  },
  {
   "cell_type": "markdown",
   "id": "c0a61f88",
   "metadata": {},
   "source": [
    "# experiment: 2,000 records // 50 duplicates"
   ]
  },
  {
   "cell_type": "code",
   "execution_count": 44,
   "id": "d54b1e83",
   "metadata": {},
   "outputs": [],
   "source": [
    "df = df_2000.copy()"
   ]
  },
  {
   "cell_type": "code",
   "execution_count": 45,
   "id": "a7754fd1",
   "metadata": {},
   "outputs": [],
   "source": [
    "df.drop(columns='drugName', inplace=True)"
   ]
  },
  {
   "cell_type": "code",
   "execution_count": 46,
   "id": "6baa69e0",
   "metadata": {},
   "outputs": [
    {
     "name": "stdout",
     "output_type": "stream",
     "text": [
      "CPU times: user 5.74 ms, sys: 1.39 ms, total: 7.13 ms\n",
      "Wall time: 5.74 ms\n"
     ]
    }
   ],
   "source": [
    "%%time\n",
    "bucket_A = df[df.duplicated].index.tolist()\n",
    "bucket_B = df[~df.index.isin(bucket_A)].index.tolist()"
   ]
  },
  {
   "cell_type": "code",
   "execution_count": 47,
   "id": "68b28d9b",
   "metadata": {},
   "outputs": [
    {
     "name": "stdout",
     "output_type": "stream",
     "text": [
      "50\n",
      "CPU times: user 13.6 s, sys: 39.2 ms, total: 13.6 s\n",
      "Wall time: 13.7 s\n"
     ]
    }
   ],
   "source": [
    "%%time\n",
    "found_pairs = 0\n",
    "for i in bucket_A:\n",
    "    for j in bucket_B:\n",
    "        if df.loc[i].equals(df.loc[j]):\n",
    "            found_pairs += 1\n",
    "print(found_pairs)"
   ]
  },
  {
   "cell_type": "code",
   "execution_count": 48,
   "id": "fb2ab654",
   "metadata": {},
   "outputs": [
    {
     "name": "stdout",
     "output_type": "stream",
     "text": [
      "50\n",
      "CPU times: user 3.53 s, sys: 13 ms, total: 3.55 s\n",
      "Wall time: 3.58 s\n"
     ]
    }
   ],
   "source": [
    "%%time\n",
    "found_pairs = 0\n",
    "for i in bucket_A:\n",
    "    for j in bucket_B:\n",
    "        if df.loc[i].equals(df.loc[j]):\n",
    "            found_pairs += 1\n",
    "            bucket_B.remove(j)\n",
    "            break\n",
    "print(found_pairs)"
   ]
  },
  {
   "cell_type": "code",
   "execution_count": 49,
   "id": "3b118324",
   "metadata": {},
   "outputs": [
    {
     "name": "stdout",
     "output_type": "stream",
     "text": [
      "50\n",
      "CPU times: user 3.47 s, sys: 11.3 ms, total: 3.48 s\n",
      "Wall time: 3.5 s\n"
     ]
    }
   ],
   "source": [
    "%%time\n",
    "found_pairs = 0\n",
    "twins = []\n",
    "bucket_B = df[~df.index.isin(bucket_A)].index.tolist()\n",
    "for i in bucket_A:\n",
    "    for j in bucket_B:\n",
    "        if df.loc[i].equals(df.loc[j]):\n",
    "            found_pairs += 1\n",
    "            bucket_B.remove(j)\n",
    "            twins.append([i,j])\n",
    "            break\n",
    "print(found_pairs)"
   ]
  },
  {
   "cell_type": "markdown",
   "id": "3cd59314",
   "metadata": {},
   "source": [
    "# experiment: 5,000 records // 310 duplicates"
   ]
  },
  {
   "cell_type": "code",
   "execution_count": 50,
   "id": "48e4e6ae",
   "metadata": {},
   "outputs": [],
   "source": [
    "df = df_5000.copy()"
   ]
  },
  {
   "cell_type": "code",
   "execution_count": 51,
   "id": "6fc47289",
   "metadata": {},
   "outputs": [],
   "source": [
    "df.drop(columns='drugName', inplace=True)"
   ]
  },
  {
   "cell_type": "code",
   "execution_count": 52,
   "id": "9d50c626",
   "metadata": {},
   "outputs": [
    {
     "name": "stdout",
     "output_type": "stream",
     "text": [
      "CPU times: user 12.5 ms, sys: 1.52 ms, total: 14 ms\n",
      "Wall time: 13.3 ms\n"
     ]
    }
   ],
   "source": [
    "%%time\n",
    "bucket_A = df[df.duplicated].index.tolist()\n",
    "bucket_B = df[~df.index.isin(bucket_A)].index.tolist()"
   ]
  },
  {
   "cell_type": "code",
   "execution_count": 53,
   "id": "a6f0bffe",
   "metadata": {},
   "outputs": [
    {
     "name": "stdout",
     "output_type": "stream",
     "text": [
      "310\n",
      "CPU times: user 3min 53s, sys: 881 ms, total: 3min 54s\n",
      "Wall time: 3min 57s\n"
     ]
    }
   ],
   "source": [
    "%%time\n",
    "found_pairs = 0\n",
    "for i in bucket_A:\n",
    "    for j in bucket_B:\n",
    "        if df.loc[i].equals(df.loc[j]):\n",
    "            found_pairs += 1\n",
    "print(found_pairs)"
   ]
  },
  {
   "cell_type": "code",
   "execution_count": 54,
   "id": "8f9a043c",
   "metadata": {},
   "outputs": [
    {
     "name": "stdout",
     "output_type": "stream",
     "text": [
      "310\n",
      "CPU times: user 1min 17s, sys: 237 ms, total: 1min 17s\n",
      "Wall time: 1min 18s\n"
     ]
    }
   ],
   "source": [
    "%%time\n",
    "found_pairs = 0\n",
    "for i in bucket_A:\n",
    "    for j in bucket_B:\n",
    "        if df.loc[i].equals(df.loc[j]):\n",
    "            found_pairs += 1\n",
    "            bucket_B.remove(j)\n",
    "            break\n",
    "print(found_pairs)"
   ]
  },
  {
   "cell_type": "code",
   "execution_count": 55,
   "id": "416b2063",
   "metadata": {},
   "outputs": [
    {
     "name": "stdout",
     "output_type": "stream",
     "text": [
      "310\n",
      "CPU times: user 1min 17s, sys: 251 ms, total: 1min 18s\n",
      "Wall time: 1min 18s\n"
     ]
    }
   ],
   "source": [
    "%%time\n",
    "found_pairs = 0\n",
    "twins = []\n",
    "bucket_B = df[~df.index.isin(bucket_A)].index.tolist()\n",
    "for i in bucket_A:\n",
    "    for j in bucket_B:\n",
    "        if df.loc[i].equals(df.loc[j]):\n",
    "            found_pairs += 1\n",
    "            bucket_B.remove(j)\n",
    "            twins.append([i,j])\n",
    "            break\n",
    "print(found_pairs)"
   ]
  },
  {
   "cell_type": "code",
   "execution_count": 56,
   "id": "c0710887",
   "metadata": {},
   "outputs": [
    {
     "ename": "NameError",
     "evalue": "name 'error' is not defined",
     "output_type": "error",
     "traceback": [
      "\u001b[0;31m---------------------------------------------------------------------------\u001b[0m",
      "\u001b[0;31mNameError\u001b[0m                                 Traceback (most recent call last)",
      "\u001b[0;32m<ipython-input-56-ded28046d863>\u001b[0m in \u001b[0;36m<module>\u001b[0;34m\u001b[0m\n\u001b[0;32m----> 1\u001b[0;31m \u001b[0merror\u001b[0m\u001b[0;34m\u001b[0m\u001b[0;34m\u001b[0m\u001b[0m\n\u001b[0m",
      "\u001b[0;31mNameError\u001b[0m: name 'error' is not defined"
     ]
    }
   ],
   "source": [
    "error"
   ]
  },
  {
   "cell_type": "markdown",
   "id": "c9b96445",
   "metadata": {},
   "source": [
    "# experiment: 39,499 records // 19,420 duplicates"
   ]
  },
  {
   "cell_type": "code",
   "execution_count": null,
   "id": "977b78b7",
   "metadata": {},
   "outputs": [],
   "source": [
    "df = df_bc.copy()"
   ]
  },
  {
   "cell_type": "code",
   "execution_count": null,
   "id": "c0c8022b",
   "metadata": {},
   "outputs": [],
   "source": [
    "df.drop(columns='drugName', inplace=True)"
   ]
  },
  {
   "cell_type": "code",
   "execution_count": null,
   "id": "78030af0",
   "metadata": {},
   "outputs": [],
   "source": [
    "%%time\n",
    "bucket_A = df[df.duplicated].index.tolist()\n",
    "bucket_B = df[~df.index.isin(bucket_A)].index.tolist()"
   ]
  },
  {
   "cell_type": "code",
   "execution_count": null,
   "id": "257b54e2",
   "metadata": {},
   "outputs": [],
   "source": [
    "%%time\n",
    "found_pairs = 0\n",
    "twins = []\n",
    "for i in bucket_A:\n",
    "    for j in bucket_B:\n",
    "        if df.loc[i].equals(df.loc[j]):\n",
    "            found_pairs += 1\n",
    "            bucket_B.remove(j)\n",
    "            twins.append([i,j])\n",
    "            break\n",
    "print(found_pairs)"
   ]
  },
  {
   "cell_type": "markdown",
   "id": "c51fd8aa",
   "metadata": {},
   "source": [
    "# attempt to fix twin duplicates problem"
   ]
  },
  {
   "cell_type": "code",
   "execution_count": null,
   "id": "676f0f0c",
   "metadata": {},
   "outputs": [],
   "source": [
    "df[df.duplicated(subset=['review', 'rating', 'date', 'usefulCount'])]"
   ]
  },
  {
   "cell_type": "code",
   "execution_count": null,
   "id": "102c62da",
   "metadata": {},
   "outputs": [],
   "source": [
    "df['condition'] = 'Birth Control'"
   ]
  },
  {
   "cell_type": "code",
   "execution_count": null,
   "id": "62ad6b84",
   "metadata": {},
   "outputs": [],
   "source": [
    "show_review(96)"
   ]
  },
  {
   "cell_type": "code",
   "execution_count": null,
   "id": "4e82ba32",
   "metadata": {},
   "outputs": [],
   "source": [
    "assert(df.index.max() == len(df)) - 1"
   ]
  },
  {
   "cell_type": "code",
   "execution_count": null,
   "id": "0ef818fb",
   "metadata": {},
   "outputs": [],
   "source": [
    "twin_dates = []\n",
    "for i in df[df.duplicated(subset=['review', 'rating', 'date', 'usefulCount'])].index:\n",
    "    twin = df[df.date == df.loc[i].date]\n",
    "    twin_dates.append(len(twin))"
   ]
  },
  {
   "cell_type": "code",
   "execution_count": null,
   "id": "d38313cc",
   "metadata": {},
   "outputs": [],
   "source": [
    "max(twin_dates)"
   ]
  },
  {
   "cell_type": "code",
   "execution_count": null,
   "id": "1b20c5c5",
   "metadata": {},
   "outputs": [],
   "source": [
    "len(twin_dates)"
   ]
  },
  {
   "cell_type": "code",
   "execution_count": null,
   "id": "858db9a4",
   "metadata": {},
   "outputs": [],
   "source": [
    "found_pairs = 0\n",
    "\n",
    "for i in df[df.duplicated(subset=['review', 'rating', 'date', 'usefulCount'])].index:\n",
    "    for j in df[~df.duplicated(subset=['review', 'rating', 'date', 'usefulCount'])].index:\n",
    "        if df.loc[i].review == df.loc[j].review and \\\n",
    "        df.loc[i].rating == df.loc[j].rating and \\\n",
    "        df.loc[i].date == df.loc[j].date and \\\n",
    "        df.loc[i].usefulCount == df.loc[j].usefulCount:\n",
    "            found_pair = True\n",
    "            found_pairs += 1\n",
    "            break\n",
    "\n",
    "print(found_pairs)"
   ]
  },
  {
   "cell_type": "code",
   "execution_count": null,
   "id": "68bcbb0a",
   "metadata": {},
   "outputs": [],
   "source": [
    "found_pairs"
   ]
  },
  {
   "cell_type": "markdown",
   "id": "0230d462",
   "metadata": {},
   "source": [
    "# end"
   ]
  }
 ],
 "metadata": {
  "kernelspec": {
   "display_name": "Python (learn-env)",
   "language": "python",
   "name": "learn-env"
  },
  "language_info": {
   "codemirror_mode": {
    "name": "ipython",
    "version": 3
   },
   "file_extension": ".py",
   "mimetype": "text/x-python",
   "name": "python",
   "nbconvert_exporter": "python",
   "pygments_lexer": "ipython3",
   "version": "3.8.5"
  }
 },
 "nbformat": 4,
 "nbformat_minor": 5
}
