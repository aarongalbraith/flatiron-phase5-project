{
 "cells": [
  {
   "cell_type": "markdown",
   "id": "9cd5cc29",
   "metadata": {},
   "source": [
    "https://archive.ics.uci.edu/dataset/462/drug+review+dataset+drugs+com"
   ]
  },
  {
   "cell_type": "markdown",
   "id": "6f83ff7e",
   "metadata": {},
   "source": [
    "# Flatiron Phase 5 Project\n",
    "\n",
    "## Aaron Galbraith\n",
    "\n",
    "https://www.linkedin.com/in/aarongalbraith \\\n",
    "https://github.com/aarongalbraith\n",
    "\n",
    "### Submitted: November 21, 2023\n",
    "\n",
    "## working contents\n",
    "\n",
    "- **[functions](#functions)<br>**\n",
    "- **[rough overview](#rough-overview)<br>**\n",
    "- **[missing values](#missing-values)<br>**\n",
    "- **[duplicates](#duplicates)<br>**\n",
    "- **[brand / generic pairs](#brand-/-generic-pairs)<br>**\n",
    "- **[further exploration of duplicates (skip for now)](#further-exploration-of-duplicates-(skip-for-now))<br>**\n",
    "- **[contractions](#contractions)<br>**\n",
    "- **[dates](#dates)<br>**\n",
    "- **[ratings](#ratings)<br>**\n",
    "- **[focusing on birth control](#focusing-on-birth-control)<br>**\n",
    "- **[save and reload preprocessed set](#save-and-reload-preprocessed-set)<br>**\n",
    "- **[feature engineering ideas](#feature-engineering-ideas)<br>**\n",
    "- **[rudimentary word cloud maker](#rudimentary-word-cloud-maker)<br>**\n",
    "- **[end](#end)<br>**\n",
    "\n",
    "\n",
    "## Contents\n",
    "\n",
    "- **[Business Understanding](#Business-Understanding)<br>**\n",
    "- **[Data Understanding](#Data-Understanding)**<br>\n",
    "- **[Data Preparation](#Data-Preparation)**<br>\n",
    "- **[Exploration](#Exploration)**<br>\n",
    "- **[Modeling](#Modeling)**<br>\n",
    "- **[Evaluation](#Evaluation)**<br>\n",
    "- **[Recommendations](#Recommendations)<br>**\n",
    "- **[Further Inquiry](#Further-Inquiry)**<br>"
   ]
  },
  {
   "cell_type": "code",
   "execution_count": 1,
   "id": "dbbf0cd4",
   "metadata": {},
   "outputs": [],
   "source": [
    "import pandas as pd\n",
    "import matplotlib.pyplot as plt\n",
    "import numpy as np\n",
    "\n",
    "import nltk\n",
    "from nltk.tokenize import word_tokenize\n",
    "from nltk.stem import WordNetLemmatizer\n",
    "from nltk import FreqDist\n",
    "from nltk.corpus import stopwords\n",
    "import string\n",
    "from wordcloud import WordCloud\n",
    "\n",
    "import html\n",
    "import contractions\n",
    "\n",
    "import re\n",
    "\n",
    "from IPython.display import display\n",
    "\n",
    "from sklearn.model_selection import train_test_split\n",
    "\n",
    "from sklearn.metrics import confusion_matrix, plot_confusion_matrix, accuracy_score, precision_score, f1_score\n",
    "from sklearn.pipeline import Pipeline\n",
    "\n",
    "from sklearn.feature_extraction.text import TfidfVectorizer\n",
    "from sklearn.naive_bayes import MultinomialNB\n",
    "from sklearn.model_selection import train_test_split, GridSearchCV\n",
    "\n",
    "from pathlib import Path\n",
    "\n",
    "SEED = 1979\n",
    "\n",
    "do_grids = True"
   ]
  },
  {
   "cell_type": "code",
   "execution_count": 2,
   "id": "70a9e299",
   "metadata": {},
   "outputs": [],
   "source": [
    "d1 = pd.read_csv('../data/drugsComTrain_raw.tsv', delimiter='\\t', encoding='latin-1')\n",
    "d2 = pd.read_csv('../data/drugsComTest_raw.tsv', delimiter='\\t', encoding='latin-1')\n",
    "df = pd.concat([d1,d2]).reset_index().drop(columns=['Unnamed: 0', 'index'])"
   ]
  },
  {
   "cell_type": "markdown",
   "id": "b1534835",
   "metadata": {},
   "source": [
    "# functions"
   ]
  },
  {
   "cell_type": "code",
   "execution_count": 3,
   "id": "d66383b7",
   "metadata": {},
   "outputs": [],
   "source": [
    "def show_review(index):\n",
    "    print(df.review.loc[index])\n",
    "    display(df[df.review == df.loc[index].review][['drugName', 'condition', 'rating', 'date', 'usefulCount']])"
   ]
  },
  {
   "cell_type": "code",
   "execution_count": 4,
   "id": "6b9c56e8",
   "metadata": {},
   "outputs": [],
   "source": [
    "# a function that generates a word cloud of a given list of words\n",
    "def make_wordcloud(wordlist, colormap='Greens', title=None):\n",
    "    # instantiate wordcloud\n",
    "    wordcloud = WordCloud(\n",
    "        width=600,\n",
    "        height=400,\n",
    "        colormap=colormap,\n",
    "        collocations = True\n",
    "    )\n",
    "    return wordcloud.generate(','.join(wordlist))"
   ]
  },
  {
   "cell_type": "code",
   "execution_count": 5,
   "id": "ea6ee6e7",
   "metadata": {},
   "outputs": [],
   "source": [
    "# a function that plots the word cloud\n",
    "def plot_wordcloud(wordcloud):\n",
    "    # plot wordcloud\n",
    "    plt.figure(figsize = (12, 15)) \n",
    "    plt.imshow(wordcloud) \n",
    "    plt.axis('off');"
   ]
  },
  {
   "cell_type": "code",
   "execution_count": 6,
   "id": "59d13a85",
   "metadata": {},
   "outputs": [],
   "source": [
    "def plot_useful(feature, low=0.15, high=0.85):\n",
    "    X = range(int(df[feature].quantile(low)), int(df[feature].quantile(high)))\n",
    "    Y = []\n",
    "    for x in X:\n",
    "        Y.append(df[df[feature] == x].usefulCount.mean())\n",
    "    fig, ax = plt.subplots()\n",
    "    ax.plot(X,Y);"
   ]
  },
  {
   "cell_type": "markdown",
   "id": "b636d3e6",
   "metadata": {},
   "source": [
    "# rough overview"
   ]
  },
  {
   "cell_type": "code",
   "execution_count": 7,
   "id": "892c96e6",
   "metadata": {},
   "outputs": [
    {
     "data": {
      "text/html": [
       "<div>\n",
       "<style scoped>\n",
       "    .dataframe tbody tr th:only-of-type {\n",
       "        vertical-align: middle;\n",
       "    }\n",
       "\n",
       "    .dataframe tbody tr th {\n",
       "        vertical-align: top;\n",
       "    }\n",
       "\n",
       "    .dataframe thead th {\n",
       "        text-align: right;\n",
       "    }\n",
       "</style>\n",
       "<table border=\"1\" class=\"dataframe\">\n",
       "  <thead>\n",
       "    <tr style=\"text-align: right;\">\n",
       "      <th></th>\n",
       "      <th>drugName</th>\n",
       "      <th>condition</th>\n",
       "      <th>review</th>\n",
       "      <th>rating</th>\n",
       "      <th>date</th>\n",
       "      <th>usefulCount</th>\n",
       "    </tr>\n",
       "  </thead>\n",
       "  <tbody>\n",
       "    <tr>\n",
       "      <th>0</th>\n",
       "      <td>Valsartan</td>\n",
       "      <td>Left Ventricular Dysfunction</td>\n",
       "      <td>\"It has no side effect, I take it in combinati...</td>\n",
       "      <td>9.0</td>\n",
       "      <td>May 20, 2012</td>\n",
       "      <td>27</td>\n",
       "    </tr>\n",
       "    <tr>\n",
       "      <th>1</th>\n",
       "      <td>Guanfacine</td>\n",
       "      <td>ADHD</td>\n",
       "      <td>\"My son is halfway through his fourth week of ...</td>\n",
       "      <td>8.0</td>\n",
       "      <td>April 27, 2010</td>\n",
       "      <td>192</td>\n",
       "    </tr>\n",
       "    <tr>\n",
       "      <th>2</th>\n",
       "      <td>Lybrel</td>\n",
       "      <td>Birth Control</td>\n",
       "      <td>\"I used to take another oral contraceptive, wh...</td>\n",
       "      <td>5.0</td>\n",
       "      <td>December 14, 2009</td>\n",
       "      <td>17</td>\n",
       "    </tr>\n",
       "    <tr>\n",
       "      <th>3</th>\n",
       "      <td>Ortho Evra</td>\n",
       "      <td>Birth Control</td>\n",
       "      <td>\"This is my first time using any form of birth...</td>\n",
       "      <td>8.0</td>\n",
       "      <td>November 3, 2015</td>\n",
       "      <td>10</td>\n",
       "    </tr>\n",
       "    <tr>\n",
       "      <th>4</th>\n",
       "      <td>Buprenorphine / naloxone</td>\n",
       "      <td>Opiate Dependence</td>\n",
       "      <td>\"Suboxone has completely turned my life around...</td>\n",
       "      <td>9.0</td>\n",
       "      <td>November 27, 2016</td>\n",
       "      <td>37</td>\n",
       "    </tr>\n",
       "  </tbody>\n",
       "</table>\n",
       "</div>"
      ],
      "text/plain": [
       "                   drugName                     condition  \\\n",
       "0                 Valsartan  Left Ventricular Dysfunction   \n",
       "1                Guanfacine                          ADHD   \n",
       "2                    Lybrel                 Birth Control   \n",
       "3                Ortho Evra                 Birth Control   \n",
       "4  Buprenorphine / naloxone             Opiate Dependence   \n",
       "\n",
       "                                              review  rating  \\\n",
       "0  \"It has no side effect, I take it in combinati...     9.0   \n",
       "1  \"My son is halfway through his fourth week of ...     8.0   \n",
       "2  \"I used to take another oral contraceptive, wh...     5.0   \n",
       "3  \"This is my first time using any form of birth...     8.0   \n",
       "4  \"Suboxone has completely turned my life around...     9.0   \n",
       "\n",
       "                date  usefulCount  \n",
       "0       May 20, 2012           27  \n",
       "1     April 27, 2010          192  \n",
       "2  December 14, 2009           17  \n",
       "3   November 3, 2015           10  \n",
       "4  November 27, 2016           37  "
      ]
     },
     "execution_count": 7,
     "metadata": {},
     "output_type": "execute_result"
    }
   ],
   "source": [
    "df.head()"
   ]
  },
  {
   "cell_type": "code",
   "execution_count": 8,
   "id": "8d5567af",
   "metadata": {},
   "outputs": [
    {
     "data": {
      "text/plain": [
       "(215063, 6)"
      ]
     },
     "execution_count": 8,
     "metadata": {},
     "output_type": "execute_result"
    }
   ],
   "source": [
    "df.shape"
   ]
  },
  {
   "cell_type": "code",
   "execution_count": 9,
   "id": "badb75e5",
   "metadata": {},
   "outputs": [
    {
     "name": "stdout",
     "output_type": "stream",
     "text": [
      "<class 'pandas.core.frame.DataFrame'>\n",
      "RangeIndex: 215063 entries, 0 to 215062\n",
      "Data columns (total 6 columns):\n",
      " #   Column       Non-Null Count   Dtype  \n",
      "---  ------       --------------   -----  \n",
      " 0   drugName     215063 non-null  object \n",
      " 1   condition    213869 non-null  object \n",
      " 2   review       215063 non-null  object \n",
      " 3   rating       215063 non-null  float64\n",
      " 4   date         215063 non-null  object \n",
      " 5   usefulCount  215063 non-null  int64  \n",
      "dtypes: float64(1), int64(1), object(4)\n",
      "memory usage: 9.8+ MB\n"
     ]
    }
   ],
   "source": [
    "df.info()"
   ]
  },
  {
   "cell_type": "markdown",
   "id": "da259c1a",
   "metadata": {},
   "source": [
    "There are some missing condition labels."
   ]
  },
  {
   "cell_type": "code",
   "execution_count": 10,
   "id": "87b5d8d7",
   "metadata": {},
   "outputs": [
    {
     "data": {
      "text/plain": [
       "drugName\n",
       "Levonorgestrel                       4930\n",
       "Etonogestrel                         4421\n",
       "Ethinyl estradiol / norethindrone    3753\n",
       "Nexplanon                            2892\n",
       "Ethinyl estradiol / norgestimate     2790\n",
       "                                     ... \n",
       "Melpaque HP                             1\n",
       "Cortisone                               1\n",
       "Reyataz                                 1\n",
       "Striant                                 1\n",
       "Allergy DN PE                           1\n",
       "Name: count, Length: 3671, dtype: int64"
      ]
     },
     "execution_count": 10,
     "metadata": {},
     "output_type": "execute_result"
    }
   ],
   "source": [
    "df.drugName.value_counts()"
   ]
  },
  {
   "cell_type": "code",
   "execution_count": 11,
   "id": "1ccb70c8",
   "metadata": {},
   "outputs": [
    {
     "data": {
      "text/plain": [
       "120.0"
      ]
     },
     "execution_count": 11,
     "metadata": {},
     "output_type": "execute_result"
    }
   ],
   "source": [
    "df.drugName.value_counts().quantile(.90)"
   ]
  },
  {
   "cell_type": "markdown",
   "id": "c6cd1bde",
   "metadata": {},
   "source": [
    "There are 3,671 unique drug names, and 10% of the drug names have more than 120 reviews."
   ]
  },
  {
   "cell_type": "code",
   "execution_count": 12,
   "id": "06c03bad",
   "metadata": {},
   "outputs": [
    {
     "data": {
      "text/plain": [
       "condition\n",
       "Birth Control                                   38436\n",
       "Depression                                      12164\n",
       "Pain                                             8245\n",
       "Anxiety                                          7812\n",
       "Acne                                             7435\n",
       "                                                ...  \n",
       "Systemic Candidiasis                                1\n",
       "Wilson's Disease                                    1\n",
       "unctional Gastric Disorde                           1\n",
       "Sepsis                                              1\n",
       "105</span> users found this comment helpful.        1\n",
       "Name: count, Length: 916, dtype: int64"
      ]
     },
     "execution_count": 12,
     "metadata": {},
     "output_type": "execute_result"
    }
   ],
   "source": [
    "df.condition.value_counts()"
   ]
  },
  {
   "cell_type": "code",
   "execution_count": 13,
   "id": "41816a71",
   "metadata": {},
   "outputs": [
    {
     "data": {
      "text/plain": [
       "332.5"
      ]
     },
     "execution_count": 13,
     "metadata": {},
     "output_type": "execute_result"
    }
   ],
   "source": [
    "df.condition.value_counts().quantile(.90)"
   ]
  },
  {
   "cell_type": "markdown",
   "id": "2f74c26d",
   "metadata": {},
   "source": [
    "There are 916 unique conditionis, and 10% of the conditions have more than 332 reviews."
   ]
  },
  {
   "cell_type": "code",
   "execution_count": 14,
   "id": "5c2ca75f",
   "metadata": {},
   "outputs": [
    {
     "data": {
      "text/plain": [
       "rating\n",
       "10.0    68005\n",
       "9.0     36708\n",
       "1.0     28918\n",
       "8.0     25046\n",
       "7.0     12547\n",
       "5.0     10723\n",
       "2.0      9265\n",
       "3.0      8718\n",
       "6.0      8462\n",
       "4.0      6671\n",
       "Name: count, dtype: int64"
      ]
     },
     "execution_count": 14,
     "metadata": {},
     "output_type": "execute_result"
    }
   ],
   "source": [
    "df.rating.value_counts()"
   ]
  },
  {
   "cell_type": "code",
   "execution_count": 15,
   "id": "c1797585",
   "metadata": {},
   "outputs": [
    {
     "data": {
      "image/png": "[encoded data removed]",
      "text/plain": [
       "<Figure size 432x288 with 1 Axes>"
      ]
     },
     "metadata": {
      "needs_background": "light"
     },
     "output_type": "display_data"
    }
   ],
   "source": [
    "df.rating.hist(bins=10);"
   ]
  },
  {
   "cell_type": "markdown",
   "id": "f671b396",
   "metadata": {},
   "source": [
    "Most of the conditions lie at the extremes, and more of them appear to be at the positive extreme."
   ]
  },
  {
   "cell_type": "code",
   "execution_count": 16,
   "id": "415c7e2b",
   "metadata": {},
   "outputs": [
    {
     "data": {
      "text/plain": [
       "condition\n",
       "1     1869\n",
       "2      782\n",
       "3      334\n",
       "4      195\n",
       "5      122\n",
       "6       83\n",
       "7       52\n",
       "8       51\n",
       "9       38\n",
       "11      20\n",
       "10      19\n",
       "12      19\n",
       "14      18\n",
       "13      18\n",
       "15      11\n",
       "18       8\n",
       "16       6\n",
       "17       5\n",
       "0        4\n",
       "20       3\n",
       "23       3\n",
       "19       3\n",
       "25       2\n",
       "22       2\n",
       "39       1\n",
       "24       1\n",
       "31       1\n",
       "21       1\n",
       "Name: count, dtype: int64"
      ]
     },
     "execution_count": 16,
     "metadata": {},
     "output_type": "execute_result"
    }
   ],
   "source": [
    "df.groupby('drugName').condition.nunique().value_counts()"
   ]
  },
  {
   "cell_type": "markdown",
   "id": "915cac59",
   "metadata": {},
   "source": [
    "This means that, for example, 1869 drugs treat 1 condition only, etc."
   ]
  },
  {
   "cell_type": "code",
   "execution_count": 17,
   "id": "232a7379",
   "metadata": {},
   "outputs": [
    {
     "data": {
      "text/plain": [
       "drugName\n",
       "2      188\n",
       "1      166\n",
       "4       78\n",
       "3       72\n",
       "5       44\n",
       "      ... \n",
       "127      1\n",
       "95       1\n",
       "81       1\n",
       "56       1\n",
       "39       1\n",
       "Name: count, Length: 71, dtype: int64"
      ]
     },
     "execution_count": 17,
     "metadata": {},
     "output_type": "execute_result"
    }
   ],
   "source": [
    "df.groupby('condition').drugName.nunique().value_counts()"
   ]
  },
  {
   "cell_type": "markdown",
   "id": "8e546910",
   "metadata": {},
   "source": [
    "This means that 188 conditions are treatable by two drugs, etc."
   ]
  },
  {
   "cell_type": "code",
   "execution_count": 18,
   "id": "2ad3e0b8",
   "metadata": {
    "scrolled": true
   },
   "outputs": [
    {
     "name": "stdout",
     "output_type": "stream",
     "text": [
      "drugName\n",
      "Levonorgestrel                                                                                      4930\n",
      "Etonogestrel                                                                                        4421\n",
      "Ethinyl estradiol / norethindrone                                                                   3753\n",
      "Nexplanon                                                                                           2892\n",
      "Ethinyl estradiol / norgestimate                                                                    2790\n",
      "Ethinyl estradiol / levonorgestrel                                                                  2503\n",
      "Phentermine                                                                                         2085\n",
      "Sertraline                                                                                          1868\n",
      "Escitalopram                                                                                        1747\n",
      "Mirena                                                                                              1673\n",
      "Implanon                                                                                            1506\n",
      "Gabapentin                                                                                          1415\n",
      "Bupropion                                                                                           1369\n",
      "Miconazole                                                                                          1344\n",
      "Venlafaxine                                                                                         1338\n",
      "Medroxyprogesterone                                                                                 1308\n",
      "Citalopram                                                                                          1308\n",
      "Duloxetine                                                                                          1256\n",
      "Lexapro                                                                                             1250\n",
      "Bupropion / naltrexone                                                                              1249\n",
      "Contrave                                                                                            1215\n",
      "Metronidazole                                                                                       1207\n",
      "Drospirenone / ethinyl estradiol                                                                    1184\n",
      "Depo-Provera                                                                                        1155\n",
      "Clonazepam                                                                                          1146\n",
      "Cymbalta                                                                                            1142\n",
      "Tramadol                                                                                            1138\n",
      "Varenicline                                                                                         1090\n",
      "Zoloft                                                                                              1086\n",
      "Quetiapine                                                                                          1077\n",
      "Skyla                                                                                               1076\n",
      "Liraglutide                                                                                         1021\n",
      "Fluoxetine                                                                                          1011\n",
      "Tioconazole                                                                                          981\n",
      "Alprazolam                                                                                           930\n",
      "Amitriptyline                                                                                        921\n",
      "Lo Loestrin Fe                                                                                       914\n",
      "Chantix                                                                                              862\n",
      "Paroxetine                                                                                           853\n",
      "Doxycycline                                                                                          842\n",
      "Ethinyl estradiol / etonogestrel                                                                     835\n",
      "Pregabalin                                                                                           828\n",
      "NuvaRing                                                                                             826\n",
      "Magnesium sulfate / potassium sulfate / sodium sulfate                                               823\n",
      "Suprep Bowel Prep Kit                                                                                807\n",
      "Copper                                                                                               801\n",
      "Plan B                                                                                               795\n",
      "Trazodone                                                                                            795\n",
      "Desvenlafaxine                                                                                       795\n",
      "Topiramate                                                                                           789\n",
      "Lamotrigine                                                                                          784\n",
      "Lorcaserin                                                                                           774\n",
      "Belviq                                                                                               755\n",
      "Pristiq                                                                                              730\n",
      "Mirtazapine                                                                                          727\n",
      "Azithromycin                                                                                         726\n",
      "Sprintec                                                                                             706\n",
      "Bisacodyl                                                                                            704\n",
      "Sulfamethoxazole / trimethoprim                                                                      704\n",
      "Isotretinoin                                                                                         699\n",
      "Desogestrel / ethinyl estradiol                                                                      687\n",
      "Acetaminophen / hydrocodone                                                                          686\n",
      "Vortioxetine                                                                                         682\n",
      "Nitrofurantoin                                                                                       665\n",
      "Aripiprazole                                                                                         665\n",
      "Celexa                                                                                               662\n",
      "Loestrin 24 Fe                                                                                       649\n",
      "Oxycodone                                                                                            644\n",
      "Zolpidem                                                                                             632\n",
      "Propranolol                                                                                          628\n",
      "Lisdexamfetamine                                                                                     626\n",
      "Prozac                                                                                               624\n",
      "Buspirone                                                                                            623\n",
      "Diclofenac                                                                                           617\n",
      "Buprenorphine / naloxone                                                                             607\n",
      "Xanax                                                                                                605\n",
      "Methylphenidate                                                                                      604\n",
      "Lyrica                                                                                               603\n",
      "Vyvanse                                                                                              601\n",
      "Paxil                                                                                                600\n",
      "Hydroxyzine                                                                                          595\n",
      "Abilify                                                                                              593\n",
      "Lorazepam                                                                                            593\n",
      "Norethindrone                                                                                        557\n",
      "Vilazodone                                                                                           555\n",
      "Plan B One-Step                                                                                      553\n",
      "Klonopin                                                                                             553\n",
      "Adapalene / benzoyl peroxide                                                                         549\n",
      "Amphetamine / dextroamphetamine                                                                      549\n",
      "Effexor XR                                                                                           522\n",
      "Microgestin Fe 1 / 20                                                                                518\n",
      "Acetaminophen / oxycodone                                                                            516\n",
      "Viibryd                                                                                              512\n",
      "Clindamycin                                                                                          510\n",
      "Ethinyl estradiol / norelgestromin                                                                   509\n",
      "ParaGard                                                                                             509\n",
      "Dulcolax                                                                                             508\n",
      "Tri-Sprintec                                                                                         501\n",
      "Phentermine / topiramate                                                                             494\n",
      "Trintellix                                                                                           485\n",
      "Epiduo                                                                                               485\n",
      "Yaz                                                                                                  482\n",
      "Ciprofloxacin                                                                                        478\n",
      "Suboxone                                                                                             475\n",
      "Lurasidone                                                                                           472\n",
      "Saxenda                                                                                              468\n",
      "Victoza                                                                                              466\n",
      "Topamax                                                                                              448\n",
      "Lamictal                                                                                             445\n",
      "Methadone                                                                                            442\n",
      "Adipex-P                                                                                             441\n",
      "Accutane                                                                                             441\n",
      "Aluminum chloride hexahydrate                                                                        439\n",
      "Latuda                                                                                               431\n",
      "Linaclotide                                                                                          431\n",
      "Seroquel                                                                                             428\n",
      "Amoxicillin / clavulanate                                                                            424\n",
      "Levofloxacin                                                                                         424\n",
      "Qsymia                                                                                               422\n",
      "Tadalafil                                                                                            421\n",
      "Diazepam                                                                                             418\n",
      "Linzess                                                                                              417\n",
      "Naproxen                                                                                             399\n",
      "Clonidine                                                                                            397\n",
      "Wellbutrin                                                                                           397\n",
      "Clarithromycin                                                                                       393\n",
      "Prednisone                                                                                           391\n",
      "Testosterone                                                                                         391\n",
      "Lisinopril                                                                                           390\n",
      "Ambien                                                                                               383\n",
      "Adalimumab                                                                                           382\n",
      "Levothyroxine                                                                                        378\n",
      "Cyclobenzaprine                                                                                      377\n",
      "Humira                                                                                               376\n",
      "Minocycline                                                                                          370\n",
      "TriNessa                                                                                             370\n",
      "Olanzapine                                                                                           369\n",
      "Cialis                                                                                               368\n",
      "Buprenorphine                                                                                        365\n",
      "Benzoyl peroxide / clindamycin                                                                       358\n",
      "Effexor                                                                                              355\n",
      "Hydromorphone                                                                                        350\n",
      "BuSpar                                                                                               346\n",
      "Metformin                                                                                            344\n",
      "Aviane                                                                                               344\n",
      "Sumatriptan                                                                                          343\n",
      "Tretinoin                                                                                            333\n",
      "Nortriptyline                                                                                        327\n",
      "Risperidone                                                                                          326\n",
      "Meloxicam                                                                                            324\n",
      "Fentanyl                                                                                             318\n",
      "Macrobid                                                                                             317\n",
      "Spironolactone                                                                                       315\n",
      "Estradiol                                                                                            310\n",
      "Divalproex sodium                                                                                    301\n",
      "Ativan                                                                                               301\n",
      "Dulaglutide                                                                                          299\n",
      "Valacyclovir                                                                                         298\n",
      "Tapentadol                                                                                           293\n",
      "Polyethylene glycol 3350 with electrolytes                                                           293\n",
      "Ortho Evra                                                                                           291\n",
      "Atomoxetine                                                                                          291\n",
      "Metoprolol                                                                                           290\n",
      "Trulicity                                                                                            289\n",
      "Junel Fe 1 / 20                                                                                      286\n",
      "Milnacipran                                                                                          285\n",
      "Apri                                                                                                 284\n",
      "Ortho Tri-Cyclen Lo                                                                                  283\n",
      "Levaquin                                                                                             282\n",
      "Lutera                                                                                               282\n",
      "Strattera                                                                                            282\n",
      "Seasonique                                                                                           281\n",
      "Modafinil                                                                                            280\n",
      "Ondansetron                                                                                          280\n",
      "Morphine                                                                                             280\n",
      "Savella                                                                                              279\n",
      "Benzonatate                                                                                          274\n",
      "Adderall                                                                                             273\n",
      "Suvorexant                                                                                           273\n",
      "Bactrim                                                                                              273\n",
      "Ledipasvir / sofosbuvir                                                                              272\n",
      "Armodafinil                                                                                          272\n",
      "Liletta                                                                                              272\n",
      "Concerta                                                                                             268\n",
      "Harvoni                                                                                              268\n",
      "Belsomra                                                                                             265\n",
      "Propofol                                                                                             264\n",
      "Dilaudid                                                                                             264\n",
      "Fluconazole                                                                                          261\n",
      "Wellbutrin XL                                                                                        260\n",
      "Oseltamivir                                                                                          255\n",
      "OxyContin                                                                                            253\n",
      "Asenapine                                                                                            250\n",
      "Ziprasidone                                                                                          250\n",
      "Amlodipine                                                                                           250\n",
      "Exenatide                                                                                            248\n",
      "Tamiflu                                                                                              247\n",
      "Montelukast                                                                                          245\n",
      "Tamsulosin                                                                                           243\n",
      "Lithium                                                                                              240\n",
      "Temazepam                                                                                            239\n",
      "Adapalene                                                                                            239\n",
      "Mesalamine                                                                                           237\n",
      "Naltrexone                                                                                           233\n",
      "Yasmin                                                                                               232\n",
      "Carbamazepine                                                                                        232\n",
      "Sildenafil                                                                                           231\n",
      "Levetiracetam                                                                                        231\n",
      "Saphris                                                                                              229\n",
      "Augmentin                                                                                            227\n",
      "Ketorolac                                                                                            227\n",
      "Gildess Fe 1 / 20                                                                                    226\n",
      "Losartan                                                                                             225\n",
      "Terbinafine                                                                                          225\n",
      "Nuvigil                                                                                              225\n",
      "Geodon                                                                                               224\n",
      "Doxepin                                                                                              223\n",
      "Baclofen                                                                                             219\n",
      "OnabotulinumtoxinA                                                                                   219\n",
      "Cipro                                                                                                215\n",
      "Docosanol                                                                                            215\n",
      "Magnesium citrate                                                                                    214\n",
      "Oxybutynin                                                                                           213\n",
      "Zyprexa                                                                                              212\n",
      "Drysol                                                                                               212\n",
      "Eszopiclone                                                                                          211\n",
      "Orlistat                                                                                             210\n",
      "Imiquimod                                                                                            210\n",
      "Botox                                                                                                209\n",
      "Metoclopramide                                                                                       208\n",
      "Thyroid desiccated                                                                                   208\n",
      "Rizatriptan                                                                                          206\n",
      "Norco                                                                                                206\n",
      "Nucynta                                                                                              206\n",
      "Kyleena                                                                                              206\n",
      "Hypercare                                                                                            206\n",
      "Methylprednisolone                                                                                   205\n",
      "Xulane                                                                                               205\n",
      "Abreva                                                                                               205\n",
      "Valtrex                                                                                              204\n",
      "Minastrin 24 Fe                                                                                      203\n",
      "Etanercept                                                                                           203\n",
      "Cephalexin                                                                                           203\n",
      "Leuprolide                                                                                           200\n",
      "MoviPrep                                                                                             200\n",
      "Ethinyl estradiol / norgestrel                                                                       199\n",
      "Ultram                                                                                               199\n",
      "Valium                                                                                               199\n",
      "Ropinirole                                                                                           198\n",
      "Drospirenone / ethinyl estradiol / levomefolate calcium                                              197\n",
      "Depakote                                                                                             196\n",
      "Canagliflozin                                                                                        196\n",
      "Tizanidine                                                                                           196\n",
      "Apremilast                                                                                           195\n",
      "Enbrel                                                                                               192\n",
      "Percocet                                                                                             192\n",
      "Orsythia                                                                                             192\n",
      "Invokana                                                                                             191\n",
      "Oxymorphone                                                                                          189\n",
      "Otezla                                                                                               188\n",
      "Carisoprodol                                                                                         185\n",
      "Mononessa                                                                                            183\n",
      "Dapsone                                                                                              183\n",
      "Lubiprostone                                                                                         181\n",
      "Neurontin                                                                                            180\n",
      "Ortho Tri-Cyclen                                                                                     180\n",
      "Guaifenesin / pseudoephedrine                                                                        179\n",
      "Cefdinir                                                                                             179\n",
      "Oxcarbazepine                                                                                        178\n",
      "Acetaminophen / butalbital / caffeine                                                                178\n",
      "Amitiza                                                                                              178\n",
      "Promethazine                                                                                         178\n",
      "Flagyl                                                                                               177\n",
      "Gianvi                                                                                               176\n",
      "Guanfacine                                                                                           173\n",
      "Lunesta                                                                                              173\n",
      "Bydureon                                                                                             173\n",
      "Methocarbamol                                                                                        172\n",
      "Bactrim DS                                                                                           171\n",
      "Dextromethorphan                                                                                     171\n",
      "Levora                                                                                               170\n",
      "Remeron                                                                                              169\n",
      "Aczone                                                                                               169\n",
      "Levocetirizine                                                                                       168\n",
      "Sodium hyaluronate                                                                                   167\n",
      "Moxifloxacin                                                                                         166\n",
      "Keppra                                                                                               164\n",
      "Tri-Previfem                                                                                         163\n",
      "Seroquel XR                                                                                          163\n",
      "Zofran                                                                                               163\n",
      "Duac                                                                                                 162\n",
      "Methotrexate                                                                                         162\n",
      "Guaifenesin                                                                                          160\n",
      "Viagra                                                                                               158\n",
      "Mucinex D                                                                                            157\n",
      "Flomax                                                                                               156\n",
      "Hydroxychloroquine                                                                                   156\n",
      "Elavil                                                                                               155\n",
      "Diphenhydramine                                                                                      154\n",
      "Risperdal                                                                                            151\n",
      "Flexeril                                                                                             151\n",
      "Fluvoxamine                                                                                          151\n",
      "Chateal                                                                                              151\n",
      "Celecoxib                                                                                            151\n",
      "Atenolol                                                                                             151\n",
      "Toradol                                                                                              149\n",
      "Adderall XR                                                                                          149\n",
      "Cetirizine                                                                                           149\n",
      "Imitrex                                                                                              149\n",
      "Xyzal                                                                                                148\n",
      "Butrans                                                                                              147\n",
      "Amoxicillin                                                                                          147\n",
      "Nebivolol                                                                                            147\n",
      "Polyethylene glycol 3350                                                                             146\n",
      "Fluticasone                                                                                          145\n",
      "Provigil                                                                                             145\n",
      "Dicyclomine                                                                                          145\n",
      "Vistaril                                                                                             144\n",
      "Voltaren Gel                                                                                         144\n",
      "Dexlansoprazole                                                                                      144\n",
      "Soma                                                                                                 143\n",
      "Acamprosate                                                                                          143\n",
      "Alesse                                                                                               142\n",
      "Avelox                                                                                               141\n",
      "Triamcinolone                                                                                        141\n",
      "Meclizine                                                                                            140\n",
      "Infliximab                                                                                           140\n",
      "Reglan                                                                                               139\n",
      "Bystolic                                                                                             139\n",
      "Differin                                                                                             138\n",
      "Indomethacin                                                                                         138\n",
      "Naloxegol                                                                                            138\n",
      "Acyclovir                                                                                            137\n",
      "Armour Thyroid                                                                                       137\n",
      "Paliperidone                                                                                         137\n",
      "Reclipsen                                                                                            136\n",
      "Pramipexole                                                                                          135\n",
      "Movantik                                                                                             135\n",
      "Celebrex                                                                                             133\n",
      "Levomilnacipran                                                                                      133\n",
      "Melatonin                                                                                            131\n",
      "Acetaminophen / codeine                                                                              131\n",
      "Lortab                                                                                               131\n",
      "Singulair                                                                                            131\n",
      "Cyproheptadine                                                                                       131\n",
      "Remicade                                                                                             130\n",
      "Generess Fe                                                                                          130\n",
      "Euflexxa                                                                                             130\n",
      "Beyaz                                                                                                129\n",
      "Lidocaine                                                                                            129\n",
      "Dextroamphetamine                                                                                    128\n",
      "Monistat 3-Day Combination Pack                                                                      127\n",
      "Ocella                                                                                               127\n",
      "Mirabegron                                                                                           127\n",
      "Vardenafil                                                                                           126\n",
      "Eluxadoline                                                                                          125\n",
      "Dexmethylphenidate                                                                                   125\n",
      "Viberzi                                                                                              124\n",
      "Phendimetrazine                                                                                      124\n",
      "Pantoprazole                                                                                         123\n",
      "Fetzima                                                                                              122\n",
      "Fioricet                                                                                             122\n",
      "Ivermectin                                                                                           122\n",
      "Campral                                                                                              122\n",
      "Estarylla                                                                                            121\n",
      "Hydrocodone                                                                                          121\n",
      "Omeprazole                                                                                           120\n",
      "Cryselle                                                                                             120\n",
      "Blisovi 24 Fe                                                                                        120\n",
      "Vicodin                                                                                              120\n",
      "Brexpiprazole                                                                                        120\n",
      "Synthroid                                                                                            119\n",
      "Magnesium hydroxide                                                                                  119\n",
      "Chlordiazepoxide                                                                                     118\n",
      "Hylan g-f 20                                                                                         118\n",
      "Sronyx                                                                                               118\n",
      "Eletriptan                                                                                           117\n",
      "Nicotine                                                                                             117\n",
      "Anastrozole                                                                                          115\n",
      "Esomeprazole                                                                                         115\n",
      "Relpax                                                                                               115\n",
      "Hyaluronan                                                                                           114\n",
      "Diethylpropion                                                                                       113\n",
      "Voltaren                                                                                             113\n",
      "Acetaminophen / aspirin / caffeine                                                                   113\n",
      "Atorvastatin                                                                                         112\n",
      "Prepopik                                                                                             111\n",
      "Citric acid / magnesium oxide / sodium picosulfate                                                   111\n",
      "Dexilant                                                                                             111\n",
      "Aubra                                                                                                110\n",
      "MiraLax                                                                                              110\n",
      "Intuniv                                                                                              109\n",
      "Mobic                                                                                                109\n",
      "Verapamil                                                                                            109\n",
      "Albuterol                                                                                            108\n",
      "LoSeasonique                                                                                         108\n",
      "Scopolamine                                                                                          108\n",
      "Lupron Depot                                                                                         108\n",
      "Rivaroxaban                                                                                          107\n",
      "Clomipramine                                                                                         107\n",
      "Mometasone                                                                                           107\n",
      "Clindamycin / tretinoin                                                                              106\n",
      "Jolessa                                                                                              106\n",
      "Solifenacin                                                                                          105\n",
      "Delsym                                                                                               104\n",
      "Budesonide / formoterol                                                                              104\n",
      "Ibuprofen                                                                                            104\n",
      "Ustekinumab                                                                                          104\n",
      "Glatiramer                                                                                           103\n",
      "Doxylamine                                                                                           103\n",
      "Rexulti                                                                                              103\n",
      "Tranexamic acid                                                                                      103\n",
      "Nexium                                                                                               103\n",
      "Omalizumab                                                                                           103\n",
      "Zithromax                                                                                            103\n",
      "Orthovisc                                                                                            103\n",
      "Prazosin                                                                                             103\n",
      "Chlorpheniramine / hydrocodone                                                                       102\n",
      "Tegretol                                                                                             102\n",
      "Zyrtec                                                                                               102\n",
      "Librium                                                                                              102\n",
      "Symbicort                                                                                            102\n",
      "Myrbetriq                                                                                            102\n",
      "Monistat 7-Day Combination Pack                                                                      101\n",
      "Silenor                                                                                              101\n",
      "Hydrochlorothiazide                                                                                  101\n",
      "Xarelto                                                                                              101\n",
      "Brimonidine                                                                                          101\n",
      "Stelara                                                                                              101\n",
      "Phillips' Milk of Magnesia                                                                           101\n",
      "Olmesartan                                                                                           100\n",
      "Ritalin                                                                                              100\n",
      "Copaxone                                                                                              99\n",
      "Levitra                                                                                               99\n",
      "Jublia                                                                                                99\n",
      "Efinaconazole                                                                                         99\n",
      "VESIcare                                                                                              97\n",
      "Wellbutrin SR                                                                                         97\n",
      "Zolmitriptan                                                                                          96\n",
      "Carvedilol                                                                                            95\n",
      "Metaxalone                                                                                            95\n",
      "Provera                                                                                               95\n",
      "Efavirenz / emtricitabine / tenofovir                                                                 95\n",
      "Phenazopyridine                                                                                       94\n",
      "Tylenol with Codeine #3                                                                               94\n",
      "Claravis                                                                                              94\n",
      "Maxalt                                                                                                93\n",
      "Acetazolamide                                                                                         93\n",
      "L-methylfolate                                                                                        91\n",
      "Atripla                                                                                               91\n",
      "Naproxen / sumatriptan                                                                                91\n",
      "Atarax                                                                                                91\n",
      "Fexofenadine                                                                                          90\n",
      "Ranitidine                                                                                            90\n",
      "Oxymetazoline                                                                                         90\n",
      "Requip                                                                                                90\n",
      "Fluticasone / salmeterol                                                                              89\n",
      "Fluorouracil                                                                                          89\n",
      "Silodosin                                                                                             89\n",
      "Letrozole                                                                                             89\n",
      "Rosuvastatin                                                                                          88\n",
      "Monistat 7                                                                                            88\n",
      "Axiron                                                                                                88\n",
      "Mirapex                                                                                               88\n",
      "Nora-Be                                                                                               88\n",
      "Solodyn                                                                                               87\n",
      "Testim                                                                                                87\n",
      "Flecainide                                                                                            87\n",
      "Lifitegrast                                                                                           86\n",
      "Aleve                                                                                                 86\n",
      "Camrese                                                                                               85\n",
      "Clobetasol                                                                                            85\n",
      "Lamisil                                                                                               85\n",
      "Lacosamide                                                                                            85\n",
      "Diltiazem                                                                                             85\n",
      "Benicar                                                                                               84\n",
      "Vivitrol                                                                                              84\n",
      "Treximet                                                                                              84\n",
      "Prochlorperazine                                                                                      84\n",
      "Plaquenil                                                                                             84\n",
      "Bismuth subcitrate potassium / metronidazole / tetracycline                                           84\n",
      "Jolivette                                                                                             84\n",
      "Mirvaso                                                                                               83\n",
      "Opana                                                                                                 83\n",
      "Valsartan                                                                                             83\n",
      "Tussionex Pennkinetic                                                                                 83\n",
      "Simvastatin                                                                                           83\n",
      "Zanaflex                                                                                              82\n",
      "Vimpat                                                                                                82\n",
      "Xiidra                                                                                                82\n",
      "Ortho Micronor                                                                                        82\n",
      "Subutex                                                                                               82\n",
      "Doxylamine / pyridoxine                                                                               81\n",
      "Pylera                                                                                                81\n",
      "Diflucan                                                                                              81\n",
      "Xolair                                                                                                81\n",
      "Portia                                                                                                81\n",
      "Cariprazine                                                                                           80\n",
      "Mucinex                                                                                               80\n",
      "Phenergan                                                                                             80\n",
      "Kariva                                                                                                80\n",
      "Synvisc-One                                                                                           80\n",
      "Diclegis                                                                                              80\n",
      "MS Contin                                                                                             79\n",
      "Crestor                                                                                               79\n",
      "AndroGel                                                                                              79\n",
      "Aspirin / butalbital / caffeine                                                                       79\n",
      "Finasteride                                                                                           79\n",
      "Homatropine / hydrocodone                                                                             79\n",
      "Zyban                                                                                                 79\n",
      "Advair Diskus                                                                                         79\n",
      "Rapaflo                                                                                               78\n",
      "Alprostadil                                                                                           78\n",
      "Microgestin Fe 1.5 / 30                                                                               77\n",
      "Luvox                                                                                                 77\n",
      "Cobicistat / elvitegravir / emtricitabine / tenofovir                                                 77\n",
      "Stribild                                                                                              77\n",
      "Opana ER                                                                                              77\n",
      "Minoxidil                                                                                             76\n",
      "Skelaxin                                                                                              76\n",
      "Zaleplon                                                                                              76\n",
      "Vraylar                                                                                               76\n",
      "Natalizumab                                                                                           76\n",
      "Ulipristal                                                                                            75\n",
      "Rituximab                                                                                             75\n",
      "Tysabri                                                                                               74\n",
      "Lialda                                                                                                74\n",
      "Sodium oxybate                                                                                        74\n",
      "Aftera                                                                                                74\n",
      "Denosumab                                                                                             73\n",
      "Invega                                                                                                73\n",
      "Flonase                                                                                               73\n",
      "Tri-Lo-Sprintec                                                                                       73\n",
      "Acetaminophen / propoxyphene                                                                          73\n",
      "Soolantra                                                                                             73\n",
      "Dabigatran                                                                                            72\n",
      "Azelaic acid                                                                                          72\n",
      "Cefuroxime                                                                                            71\n",
      "Xyrem                                                                                                 71\n",
      "ella                                                                                                  71\n",
      "Dexedrine                                                                                             71\n",
      "Xenical                                                                                               70\n",
      "Alli                                                                                                  70\n",
      "Duragesic                                                                                             70\n",
      "Fingolimod                                                                                            70\n",
      "Abacavir / dolutegravir / lamivudine                                                                  70\n",
      "Pradaxa                                                                                               70\n",
      "Zarah                                                                                                 70\n",
      "Byetta                                                                                                69\n",
      "Triumeq                                                                                               69\n",
      "Deplin                                                                                                69\n",
      "Bentyl                                                                                                68\n",
      "Cholestyramine                                                                                        68\n",
      "Transderm-Scop                                                                                        68\n",
      "Gilenya                                                                                               68\n",
      "Sitagliptin                                                                                           67\n",
      "Ceftriaxone                                                                                           67\n",
      "Lansoprazole                                                                                          67\n",
      "Golimumab                                                                                             67\n",
      "Azelastine / fluticasone                                                                              67\n",
      "Tiotropium                                                                                            67\n",
      "Tacrolimus                                                                                            67\n",
      "Zonisamide                                                                                            67\n",
      "Dymista                                                                                               67\n",
      "Insulin glargine                                                                                      66\n",
      "Dexamethasone                                                                                         66\n",
      "Meperidine                                                                                            66\n",
      "Dapagliflozin                                                                                         65\n",
      "Budesonide                                                                                            65\n",
      "Ziana                                                                                                 65\n",
      "Taytulla                                                                                              65\n",
      "Hydrocodone / ibuprofen                                                                               65\n",
      "Depakote ER                                                                                           65\n",
      "Azathioprine                                                                                          65\n",
      "Prolia                                                                                                65\n",
      "Biaxin                                                                                                65\n",
      "Fentanyl Transdermal System                                                                           65\n",
      "Benzaclin                                                                                             64\n",
      "Phenytoin                                                                                             64\n",
      "Norvasc                                                                                               64\n",
      "Blisovi Fe 1 / 20                                                                                     64\n",
      "Sofosbuvir / velpatasvir                                                                              64\n",
      "Terconazole                                                                                           63\n",
      "Pentosan polysulfate sodium                                                                           63\n",
      "Interferon beta-1a                                                                                    63\n",
      "Zoledronic acid                                                                                       63\n",
      "Rocephin                                                                                              62\n",
      "Disulfiram                                                                                            62\n",
      "Nifedipine                                                                                            62\n",
      "Azelastine                                                                                            62\n",
      "Acetaminophen / dichloralphenazone / isometheptene mucate                                             62\n",
      "Daytrana                                                                                              62\n",
      "Fluticasone / vilanterol                                                                              62\n",
      "Breo Ellipta                                                                                          62\n",
      "Haloperidol                                                                                           61\n",
      "Focalin XR                                                                                            61\n",
      "Tessalon Perles                                                                                       61\n",
      "Lyza                                                                                                  61\n",
      "Amoxicillin / clarithromycin / lansoprazole                                                           61\n",
      "Ambien CR                                                                                             61\n",
      "Ramelteon                                                                                             61\n",
      "Januvia                                                                                               60\n",
      "Spiriva                                                                                               60\n",
      "Inderal                                                                                               60\n",
      "Zomig                                                                                                 60\n",
      "Allegra                                                                                               60\n",
      "Restoril                                                                                              60\n",
      "Rifaximin                                                                                             60\n",
      "Maxalt-MLT                                                                                            60\n",
      "Hyoscyamine                                                                                           60\n",
      "Elmiron                                                                                               60\n",
      "Epclusa                                                                                               59\n",
      "Olopatadine                                                                                           59\n",
      "Sulfasalazine                                                                                         59\n",
      "Doryx                                                                                                 59\n",
      "Safyral                                                                                               59\n",
      "Simponi                                                                                               58\n",
      "Microgestin 1 / 20                                                                                    58\n",
      "Fiorinal                                                                                              58\n",
      "Trileptal                                                                                             58\n",
      "Furosemide                                                                                            58\n",
      "Niacin                                                                                                58\n",
      "Insulin inhalation, rapid acting                                                                      58\n",
      "Senna                                                                                                 58\n",
      "Demerol                                                                                               57\n",
      "Teriparatide                                                                                          57\n",
      "Hysingla ER                                                                                           57\n",
      "Flector Patch                                                                                         57\n",
      "Etodolac                                                                                              57\n",
      "Multivitamin, prenatal                                                                                57\n",
      "Clomiphene                                                                                            57\n",
      "Meridia                                                                                               57\n",
      "Cyclosporine                                                                                          56\n",
      "Amphetamine                                                                                           56\n",
      "Colchicine                                                                                            56\n",
      "Nucynta ER                                                                                            55\n",
      "Diovan                                                                                                55\n",
      "Roxicodone                                                                                            55\n",
      "Cobicistat / elvitegravir / emtricitabine / tenofovir alafenamide                                     55\n",
      "Tranylcypromine                                                                                       55\n",
      "Farxiga                                                                                               55\n",
      "Oxytrol                                                                                               55\n",
      "St. john's wort                                                                                       55\n",
      "Conjugated estrogens                                                                                  55\n",
      "Genvoya                                                                                               55\n",
      "Acanya                                                                                                55\n",
      "Ethinyl estradiol / ethynodiol                                                                        54\n",
      "Empagliflozin                                                                                         54\n",
      "Megestrol                                                                                             54\n",
      "Pazopanib                                                                                             54\n",
      "Focalin                                                                                               54\n",
      "Dexbrompheniramine / pseudoephedrine                                                                  54\n",
      "Forteo                                                                                                54\n",
      "Eflornithine                                                                                          54\n",
      "Loryna                                                                                                54\n",
      "Afrezza                                                                                               54\n",
      "Codeine / guaifenesin                                                                                 54\n",
      "Ramipril                                                                                              54\n",
      "Primidone                                                                                             53\n",
      "Compazine                                                                                             53\n",
      "Azor                                                                                                  53\n",
      "Zubsolv                                                                                               53\n",
      "Rozerem                                                                                               53\n",
      "Apixaban                                                                                              53\n",
      "Amlodipine / olmesartan                                                                               53\n",
      "Lupron                                                                                                53\n",
      "Dalfampridine                                                                                         52\n",
      "Pentasa                                                                                               52\n",
      "Prevacid                                                                                              52\n",
      "Nabumetone                                                                                            52\n",
      "Ocular lubricant                                                                                      52\n",
      "Protonix                                                                                              52\n",
      "Colesevelam                                                                                           52\n",
      "Vaniqa                                                                                                52\n",
      "Ampyra                                                                                                52\n",
      "Fluoxetine / olanzapine                                                                               51\n",
      "Anafranil                                                                                             51\n",
      "Loratadine                                                                                            51\n",
      "Tinidazole                                                                                            51\n",
      "Jardiance                                                                                             51\n",
      "Estrace Vaginal Cream                                                                                 50\n",
      "Complera                                                                                              50\n",
      "Cozaar                                                                                                50\n",
      "Rabeprazole                                                                                           50\n",
      "Tenuate                                                                                               50\n",
      "Emtricitabine / rilpivirine / tenofovir                                                               50\n",
      "Lidoderm                                                                                              50\n",
      "Ortho Cyclen                                                                                          50\n",
      "Dilantin                                                                                              50\n",
      "Antabuse                                                                                              50\n",
      "Evolocumab                                                                                            49\n",
      "Xanax XR                                                                                              49\n",
      "Multivitamin                                                                                          49\n",
      "Belbuca                                                                                               49\n",
      "Asacol                                                                                                49\n",
      "Keflex                                                                                                49\n",
      "Butorphanol                                                                                           49\n",
      "Lysine                                                                                                49\n",
      "Fluocinolone / hydroquinone / tretinoin                                                               49\n",
      "Tirosint                                                                                              49\n",
      "Capsaicin                                                                                             48\n",
      "Tri-Luma                                                                                              48\n",
      "Fastin                                                                                                48\n",
      "Finacea                                                                                               48\n",
      "Allopurinol                                                                                           48\n",
      "Irbesartan                                                                                            48\n",
      "Votrient                                                                                              47\n",
      "Hydroxyprogesterone                                                                                   47\n",
      "Beclomethasone                                                                                        47\n",
      "Retin-A                                                                                               47\n",
      "Parnate                                                                                               47\n",
      "Lipitor                                                                                               47\n",
      "Arimidex                                                                                              47\n",
      "Makena                                                                                                47\n",
      "Chlordiazepoxide / clidinium                                                                          47\n",
      "Tamoxifen                                                                                             47\n",
      "Silver sulfadiazine                                                                                   47\n",
      "Dienogest / estradiol                                                                                 46\n",
      "Alfuzosin                                                                                             46\n",
      "Drixoral Cold and Allergy                                                                             46\n",
      "Sucralfate                                                                                            46\n",
      "Tolterodine                                                                                           46\n",
      "Betamethasone / calcipotriene                                                                         46\n",
      "Catapres                                                                                              46\n",
      "Imuran                                                                                                46\n",
      "Lysteda                                                                                               45\n",
      "Clopidogrel                                                                                           45\n",
      "Symbyax                                                                                               45\n",
      "Eliquis                                                                                               45\n",
      "Quasense                                                                                              45\n",
      "Prevpac                                                                                               45\n",
      "Clomid                                                                                                45\n",
      "Robaxin                                                                                               45\n",
      "Loratadine / pseudoephedrine                                                                          45\n",
      "Bunavail                                                                                              44\n",
      "Next Choice                                                                                           44\n",
      "Acetaminophen / tramadol                                                                              44\n",
      "Codeine / promethazine                                                                                44\n",
      "Pseudoephedrine                                                                                       44\n",
      "Secukinumab                                                                                           44\n",
      "Ranolazine                                                                                            43\n",
      "Donepezil                                                                                             43\n",
      "Sonata                                                                                                43\n",
      "Kadian                                                                                                43\n",
      "Hydrocortisone                                                                                        43\n",
      "Aciphex                                                                                               43\n",
      "Repatha                                                                                               43\n",
      "Toprol-XL                                                                                             43\n",
      "Junel Fe 1.5 / 30                                                                                     43\n",
      "Sofosbuvir                                                                                            42\n",
      "Chlorzoxazone                                                                                         42\n",
      "Xifaxan                                                                                               42\n",
      "Mycophenolate mofetil                                                                                 42\n",
      "Ezetimibe                                                                                             42\n",
      "Zovia                                                                                                 42\n",
      "Hydrochlorothiazide / triamterene                                                                     42\n",
      "Emollients                                                                                            42\n",
      "Plecanatide                                                                                           42\n",
      "Natazia                                                                                               42\n",
      "Morphine / naltrexone                                                                                 42\n",
      "Diclofenac / misoprostol                                                                              42\n",
      "Femara                                                                                                42\n",
      "Trulance                                                                                              42\n",
      "Nicoderm CQ                                                                                           42\n",
      "Propafenone                                                                                           42\n",
      "Dimenhydrinate                                                                                        42\n",
      "Carbidopa / levodopa                                                                                  42\n",
      "Oxazepam                                                                                              41\n",
      "Lactulose                                                                                             41\n",
      "Pitavastatin                                                                                          41\n",
      "Premarin                                                                                              41\n",
      "Nasacort                                                                                              41\n",
      "Cosentyx                                                                                              41\n",
      "Leflunomide                                                                                           41\n",
      "Sumavel DosePro                                                                                       41\n",
      "Zonegran                                                                                              41\n",
      "Sulfacetamide sodium / sulfur                                                                         41\n",
      "Loperamide                                                                                            41\n",
      "Livalo                                                                                                41\n",
      "Atropine / diphenoxylate                                                                              41\n",
      "Amrix                                                                                                 41\n",
      "Diamox                                                                                                40\n",
      "Phenelzine                                                                                            40\n",
      "Dofetilide                                                                                            40\n",
      "Afrin                                                                                                 40\n",
      "Chlorpromazine                                                                                        40\n",
      "Errin                                                                                                 40\n",
      "Amlodipine / valsartan                                                                                40\n",
      "Restasis                                                                                              40\n",
      "Insulin degludec                                                                                      40\n",
      "Omnicef                                                                                               40\n",
      "Metformin / sitagliptin                                                                               40\n",
      "Hydrochlorothiazide / lisinopril                                                                      39\n",
      "Embeda                                                                                                39\n",
      "Vicoprofen                                                                                            39\n",
      "Sovaldi                                                                                               39\n",
      "Acetaminophen                                                                                         39\n",
      "Nasonex                                                                                               39\n",
      "Roflumilast                                                                                           39\n",
      "Endocet                                                                                               39\n",
      "Benadryl                                                                                              39\n",
      "Azithromycin Dose Pack                                                                                39\n",
      "Exforge                                                                                               39\n",
      "Tresiba                                                                                               39\n",
      "Frovatriptan                                                                                          39\n",
      "Exemestane                                                                                            39\n",
      "Falmina                                                                                               38\n",
      "Sodium biphosphate / sodium phosphate                                                                 38\n",
      "Avanafil                                                                                              38\n",
      "Famciclovir                                                                                           38\n",
      "Glimepiride                                                                                           38\n",
      "Mefenamic acid                                                                                        38\n",
      "Zohydro ER                                                                                            38\n",
      "Librax                                                                                                38\n",
      "Triazolam                                                                                             38\n",
      "ProAir RespiClick                                                                                     38\n",
      "Stadol                                                                                                38\n",
      "Nature-Throid                                                                                         38\n",
      "Oracea                                                                                                38\n",
      "Daliresp                                                                                              37\n",
      "Elocon                                                                                                37\n",
      "Reclast                                                                                               37\n",
      "Neupro                                                                                                37\n",
      "Toviaz                                                                                                37\n",
      "Tikosyn                                                                                               37\n",
      "Hydrochlorothiazide / losartan                                                                        37\n",
      "Rotigotine                                                                                            37\n",
      "Tofacitinib                                                                                           37\n",
      "Nardil                                                                                                37\n",
      "Glipizide                                                                                             37\n",
      "Fesoterodine                                                                                          37\n",
      "Dronabinol                                                                                            37\n",
      "Welchol                                                                                               36\n",
      "Warfarin                                                                                              36\n",
      "Dulera                                                                                                36\n",
      "Penciclovir                                                                                           36\n",
      "Midazolam                                                                                             36\n",
      "Zofran ODT                                                                                            36\n",
      "Formoterol / mometasone                                                                               36\n",
      "Ranexa                                                                                                36\n",
      "Amiodarone                                                                                            36\n",
      "Atralin                                                                                               36\n",
      "Necon 1 / 35                                                                                          36\n",
      "Codeine                                                                                               36\n",
      "Frova                                                                                                 36\n",
      "Febuxostat                                                                                            36\n",
      "Stendra                                                                                               36\n",
      "Sklice                                                                                                35\n",
      "Liothyronine                                                                                          35\n",
      "Glucophage                                                                                            35\n",
      "Coreg                                                                                                 35\n",
      "Plavix                                                                                                35\n",
      "Metadate CD                                                                                           35\n",
      "Zetia                                                                                                 35\n",
      "Bonine                                                                                                35\n",
      "Camila                                                                                                35\n",
      "Viorele                                                                                               34\n",
      "Cabergoline                                                                                           34\n",
      "Unisom SleepTabs                                                                                      34\n",
      "Taclonex                                                                                              34\n",
      "Aldara                                                                                                34\n",
      "Zyclara                                                                                               34\n",
      "Qvar                                                                                                  34\n",
      "Janumet                                                                                               34\n",
      "Imipramine                                                                                            34\n",
      "Desyrel                                                                                               34\n",
      "Synvisc                                                                                               34\n",
      "Arthrotec                                                                                             34\n",
      "Selegiline                                                                                            33\n",
      "Fexofenadine / pseudoephedrine                                                                        33\n",
      "Dramamine                                                                                             33\n",
      "Seasonale                                                                                             33\n",
      "Progesterone                                                                                          33\n",
      "Denavir                                                                                               33\n",
      "Ketoconazole                                                                                          33\n",
      "Orphenadrine                                                                                          33\n",
      "Methylnaltrexone                                                                                      33\n",
      "Relistor                                                                                              33\n",
      "Fenofibrate                                                                                           33\n",
      "Gildess Fe 1.5 / 30                                                                                   33\n",
      "Xeljanz                                                                                               33\n",
      "Pimecrolimus                                                                                          33\n",
      "Nefazodone                                                                                            33\n",
      "Efudex                                                                                                32\n",
      "Trospium                                                                                              32\n",
      "Desonide                                                                                              32\n",
      "Pramoxine                                                                                             32\n",
      "Exalgo                                                                                                32\n",
      "Methadose                                                                                             32\n",
      "Yuvafem                                                                                               32\n",
      "Erlotinib                                                                                             32\n",
      "Isosorbide mononitrate                                                                                32\n",
      "Uloric                                                                                                32\n",
      "Sotalol                                                                                               32\n",
      "Paxil CR                                                                                              32\n",
      "Ceftin                                                                                                32\n",
      "Goserelin                                                                                             32\n",
      "Zoladex                                                                                               32\n",
      "Ciprodex                                                                                              31\n",
      "Pioglitazone                                                                                          31\n",
      "Claritin-D                                                                                            31\n",
      "Methamphetamine                                                                                       31\n",
      "Imatinib                                                                                              31\n",
      "Dimethyl fumarate                                                                                     31\n",
      "Avinza                                                                                                31\n",
      "Fluocinonide                                                                                          31\n",
      "Terazosin                                                                                             31\n",
      "Ciprofloxacin / dexamethasone                                                                         31\n",
      "Amlodipine / benazepril                                                                               31\n",
      "Tarceva                                                                                               31\n",
      "Dihydroergotamine                                                                                     30\n",
      "Naratriptan                                                                                           30\n",
      "Elidel                                                                                                30\n",
      "Telmisartan                                                                                           30\n",
      "Versed                                                                                                30\n",
      "Ultram ER                                                                                             30\n",
      "Prilosec                                                                                              30\n",
      "Monodox                                                                                               30\n",
      "Cataflam                                                                                              30\n",
      "Ixekizumab                                                                                            30\n",
      "Invega Sustenna                                                                                       30\n",
      "Linagliptin                                                                                           29\n",
      "Tecfidera                                                                                             29\n",
      "Pravastatin                                                                                           29\n",
      "Brisdelle                                                                                             29\n",
      "Alendronate                                                                                           29\n",
      "Lasix                                                                                                 29\n",
      "Bontril Slow Release                                                                                  29\n",
      "Thorazine                                                                                             29\n",
      "Dulcolax Laxative                                                                                     29\n",
      "Actos                                                                                                 29\n",
      "GoLYTELY                                                                                              29\n",
      "Benzoyl peroxide / erythromycin                                                                       29\n",
      "Phenylephrine                                                                                         29\n",
      "Doxazosin                                                                                             29\n",
      "Avonex                                                                                                29\n",
      "Iloperidone                                                                                           29\n",
      "Taltz                                                                                                 29\n",
      "Velivet                                                                                               28\n",
      "Valproic acid                                                                                         28\n",
      "Prednisolone                                                                                          28\n",
      "Gleevec                                                                                               28\n",
      "Eucrisa                                                                                               28\n",
      "Clobex                                                                                                28\n",
      "Crisaborole                                                                                           28\n",
      "Cheratussin AC                                                                                        28\n",
      "Teriflunomide                                                                                         28\n",
      "Zipsor                                                                                                28\n",
      "Almotriptan                                                                                           28\n",
      "Ibandronate                                                                                           28\n",
      "Levoxyl                                                                                               28\n",
      "Hycodan                                                                                               28\n",
      "Elbasvir / grazoprevir                                                                                28\n",
      "Zepatier                                                                                              28\n",
      "Methadone Diskets                                                                                     28\n",
      "Robaxin-750                                                                                           27\n",
      "Aubagio                                                                                               27\n",
      "Avapro                                                                                                27\n",
      "Benzoyl peroxide                                                                                      27\n",
      "Tradjenta                                                                                             27\n",
      "Estring                                                                                               27\n",
      "Pamelor                                                                                               27\n",
      "Erythromycin                                                                                          27\n",
      "Nadolol                                                                                               27\n",
      "Clozapine                                                                                             27\n",
      "Nivolumab                                                                                             27\n",
      "Acetaminophen / diphenhydramine                                                                       27\n",
      "Naprosyn                                                                                              27\n",
      "Omeprazole / sodium bicarbonate                                                                       27\n",
      "Lomotil                                                                                               27\n",
      "Hydromet                                                                                              27\n",
      "Pegfilgrastim                                                                                         26\n",
      "Amnesteem                                                                                             26\n",
      "Aspirin                                                                                               26\n",
      "Alirocumab                                                                                            26\n",
      "Neulasta                                                                                              26\n",
      "Relafen                                                                                               26\n",
      "Nalbuphine                                                                                            26\n",
      "CellCept                                                                                              26\n",
      "Dutasteride                                                                                           26\n",
      "Kapidex                                                                                               26\n",
      "Clorazepate                                                                                           26\n",
      "Hydrochlorothiazide / olmesartan                                                                      26\n",
      "Haldol                                                                                                26\n",
      "Tarina Fe 1 / 20                                                                                      26\n",
      "Albuterol / ipratropium                                                                               26\n",
      "Cambia                                                                                                25\n",
      "Pyridostigmine                                                                                        25\n",
      "Zantac 150                                                                                            25\n",
      "Previfem                                                                                              25\n",
      "Abatacept                                                                                             25\n",
      "Micardis                                                                                              25\n",
      "Lactobacillus acidophilus                                                                             25\n",
      "Esomeprazole / naproxen                                                                               25\n",
      "Fleet Enema                                                                                           25\n",
      "Desogen                                                                                               25\n",
      "Edex                                                                                                  25\n",
      "Memantine                                                                                             25\n",
      "Ibuprofen / pseudoephedrine                                                                           25\n",
      "Axert                                                                                                 25\n",
      "Aspirin / butalbital / caffeine / codeine                                                             25\n",
      "Chlorpheniramine                                                                                      25\n",
      "Praluent                                                                                              25\n",
      "Trolamine salicylate                                                                                  25\n",
      "Atropine / hyoscyamine / phenobarbital / scopolamine                                                  25\n",
      "Proctofoam                                                                                            25\n",
      "Betamethasone                                                                                         25\n",
      "Senokot                                                                                               25\n",
      "Methenamine                                                                                           24\n",
      "Orencia                                                                                               24\n",
      "Niaspan                                                                                               24\n",
      "Phosphorated carbohydrate solution                                                                    24\n",
      "Pancrelipase                                                                                          24\n",
      "Ultracet                                                                                              24\n",
      "Dronedarone                                                                                           24\n",
      "Vancomycin                                                                                            24\n",
      "Omega-3 polyunsaturated fatty acids                                                                   24\n",
      "Aliskiren                                                                                             24\n",
      "Linezolid                                                                                             24\n",
      "Indocin                                                                                               24\n",
      "Veltin                                                                                                24\n",
      "Bisoprolol / hydrochlorothiazide                                                                      24\n",
      "Emsam                                                                                                 24\n",
      "Gabapentin enacarbil                                                                                  24\n",
      "Tekturna                                                                                              24\n",
      "Amantadine                                                                                            24\n",
      "Protopic                                                                                              24\n",
      "Benicar HCT                                                                                           24\n",
      "Avodart                                                                                               24\n",
      "MetroGel-Vaginal                                                                                      24\n",
      "Roxicet                                                                                               23\n",
      "Malarone                                                                                              23\n",
      "Zyvox                                                                                                 23\n",
      "Atovaquone / proguanil                                                                                23\n",
      "Nystatin                                                                                              23\n",
      "Lantus                                                                                                23\n",
      "Ashlyna                                                                                               23\n",
      "My Way                                                                                                23\n",
      "Mupirocin                                                                                             23\n",
      "Zantac                                                                                                23\n",
      "Benadryl Allergy                                                                                      23\n",
      "Vivelle-Dot                                                                                           23\n",
      "Correctol                                                                                             23\n",
      "Nitroglycerin                                                                                         23\n",
      "Risedronate                                                                                           23\n",
      "Ticagrelor                                                                                            23\n",
      "Nubain                                                                                                23\n",
      "Itraconazole                                                                                          23\n",
      "Nicotrol Inhaler                                                                                      23\n",
      "Ciclopirox                                                                                            23\n",
      "Human papillomavirus vaccine                                                                          23\n",
      "Carafate                                                                                              23\n",
      "Fortesta                                                                                              23\n",
      "Capecitabine                                                                                          23\n",
      "Ciclesonide                                                                                           22\n",
      "Zegerid                                                                                               22\n",
      "Zelnorm                                                                                               22\n",
      "Staxyn                                                                                                22\n",
      "Desipramine                                                                                           22\n",
      "Pyridium                                                                                              22\n",
      "Nilotinib                                                                                             22\n",
      "Tri-Linyah                                                                                            22\n",
      "Vagifem                                                                                               22\n",
      "Caffeine / ergotamine                                                                                 22\n",
      "Advil                                                                                                 22\n",
      "Budeprion XL                                                                                          22\n",
      "Kerydin                                                                                               22\n",
      "Colcrys                                                                                               22\n",
      "Supartz                                                                                               22\n",
      "Tegretol XR                                                                                           22\n",
      "Acetaminophen / butalbital / caffeine / codeine                                                       22\n",
      "Halobetasol                                                                                           22\n",
      "Podofilox                                                                                             22\n",
      "Muse                                                                                                  22\n",
      "Boniva                                                                                                22\n",
      "Vimovo                                                                                                22\n",
      "Gardasil                                                                                              22\n",
      "Certolizumab                                                                                          22\n",
      "Dupilumab                                                                                             22\n",
      "Tavaborole                                                                                            22\n",
      "Cimzia                                                                                                22\n",
      "Tegaserod                                                                                             22\n",
      "Fanapt                                                                                                21\n",
      "Xylometazoline                                                                                        21\n",
      "Lorzone                                                                                               21\n",
      "Evekeo                                                                                                21\n",
      "Rituxan                                                                                               21\n",
      "Tetracycline                                                                                          21\n",
      "Perampanel                                                                                            21\n",
      "Emetrol                                                                                               21\n",
      "Alosetron                                                                                             21\n",
      "Candesartan                                                                                           21\n",
      "Insulin detemir                                                                                       21\n",
      "Advil Cold and Sinus                                                                                  21\n",
      "Propoxyphene                                                                                          21\n",
      "Marinol                                                                                               21\n",
      "Donnatal                                                                                              21\n",
      "Desoxyn                                                                                               21\n",
      "Ketamine                                                                                              21\n",
      "Desmopressin                                                                                          21\n",
      "Adzenys XR-ODT                                                                                        21\n",
      "Ketoprofen                                                                                            21\n",
      "Flurazepam                                                                                            21\n",
      "Dupixent                                                                                              21\n",
      "Vedolizumab                                                                                           21\n",
      "Fenofibric acid                                                                                       20\n",
      "Loestrin 21 1 / 20                                                                                    20\n",
      "Hydrocortisone / pramoxine                                                                            20\n",
      "Diphenhydramine / naproxen                                                                            20\n",
      "Nortrel 1 / 35                                                                                        20\n",
      "Entyvio                                                                                               20\n",
      "Drospirenone / estradiol                                                                              20\n",
      "Famotidine                                                                                            20\n",
      "Halcion                                                                                               20\n",
      "Piroxicam                                                                                             20\n",
      "Prograf                                                                                               20\n",
      "Cefprozil                                                                                             20\n",
      "Lastacaft                                                                                             20\n",
      "Angeliq                                                                                               20\n",
      "Sominex                                                                                               20\n",
      "Macrodantin                                                                                           20\n",
      "Dermal filler                                                                                         20\n",
      "Fycompa                                                                                               20\n",
      "Umeclidinium / vilanterol                                                                             20\n",
      "Alcaftadine                                                                                           20\n",
      "Bevacizumab                                                                                           20\n",
      "Androderm                                                                                             20\n",
      "Penicillin v potassium                                                                                20\n",
      "Rebif                                                                                                 20\n",
      "Arava                                                                                                 20\n",
      "Tenormin                                                                                              20\n",
      "Climara                                                                                               20\n",
      "Amerge                                                                                                20\n",
      "Vascepa                                                                                               19\n",
      "Imitrex Statdose                                                                                      19\n",
      "Chlorhexidine                                                                                         19\n",
      "Diprivan                                                                                              19\n",
      "Brilinta                                                                                              19\n",
      "Veramyst                                                                                              19\n",
      "Naloxone / pentazocine                                                                                19\n",
      "Darifenacin                                                                                           19\n",
      "Somatropin                                                                                            19\n",
      "Enablex                                                                                               19\n",
      "Dolophine                                                                                             19\n",
      "Balsalazide                                                                                           19\n",
      "Dutasteride / tamsulosin                                                                              19\n",
      "Epiduo Forte                                                                                          19\n",
      "Lotrel                                                                                                19\n",
      "Methyl salicylate                                                                                     19\n",
      "Ibrance                                                                                               19\n",
      "Multivitamin with minerals                                                                            19\n",
      "Sanctura                                                                                              19\n",
      "Horizant                                                                                              19\n",
      "Septra DS                                                                                             19\n",
      "Sunitinib                                                                                             19\n",
      "SMZ-TMP DS                                                                                            19\n",
      "Desoximetasone                                                                                        19\n",
      "Lotronex                                                                                              19\n",
      "Hydralazine                                                                                           19\n",
      "Icosapent                                                                                             19\n",
      "Aricept                                                                                               19\n",
      "Palbociclib                                                                                           19\n",
      "Midodrine                                                                                             19\n",
      "Levalbuterol                                                                                          18\n",
      "Uricalm                                                                                               18\n",
      "Kenalog-40                                                                                            18\n",
      "Amoxil                                                                                                18\n",
      "Tocilizumab                                                                                           18\n",
      "Sarafem                                                                                               18\n",
      "Uroxatral                                                                                             18\n",
      "Cytomel                                                                                               18\n",
      "Jalyn                                                                                                 18\n",
      "Apriso                                                                                                18\n",
      "Hydrochlorothiazide / valsartan                                                                       18\n",
      "Carac                                                                                                 18\n",
      "Diovan HCT                                                                                            18\n",
      "Rivastigmine                                                                                          18\n",
      "Sulindac                                                                                              18\n",
      "Prometrium                                                                                            18\n",
      "Migranal                                                                                              18\n",
      "Belimumab                                                                                             18\n",
      "Anoro Ellipta                                                                                         18\n",
      "Saliva substitutes                                                                                    18\n",
      "Brompheniramine / dextromethorphan / pseudoephedrine                                                  18\n",
      "Estradiol / norethindrone                                                                             18\n",
      "Caffeine                                                                                              18\n",
      "Benlysta                                                                                              18\n",
      "Avastin                                                                                               18\n",
      "Entocort EC                                                                                           18\n",
      "Immune globulin subcutaneous                                                                          18\n",
      "Patanol                                                                                               18\n",
      "Sinemet                                                                                               18\n",
      "Ditropan                                                                                              18\n",
      "Multaq                                                                                                18\n",
      "Psyllium                                                                                              17\n",
      "Zyprexa Zydis                                                                                         17\n",
      "Dasatinib                                                                                             17\n",
      "Actemra                                                                                               17\n",
      "Astepro                                                                                               17\n",
      "Pneumococcal 13-valent vaccine                                                                        17\n",
      "Excedrin                                                                                              17\n",
      "Tazarotene                                                                                            17\n",
      "Azilsartan medoxomil                                                                                  17\n",
      "Lioresal                                                                                              17\n",
      "Sutent                                                                                                17\n",
      "Tindamax                                                                                              17\n",
      "Lessina                                                                                               17\n",
      "Clotrimazole                                                                                          17\n",
      "Opium                                                                                                 17\n",
      "Commit                                                                                                17\n",
      "Kapvay                                                                                                17\n",
      "Femring                                                                                               17\n",
      "Zovirax Cream                                                                                         17\n",
      "Zometa                                                                                                17\n",
      "Levlen                                                                                                17\n",
      "Claritin                                                                                              17\n",
      "Rogaine                                                                                               17\n",
      "Mercaptopurine                                                                                        17\n",
      "Estradiol / levonorgestrel                                                                            17\n",
      "Chloral hydrate                                                                                       17\n",
      "Levemir                                                                                               17\n",
      "Bromocriptine                                                                                         17\n",
      "Latanoprost                                                                                           16\n",
      "Estradiol Patch                                                                                       16\n",
      "Klonopin Wafer                                                                                        16\n",
      "Urea                                                                                                  16\n",
      "MetroGel                                                                                              16\n",
      "Vytorin                                                                                               16\n",
      "Tylenol PM                                                                                            16\n",
      "Pimozide                                                                                              16\n",
      "Ferrous sulfate                                                                                       16\n",
      "Epitol                                                                                                16\n",
      "Climara Pro                                                                                           16\n",
      "Acidophilus                                                                                           16\n",
      "Bactroban                                                                                             16\n",
      "Famotidine / ibuprofen                                                                                16\n",
      "Acetaminophen / caffeine / dihydrocodeine                                                             16\n",
      "Detrol                                                                                                16\n",
      "Hiprex                                                                                                16\n",
      "Metamucil                                                                                             16\n",
      "Tasigna                                                                                               16\n",
      "Multivitamin with iron                                                                                16\n",
      "Ezetimibe / simvastatin                                                                               16\n",
      "Lithobid                                                                                              16\n",
      "Pennsaid                                                                                              16\n",
      "Onexton                                                                                               16\n",
      "Fioricet with Codeine                                                                                 16\n",
      "Zocor                                                                                                 16\n",
      "Epinephrine                                                                                           16\n",
      "Bepotastine                                                                                           16\n",
      "Trilipix                                                                                              16\n",
      "Xeloda                                                                                                16\n",
      "Rythmol SR                                                                                            16\n",
      "Doxy 100                                                                                              16\n",
      "Acetaminophen / phenyltoloxamine                                                                      16\n",
      "Phenobarbital                                                                                         15\n",
      "Calcipotriene                                                                                         15\n",
      "Monistat 1-Day or Night Combination Pack                                                              15\n",
      "Perphenazine                                                                                          15\n",
      "Fludrocortisone                                                                                       15\n",
      "Vicks Sinex Nasal Spray (old formulation)                                                             15\n",
      "Selenium sulfide                                                                                      15\n",
      "Prevnar 13                                                                                            15\n",
      "Creon                                                                                                 15\n",
      "Amlodipine / hydrochlorothiazide / olmesartan                                                         15\n",
      "Cartia XT                                                                                             15\n",
      "Tribenzor                                                                                             15\n",
      "Xtampza ER                                                                                            15\n",
      "Toujeo                                                                                                15\n",
      "Ponstel                                                                                               15\n",
      "Naloxone                                                                                              15\n",
      "Ortho-Cept                                                                                            15\n",
      "Mestinon                                                                                              15\n",
      "Detrol LA                                                                                             15\n",
      "Vicodin ES                                                                                            15\n",
      "Evamist                                                                                               15\n",
      "Aldactone                                                                                             15\n",
      "Hyzaar                                                                                                15\n",
      "Cyanocobalamin                                                                                        15\n",
      "Mydayis                                                                                               15\n",
      "Hytrin                                                                                                15\n",
      "Azurette                                                                                              15\n",
      "Conjugated estrogens / medroxyprogesterone                                                            15\n",
      "TriNessa Lo                                                                                           15\n",
      "Pataday                                                                                               15\n",
      "ProAir HFA                                                                                            15\n",
      "Orap                                                                                                  15\n",
      "Bepreve                                                                                               15\n",
      "Bisoprolol                                                                                            15\n",
      "Amaryl                                                                                                15\n",
      "Lantus Solostar                                                                                       15\n",
      "Methylin                                                                                              15\n",
      "Lybrel                                                                                                14\n",
      "Naprelan                                                                                              14\n",
      "Econazole                                                                                             14\n",
      "Trimethoprim                                                                                          14\n",
      "Sacubitril / valsartan                                                                                14\n",
      "Gemfibrozil                                                                                           14\n",
      "Peginterferon alfa-2a                                                                                 14\n",
      "Benzocaine                                                                                            14\n",
      "Minocin                                                                                               14\n",
      "Trihexyphenidyl                                                                                       14\n",
      "Kombiglyze XR                                                                                         14\n",
      "Exelon                                                                                                14\n",
      "Edarbi                                                                                                14\n",
      "Aggrenox                                                                                              14\n",
      "Milk of Magnesia                                                                                      14\n",
      "Coumadin                                                                                              14\n",
      "Coal tar                                                                                              14\n",
      "S-adenosylmethionine                                                                                  14\n",
      "Hydroxyurea                                                                                           14\n",
      "Quillivant XR                                                                                         14\n",
      "Acetaminophen / butalbital                                                                            14\n",
      "EpiCeram                                                                                              14\n",
      "Desloratadine                                                                                         14\n",
      "Imodium                                                                                               14\n",
      "Estazolam                                                                                             14\n",
      "Entresto                                                                                              14\n",
      "Emtricitabine / tenofovir                                                                             14\n",
      "Actiq                                                                                                 14\n",
      "Duexis                                                                                                14\n",
      "Opdivo                                                                                                14\n",
      "Ziac                                                                                                  14\n",
      "Ibrutinib                                                                                             14\n",
      "Actonel                                                                                               14\n",
      "Norflex                                                                                               14\n",
      "Cleocin                                                                                               14\n",
      "Metformin / saxagliptin                                                                               14\n",
      "Ipratropium                                                                                           14\n",
      "Allegra-D 24 Hour                                                                                     14\n",
      "Saxagliptin                                                                                           14\n",
      "Keppra XR                                                                                             14\n",
      "Aspirin / dipyridamole                                                                                14\n",
      "Aromasin                                                                                              13\n",
      "Prasugrel                                                                                             13\n",
      "Sprycel                                                                                               13\n",
      "Serzone                                                                                               13\n",
      "Ventolin                                                                                              13\n",
      "Talwin Nx                                                                                             13\n",
      "Effient                                                                                               13\n",
      "Lactase                                                                                               13\n",
      "Aspirin / carisoprodol                                                                                13\n",
      "Hydrochlorothiazide / telmisartan                                                                     13\n",
      "Ergocalciferol                                                                                        13\n",
      "Vienva                                                                                                13\n",
      "Vigamox                                                                                               13\n",
      "Alvesco                                                                                               13\n",
      "Tylox                                                                                                 13\n",
      "Decadron                                                                                              13\n",
      "Raltegravir                                                                                           13\n",
      "Calcium carbonate                                                                                     13\n",
      "Azacitidine                                                                                           13\n",
      "Sharobel                                                                                              13\n",
      "Lupron Depot-PED                                                                                      13\n",
      "Zovirax                                                                                               13\n",
      "Olodaterol / tiotropium                                                                               13\n",
      "Magnesium oxide                                                                                       13\n",
      "Naphazoline                                                                                           13\n",
      "Zorvolex                                                                                              13\n",
      "Lorcet 10 / 650                                                                                       13\n",
      "Fosamax                                                                                               13\n",
      "Zutripro                                                                                              13\n",
      "Medrol Dosepak                                                                                        13\n",
      "Kenalog-10                                                                                            13\n",
      "Corticotropin                                                                                         13\n",
      "Chlorpheniramine / hydrocodone / pseudoephedrine                                                      13\n",
      "Esterified estrogens / methyltestosterone                                                             13\n",
      "Cafergot                                                                                              13\n",
      "Tazorac                                                                                               13\n",
      "Hydrocortisone / neomycin / polymyxin b                                                               13\n",
      "Famvir                                                                                                13\n",
      "Onglyza                                                                                               13\n",
      "Combivent                                                                                             13\n",
      "Septra                                                                                                13\n",
      "Dextromethorphan / quinidine                                                                          13\n",
      "Dolutegravir                                                                                          13\n",
      "Enalapril                                                                                             13\n",
      "Naphazoline / pheniramine                                                                             13\n",
      "Lovastatin                                                                                            13\n",
      "Truvada                                                                                               13\n",
      "Prempro                                                                                               13\n",
      "Benzphetamine                                                                                         13\n",
      "Hyoscyamine / methenamine / methylene blue / phenyl salicylate                                        12\n",
      "Esgic-Plus                                                                                            12\n",
      "Minipress                                                                                             12\n",
      "Benztropine                                                                                           12\n",
      "Bimatoprost                                                                                           12\n",
      "Salonpas Pain Patch                                                                                   12\n",
      "Hizentra                                                                                              12\n",
      "Mucinex D Maximum Strength                                                                            12\n",
      "GaviLyte-G                                                                                            12\n",
      "Namenda                                                                                               12\n",
      "Simply Sleep                                                                                          12\n",
      "Fiorinal with Codeine                                                                                 12\n",
      "Mircette                                                                                              12\n",
      "Astelin                                                                                               12\n",
      "Tessalon                                                                                              12\n",
      "Emend                                                                                                 12\n",
      "Fentora                                                                                               12\n",
      "Lodine                                                                                                12\n",
      "Serax                                                                                                 12\n",
      "Hyoscyamine / methenamine / methylene blue / phenyl salicylate / sodium biphosphate                   12\n",
      "Benazepril                                                                                            12\n",
      "Dovonex                                                                                               12\n",
      "Acitretin                                                                                             12\n",
      "Mefloquine                                                                                            12\n",
      "Subsys                                                                                                12\n",
      "Loteprednol                                                                                           12\n",
      "Methimazole                                                                                           12\n",
      "Carbatrol                                                                                             12\n",
      "Bromfed DM                                                                                            12\n",
      "Motrin                                                                                                12\n",
      "Zomig-ZMT                                                                                             12\n",
      "Quinine                                                                                               12\n",
      "Reprexain                                                                                             12\n",
      "Nicorette                                                                                             12\n",
      "Pembrolizumab                                                                                         12\n",
      "Stiolto Respimat                                                                                      12\n",
      "Formoterol                                                                                            12\n",
      "Chorionic gonadotropin (hcg)                                                                          12\n",
      "Niravam                                                                                               12\n",
      "Tofranil                                                                                              12\n",
      "TriCor                                                                                                12\n",
      "Afinitor                                                                                              12\n",
      "Isentress                                                                                             12\n",
      "Zytiga                                                                                                12\n",
      "Tambocor                                                                                              12\n",
      "Docusate                                                                                              12\n",
      "Cromolyn                                                                                              12\n",
      "Tylenol                                                                                               12\n",
      "Abiraterone                                                                                           12\n",
      "Aprepitant                                                                                            12\n",
      "Prilosec OTC                                                                                          12\n",
      "Everolimus                                                                                            12\n",
      "Acetaminophen / pamabrom                                                                              12\n",
      "Bismuth subsalicylate                                                                                 12\n",
      "Nuedexta                                                                                              12\n",
      "Insulin aspart                                                                                        11\n",
      "Asmanex Twisthaler                                                                                    11\n",
      "Rhofade                                                                                               11\n",
      "Aflibercept                                                                                           11\n",
      "Trivora                                                                                               11\n",
      "Chlor-Trimeton                                                                                        11\n",
      "Pepto-Bismol                                                                                          11\n",
      "Ventolin HFA                                                                                          11\n",
      "Permethrin                                                                                            11\n",
      "Trifluoperazine                                                                                       11\n",
      "Docusate / senna                                                                                      11\n",
      "Azilsartan medoxomil / chlorthalidone                                                                 11\n",
      "Imodium A-D                                                                                           11\n",
      "Propecia                                                                                              11\n",
      "Levorphanol                                                                                           11\n",
      "Methylin ER                                                                                           11\n",
      "Imbruvica                                                                                             11\n",
      "Insulin lispro                                                                                        11\n",
      "Systane                                                                                               11\n",
      "Tivicay                                                                                               11\n",
      "Privine                                                                                               11\n",
      "Calcitriol                                                                                            11\n",
      "Micardis HCT                                                                                          11\n",
      "Delsym 12 Hour Cough Relief                                                                           11\n",
      "Tri-Estarylla                                                                                         11\n",
      "Combigan                                                                                              11\n",
      "Cefzil                                                                                                11\n",
      "Aclidinium                                                                                            11\n",
      "Aspirin / caffeine / orphenadrine                                                                     11\n",
      "Acetylcysteine                                                                                        11\n",
      "Sprix                                                                                                 11\n",
      "Brimonidine / timolol                                                                                 11\n",
      "Pseudoephedrine / triprolidine                                                                        11\n",
      "Uribel                                                                                                11\n",
      "Barium sulfate                                                                                        11\n",
      "Feldene                                                                                               11\n",
      "Xopenex                                                                                               11\n",
      "Eylea                                                                                                 11\n",
      "Butalbital Compound                                                                                   11\n",
      "Cyclafem 1 / 35                                                                                       11\n",
      "Lopressor                                                                                             11\n",
      "Sporanox                                                                                              11\n",
      "Edarbyclor                                                                                            11\n",
      "Cevimeline                                                                                            11\n",
      "Vitamin B12                                                                                           11\n",
      "Dalmane                                                                                               11\n",
      "Patanase                                                                                              11\n",
      "Ortho-Novum 7 / 7 / 7                                                                                 11\n",
      "Amethia                                                                                               11\n",
      "Enoxaparin                                                                                            11\n",
      "Griseofulvin                                                                                          11\n",
      "Tanzeum                                                                                               11\n",
      "Ryzolt                                                                                                11\n",
      "Rytary                                                                                                11\n",
      "Lo / Ovral                                                                                            11\n",
      "Kenalog                                                                                               11\n",
      "Tudorza Pressair                                                                                      11\n",
      "Dextromethorphan / guaifenesin                                                                        11\n",
      "Azo-Standard                                                                                          11\n",
      "Albiglutide                                                                                           11\n",
      "Isoniazid                                                                                             11\n",
      "Potassium chloride                                                                                    11\n",
      "Regadenoson                                                                                           10\n",
      "Ultram ODT                                                                                            10\n",
      "Keytruda                                                                                              10\n",
      "Visine Totality Multi-Symptom Relief                                                                  10\n",
      "Tetrahydrozoline / zinc sulfate                                                                       10\n",
      "Cyclizine                                                                                             10\n",
      "Advil Liqui-Gels                                                                                      10\n",
      "Racepinephrine                                                                                        10\n",
      "Olux                                                                                                  10\n",
      "Chlorpheniramine / phenylephrine                                                                      10\n",
      "Levsin                                                                                                10\n",
      "Tenofovir                                                                                             10\n",
      "Parlodel                                                                                              10\n",
      "Vagistat-1                                                                                            10\n",
      "Inderal LA                                                                                            10\n",
      "Toradol IV / IM                                                                                       10\n",
      "Vidaza                                                                                                10\n",
      "Biotin                                                                                                10\n",
      "Ambrisentan                                                                                           10\n",
      "Treprostinil                                                                                          10\n",
      "Somnote                                                                                               10\n",
      "Zinc oxide                                                                                            10\n",
      "NP Thyroid                                                                                            10\n",
      "Pegasys                                                                                               10\n",
      "Depo-Medrol                                                                                           10\n",
      "Ursodiol                                                                                              10\n",
      "Soma Compound                                                                                         10\n",
      "Lovenox                                                                                               10\n",
      "Echinacea                                                                                             10\n",
      "Nostrilla                                                                                             10\n",
      "Perindopril                                                                                           10\n",
      "Simethicone                                                                                           10\n",
      "Sulfazine                                                                                             10\n",
      "Influenza virus vaccine, live, trivalent                                                              10\n",
      "Chromium picolinate                                                                                   10\n",
      "Uceris                                                                                                10\n",
      "Empagliflozin / linagliptin                                                                           10\n",
      "Cardizem                                                                                              10\n",
      "Methscopolamine                                                                                       10\n",
      "Larin Fe 1 / 20                                                                                       10\n",
      "Colazal                                                                                               10\n",
      "Prenatal Plus                                                                                         10\n",
      "Femcon Fe                                                                                             10\n",
      "Clarifoam EF                                                                                          10\n",
      "Analpram-HC                                                                                           10\n",
      "Glyxambi                                                                                              10\n",
      "Dyanavel XR                                                                                           10\n",
      "Ritalin LA                                                                                            10\n",
      "Sodium chloride                                                                                       10\n",
      "EnteraGam                                                                                              9\n",
      "Aplenzin                                                                                               9\n",
      "Ubiquinone                                                                                             9\n",
      "Daklinza                                                                                               9\n",
      "Aptiom                                                                                                 9\n",
      "NoDoz                                                                                                  9\n",
      "Theophylline                                                                                           9\n",
      "Altabax                                                                                                9\n",
      "Temozolomide                                                                                           9\n",
      "Primatene Mist                                                                                         9\n",
      "Valdecoxib                                                                                             9\n",
      "Lexiscan                                                                                               9\n",
      "Lotemax                                                                                                9\n",
      "Fluoride                                                                                               9\n",
      "Retapamulin                                                                                            9\n",
      "Cefixime                                                                                               9\n",
      "Succinylcholine                                                                                        9\n",
      "Rifampin                                                                                               9\n",
      "Digoxin                                                                                                9\n",
      "Opcon-A                                                                                                9\n",
      "Esgic                                                                                                  9\n",
      "Combivent Respimat                                                                                     9\n",
      "Osphena                                                                                                9\n",
      "Letairis                                                                                               9\n",
      "Pentazocine                                                                                            9\n",
      "Fosfomycin                                                                                             9\n",
      "Glucotrol                                                                                              9\n",
      "Felbamate                                                                                              9\n",
      "FluMist                                                                                                9\n",
      "Chondroitin / glucosamine                                                                              9\n",
      "Unisom SleepGels                                                                                       9\n",
      "Daclatasvir                                                                                            9\n",
      "Immune globulin oral                                                                                   9\n",
      "Fluocinolone                                                                                           9\n",
      "Altace                                                                                                 9\n",
      "Sorafenib                                                                                              9\n",
      "Xerac AC                                                                                               9\n",
      "Ospemifene                                                                                             9\n",
      "Prinivil                                                                                               9\n",
      "Granisetron                                                                                            9\n",
      "Metoprolol Tartrate                                                                                    9\n",
      "Phenol                                                                                                 9\n",
      "Clobazam                                                                                               9\n",
      "Tranxene                                                                                               9\n",
      "Telaprevir                                                                                             9\n",
      "Yohimbine                                                                                              9\n",
      "Loestrin Fe 1 / 20                                                                                     9\n",
      "Ortho-Novum 1 / 35                                                                                     9\n",
      "Actifed                                                                                                9\n",
      "Tyvaso                                                                                                 9\n",
      "Eslicarbazepine                                                                                        9\n",
      "Ammonium lactate                                                                                       9\n",
      "Chlorpheniramine / pseudoephedrine                                                                     9\n",
      "Megace                                                                                                 9\n",
      "Guaifenesin / phenylephrine                                                                            9\n",
      "Omnaris                                                                                                9\n",
      "Zenatane                                                                                               9\n",
      "Mibelas 24 Fe                                                                                          9\n",
      "Meperidine / promethazine                                                                              9\n",
      "Zestril                                                                                                9\n",
      "Nystatin / triamcinolone                                                                               8\n",
      "Flovent                                                                                                8\n",
      "Clozaril                                                                                               8\n",
      "Viekira Pak                                                                                            8\n",
      "Galantamine                                                                                            8\n",
      "Erbitux                                                                                                8\n",
      "Mono-Linyah                                                                                            8\n",
      "Dilaudid-HP                                                                                            8\n",
      "Junel 1 / 20                                                                                           8\n",
      "Vicodin HP                                                                                             8\n",
      "Sanctura XR                                                                                            8\n",
      "Lidex                                                                                                  8\n",
      "Lucentis                                                                                               8\n",
      "Asacol HD                                                                                              8\n",
      "CitraNatal 90 DHA                                                                                      8\n",
      "Antivert                                                                                               8\n",
      "Nexavar                                                                                                8\n",
      "Ionamin                                                                                                8\n",
      "Lidocaine / prilocaine                                                                                 8\n",
      "Cyclophosphamide                                                                                       8\n",
      "Luvox CR                                                                                               8\n",
      "Amitriptyline / chlordiazepoxide                                                                       8\n",
      "Cetuximab                                                                                              8\n",
      "Ketotifen                                                                                              8\n",
      "Cimetidine                                                                                             8\n",
      "Fluphenazine                                                                                           8\n",
      "Dasabuvir / ombitasvir / paritaprevir / ritonavir                                                      8\n",
      "Lorazepam Intensol                                                                                     8\n",
      "Calan SR                                                                                               8\n",
      "Altavera                                                                                               8\n",
      "Dostinex                                                                                               8\n",
      "Niacin / simvastatin                                                                                   8\n",
      "Biafine                                                                                                8\n",
      "Novolog                                                                                                8\n",
      "Eribulin                                                                                               8\n",
      "Canasa                                                                                                 8\n",
      "CombiPatch                                                                                             8\n",
      "Imdur                                                                                                  8\n",
      "Marlissa                                                                                               8\n",
      "Jentadueto                                                                                             8\n",
      "Chloraseptic Sore Throat Spray                                                                         8\n",
      "Simcor                                                                                                 8\n",
      "Solu-Medrol                                                                                            8\n",
      "Edluar                                                                                                 8\n",
      "Viread                                                                                                 8\n",
      "Bioflavonoids                                                                                          8\n",
      "Linagliptin / metformin                                                                                8\n",
      "Evoxac                                                                                                 8\n",
      "Gas-X                                                                                                  8\n",
      "Zenzedi                                                                                                8\n",
      "Chlorthalidone                                                                                         8\n",
      "Flurandrenolide                                                                                        8\n",
      "Limbrel                                                                                                8\n",
      "Ranibizumab                                                                                            8\n",
      "Acetaminophen / chlorpheniramine / phenylephrine                                                       8\n",
      "Mysoline                                                                                               8\n",
      "Misoprostol                                                                                            8\n",
      "Evening Primrose Oil                                                                                   8\n",
      "Revatio                                                                                                8\n",
      "Mestranol / norethindrone                                                                              8\n",
      "Bextra                                                                                                 8\n",
      "Ephedrine / guaifenesin                                                                                8\n",
      "Catapres-TTS                                                                                           8\n",
      "Bazedoxifene / conjugated estrogens                                                                    8\n",
      "Valturna                                                                                               8\n",
      "Lo / Ovral-28                                                                                          8\n",
      "Penicillin VK                                                                                          8\n",
      "Testopel                                                                                               8\n",
      "Bicalutamide                                                                                           8\n",
      "Duavee                                                                                                 8\n",
      "Terbutaline                                                                                            8\n",
      "Octreotide                                                                                             8\n",
      "Cyred                                                                                                  8\n",
      "FreshKote                                                                                              8\n",
      "Xalatan                                                                                                8\n",
      "Acetaminophen / caffeine / isometheptene mucate                                                        8\n",
      "Nasacort Allergy 24HR                                                                                  8\n",
      "Sevelamer                                                                                              8\n",
      "Cinacalcet                                                                                             8\n",
      "Biaxin XL                                                                                              8\n",
      "Deltasone                                                                                              7\n",
      "Repaglinide                                                                                            7\n",
      "Iressa                                                                                                 7\n",
      "Taxotere                                                                                               7\n",
      "Estratest H.S.                                                                                         7\n",
      "Dolgic Plus                                                                                            7\n",
      "Clindesse                                                                                              7\n",
      "Eligard                                                                                                7\n",
      "ProAmatine                                                                                             7\n",
      "Docetaxel                                                                                              7\n",
      "Allegra-D 12 Hour                                                                                      7\n",
      "Sensipar                                                                                               7\n",
      "Glycerin                                                                                               7\n",
      "Efavirenz                                                                                              7\n",
      "Soriatane                                                                                              7\n",
      "Narcan Injection                                                                                       7\n",
      "Durezol                                                                                                7\n",
      "Panlor SS                                                                                              7\n",
      "Carbidopa / entacapone / levodopa                                                                      7\n",
      "Glyburide                                                                                              7\n",
      "Halaven                                                                                                7\n",
      "Nikki                                                                                                  7\n",
      "Vivarin                                                                                                7\n",
      "Revlimid                                                                                               7\n",
      "Epoetin alfa                                                                                           7\n",
      "Rectiv                                                                                                 7\n",
      "Foradil Aerolizer                                                                                      7\n",
      "Revia                                                                                                  7\n",
      "Artane                                                                                                 7\n",
      "Lariam                                                                                                 7\n",
      "Methylergonovine                                                                                       7\n",
      "Oxaprozin                                                                                              7\n",
      "Lacrisert                                                                                              7\n",
      "Vibramycin                                                                                             7\n",
      "Sandostatin                                                                                            7\n",
      "Acetaminophen / pseudoephedrine                                                                        7\n",
      "Temodar                                                                                                7\n",
      "Didrex                                                                                                 7\n",
      "Asthmanefrin                                                                                           7\n",
      "Belladonna / opium                                                                                     7\n",
      "Depakene                                                                                               7\n",
      "Avonex Pen                                                                                             7\n",
      "Risperdal Consta                                                                                       7\n",
      "Levsin SL                                                                                              7\n",
      "Estrace                                                                                                7\n",
      "Pemoline                                                                                               7\n",
      "Necon 1 / 50                                                                                           7\n",
      "Lenalidomide                                                                                           7\n",
      "Indocin SR                                                                                             7\n",
      "Depo-Provera Contraceptive                                                                             7\n",
      "Cordran Tape                                                                                           7\n",
      "Gefitinib                                                                                              7\n",
      "Budeprion SR                                                                                           7\n",
      "Anakinra                                                                                               7\n",
      "Remeron SolTab                                                                                         7\n",
      "Difluprednate                                                                                          7\n",
      "Tylenol with Codeine #4                                                                                7\n",
      "GaviLyte-N                                                                                             7\n",
      "Suprax                                                                                                 7\n",
      "Ethosuximide                                                                                           7\n",
      "Saw palmetto                                                                                           7\n",
      "Tryptophan                                                                                             7\n",
      "Psoriasin                                                                                              7\n",
      "Nabilone                                                                                               7\n",
      "Promethazine DM                                                                                        7\n",
      "Pazeo                                                                                                  7\n",
      "Cylert                                                                                                 7\n",
      "Dextromethorphan / promethazine                                                                        7\n",
      "Darvon                                                                                                 7\n",
      "Rasagiline                                                                                             7\n",
      "Ovcon 35                                                                                               7\n",
      "Alyacen 1 / 35                                                                                         7\n",
      "D.H.E. 45                                                                                              7\n",
      "Salofalk                                                                                               7\n",
      "Lumigan                                                                                                7\n",
      "Paclitaxel                                                                                             7\n",
      "Tenuate Dospan                                                                                         7\n",
      "Flurbiprofen                                                                                           7\n",
      "Loxapine                                                                                               7\n",
      "Atrovent                                                                                               7\n",
      "Botox Cosmetic                                                                                         7\n",
      "DDAVP                                                                                                  7\n",
      "Saccharomyces boulardii lyo                                                                            7\n",
      "Pravachol                                                                                              7\n",
      "Xolegel                                                                                                7\n",
      "Felodipine                                                                                             7\n",
      "Sitavig                                                                                                7\n",
      "Ribavirin                                                                                              7\n",
      "Amlodipine / telmisartan                                                                               6\n",
      "QNASL                                                                                                  6\n",
      "Influenza virus vaccine, inactivated                                                                   6\n",
      "Chlorpheniramine / dextromethorphan / phenylephrine                                                    6\n",
      "Dextromethorphan / guaifenesin / pseudoephedrine                                                       6\n",
      "Twynsta                                                                                                6\n",
      "Ofloxacin                                                                                              6\n",
      "Hydrochlorothiazide / irbesartan                                                                       6\n",
      "Azelex                                                                                                 6\n",
      "Felbatol                                                                                               6\n",
      "Mucinex DM                                                                                             6\n",
      "Alprazolam Intensol                                                                                    6\n",
      "Gemifloxacin                                                                                           6\n",
      "Fulvestrant                                                                                            6\n",
      "Immune globulin intravenous                                                                            6\n",
      "Risperdal M-Tab                                                                                        6\n",
      "Dexamethasone / neomycin / polymyxin b                                                                 6\n",
      "Trimethobenzamide                                                                                      6\n",
      "Nytol                                                                                                  6\n",
      "Dibucaine                                                                                              6\n",
      "Azilect                                                                                                6\n",
      "Selexipag                                                                                              6\n",
      "Zovia 1 / 35                                                                                           6\n",
      "Adenosine                                                                                              6\n",
      "Glucophage XR                                                                                          6\n",
      "Klor-Con                                                                                               6\n",
      "Norgesic                                                                                               6\n",
      "Cardizem CD                                                                                            6\n",
      "Salicylic acid                                                                                         6\n",
      "Bacitracin / neomycin / polymyxin b                                                                    6\n",
      "Chlorpheniramine / dextromethorphan                                                                    6\n",
      "Coreg CR                                                                                               6\n",
      "Ultravate                                                                                              6\n",
      "Gralise                                                                                                6\n",
      "Quazepam                                                                                               6\n",
      "Brompheniramine                                                                                        6\n",
      "Marezine                                                                                               6\n",
      "Caverject Impulse                                                                                      6\n",
      "Danazol                                                                                                6\n",
      "Ruxolitinib                                                                                            6\n",
      "CamreseLo                                                                                              6\n",
      "NeutraSal                                                                                              6\n",
      "Balziva                                                                                                6\n",
      "Nizatidine                                                                                             6\n",
      "Allegra Allergy                                                                                        6\n",
      "Gatifloxacin                                                                                           6\n",
      "Polymyxin b / trimethoprim                                                                             6\n",
      "Insulin regular                                                                                        6\n",
      "Goody's Extra-Strength Headache Powders                                                                6\n",
      "Diflunisal                                                                                             6\n",
      "Coricidin HBP Cold & Flu                                                                               6\n",
      "Lecithin                                                                                               6\n",
      "Trilafon                                                                                               6\n",
      "Simponi Aria                                                                                           6\n",
      "OsmoPrep                                                                                               6\n",
      "Enskyce                                                                                                6\n",
      "Megace ES                                                                                              6\n",
      "Rosiglitazone                                                                                          6\n",
      "Oleptro                                                                                                6\n",
      "Jakafi                                                                                                 6\n",
      "Methergine                                                                                             6\n",
      "Dexamethasone / tobramycin                                                                             6\n",
      "Intermezzo                                                                                             6\n",
      "Monurol                                                                                                6\n",
      "Taxol                                                                                                  6\n",
      "Pepcid                                                                                                 6\n",
      "Acetaminophen / chlorpheniramine                                                                       6\n",
      "Dyazide                                                                                                6\n",
      "Dorzolamide / timolol                                                                                  6\n",
      "Maprotiline                                                                                            6\n",
      "Topicort                                                                                               6\n",
      "Aptensio XR                                                                                            6\n",
      "Acthar                                                                                                 6\n",
      "Zolpimist                                                                                              6\n",
      "Flagyl ER                                                                                              6\n",
      "Benzamycin                                                                                             6\n",
      "Meprobamate                                                                                            6\n",
      "Zovirax Ointment                                                                                       6\n",
      "Casodex                                                                                                6\n",
      "Silver                                                                                                 6\n",
      "Gelnique                                                                                               6\n",
      "Proventil                                                                                              6\n",
      "Rowasa                                                                                                 6\n",
      "Lactaid                                                                                                6\n",
      "Onfi                                                                                                   6\n",
      "Sudafed Congestion                                                                                     6\n",
      "Ogestrel-28                                                                                            6\n",
      "Cyclessa                                                                                               6\n",
      "Cogentin                                                                                               6\n",
      "Acetaminophen / caffeine                                                                               6\n",
      "Habitrol                                                                                               6\n",
      "Triamterene                                                                                            6\n",
      "Condylox                                                                                               6\n",
      "Avandia                                                                                                6\n",
      "femhrt                                                                                                 6\n",
      "Spinosad                                                                                               6\n",
      "TobraDex                                                                                               6\n",
      "Sublimaze                                                                                              6\n",
      "Anaprox                                                                                                6\n",
      "Incivek                                                                                                6\n",
      "Proventil HFA                                                                                          6\n",
      "Lamisil AT                                                                                             6\n",
      "Diazepam Intensol                                                                                      6\n",
      "Humatrope                                                                                              6\n",
      "Paregoric                                                                                              6\n",
      "Secobarbital                                                                                           6\n",
      "Humalog KwikPen                                                                                        6\n",
      "Fidaxomicin                                                                                            6\n",
      "Talwin                                                                                                 6\n",
      "Stelazine                                                                                              6\n",
      "Nortrel 7 / 7 / 7                                                                                      6\n",
      "Migergot                                                                                               6\n",
      "Eskalith                                                                                               5\n",
      "Procyclidine                                                                                           5\n",
      "Procrit                                                                                                5\n",
      "Acetaminophen / aspirin / caffeine / salicylamide                                                      5\n",
      "Cardura                                                                                                5\n",
      "Camphor / menthol                                                                                      5\n",
      "Cefpodoxime                                                                                            5\n",
      "Norpramin                                                                                              5\n",
      "Tafluprost                                                                                             5\n",
      "Hydrocodone / pseudoephedrine                                                                          5\n",
      "Clocortolone                                                                                           5\n",
      "Dificid                                                                                                5\n",
      "Abilify Maintena                                                                                       5\n",
      "Silvadene                                                                                              5\n",
      "Tenex                                                                                                  5\n",
      "Sustiva                                                                                                5\n",
      "Mexiletine                                                                                             5\n",
      "Arixtra                                                                                                5\n",
      "Bupivacaine                                                                                            5\n",
      "Ayr Saline Nasal                                                                                       5\n",
      "Minivelle                                                                                              5\n",
      "Roxicodone Intensol                                                                                    5\n",
      "DesOwen                                                                                                5\n",
      "Hydrea                                                                                                 5\n",
      "Florinef                                                                                               5\n",
      "Quinapril                                                                                              5\n",
      "Raloxifene                                                                                             5\n",
      "Humalog                                                                                                5\n",
      "Natroba                                                                                                5\n",
      "Prandin                                                                                                5\n",
      "Brompheniramine / pseudoephedrine                                                                      5\n",
      "Aspirin / oxycodone                                                                                    5\n",
      "PanOxyl                                                                                                5\n",
      "Factive                                                                                                5\n",
      "Hydroquinone                                                                                           5\n",
      "Rynatan                                                                                                5\n",
      "Advair HFA                                                                                             5\n",
      "Prodrin                                                                                                5\n",
      "Excedrin PM                                                                                            5\n",
      "Paclitaxel protein-bound                                                                               5\n",
      "Arginine                                                                                               5\n",
      "Insulin isophane / insulin regular                                                                     5\n",
      "TussiCaps                                                                                              5\n",
      "Rezira                                                                                                 5\n",
      "Chlorpheniramine / dextromethorphan / pseudoephedrine                                                  5\n",
      "Iron sucrose                                                                                           5\n",
      "Banzel                                                                                                 5\n",
      "Allerx Dose Pack DF                                                                                    5\n",
      "Junel 1.5 / 30                                                                                         5\n",
      "Sulfacetamide sodium                                                                                   5\n",
      "Uptravi                                                                                                5\n",
      "Zylet                                                                                                  5\n",
      "Duet DHA                                                                                               5\n",
      "Florastor                                                                                              5\n",
      "Claritin-D 24 Hour                                                                                     5\n",
      "Cervidil                                                                                               5\n",
      "Thiothixene                                                                                            5\n",
      "Egrifta                                                                                                5\n",
      "Interferon beta-1b                                                                                     5\n",
      "Pyrantel                                                                                               5\n",
      "Renvela                                                                                                5\n",
      "Bumetanide                                                                                             5\n",
      "Kava                                                                                                   5\n",
      "Heather                                                                                                5\n",
      "Timolol                                                                                                5\n",
      "Aspirin / carisoprodol / codeine                                                                       5\n",
      "Lovaza                                                                                                 5\n",
      "Nucala                                                                                                 5\n",
      "Cholecalciferol                                                                                        5\n",
      "Metformin / pioglitazone                                                                               5\n",
      "Avalide                                                                                                5\n",
      "Umeclidinium                                                                                           5\n",
      "Anaprox-DS                                                                                             5\n",
      "Entacapone                                                                                             5\n",
      "Vicks Nyquil D Cold and Flu Nighttime Relief                                                           5\n",
      "Stalevo                                                                                                5\n",
      "Locoid Lipocream                                                                                       5\n",
      "Vestura                                                                                                5\n",
      "Pirbuterol                                                                                             5\n",
      "Fondaparinux                                                                                           5\n",
      "Methyldopa                                                                                             5\n",
      "Zymar                                                                                                  5\n",
      "Procardia                                                                                              5\n",
      "Eltrombopag                                                                                            5\n",
      "Invega Trinza                                                                                          5\n",
      "Cilostazol                                                                                             5\n",
      "Delzicol                                                                                               5\n",
      "Disopyramide                                                                                           5\n",
      "Nupercainal                                                                                            5\n",
      "Symax Duotab                                                                                           5\n",
      "Rogaine Women's                                                                                        5\n",
      "Pimtrea                                                                                                5\n",
      "Vantin                                                                                                 5\n",
      "Cloderm                                                                                                5\n",
      "Emla                                                                                                   5\n",
      "Clarinex                                                                                               5\n",
      "Norel SR                                                                                               5\n",
      "EContra EZ                                                                                             5\n",
      "Sinequan                                                                                               5\n",
      "Iron polysaccharide                                                                                    5\n",
      "Tesamorelin                                                                                            5\n",
      "Betaseron                                                                                              5\n",
      "C1 esterase inhibitor (human)                                                                          5\n",
      "Loteprednol / tobramycin                                                                               5\n",
      "Levothroid                                                                                             5\n",
      "Spiriva Respimat                                                                                       5\n",
      "Sotalol Hydrochloride AF                                                                               5\n",
      "Riboflavin                                                                                             5\n",
      "Necon 7 / 7 / 7                                                                                        5\n",
      "Atacand                                                                                                5\n",
      "Faslodex                                                                                               5\n",
      "Mepolizumab                                                                                            5\n",
      "Trezix                                                                                                 5\n",
      "MetroCream                                                                                             5\n",
      "Depo-Testosterone                                                                                      5\n",
      "Activella                                                                                              5\n",
      "Systane Ultra                                                                                          5\n",
      "Ethinyl estradiol / folic acid / levonorgestrel                                                        5\n",
      "Turmeric                                                                                               5\n",
      "Sancuso                                                                                                5\n",
      "Pulmicort Flexhaler                                                                                    5\n",
      "Rufinamide                                                                                             5\n",
      "Diamox Sequels                                                                                         5\n",
      "Dorzolamide                                                                                            5\n",
      "Aygestin                                                                                               5\n",
      "ClearLax                                                                                               5\n",
      "Trandolapril / verapamil                                                                               5\n",
      "Flovent HFA                                                                                            5\n",
      "Malathion                                                                                              5\n",
      "Acetaminophen / dextromethorphan / doxylamine / pseudoephedrine                                        5\n",
      "Toujeo Solostar                                                                                        5\n",
      "Zarontin                                                                                               5\n",
      "Soma Compound with Codeine                                                                             5\n",
      "Dinoprostone                                                                                           5\n",
      "Adcirca                                                                                                5\n",
      "Requip XL                                                                                              5\n",
      "Chlorpheniramine / methscopolamine / phenylephrine                                                     5\n",
      "Sipuleucel-T                                                                                           5\n",
      "Aluminum hydroxide / magnesium trisilicate                                                             5\n",
      "CoQ10                                                                                                  5\n",
      "Zoster vaccine live                                                                                    5\n",
      "Premarin Vaginal                                                                                       5\n",
      "Bethanechol                                                                                            5\n",
      "Albendazole                                                                                            5\n",
      "ActoPlus Met                                                                                           5\n",
      "Medrol                                                                                                 5\n",
      "X-Viate                                                                                                5\n",
      "Aspirin / caffeine / salicylamide                                                                      5\n",
      "Cytoxan                                                                                                5\n",
      "Tobramycin                                                                                             5\n",
      "Zecuity                                                                                                4\n",
      "Trastuzumab                                                                                            4\n",
      "Dexchlorpheniramine                                                                                    4\n",
      "Milk thistle                                                                                           4\n",
      "Tri-Lo-Estarylla                                                                                       4\n",
      "Maxzide                                                                                                4\n",
      "Basaglar                                                                                               4\n",
      "Coricidin HBP Cough & Cold                                                                             4\n",
      "Imitrex Nasal                                                                                          4\n",
      "Clinoril                                                                                               4\n",
      "Amethia Lo                                                                                             4\n",
      "Nitrostat                                                                                              4\n",
      "Rhinocort Aqua                                                                                         4\n",
      "Aliskiren / hydrochlorothiazide                                                                        4\n",
      "Westhroid                                                                                              4\n",
      "Flibanserin                                                                                            4\n",
      "Adoxa                                                                                                  4\n",
      "OxyIR                                                                                                  4\n",
      "Brovana                                                                                                4\n",
      "Antipyrine / benzocaine                                                                                4\n",
      "Orudis KT                                                                                              4\n",
      "WP Thyroid                                                                                             4\n",
      "Uristat                                                                                                4\n",
      "Icatibant                                                                                              4\n",
      "Bisacodyl / polyethylene glycol 3350 / potassium chloride / sodium bicarbonate / sodium chloride       4\n",
      "Torsemide                                                                                              4\n",
      "Caverject                                                                                              4\n",
      "Herceptin                                                                                              4\n",
      "Nexafed Nasal Decongestant                                                                             4\n",
      "Prolixin                                                                                               4\n",
      "Vivaglobin                                                                                             4\n",
      "Calcitonin                                                                                             4\n",
      "Nifedical XL                                                                                           4\n",
      "Tiagabine                                                                                              4\n",
      "Gemcitabine                                                                                            4\n",
      "Tylenol 8 Hour                                                                                         4\n",
      "Bayer Aspirin                                                                                          4\n",
      "Crizotinib                                                                                             4\n",
      "Darunavir                                                                                              4\n",
      "Provenge                                                                                               4\n",
      "Nepafenac                                                                                              4\n",
      "Alemtuzumab                                                                                            4\n",
      "AbobotulinumtoxinA                                                                                     4\n",
      "Xeljanz XR                                                                                             4\n",
      "Aluminum hydroxide / magnesium hydroxide / simethicone                                                 4\n",
      "Zestoretic                                                                                             4\n",
      "Brompheniramine / dextromethorphan / phenylephrine                                                     4\n",
      "Taclonex Scalp                                                                                         4\n",
      "Gris-PEG                                                                                               4\n",
      "Xartemis XR                                                                                            4\n",
      "Comtan                                                                                                 4\n",
      "Firazyr                                                                                                4\n",
      "Amlodipine / hydrochlorothiazide / valsartan                                                           4\n",
      "Bronkaid                                                                                               4\n",
      "Miconazole / zinc oxide                                                                                4\n",
      "Pegloticase                                                                                            4\n",
      "Alka-Seltzer Plus Cold                                                                                 4\n",
      "Tri-Lo-Marzia                                                                                          4\n",
      "InnoPran XL                                                                                            4\n",
      "Calan                                                                                                  4\n",
      "Take Action                                                                                            4\n",
      "Stimate                                                                                                4\n",
      "Ferrous gluconate                                                                                      4\n",
      "Darbepoetin alfa                                                                                       4\n",
      "Travoprost                                                                                             4\n",
      "Belviq XR                                                                                              4\n",
      "Gemzar                                                                                                 4\n",
      "Absorica                                                                                               4\n",
      "Questran                                                                                               4\n",
      "Tums Regular Strength                                                                                  4\n",
      "Exforge HCT                                                                                            4\n",
      "Incruse Ellipta                                                                                        4\n",
      "Tarka                                                                                                  4\n",
      "Pentoxifylline                                                                                         4\n",
      "Firmagon                                                                                               4\n",
      "Pramlintide                                                                                            4\n",
      "Krystexxa                                                                                              4\n",
      "Addyi                                                                                                  4\n",
      "Cinryze                                                                                                4\n",
      "Dysport                                                                                                4\n",
      "Junel Fe 24                                                                                            4\n",
      "Cefditoren                                                                                             4\n",
      "Darvocet A500                                                                                          4\n",
      "Undecylenic acid                                                                                       4\n",
      "Cordarone                                                                                              4\n",
      "Proctosol-HC                                                                                           4\n",
      "Chlorpheniramine / methscopolamine / pseudoephedrine                                                   4\n",
      "Qualaquin                                                                                              4\n",
      "Amitriptyline / perphenazine                                                                           4\n",
      "BenzEFoam                                                                                              4\n",
      "Insulin glulisine                                                                                      4\n",
      "Pulmicort Turbuhaler                                                                                   4\n",
      "Evista                                                                                                 4\n",
      "Mucinex Fast-Max Severe Congestion & Cough                                                             4\n",
      "RectiCare                                                                                              4\n",
      "Carbamide peroxide                                                                                     4\n",
      "Voltaren-XR                                                                                            4\n",
      "Pin-X                                                                                                  4\n",
      "Zioptan                                                                                                4\n",
      "Sudafed 24-Hour                                                                                        4\n",
      "Aveed                                                                                                  4\n",
      "Pramosone                                                                                              4\n",
      "Sleep Aid                                                                                              4\n",
      "Vusion                                                                                                 4\n",
      "Dapagliflozin / metformin                                                                              4\n",
      "Cosopt                                                                                                 4\n",
      "Lemtrada                                                                                               4\n",
      "Xopenex HFA                                                                                            4\n",
      "Protonix IV                                                                                            4\n",
      "Naftifine                                                                                              4\n",
      "Aranesp                                                                                                4\n",
      "Humulin R U-500 (Concentrated)                                                                         4\n",
      "Bupivacaine liposome                                                                                   4\n",
      "Exubera                                                                                                4\n",
      "Magnesium salicylate                                                                                   4\n",
      "Amoxapine                                                                                              4\n",
      "Temovate                                                                                               4\n",
      "Mycophenolic acid                                                                                      4\n",
      "Elestrin                                                                                               4\n",
      "EpiPen                                                                                                 4\n",
      "Flavoxate                                                                                              4\n",
      "Solaraze                                                                                               4\n",
      "Percodan                                                                                               4\n",
      "Phenylephrine / pramoxine                                                                              4\n",
      "Arformoterol                                                                                           4\n",
      "Zelboraf                                                                                               4\n",
      "Vectical                                                                                               4\n",
      "Claritin-D 12 Hour                                                                                     4\n",
      "Vemurafenib                                                                                            4\n",
      "Cenestin                                                                                               4\n",
      "Cutivate                                                                                               4\n",
      "Corgard                                                                                                4\n",
      "Triptorelin                                                                                            4\n",
      "Fexmid                                                                                                 4\n",
      "Degarelix                                                                                              4\n",
      "HalfLytely and Bisacodyl                                                                               4\n",
      "Apomorphine                                                                                            4\n",
      "Equetro                                                                                                4\n",
      "Cetirizine / pseudoephedrine                                                                           4\n",
      "Acetaminophen / dexbrompheniramine / pseudoephedrine                                                   4\n",
      "Riluzole                                                                                               4\n",
      "Neo-Poly-Dex                                                                                           4\n",
      "Buproban                                                                                               4\n",
      "Mephobarbital                                                                                          4\n",
      "Tylenol with Codeine                                                                                   4\n",
      "Lidocaine Viscous                                                                                      4\n",
      "Venofer                                                                                                4\n",
      "Gabarone                                                                                               4\n",
      "Benzoic acid / salicylic acid                                                                          4\n",
      "Tekturna HCT                                                                                           4\n",
      "Chlorpheniramine / hydrocodone / phenylephrine                                                         4\n",
      "Doxorubicin                                                                                            4\n",
      "Motrin IB                                                                                              4\n",
      "Norgesic Forte                                                                                         4\n",
      "Capzasin-HP                                                                                            4\n",
      "Ornex                                                                                                  4\n",
      "Vitamin e                                                                                              4\n",
      "Bendamustine                                                                                           4\n",
      "Mebaral                                                                                                4\n",
      "Flunisolide                                                                                            4\n",
      "Calmoseptine                                                                                           4\n",
      "Atenolol / chlorthalidone                                                                              4\n",
      "Penicillin g benzathine                                                                                4\n",
      "Enjuvia                                                                                                4\n",
      "Bicillin L-A                                                                                           4\n",
      "Lomaira                                                                                                4\n",
      "Eplerenone                                                                                             4\n",
      "Oramorph SR                                                                                            4\n",
      "Bupap                                                                                                  4\n",
      "Navane                                                                                                 4\n",
      "Kineret                                                                                                4\n",
      "Prozac Weekly                                                                                          4\n",
      "Olodaterol                                                                                             4\n",
      "Menthol / zinc oxide                                                                                   4\n",
      "Xigduo XR                                                                                              4\n",
      "Acetaminophen / diphenhydramine / phenylephrine                                                        4\n",
      "Bontril PDM                                                                                            4\n",
      "Abraxane                                                                                               4\n",
      "Insulin isophane                                                                                       4\n",
      "Dramamine II                                                                                           4\n",
      "Mycelex Troche                                                                                         4\n",
      "Vitamin B2                                                                                             4\n",
      "Daypro                                                                                                 4\n",
      "Dextromethorphan / guaifenesin / phenylephrine                                                         4\n",
      "Solarcaine Burn Relief                                                                                 3\n",
      "Jencycla                                                                                               3\n",
      "Bacitracin / polymyxin b                                                                               3\n",
      "Ingenol                                                                                                3\n",
      "Vincristine                                                                                            3\n",
      "Epidrin                                                                                                3\n",
      "Enfuvirtide                                                                                            3\n",
      "Epinastine                                                                                             3\n",
      "PEG-3350 with Electolytes                                                                              3\n",
      "Parathyroid hormone                                                                                    3\n",
      "Nevirapine                                                                                             3\n",
      "Florinef Acetate                                                                                       3\n",
      "Cranberry                                                                                              3\n",
      "Seconal Sodium                                                                                         3\n",
      "Trelstar                                                                                               3\n",
      "Cleocin HCl                                                                                            3\n",
      "Adriamycin                                                                                             3\n",
      "Mucomyst                                                                                               3\n",
      "Red yeast rice                                                                                         3\n",
      "Picato                                                                                                 3\n",
      "Glatopa                                                                                                3\n",
      "Nizoral                                                                                                3\n",
      "Gablofen                                                                                               3\n",
      "Maxair Autohaler                                                                                       3\n",
      "Thiopental                                                                                             3\n",
      "Inapsine                                                                                               3\n",
      "Lamivudine / zidovudine                                                                                3\n",
      "Enzalutamide                                                                                           3\n",
      "Oxyfast                                                                                                3\n",
      "GenTeal                                                                                                3\n",
      "Pamabrom                                                                                               3\n",
      "Lanacane                                                                                               3\n",
      "Ziconotide                                                                                             3\n",
      "Citrate of Magnesia                                                                                    3\n",
      "Maxaron Forte                                                                                          3\n",
      "GaviLyte-C                                                                                             3\n",
      "Accolate                                                                                               3\n",
      "Nicotrol NS                                                                                            3\n",
      "Meperitab                                                                                              3\n",
      "Pneumococcal 23-polyvalent vaccine                                                                     3\n",
      "Phenytek                                                                                               3\n",
      "Demeclocycline                                                                                         3\n",
      "Pentothal                                                                                              3\n",
      "Senokot S                                                                                              3\n",
      "Systane Balance                                                                                        3\n",
      "Ceftibuten                                                                                             3\n",
      "Zafirlukast                                                                                            3\n",
      "Simbrinza                                                                                              3\n",
      "Terazol                                                                                                3\n",
      "ZzzQuil                                                                                                3\n",
      "Combivir                                                                                               3\n",
      "Ganciclovir                                                                                            3\n",
      "Symlin                                                                                                 3\n",
      "Ritalin-SR                                                                                             3\n",
      "Motofen                                                                                                3\n",
      "Dextrostat                                                                                             3\n",
      "Carboplatin                                                                                            3\n",
      "Insulin lispro / insulin lispro protamine                                                              3\n",
      "Dexamethasone Intensol                                                                                 3\n",
      "Reserpine                                                                                              3\n",
      "Parafon Forte DSC                                                                                      3\n",
      "Synjardy                                                                                               3\n",
      "Ephedrine                                                                                              3\n",
      "Vitamin D3                                                                                             3\n",
      "Relenza                                                                                                3\n",
      "Zenpep                                                                                                 3\n",
      "Aristocort                                                                                             3\n",
      "Neoral                                                                                                 3\n",
      "Rhinocort                                                                                              3\n",
      "Penlac Nail Lacquer                                                                                    3\n",
      "Seconal                                                                                                3\n",
      "Halcinonide                                                                                            3\n",
      "Cobicistat / darunavir                                                                                 3\n",
      "Alrex                                                                                                  3\n",
      "Leukeran                                                                                               3\n",
      "Fuzeon                                                                                                 3\n",
      "Gildess 1 / 20                                                                                         3\n",
      "NovoLog Mix 70 / 30                                                                                    3\n",
      "Bensal HP                                                                                              3\n",
      "Pamine Forte                                                                                           3\n",
      "Insulin aspart / insulin aspart protamine                                                              3\n",
      "Immune globulin intravenous and subcutaneous                                                           3\n",
      "Qudexy XR                                                                                              3\n",
      "Xalkori                                                                                                3\n",
      "Unithroid                                                                                              3\n",
      "Panitumumab                                                                                            3\n",
      "Promacta                                                                                               3\n",
      "Fleet Bisacodyl                                                                                        3\n",
      "H.P. Acthar Gel                                                                                        3\n",
      "Amlodipine / atorvastatin                                                                              3\n",
      "Acticlate                                                                                              3\n",
      "Guaifenesin / hydrocodone                                                                              3\n",
      "Afrin Original                                                                                         3\n",
      "Ergotamine                                                                                             3\n",
      "Mevacor                                                                                                3\n",
      "Tolnaftate                                                                                             3\n",
      "Epzicom                                                                                                3\n",
      "Azo Urinary Pain Relief                                                                                3\n",
      "Myfortic                                                                                               3\n",
      "Levo-Dromoran                                                                                          3\n",
      "Proferrin-ES                                                                                           3\n",
      "Niferex                                                                                                3\n",
      "Atropine / difenoxin                                                                                   3\n",
      "Heme iron polypeptide                                                                                  3\n",
      "Interferon alfa-2b                                                                                     3\n",
      "Artemether / lumefantrine                                                                              3\n",
      "Droperidol                                                                                             3\n",
      "Nitro-Bid                                                                                              3\n",
      "Metolazone                                                                                             3\n",
      "Hypotears                                                                                              3\n",
      "Lamictal ODT                                                                                           3\n",
      "Children's Claritin Allergy                                                                            3\n",
      "Abacavir / lamivudine                                                                                  3\n",
      "Spectracef                                                                                             3\n",
      "NuLYTELY                                                                                               3\n",
      "Zanamivir                                                                                              3\n",
      "Tropicamide                                                                                            3\n",
      "Aspirin / caffeine                                                                                     3\n",
      "Rythmol                                                                                                3\n",
      "Estropipate                                                                                            3\n",
      "Tigan                                                                                                  3\n",
      "Slow Fe                                                                                                3\n",
      "Prialt                                                                                                 3\n",
      "Prevalite                                                                                              3\n",
      "Empagliflozin / metformin                                                                              3\n",
      "Alphagan P                                                                                             3\n",
      "Botulinum toxin type b                                                                                 3\n",
      "Cardura XL                                                                                             3\n",
      "Atelvia                                                                                                3\n",
      "Lotensin                                                                                               3\n",
      "Monovisc                                                                                               3\n",
      "Collagenase clostridium histolyticum                                                                   3\n",
      "Clindamax                                                                                              3\n",
      "Cedax                                                                                                  3\n",
      "Nitrolingual Pumpspray                                                                                 3\n",
      "Intal Inhaler                                                                                          3\n",
      "Abilify Discmelt                                                                                       3\n",
      "Spectazole                                                                                             3\n",
      "Isosorbide dinitrate                                                                                   3\n",
      "Balsam peru / castor oil / trypsin                                                                     3\n",
      "Children's Motrin                                                                                      3\n",
      "Natpara                                                                                                3\n",
      "NovoLog FlexPen                                                                                        3\n",
      "Gabitril                                                                                               3\n",
      "Nimodipine                                                                                             3\n",
      "Dimetapp Children's Cold & Cough                                                                       3\n",
      "Carbinoxamine                                                                                          3\n",
      "Ovide                                                                                                  3\n",
      "Limbitrol DS                                                                                           3\n",
      "Proctofoam HC                                                                                          3\n",
      "AmLactin                                                                                               3\n",
      "Retin A Micro                                                                                          3\n",
      "Fleet Phospho Soda                                                                                     3\n",
      "Boudreaux Butt Paste                                                                                   3\n",
      "Probenecid                                                                                             3\n",
      "Peridex                                                                                                3\n",
      "R-Tanna                                                                                                3\n",
      "Cortizone-10                                                                                           3\n",
      "Elestat                                                                                                3\n",
      "Ascorbic acid                                                                                          3\n",
      "Lamivudine                                                                                             3\n",
      "Low-Ogestrel-21                                                                                        3\n",
      "Augmentin XR                                                                                           3\n",
      "Zaditor                                                                                                3\n",
      "Chaparral                                                                                              3\n",
      "Debrox                                                                                                 3\n",
      "Nasacort AQ                                                                                            3\n",
      "Procardia XL                                                                                           3\n",
      "Hyoscyamine / methenamine / methylene blue / sodium biphosphate                                        3\n",
      "Lioresal Intrathecal                                                                                   3\n",
      "Uniphyl                                                                                                3\n",
      "Coartem                                                                                                3\n",
      "Ansaid                                                                                                 3\n",
      "Blisovi Fe 1.5 / 30                                                                                    3\n",
      "Uta                                                                                                    3\n",
      "Isocarboxazid                                                                                          3\n",
      "Novolin 70 / 30                                                                                        3\n",
      "Salsalate                                                                                              3\n",
      "Natesto                                                                                                3\n",
      "Xiaflex                                                                                                3\n",
      "Alpha 1-proteinase inhibitor                                                                           3\n",
      "Gamunex                                                                                                3\n",
      "Lopinavir / ritonavir                                                                                  3\n",
      "Crotamiton                                                                                             3\n",
      "Excedrin Tension Headache                                                                              3\n",
      "Questran Light                                                                                         3\n",
      "Microgestin 1.5 / 30                                                                                   3\n",
      "Buprenex                                                                                               3\n",
      "Intal                                                                                                  3\n",
      "Marplan                                                                                                3\n",
      "Bifidobacterium infantis / lactobacillus acidophilus                                                   3\n",
      "Brodalumab                                                                                             3\n",
      "Olysio                                                                                                 3\n",
      "Glyburide / metformin                                                                                  3\n",
      "Paromomycin                                                                                            3\n",
      "Striverdi Respimat                                                                                     3\n",
      "Axid AR                                                                                                3\n",
      "GlipiZIDE XL                                                                                           3\n",
      "Norpace CR                                                                                             3\n",
      "Zaroxolyn                                                                                              3\n",
      "Rajani                                                                                                 3\n",
      "Acetaminophen / phenylephrine                                                                          3\n",
      "Prezcobix                                                                                              3\n",
      "Mestinon Timespan                                                                                      3\n",
      "Dolobid                                                                                                3\n",
      "Zyrtec-D                                                                                               3\n",
      "Glucose                                                                                                3\n",
      "Chondroitin / glucosamine / methylsulfonylmethane                                                      3\n",
      "Lopid                                                                                                  3\n",
      "Methylcellulose                                                                                        3\n",
      "Pamine                                                                                                 3\n",
      "Butabarbital                                                                                           3\n",
      "Histrelin                                                                                              3\n",
      "Guarana                                                                                                3\n",
      "Myobloc                                                                                                3\n",
      "Ascomp with Codeine                                                                                    3\n",
      "Xtandi                                                                                                 3\n",
      "Hexachlorophene                                                                                        3\n",
      "Verdeso                                                                                                3\n",
      "Oxaydo                                                                                                 3\n",
      "Pexeva                                                                                                 3\n",
      "Duramorph                                                                                              3\n",
      "Salicylic acid / sulfur                                                                                3\n",
      "Tolak                                                                                                  3\n",
      "Vitamin D2                                                                                             3\n",
      "Miltown                                                                                                3\n",
      "Chlorambucil                                                                                           3\n",
      "Oxaliplatin                                                                                            3\n",
      "Zostrix                                                                                                3\n",
      "Zegerid OTC                                                                                            3\n",
      "Siliq                                                                                                  3\n",
      "Zirgan                                                                                                 3\n",
      "Vandazole                                                                                              3\n",
      "Cortef                                                                                                 3\n",
      "Sarna Sensitive                                                                                        3\n",
      "Captopril                                                                                              3\n",
      "Prezista                                                                                               3\n",
      "Doral                                                                                                  3\n",
      "Delatestryl                                                                                            3\n",
      "Amikacin                                                                                               3\n",
      "Exparel                                                                                                3\n",
      "Pletal                                                                                                 3\n",
      "Azasite                                                                                                3\n",
      "Divigel                                                                                                3\n",
      "Piperacillin / tazobactam                                                                              3\n",
      "Brimonidine / brinzolamide                                                                             3\n",
      "Trental                                                                                                3\n",
      "Simeprevir                                                                                             3\n",
      "Enstilar                                                                                               3\n",
      "Apokyn                                                                                                 3\n",
      "Diflorasone                                                                                            3\n",
      "Namenda XR                                                                                             3\n",
      "Ilevro                                                                                                 3\n",
      "Opcicon One-Step                                                                                       3\n",
      "Latisse                                                                                                3\n",
      "Esterified estrogens                                                                                   3\n",
      "Urso                                                                                                   3\n",
      "Tev-Tropin                                                                                             3\n",
      "Stromectol                                                                                             3\n",
      "Busulfan                                                                                               2\n",
      "Eurax                                                                                                  2\n",
      "Aricept ODT                                                                                            2\n",
      "Talacen                                                                                                2\n",
      "Mucinex Maximum Strength                                                                               2\n",
      "Enulose                                                                                                2\n",
      "Gentian violet                                                                                         2\n",
      "Azulfidine                                                                                             2\n",
      "TheraTears                                                                                             2\n",
      "Caziant                                                                                                2\n",
      "Rosula                                                                                                 2\n",
      "Follicle stimulating hormone                                                                           2\n",
      "Oxtellar XR                                                                                            2\n",
      "Senna Plus                                                                                             2\n",
      "Terazol 7                                                                                              2\n",
      "Intelence                                                                                              2\n",
      "Vitafol Ultra                                                                                          2\n",
      "Pepcid AC Chewable Tablets                                                                             2\n",
      "Potassium citrate                                                                                      2\n",
      "Phillips Colon Health                                                                                  2\n",
      "Pulmicort Respules                                                                                     2\n",
      "Sulfatrim                                                                                              2\n",
      "Midol PM                                                                                               2\n",
      "Ruconest                                                                                               2\n",
      "Brethine                                                                                               2\n",
      "Norpace                                                                                                2\n",
      "Valerian                                                                                               2\n",
      "Polysporin First Aid Antibiotic Ointment                                                               2\n",
      "Erythrocin                                                                                             2\n",
      "Hyzine                                                                                                 2\n",
      "Excedrin Back & Body                                                                                   2\n",
      "Fluoroplex                                                                                             2\n",
      "Verelan PM                                                                                             2\n",
      "Acetaminophen / aspirin                                                                                2\n",
      "Tinzaparin                                                                                             2\n",
      "Codimal DM                                                                                             2\n",
      "Velcade                                                                                                2\n",
      "Periogard                                                                                              2\n",
      "Capzasin-P                                                                                             2\n",
      "Magnesium sulfate                                                                                      2\n",
      "Generlac                                                                                               2\n",
      "Dantrolene                                                                                             2\n",
      "Regorafenib                                                                                            2\n",
      "Thioridazine                                                                                           2\n",
      "Chlorcyclizine / phenylephrine                                                                         2\n",
      "Anucort-HC                                                                                             2\n",
      "Sucroferric oxyhydroxide                                                                               2\n",
      "Aloprim                                                                                                2\n",
      "Unasyn                                                                                                 2\n",
      "Ampicillin / sulbactam                                                                                 2\n",
      "Coagulation factor ix                                                                                  2\n",
      "Axid                                                                                                   2\n",
      "Blistex                                                                                                2\n",
      "Noroxin                                                                                                2\n",
      "Nystop                                                                                                 2\n",
      "Selsun Blue                                                                                            2\n",
      "Augmentin ES-600                                                                                       2\n",
      "Metaproterenol                                                                                         2\n",
      "Magaldrate / simethicone                                                                               2\n",
      "Ozurdex                                                                                                2\n",
      "Hyosyne                                                                                                2\n",
      "Lactic acid                                                                                            2\n",
      "Beconase AQ                                                                                            2\n",
      "Nexium 24HR                                                                                            2\n",
      "Humalog Mix 75 / 25                                                                                    2\n",
      "Dexchlorpheniramine / dextromethorphan / pseudoephedrine                                               2\n",
      "Oasis Tears                                                                                            2\n",
      "Robitussin Cough + Chest Congestion DM                                                                 2\n",
      "Estraderm                                                                                              2\n",
      "Univasc                                                                                                2\n",
      "Colace                                                                                                 2\n",
      "Ponatinib                                                                                              2\n",
      "Alamast                                                                                                2\n",
      "Amethyst                                                                                               2\n",
      "Calcium acetate                                                                                        2\n",
      "Moxeza                                                                                                 2\n",
      "Luxiq                                                                                                  2\n",
      "Auryxia                                                                                                2\n",
      "Paraplatin                                                                                             2\n",
      "Sansert                                                                                                2\n",
      "Pemetrexed                                                                                             2\n",
      "Sterapred DS                                                                                           2\n",
      "Cleocin Ovules                                                                                         2\n",
      "Neupogen                                                                                               2\n",
      "Trusopt                                                                                                2\n",
      "Fenoprofen                                                                                             2\n",
      "Ginseng                                                                                                2\n",
      "Tranxene SD                                                                                            2\n",
      "Ethambutol                                                                                             2\n",
      "Norditropin                                                                                            2\n",
      "Darvocet-N 50                                                                                          2\n",
      "Gadoxetate disodium                                                                                    2\n",
      "Doans Pills Extra Strength                                                                             2\n",
      "Selzentry                                                                                              2\n",
      "Hydroxocobalamin                                                                                       2\n",
      "Phentercot                                                                                             2\n",
      "Polidocanol                                                                                            2\n",
      "Dextromethorphan / phenylephrine / pyrilamine                                                          2\n",
      "Senna Lax                                                                                              2\n",
      "Afrin 4 Hour Extra Moisturizing                                                                        2\n",
      "Cytotec                                                                                                2\n",
      "Arnuity Ellipta                                                                                        2\n",
      "Calamine                                                                                               2\n",
      "Antihemophilic factor                                                                                  2\n",
      "Triple Antibiotic                                                                                      2\n",
      "Dicloxacillin                                                                                          2\n",
      "Indapamide                                                                                             2\n",
      "Nesina                                                                                                 2\n",
      "Menest                                                                                                 2\n",
      "Phendiet                                                                                               2\n",
      "Nilstat                                                                                                2\n",
      "Vitapap                                                                                                2\n",
      "Carmol 20                                                                                              2\n",
      "Chloramphenicol                                                                                        2\n",
      "Infumorph                                                                                              2\n",
      "Rocaltrol                                                                                              2\n",
      "Lanthanum carbonate                                                                                    2\n",
      "Cesamet                                                                                                2\n",
      "Nuvessa                                                                                                2\n",
      "Emtricitabine / rilpivirine / tenofovir alafenamide                                                    2\n",
      "Hydrocortone                                                                                           2\n",
      "Provida DHA                                                                                            2\n",
      "Naftin                                                                                                 2\n",
      "Hydrocortisone / lidocaine                                                                             2\n",
      "Gadobutrol                                                                                             2\n",
      "Filgrastim                                                                                             2\n",
      "Intron A                                                                                               2\n",
      "Lesinurad                                                                                              2\n",
      "Nafarelin                                                                                              2\n",
      "Alclometasone                                                                                          2\n",
      "Isoxsuprine                                                                                            2\n",
      "Loprox                                                                                                 2\n",
      "Macitentan                                                                                             2\n",
      "Aldactazide                                                                                            2\n",
      "Kemadrin                                                                                               2\n",
      "Colyte                                                                                                 2\n",
      "Bexarotene                                                                                             2\n",
      "Readi-Cat                                                                                              2\n",
      "Mandelamine                                                                                            2\n",
      "Glipizide / metformin                                                                                  2\n",
      "Eskalith-CR                                                                                            2\n",
      "Theo-24                                                                                                2\n",
      "Vivelle                                                                                                2\n",
      "Probenecid and Colchicine                                                                              2\n",
      "Supprelin LA                                                                                           2\n",
      "Proscar                                                                                                2\n",
      "Introvale                                                                                              2\n",
      "KneeRelief                                                                                             2\n",
      "Oxiconazole                                                                                            2\n",
      "Luminal                                                                                                2\n",
      "Mexitil                                                                                                2\n",
      "Deconamine                                                                                             2\n",
      "Myorisan                                                                                               2\n",
      "RadiaPlexRx                                                                                            2\n",
      "Fosinopril                                                                                             2\n",
      "Afatinib                                                                                               2\n",
      "Acarbose                                                                                               2\n",
      "Orapred                                                                                                2\n",
      "Calcium carbonate / simethicone                                                                        2\n",
      "Acebutolol                                                                                             2\n",
      "Povidone iodine                                                                                        2\n",
      "Vospire ER                                                                                             2\n",
      "Pacerone                                                                                               2\n",
      "Kionex                                                                                                 2\n",
      "Dasetta 7 / 7 / 7                                                                                      2\n",
      "Feraheme                                                                                               2\n",
      "VisRx Dose Pack                                                                                        2\n",
      "Praziquantel                                                                                           2\n",
      "Desyrel Dividose                                                                                       2\n",
      "Slo-Niacin                                                                                             2\n",
      "Norfloxacin                                                                                            2\n",
      "Lidocaine / menthol                                                                                    2\n",
      "Peginterferon beta-1a                                                                                  2\n",
      "Azasan                                                                                                 2\n",
      "Azo-Cranberry                                                                                          2\n",
      "Zurampic                                                                                               2\n",
      "Creatine                                                                                               2\n",
      "Mirapex ER                                                                                             2\n",
      "Premphase                                                                                              2\n",
      "Prolensa                                                                                               2\n",
      "Acetaminophen / caffeine / magnesium salicylate                                                        2\n",
      "Palgic                                                                                                 2\n",
      "Danocrine                                                                                              2\n",
      "Vicks Sinex 12-Hour Decongestant Nasal Spray                                                           2\n",
      "Moexipril                                                                                              2\n",
      "Orajel                                                                                                 2\n",
      "Vectibix                                                                                               2\n",
      "Xgeva                                                                                                  2\n",
      "Zemaira                                                                                                2\n",
      "Urispas                                                                                                2\n",
      "Gonal-f                                                                                                2\n",
      "Diphenhydramine / hydrocortisone                                                                       2\n",
      "Dramamine Less Drowsy                                                                                  2\n",
      "Gildess 24 Fe                                                                                          2\n",
      "MG217 Medicated Tar                                                                                    2\n",
      "Paremyd                                                                                                2\n",
      "Alupent                                                                                                2\n",
      "Besivance                                                                                              2\n",
      "Caduet                                                                                                 2\n",
      "Hydroxyamphetamine / tropicamide                                                                       2\n",
      "Aquoral                                                                                                2\n",
      "Ampicillin                                                                                             2\n",
      "Deblitane                                                                                              2\n",
      "Antihemophilic factor / von willebrand factor                                                          2\n",
      "HyoMax SL                                                                                              2\n",
      "Diastat                                                                                                2\n",
      "Bromfenac                                                                                              2\n",
      "Folic acid                                                                                             2\n",
      "Prednicarbate                                                                                          2\n",
      "PreNexa                                                                                                2\n",
      "Advil Cold and Sinus Liqui-Gels                                                                        2\n",
      "Lipofen                                                                                                2\n",
      "Limbitrol                                                                                              2\n",
      "Anacin                                                                                                 2\n",
      "Rebetol                                                                                                2\n",
      "Victrelis                                                                                              2\n",
      "L-Methylfolate Calcium                                                                                 2\n",
      "Rho (d) immune globulin                                                                                2\n",
      "Dermatop                                                                                               2\n",
      "Kytril                                                                                                 2\n",
      "Hydrochlorothiazide / spironolactone                                                                   2\n",
      "Magnacet                                                                                               2\n",
      "Besifloxacin                                                                                           2\n",
      "Fluorometholone                                                                                        2\n",
      "Compoz Nighttime Sleep Aid                                                                             2\n",
      "Cutar                                                                                                  2\n",
      "Brivaracetam                                                                                           2\n",
      "Synarel                                                                                                2\n",
      "Ludiomil                                                                                               2\n",
      "Declomycin                                                                                             2\n",
      "Maraviroc                                                                                              2\n",
      "Neosporin                                                                                              2\n",
      "Eovist                                                                                                 2\n",
      "Buckleys Mixture                                                                                       2\n",
      "Lac-Hydrin                                                                                             2\n",
      "Mepivacaine                                                                                            2\n",
      "Avandamet                                                                                              2\n",
      "Semprex-D                                                                                              2\n",
      "Alcortin A                                                                                             2\n",
      "PEG3350                                                                                                2\n",
      "Sodium polystyrene sulfonate                                                                           2\n",
      "DuoNeb                                                                                                 2\n",
      "Menthol                                                                                                2\n",
      "HC-Derma-Pax                                                                                           2\n",
      "Rilonacept                                                                                             2\n",
      "Robitussin CoughGels Long-Acting                                                                       2\n",
      "Electrolyte replacement solutions                                                                      2\n",
      "Ogen                                                                                                   2\n",
      "Xylocaine Jelly                                                                                        2\n",
      "Flagyl IV                                                                                              2\n",
      "Flolan                                                                                                 2\n",
      "Nizoral A-D                                                                                            2\n",
      "Glucosamine                                                                                            2\n",
      "Pregnyl                                                                                                2\n",
      "Dallergy                                                                                               2\n",
      "Omacor                                                                                                 2\n",
      "Naloxone / oxycodone                                                                                   2\n",
      "Glutamine                                                                                              2\n",
      "Fosrenol                                                                                               2\n",
      "Alogliptin                                                                                             2\n",
      "Natelle One                                                                                            2\n",
      "Fabior                                                                                                 2\n",
      "Orudis                                                                                                 2\n",
      "Auranofin                                                                                              2\n",
      "Tagamet                                                                                                2\n",
      "Ditropan XL                                                                                            2\n",
      "Gynazole-1                                                                                             2\n",
      "Sudafed PE Severe Cold                                                                                 2\n",
      "Pemirolast                                                                                             2\n",
      "Elinest                                                                                                2\n",
      "Lamictal XR                                                                                            2\n",
      "Juleber                                                                                                2\n",
      "Travatan                                                                                               2\n",
      "Alavert D-12 Hour Allergy and Sinus                                                                    2\n",
      "Tolmetin                                                                                               2\n",
      "Sine-Off Maximum Strength                                                                              2\n",
      "Fluzone                                                                                                2\n",
      "Romiplostim                                                                                            2\n",
      "Tears Again                                                                                            2\n",
      "Sinemet CR                                                                                             2\n",
      "Aloe vera / hydrocortisone / iodoquinol                                                                2\n",
      "Nimotop                                                                                                2\n",
      "Metformin / rosiglitazone                                                                              2\n",
      "Biotene Mouthwash                                                                                      2\n",
      "Vanspar                                                                                                2\n",
      "Oxistat                                                                                                2\n",
      "Kybella                                                                                                2\n",
      "Zostavax                                                                                               2\n",
      "Blephamide                                                                                             2\n",
      "SalivaMAX                                                                                              2\n",
      "Coenzyme Q10                                                                                           2\n",
      "Zenchent                                                                                               2\n",
      "Butoconazole                                                                                           2\n",
      "Gammagard                                                                                              2\n",
      "Cholestyramine Light                                                                                   2\n",
      "Lomedia 24 Fe                                                                                          2\n",
      "Benzoyl peroxide / sulfur                                                                              2\n",
      "Capzasin                                                                                               2\n",
      "Rayos                                                                                                  2\n",
      "Zosyn                                                                                                  2\n",
      "Mycolog II                                                                                             2\n",
      "Ferric citrate                                                                                         2\n",
      "Altoprev                                                                                               2\n",
      "Odefsey                                                                                                2\n",
      "Elimite                                                                                                2\n",
      "Salagen                                                                                                2\n",
      "Onzetra Xsail                                                                                          2\n",
      "B & O Supprettes                                                                                       2\n",
      "Acetaminophen / pentazocine                                                                            2\n",
      "Sildec-PE DM                                                                                           2\n",
      "Pyrithione zinc                                                                                        2\n",
      "Etravirine                                                                                             2\n",
      "Horse chestnut                                                                                         2\n",
      "Conestat alfa                                                                                          2\n",
      "Magnesium amino acids chelate                                                                          2\n",
      "Zelapar                                                                                                2\n",
      "Triavil                                                                                                2\n",
      "Bumex                                                                                                  2\n",
      "Prednisolone / sulfacetamide sodium                                                                    2\n",
      "Maxifed DM                                                                                             2\n",
      "Opsumit                                                                                                2\n",
      "Verelan                                                                                                2\n",
      "Tiger Balm                                                                                             2\n",
      "Bosentan                                                                                               2\n",
      "Rebif Rebidose                                                                                         2\n",
      "CitraNatal Assure                                                                                      2\n",
      "Rocuronium                                                                                             2\n",
      "Pilocarpine                                                                                            2\n",
      "Acrivastine / pseudoephedrine                                                                          2\n",
      "Plendil                                                                                                2\n",
      "Iclusig                                                                                                2\n",
      "Symmetrel                                                                                              2\n",
      "Amiloride                                                                                              2\n",
      "Boceprevir                                                                                             2\n",
      "Primlev                                                                                                2\n",
      "Colchicine / probenecid                                                                                2\n",
      "Nizoral Topical                                                                                        2\n",
      "Anexsia                                                                                                2\n",
      "Allantoin / camphor / phenol                                                                           2\n",
      "Atovaquone                                                                                             2\n",
      "Arcalyst                                                                                               2\n",
      "Acetaminophen / dextromethorphan / phenylephrine                                                       2\n",
      "NuOx                                                                                                   2\n",
      "Synalar                                                                                                2\n",
      "Atrovent Nasal                                                                                         2\n",
      "Gastrocrom                                                                                             2\n",
      "Tracleer                                                                                               2\n",
      "Vasotec                                                                                                2\n",
      "Halog                                                                                                  2\n",
      "Salmeterol                                                                                             2\n",
      "Primatene                                                                                              2\n",
      "Gildess 1.5 / 30                                                                                       2\n",
      "Deoxycholic acid                                                                                       2\n",
      "Velphoro                                                                                               2\n",
      "Nutropin                                                                                               2\n",
      "Epoprostenol                                                                                           2\n",
      "Nolvadex                                                                                               2\n",
      "Balacet                                                                                                2\n",
      "Gelusil                                                                                                2\n",
      "Rogaine Men's Extra Strength                                                                           2\n",
      "Myleran                                                                                                2\n",
      "A / B Otic                                                                                             2\n",
      "Epogen                                                                                                 2\n",
      "Perforomist                                                                                            2\n",
      "Aventyl Hydrochloride                                                                                  2\n",
      "Ferumoxytol                                                                                            2\n",
      "Bortezomib                                                                                             2\n",
      "Stivarga                                                                                               2\n",
      "Ridaura                                                                                                2\n",
      "Iophen-C NR                                                                                            2\n",
      "depo-subQ provera 104                                                                                  2\n",
      "Briviact                                                                                               2\n",
      "Cyklokapron                                                                                            2\n",
      "Aveeno                                                                                                 2\n",
      "Lonox                                                                                                  2\n",
      "Sectral                                                                                                2\n",
      "WinRho SDF                                                                                             2\n",
      "Cardizem LA                                                                                            2\n",
      "Rozex                                                                                                  2\n",
      "Humate-P                                                                                               2\n",
      "Anti-Diarrheal                                                                                         2\n",
      "Viramune                                                                                               2\n",
      "Targretin                                                                                              2\n",
      "Plegridy                                                                                               2\n",
      "Humulin N                                                                                              2\n",
      "Readi-Cat 2                                                                                            2\n",
      "Opium Deodorized                                                                                       2\n",
      "Nonoxynol 9                                                                                            2\n",
      "Gadavist                                                                                               2\n",
      "Fleet Glycerin Suppositories Adult                                                                     2\n",
      "Kaletra                                                                                                2\n",
      "Tretin-X                                                                                               2\n",
      "Acetic acid / hydrocortisone                                                                           1\n",
      "Children's Dimetapp Decongestant Infant                                                                1\n",
      "Todays Health Nasal  Relief Extra Moisturizing                                                         1\n",
      "Benadryl Allergy Sinus                                                                                 1\n",
      "Oxydose                                                                                                1\n",
      "Maxitrol                                                                                               1\n",
      "Feen-A-Mint                                                                                            1\n",
      "Phenylephrine / pyrilamine                                                                             1\n",
      "Razadyne ER                                                                                            1\n",
      "Vincasar PFS                                                                                           1\n",
      "Ritonavir                                                                                              1\n",
      "Halfan                                                                                                 1\n",
      "Vicks Dayquil Cold & Flu Relief                                                                        1\n",
      "Magnevist                                                                                              1\n",
      "Zyloprim                                                                                               1\n",
      "Prevacid OTC                                                                                           1\n",
      "Doripenem                                                                                              1\n",
      "Rayaldee                                                                                               1\n",
      "Mimvey                                                                                                 1\n",
      "Ethmozine                                                                                              1\n",
      "Virtussin A / C                                                                                        1\n",
      "FiberCon                                                                                               1\n",
      "RID                                                                                                    1\n",
      "Cefepime                                                                                               1\n",
      "Prevident 5000 Plus                                                                                    1\n",
      "Vanoxide-HC                                                                                            1\n",
      "OB Complete Gold                                                                                       1\n",
      "Provocholine                                                                                           1\n",
      "Doribax                                                                                                1\n",
      "Varubi                                                                                                 1\n",
      "Slippery elm                                                                                           1\n",
      "Lovastatin / niacin                                                                                    1\n",
      "Phrenilin                                                                                              1\n",
      "Meningococcal conjugate vaccine                                                                        1\n",
      "Vanatab DX                                                                                             1\n",
      "Mifepristone                                                                                           1\n",
      "Peganone                                                                                               1\n",
      "Flonase Sensimist                                                                                      1\n",
      "Azopt                                                                                                  1\n",
      "Acetic acid / antipyrine / benzocaine / polycosanol                                                    1\n",
      "Tykerb                                                                                                 1\n",
      "Ifex                                                                                                   1\n",
      "Crinone                                                                                                1\n",
      "Levocarnitine                                                                                          1\n",
      "Cisapride                                                                                              1\n",
      "Sodium ferric gluconate complex                                                                        1\n",
      "Macugen                                                                                                1\n",
      "Valcyte                                                                                                1\n",
      "Reslizumab                                                                                             1\n",
      "Methitest                                                                                              1\n",
      "Calcifediol                                                                                            1\n",
      "Stalevo 150                                                                                            1\n",
      "Ginger                                                                                                 1\n",
      "Dimethyl sulfoxide                                                                                     1\n",
      "Kazano                                                                                                 1\n",
      "Aristocort A                                                                                           1\n",
      "Aristospan                                                                                             1\n",
      "Hydralazine / hydrochlorothiazide / reserpine                                                          1\n",
      "Acnex                                                                                                  1\n",
      "Nafcillin                                                                                              1\n",
      "Rydapt                                                                                                 1\n",
      "Resorcinol / sulfur                                                                                    1\n",
      "Bismuth subgallate                                                                                     1\n",
      "Palladone                                                                                              1\n",
      "Cepacol Dual Relief Sore Throat                                                                        1\n",
      "Istodax                                                                                                1\n",
      "Silver nitrate                                                                                         1\n",
      "Triple Paste                                                                                           1\n",
      "Travatan Z                                                                                             1\n",
      "Nplate                                                                                                 1\n",
      "Advil Migraine                                                                                         1\n",
      "Tilmanocept                                                                                            1\n",
      "Trixaicin HP                                                                                           1\n",
      "Doxidan Tablet                                                                                         1\n",
      "Alka-Seltzer Plus Cold Formula Sparkling Original Effervescent Tablets                                 1\n",
      "Advicor                                                                                                1\n",
      "Prednicot                                                                                              1\n",
      "Tylenol Allergy Multi-Symptom Nighttime                                                                1\n",
      "Alahist LQ                                                                                             1\n",
      "Capex                                                                                                  1\n",
      "Mucomyst-10                                                                                            1\n",
      "Diastat AcuDial                                                                                        1\n",
      "Excedrin Quick Tab                                                                                     1\n",
      "Miacalcin Nasal                                                                                        1\n",
      "Loratadine-D 24 Hour                                                                                   1\n",
      "Scytera                                                                                                1\n",
      "Fallback Solo                                                                                          1\n",
      "Clarinex-D 12 Hour                                                                                     1\n",
      "Prosom                                                                                                 1\n",
      "Miglitol                                                                                               1\n",
      "Prax                                                                                                   1\n",
      "Devrom                                                                                                 1\n",
      "Betadine Aerosol Spray                                                                                 1\n",
      "Psorcon                                                                                                1\n",
      "Levacet                                                                                                1\n",
      "Ivacaftor                                                                                              1\n",
      "Optivar                                                                                                1\n",
      "Fenugreek                                                                                              1\n",
      "Terazol 3                                                                                              1\n",
      "Apidra                                                                                                 1\n",
      "Gramicidin / neomycin / polymyxin b                                                                    1\n",
      "Palonosetron                                                                                           1\n",
      "Zostrix Diabetic Foot Pain                                                                             1\n",
      "Chloromycetin                                                                                          1\n",
      "Bioflavonoids / zinc glycinate                                                                         1\n",
      "Konsyl                                                                                                 1\n",
      "Forfivo XL                                                                                             1\n",
      "Feosol Original                                                                                        1\n",
      "Cholecalciferol / folic acid                                                                           1\n",
      "Larissia                                                                                               1\n",
      "Ex-Lax Regular Strength Pills                                                                          1\n",
      "Insta-Glucose                                                                                          1\n",
      "Tylenol Cold                                                                                           1\n",
      "Drixoral Decongestant Non-Drowsy                                                                       1\n",
      "Nembutal Sodium                                                                                        1\n",
      "Nateglinide                                                                                            1\n",
      "Integra                                                                                                1\n",
      "Neo-Synephrine Nasal                                                                                   1\n",
      "Isoptin SR                                                                                             1\n",
      "Yellow fever vaccine                                                                                   1\n",
      "TriLyte                                                                                                1\n",
      "Clioquinol                                                                                             1\n",
      "Furadantin                                                                                             1\n",
      "Cyclafem 7 / 7 / 7                                                                                     1\n",
      "Kalydeco                                                                                               1\n",
      "Cometriq                                                                                               1\n",
      "Azmacort                                                                                               1\n",
      "Abstral                                                                                                1\n",
      "Antara                                                                                                 1\n",
      "Doculax                                                                                                1\n",
      "Vosol HC                                                                                               1\n",
      "Menopur                                                                                                1\n",
      "Tasimelteon                                                                                            1\n",
      "Depakote Sprinkles                                                                                     1\n",
      "Kyprolis                                                                                               1\n",
      "Zebeta                                                                                                 1\n",
      "Proglycem                                                                                              1\n",
      "Daptomycin                                                                                             1\n",
      "Pernox                                                                                                 1\n",
      "Temsirolimus                                                                                           1\n",
      "Refresh PM                                                                                             1\n",
      "Dornase alfa                                                                                           1\n",
      "Glimepiride / rosiglitazone                                                                            1\n",
      "Mucinex DM Maximum Strength                                                                            1\n",
      "Menotropins                                                                                            1\n",
      "Urised                                                                                                 1\n",
      "Folotyn                                                                                                1\n",
      "Rifabutin                                                                                              1\n",
      "Ethotoin                                                                                               1\n",
      "Amevive                                                                                                1\n",
      "Mylanta Gas                                                                                            1\n",
      "Kerafoam                                                                                               1\n",
      "Midol Extended Relief                                                                                  1\n",
      "Desloratadine / pseudoephedrine                                                                        1\n",
      "Extina                                                                                                 1\n",
      "Edoxaban                                                                                               1\n",
      "Suprenza                                                                                               1\n",
      "Myophen                                                                                                1\n",
      "Serostim                                                                                               1\n",
      "Visine-A                                                                                               1\n",
      "Demadex                                                                                                1\n",
      "Pegaptanib                                                                                             1\n",
      "Zileuton                                                                                               1\n",
      "Midamor                                                                                                1\n",
      "Oxytocin                                                                                               1\n",
      "Iluvien                                                                                                1\n",
      "Clear Eyes Contact Lens Multi-Action Relief                                                            1\n",
      "Oraqix                                                                                                 1\n",
      "Halofantrine                                                                                           1\n",
      "Aldomet                                                                                                1\n",
      "pHisoHex                                                                                               1\n",
      "Albenza                                                                                                1\n",
      "Di-Gel                                                                                                 1\n",
      "Hydralazine / isosorbide dinitrate                                                                     1\n",
      "Butisol Sodium                                                                                         1\n",
      "Betapace                                                                                               1\n",
      "PhosLo                                                                                                 1\n",
      "Poly Iron                                                                                              1\n",
      "Microzide                                                                                              1\n",
      "Novantrone                                                                                             1\n",
      "Gamunex-C                                                                                              1\n",
      "BenzEFoam Ultra                                                                                        1\n",
      "Epsom Salt                                                                                             1\n",
      "Peppermint                                                                                             1\n",
      "Midostaurin                                                                                            1\n",
      "Calcium / vitamin d                                                                                    1\n",
      "Calcium carbonate / risedronate                                                                        1\n",
      "Pramoxine / zinc oxide                                                                                 1\n",
      "Zeasorb-AF                                                                                             1\n",
      "Riociguat                                                                                              1\n",
      "Clemastine                                                                                             1\n",
      "Acetaminophen / dextromethorphan / guaifenesin / phenylephrine                                         1\n",
      "Valganciclovir                                                                                         1\n",
      "Mavik                                                                                                  1\n",
      "Grifulvin V                                                                                            1\n",
      "Streptokinase                                                                                          1\n",
      "Prostigmin Bromide                                                                                     1\n",
      "Sotret                                                                                                 1\n",
      "Acetaminophen / dextromethorphan / pseudoephedrine                                                     1\n",
      "Hetlioz                                                                                                1\n",
      "Sudafed PE Congestion                                                                                  1\n",
      "Levophed                                                                                               1\n",
      "Acetaminophen / dextromethorphan / guaifenesin / pseudoephedrine                                       1\n",
      "Propulsid                                                                                              1\n",
      "Panlor DC                                                                                              1\n",
      "DDAVP Rhinal Tube                                                                                      1\n",
      "Gold sodium thiomalate                                                                                 1\n",
      "Ortho D                                                                                                1\n",
      "Adalat CC                                                                                              1\n",
      "E.E.S.-400                                                                                             1\n",
      "Acetaminophen / chlorpheniramine / dextromethorphan / pseudoephedrine                                  1\n",
      "Celestone                                                                                              1\n",
      "Radium 223 dichloride                                                                                  1\n",
      "Eptifibatide                                                                                           1\n",
      "Garlic                                                                                                 1\n",
      "Polycarbophil                                                                                          1\n",
      "Desquam-X Wash                                                                                         1\n",
      "Moxatag                                                                                                1\n",
      "Cyclogyl                                                                                               1\n",
      "Inova 4 / 1                                                                                            1\n",
      "Ertaczo                                                                                                1\n",
      "Aldesleukin                                                                                            1\n",
      "Dyrenium                                                                                               1\n",
      "Pitocin                                                                                                1\n",
      "Corlanor                                                                                               1\n",
      "Xenaderm                                                                                               1\n",
      "Duofilm                                                                                                1\n",
      "Metadate ER                                                                                            1\n",
      "Motrin Infant Drops                                                                                    1\n",
      "Benazepril / hydrochlorothiazide                                                                       1\n",
      "Isoproterenol                                                                                          1\n",
      "Larin Fe 1.5 / 30                                                                                      1\n",
      "Q-Tapp DM                                                                                              1\n",
      "Q-Dryl                                                                                                 1\n",
      "Granulex                                                                                               1\n",
      "Sterapred                                                                                              1\n",
      "Ammonium lactate / halobetasol                                                                         1\n",
      "Synalar Ointment                                                                                       1\n",
      "Hylenex                                                                                                1\n",
      "Medrox                                                                                                 1\n",
      "Wart Remover                                                                                           1\n",
      "E-Z-Gas II                                                                                             1\n",
      "Premsyn PMS                                                                                            1\n",
      "Trimipramine                                                                                           1\n",
      "Lactaid Ultra                                                                                          1\n",
      "Insulin aspart / insulin degludec                                                                      1\n",
      "Medi-Quik Spray                                                                                        1\n",
      "Acular LS                                                                                              1\n",
      "Eldepryl                                                                                               1\n",
      "Trokendi XR                                                                                            1\n",
      "Ibudone                                                                                                1\n",
      "Choline salicylate / magnesium salicylate                                                              1\n",
      "Ovidrel                                                                                                1\n",
      "Dasetta 1 / 35                                                                                         1\n",
      "ConZip                                                                                                 1\n",
      "ReliOn / Novolin 70 / 30                                                                               1\n",
      "Ery Pads                                                                                               1\n",
      "Edecrin                                                                                                1\n",
      "Uniretic                                                                                               1\n",
      "DynaCirc CR                                                                                            1\n",
      "Vitamin B6                                                                                             1\n",
      "Tetrahydrozoline                                                                                       1\n",
      "Vasculera                                                                                              1\n",
      "Eyebright                                                                                              1\n",
      "Moderiba                                                                                               1\n",
      "Prascion RA                                                                                            1\n",
      "Diazoxide                                                                                              1\n",
      "Benzoyl peroxide / salicylic acid                                                                      1\n",
      "Noritate                                                                                               1\n",
      "Xodol                                                                                                  1\n",
      "Aspirin / meprobamate                                                                                  1\n",
      "Timoptic Ocudose                                                                                       1\n",
      "Magnesium aspartate                                                                                    1\n",
      "Amcinonide                                                                                             1\n",
      "Adipost                                                                                                1\n",
      "Ceritinib                                                                                              1\n",
      "Emoquette                                                                                              1\n",
      "Diphenhydramine / ibuprofen                                                                            1\n",
      "Alka-Seltzer Cold and Sinus                                                                            1\n",
      "Norepinephrine                                                                                         1\n",
      "Eletone                                                                                                1\n",
      "Desonate                                                                                               1\n",
      "Trizivir                                                                                               1\n",
      "Rosac                                                                                                  1\n",
      "Regimex                                                                                                1\n",
      "Berinert                                                                                               1\n",
      "Codeine / guaifenesin / pseudoephedrine                                                                1\n",
      "Fluvastatin                                                                                            1\n",
      "Sandostatin LAR Depot                                                                                  1\n",
      "Ferrous fumarate / iron polysaccharide                                                                 1\n",
      "Jantoven                                                                                               1\n",
      "Sudafed 12-Hour                                                                                        1\n",
      "Disalcid                                                                                               1\n",
      "Lapatinib                                                                                              1\n",
      "Pulmozyme                                                                                              1\n",
      "Epivir-HBV                                                                                             1\n",
      "Tolectin DS                                                                                            1\n",
      "Retre-Gel                                                                                              1\n",
      "Fletchers Castoria                                                                                     1\n",
      "Sorbitol                                                                                               1\n",
      "Calci-Chew                                                                                             1\n",
      "Derma-Smoothe / FS (Scalp)                                                                             1\n",
      "Ribasphere                                                                                             1\n",
      "Naproxen / pseudoephedrine                                                                             1\n",
      "Collagenase Santyl                                                                                     1\n",
      "Caltrate 600+D                                                                                         1\n",
      "Evzio                                                                                                  1\n",
      "Ethchlorvynol                                                                                          1\n",
      "Senna S                                                                                                1\n",
      "Bosutinib                                                                                              1\n",
      "Trilisate                                                                                              1\n",
      "Fulvicin U / F                                                                                         1\n",
      "Senexon                                                                                                1\n",
      "Dobutamine                                                                                             1\n",
      "Ferrlecit                                                                                              1\n",
      "Plexion Cleanser                                                                                       1\n",
      "Dexasone                                                                                               1\n",
      "Proleukin                                                                                              1\n",
      "Xeomin                                                                                                 1\n",
      "Cortisporin Otic                                                                                       1\n",
      "Nyamyc                                                                                                 1\n",
      "Prenatabs FA                                                                                           1\n",
      "Sensorcaine-MPF                                                                                        1\n",
      "Sebulex                                                                                                1\n",
      "Cosopt PF                                                                                              1\n",
      "Gentamicin                                                                                             1\n",
      "Acuvail                                                                                                1\n",
      "Kalbitor                                                                                               1\n",
      "Lindane                                                                                                1\n",
      "Pedipirox-4                                                                                            1\n",
      "PR Natal 400                                                                                           1\n",
      "Saizen                                                                                                 1\n",
      "Lymphoseek                                                                                             1\n",
      "Alocril                                                                                                1\n",
      "Angiomax                                                                                               1\n",
      "Volumen                                                                                                1\n",
      "Innohep                                                                                                1\n",
      "Fluoridex                                                                                              1\n",
      "Carfilzomib                                                                                            1\n",
      "Metozolv ODT                                                                                           1\n",
      "Actonel with Calcium                                                                                   1\n",
      "Aller-Ease                                                                                             1\n",
      "Treanda                                                                                                1\n",
      "Fludarabine                                                                                            1\n",
      "Aerobid                                                                                                1\n",
      "BC Fast Pain Relief                                                                                    1\n",
      "Zovia 1 / 50                                                                                           1\n",
      "Capsaicin / menthol / methyl salicylate                                                                1\n",
      "Ulesfia                                                                                                1\n",
      "Zantryl                                                                                                1\n",
      "Psorcon E                                                                                              1\n",
      "Trametinib                                                                                             1\n",
      "Osteo Bi-Flex                                                                                          1\n",
      "Raspberry                                                                                              1\n",
      "Arsenic trioxide                                                                                       1\n",
      "Constulose                                                                                             1\n",
      "Amino acids                                                                                            1\n",
      "Niraparib                                                                                              1\n",
      "Larin 24 Fe                                                                                            1\n",
      "Gadopentetate dimeglumine                                                                              1\n",
      "Ketalar                                                                                                1\n",
      "Dichlorphenamide                                                                                       1\n",
      "Clove                                                                                                  1\n",
      "Prevacid SoluTab                                                                                       1\n",
      "B3-500-Gr                                                                                              1\n",
      "Dynacin                                                                                                1\n",
      "Istalol                                                                                                1\n",
      "Trandolapril                                                                                           1\n",
      "Tiazac                                                                                                 1\n",
      "Capmist DM                                                                                             1\n",
      "AirDuo Respiclick                                                                                      1\n",
      "Vesanoid                                                                                               1\n",
      "Fortamet                                                                                               1\n",
      "Acetaminophen / caffeine / pyrilamine                                                                  1\n",
      "TheraTears Nutrition                                                                                   1\n",
      "Pyrimethamine / sulfadoxine                                                                            1\n",
      "Loracarbef                                                                                             1\n",
      "Dexpanthenol                                                                                           1\n",
      "Belladonna Tincture                                                                                    1\n",
      "Accupril                                                                                               1\n",
      "Amikin                                                                                                 1\n",
      "Ery-Tab                                                                                                1\n",
      "SymlinPen 60                                                                                           1\n",
      "Mucinex Fast-Max Night Time Cold & Flu                                                                 1\n",
      "Canasa Pac                                                                                             1\n",
      "Zejula                                                                                                 1\n",
      "Cladribine                                                                                             1\n",
      "Sulfur                                                                                                 1\n",
      "Pirmella 1 / 35                                                                                        1\n",
      "Norinyl 1+35                                                                                           1\n",
      "Maxidex                                                                                                1\n",
      "Hemax                                                                                                  1\n",
      "BroveX PEB DM                                                                                          1\n",
      "Pentobarbital                                                                                          1\n",
      "Estratest                                                                                              1\n",
      "Tronolane Anesthetic for Hemorrhoids                                                                   1\n",
      "Bacitracin / neomycin / polymyxin b / pramoxine                                                        1\n",
      "Pralatrexate                                                                                           1\n",
      "Abacavir / lamivudine / zidovudine                                                                     1\n",
      "Pennyroyal                                                                                             1\n",
      "Vanquish                                                                                               1\n",
      "Topical Anesthetic Dental Gel                                                                          1\n",
      "Nizoral Shampoo                                                                                        1\n",
      "Sodium bicarbonate                                                                                     1\n",
      "Ecallantide                                                                                            1\n",
      "Lescol                                                                                                 1\n",
      "Unisom SleepMelts                                                                                      1\n",
      "Urecholine                                                                                             1\n",
      "Medium chain triglycerides                                                                             1\n",
      "Liquid Co-Q10                                                                                          1\n",
      "Lithostat                                                                                              1\n",
      "Diphenhydramine / pseudoephedrine                                                                      1\n",
      "Remodulin                                                                                              1\n",
      "Brompheniramine / codeine / phenylephrine                                                              1\n",
      "Lincomycin                                                                                             1\n",
      "Platinol                                                                                               1\n",
      "Anturol                                                                                                1\n",
      "Ferralet 90                                                                                            1\n",
      "Imotil                                                                                                 1\n",
      "Penicillamine                                                                                          1\n",
      "Irinotecan                                                                                             1\n",
      "Normodyne                                                                                              1\n",
      "Nexium IV                                                                                              1\n",
      "DDAVP Nasal                                                                                            1\n",
      "Nedocromil                                                                                             1\n",
      "Levodopa                                                                                               1\n",
      "Ergomar                                                                                                1\n",
      "Ala-Quin                                                                                               1\n",
      "Acetaminophen / dextromethorphan / doxylamine                                                          1\n",
      "Omnipaque 350                                                                                          1\n",
      "Vontrol                                                                                                1\n",
      "Ivabradine                                                                                             1\n",
      "BeneFix                                                                                                1\n",
      "CaloMist                                                                                               1\n",
      "Ferrous fumarate                                                                                       1\n",
      "Aloxi                                                                                                  1\n",
      "Zinc sulfate                                                                                           1\n",
      "Sertaconazole                                                                                          1\n",
      "Maxidone                                                                                               1\n",
      "All Day Allergy                                                                                        1\n",
      "Nutraplus                                                                                              1\n",
      "FML Forte Liquifilm                                                                                    1\n",
      "Oxymetholone                                                                                           1\n",
      "Limbrel 500                                                                                            1\n",
      "Bosulif                                                                                                1\n",
      "Molindone                                                                                              1\n",
      "Podophyllum resin                                                                                      1\n",
      "Blistex Lip Balm                                                                                       1\n",
      "Damiana                                                                                                1\n",
      "Methacholine                                                                                           1\n",
      "ProFe                                                                                                  1\n",
      "Compro                                                                                                 1\n",
      "Tandem DHA                                                                                             1\n",
      "Loestrin 21 1.5 / 30                                                                                   1\n",
      "Uroqid-Acid No2                                                                                        1\n",
      "Glucovance                                                                                             1\n",
      "Alsuma                                                                                                 1\n",
      "Miacalcin                                                                                              1\n",
      "Tapazole                                                                                               1\n",
      "Triprolidine                                                                                           1\n",
      "Piperonyl butoxide / pyrethrins                                                                        1\n",
      "Concept DHA                                                                                            1\n",
      "Advil PM                                                                                               1\n",
      "DermaZinc Shampoo                                                                                      1\n",
      "Pindolol                                                                                               1\n",
      "Daraprim                                                                                               1\n",
      "A + D Cracked Skin Relief                                                                              1\n",
      "Mepron                                                                                                 1\n",
      "Rea Lo 40                                                                                              1\n",
      "Stalevo 200                                                                                            1\n",
      "Trocaine                                                                                               1\n",
      "Hydrochlorothiazide / moexipril                                                                        1\n",
      "Benzoyl peroxide / hydrocortisone                                                                      1\n",
      "Oruvail                                                                                                1\n",
      "Nalfon                                                                                                 1\n",
      "Hyaluronidase                                                                                          1\n",
      "Avita                                                                                                  1\n",
      "Diphenidol                                                                                             1\n",
      "Magnesium gluconate                                                                                    1\n",
      "Levo-T                                                                                                 1\n",
      "Neevo DHA                                                                                              1\n",
      "Phenohytro                                                                                             1\n",
      "Copegus                                                                                                1\n",
      "ProCentra                                                                                              1\n",
      "Quibron-T                                                                                              1\n",
      "Cefazolin                                                                                              1\n",
      "Sodium hypochlorite                                                                                    1\n",
      "Stavzor                                                                                                1\n",
      "Zicam Extreme Congestion Relief                                                                        1\n",
      "Prinzide                                                                                               1\n",
      "Glimepiride / pioglitazone                                                                             1\n",
      "Mellaril                                                                                               1\n",
      "MCT                                                                                                    1\n",
      "Mylanta                                                                                                1\n",
      "Ovace Plus                                                                                             1\n",
      "Haldol Decanoate                                                                                       1\n",
      "Clinpro 5000                                                                                           1\n",
      "Biltricide                                                                                             1\n",
      "Nor-QD                                                                                                 1\n",
      "Targiniq ER                                                                                            1\n",
      "Tafinlar                                                                                               1\n",
      "Loestrin Fe 1.5 / 30                                                                                   1\n",
      "Retisert                                                                                               1\n",
      "Urso Forte                                                                                             1\n",
      "Gilotrif                                                                                               1\n",
      "Atazanavir                                                                                             1\n",
      "Cerezyme                                                                                               1\n",
      "Zymine                                                                                                 1\n",
      "Prefrin                                                                                                1\n",
      "Nitro-Dur                                                                                              1\n",
      "Topiragen                                                                                              1\n",
      "Acetohydroxamic acid                                                                                   1\n",
      "Penlac                                                                                                 1\n",
      "Cyclopentolate                                                                                         1\n",
      "Hi-Vegi-Lip                                                                                            1\n",
      "Scullcap                                                                                               1\n",
      "Rheumatrex Dose Pack                                                                                   1\n",
      "Ginkgo                                                                                                 1\n",
      "T-Diet                                                                                                 1\n",
      "Citric acid / potassium citrate                                                                        1\n",
      "Clindagel                                                                                              1\n",
      "Chlorothiazide                                                                                         1\n",
      "M-Zole 3                                                                                               1\n",
      "Monopril                                                                                               1\n",
      "Tussigon                                                                                               1\n",
      "Maxichlor PSE DM                                                                                       1\n",
      "Timoptic                                                                                               1\n",
      "Aspirin / diphenhydramine                                                                              1\n",
      "Taztia XT                                                                                              1\n",
      "MVI Adult                                                                                              1\n",
      "Aloe vera                                                                                              1\n",
      "Norvir                                                                                                 1\n",
      "Pancreatin                                                                                             1\n",
      "Wera                                                                                                   1\n",
      "Dulcolax Stool Softener                                                                                1\n",
      "Duoplant                                                                                               1\n",
      "Chlophedianol / guaifenesin / pseudoephedrine                                                          1\n",
      "Cortenema                                                                                              1\n",
      "Aerobid-M                                                                                              1\n",
      "Afrin Sinus                                                                                            1\n",
      "Royal jelly                                                                                            1\n",
      "Asendin                                                                                                1\n",
      "Omnitrope                                                                                              1\n",
      "Adempas                                                                                                1\n",
      "Quinidine                                                                                              1\n",
      "Pro-Den Rx                                                                                             1\n",
      "Rifadin                                                                                                1\n",
      "Diosmiplex                                                                                             1\n",
      "Capsin                                                                                                 1\n",
      "Excedrin Sinus Headache                                                                                1\n",
      "Coal tar / salicylic acid / sulfur                                                                     1\n",
      "Sular                                                                                                  1\n",
      "Cabozantinib                                                                                           1\n",
      "Westcort                                                                                               1\n",
      "Dilt-XR                                                                                                1\n",
      "Hylira                                                                                                 1\n",
      "HyoMax SR                                                                                              1\n",
      "Advate                                                                                                 1\n",
      "Mephyton                                                                                               1\n",
      "Corn Huskers Lotion                                                                                    1\n",
      "Phytonadione                                                                                           1\n",
      "Solarcaine First Aid Medicated Spray                                                                   1\n",
      "Neostigmine                                                                                            1\n",
      "Drixoral Cold / Flu                                                                                    1\n",
      "Naropin Polyamp                                                                                        1\n",
      "Alavert                                                                                                1\n",
      "Collagenase                                                                                            1\n",
      "Savaysa                                                                                                1\n",
      "Humatin                                                                                                1\n",
      "Vasodilan                                                                                              1\n",
      "Flanax Pain Reliever                                                                                   1\n",
      "Polocaine                                                                                              1\n",
      "Pomalyst                                                                                               1\n",
      "Moban                                                                                                  1\n",
      "Lillow                                                                                                 1\n",
      "Zyprexa Intramuscular                                                                                  1\n",
      "Gengraf                                                                                                1\n",
      "Co-trimoxazole                                                                                         1\n",
      "Attapulgite                                                                                            1\n",
      "Inulin                                                                                                 1\n",
      "Privigen                                                                                               1\n",
      "Lotrimin AF Athlete's Foot Powder                                                                      1\n",
      "Vanatrip                                                                                               1\n",
      "HyoMax                                                                                                 1\n",
      "Bee pollen                                                                                             1\n",
      "Glecaprevir / pibrentasvir                                                                             1\n",
      "Marcaine                                                                                               1\n",
      "Femtrace                                                                                               1\n",
      "Mavyret                                                                                                1\n",
      "FluMist Quadrivalent                                                                                   1\n",
      "Pancreaze                                                                                              1\n",
      "Smoothie Readi-Cat 2                                                                                   1\n",
      "Olux-E                                                                                                 1\n",
      "Oxy-10                                                                                                 1\n",
      "Norlyda                                                                                                1\n",
      "Menactra                                                                                               1\n",
      "BiDil                                                                                                  1\n",
      "Cetaphil Lotion                                                                                        1\n",
      "Doc-Q-Lax                                                                                              1\n",
      "Dazidox                                                                                                1\n",
      "Aquavite-E                                                                                             1\n",
      "Acyclovir / hydrocortisone                                                                             1\n",
      "Alefacept                                                                                              1\n",
      "Prolastin-C                                                                                            1\n",
      "Protriptyline                                                                                          1\n",
      "Afrin NoDrip Sinus                                                                                     1\n",
      "Skeeter Stik                                                                                           1\n",
      "Iohexol                                                                                                1\n",
      "Atropine                                                                                               1\n",
      "Nevanac                                                                                                1\n",
      "Melquin HP                                                                                             1\n",
      "Nasarel                                                                                                1\n",
      "M-End PE                                                                                               1\n",
      "Maxair                                                                                                 1\n",
      "Potassium iodide                                                                                       1\n",
      "Ed A-Hist                                                                                              1\n",
      "Octagam                                                                                                1\n",
      "Diurex Water Capsules                                                                                  1\n",
      "Acetaminophen / pamabrom / pyrilamine                                                                  1\n",
      "Altretamine                                                                                            1\n",
      "Pedi-Dri                                                                                               1\n",
      "Topicort LP                                                                                            1\n",
      "Travel-Eze                                                                                             1\n",
      "Lincocin                                                                                               1\n",
      "Avar LS Cleanser                                                                                       1\n",
      "Diprolene AF                                                                                           1\n",
      "Niacinamide                                                                                            1\n",
      "Ciclodan                                                                                               1\n",
      "Betapace AF                                                                                            1\n",
      "Embeline                                                                                               1\n",
      "Alogliptin / metformin                                                                                 1\n",
      "Tums Smoothies                                                                                         1\n",
      "Fansidar                                                                                               1\n",
      "Vancocin HCl                                                                                           1\n",
      "Pyridoxine                                                                                             1\n",
      "Dabrafenib                                                                                             1\n",
      "Benzalkonium chloride / lidocaine                                                                      1\n",
      "Zetran                                                                                                 1\n",
      "Dalteparin                                                                                             1\n",
      "Glyset                                                                                                 1\n",
      "Leustatin                                                                                              1\n",
      "Ifosfamide                                                                                             1\n",
      "Zeasorb-AF Drying Gel                                                                                  1\n",
      "BP Wash                                                                                                1\n",
      "Allegra ODT                                                                                            1\n",
      "Reese's Pinworm Medicine                                                                               1\n",
      "Labetalol                                                                                              1\n",
      "Vitafol-OB+DHA                                                                                         1\n",
      "Romidepsin                                                                                             1\n",
      "Belladonna                                                                                             1\n",
      "Methenamine / sodium acid phosphate                                                                    1\n",
      "Lanoxicaps                                                                                             1\n",
      "Bacitracin                                                                                             1\n",
      "LMX 5                                                                                                  1\n",
      "Sudafed PE Pressure + Pain                                                                             1\n",
      "Anusol-HC Suppositories                                                                                1\n",
      "Juvederm Voluma XC                                                                                     1\n",
      "Diprosone                                                                                              1\n",
      "Novolin N                                                                                              1\n",
      "Cuvitru                                                                                                1\n",
      "Ethacrynic acid                                                                                        1\n",
      "Vitamin C                                                                                              1\n",
      "Alphanine SD                                                                                           1\n",
      "Lagesic                                                                                                1\n",
      "Cheratussin DAC                                                                                        1\n",
      "Avar                                                                                                   1\n",
      "Clioquinol / hydrocortisone                                                                            1\n",
      "Lorcet                                                                                                 1\n",
      "Lorabid                                                                                                1\n",
      "Fostex Medicated                                                                                       1\n",
      "Estrasorb                                                                                              1\n",
      "Nisoldipine                                                                                            1\n",
      "Bag Balm                                                                                               1\n",
      "PanOxyl 10% Acne Foaming Wash                                                                          1\n",
      "Hexalen                                                                                                1\n",
      "Camptosar                                                                                              1\n",
      "Fortical                                                                                               1\n",
      "Cerefolin NAC                                                                                          1\n",
      "Pomalidomide                                                                                           1\n",
      "Headache Relief PM                                                                                     1\n",
      "Pyrimethamine                                                                                          1\n",
      "Zinc gluconate                                                                                         1\n",
      "Tylenol Arthritis Pain                                                                                 1\n",
      "Pima                                                                                                   1\n",
      "Necitumumab                                                                                            1\n",
      "Ipratropium Inhalation Solution                                                                        1\n",
      "Purinethol                                                                                             1\n",
      "Philith                                                                                                1\n",
      "Hair, Skin & Nails                                                                                     1\n",
      "Phosphasal                                                                                             1\n",
      "Dantrium                                                                                               1\n",
      "Nuwiq                                                                                                  1\n",
      "Fast Freeze                                                                                            1\n",
      "Mebendazole                                                                                            1\n",
      "Salivart                                                                                               1\n",
      "Cisplatin                                                                                              1\n",
      "Trelstar LA                                                                                            1\n",
      "Refresh Liquigel                                                                                       1\n",
      "Absorbine Jr.                                                                                          1\n",
      "Rilutek                                                                                                1\n",
      "Panhematin                                                                                             1\n",
      "Benzyl alcohol                                                                                         1\n",
      "Enemeez Mini                                                                                           1\n",
      "Brinzolamide                                                                                           1\n",
      "Floxin                                                                                                 1\n",
      "Mekinist                                                                                               1\n",
      "Cefotaxime                                                                                             1\n",
      "Acetic acid                                                                                            1\n",
      "Vaprisol                                                                                               1\n",
      "Robitussin Cold Cough and Flu                                                                          1\n",
      "Phentride                                                                                              1\n",
      "Rolapitant                                                                                             1\n",
      "Bendroflumethiazide / nadolol                                                                          1\n",
      "Tenoretic 50                                                                                           1\n",
      "Dehydroepiandrosterone                                                                                 1\n",
      "Torisel                                                                                                1\n",
      "Renagel                                                                                                1\n",
      "LMX 4                                                                                                  1\n",
      "Goody's Headache Powders                                                                               1\n",
      "Vicks QlearQuil Nighttime Allergy Relief                                                               1\n",
      "Visine Original                                                                                        1\n",
      "Polytrim                                                                                               1\n",
      "Cinqair                                                                                                1\n",
      "Corzide 80 / 5                                                                                         1\n",
      "Salicylic acid / urea                                                                                  1\n",
      "IncobotulinumtoxinA                                                                                    1\n",
      "Lazanda                                                                                                1\n",
      "Meningococcal group B vaccine                                                                          1\n",
      "Aleve-D Sinus & Cold                                                                                   1\n",
      "Dexpak Taperpak                                                                                        1\n",
      "Fludara                                                                                                1\n",
      "Zyrtec-D 12 Hour                                                                                       1\n",
      "Briellyn                                                                                               1\n",
      "Vicks Formula 44                                                                                       1\n",
      "Rabies vaccine, human diploid cell                                                                     1\n",
      "Feverall                                                                                               1\n",
      "Ropivacaine                                                                                            1\n",
      "Schiff Move Free                                                                                       1\n",
      "Goldenseal                                                                                             1\n",
      "Salvax Duo                                                                                             1\n",
      "Tetracaine                                                                                             1\n",
      "Micrainin                                                                                              1\n",
      "Diphenhydramine / phenylephrine                                                                        1\n",
      "D3                                                                                                     1\n",
      "Hecoria                                                                                                1\n",
      "Meropenem                                                                                              1\n",
      "Leader Nicotine Polacrilex                                                                             1\n",
      "Bayer Children's Aspirin                                                                               1\n",
      "Methyltestosterone                                                                                     1\n",
      "Mitoxantrone                                                                                           1\n",
      "Micon 7                                                                                                1\n",
      "Hair Regrowth Treatment for Women                                                                      1\n",
      "Sulfinpyrazone                                                                                         1\n",
      "Tobrex                                                                                                 1\n",
      "Imiglucerase                                                                                           1\n",
      "Cubicin                                                                                                1\n",
      "IBU                                                                                                    1\n",
      "Hepatitis b adult vaccine                                                                              1\n",
      "Aspirin / chlorpheniramine / phenylephrine                                                             1\n",
      "Otrexup                                                                                                1\n",
      "Integra F                                                                                              1\n",
      "Vivactil                                                                                               1\n",
      "L-Carnitine                                                                                            1\n",
      "Orvaten                                                                                                1\n",
      "EnLyte                                                                                                 1\n",
      "Ex-Lax Maximum Relief Formula                                                                          1\n",
      "Tandem                                                                                                 1\n",
      "Fragmin                                                                                                1\n",
      "Wal-finate                                                                                             1\n",
      "Benemid                                                                                                1\n",
      "Qutenza                                                                                                1\n",
      "Citric acid / simethicone / sodium bicarbonate                                                         1\n",
      "Vancocin                                                                                               1\n",
      "Atrovent HFA                                                                                           1\n",
      "Halog-E                                                                                                1\n",
      "Dong quai                                                                                              1\n",
      "Sumadan                                                                                                1\n",
      "Mumps virus vaccine                                                                                    1\n",
      "Cosamin DS                                                                                             1\n",
      "Isradipine                                                                                             1\n",
      "Epivir                                                                                                 1\n",
      "Flonase Allergy Relief                                                                                 1\n",
      "Lanolin                                                                                                1\n",
      "Peri-Colace                                                                                            1\n",
      "Mucinex Sinus-Max Full Force                                                                           1\n",
      "Bivalirudin                                                                                            1\n",
      "Glumetza                                                                                               1\n",
      "Hyalgan                                                                                                1\n",
      "Alimta                                                                                                 1\n",
      "Conivaptan                                                                                             1\n",
      "Cytra-K                                                                                                1\n",
      "Inspra                                                                                                 1\n",
      "Hemin                                                                                                  1\n",
      "Melpaque HP                                                                                            1\n",
      "Cortisone                                                                                              1\n",
      "Reyataz                                                                                                1\n",
      "Striant                                                                                                1\n",
      "Allergy DN PE                                                                                          1\n",
      "Name: count, dtype: int64\n"
     ]
    }
   ],
   "source": [
    "pd.set_option(\"display.max_rows\", None)\n",
    "print(df.drugName.value_counts())\n",
    "pd.set_option(\"display.max_rows\", 10)"
   ]
  },
  {
   "cell_type": "markdown",
   "id": "12d5136d",
   "metadata": {},
   "source": [
    "A casual overview of the drug names indicates that they all seem valid. Some seem to specify drug combinations and/or dosage amounts."
   ]
  },
  {
   "cell_type": "code",
   "execution_count": 19,
   "id": "cc0f4e7f",
   "metadata": {
    "scrolled": true
   },
   "outputs": [
    {
     "name": "stdout",
     "output_type": "stream",
     "text": [
      "condition\n",
      "Birth Control                                                          38436\n",
      "Depression                                                             12164\n",
      "Pain                                                                    8245\n",
      "Anxiety                                                                 7812\n",
      "Acne                                                                    7435\n",
      "Bipolar Disorde                                                         5604\n",
      "Insomnia                                                                4904\n",
      "Weight Loss                                                             4857\n",
      "Obesity                                                                 4757\n",
      "ADHD                                                                    4509\n",
      "Diabetes, Type 2                                                        3362\n",
      "Emergency Contraception                                                 3290\n",
      "High Blood Pressure                                                     3104\n",
      "Vaginal Yeast Infection                                                 3085\n",
      "Abnormal Uterine Bleeding                                               2744\n",
      "Bowel Preparation                                                       2498\n",
      "Smoking Cessation                                                       2440\n",
      "ibromyalgia                                                             2370\n",
      "Migraine                                                                2277\n",
      "Anxiety and Stress                                                      2236\n",
      "Major Depressive Disorde                                                2131\n",
      "Constipation                                                            2120\n",
      "Chronic Pain                                                            1940\n",
      "Panic Disorde                                                           1932\n",
      "Migraine Prevention                                                     1867\n",
      "Urinary Tract Infection                                                 1747\n",
      "Muscle Spasm                                                            1631\n",
      "Osteoarthritis                                                          1626\n",
      "Generalized Anxiety Disorde                                             1542\n",
      "Opiate Dependence                                                       1477\n",
      "Erectile Dysfunction                                                    1467\n",
      "Irritable Bowel Syndrome                                                1339\n",
      "Allergic Rhinitis                                                       1323\n",
      "Rheumatoid Arthritis                                                    1315\n",
      "Bacterial Infection                                                     1252\n",
      "Cough                                                                   1224\n",
      "Sinusitis                                                               1124\n",
      "Nausea/Vomiting                                                         1013\n",
      "GERD                                                                     968\n",
      "Overactive Bladde                                                        917\n",
      "Hyperhidrosis                                                            917\n",
      "Multiple Sclerosis                                                       913\n",
      "Hepatitis C                                                              901\n",
      "High Cholesterol                                                         817\n",
      "HIV Infection                                                            817\n",
      "Back Pain                                                                808\n",
      "Restless Legs Syndrome                                                   805\n",
      "Psoriasis                                                                796\n",
      "Schizophrenia                                                            789\n",
      "Constipation, Chronic                                                    770\n",
      "Obsessive Compulsive Disorde                                             752\n",
      "Endometriosis                                                            750\n",
      "Benign Prostatic Hyperplasia                                             726\n",
      "Bronchitis                                                               707\n",
      "Hypogonadism, Male                                                       697\n",
      "Rosacea                                                                  694\n",
      "Seizures                                                                 684\n",
      "Bacterial Vaginitis                                                      677\n",
      "Asthma, Maintenance                                                      659\n",
      "Narcolepsy                                                               658\n",
      "Headache                                                                 626\n",
      "Not Listed / Othe                                                        592\n",
      "Underactive Thyroid                                                      567\n",
      "Onychomycosis, Toenail                                                   533\n",
      "Bladder Infection                                                        525\n",
      "Schizoaffective Disorde                                                  523\n",
      "Social Anxiety Disorde                                                   522\n",
      "Alcohol Dependence                                                       518\n",
      "Herpes Simplex                                                           515\n",
      "Epilepsy                                                                 478\n",
      "Menstrual Disorders                                                      477\n",
      "Cold Sores                                                               472\n",
      "Cough and Nasal Congestion                                               469\n",
      "Influenza                                                                467\n",
      "Osteoporosis                                                             458\n",
      "Postmenopausal Symptoms                                                  449\n",
      "Psoriatic Arthritis                                                      436\n",
      "Opiate Withdrawal                                                        434\n",
      "Post Traumatic Stress Disorde                                            432\n",
      "Plaque Psoriasis                                                         430\n",
      "Inflammatory Conditions                                                  406\n",
      "Premenstrual Dysphoric Disorde                                           396\n",
      "Nasal Congestion                                                         390\n",
      "Polycystic Ovary Syndrome                                                387\n",
      "Breast Cance                                                             371\n",
      "Chlamydia Infection                                                      371\n",
      "Pneumonia                                                                364\n",
      "Neuropathic Pain                                                         349\n",
      "Atrial Fibrillation                                                      347\n",
      "Urticaria                                                                344\n",
      "Anesthesia                                                               338\n",
      "Helicobacter Pylori Infection                                            337\n",
      "COPD, Maintenance                                                        328\n",
      "Hot Flashes                                                              322\n",
      "Ulcerative Colitis                                                       313\n",
      "Constipation, Drug Induced                                               305\n",
      "Asthma                                                                   302\n",
      "Alcohol Withdrawal                                                       285\n",
      "Skin or Soft Tissue Infection                                            281\n",
      "Motion Sickness                                                          275\n",
      "Ankylosing Spondylitis                                                   270\n",
      "Crohn's Disease, Maintenance                                             266\n",
      "mance Anxiety                                                            259\n",
      "Seizure Prevention                                                       254\n",
      "Gout, Acute                                                              252\n",
      "Hashimoto's disease                                                      244\n",
      "Peripheral Neuropathy                                                    236\n",
      "Upper Respiratory Tract Infection                                        235\n",
      "Atrophic Vaginitis                                                       235\n",
      "Urinary Incontinence                                                     232\n",
      "Diabetic Peripheral Neuropathy                                           229\n",
      "Allergies                                                                228\n",
      "Sedation                                                                 228\n",
      "Interstitial Cystitis                                                    223\n",
      "Crohn's Disease                                                          221\n",
      "Eczema                                                                   218\n",
      "Atopic Dermatitis                                                        216\n",
      "Trigeminal Neuralgia                                                     213\n",
      "Cluster Headaches                                                        212\n",
      "Herpes Simplex, Suppression                                              210\n",
      "Ovarian Cysts                                                            207\n",
      "Otitis Media                                                             207\n",
      "Prevention of Thromboembolism in Atrial Fibrillation                     204\n",
      "COPD                                                                     204\n",
      "Borderline Personality Disorde                                           201\n",
      "Dry Eye Disease                                                          201\n",
      "Bacterial Skin Infection                                                 191\n",
      "Hypothyroidism, After Thyroid Removal                                    188\n",
      "Period Pain                                                              187\n",
      "Diabetes, Type 1                                                         185\n",
      "Diverticulitis                                                           185\n",
      "Diarrhea                                                                 179\n",
      "Ulcerative Colitis, Active                                               175\n",
      "Parkinson's Disease                                                      170\n",
      "Prostate Cance                                                           170\n",
      "Asthma, acute                                                            169\n",
      "Sciatica                                                                 164\n",
      "Nausea/Vomiting of Pregnancy                                             161\n",
      "Strep Throat                                                             158\n",
      "Cold Symptoms                                                            151\n",
      "Keratosis                                                                151\n",
      "Kidney Infections                                                        149\n",
      "Urinary Tract Stones                                                     144\n",
      "Human Papilloma Virus                                                    141\n",
      "Arrhythmia                                                               139\n",
      "Non-Small Cell Lung Cance                                                134\n",
      "Edema                                                                    134\n",
      "Systemic Lupus Erythematosus                                             132\n",
      "Gout                                                                     131\n",
      "Tonsillitis/Pharyngitis                                                  129\n",
      "Breast Cancer, Metastatic                                                128\n",
      "Dermatitis                                                               128\n",
      "0</span> users found this comment helpful.                               128\n",
      "Alopecia                                                                 125\n",
      "Renal Cell Carcinoma                                                     125\n",
      "Neuralgia                                                                125\n",
      "Vertig                                                                   124\n",
      "Dietary Supplementation                                                  124\n",
      "Angina                                                                   123\n",
      "Hirsutism                                                                122\n",
      "Autism                                                                   121\n",
      "Supraventricular Tachycardia                                             121\n",
      "Muscle Pain                                                              119\n",
      "Hemorrhoids                                                              118\n",
      "Amenorrhea                                                               118\n",
      "Obstructive Sleep Apnea/Hypopnea Syndrome                                117\n",
      "Benign Essential Trem                                                    117\n",
      "Alzheimer's Disease                                                      117\n",
      "Chronic Fatigue Syndrome                                                 116\n",
      "Rhinitis                                                                 115\n",
      "Heart Failure                                                            115\n",
      "Chronic Myelogenous Leukemia                                             115\n",
      "Allergic Reactions                                                       115\n",
      "Prostatitis                                                              115\n",
      "1</span> users found this comment helpful.                               114\n",
      "Postpartum Depression                                                    114\n",
      "Postherpetic Neuralgia                                                   114\n",
      "Dental Abscess                                                           113\n",
      "moterol)                                                                 113\n",
      "Premature Lab                                                            112\n",
      "Anorexia                                                                 111\n",
      "Deep Vein Thrombosis                                                     110\n",
      "Sinus Symptoms                                                           107\n",
      "2</span> users found this comment helpful.                               105\n",
      "Binge Eating Disorde                                                     101\n",
      "Dysuria                                                                  101\n",
      "3</span> users found this comment helpful.                               101\n",
      "Melasma                                                                  100\n",
      "Dry Skin                                                                 100\n",
      "Head Lice                                                                 99\n",
      "Hypertriglyceridemia                                                      99\n",
      "Vitamin/Mineral Supplementation during Pregnancy/Lactation                99\n",
      "Sexual Dysfunction, SSRI Induced                                          98\n",
      "Psychosis                                                                 98\n",
      "Menorrhagia                                                               96\n",
      "Hypersomnia                                                               95\n",
      "Nausea/Vomiting, Chemotherapy Induced                                     94\n",
      "Conjunctivitis, Allergic                                                  94\n",
      "Stomach Ulce                                                              93\n",
      "Barrett's Esophagus                                                       92\n",
      "Pseudotumor Cerebri                                                       90\n",
      "Pulmonary Hypertension                                                    90\n",
      "Erosive Esophagitis                                                       90\n",
      "Seasonal Allergic Conjunctivitis                                          89\n",
      "Tourette's Syndrome                                                       89\n",
      "Trichomoniasis                                                            89\n",
      "Pulmonary Embolism                                                        88\n",
      "4</span> users found this comment helpful.                                87\n",
      "emale Infertility                                                         87\n",
      "Prevention of Bladder infection                                           86\n",
      "Shift Work Sleep Disorde                                                  84\n",
      "Light Sedation                                                            83\n",
      "Chronic Idiopathic Constipation                                           82\n",
      "Keratoconjunctivitis Sicca                                                80\n",
      "Conjunctivitis, Bacterial                                                 80\n",
      "High Cholesterol, Familial Heterozygous                                   80\n",
      "Cervical Dystonia                                                         77\n",
      "Glaucoma, Open Angle                                                      75\n",
      "Bulimia                                                                   74\n",
      "Heart Attack                                                              74\n",
      "atigue                                                                    74\n",
      "Eye Redness                                                               74\n",
      "Mania                                                                     73\n",
      "Basal Cell Carcinoma                                                      73\n",
      "Skin and Structure Infection                                              72\n",
      "Diarrhea, Chronic                                                         71\n",
      "Indigestion                                                               68\n",
      "Reflex Sympathetic Dystrophy Syndrome                                     68\n",
      "Hyperprolactinemia                                                        68\n",
      "Sjogren's Syndrome                                                        68\n",
      "Uterine Fibroids                                                          66\n",
      "Androgenetic Alopecia                                                     65\n",
      "Organ Transplant, Rejection Prophylaxis                                   65\n",
      "Perimenopausal Symptoms                                                   65\n",
      "Acute Coronary Syndrome                                                   65\n",
      "Tendonitis                                                                64\n",
      "6</span> users found this comment helpful.                                64\n",
      "Raynaud's Syndrome                                                        63\n",
      "Opioid-Induced Constipation                                               62\n",
      "Pruritus                                                                  61\n",
      "Burns, External                                                           60\n",
      "min)                                                                      60\n",
      "Periodic Limb Movement Disorde                                            60\n",
      "Malaria Prevention                                                        59\n",
      "5</span> users found this comment helpful.                                59\n",
      "Crohn's Disease, Acute                                                    58\n",
      "Ulcerative Colitis, Maintenance                                           57\n",
      "Neutropenia Associated with Chemotherapy                                  54\n",
      "Constipation, Acute                                                       54\n",
      "Myasthenia Gravis                                                         53\n",
      "Postoperative Pain                                                        51\n",
      "Dermatological Disorders                                                  51\n",
      "Gastroparesis                                                             51\n",
      "7</span> users found this comment helpful.                                50\n",
      "Iron Deficiency Anemia                                                    49\n",
      "Paranoid Disorde                                                          48\n",
      "Gastroenteritis                                                           48\n",
      "Primary Immunodeficiency Syndrome                                         47\n",
      "Breakthrough Pain                                                         47\n",
      "Agitated State                                                            46\n",
      "Clostridial Infection                                                     45\n",
      "Vulvodynia                                                                45\n",
      "Lyme Disease                                                              45\n",
      "Eye Redness/Itching                                                       44\n",
      "acial Wrinkles                                                            43\n",
      "Glaucoma                                                                  43\n",
      "Gouty Arthritis                                                           43\n",
      "Tinnitus                                                                  42\n",
      "Human Papillomavirus Prophylaxis                                          41\n",
      "Light Anesthesia                                                          41\n",
      "Temporomandibular Joint Disorde                                           40\n",
      "Seborrheic Dermatitis                                                     40\n",
      "Colorectal Cance                                                          39\n",
      "9</span> users found this comment helpful.                                39\n",
      "ge (amlodipine / valsartan)                                               39\n",
      "8</span> users found this comment helpful.                                38\n",
      "10</span> users found this comment helpful.                               38\n",
      "Mitral Valve Prolapse                                                     38\n",
      "Otitis Externa                                                            37\n",
      "Oophorectomy                                                              37\n",
      "Chronic Lymphocytic Leukemia                                              37\n",
      "Actinic Keratosis                                                         37\n",
      "Postural Orthostatic Tachycardia Syndrome                                 36\n",
      "moterol / mometasone)                                                     36\n",
      "Duodenal Ulce                                                             36\n",
      "Condylomata Acuminata                                                     36\n",
      "Influenza Prophylaxis                                                     35\n",
      "Pneumococcal Disease Prophylaxis                                          35\n",
      "Photoaging of the Skin                                                    35\n",
      "COPD, Acute                                                               35\n",
      "Extrapyramidal Reaction                                                   35\n",
      "Herpes Zoste                                                              35\n",
      "Oral Thrush                                                               34\n",
      "Juvenile Rheumatoid Arthritis                                             34\n",
      "min / sitagliptin)                                                        34\n",
      "Ventricular Tachycardia                                                   34\n",
      "Nocturnal Leg Cramps                                                      33\n",
      "Herbal Supplementation                                                    33\n",
      "Cyclic Vomiting Syndrome                                                  33\n",
      "Dysautonomia                                                              33\n",
      "Tinea Versicol                                                            33\n",
      "Hiccups                                                                   33\n",
      "Tinea Pedis                                                               33\n",
      "Inflammatory Bowel Disease                                                33\n",
      "Postoperative Ocular Inflammation                                         32\n",
      "Night Terrors                                                             32\n",
      "Precocious Puberty                                                        31\n",
      "Tinea Corporis                                                            31\n",
      "Prevention of Osteoporosis                                                31\n",
      "Insomnia, Stimulant-Associated                                            30\n",
      "Ischemic Stroke, Prophylaxis                                              30\n",
      "Hypoestrogenism                                                           30\n",
      "Vitamin/Mineral Supplementation and Deficiency                            30\n",
      "Insulin Resistance Syndrome                                               29\n",
      "Soft Tissue Sarcoma                                                       29\n",
      "Labor Pain                                                                29\n",
      "Atrial Flutte                                                             29\n",
      "Angina Pectoris Prophylaxis                                               29\n",
      "Meniere's Disease                                                         28\n",
      "Anemia                                                                    28\n",
      "Allergic Urticaria                                                        28\n",
      "Swine Flu                                                                 28\n",
      "Macular Degeneration                                                      27\n",
      "Atrophic Urethritis                                                       27\n",
      "12</span> users found this comment helpful.                               27\n",
      "Xerostomia                                                                27\n",
      "Methicillin-Resistant Staphylococcus Aureus Infection                     27\n",
      "Bone infection                                                            26\n",
      "Gas                                                                       26\n",
      "Left Ventricular Dysfunction                                              26\n",
      "Uveitis                                                                   26\n",
      "13</span> users found this comment helpful.                               26\n",
      "Skin Cance                                                                26\n",
      "Malaria                                                                   26\n",
      "Pharyngitis                                                               26\n",
      "Hyperphosphatemia of Renal Failure                                        26\n",
      "Nightmares                                                                25\n",
      "Pseudobulbar Affect                                                       25\n",
      "Breast Cancer, Adjuvant                                                   25\n",
      "Vitamin D Deficiency                                                      25\n",
      "Lennox-Gastaut Syndrome                                                   25\n",
      "Non-Hodgkin's Lymphoma                                                    25\n",
      "Burning Mouth Syndrome                                                    24\n",
      "Hereditary Angioedema                                                     24\n",
      "Chronic Spasticity                                                        24\n",
      "Diabetic Kidney Disease                                                   24\n",
      "Benzodiazepine Withdrawal                                                 24\n",
      "Nausea/Vomiting, Postoperative                                            24\n",
      "Ovulation Induction                                                       24\n",
      "Onychomycosis, Fingernail                                                 24\n",
      "Diaper Rash                                                               24\n",
      "Melanoma, Metastatic                                                      24\n",
      "Juvenile Idiopathic Arthritis                                             24\n",
      "Undifferentiated Connective Tissue Disease                                23\n",
      "Tinea Cruris                                                              23\n",
      "Myelodysplastic Syndrome                                                  23\n",
      "Diagnosis and Investigation                                               22\n",
      "15</span> users found this comment helpful.                               22\n",
      "Cutaneous Candidiasis                                                     22\n",
      "Giardiasis                                                                22\n",
      "Chronic Pancreatitis                                                      21\n",
      "Diabetes Insipidus                                                        21\n",
      "zen Shoulde                                                               21\n",
      "Progesterone Insufficiency                                                21\n",
      "Intraocular Hypertension                                                  21\n",
      "Surgical Prophylaxis                                                      20\n",
      "Hepatitis B                                                               20\n",
      "Multiple Myeloma                                                          20\n",
      "Lactose Intolerance                                                       20\n",
      "Deep Vein Thrombosis, Prophylaxis                                         20\n",
      "Cystic Fibrosis                                                           19\n",
      "Conjunctivitis                                                            19\n",
      "Lyme Disease, Neurologic                                                  19\n",
      "Asperger Syndrome                                                         19\n",
      "Premenstrual Syndrome                                                     19\n",
      "Primary Ovarian Failure                                                   19\n",
      "17</span> users found this comment helpful.                               19\n",
      "Seasonal Affective Disorde                                                19\n",
      "14</span> users found this comment helpful.                               18\n",
      "Autoimmune Hepatitis                                                      18\n",
      "Dyspareunia                                                               18\n",
      "Ovarian Cance                                                             18\n",
      "High Cholesterol, Familial Homozygous                                     17\n",
      "Anal Fissure and Fistula                                                  17\n",
      "Hyperlipoproteinemia Type IIa, Elevated LDL                               17\n",
      "Nasal Polyps                                                              17\n",
      "Computed Tomography                                                       17\n",
      "Herpes Simplex, Mucocutaneous/Immunocompetent Host                        16\n",
      "Hepatic Encephalopathy                                                    16\n",
      "Expectoration                                                             16\n",
      "Vitamin B12 Deficiency                                                    16\n",
      "Trichotillomania                                                          16\n",
      "16</span> users found this comment helpful.                               16\n",
      "Streptococcal Infection                                                   16\n",
      "18</span> users found this comment helpful.                               16\n",
      "Hyperlipoproteinemia                                                      16\n",
      "Behcet's Disease                                                          16\n",
      "eve                                                                       16\n",
      "Pancreatic Cance                                                          16\n",
      "20</span> users found this comment helpful.                               15\n",
      "Lichen Sclerosus                                                          15\n",
      "Intermittent Claudication                                                 15\n",
      "Pancreatic Exocrine Dysfunction                                           15\n",
      "Persistent Depressive Disorde                                             15\n",
      "Diarrhea, Acute                                                           15\n",
      "Ischemic Stroke                                                           15\n",
      "Secondary Hyperparathyroidism                                             15\n",
      "New Daily Persistent Headache                                             15\n",
      "Hyperthyroidism                                                           15\n",
      "Skin Rash                                                                 15\n",
      "Osteolytic Bone Metastases of Solid Tumors                                15\n",
      "Bronchospasm Prophylaxis                                                  15\n",
      "Dystonia                                                                  15\n",
      "mulation) (phenylephrine)                                                 15\n",
      "Opioid Overdose                                                           15\n",
      "TSH Suppression                                                           15\n",
      "Dermatologic Lesion                                                       14\n",
      "Agitation                                                                 14\n",
      "Idiopathic Thrombocytopenic Purpura                                       14\n",
      "Hypertensive Emergency                                                    14\n",
      "Thyroid Cance                                                             14\n",
      "Lichen Planus                                                             14\n",
      "Bursitis                                                                  14\n",
      "Pain/Feve                                                                 14\n",
      "Post-Cholecystectomy Diarrhea                                             14\n",
      "Prevention of Cardiovascular Disease                                      14\n",
      "min / saxagliptin)                                                        14\n",
      "Anemia Associated with Chronic Renal Failure                              14\n",
      "11</span> users found this comment helpful.                               14\n",
      "Menopausal Disorders                                                      13\n",
      "Bronchiectasis                                                            13\n",
      "Lactation Augmentation                                                    13\n",
      "Addison's Disease                                                         13\n",
      "Ulcerative Proctitis                                                      13\n",
      "Pinworm Infection (Enterobius vermicularis)                               13\n",
      "Pelvic Inflammatory Disease                                               13\n",
      "Traveler's Diarrhea                                                       13\n",
      "Scabies                                                                   13\n",
      "Impetig                                                                   13\n",
      "Tuberculosis, Latent                                                      13\n",
      "Opiate Adjunct                                                            13\n",
      "Labor Induction                                                           13\n",
      "Gastrointestinal Stromal Tum                                              12\n",
      "21</span> users found this comment helpful.                               12\n",
      "Perioral Dermatitis                                                       12\n",
      "23</span> users found this comment helpful.                               12\n",
      "Local Anesthesia                                                          12\n",
      "Polycythemia Vera                                                         12\n",
      "Chronic Myofascial Pain                                                   12\n",
      "Pediatric Growth Hormone Deficiency                                       12\n",
      "Lymphoma                                                                  11\n",
      "Prevention of Hypokalemia                                                 11\n",
      "19</span> users found this comment helpful.                               11\n",
      "Gingivitis                                                                11\n",
      "Deep Vein Thrombosis, First Event                                         11\n",
      "Deep Vein Thrombosis, Recurrent Event                                     11\n",
      "Bacterial Endocarditis Prevention                                         11\n",
      "Costochondritis                                                           11\n",
      "Adult Human Growth Hormone Deficiency                                     11\n",
      "Mucositis                                                                 11\n",
      "Mountain Sickness / Altitude Sickness                                     11\n",
      "Adrenocortical Insufficiency                                              11\n",
      "lic Acid Deficiency                                                       11\n",
      "Prevention of Dental Caries                                               11\n",
      "Hypoparathyroidism                                                        11\n",
      "Biliary Cirrhosis                                                         11\n",
      "Intraabdominal Infection                                                  11\n",
      "Dermatomyositis                                                           10\n",
      "Body Dysmorphic Disorde                                                   10\n",
      "Lipodystrophy                                                             10\n",
      "Diabetic Macular Edema                                                    10\n",
      "Ophthalmic Surgery                                                        10\n",
      "Spondylolisthesis                                                         10\n",
      "Endometrial Cance                                                         10\n",
      "von Willebrand's Disease                                                  10\n",
      "Dandruff                                                                  10\n",
      "NSAID-Induced Gastric Ulce                                                10\n",
      "Sore Throat                                                               10\n",
      "Peptic Ulce                                                               10\n",
      "Macular Edema                                                             10\n",
      "Pulmonary Embolism, Recurrent Event                                        9\n",
      "Nasal Carriage of Staphylococcus aureus                                    9\n",
      "B12 Nutritional Deficiency                                                 9\n",
      "Endometrial Hyperplasia                                                    9\n",
      "Dietary Fiber Supplementation                                              9\n",
      "Auditory Processing Disorde                                                9\n",
      "25</span> users found this comment helpful.                                9\n",
      "Pe                                                                         9\n",
      "Spondyloarthritis                                                          9\n",
      "Iritis                                                                     9\n",
      "Breast Cancer, Prevention                                                  9\n",
      "Infection Prophylaxis                                                      9\n",
      "Status Epilepticus                                                         9\n",
      "Sarcoidosis                                                                9\n",
      "Noninfectious Colitis                                                      9\n",
      "Abortion                                                                   9\n",
      "Performance Anxiety                                                        9\n",
      "Bleeding Disorde                                                           9\n",
      "Cataplexy                                                                  8\n",
      "Osteolytic Bone Lesions of Multiple Myeloma                                8\n",
      "Reversal of Opioid Sedation                                                8\n",
      "Ear Wax Impaction                                                          8\n",
      "Hepatocellular Carcinoma                                                   8\n",
      "Still's Disease                                                            8\n",
      "Lyme Disease, Arthritis                                                    8\n",
      "Atherosclerosis                                                            8\n",
      "Head and Neck Cance                                                        8\n",
      "Bullous Pemphigoid                                                         8\n",
      "Immunosuppression                                                          8\n",
      "Thrombocythemia                                                            8\n",
      "Brain Tum                                                                  8\n",
      "Hypoactive Sexual Desire Disorde                                           8\n",
      "Mycobacterium avium-intracellulare, Treatment                              8\n",
      "39</span> users found this comment helpful.                                8\n",
      "Systemic Mastocytosis                                                      8\n",
      "Dumping Syndrome                                                           8\n",
      "Anemia, Sickle Cell                                                        8\n",
      "Mild Cognitive Impairment                                                  8\n",
      "Premature Ventricular Depolarizations                                      8\n",
      "Candidemia                                                                 8\n",
      "Primary Nocturnal Enuresis                                                 8\n",
      "Wegener's Granulomatosis                                                   8\n",
      "Cance                                                                      7\n",
      "Pupillary Dilation                                                         7\n",
      "Varicella-Zoste                                                            7\n",
      "Glioblastoma Multi                                                         7\n",
      "Pulmonary Embolism, First Event                                            7\n",
      "Gonococcal Infection, Uncomplicated                                        7\n",
      "Herpes Simplex, Mucocutaneous/Immunocompromised Host                       7\n",
      "Gastric Ulcer Maintenance Treatment                                        7\n",
      "Tinea Capitis                                                              7\n",
      "Gastritis/Duodenitis                                                       7\n",
      "Deep Neck Infection                                                        7\n",
      "Anal Itching                                                               7\n",
      "AIDS Related Wasting                                                       7\n",
      "Glioblastoma Multiforme                                                    7\n",
      "Nephrotic Syndrome                                                         7\n",
      "33</span> users found this comment helpful.                                7\n",
      "Herpes Zoster, Prophylaxis                                                 7\n",
      "Ventricular Fibrillation                                                   7\n",
      "27</span> users found this comment helpful.                                7\n",
      "Hypercalcemia of Malignancy                                                7\n",
      "Dermatophytosis                                                            7\n",
      "Periodontitis                                                              7\n",
      "Hypocalcemia                                                               7\n",
      "Primary Hyperaldosteronism                                                 6\n",
      "32</span> users found this comment helpful.                                6\n",
      "amilial Mediterranean Feve                                                 6\n",
      "Herpes Simplex Dendritic Keratitis                                         6\n",
      "CMV Prophylaxis                                                            6\n",
      "Hidradenitis Suppurativa                                                   6\n",
      "ICU Agitation                                                              6\n",
      "Peripheral Arterial Disease                                                6\n",
      "Cyclothymic Disorde                                                        6\n",
      "Melanoma                                                                   6\n",
      "Aphthous Ulce                                                              6\n",
      "Lymphocytic Colitis                                                        6\n",
      "Transient Ischemic Attack                                                  6\n",
      "Carcinoid Tum                                                              6\n",
      "Women (oxybutynin)                                                         6\n",
      "Head Injury                                                                6\n",
      "Leukemia                                                                   6\n",
      "41</span> users found this comment helpful.                                6\n",
      "Gastrointestinal Decontamination                                           6\n",
      "Peritonitis                                                                6\n",
      "Rhinorrhea                                                                 6\n",
      "Alpha-1 Proteinase Inhibitor Deficiency                                    6\n",
      "Candida Urinary Tract Infection                                            6\n",
      "Amebiasis                                                                  6\n",
      "Hypotension                                                                6\n",
      "Acute Lymphoblastic Leukemia                                               6\n",
      "NSAID-Induced Ulcer Prophylaxis                                            6\n",
      "29</span> users found this comment helpful.                                6\n",
      "Skin Disinfection, Preoperative                                            6\n",
      "Pre-Exposure Prophylaxis                                                   6\n",
      "cal Segmental Glomerulosclerosis                                           5\n",
      "Occipital Neuralgia                                                        5\n",
      "Topical Disinfection                                                       5\n",
      "Cerebral Spasticity                                                        5\n",
      "Oral and Dental Conditions                                                 5\n",
      "min / pioglitazone)                                                        5\n",
      "Eyelash Hypotrichosis                                                      5\n",
      "Gout, Prophylaxis                                                          5\n",
      "24</span> users found this comment helpful.                                5\n",
      "Prevention of Atherothrombotic Events                                      5\n",
      "Oligospermia                                                               5\n",
      "Hypokalemia                                                                5\n",
      "Hypomagnesemia                                                             5\n",
      "Cardiovascular Risk Reduction                                              5\n",
      "36</span> users found this comment helpful.                                5\n",
      "28</span> users found this comment helpful.                                5\n",
      "Reiter's Syndrome                                                          5\n",
      "Pudendal Neuralgia                                                         5\n",
      "Antiphospholipid Syndrome                                                  5\n",
      "Hyperekplexia                                                              5\n",
      "Nonoccupational Exposure                                                   5\n",
      "Endometrial Hyperplasia, Prophylaxis                                       5\n",
      "Turner's Syndrome                                                          5\n",
      "Deep Vein Thrombosis Prophylaxis after Hip Replacement Surgery             5\n",
      "Glaucoma/Intraocular Hypertension                                          5\n",
      "mis                                                                        5\n",
      "Dementia                                                                   5\n",
      "Anaplastic Oligodendroglioma                                               5\n",
      "Uterine Bleeding                                                           5\n",
      "SIADH                                                                      5\n",
      "Percutaneous Coronary Intervention                                         5\n",
      "Warts                                                                      5\n",
      "Thromboembolic Stroke Prophylaxis                                          5\n",
      "Enterocolitis                                                              5\n",
      "Eosinophilic Esophagitis                                                   5\n",
      "ge HCT (amlodipine / hydrochlorothiazide / valsartan)                      4\n",
      "43</span> users found this comment helpful.                                4\n",
      "Breast Cancer, Palliative                                                  4\n",
      "actor IX Deficiency                                                        4\n",
      "Schnitzler Syndrome                                                        4\n",
      "Squamous Cell Carcinoma                                                    4\n",
      "Histoplasmosis                                                             4\n",
      "Anaplastic Astrocytoma                                                     4\n",
      "Dupuytren's contracture                                                    4\n",
      "Cutaneous T-cell Lymphoma                                                  4\n",
      "Neck Pain                                                                  4\n",
      "Sunburn                                                                    4\n",
      "22</span> users found this comment helpful.                                4\n",
      "llicle Stimulation                                                         4\n",
      "Platelet Aggregation Inhibition                                            4\n",
      "Hypoglycemia                                                               4\n",
      "Ascariasis                                                                 4\n",
      "Esophageal Variceal Hemorrhage Prophylaxis                                 4\n",
      "Stress Ulcer Prophylaxis                                                   4\n",
      "Chronic Inflammatory Demyelinating Polyradiculoneuropathy                  4\n",
      "STD Prophylaxis                                                            4\n",
      "Hyperkalemia                                                               4\n",
      "Gender Dysphoria                                                           4\n",
      "Paget's Disease                                                            4\n",
      "Anemia, Chemotherapy Induced                                               4\n",
      "Pemphigus                                                                  4\n",
      "55</span> users found this comment helpful.                                4\n",
      "Acute Promyelocytic Leukemia                                               4\n",
      "31</span> users found this comment helpful.                                4\n",
      "Peripheral T-cell Lymphoma                                                 4\n",
      "Systemic Sclerosis                                                         4\n",
      "Liver Magnetic Resonance Imaging                                           4\n",
      "Prosthetic Heart Valves, Mechanical Valves - Thrombosis Prophylaxis        4\n",
      "Dercum's Disease                                                           4\n",
      "Wolff-Parkinson-White Syndrome                                             4\n",
      "44</span> users found this comment helpful.                                4\n",
      "Nausea/Vomiting, Radiation Induced                                         4\n",
      "CNS Magnetic Resonance Imaging                                             4\n",
      "Nephrocalcinosis                                                           4\n",
      "Paroxysmal Supraventricular Tachycardia                                    4\n",
      "Porphyria                                                                  4\n",
      "Autoimmune Hemolytic Anemia                                                4\n",
      "Submental Fullness                                                         4\n",
      "Anesthetic Adjunct                                                         4\n",
      "Hemophilia A                                                               4\n",
      "Granuloma Annulare                                                         4\n",
      "amilial Cold Autoinflammatory Syndrome                                     4\n",
      "Small Bowel Bacterial Overgrowth                                           3\n",
      "Neurosurgery                                                               3\n",
      "Aspiration Pneumonia                                                       3\n",
      "Varicose Veins                                                             3\n",
      "tic (mycophenolic acid)                                                    3\n",
      "Mononucleosis                                                              3\n",
      "Anthrax                                                                    3\n",
      "34</span> users found this comment helpful.                                3\n",
      "Esophageal Candidiasis                                                     3\n",
      "m Pain Disorde                                                             3\n",
      "Ocular Rosacea                                                             3\n",
      "ailure to Thrive                                                           3\n",
      "Endoscopy or Radiology Premedication                                       3\n",
      "35</span> users found this comment helpful.                                3\n",
      "Severe Mood Dysregulation                                                  3\n",
      "Anorexia/Feeding Problems                                                  3\n",
      "Blepharitis                                                                3\n",
      "Tuberculosis, Prophylaxis                                                  3\n",
      "Gallbladder Disease                                                        3\n",
      "Mycoplasma Pneumonia                                                       3\n",
      "Dientamoeba fragilis                                                       3\n",
      "Urinary Retention                                                          3\n",
      "Mixed Connective Tissue Disease                                            3\n",
      "Aplastic Anemia                                                            3\n",
      "Pityriasis rubra pilaris                                                   3\n",
      "Hyperphosphatemia                                                          3\n",
      "Pertussis                                                                  3\n",
      "Small Fiber Neuropathy                                                     3\n",
      "Pseudomembranous Colitis                                                   3\n",
      "Meningitis                                                                 3\n",
      "51</span> users found this comment helpful.                                3\n",
      "Ichthyosis                                                                 3\n",
      "Coronary Artery Disease                                                    3\n",
      "Rejection Prophylaxis                                                      3\n",
      "Ectopic Pregnancy                                                          3\n",
      "Lewy Body Dementia                                                         3\n",
      "Muscle Twitching                                                           2\n",
      "Gaucher Disease                                                            2\n",
      "Dissociative Identity Disorde                                              2\n",
      "mist (                                                                     2\n",
      "Solid Tumors                                                               2\n",
      "Reversal of Nondepolarizing Muscle Relaxants                               2\n",
      "Campylobacter Gastroenteritis                                              2\n",
      "Oppositional Defiant Disorde                                               2\n",
      "Prosthetic Heart Valves, Tissue Valves - Thrombosis Prophylaxis            2\n",
      "Stomach Cance                                                              2\n",
      "Euvolemic Hyponatremia                                                     2\n",
      "Gonadotropin Inhibition                                                    2\n",
      "acial Lipoatrophy                                                          2\n",
      "Babesiosis                                                                 2\n",
      "Duodenal Ulcer Prophylaxis                                                 2\n",
      "Acetaminophen Overdose                                                     2\n",
      "Chronic Eosinophilic Leukemia                                              2\n",
      "Avian Influenza                                                            2\n",
      "Hyperlipoproteinemia Type IV, Elevated VLDL                                2\n",
      "Meningococcal Meningitis Prophylaxis                                       2\n",
      "ibrocystic Breast Disease                                                  2\n",
      "Cyclitis                                                                   2\n",
      "Upper Limb Spasticity                                                      2\n",
      "Subarachnoid Hemorrhage                                                    2\n",
      "Myeloproliferative Disorders                                               2\n",
      "Zollinger-Ellison Syndrome                                                 2\n",
      "Acute Nonlymphocytic Leukemia                                              2\n",
      "Neutropenia                                                                2\n",
      "Polymyositis/Dermatomyositis                                               2\n",
      "Corneal Refractive Surgery                                                 2\n",
      "Gastrointestinal Hemorrhage                                                2\n",
      "Bacteremia                                                                 2\n",
      "75</span> users found this comment helpful.                                2\n",
      "Salmonella Gastroenteritis                                                 2\n",
      "Occupational Exposure                                                      2\n",
      "Mantle Cell Lymphoma                                                       2\n",
      "Renal Tubular Acidosis                                                     2\n",
      "Acute Otitis Externa                                                       2\n",
      "Coccidioidomycosis                                                         2\n",
      "Leukocytoclastic Vasculitis                                                2\n",
      "Nocardiosis                                                                2\n",
      "Organ Transplant, Rejection Reversal                                       2\n",
      "Hemophilia B                                                               2\n",
      "42</span> users found this comment helpful.                                2\n",
      "Gonococcal Infection, Disseminated                                         2\n",
      "Keratitis                                                                  2\n",
      "99</span> users found this comment helpful.                                2\n",
      "me                                                                         2\n",
      "t Pac with Cyclobenzaprine (cyclobenzaprine)                               2\n",
      "Small Bowel or Pancreatic Fistula                                          2\n",
      "74</span> users found this comment helpful.                                2\n",
      "Cerebral Edema                                                             2\n",
      "Testicular Cance                                                           2\n",
      "Aspergillosis, Aspergilloma                                                2\n",
      "Pemphigoid                                                                 2\n",
      "Hyperparathyroidism Secondary to Renal Impairment                          2\n",
      "Cutaneous Larva Migrans                                                    2\n",
      "Joint Infection                                                            2\n",
      "Strabismus                                                                 2\n",
      "Myelofibrosis                                                              2\n",
      "Giant Cell Tumor of Bone                                                   2\n",
      "Nonalcoholic Fatty Liver Disease                                           2\n",
      "Body Imaging                                                               2\n",
      "Thrombocytopenia                                                           2\n",
      "Neurosis                                                                   2\n",
      "Myxedema Coma                                                              2\n",
      "Ehrlichiosis                                                               2\n",
      "Hairy Cell Leukemia                                                        2\n",
      "Hepatic Tum                                                                2\n",
      "Peyronie's Disease                                                         2\n",
      "min / rosiglitazone)                                                       2\n",
      "Vitamin K Deficiency                                                       2\n",
      "Ventricular Arrhythmia                                                     2\n",
      "Aggressive Behavi                                                          2\n",
      "Strongyloidiasis                                                           2\n",
      "Angioedema                                                                 2\n",
      "Renal Transplant                                                           2\n",
      "Parkinsonism                                                               2\n",
      "Thyrotoxicosis                                                             2\n",
      "Tetanus                                                                    2\n",
      "Epididymitis, Sexually Transmitted                                         2\n",
      "Schilling Test                                                             2\n",
      "Tic Disorde                                                                2\n",
      "Malignant Glioma                                                           2\n",
      "Niacin Deficiency                                                          2\n",
      "45</span> users found this comment helpful.                                2\n",
      "Cholera                                                                    2\n",
      "46</span> users found this comment helpful.                                2\n",
      "Radionuclide Myocardial Perfusion Study                                    2\n",
      "Anaphylaxis                                                                2\n",
      "Schistosoma japonicum                                                      2\n",
      "Typhoid Feve                                                               2\n",
      "Tardive Dyskinesia                                                         2\n",
      "Hypodermoclysis                                                            2\n",
      "Hypokalemic Periodic Paralysis                                             2\n",
      "Abdominal Distension                                                       2\n",
      "t Care                                                                     2\n",
      "Delayed Puberty, Male                                                      2\n",
      "Salivary Gland Cance                                                       2\n",
      "Cachexia                                                                   2\n",
      "Croup                                                                      2\n",
      "Syringomyelia                                                              2\n",
      "Deep Vein Thrombosis Prophylaxis after Knee Replacement Surgery            2\n",
      "Intermittent Explosive Disorde                                             2\n",
      "Sleep Paralysis                                                            2\n",
      "Toothache                                                                  2\n",
      "142</span> users found this comment helpful.                               2\n",
      "Postoperative Increased Intraocular Pressure                               2\n",
      "Pathological Hypersecretory Conditions                                     2\n",
      "85</span> users found this comment helpful.                                2\n",
      "Gastric Cance                                                              1\n",
      "95</span> users found this comment helpful.                                1\n",
      "121</span> users found this comment helpful.                               1\n",
      "61</span> users found this comment helpful.                                1\n",
      "Q Feve                                                                     1\n",
      "Diagnostic Bronchograms                                                    1\n",
      "Asystole                                                                   1\n",
      "Neoplastic Diseases                                                        1\n",
      "Short Stature                                                              1\n",
      "Hypercalcemia                                                              1\n",
      "146</span> users found this comment helpful.                               1\n",
      "Neuritis                                                                   1\n",
      "ungal Infection Prophylaxis                                                1\n",
      "Rabies Prophylaxis                                                         1\n",
      "Linear IgA Disease                                                         1\n",
      "Somat                                                                      1\n",
      "Pertussis Prophylaxis                                                      1\n",
      "38</span> users found this comment helpful.                                1\n",
      "135</span> users found this comment helpful.                               1\n",
      "Steroid Responsive Inflammatory Conditions                                 1\n",
      "Yellow Fever Prophylaxis                                                   1\n",
      "100</span> users found this comment helpful.                               1\n",
      "Lyme Disease, Erythema Chronicum Migrans                                   1\n",
      "70</span> users found this comment helpful.                                1\n",
      "Pulmonary Edema                                                            1\n",
      "Tympanostomy Tube Placement Surgery                                        1\n",
      "83</span> users found this comment helpful.                                1\n",
      "Postpartum Breast Pain                                                     1\n",
      "Nausea (phosphorated carbohydrate solution)                                1\n",
      "37</span> users found this comment helpful.                                1\n",
      "Hemorrhoids (pramoxine / zinc oxide)                                       1\n",
      "Women (minoxidil)                                                          1\n",
      "Myotonia Congenita                                                         1\n",
      "Jet Lag                                                                    1\n",
      "llicular Lymphoma                                                          1\n",
      "Premature Ejaculation                                                      1\n",
      "Uveitis, Posteri                                                           1\n",
      "Rat-bite Feve                                                              1\n",
      "110</span> users found this comment helpful.                               1\n",
      "92</span> users found this comment helpful.                                1\n",
      "62</span> users found this comment helpful.                                1\n",
      "77</span> users found this comment helpful.                                1\n",
      "Tinea Barbae                                                               1\n",
      "Scleroderma                                                                1\n",
      "145</span> users found this comment helpful.                               1\n",
      "ungal Pneumonia                                                            1\n",
      "Manscaping Pain                                                            1\n",
      "Portal Hypertension                                                        1\n",
      "64</span> users found this comment helpful.                                1\n",
      "Cerebrovascular Insufficiency                                              1\n",
      "Hepatitis B Prevention                                                     1\n",
      "Thyroid Suppression Test                                                   1\n",
      "Hemangioma                                                                 1\n",
      "Corneal Ulce                                                               1\n",
      "Hyperbilirubinemia                                                         1\n",
      "Hypopituitarism                                                            1\n",
      "Mumps Prophylaxis                                                          1\n",
      "40</span> users found this comment helpful.                                1\n",
      "Amyotrophic Lateral Sclerosis                                              1\n",
      "Infectious Diarrhea                                                        1\n",
      "Hyperlipoproteinemia Type III, Elevated beta-VLDL   IDL                    1\n",
      "Hydrocephalus                                                              1\n",
      "Primary Hyperaldosteronism Diagnosis                                       1\n",
      "Legionella Pneumonia                                                       1\n",
      "Hyperuricemia Secondary to Chemotherapy                                    1\n",
      "Multiple Endocrine Adenomas                                                1\n",
      "84</span> users found this comment helpful.                                1\n",
      "Pruritus of Partial Biliary Obstruction                                    1\n",
      "Wound Cleansing                                                            1\n",
      "Esophageal Spasm                                                           1\n",
      "Somatoform Pain Disorde                                                    1\n",
      "94</span> users found this comment helpful.                                1\n",
      "Secondary Cutaneous Bacterial Infections                                   1\n",
      "79</span> users found this comment helpful.                                1\n",
      "Dermatitis Herpetiformis                                                   1\n",
      "Dermatitis Herpeti                                                         1\n",
      "98</span> users found this comment helpful.                                1\n",
      "Meningitis, Meningococcal                                                  1\n",
      "Parkinsonian Trem                                                          1\n",
      "Tuberculosis, Active                                                       1\n",
      "Anti NMDA Receptor Encephalitis                                            1\n",
      "Patent Ductus Arteriosus                                                   1\n",
      "72</span> users found this comment helpful.                                1\n",
      "Bartonellosis                                                              1\n",
      "Pseudogout, Prophylaxis                                                    1\n",
      "Ramsay Hunt Syndrome                                                       1\n",
      "76</span> users found this comment helpful.                                1\n",
      "48</span> users found this comment helpful.                                1\n",
      "47</span> users found this comment helpful.                                1\n",
      "Short Stature for Age                                                      1\n",
      "Epicondylitis, Tennis Elbow                                                1\n",
      "Prevention of Perinatal Group B Streptococcal Disease                      1\n",
      "123</span> users found this comment helpful.                               1\n",
      "Hodgkin's Lymphoma                                                         1\n",
      "Transverse Myelitis                                                        1\n",
      "Neurotic Depression                                                        1\n",
      "Microscopic polyangiitis                                                   1\n",
      "30</span> users found this comment helpful.                                1\n",
      "26</span> users found this comment helpful.                                1\n",
      "63</span> users found this comment helpful.                                1\n",
      "Klinefelter Syndrome                                                       1\n",
      "Gestational Diabetes                                                       1\n",
      "Cluster-Tic Syndrome                                                       1\n",
      "Sporotrichosis                                                             1\n",
      "54</span> users found this comment helpful.                                1\n",
      "Cogan's Syndrome                                                           1\n",
      "AV Heart Block                                                             1\n",
      "Paragonimus westermani, Lung Fluke                                         1\n",
      "Systemic Candidiasis                                                       1\n",
      "Wilson's Disease                                                           1\n",
      "unctional Gastric Disorde                                                  1\n",
      "Sepsis                                                                     1\n",
      "105</span> users found this comment helpful.                               1\n",
      "Name: count, dtype: int64\n"
     ]
    }
   ],
   "source": [
    "pd.set_option(\"display.max_rows\", None)\n",
    "print(df.condition.value_counts())\n",
    "pd.set_option(\"display.max_rows\", 10)"
   ]
  },
  {
   "cell_type": "markdown",
   "id": "39744ee3",
   "metadata": {},
   "source": [
    "Oddly, the condition labels often (always?) omit initial 'F' and terminal 'r'. We can isolate instances of the former by searching for conditions that start with a lower case letter.\n",
    "\n",
    "We will eventually trim our records to a number of conditions that Planned Parenthood specializes in treating, but we will need all the records to help us determine missing condition labels. After we have restored (or discarded) all missing condition labels, we can drop the conditions outside the scope of this review."
   ]
  },
  {
   "cell_type": "markdown",
   "id": "b86c03f2",
   "metadata": {},
   "source": [
    "## dates\n",
    "\n",
    "(Do this date analysis *after* we have trimmed to just the records we'll use?)\n",
    "\n",
    "There's probably a datetime method for this, but the following will produce month // day // year, and then we can figure out the earliest and latest dates."
   ]
  },
  {
   "cell_type": "code",
   "execution_count": 20,
   "id": "abddc360",
   "metadata": {},
   "outputs": [],
   "source": [
    "df['month'] = df.date.apply(lambda x: re.split(r'\\W+', x)[0])\n",
    "df['day'] = df.date.apply(lambda x: int(re.split(r'\\W+', x)[1]))\n",
    "df['year'] = df.date.apply(lambda x: int(re.split(r'\\W+', x)[2]))"
   ]
  },
  {
   "cell_type": "code",
   "execution_count": 21,
   "id": "ac790251",
   "metadata": {},
   "outputs": [
    {
     "data": {
      "text/plain": [
       "2008"
      ]
     },
     "execution_count": 21,
     "metadata": {},
     "output_type": "execute_result"
    }
   ],
   "source": [
    "df.year.min()"
   ]
  },
  {
   "cell_type": "code",
   "execution_count": 22,
   "id": "c88be289",
   "metadata": {},
   "outputs": [
    {
     "data": {
      "text/plain": [
       "month\n",
       "March        789\n",
       "April        716\n",
       "July         673\n",
       "November     667\n",
       "August       664\n",
       "            ... \n",
       "June         648\n",
       "December     609\n",
       "May          608\n",
       "September    606\n",
       "February     142\n",
       "Name: count, Length: 11, dtype: int64"
      ]
     },
     "execution_count": 22,
     "metadata": {},
     "output_type": "execute_result"
    }
   ],
   "source": [
    "df[df.year == 2008].month.value_counts()"
   ]
  },
  {
   "cell_type": "code",
   "execution_count": 23,
   "id": "e935be3d",
   "metadata": {},
   "outputs": [
    {
     "data": {
      "text/plain": [
       "24"
      ]
     },
     "execution_count": 23,
     "metadata": {},
     "output_type": "execute_result"
    }
   ],
   "source": [
    "df[(df.year == 2008) &\n",
    "   (df.month == 'February')\n",
    "  ].day.min()"
   ]
  },
  {
   "cell_type": "code",
   "execution_count": 24,
   "id": "6a339381",
   "metadata": {},
   "outputs": [
    {
     "data": {
      "text/plain": [
       "2017"
      ]
     },
     "execution_count": 24,
     "metadata": {},
     "output_type": "execute_result"
    }
   ],
   "source": [
    "df.year.max()"
   ]
  },
  {
   "cell_type": "code",
   "execution_count": 25,
   "id": "0409237b",
   "metadata": {},
   "outputs": [
    {
     "data": {
      "text/plain": [
       "month\n",
       "January      4242\n",
       "March        4152\n",
       "April        3767\n",
       "February     3706\n",
       "May          3653\n",
       "             ... \n",
       "July         2949\n",
       "September    2682\n",
       "November     2643\n",
       "October      2480\n",
       "December      812\n",
       "Name: count, Length: 12, dtype: int64"
      ]
     },
     "execution_count": 25,
     "metadata": {},
     "output_type": "execute_result"
    }
   ],
   "source": [
    "df[df.year == 2017].month.value_counts()"
   ]
  },
  {
   "cell_type": "code",
   "execution_count": 26,
   "id": "5e2da804",
   "metadata": {},
   "outputs": [
    {
     "data": {
      "text/plain": [
       "12"
      ]
     },
     "execution_count": 26,
     "metadata": {},
     "output_type": "execute_result"
    }
   ],
   "source": [
    "df[(df.year == 2017) &\n",
    "   (df.month == 'December')\n",
    "  ].day.max()"
   ]
  },
  {
   "cell_type": "markdown",
   "id": "4d9f64a8",
   "metadata": {},
   "source": [
    "The reviews span from February 24, 2008 to December 12, 2017."
   ]
  },
  {
   "cell_type": "code",
   "execution_count": 27,
   "id": "a038651e",
   "metadata": {},
   "outputs": [
    {
     "data": {
      "image/png": "[encoded data removed]",
      "text/plain": [
       "<Figure size 432x288 with 1 Axes>"
      ]
     },
     "metadata": {
      "needs_background": "light"
     },
     "output_type": "display_data"
    }
   ],
   "source": [
    "df.year.hist();"
   ]
  },
  {
   "cell_type": "markdown",
   "id": "d5d05012",
   "metadata": {},
   "source": [
    "## review text"
   ]
  },
  {
   "cell_type": "code",
   "execution_count": 28,
   "id": "5db46a51",
   "metadata": {
    "scrolled": false
   },
   "outputs": [
    {
     "name": "stdout",
     "output_type": "stream",
     "text": [
      "\"It has no side effect, I take it in combination of Bystolic 5 Mg and Fish Oil\" \n",
      "-----\n",
      "\"My son is halfway through his fourth week of Intuniv. We became concerned when he began this last week, when he started taking the highest dose he will be on. For two days, he could hardly get out of bed, was very cranky, and slept for nearly 8 hours on a drive home from school vacation (very unusual for him.) I called his doctor on Monday morning and she said to stick it out a few days. See how he did at school, and with getting up in the morning. The last two days have been problem free. He is MUCH more agreeable than ever. He is less emotional (a good thing), less cranky. He is remembering all the things he should. Overall his behavior is better. \r\n",
      "We have tried many different medications and so far this is the most effective.\" \n",
      "-----\n",
      "\"I used to take another oral contraceptive, which had 21 pill cycle, and was very happy- very light periods, max 5 days, no other side effects. But it contained hormone gestodene, which is not available in US, so I switched to Lybrel, because the ingredients are similar. When my other pills ended, I started Lybrel immediately, on my first day of period, as the instructions said. And the period lasted for two weeks. When taking the second pack- same two weeks. And now, with third pack things got even worse- my third period lasted for two weeks and now it&#039;s the end of the third week- I still have daily brown discharge.\r\n",
      "The positive side is that I didn&#039;t have any other side effects. The idea of being period free was so tempting... Alas.\" \n",
      "-----\n",
      "\"This is my first time using any form of birth control. I&#039;m glad I went with the patch, I have been on it for 8 months. At first It decreased my libido but that subsided. The only downside is that it made my periods longer (5-6 days to be exact) I used to only have periods for 3-4 days max also made my cramps intense for the first two days of my period, I never had cramps before using birth control. Other than that in happy with the patch\" \n",
      "-----\n",
      "\"Suboxone has completely turned my life around.  I feel healthier, I&#039;m excelling at my job and I always have money in my pocket and my savings account.  I had none of those before Suboxone and spent years abusing oxycontin.  My paycheck was already spent by the time I got it and I started resorting to scheming and stealing to fund my addiction.  All that is history.  If you&#039;re ready to stop, there&#039;s a good chance that suboxone will put you on the path of great life again.  I have found the side-effects to be minimal compared to oxycontin.  I&#039;m actually sleeping better.   Slight constipation is about it for me.  It truly is amazing. The cost pales in comparison to what I spent on oxycontin.\" \n",
      "-----\n",
      "\"2nd day on 5mg started to work with rock hard erections however experianced headache, lower bowel preassure. 3rd day erections would wake me up &amp; hurt! Leg/ankles aches   severe lower bowel preassure like you need to go #2 but can&#039;t! Enjoyed the initial rockhard erections but not at these side effects or $230 for months supply! I&#039;m 50 &amp; work out 3Xs a week. Not worth side effects!\" \n",
      "-----\n",
      "\"He pulled out, but he cummed a bit in me. I took the Plan B 26 hours later, and took a pregnancy test two weeks later - - I&#039;m pregnant.\" \n",
      "-----\n",
      "\"Abilify changed my life. There is hope. I was on Zoloft and Clonidine when I first started Abilify at the age of 15.. Zoloft for depression and Clondine to manage my complete rage. My moods were out of control. I was depressed and hopeless one second and then mean, irrational, and full of rage the next. My Dr. prescribed me 2mg of Abilify and from that point on I feel like I have been cured though I know I&#039;m not.. Bi-polar disorder is a constant battle. I know Abilify works for me because I have tried to get off it and lost complete control over my emotions. Went back on it and I was golden again.  I am on 5mg 2x daily. I am now 21 and better than I have ever been in the past. Only side effect is I like to eat a lot.\" \n",
      "-----\n",
      "\" I Ve had  nothing but problems with the Keppera : constant shaking in my arms &amp; legs &amp; pins &amp; needles feeling in my arms &amp; legs severe light headedness no appetite &amp; etc.\" \n",
      "-----\n",
      "\"I had been on the pill for many years. When my doctor changed my RX to chateal, it was as effective. It really did help me by completely clearing my acne, this takes about 6 months though. I did not gain extra weight, or develop any emotional health issues. I stopped taking it bc I started using a more natural method of birth control, but started to take it bc I hate that my acne came back at age 28. I really hope symptoms like depression, or weight gain do not begin to affect me as I am older now. I&#039;m also naturally moody, so this may worsen things. I was in a negative mental rut today. Also I hope this doesn&#039;t push me over the edge, as I believe I am depressed. Hopefully it&#039;ll be just like when I was younger.\" \n",
      "-----\n"
     ]
    }
   ],
   "source": [
    "for i in range(10):\n",
    "    print(df.review[i], '\\n-----')"
   ]
  },
  {
   "cell_type": "markdown",
   "id": "e0e4b2e6",
   "metadata": {},
   "source": [
    "# language cleaning\n",
    "\n",
    "Before we go any further, we would like to clean up some of the review text. In particular, there are many escaped characters, especially apostrophes.\n",
    "\n",
    "Here is an example of a contraction."
   ]
  },
  {
   "cell_type": "code",
   "execution_count": 29,
   "id": "6e56fb50",
   "metadata": {},
   "outputs": [
    {
     "data": {
      "text/plain": [
       "'I&#039;m glad'"
      ]
     },
     "execution_count": 29,
     "metadata": {},
     "output_type": "execute_result"
    }
   ],
   "source": [
    "df.review[3][56:69]"
   ]
  },
  {
   "cell_type": "markdown",
   "id": "d1e2b8be",
   "metadata": {},
   "source": [
    "Here is how the html function fixes it."
   ]
  },
  {
   "cell_type": "code",
   "execution_count": 30,
   "id": "9c189a76",
   "metadata": {},
   "outputs": [
    {
     "data": {
      "text/plain": [
       "\"I'm glad\""
      ]
     },
     "execution_count": 30,
     "metadata": {},
     "output_type": "execute_result"
    }
   ],
   "source": [
    "html.unescape(df.loc[3][2])[56:64]"
   ]
  },
  {
   "cell_type": "markdown",
   "id": "d8ee3f8c",
   "metadata": {},
   "source": [
    "Here is how the contractions function fixes (the html function's fix of) it."
   ]
  },
  {
   "cell_type": "code",
   "execution_count": 31,
   "id": "6b880f2f",
   "metadata": {},
   "outputs": [
    {
     "data": {
      "text/plain": [
       "'I am glad'"
      ]
     },
     "execution_count": 31,
     "metadata": {},
     "output_type": "execute_result"
    }
   ],
   "source": [
    "contractions.fix(html.unescape(df.loc[3][2]))[56:65]"
   ]
  },
  {
   "cell_type": "markdown",
   "id": "d968a624",
   "metadata": {},
   "source": [
    "Here is an instance of \"ain't\" with the same functions applied."
   ]
  },
  {
   "cell_type": "code",
   "execution_count": 32,
   "id": "ccde4f12",
   "metadata": {},
   "outputs": [
    {
     "data": {
      "text/plain": [
       "'I ain&#039;t complaining'"
      ]
     },
     "execution_count": 32,
     "metadata": {},
     "output_type": "execute_result"
    }
   ],
   "source": [
    "df.review.loc[507][75:99]"
   ]
  },
  {
   "cell_type": "code",
   "execution_count": 33,
   "id": "53c10631",
   "metadata": {},
   "outputs": [
    {
     "data": {
      "text/plain": [
       "\"I ain't complaining\""
      ]
     },
     "execution_count": 33,
     "metadata": {},
     "output_type": "execute_result"
    }
   ],
   "source": [
    "html.unescape(df.review.loc[507])[75:94]"
   ]
  },
  {
   "cell_type": "code",
   "execution_count": 34,
   "id": "c9c749ef",
   "metadata": {},
   "outputs": [
    {
     "data": {
      "text/plain": [
       "'I are not complaining'"
      ]
     },
     "execution_count": 34,
     "metadata": {},
     "output_type": "execute_result"
    }
   ],
   "source": [
    "contractions.fix(html.unescape(df.review.loc[507]))[75:96]"
   ]
  },
  {
   "cell_type": "code",
   "execution_count": 35,
   "id": "4e4202fc",
   "metadata": {},
   "outputs": [
    {
     "data": {
      "text/plain": [
       "53"
      ]
     },
     "execution_count": 35,
     "metadata": {},
     "output_type": "execute_result"
    }
   ],
   "source": [
    "len(df[df.review.str.contains('ain&#039;t')])"
   ]
  },
  {
   "cell_type": "markdown",
   "id": "a1d44d34",
   "metadata": {},
   "source": [
    "There are 53 instances of \"ain't\".\n",
    "\n",
    "I'm currently having difficulty downloading the package that appropriately fixes \"ain't\" into \"is not\" or \"are not\" etc. This shouldn't matter after I remove stop words. I think it will be helpful to exclude negatives like \"no\" and \"not\" from the stop words. It could certainly be of help to look for bigrams like \"not good\"."
   ]
  },
  {
   "cell_type": "code",
   "execution_count": 36,
   "id": "0a2fde1b",
   "metadata": {},
   "outputs": [],
   "source": [
    "df.review = df.review.apply(lambda x: contractions.fix(html.unescape(x)))"
   ]
  },
  {
   "cell_type": "markdown",
   "id": "e03591ae",
   "metadata": {},
   "source": [
    "# missing values"
   ]
  },
  {
   "cell_type": "code",
   "execution_count": 37,
   "id": "7dffae59",
   "metadata": {},
   "outputs": [
    {
     "data": {
      "text/plain": [
       "1194"
      ]
     },
     "execution_count": 37,
     "metadata": {},
     "output_type": "execute_result"
    }
   ],
   "source": [
    "len(df[df.condition.isna()])"
   ]
  },
  {
   "cell_type": "code",
   "execution_count": 38,
   "id": "7a7bc2ec",
   "metadata": {},
   "outputs": [],
   "source": [
    "df.condition.fillna('missing', inplace=True)"
   ]
  },
  {
   "cell_type": "code",
   "execution_count": 39,
   "id": "61cd15b7",
   "metadata": {},
   "outputs": [
    {
     "data": {
      "text/plain": [
       "1194"
      ]
     },
     "execution_count": 39,
     "metadata": {},
     "output_type": "execute_result"
    }
   ],
   "source": [
    "len(df[df.condition == 'missing'])"
   ]
  },
  {
   "cell_type": "markdown",
   "id": "d715e568",
   "metadata": {},
   "source": [
    "We noticed another condition label that was meant to indicate missing and should be accordingly changed."
   ]
  },
  {
   "cell_type": "code",
   "execution_count": 40,
   "id": "14e57719",
   "metadata": {},
   "outputs": [],
   "source": [
    "df.condition = df.condition.apply(lambda x: 'missing' if 'Not Listed' in x else x)"
   ]
  },
  {
   "cell_type": "code",
   "execution_count": 41,
   "id": "7f762405",
   "metadata": {},
   "outputs": [
    {
     "data": {
      "text/plain": [
       "1786"
      ]
     },
     "execution_count": 41,
     "metadata": {},
     "output_type": "execute_result"
    }
   ],
   "source": [
    "len(df[df.condition == 'missing'])"
   ]
  },
  {
   "cell_type": "markdown",
   "id": "dc3f12a0",
   "metadata": {},
   "source": [
    "We've identified some actual missing condition labels, but we noticed there are more condition labels that seem suspicious, particularly ones that start with something other than an upper case character. Let's look at all such condition labels."
   ]
  },
  {
   "cell_type": "code",
   "execution_count": 42,
   "id": "165fa025",
   "metadata": {},
   "outputs": [
    {
     "data": {
      "text/plain": [
       "{'0</span> users found this comment helpful.',\n",
       " '100</span> users found this comment helpful.',\n",
       " '105</span> users found this comment helpful.',\n",
       " '10</span> users found this comment helpful.',\n",
       " '110</span> users found this comment helpful.',\n",
       " '11</span> users found this comment helpful.',\n",
       " '121</span> users found this comment helpful.',\n",
       " '123</span> users found this comment helpful.',\n",
       " '12</span> users found this comment helpful.',\n",
       " '135</span> users found this comment helpful.',\n",
       " '13</span> users found this comment helpful.',\n",
       " '142</span> users found this comment helpful.',\n",
       " '145</span> users found this comment helpful.',\n",
       " '146</span> users found this comment helpful.',\n",
       " '14</span> users found this comment helpful.',\n",
       " '15</span> users found this comment helpful.',\n",
       " '16</span> users found this comment helpful.',\n",
       " '17</span> users found this comment helpful.',\n",
       " '18</span> users found this comment helpful.',\n",
       " '19</span> users found this comment helpful.',\n",
       " '1</span> users found this comment helpful.',\n",
       " '20</span> users found this comment helpful.',\n",
       " '21</span> users found this comment helpful.',\n",
       " '22</span> users found this comment helpful.',\n",
       " '23</span> users found this comment helpful.',\n",
       " '24</span> users found this comment helpful.',\n",
       " '25</span> users found this comment helpful.',\n",
       " '26</span> users found this comment helpful.',\n",
       " '27</span> users found this comment helpful.',\n",
       " '28</span> users found this comment helpful.',\n",
       " '29</span> users found this comment helpful.',\n",
       " '2</span> users found this comment helpful.',\n",
       " '30</span> users found this comment helpful.',\n",
       " '31</span> users found this comment helpful.',\n",
       " '32</span> users found this comment helpful.',\n",
       " '33</span> users found this comment helpful.',\n",
       " '34</span> users found this comment helpful.',\n",
       " '35</span> users found this comment helpful.',\n",
       " '36</span> users found this comment helpful.',\n",
       " '37</span> users found this comment helpful.',\n",
       " '38</span> users found this comment helpful.',\n",
       " '39</span> users found this comment helpful.',\n",
       " '3</span> users found this comment helpful.',\n",
       " '40</span> users found this comment helpful.',\n",
       " '41</span> users found this comment helpful.',\n",
       " '42</span> users found this comment helpful.',\n",
       " '43</span> users found this comment helpful.',\n",
       " '44</span> users found this comment helpful.',\n",
       " '45</span> users found this comment helpful.',\n",
       " '46</span> users found this comment helpful.',\n",
       " '47</span> users found this comment helpful.',\n",
       " '48</span> users found this comment helpful.',\n",
       " '4</span> users found this comment helpful.',\n",
       " '51</span> users found this comment helpful.',\n",
       " '54</span> users found this comment helpful.',\n",
       " '55</span> users found this comment helpful.',\n",
       " '5</span> users found this comment helpful.',\n",
       " '61</span> users found this comment helpful.',\n",
       " '62</span> users found this comment helpful.',\n",
       " '63</span> users found this comment helpful.',\n",
       " '64</span> users found this comment helpful.',\n",
       " '6</span> users found this comment helpful.',\n",
       " '70</span> users found this comment helpful.',\n",
       " '72</span> users found this comment helpful.',\n",
       " '74</span> users found this comment helpful.',\n",
       " '75</span> users found this comment helpful.',\n",
       " '76</span> users found this comment helpful.',\n",
       " '77</span> users found this comment helpful.',\n",
       " '79</span> users found this comment helpful.',\n",
       " '7</span> users found this comment helpful.',\n",
       " '83</span> users found this comment helpful.',\n",
       " '84</span> users found this comment helpful.',\n",
       " '85</span> users found this comment helpful.',\n",
       " '8</span> users found this comment helpful.',\n",
       " '92</span> users found this comment helpful.',\n",
       " '94</span> users found this comment helpful.',\n",
       " '95</span> users found this comment helpful.',\n",
       " '98</span> users found this comment helpful.',\n",
       " '99</span> users found this comment helpful.',\n",
       " '9</span> users found this comment helpful.',\n",
       " 'acial Lipoatrophy',\n",
       " 'acial Wrinkles',\n",
       " 'actor IX Deficiency',\n",
       " 'ailure to Thrive',\n",
       " 'amilial Cold Autoinflammatory Syndrome',\n",
       " 'amilial Mediterranean Feve',\n",
       " 'atigue',\n",
       " 'cal Segmental Glomerulosclerosis',\n",
       " 'emale Infertility',\n",
       " 'eve',\n",
       " 'ge (amlodipine / valsartan)',\n",
       " 'ge HCT (amlodipine / hydrochlorothiazide / valsartan)',\n",
       " 'ibrocystic Breast Disease',\n",
       " 'ibromyalgia',\n",
       " 'lic Acid Deficiency',\n",
       " 'llicle Stimulation',\n",
       " 'llicular Lymphoma',\n",
       " 'm Pain Disorde',\n",
       " 'mance Anxiety',\n",
       " 'me',\n",
       " 'min / pioglitazone)',\n",
       " 'min / rosiglitazone)',\n",
       " 'min / saxagliptin)',\n",
       " 'min / sitagliptin)',\n",
       " 'min)',\n",
       " 'mis',\n",
       " 'mist (',\n",
       " 'moterol / mometasone)',\n",
       " 'moterol)',\n",
       " 'mulation) (phenylephrine)',\n",
       " 't Care',\n",
       " 't Pac with Cyclobenzaprine (cyclobenzaprine)',\n",
       " 'tic (mycophenolic acid)',\n",
       " 'unctional Gastric Disorde',\n",
       " 'ungal Infection Prophylaxis',\n",
       " 'ungal Pneumonia',\n",
       " \"von Willebrand's Disease\",\n",
       " 'zen Shoulde'}"
      ]
     },
     "execution_count": 42,
     "metadata": {},
     "output_type": "execute_result"
    }
   ],
   "source": [
    "set(df[(~df.condition.str[0].isin(list(string.ascii_uppercase))) &\n",
    "   (df.condition != 'missing')\n",
    "  ].condition)"
   ]
  },
  {
   "cell_type": "markdown",
   "id": "8f003d76",
   "metadata": {},
   "source": [
    "These fall into three categories. Ones that include \"users found this comment helpful\" should be regarded as erroneous and therefore missing."
   ]
  },
  {
   "cell_type": "code",
   "execution_count": 43,
   "id": "4d3499e2",
   "metadata": {},
   "outputs": [],
   "source": [
    "df.condition = df.condition.apply(lambda x: 'missing' if 'users found' in x else x)"
   ]
  },
  {
   "cell_type": "code",
   "execution_count": 44,
   "id": "b465ac1e",
   "metadata": {},
   "outputs": [
    {
     "data": {
      "text/plain": [
       "2957"
      ]
     },
     "execution_count": 44,
     "metadata": {},
     "output_type": "execute_result"
    }
   ],
   "source": [
    "len(df[df.condition == 'missing'])"
   ]
  },
  {
   "cell_type": "markdown",
   "id": "5c269261",
   "metadata": {},
   "source": [
    "Ones that show a clipped copy of the drug name label and end with a parenthesis should also be regarded as missing."
   ]
  },
  {
   "cell_type": "code",
   "execution_count": 45,
   "id": "b7385c50",
   "metadata": {},
   "outputs": [],
   "source": [
    "df.condition = df.condition.apply(lambda x: 'missing' \\\n",
    "                                  if x[0] not in list(string.ascii_uppercase) and \\\n",
    "                                  x[-1] in ['(', ')'] \\\n",
    "                                  else x)"
   ]
  },
  {
   "cell_type": "code",
   "execution_count": 46,
   "id": "c0cd9daf",
   "metadata": {},
   "outputs": [
    {
     "data": {
      "text/plain": [
       "3286"
      ]
     },
     "execution_count": 46,
     "metadata": {},
     "output_type": "execute_result"
    }
   ],
   "source": [
    "len(df[df.condition == 'missing'])"
   ]
  },
  {
   "cell_type": "markdown",
   "id": "9f07592f",
   "metadata": {},
   "source": [
    "# restoring erroneous condition labels\n",
    "\n",
    "(skip this step because we're just focusing on birth control?)\n",
    "\n",
    "Most of the ones that show a clipped version of the condition label can possibly be restored."
   ]
  },
  {
   "cell_type": "code",
   "execution_count": 47,
   "id": "40afd03e",
   "metadata": {},
   "outputs": [],
   "source": [
    "def condition_restore(condition):\n",
    "    if condition.split()[-1] in ['Disorde', 'eve', 'Shoulde', 'Cance']:\n",
    "        condition = condition+'r'\n",
    "    if condition.split()[0] in ['acial', 'ibrocystic', 'ungal', 'amilial', 'ailure', 'ever', \\\n",
    "                                'emale', 'unctional', 'actor', 'ibromyalgia', 'atigue']:\n",
    "        condition = 'F'+condition\n",
    "    if condition.split()[0] in ['llicular', 'llicle', 'lic', 'cal']:\n",
    "        condition = 'Fo'+condition\n",
    "    if condition.split()[0] in ['mance']:\n",
    "        condition = 'Perfor'+condition\n",
    "    if condition.split()[0] in ['zen']:\n",
    "        condition = 'Fro'+condition\n",
    "    if condition.split()[0] in ['mis']:\n",
    "        condition = 'Dermatitis Herpetifor'+condition\n",
    "    return condition\n",
    "\n",
    "df.condition = df.condition.apply(lambda x: condition_restore(x))"
   ]
  },
  {
   "cell_type": "markdown",
   "id": "813e14b3",
   "metadata": {},
   "source": [
    "Let's look at what we have left."
   ]
  },
  {
   "cell_type": "code",
   "execution_count": 48,
   "id": "09e21a92",
   "metadata": {},
   "outputs": [
    {
     "data": {
      "text/plain": [
       "{'m Pain Disorder', 'me', 't Care', \"von Willebrand's Disease\"}"
      ]
     },
     "execution_count": 48,
     "metadata": {},
     "output_type": "execute_result"
    }
   ],
   "source": [
    "set(df[(~df.condition.str[0].isin(list(string.ascii_uppercase))) &\n",
    "   (df.condition != 'missing')\n",
    "  ].condition)"
   ]
  },
  {
   "cell_type": "markdown",
   "id": "f04fb539",
   "metadata": {},
   "source": [
    "\"von Willebrand's Disease\" appears to be a naturally uncapitalized condition. The others have been impossible to restore and will also be regarded as missing."
   ]
  },
  {
   "cell_type": "code",
   "execution_count": 49,
   "id": "2f1a5de0",
   "metadata": {},
   "outputs": [],
   "source": [
    "df.condition = df.condition.apply(lambda x: 'missing' \\\n",
    "                                  if x[0] not in list(string.ascii_uppercase) and \\\n",
    "                                  x.split()[0] != 'von' \\\n",
    "                                  else x)"
   ]
  },
  {
   "cell_type": "code",
   "execution_count": 50,
   "id": "4ab0eb52",
   "metadata": {},
   "outputs": [
    {
     "data": {
      "text/plain": [
       "3293"
      ]
     },
     "execution_count": 50,
     "metadata": {},
     "output_type": "execute_result"
    }
   ],
   "source": [
    "len(df[df.condition == 'missing'])"
   ]
  },
  {
   "cell_type": "markdown",
   "id": "683d8b35",
   "metadata": {},
   "source": [
    "We will be able to restore more of these missing condition labels after we do some work with duplicates."
   ]
  },
  {
   "cell_type": "markdown",
   "id": "ebff4b76",
   "metadata": {},
   "source": [
    "# duplicates"
   ]
  },
  {
   "cell_type": "code",
   "execution_count": 51,
   "id": "e4a2ce41",
   "metadata": {},
   "outputs": [
    {
     "data": {
      "text/plain": [
       "False    215061\n",
       "True          2\n",
       "Name: count, dtype: int64"
      ]
     },
     "execution_count": 51,
     "metadata": {},
     "output_type": "execute_result"
    }
   ],
   "source": [
    "df.duplicated().value_counts()"
   ]
  },
  {
   "cell_type": "code",
   "execution_count": 52,
   "id": "fb9963b0",
   "metadata": {},
   "outputs": [
    {
     "data": {
      "text/html": [
       "<div>\n",
       "<style scoped>\n",
       "    .dataframe tbody tr th:only-of-type {\n",
       "        vertical-align: middle;\n",
       "    }\n",
       "\n",
       "    .dataframe tbody tr th {\n",
       "        vertical-align: top;\n",
       "    }\n",
       "\n",
       "    .dataframe thead th {\n",
       "        text-align: right;\n",
       "    }\n",
       "</style>\n",
       "<table border=\"1\" class=\"dataframe\">\n",
       "  <thead>\n",
       "    <tr style=\"text-align: right;\">\n",
       "      <th></th>\n",
       "      <th>drugName</th>\n",
       "      <th>condition</th>\n",
       "      <th>review</th>\n",
       "      <th>rating</th>\n",
       "      <th>date</th>\n",
       "      <th>usefulCount</th>\n",
       "      <th>month</th>\n",
       "      <th>day</th>\n",
       "      <th>year</th>\n",
       "    </tr>\n",
       "  </thead>\n",
       "  <tbody>\n",
       "    <tr>\n",
       "      <th>178703</th>\n",
       "      <td>Levonorgestrel</td>\n",
       "      <td>Emergency Contraception</td>\n",
       "      <td>\"I had a quickie n he decided to finish it off...</td>\n",
       "      <td>1.0</td>\n",
       "      <td>September 23, 2016</td>\n",
       "      <td>10</td>\n",
       "      <td>September</td>\n",
       "      <td>23</td>\n",
       "      <td>2016</td>\n",
       "    </tr>\n",
       "    <tr>\n",
       "      <th>191001</th>\n",
       "      <td>Plan B</td>\n",
       "      <td>Emergency Contraception</td>\n",
       "      <td>\"I had a quickie n he decided to finish it off...</td>\n",
       "      <td>1.0</td>\n",
       "      <td>September 23, 2016</td>\n",
       "      <td>10</td>\n",
       "      <td>September</td>\n",
       "      <td>23</td>\n",
       "      <td>2016</td>\n",
       "    </tr>\n",
       "  </tbody>\n",
       "</table>\n",
       "</div>"
      ],
      "text/plain": [
       "              drugName                condition  \\\n",
       "178703  Levonorgestrel  Emergency Contraception   \n",
       "191001          Plan B  Emergency Contraception   \n",
       "\n",
       "                                                   review  rating  \\\n",
       "178703  \"I had a quickie n he decided to finish it off...     1.0   \n",
       "191001  \"I had a quickie n he decided to finish it off...     1.0   \n",
       "\n",
       "                      date  usefulCount      month  day  year  \n",
       "178703  September 23, 2016           10  September   23  2016  \n",
       "191001  September 23, 2016           10  September   23  2016  "
      ]
     },
     "execution_count": 52,
     "metadata": {},
     "output_type": "execute_result"
    }
   ],
   "source": [
    "df[df.duplicated()]"
   ]
  },
  {
   "cell_type": "code",
   "execution_count": 53,
   "id": "fe8af670",
   "metadata": {},
   "outputs": [
    {
     "name": "stdout",
     "output_type": "stream",
     "text": [
      "\"I had a quickie n he decided to finish it off in me... Well IMMEDIATELY we went 2 our local pharmacy n bought this plan b 1 step pill.I took it immediately.2 weeks later,took a pregnancy test n got the world's BIGGEST POSITIVE. The small pill was $50.That was the 1st time in a year n a half that I had intercourse n the last after I had my first son. I honestly believe this pill is ineffective because they just want you to think it works when n reality, it would never work. Alot of women do not know their bodies when they ovulate so if your not fertile and he ejaculates n you and you take the pill n do not get preg., The pill is supposed to make you think it worked. DO NOT buy. Was NEVER effective. Thank you!\"\n"
     ]
    },
    {
     "data": {
      "text/html": [
       "<div>\n",
       "<style scoped>\n",
       "    .dataframe tbody tr th:only-of-type {\n",
       "        vertical-align: middle;\n",
       "    }\n",
       "\n",
       "    .dataframe tbody tr th {\n",
       "        vertical-align: top;\n",
       "    }\n",
       "\n",
       "    .dataframe thead th {\n",
       "        text-align: right;\n",
       "    }\n",
       "</style>\n",
       "<table border=\"1\" class=\"dataframe\">\n",
       "  <thead>\n",
       "    <tr style=\"text-align: right;\">\n",
       "      <th></th>\n",
       "      <th>drugName</th>\n",
       "      <th>condition</th>\n",
       "      <th>rating</th>\n",
       "      <th>date</th>\n",
       "      <th>usefulCount</th>\n",
       "    </tr>\n",
       "  </thead>\n",
       "  <tbody>\n",
       "    <tr>\n",
       "      <th>131531</th>\n",
       "      <td>Levonorgestrel</td>\n",
       "      <td>Emergency Contraception</td>\n",
       "      <td>1.0</td>\n",
       "      <td>September 23, 2016</td>\n",
       "      <td>10</td>\n",
       "    </tr>\n",
       "    <tr>\n",
       "      <th>143768</th>\n",
       "      <td>Plan B</td>\n",
       "      <td>Emergency Contraception</td>\n",
       "      <td>1.0</td>\n",
       "      <td>September 23, 2016</td>\n",
       "      <td>10</td>\n",
       "    </tr>\n",
       "    <tr>\n",
       "      <th>178703</th>\n",
       "      <td>Levonorgestrel</td>\n",
       "      <td>Emergency Contraception</td>\n",
       "      <td>1.0</td>\n",
       "      <td>September 23, 2016</td>\n",
       "      <td>10</td>\n",
       "    </tr>\n",
       "    <tr>\n",
       "      <th>191001</th>\n",
       "      <td>Plan B</td>\n",
       "      <td>Emergency Contraception</td>\n",
       "      <td>1.0</td>\n",
       "      <td>September 23, 2016</td>\n",
       "      <td>10</td>\n",
       "    </tr>\n",
       "  </tbody>\n",
       "</table>\n",
       "</div>"
      ],
      "text/plain": [
       "              drugName                condition  rating                date  \\\n",
       "131531  Levonorgestrel  Emergency Contraception     1.0  September 23, 2016   \n",
       "143768          Plan B  Emergency Contraception     1.0  September 23, 2016   \n",
       "178703  Levonorgestrel  Emergency Contraception     1.0  September 23, 2016   \n",
       "191001          Plan B  Emergency Contraception     1.0  September 23, 2016   \n",
       "\n",
       "        usefulCount  \n",
       "131531           10  \n",
       "143768           10  \n",
       "178703           10  \n",
       "191001           10  "
      ]
     },
     "metadata": {},
     "output_type": "display_data"
    }
   ],
   "source": [
    "show_review(178703)"
   ]
  },
  {
   "cell_type": "markdown",
   "id": "fd6c965a",
   "metadata": {},
   "source": [
    "This is curious. The same review is recorded four times. There are two identical pairs, where the difference between the pairs is the drug name. We can drop one from each pair, but the pairs themselves will need to be revisited."
   ]
  },
  {
   "cell_type": "code",
   "execution_count": 54,
   "id": "16bdb6cb",
   "metadata": {},
   "outputs": [],
   "source": [
    "df.drop_duplicates(inplace=True)"
   ]
  },
  {
   "cell_type": "markdown",
   "id": "9f5f6566",
   "metadata": {},
   "source": [
    "# brand / generic pairs\n",
    "\n",
    "The main type of duplicate we should look out for is records with duplicate reviews, as those likely indicate some kind of actual erroneous duplication. Let's see how many of those there are."
   ]
  },
  {
   "cell_type": "code",
   "execution_count": 55,
   "id": "f2dbc5d2",
   "metadata": {},
   "outputs": [
    {
     "data": {
      "text/plain": [
       "False    128467\n",
       "True      86594\n",
       "Name: count, dtype: int64"
      ]
     },
     "execution_count": 55,
     "metadata": {},
     "output_type": "execute_result"
    }
   ],
   "source": [
    "df.duplicated(subset=['review']).value_counts()"
   ]
  },
  {
   "cell_type": "markdown",
   "id": "7d3530ac",
   "metadata": {},
   "source": [
    "That's a lot!\n",
    "\n",
    "Let's explore some facets of these duplicates."
   ]
  },
  {
   "cell_type": "code",
   "execution_count": 56,
   "id": "ee1f5afd",
   "metadata": {},
   "outputs": [
    {
     "data": {
      "text/plain": [
       "85876"
      ]
     },
     "execution_count": 56,
     "metadata": {},
     "output_type": "execute_result"
    }
   ],
   "source": [
    "len(df[df.duplicated(subset=df.columns.difference(['drugName']))])"
   ]
  },
  {
   "cell_type": "markdown",
   "id": "179562c6",
   "metadata": {},
   "source": [
    "The vast majority of duplicate reviews are accounted for by different drug names. Let's explore some examples."
   ]
  },
  {
   "cell_type": "code",
   "execution_count": 57,
   "id": "2586ac9f",
   "metadata": {},
   "outputs": [
    {
     "data": {
      "text/html": [
       "<div>\n",
       "<style scoped>\n",
       "    .dataframe tbody tr th:only-of-type {\n",
       "        vertical-align: middle;\n",
       "    }\n",
       "\n",
       "    .dataframe tbody tr th {\n",
       "        vertical-align: top;\n",
       "    }\n",
       "\n",
       "    .dataframe thead th {\n",
       "        text-align: right;\n",
       "    }\n",
       "</style>\n",
       "<table border=\"1\" class=\"dataframe\">\n",
       "  <thead>\n",
       "    <tr style=\"text-align: right;\">\n",
       "      <th></th>\n",
       "      <th>drugName</th>\n",
       "      <th>condition</th>\n",
       "      <th>review</th>\n",
       "      <th>rating</th>\n",
       "      <th>date</th>\n",
       "      <th>usefulCount</th>\n",
       "      <th>month</th>\n",
       "      <th>day</th>\n",
       "      <th>year</th>\n",
       "    </tr>\n",
       "  </thead>\n",
       "  <tbody>\n",
       "    <tr>\n",
       "      <th>524</th>\n",
       "      <td>Nexplanon</td>\n",
       "      <td>Birth Control</td>\n",
       "      <td>\"First had implanon then got Nexplanon, had a ...</td>\n",
       "      <td>9.0</td>\n",
       "      <td>April 21, 2017</td>\n",
       "      <td>5</td>\n",
       "      <td>April</td>\n",
       "      <td>21</td>\n",
       "      <td>2017</td>\n",
       "    </tr>\n",
       "    <tr>\n",
       "      <th>574</th>\n",
       "      <td>Cymbalta</td>\n",
       "      <td>Anxiety</td>\n",
       "      <td>\"Prescribed via a Psychiatrist for severe Pani...</td>\n",
       "      <td>1.0</td>\n",
       "      <td>September 5, 2010</td>\n",
       "      <td>27</td>\n",
       "      <td>September</td>\n",
       "      <td>5</td>\n",
       "      <td>2010</td>\n",
       "    </tr>\n",
       "    <tr>\n",
       "      <th>726</th>\n",
       "      <td>Orsythia</td>\n",
       "      <td>Birth Control</td>\n",
       "      <td>\"I have only been on orsythia for about 1 mont...</td>\n",
       "      <td>2.0</td>\n",
       "      <td>October 8, 2015</td>\n",
       "      <td>7</td>\n",
       "      <td>October</td>\n",
       "      <td>8</td>\n",
       "      <td>2015</td>\n",
       "    </tr>\n",
       "    <tr>\n",
       "      <th>1070</th>\n",
       "      <td>Desvenlafaxine</td>\n",
       "      <td>Depression</td>\n",
       "      <td>\"I have suffered from severe anxiety (GAD) and...</td>\n",
       "      <td>8.0</td>\n",
       "      <td>November 1, 2013</td>\n",
       "      <td>81</td>\n",
       "      <td>November</td>\n",
       "      <td>1</td>\n",
       "      <td>2013</td>\n",
       "    </tr>\n",
       "    <tr>\n",
       "      <th>1375</th>\n",
       "      <td>Ethinyl estradiol / norethindrone</td>\n",
       "      <td>Birth Control</td>\n",
       "      <td>\"I have been taking my first pack of Lo Loestr...</td>\n",
       "      <td>8.0</td>\n",
       "      <td>February 1, 2012</td>\n",
       "      <td>7</td>\n",
       "      <td>February</td>\n",
       "      <td>1</td>\n",
       "      <td>2012</td>\n",
       "    </tr>\n",
       "  </tbody>\n",
       "</table>\n",
       "</div>"
      ],
      "text/plain": [
       "                               drugName      condition  \\\n",
       "524                           Nexplanon  Birth Control   \n",
       "574                            Cymbalta        Anxiety   \n",
       "726                            Orsythia  Birth Control   \n",
       "1070                     Desvenlafaxine     Depression   \n",
       "1375  Ethinyl estradiol / norethindrone  Birth Control   \n",
       "\n",
       "                                                 review  rating  \\\n",
       "524   \"First had implanon then got Nexplanon, had a ...     9.0   \n",
       "574   \"Prescribed via a Psychiatrist for severe Pani...     1.0   \n",
       "726   \"I have only been on orsythia for about 1 mont...     2.0   \n",
       "1070  \"I have suffered from severe anxiety (GAD) and...     8.0   \n",
       "1375  \"I have been taking my first pack of Lo Loestr...     8.0   \n",
       "\n",
       "                   date  usefulCount      month  day  year  \n",
       "524      April 21, 2017            5      April   21  2017  \n",
       "574   September 5, 2010           27  September    5  2010  \n",
       "726     October 8, 2015            7    October    8  2015  \n",
       "1070   November 1, 2013           81   November    1  2013  \n",
       "1375   February 1, 2012            7   February    1  2012  "
      ]
     },
     "execution_count": 57,
     "metadata": {},
     "output_type": "execute_result"
    }
   ],
   "source": [
    "df[df.duplicated(subset=df.columns.difference(['drugName']))].head()"
   ]
  },
  {
   "cell_type": "code",
   "execution_count": 58,
   "id": "d22616f7",
   "metadata": {},
   "outputs": [
    {
     "name": "stdout",
     "output_type": "stream",
     "text": [
      "\"First had implanon then got Nexplanon, had a period first month and I have not had one since. I am due to remove it next year.  I do notice spotting  sometimes for a day but it honestly  usually coincides with when I am stressed. \r\n",
      "Had some weight gain also.\r\n",
      "\r\n",
      "So far the best BECAUSE I have  had in all my years.  I plan on trying for a baby next year then I will be back on it.\"\n"
     ]
    },
    {
     "data": {
      "text/html": [
       "<div>\n",
       "<style scoped>\n",
       "    .dataframe tbody tr th:only-of-type {\n",
       "        vertical-align: middle;\n",
       "    }\n",
       "\n",
       "    .dataframe tbody tr th {\n",
       "        vertical-align: top;\n",
       "    }\n",
       "\n",
       "    .dataframe thead th {\n",
       "        text-align: right;\n",
       "    }\n",
       "</style>\n",
       "<table border=\"1\" class=\"dataframe\">\n",
       "  <thead>\n",
       "    <tr style=\"text-align: right;\">\n",
       "      <th></th>\n",
       "      <th>drugName</th>\n",
       "      <th>condition</th>\n",
       "      <th>rating</th>\n",
       "      <th>date</th>\n",
       "      <th>usefulCount</th>\n",
       "    </tr>\n",
       "  </thead>\n",
       "  <tbody>\n",
       "    <tr>\n",
       "      <th>374</th>\n",
       "      <td>Etonogestrel</td>\n",
       "      <td>Birth Control</td>\n",
       "      <td>9.0</td>\n",
       "      <td>April 21, 2017</td>\n",
       "      <td>5</td>\n",
       "    </tr>\n",
       "    <tr>\n",
       "      <th>524</th>\n",
       "      <td>Nexplanon</td>\n",
       "      <td>Birth Control</td>\n",
       "      <td>9.0</td>\n",
       "      <td>April 21, 2017</td>\n",
       "      <td>5</td>\n",
       "    </tr>\n",
       "  </tbody>\n",
       "</table>\n",
       "</div>"
      ],
      "text/plain": [
       "         drugName      condition  rating            date  usefulCount\n",
       "374  Etonogestrel  Birth Control     9.0  April 21, 2017            5\n",
       "524     Nexplanon  Birth Control     9.0  April 21, 2017            5"
      ]
     },
     "metadata": {},
     "output_type": "display_data"
    }
   ],
   "source": [
    "show_review(524)"
   ]
  },
  {
   "cell_type": "code",
   "execution_count": 59,
   "id": "aa926752",
   "metadata": {},
   "outputs": [
    {
     "name": "stdout",
     "output_type": "stream",
     "text": [
      "\"Prescribed via a Psychiatrist for severe Panic attacks for 2 years.\r\n",
      "If I take dosage late or forget to take it the withdrawal symptoms kick in.  \r\n",
      "Gnawing physical pain, breathlessness, disorientation to time, difficulties in word finding while speaking, severe muscle pain and stiffness, nausea, labile emotions and panic.\r\n",
      "\r\n",
      "\"\n"
     ]
    },
    {
     "data": {
      "text/html": [
       "<div>\n",
       "<style scoped>\n",
       "    .dataframe tbody tr th:only-of-type {\n",
       "        vertical-align: middle;\n",
       "    }\n",
       "\n",
       "    .dataframe tbody tr th {\n",
       "        vertical-align: top;\n",
       "    }\n",
       "\n",
       "    .dataframe thead th {\n",
       "        text-align: right;\n",
       "    }\n",
       "</style>\n",
       "<table border=\"1\" class=\"dataframe\">\n",
       "  <thead>\n",
       "    <tr style=\"text-align: right;\">\n",
       "      <th></th>\n",
       "      <th>drugName</th>\n",
       "      <th>condition</th>\n",
       "      <th>rating</th>\n",
       "      <th>date</th>\n",
       "      <th>usefulCount</th>\n",
       "    </tr>\n",
       "  </thead>\n",
       "  <tbody>\n",
       "    <tr>\n",
       "      <th>321</th>\n",
       "      <td>Duloxetine</td>\n",
       "      <td>Anxiety</td>\n",
       "      <td>1.0</td>\n",
       "      <td>September 5, 2010</td>\n",
       "      <td>27</td>\n",
       "    </tr>\n",
       "    <tr>\n",
       "      <th>574</th>\n",
       "      <td>Cymbalta</td>\n",
       "      <td>Anxiety</td>\n",
       "      <td>1.0</td>\n",
       "      <td>September 5, 2010</td>\n",
       "      <td>27</td>\n",
       "    </tr>\n",
       "  </tbody>\n",
       "</table>\n",
       "</div>"
      ],
      "text/plain": [
       "       drugName condition  rating               date  usefulCount\n",
       "321  Duloxetine   Anxiety     1.0  September 5, 2010           27\n",
       "574    Cymbalta   Anxiety     1.0  September 5, 2010           27"
      ]
     },
     "metadata": {},
     "output_type": "display_data"
    }
   ],
   "source": [
    "show_review(574)"
   ]
  },
  {
   "cell_type": "code",
   "execution_count": 60,
   "id": "433b5539",
   "metadata": {},
   "outputs": [
    {
     "name": "stdout",
     "output_type": "stream",
     "text": [
      "\"I have only been on orsythia for about 1 month and I just started my second week of my second month.  I guess I did not notice earlier but I started to get slight headaches and I did not feel very well physically and mentally.  It do help with my cramps and my period, not so much my acne but it is better.  The worst part of orsythia has to be the mood swings and the sweating!  I sweat a lot even if it is cold I will start a light sweat, it is gross.  But the mood swings are the worst I just started feeling this and it happened while I was talking to one of my friends I just blew up on him, for no reason.  Then later on I started to feel really bad(mentally) and I cried for a while and I could not figure out why I was crying! I do not recommend!\"\n"
     ]
    },
    {
     "data": {
      "text/html": [
       "<div>\n",
       "<style scoped>\n",
       "    .dataframe tbody tr th:only-of-type {\n",
       "        vertical-align: middle;\n",
       "    }\n",
       "\n",
       "    .dataframe tbody tr th {\n",
       "        vertical-align: top;\n",
       "    }\n",
       "\n",
       "    .dataframe thead th {\n",
       "        text-align: right;\n",
       "    }\n",
       "</style>\n",
       "<table border=\"1\" class=\"dataframe\">\n",
       "  <thead>\n",
       "    <tr style=\"text-align: right;\">\n",
       "      <th></th>\n",
       "      <th>drugName</th>\n",
       "      <th>condition</th>\n",
       "      <th>rating</th>\n",
       "      <th>date</th>\n",
       "      <th>usefulCount</th>\n",
       "    </tr>\n",
       "  </thead>\n",
       "  <tbody>\n",
       "    <tr>\n",
       "      <th>378</th>\n",
       "      <td>Ethinyl estradiol / levonorgestrel</td>\n",
       "      <td>Birth Control</td>\n",
       "      <td>2.0</td>\n",
       "      <td>October 8, 2015</td>\n",
       "      <td>7</td>\n",
       "    </tr>\n",
       "    <tr>\n",
       "      <th>726</th>\n",
       "      <td>Orsythia</td>\n",
       "      <td>Birth Control</td>\n",
       "      <td>2.0</td>\n",
       "      <td>October 8, 2015</td>\n",
       "      <td>7</td>\n",
       "    </tr>\n",
       "  </tbody>\n",
       "</table>\n",
       "</div>"
      ],
      "text/plain": [
       "                               drugName      condition  rating  \\\n",
       "378  Ethinyl estradiol / levonorgestrel  Birth Control     2.0   \n",
       "726                            Orsythia  Birth Control     2.0   \n",
       "\n",
       "                date  usefulCount  \n",
       "378  October 8, 2015            7  \n",
       "726  October 8, 2015            7  "
      ]
     },
     "metadata": {},
     "output_type": "display_data"
    }
   ],
   "source": [
    "show_review(726)"
   ]
  },
  {
   "cell_type": "code",
   "execution_count": 61,
   "id": "cbdb421a",
   "metadata": {},
   "outputs": [
    {
     "name": "stdout",
     "output_type": "stream",
     "text": [
      "\"I have suffered from severe anxiety (GAD) and was taking more and more Klonopin as time went on.  I am very sensitive to medication and have tried many different SSRI/SNRI's through the year with horrible side effects.  Finally, I had DNA testing to see what I would respond to and the result was Pristiq.  I started it several months ago in a small dose (I split the pills even though they say do not do this) and within a few days my anxiety literally went away.  I was able to cut my Klonopin in 1/2 over a two month period.  The first week or two I was extremely tired but that passed.  The only side effect I get from time to time is migraines.  It still amazes me that my anxiety has disappeared.  I no longer keep Klonopin in my  pocket!\"\n"
     ]
    },
    {
     "data": {
      "text/html": [
       "<div>\n",
       "<style scoped>\n",
       "    .dataframe tbody tr th:only-of-type {\n",
       "        vertical-align: middle;\n",
       "    }\n",
       "\n",
       "    .dataframe tbody tr th {\n",
       "        vertical-align: top;\n",
       "    }\n",
       "\n",
       "    .dataframe thead th {\n",
       "        text-align: right;\n",
       "    }\n",
       "</style>\n",
       "<table border=\"1\" class=\"dataframe\">\n",
       "  <thead>\n",
       "    <tr style=\"text-align: right;\">\n",
       "      <th></th>\n",
       "      <th>drugName</th>\n",
       "      <th>condition</th>\n",
       "      <th>rating</th>\n",
       "      <th>date</th>\n",
       "      <th>usefulCount</th>\n",
       "    </tr>\n",
       "  </thead>\n",
       "  <tbody>\n",
       "    <tr>\n",
       "      <th>855</th>\n",
       "      <td>Pristiq</td>\n",
       "      <td>Depression</td>\n",
       "      <td>8.0</td>\n",
       "      <td>November 1, 2013</td>\n",
       "      <td>81</td>\n",
       "    </tr>\n",
       "    <tr>\n",
       "      <th>1070</th>\n",
       "      <td>Desvenlafaxine</td>\n",
       "      <td>Depression</td>\n",
       "      <td>8.0</td>\n",
       "      <td>November 1, 2013</td>\n",
       "      <td>81</td>\n",
       "    </tr>\n",
       "  </tbody>\n",
       "</table>\n",
       "</div>"
      ],
      "text/plain": [
       "            drugName   condition  rating              date  usefulCount\n",
       "855          Pristiq  Depression     8.0  November 1, 2013           81\n",
       "1070  Desvenlafaxine  Depression     8.0  November 1, 2013           81"
      ]
     },
     "metadata": {},
     "output_type": "display_data"
    }
   ],
   "source": [
    "show_review(1070)"
   ]
  },
  {
   "cell_type": "code",
   "execution_count": 62,
   "id": "69dab4c2",
   "metadata": {},
   "outputs": [
    {
     "name": "stdout",
     "output_type": "stream",
     "text": [
      "\"I have been taking my first pack of Lo Loestrin Fe and I must say it really works for me. I was a little nervous at first because this is my first time taking birth control and I have heard all the negative side effects of taking birth control. I have had spotting [brown-ish color] for three weeks after my period, but that is normal for the first month. I have breast tenderness and mood swings every now and then, then again it is expected for the first few months. I have not yet experienced any weight gain. So far I am satisfied, but I wish it was not so expensive.\"\n"
     ]
    },
    {
     "data": {
      "text/html": [
       "<div>\n",
       "<style scoped>\n",
       "    .dataframe tbody tr th:only-of-type {\n",
       "        vertical-align: middle;\n",
       "    }\n",
       "\n",
       "    .dataframe tbody tr th {\n",
       "        vertical-align: top;\n",
       "    }\n",
       "\n",
       "    .dataframe thead th {\n",
       "        text-align: right;\n",
       "    }\n",
       "</style>\n",
       "<table border=\"1\" class=\"dataframe\">\n",
       "  <thead>\n",
       "    <tr style=\"text-align: right;\">\n",
       "      <th></th>\n",
       "      <th>drugName</th>\n",
       "      <th>condition</th>\n",
       "      <th>rating</th>\n",
       "      <th>date</th>\n",
       "      <th>usefulCount</th>\n",
       "    </tr>\n",
       "  </thead>\n",
       "  <tbody>\n",
       "    <tr>\n",
       "      <th>609</th>\n",
       "      <td>Lo Loestrin Fe</td>\n",
       "      <td>Birth Control</td>\n",
       "      <td>8.0</td>\n",
       "      <td>February 1, 2012</td>\n",
       "      <td>7</td>\n",
       "    </tr>\n",
       "    <tr>\n",
       "      <th>1375</th>\n",
       "      <td>Ethinyl estradiol / norethindrone</td>\n",
       "      <td>Birth Control</td>\n",
       "      <td>8.0</td>\n",
       "      <td>February 1, 2012</td>\n",
       "      <td>7</td>\n",
       "    </tr>\n",
       "  </tbody>\n",
       "</table>\n",
       "</div>"
      ],
      "text/plain": [
       "                               drugName      condition  rating  \\\n",
       "609                      Lo Loestrin Fe  Birth Control     8.0   \n",
       "1375  Ethinyl estradiol / norethindrone  Birth Control     8.0   \n",
       "\n",
       "                  date  usefulCount  \n",
       "609   February 1, 2012            7  \n",
       "1375  February 1, 2012            7  "
      ]
     },
     "metadata": {},
     "output_type": "display_data"
    }
   ],
   "source": [
    "show_review(1375)"
   ]
  },
  {
   "cell_type": "markdown",
   "id": "1f1431fd",
   "metadata": {},
   "source": [
    "These five examples make clear that the vast majority of duplicates are due to double-entry; (nearly) every review is entered once with its generic name and once with its brand name.\n",
    "\n",
    "We can use this phenomenon to restore some of the missing condition labels. If a missing condition label is part of such a unique pair, then we can confidently assign it the condition of its pair-mate.\n",
    "\n",
    "Let's broaden our search to records that duplicate every feature other than drug name and condition."
   ]
  },
  {
   "cell_type": "code",
   "execution_count": 63,
   "id": "627281ff",
   "metadata": {},
   "outputs": [
    {
     "data": {
      "text/plain": [
       "86221"
      ]
     },
     "execution_count": 63,
     "metadata": {},
     "output_type": "execute_result"
    }
   ],
   "source": [
    "len(df[df.duplicated(subset=df.columns.difference(['drugName', 'condition']))])"
   ]
  },
  {
   "cell_type": "markdown",
   "id": "c5854a06",
   "metadata": {},
   "source": [
    "This is how many records are duplicates of other records in all values EXCEPT (POSSIBLY) drug name and condition. If a record is duplicated in this manner, the second (and third, fourth, etc.) instance will be captured in this bucket of dupes.\n",
    "\n",
    "If we check only this bucket for dupes, we can see whether there are any triplets, etc."
   ]
  },
  {
   "cell_type": "code",
   "execution_count": 64,
   "id": "74b07ad2",
   "metadata": {},
   "outputs": [],
   "source": [
    "df_dupes = df[df.duplicated(subset=df.columns.difference(['drugName', 'condition']))]"
   ]
  },
  {
   "cell_type": "code",
   "execution_count": 65,
   "id": "e2cbed1d",
   "metadata": {},
   "outputs": [
    {
     "data": {
      "text/plain": [
       "1"
      ]
     },
     "execution_count": 65,
     "metadata": {},
     "output_type": "execute_result"
    }
   ],
   "source": [
    "len(df_dupes[df_dupes.duplicated(subset=df_dupes.columns.difference(['drugName', 'condition']))])"
   ]
  },
  {
   "cell_type": "markdown",
   "id": "1395fc4f",
   "metadata": {},
   "source": [
    "There is only one."
   ]
  },
  {
   "cell_type": "code",
   "execution_count": 66,
   "id": "c2251801",
   "metadata": {},
   "outputs": [
    {
     "data": {
      "text/html": [
       "<div>\n",
       "<style scoped>\n",
       "    .dataframe tbody tr th:only-of-type {\n",
       "        vertical-align: middle;\n",
       "    }\n",
       "\n",
       "    .dataframe tbody tr th {\n",
       "        vertical-align: top;\n",
       "    }\n",
       "\n",
       "    .dataframe thead th {\n",
       "        text-align: right;\n",
       "    }\n",
       "</style>\n",
       "<table border=\"1\" class=\"dataframe\">\n",
       "  <thead>\n",
       "    <tr style=\"text-align: right;\">\n",
       "      <th></th>\n",
       "      <th>drugName</th>\n",
       "      <th>condition</th>\n",
       "      <th>review</th>\n",
       "      <th>rating</th>\n",
       "      <th>date</th>\n",
       "      <th>usefulCount</th>\n",
       "      <th>month</th>\n",
       "      <th>day</th>\n",
       "      <th>year</th>\n",
       "    </tr>\n",
       "  </thead>\n",
       "  <tbody>\n",
       "    <tr>\n",
       "      <th>140144</th>\n",
       "      <td>Octreotide</td>\n",
       "      <td>Diabetes, Type 1</td>\n",
       "      <td>\"Great medicine. No side effects.\"</td>\n",
       "      <td>9.0</td>\n",
       "      <td>October 31, 2011</td>\n",
       "      <td>2</td>\n",
       "      <td>October</td>\n",
       "      <td>31</td>\n",
       "      <td>2011</td>\n",
       "    </tr>\n",
       "  </tbody>\n",
       "</table>\n",
       "</div>"
      ],
      "text/plain": [
       "          drugName         condition                              review  \\\n",
       "140144  Octreotide  Diabetes, Type 1  \"Great medicine. No side effects.\"   \n",
       "\n",
       "        rating              date  usefulCount    month  day  year  \n",
       "140144     9.0  October 31, 2011            2  October   31  2011  "
      ]
     },
     "execution_count": 66,
     "metadata": {},
     "output_type": "execute_result"
    }
   ],
   "source": [
    "df_dupes[df_dupes.duplicated(subset=df_dupes.columns.difference(['drugName', 'condition']))]"
   ]
  },
  {
   "cell_type": "code",
   "execution_count": 67,
   "id": "9a7992c0",
   "metadata": {
    "scrolled": true
   },
   "outputs": [
    {
     "name": "stdout",
     "output_type": "stream",
     "text": [
      "\"Great medicine. No side effects.\"\n"
     ]
    },
    {
     "data": {
      "text/html": [
       "<div>\n",
       "<style scoped>\n",
       "    .dataframe tbody tr th:only-of-type {\n",
       "        vertical-align: middle;\n",
       "    }\n",
       "\n",
       "    .dataframe tbody tr th {\n",
       "        vertical-align: top;\n",
       "    }\n",
       "\n",
       "    .dataframe thead th {\n",
       "        text-align: right;\n",
       "    }\n",
       "</style>\n",
       "<table border=\"1\" class=\"dataframe\">\n",
       "  <thead>\n",
       "    <tr style=\"text-align: right;\">\n",
       "      <th></th>\n",
       "      <th>drugName</th>\n",
       "      <th>condition</th>\n",
       "      <th>rating</th>\n",
       "      <th>date</th>\n",
       "      <th>usefulCount</th>\n",
       "    </tr>\n",
       "  </thead>\n",
       "  <tbody>\n",
       "    <tr>\n",
       "      <th>39512</th>\n",
       "      <td>Reprexain</td>\n",
       "      <td>Pain</td>\n",
       "      <td>7.0</td>\n",
       "      <td>October 5, 2012</td>\n",
       "      <td>10</td>\n",
       "    </tr>\n",
       "    <tr>\n",
       "      <th>60998</th>\n",
       "      <td>Insulin regular</td>\n",
       "      <td>Diabetes, Type 1</td>\n",
       "      <td>9.0</td>\n",
       "      <td>October 31, 2011</td>\n",
       "      <td>2</td>\n",
       "    </tr>\n",
       "    <tr>\n",
       "      <th>119972</th>\n",
       "      <td>Insulin glulisine</td>\n",
       "      <td>Diabetes, Type 1</td>\n",
       "      <td>9.0</td>\n",
       "      <td>October 31, 2011</td>\n",
       "      <td>3</td>\n",
       "    </tr>\n",
       "    <tr>\n",
       "      <th>133212</th>\n",
       "      <td>Sandostatin</td>\n",
       "      <td>Diabetes, Type 1</td>\n",
       "      <td>9.0</td>\n",
       "      <td>October 31, 2011</td>\n",
       "      <td>2</td>\n",
       "    </tr>\n",
       "    <tr>\n",
       "      <th>140144</th>\n",
       "      <td>Octreotide</td>\n",
       "      <td>Diabetes, Type 1</td>\n",
       "      <td>9.0</td>\n",
       "      <td>October 31, 2011</td>\n",
       "      <td>2</td>\n",
       "    </tr>\n",
       "    <tr>\n",
       "      <th>141100</th>\n",
       "      <td>Insulin isophane / insulin regular</td>\n",
       "      <td>Diabetes, Type 1</td>\n",
       "      <td>9.0</td>\n",
       "      <td>October 31, 2011</td>\n",
       "      <td>10</td>\n",
       "    </tr>\n",
       "    <tr>\n",
       "      <th>148049</th>\n",
       "      <td>ReliOn / Novolin 70 / 30</td>\n",
       "      <td>Diabetes, Type 1</td>\n",
       "      <td>9.0</td>\n",
       "      <td>October 31, 2011</td>\n",
       "      <td>10</td>\n",
       "    </tr>\n",
       "    <tr>\n",
       "      <th>184262</th>\n",
       "      <td>Hydrocodone / ibuprofen</td>\n",
       "      <td>Pain</td>\n",
       "      <td>7.0</td>\n",
       "      <td>October 5, 2012</td>\n",
       "      <td>10</td>\n",
       "    </tr>\n",
       "  </tbody>\n",
       "</table>\n",
       "</div>"
      ],
      "text/plain": [
       "                                  drugName         condition  rating  \\\n",
       "39512                            Reprexain              Pain     7.0   \n",
       "60998                      Insulin regular  Diabetes, Type 1     9.0   \n",
       "119972                   Insulin glulisine  Diabetes, Type 1     9.0   \n",
       "133212                         Sandostatin  Diabetes, Type 1     9.0   \n",
       "140144                          Octreotide  Diabetes, Type 1     9.0   \n",
       "141100  Insulin isophane / insulin regular  Diabetes, Type 1     9.0   \n",
       "148049            ReliOn / Novolin 70 / 30  Diabetes, Type 1     9.0   \n",
       "184262             Hydrocodone / ibuprofen              Pain     7.0   \n",
       "\n",
       "                    date  usefulCount  \n",
       "39512    October 5, 2012           10  \n",
       "60998   October 31, 2011            2  \n",
       "119972  October 31, 2011            3  \n",
       "133212  October 31, 2011            2  \n",
       "140144  October 31, 2011            2  \n",
       "141100  October 31, 2011           10  \n",
       "148049  October 31, 2011           10  \n",
       "184262   October 5, 2012           10  "
      ]
     },
     "metadata": {},
     "output_type": "display_data"
    }
   ],
   "source": [
    "show_review(140144)"
   ]
  },
  {
   "cell_type": "markdown",
   "id": "aa3f5b53",
   "metadata": {},
   "source": [
    "There are 6 records with the same review, date, rating, and condition. (The reviews on October 5, 2012, appear to be just a coincidence of the same review wording.) Because they're on the *same day*, it seems likely that these reviews were possibly entered repeatedly by the same person. The two with a useful count of 10 are likely a brand/generic pair.\n",
    "\n",
    "As for the other 4, it's not clear what is going on. We will (would) later discover that there is also some discrepancy as to which of these is a brand or generic name. Since the review text isn't very descriptive, and the useful count is so low, (and it doesn't pertain to the main conditions treated by Planned Parenthood), let's just drop all 4."
   ]
  },
  {
   "cell_type": "code",
   "execution_count": 68,
   "id": "df0e21da",
   "metadata": {},
   "outputs": [],
   "source": [
    "df.drop([60998, 119972, 133212, 140144], inplace=True)"
   ]
  },
  {
   "cell_type": "markdown",
   "id": "7498257d",
   "metadata": {},
   "source": [
    "Now we should be able to create a list of pairs of indices of records that match in all features except possibly drug name and condition. To make this run faster, we'll first create a way to sort them by date."
   ]
  },
  {
   "cell_type": "code",
   "execution_count": 69,
   "id": "fb69d5e0",
   "metadata": {},
   "outputs": [
    {
     "name": "stdout",
     "output_type": "stream",
     "text": [
      "CPU times: user 10.3 s, sys: 94.4 ms, total: 10.4 s\n",
      "Wall time: 10.8 s\n"
     ]
    }
   ],
   "source": [
    "%%time\n",
    "# ⏰ record the time for this cell -- usually 11-12 s\n",
    "\n",
    "# create stripped down dataframe that does not have drug names or conditions\n",
    "# we don't need these features for this operation because we're checking for matches on all other features\n",
    "df_pairs = df.drop(columns=['drugName', 'condition']).copy()\n",
    "\n",
    "# create a list of indices of records that duplicate everything other than drug name and condition\n",
    "df_dupes = df_pairs[df_pairs.duplicated()].index.tolist().copy()\n",
    "\n",
    "# create and populate a dictionary whose keys are dates and whose values are indices\n",
    "dates_dict = {}\n",
    "# populate dictionary with keys that are dates belonging to the duplicates\n",
    "for date_ in list(set(df[df.index.isin(df_dupes)].date.tolist())):\n",
    "    dates_dict[date_] = []\n",
    "# populate dictionary with values that are indices that are NOT from the duplicate list but DO share that date\n",
    "for i in df[~df.index.isin(df_dupes)].index:\n",
    "    dates_dict[df.loc[i].date].append(i)"
   ]
  },
  {
   "cell_type": "markdown",
   "id": "f827eb50",
   "metadata": {},
   "source": [
    "Now we can use this dates dictionary to sort and identify the pairs."
   ]
  },
  {
   "cell_type": "code",
   "execution_count": 70,
   "id": "3d21e906",
   "metadata": {},
   "outputs": [
    {
     "name": "stdout",
     "output_type": "stream",
     "text": [
      "CPU times: user 2min 22s, sys: 713 ms, total: 2min 23s\n",
      "Wall time: 2min 25s\n"
     ]
    }
   ],
   "source": [
    "%%time\n",
    "# ⏰ record the time for this cell -- usually 2–4 mins\n",
    "\n",
    "# create a list of record pairs where each entry is a list of two indices\n",
    "pairs = []\n",
    "\n",
    "# iterate over the indices from the dupes list\n",
    "for i in df_dupes:\n",
    "    # set the date to the date from index i\n",
    "    date_i = df.loc[i].date\n",
    "    # iterate over OTHER indices who share that date\n",
    "    for j in dates_dict[date_i]:\n",
    "        # check for a match\n",
    "        if df_pairs.loc[i].equals(df_pairs.loc[j]) and df.drugName.loc[i] != df.drugName.loc[j]:\n",
    "            # remove this index from the dates dictionary so we have fewer to search through in later iterations\n",
    "            dates_dict[date_i].remove(j)\n",
    "            # add this pair to the pairs list\n",
    "            pairs.append([i,j])\n",
    "            break"
   ]
  },
  {
   "cell_type": "markdown",
   "id": "824604bf",
   "metadata": {},
   "source": [
    "Let's take a look at several of the pairs we've collected."
   ]
  },
  {
   "cell_type": "code",
   "execution_count": 71,
   "id": "5725ff0c",
   "metadata": {},
   "outputs": [
    {
     "data": {
      "text/plain": [
       "[[524, 374],\n",
       " [574, 321],\n",
       " [726, 378],\n",
       " [1070, 855],\n",
       " [1375, 609],\n",
       " [1397, 1281],\n",
       " [1735, 1043],\n",
       " [1965, 299],\n",
       " [2014, 1844],\n",
       " [2091, 1609]]"
      ]
     },
     "execution_count": 71,
     "metadata": {},
     "output_type": "execute_result"
    }
   ],
   "source": [
    "pairs[:10]"
   ]
  },
  {
   "cell_type": "markdown",
   "id": "1377b5bd",
   "metadata": {},
   "source": [
    "Here we'll create a dictionary that matches the index of one pair member to the other member of the pair."
   ]
  },
  {
   "cell_type": "code",
   "execution_count": 72,
   "id": "8cf76c49",
   "metadata": {},
   "outputs": [],
   "source": [
    "pairs_dict = {}\n",
    "\n",
    "for pair in pairs:\n",
    "    for i in range(2):\n",
    "        pairs_dict[pair[i]] = pair[1-i]"
   ]
  },
  {
   "cell_type": "markdown",
   "id": "53c0958d",
   "metadata": {},
   "source": [
    "# restore missing condition labels\n",
    "\n",
    "We will restore missing condition labels in two ways, in order of certainty:\n",
    "\n",
    "1. For missing values that possess a pair match, we will assign it the condition of its match.\n",
    "2. For the remaining missing values, we will assign it the condition that is most commonly associated with its drug name."
   ]
  },
  {
   "cell_type": "code",
   "execution_count": 73,
   "id": "72daf371",
   "metadata": {},
   "outputs": [
    {
     "data": {
      "text/plain": [
       "3293"
      ]
     },
     "execution_count": 73,
     "metadata": {},
     "output_type": "execute_result"
    }
   ],
   "source": [
    "len(df[df.condition == 'missing'])"
   ]
  },
  {
   "cell_type": "code",
   "execution_count": 74,
   "id": "577fe6ac",
   "metadata": {},
   "outputs": [
    {
     "name": "stdout",
     "output_type": "stream",
     "text": [
      "CPU times: user 11.9 s, sys: 42.3 ms, total: 11.9 s\n",
      "Wall time: 12.1 s\n"
     ]
    }
   ],
   "source": [
    "%%time\n",
    "# ⏰ record the time for this cell -- usually 10-15 seconds\n",
    "\n",
    "# iterate over each record pair\n",
    "for pair in pairs:\n",
    "    # iterate over each member of the pair\n",
    "    for i in range(2):\n",
    "        # identify a pair member whose condition is missing\n",
    "        if df.loc[pair[i]].condition == 'missing':\n",
    "            # assign to the pair member the condition of its pair-mate\n",
    "            df.at[pair[i], 'condition'] = df.loc[pairs_dict[pair[i]]].condition"
   ]
  },
  {
   "cell_type": "code",
   "execution_count": 75,
   "id": "8f46a0f5",
   "metadata": {},
   "outputs": [
    {
     "data": {
      "text/plain": [
       "2968"
      ]
     },
     "execution_count": 75,
     "metadata": {},
     "output_type": "execute_result"
    }
   ],
   "source": [
    "len(df[df.condition == 'missing'])"
   ]
  },
  {
   "cell_type": "markdown",
   "id": "28630faf",
   "metadata": {},
   "source": [
    "Because it will be useful later, we'll make a feature that names the indicated drug and, if applicable, the paired drug.\n",
    "\n",
    "This is not a *final* replacement for the drug name feature, but it will allow us to better recognize the relationship between the generic and brand drug names."
   ]
  },
  {
   "cell_type": "code",
   "execution_count": 76,
   "id": "51348a96",
   "metadata": {},
   "outputs": [
    {
     "name": "stdout",
     "output_type": "stream",
     "text": [
      "CPU times: user 16.5 s, sys: 139 ms, total: 16.6 s\n",
      "Wall time: 16.9 s\n"
     ]
    }
   ],
   "source": [
    "%%time\n",
    "# ⏰ record the time for this cell -- usually 15-30 seconds\n",
    "\n",
    "df['ind'] = df.index\n",
    "\n",
    "def drugList_fix(index, drugName_):\n",
    "    drugList = [drugName_]\n",
    "    if index in pairs_dict:\n",
    "        drugList.append(df.loc[pairs_dict[index]].drugName)\n",
    "        # alphabetize each drug pair so that we will not mistakenly duplicate e.g. [A,B] & [B,A]\n",
    "        drugList.sort()\n",
    "    return drugList\n",
    "\n",
    "df['drugList'] = df.apply(lambda x: drugList_fix(x.ind, x.drugName), axis=1)\n",
    "\n",
    "df.drop(columns='ind', inplace=True)"
   ]
  },
  {
   "cell_type": "markdown",
   "id": "46252f76",
   "metadata": {},
   "source": [
    "Now we can create a feature that tells us if a record is associated with a paired drug name or not."
   ]
  },
  {
   "cell_type": "code",
   "execution_count": 77,
   "id": "74a8f7ee",
   "metadata": {},
   "outputs": [],
   "source": [
    "df['isPaired'] = df.drugList.apply(lambda x: True if len(x) > 1 else False)"
   ]
  },
  {
   "cell_type": "code",
   "execution_count": 78,
   "id": "023d5a63",
   "metadata": {},
   "outputs": [
    {
     "data": {
      "text/plain": [
       "172438"
      ]
     },
     "execution_count": 78,
     "metadata": {},
     "output_type": "execute_result"
    }
   ],
   "source": [
    "len(df[df.isPaired])"
   ]
  },
  {
   "cell_type": "code",
   "execution_count": 79,
   "id": "3b334291",
   "metadata": {},
   "outputs": [
    {
     "data": {
      "text/plain": [
       "42619"
      ]
     },
     "execution_count": 79,
     "metadata": {},
     "output_type": "execute_result"
    }
   ],
   "source": [
    "len(df[~df.isPaired])"
   ]
  },
  {
   "cell_type": "markdown",
   "id": "a1d80a54",
   "metadata": {},
   "source": [
    "Because lists confuse certain operations"
   ]
  },
  {
   "cell_type": "code",
   "execution_count": 80,
   "id": "87b1de7b",
   "metadata": {},
   "outputs": [],
   "source": [
    "df['drugSetString'] = df.drugList.apply(lambda x: x[0] + ' ' + x[1] if len(x) == 2 else x[0])"
   ]
  },
  {
   "cell_type": "code",
   "execution_count": 81,
   "id": "9dee9651",
   "metadata": {
    "scrolled": true
   },
   "outputs": [
    {
     "data": {
      "text/plain": [
       "86199"
      ]
     },
     "execution_count": 81,
     "metadata": {},
     "output_type": "execute_result"
    }
   ],
   "source": [
    "len(df[df.duplicated(subset=df.columns.difference(['drugName', 'drugSet', 'drugList']))])"
   ]
  },
  {
   "cell_type": "markdown",
   "id": "9a9ea246",
   "metadata": {},
   "source": [
    "With this new feature in place, we can drop one record from each of the brand/generic pairs. The drug name feature will retain only one member of the pair -- unpredictably either the brand or the generic -- which will make this feature more or less useless for the moment.\n",
    "\n",
    "Before we drop these records, we'll create a bookmark copy of the dataframe."
   ]
  },
  {
   "cell_type": "code",
   "execution_count": 82,
   "id": "fd622f26",
   "metadata": {},
   "outputs": [],
   "source": [
    "# DO NOT re-run this cell out of sequence\n",
    "# to use the dataframe as it was at this stage,\n",
    "# in ANOTHER CELL write the code `df = df_bookmark_1.copy()` and immediately delete that code\n",
    "df_bookmark_1 = df.copy()"
   ]
  },
  {
   "cell_type": "code",
   "execution_count": 83,
   "id": "cb0739ba",
   "metadata": {
    "scrolled": true
   },
   "outputs": [],
   "source": [
    "df.drop_duplicates(subset=df.columns.difference(['drugName', 'drugSet', 'drugList']), inplace=True)"
   ]
  },
  {
   "cell_type": "markdown",
   "id": "7330a62a",
   "metadata": {},
   "source": [
    "For every remaining record with a missing condition, we will assign it the condition that is most common for the drug indicated by that record. (This will not be biased by duplicates from brand/generic pairs, because we have dropped those duplicates.)\n",
    "\n",
    "This will be the last use we have for conditions *not* treated by Planned Parenthood."
   ]
  },
  {
   "cell_type": "code",
   "execution_count": 84,
   "id": "19c0035d",
   "metadata": {},
   "outputs": [],
   "source": [
    "drugs_w_missing_condition = list(set(df[df.condition == 'missing'].drugSetString))"
   ]
  },
  {
   "cell_type": "code",
   "execution_count": 85,
   "id": "ce06e01c",
   "metadata": {},
   "outputs": [
    {
     "data": {
      "text/plain": [
       "678"
      ]
     },
     "execution_count": 85,
     "metadata": {},
     "output_type": "execute_result"
    }
   ],
   "source": [
    "len(drugs_w_missing_condition)"
   ]
  },
  {
   "cell_type": "code",
   "execution_count": 86,
   "id": "a407137d",
   "metadata": {},
   "outputs": [
    {
     "data": {
      "text/plain": [
       "3320"
      ]
     },
     "execution_count": 86,
     "metadata": {},
     "output_type": "execute_result"
    }
   ],
   "source": [
    "df.drugSetString.nunique()"
   ]
  },
  {
   "cell_type": "markdown",
   "id": "d2406d20",
   "metadata": {},
   "source": [
    "This applies to some 20% of the drugs. We'll create a dictionary that reports the most common condition for these drugs."
   ]
  },
  {
   "cell_type": "code",
   "execution_count": 87,
   "id": "4d364fa8",
   "metadata": {},
   "outputs": [
    {
     "name": "stdout",
     "output_type": "stream",
     "text": [
      "CPU times: user 11.8 s, sys: 45.7 ms, total: 11.8 s\n",
      "Wall time: 11.9 s\n"
     ]
    }
   ],
   "source": [
    "%%time\n",
    "# record the time for this cell -- 10-20 seconds\n",
    "\n",
    "most_common_condition = {}\n",
    "\n",
    "for drug in drugs_w_missing_condition:\n",
    "    condition = df[df.drugSetString == drug].condition.value_counts().idxmax()\n",
    "    if condition == 'missing' and len(set(df[df.drugSetString == drug].condition)) > 1:\n",
    "        condition = df[(df.drugSetString == drug) &\n",
    "                       (df.condition != 'missing')\n",
    "                      ].condition.value_counts().idxmax()\n",
    "    proportion = round(df[df.drugSetString == drug].condition.value_counts(normalize=True)[0],2)\n",
    "    most_common_condition[drug] = [condition, proportion]"
   ]
  },
  {
   "cell_type": "code",
   "execution_count": 88,
   "id": "7745330a",
   "metadata": {},
   "outputs": [
    {
     "data": {
      "text/plain": [
       "['Erectile Dysfunction', 0.87]"
      ]
     },
     "execution_count": 88,
     "metadata": {},
     "output_type": "execute_result"
    }
   ],
   "source": [
    "most_common_condition['Sildenafil Viagra']"
   ]
  },
  {
   "cell_type": "markdown",
   "id": "1b89f4ae",
   "metadata": {},
   "source": [
    "For example, if a review with an unlisted condition is about Viagra, we will assume the condition is Erectile \n",
    "Dysfunction."
   ]
  },
  {
   "cell_type": "code",
   "execution_count": 89,
   "id": "2401c48f",
   "metadata": {},
   "outputs": [
    {
     "data": {
      "text/plain": [
       "1799"
      ]
     },
     "execution_count": 89,
     "metadata": {},
     "output_type": "execute_result"
    }
   ],
   "source": [
    "len(df[df.condition == 'missing'])"
   ]
  },
  {
   "cell_type": "code",
   "execution_count": 90,
   "id": "27269d26",
   "metadata": {},
   "outputs": [],
   "source": [
    "df['condition'] = df.apply(lambda x: most_common_condition[x.drugSetString][0] \\\n",
    "                           if x.condition == 'missing' \\\n",
    "                           else x.condition, axis = 1)"
   ]
  },
  {
   "cell_type": "code",
   "execution_count": 91,
   "id": "b8c2e884",
   "metadata": {},
   "outputs": [
    {
     "data": {
      "text/plain": [
       "27"
      ]
     },
     "execution_count": 91,
     "metadata": {},
     "output_type": "execute_result"
    }
   ],
   "source": [
    "len(df[df.condition == 'missing'])"
   ]
  },
  {
   "cell_type": "markdown",
   "id": "2777be4c",
   "metadata": {},
   "source": [
    "This is how many records there are that still have no condition label. This means the drugs indicated in these records are *only* indicated in references without an indicated condition. As such, there's not really anything we can do with these records, and we may as well drop them."
   ]
  },
  {
   "cell_type": "code",
   "execution_count": 92,
   "id": "b32f520f",
   "metadata": {},
   "outputs": [],
   "source": [
    "df.drop(df[df.condition == 'missing'].index, inplace=True)"
   ]
  },
  {
   "cell_type": "code",
   "execution_count": 93,
   "id": "2a600e5a",
   "metadata": {},
   "outputs": [
    {
     "data": {
      "text/plain": [
       "0"
      ]
     },
     "execution_count": 93,
     "metadata": {},
     "output_type": "execute_result"
    }
   ],
   "source": [
    "len(df[df.condition == 'missing'])"
   ]
  },
  {
   "cell_type": "markdown",
   "id": "780202ee",
   "metadata": {},
   "source": [
    "# trim by conditions\n",
    "\n",
    "At this point, we still have more cleaning to do, but we have identified all the conditions that we can, and we won't have any further need for records with certain condition values, so we'll drop them."
   ]
  },
  {
   "cell_type": "code",
   "execution_count": 94,
   "id": "86fb37f1",
   "metadata": {},
   "outputs": [],
   "source": [
    "# DO NOT re-run this cell out of sequence\n",
    "# to use the dataframe as it was at this stage,\n",
    "# in ANOTHER CELL write the code `df = df_bookmark_2.copy()` and immediately delete that code\n",
    "df_bookmark_2 = df.copy()"
   ]
  },
  {
   "cell_type": "markdown",
   "id": "18be4983",
   "metadata": {},
   "source": [
    "Let's take another look at the complete list of conditions and choose which ones to keep."
   ]
  },
  {
   "cell_type": "code",
   "execution_count": 95,
   "id": "c467ec60",
   "metadata": {},
   "outputs": [
    {
     "data": {
      "text/plain": [
       "817"
      ]
     },
     "execution_count": 95,
     "metadata": {},
     "output_type": "execute_result"
    }
   ],
   "source": [
    "df.condition.nunique()"
   ]
  },
  {
   "cell_type": "markdown",
   "id": "3b3c522a",
   "metadata": {},
   "source": [
    "Since there are so many conditions to consider, let's limit this to just conditions with at least 25 reviews."
   ]
  },
  {
   "cell_type": "code",
   "execution_count": 96,
   "id": "756ceb48",
   "metadata": {
    "scrolled": true
   },
   "outputs": [
    {
     "data": {
      "text/plain": [
       "condition\n",
       "Birth Control                                                 20054\n",
       "Depression                                                     7208\n",
       "Pain                                                           5295\n",
       "Anxiety                                                        5189\n",
       "Acne                                                           4571\n",
       "Insomnia                                                       3471\n",
       "Bipolar Disorder                                               3333\n",
       "Weight Loss                                                    3153\n",
       "Obesity                                                        2780\n",
       "Vaginal Yeast Infection                                        2648\n",
       "ADHD                                                           2453\n",
       "High Blood Pressure                                            2316\n",
       "Diabetes, Type 2                                               1864\n",
       "Emergency Contraception                                        1735\n",
       "Anxiety and Stress                                             1486\n",
       "Abnormal Uterine Bleeding                                      1464\n",
       "Fibromyalgia                                                   1453\n",
       "Smoking Cessation                                              1411\n",
       "Migraine                                                       1368\n",
       "Migraine Prevention                                            1345\n",
       "Bowel Preparation                                              1288\n",
       "Constipation                                                   1285\n",
       "Chronic Pain                                                   1267\n",
       "Major Depressive Disorder                                      1193\n",
       "Panic Disorder                                                 1170\n",
       "Urinary Tract Infection                                        1147\n",
       "Muscle Spasm                                                   1112\n",
       "Generalized Anxiety Disorder                                   1066\n",
       "Bacterial Infection                                             996\n",
       "Osteoarthritis                                                  958\n",
       "Rheumatoid Arthritis                                            823\n",
       "Erectile Dysfunction                                            819\n",
       "Cough                                                           818\n",
       "Irritable Bowel Syndrome                                        817\n",
       "Allergic Rhinitis                                               800\n",
       "Opiate Dependence                                               800\n",
       "Sinusitis                                                       783\n",
       "Nausea/Vomiting                                                 628\n",
       "Bacterial Vaginitis                                             621\n",
       "GERD                                                            590\n",
       "Restless Legs Syndrome                                          566\n",
       "Back Pain                                                       539\n",
       "Overactive Bladde                                               522\n",
       "High Cholesterol                                                505\n",
       "Hyperhidrosis                                                   498\n",
       "Bronchitis                                                      484\n",
       "Obsessive Compulsive Disorder                                   484\n",
       "Psoriasis                                                       471\n",
       "Multiple Sclerosis                                              469\n",
       "Hepatitis C                                                     461\n",
       "Benign Prostatic Hyperplasia                                    449\n",
       "Schizophrenia                                                   443\n",
       "HIV Infection                                                   420\n",
       "Constipation, Chronic                                           409\n",
       "Rosacea                                                         407\n",
       "Endometriosis                                                   405\n",
       "Asthma, Maintenance                                             401\n",
       "Headache                                                        399\n",
       "Hypogonadism, Male                                              389\n",
       "Seizures                                                        387\n",
       "Inflammatory Conditions                                         373\n",
       "Narcolepsy                                                      370\n",
       "Opiate Withdrawal                                               369\n",
       "Underactive Thyroid                                             368\n",
       "Chlamydia Infection                                             362\n",
       "Bladder Infection                                               350\n",
       "Onychomycosis, Toenail                                          340\n",
       "Alcohol Dependence                                              328\n",
       "Post Traumatic Stress Disorder                                  313\n",
       "Anesthesia                                                      310\n",
       "Herpes Simplex                                                  299\n",
       "Polycystic Ovary Syndrome                                       293\n",
       "Social Anxiety Disorder                                         288\n",
       "Schizoaffective Disorder                                        287\n",
       "Cold Sores                                                      284\n",
       "Epilepsy                                                        273\n",
       "Performance Anxiety                                             271\n",
       "Breast Cancer                                                   267\n",
       "Atrial Fibrillation                                             265\n",
       "Postmenopausal Symptoms                                         264\n",
       "Menstrual Disorders                                             260\n",
       "Hot Flashes                                                     256\n",
       "Cough and Nasal Congestion                                      256\n",
       "Nasal Congestion                                                253\n",
       "Osteoporosis                                                    245\n",
       "Pneumonia                                                       244\n",
       "Influenza                                                       239\n",
       "Psoriatic Arthritis                                             238\n",
       "Premenstrual Dysphoric Disorder                                 238\n",
       "Neuropathic Pain                                                231\n",
       "Skin or Soft Tissue Infection                                   223\n",
       "Plaque Psoriasis                                                220\n",
       "Asthma                                                          208\n",
       "Urticaria                                                       206\n",
       "Gout, Acute                                                     205\n",
       "Helicobacter Pylori Infection                                   198\n",
       "Alcohol Withdrawal                                              193\n",
       "Sedation                                                        190\n",
       "Ulcerative Colitis                                              187\n",
       "COPD, Maintenance                                               182\n",
       "Peripheral Neuropathy                                           179\n",
       "Upper Respiratory Tract Infection                               172\n",
       "Borderline Personality Disorder                                 172\n",
       "Motion Sickness                                                 160\n",
       "Seizure Prevention                                              159\n",
       "Cluster Headaches                                               159\n",
       "Constipation, Drug Induced                                      153\n",
       "Trigeminal Neuralgia                                            147\n",
       "Herpes Simplex, Suppression                                     144\n",
       "Ankylosing Spondylitis                                          143\n",
       "Otitis Media                                                    143\n",
       "Period Pain                                                     143\n",
       "Diabetic Peripheral Neuropathy                                  139\n",
       "Interstitial Cystitis                                           138\n",
       "Crohn's Disease, Maintenance                                    138\n",
       "Eczema                                                          134\n",
       "Urinary Incontinence                                            133\n",
       "Hashimoto's disease                                             131\n",
       "Allergies                                                       130\n",
       "Atopic Dermatitis                                               130\n",
       "Diverticulitis                                                  128\n",
       "Atrophic Vaginitis                                              126\n",
       "Human Papilloma Virus                                           124\n",
       "Crohn's Disease                                                 120\n",
       "COPD                                                            120\n",
       "Bacterial Skin Infection                                        115\n",
       "Strep Throat                                                    114\n",
       "Sciatica                                                        110\n",
       "Diarrhea                                                        110\n",
       "Dietary Supplementation                                         109\n",
       "Prevention of Thromboembolism in Atrial Fibrillation            108\n",
       "Anorexia                                                        106\n",
       "Ovarian Cysts                                                   106\n",
       "Hypothyroidism, After Thyroid Removal                           105\n",
       "Dental Abscess                                                  104\n",
       "Tonsillitis/Pharyngitis                                         104\n",
       "Dry Eye Disease                                                 103\n",
       "Vertig                                                          102\n",
       "Alopecia                                                        100\n",
       "Benign Essential Trem                                           100\n",
       "Kidney Infections                                                99\n",
       "Asthma, acute                                                    99\n",
       "Dermatitis                                                       98\n",
       "Supraventricular Tachycardia                                     97\n",
       "Edema                                                            96\n",
       "Parkinson's Disease                                              94\n",
       "Diabetes, Type 1                                                 93\n",
       "Ulcerative Colitis, Active                                       93\n",
       "Gout                                                             89\n",
       "Prostate Cancer                                                  89\n",
       "Cold Symptoms                                                    88\n",
       "Keratosis                                                        87\n",
       "Arrhythmia                                                       86\n",
       "Urinary Tract Stones                                             82\n",
       "Allergic Reactions                                               82\n",
       "Nausea/Vomiting of Pregnancy                                     81\n",
       "Muscle Pain                                                      79\n",
       "Neuralgia                                                        79\n",
       "Alzheimer's Disease                                              78\n",
       "Trichomoniasis                                                   77\n",
       "Systemic Lupus Erythematosus                                     77\n",
       "Sexual Dysfunction, SSRI Induced                                 76\n",
       "Chronic Fatigue Syndrome                                         76\n",
       "Angina                                                           76\n",
       "Non-Small Cell Lung Cancer                                       74\n",
       "Postherpetic Neuralgia                                           73\n",
       "Heart Failure                                                    72\n",
       "Autism                                                           72\n",
       "Hirsutism                                                        72\n",
       "Prostatitis                                                      71\n",
       "Rhinitis                                                         71\n",
       "Fatigue                                                          71\n",
       "Breast Cancer, Metastatic                                        70\n",
       "Renal Cell Carcinoma                                             68\n",
       "Amenorrhea                                                       68\n",
       "Psychosis                                                        68\n",
       "Obstructive Sleep Apnea/Hypopnea Syndrome                        66\n",
       "Hemorrhoids                                                      66\n",
       "Chronic Myelogenous Leukemia                                     65\n",
       "Dysuria                                                          65\n",
       "Postpartum Depression                                            64\n",
       "Dry Skin                                                         62\n",
       "Pseudotumor Cerebri                                              61\n",
       "Perimenopausal Symptoms                                          61\n",
       "Sinus Symptoms                                                   60\n",
       "Premature Lab                                                    60\n",
       "Tourette's Syndrome                                              60\n",
       "Vitamin/Mineral Supplementation during Pregnancy/Lactation       59\n",
       "Menorrhagia                                                      59\n",
       "Hypertriglyceridemia                                             59\n",
       "Stomach Ulce                                                     59\n",
       "Hypersomnia                                                      59\n",
       "Deep Vein Thrombosis                                             58\n",
       "Nausea/Vomiting, Chemotherapy Induced                            56\n",
       "Prevention of Bladder infection                                  55\n",
       "Androgenetic Alopecia                                            54\n",
       "Conjunctivitis, Allergic                                         54\n",
       "Basal Cell Carcinoma                                             54\n",
       "Head Lice                                                        53\n",
       "Melasma                                                          52\n",
       "Erosive Esophagitis                                              52\n",
       "Conjunctivitis, Bacterial                                        52\n",
       "Burns, External                                                  52\n",
       "Binge Eating Disorder                                            52\n",
       "Barrett's Esophagus                                              52\n",
       "Seasonal Allergic Conjunctivitis                                 51\n",
       "Female Infertility                                               51\n",
       "Hyperprolactinemia                                               50\n",
       "Heart Attack                                                     50\n",
       "Reflex Sympathetic Dystrophy Syndrome                            50\n",
       "Light Sedation                                                   49\n",
       "Tendonitis                                                       48\n",
       "Raynaud's Syndrome                                               48\n",
       "Pulmonary Embolism                                               47\n",
       "Mania                                                            47\n",
       "Shift Work Sleep Disorder                                        46\n",
       "Skin and Structure Infection                                     46\n",
       "Indigestion                                                      46\n",
       "Keratoconjunctivitis Sicca                                       46\n",
       "Pulmonary Hypertension                                           46\n",
       "High Cholesterol, Familial Heterozygous                          46\n",
       "Glaucoma, Open Angle                                             45\n",
       "Diarrhea, Chronic                                                45\n",
       "Bulimia                                                          45\n",
       "Pruritus                                                         45\n",
       "Cervical Dystonia                                                43\n",
       "Sjogren's Syndrome                                               42\n",
       "Chronic Idiopathic Constipation                                  42\n",
       "Gouty Arthritis                                                  40\n",
       "Eye Redness                                                      38\n",
       "Lyme Disease                                                     38\n",
       "Dermatological Disorders                                         37\n",
       "Organ Transplant, Rejection Prophylaxis                          36\n",
       "Herbal Supplementation                                           36\n",
       "Uterine Fibroids                                                 36\n",
       "Clostridial Infection                                            35\n",
       "Periodic Limb Movement Disorder                                  35\n",
       "Constipation, Acute                                              35\n",
       "Acute Coronary Syndrome                                          34\n",
       "Paranoid Disorder                                                34\n",
       "Myasthenia Gravis                                                34\n",
       "Crohn's Disease, Acute                                           33\n",
       "Malaria Prevention                                               33\n",
       "Facial Wrinkles                                                  32\n",
       "Tinnitus                                                         32\n",
       "Opioid-Induced Constipation                                      32\n",
       "Iron Deficiency Anemia                                           32\n",
       "Postoperative Pain                                               32\n",
       "Ulcerative Colitis, Maintenance                                  31\n",
       "Vulvodynia                                                       30\n",
       "Gastroparesis                                                    30\n",
       "Temporomandibular Joint Disorder                                 29\n",
       "Cyclic Vomiting Syndrome                                         29\n",
       "Condylomata Acuminata                                            28\n",
       "Oral Thrush                                                      28\n",
       "Insulin Resistance Syndrome                                      28\n",
       "Vitamin/Mineral Supplementation and Deficiency                   28\n",
       "Breakthrough Pain                                                28\n",
       "Insomnia, Stimulant-Associated                                   28\n",
       "Mitral Valve Prolapse                                            27\n",
       "Neutropenia Associated with Chemotherapy                         27\n",
       "Tinea Versicol                                                   27\n",
       "Photoaging of the Skin                                           27\n",
       "Ventricular Tachycardia                                          27\n",
       "Gastroenteritis                                                  26\n",
       "Glaucoma                                                         25\n",
       "Extrapyramidal Reaction                                          25\n",
       "Seborrheic Dermatitis                                            25\n",
       "Tinea Corporis                                                   25\n",
       "Postural Orthostatic Tachycardia Syndrome                        25\n",
       "Herpes Zoste                                                     25\n",
       "Name: count, dtype: int64"
      ]
     },
     "metadata": {},
     "output_type": "display_data"
    }
   ],
   "source": [
    "pd.set_option(\"display.max_rows\", None)\n",
    "display(df['condition'].value_counts().loc[lambda x: x >= 25])\n",
    "pd.set_option(\"display.max_rows\", 10)"
   ]
  },
  {
   "cell_type": "code",
   "execution_count": 97,
   "id": "3d503269",
   "metadata": {},
   "outputs": [],
   "source": [
    "pp_conditions = [\n",
    "    'Birth Control', 'Emergency Contraception', 'Abnormal Uterine Bleeding', \\\n",
    "    'Menstrual Disorders', 'Female Infertility', 'Uterine Fibroids'\n",
    "]"
   ]
  },
  {
   "cell_type": "code",
   "execution_count": 98,
   "id": "2fc6c8c1",
   "metadata": {},
   "outputs": [],
   "source": [
    "df.drop(df[~df.condition.isin(pp_conditions)].index, inplace=True)"
   ]
  },
  {
   "cell_type": "code",
   "execution_count": 99,
   "id": "e87ee420",
   "metadata": {},
   "outputs": [
    {
     "data": {
      "text/plain": [
       "condition\n",
       "Birth Control                20054\n",
       "Emergency Contraception       1735\n",
       "Abnormal Uterine Bleeding     1464\n",
       "Menstrual Disorders            260\n",
       "Female Infertility              51\n",
       "Uterine Fibroids                36\n",
       "Name: count, dtype: int64"
      ]
     },
     "execution_count": 99,
     "metadata": {},
     "output_type": "execute_result"
    }
   ],
   "source": [
    "df.condition.value_counts()"
   ]
  },
  {
   "cell_type": "code",
   "execution_count": 100,
   "id": "465909b5",
   "metadata": {},
   "outputs": [
    {
     "data": {
      "text/plain": [
       "month\n",
       "October      18\n",
       "August       12\n",
       "November     12\n",
       "May          10\n",
       "June          9\n",
       "             ..\n",
       "December      7\n",
       "March         5\n",
       "April         5\n",
       "September     4\n",
       "February      3\n",
       "Name: count, Length: 11, dtype: int64"
      ]
     },
     "execution_count": 100,
     "metadata": {},
     "output_type": "execute_result"
    }
   ],
   "source": [
    "df[df.year == df.year.min()].month.value_counts()"
   ]
  },
  {
   "cell_type": "code",
   "execution_count": 101,
   "id": "4a2680ad",
   "metadata": {},
   "outputs": [
    {
     "data": {
      "text/plain": [
       "25"
      ]
     },
     "execution_count": 101,
     "metadata": {},
     "output_type": "execute_result"
    }
   ],
   "source": [
    "df[(df.year == df.year.min()) &\n",
    "   (df.month == 'February')\n",
    "  ].day.min()"
   ]
  },
  {
   "cell_type": "code",
   "execution_count": 102,
   "id": "322da578",
   "metadata": {},
   "outputs": [
    {
     "data": {
      "text/plain": [
       "month\n",
       "March        535\n",
       "January      530\n",
       "April        499\n",
       "February     481\n",
       "May          451\n",
       "            ... \n",
       "August       384\n",
       "November     348\n",
       "September    342\n",
       "October      318\n",
       "December     100\n",
       "Name: count, Length: 12, dtype: int64"
      ]
     },
     "execution_count": 102,
     "metadata": {},
     "output_type": "execute_result"
    }
   ],
   "source": [
    "df[df.year == df.year.max()].month.value_counts()"
   ]
  },
  {
   "cell_type": "code",
   "execution_count": 103,
   "id": "c797dec5",
   "metadata": {},
   "outputs": [
    {
     "data": {
      "text/plain": [
       "12"
      ]
     },
     "execution_count": 103,
     "metadata": {},
     "output_type": "execute_result"
    }
   ],
   "source": [
    "df[(df.year == df.year.max()) &\n",
    "   (df.month == 'December')\n",
    "  ].day.max()"
   ]
  },
  {
   "cell_type": "markdown",
   "id": "8f70b877",
   "metadata": {},
   "source": [
    "The reviews span from February 24, 2008 to November 30, 2017."
   ]
  },
  {
   "cell_type": "markdown",
   "id": "da173c9c",
   "metadata": {},
   "source": [
    "# exploring generic and brand names\n",
    "\n",
    "Now that we have a smaller number of records to deal with, we can sort out generic and brand names.\n",
    "\n",
    "First we'll create a list of all values from the drug name feature. (Some of these have been dropped from the drug name feature itself when we dropped one record from each brand/generic pair, but all of them were included in the drug list feature.)\n",
    "\n",
    "We'll create two lists: paired drugs (which we will attempt to sort into brand and generic) and single drugs (each of which we will then try to identify as either brand or generic)."
   ]
  },
  {
   "cell_type": "code",
   "execution_count": 104,
   "id": "8e0b77e8",
   "metadata": {},
   "outputs": [
    {
     "data": {
      "text/plain": [
       "25"
      ]
     },
     "execution_count": 104,
     "metadata": {},
     "output_type": "execute_result"
    }
   ],
   "source": [
    "df[(df.year == 2008) &\n",
    "   (df.month == 'February')\n",
    "  ].day.min()"
   ]
  },
  {
   "cell_type": "code",
   "execution_count": 105,
   "id": "be125384",
   "metadata": {},
   "outputs": [
    {
     "data": {
      "text/plain": [
       "2017"
      ]
     },
     "execution_count": 105,
     "metadata": {},
     "output_type": "execute_result"
    }
   ],
   "source": [
    "df.year.max()"
   ]
  },
  {
   "cell_type": "code",
   "execution_count": 106,
   "id": "5c9f7f3d",
   "metadata": {},
   "outputs": [
    {
     "data": {
      "text/plain": [
       "23600"
      ]
     },
     "execution_count": 106,
     "metadata": {},
     "output_type": "execute_result"
    }
   ],
   "source": [
    "len(df)"
   ]
  },
  {
   "cell_type": "code",
   "execution_count": 107,
   "id": "1c38132f",
   "metadata": {},
   "outputs": [],
   "source": [
    "all_drug_lists = df.drugList.tolist()\n",
    "all_drug_lists.sort()"
   ]
  },
  {
   "cell_type": "code",
   "execution_count": 108,
   "id": "e2803cd4",
   "metadata": {},
   "outputs": [
    {
     "data": {
      "text/plain": [
       "23600"
      ]
     },
     "execution_count": 108,
     "metadata": {},
     "output_type": "execute_result"
    }
   ],
   "source": [
    "len(all_drug_lists)"
   ]
  },
  {
   "cell_type": "code",
   "execution_count": 109,
   "id": "833d0afe",
   "metadata": {},
   "outputs": [],
   "source": [
    "all_drug_names = set()\n",
    "\n",
    "for list_ in all_drug_lists:\n",
    "    all_drug_names.add(list_[0])\n",
    "    if len(list_) > 1:\n",
    "        all_drug_names.add(list_[1])\n",
    "\n",
    "all_drug_names = list(all_drug_names)\n",
    "\n",
    "all_drug_names.sort()"
   ]
  },
  {
   "cell_type": "code",
   "execution_count": 110,
   "id": "2f77f03d",
   "metadata": {},
   "outputs": [
    {
     "data": {
      "text/plain": [
       "208"
      ]
     },
     "execution_count": 110,
     "metadata": {},
     "output_type": "execute_result"
    }
   ],
   "source": [
    "len(all_drug_names)"
   ]
  },
  {
   "cell_type": "code",
   "execution_count": 111,
   "id": "d4b65bbc",
   "metadata": {},
   "outputs": [],
   "source": [
    "# this will create a full list with duplicates\n",
    "# we need to do this intermediate before moving to the following step to remove duplicates\n",
    "paired_drug_lists = df[df.isPaired].drugList.tolist()\n",
    "paired_drug_lists.sort()"
   ]
  },
  {
   "cell_type": "code",
   "execution_count": 112,
   "id": "0225f502",
   "metadata": {},
   "outputs": [
    {
     "data": {
      "text/plain": [
       "22567"
      ]
     },
     "execution_count": 112,
     "metadata": {},
     "output_type": "execute_result"
    }
   ],
   "source": [
    "len(paired_drug_lists)"
   ]
  },
  {
   "cell_type": "code",
   "execution_count": 113,
   "id": "fbbbc93b",
   "metadata": {},
   "outputs": [],
   "source": [
    "paired_drug_names = set()\n",
    "\n",
    "for pair in paired_drug_lists:\n",
    "    paired_drug_names.add(pair[0])\n",
    "    paired_drug_names.add(pair[1])\n",
    "\n",
    "paired_drug_names = list(paired_drug_names)\n",
    "\n",
    "paired_drug_names.sort()"
   ]
  },
  {
   "cell_type": "code",
   "execution_count": 114,
   "id": "498a2c5a",
   "metadata": {},
   "outputs": [],
   "source": [
    "unpaired_drug_names = [drug for drug in all_drug_names if drug not in paired_drug_names]\n",
    "\n",
    "unpaired_drug_names.sort()"
   ]
  },
  {
   "cell_type": "code",
   "execution_count": 115,
   "id": "c5be5939",
   "metadata": {},
   "outputs": [
    {
     "data": {
      "text/plain": [
       "206"
      ]
     },
     "execution_count": 115,
     "metadata": {},
     "output_type": "execute_result"
    }
   ],
   "source": [
    "len(paired_drug_names)"
   ]
  },
  {
   "cell_type": "code",
   "execution_count": 116,
   "id": "8e7193fa",
   "metadata": {},
   "outputs": [
    {
     "data": {
      "text/plain": [
       "2"
      ]
     },
     "execution_count": 116,
     "metadata": {},
     "output_type": "execute_result"
    }
   ],
   "source": [
    "len(unpaired_drug_names)"
   ]
  },
  {
   "cell_type": "markdown",
   "id": "4f35fc7b",
   "metadata": {},
   "source": [
    "Together, these two lists of names constitute all the drug names left to sort into brand and generic categories.\n",
    "\n",
    "In order to sort the list of paired drugs into brand and generic, we'll establish a dictionary whose keys are all the drug names that appear in a generic/brand pair."
   ]
  },
  {
   "cell_type": "code",
   "execution_count": 117,
   "id": "aa4b0cba",
   "metadata": {},
   "outputs": [],
   "source": [
    "drug_dict = {}\n",
    "\n",
    "for drug in paired_drug_names:\n",
    "    drug_dict[drug] = set()"
   ]
  },
  {
   "cell_type": "markdown",
   "id": "a9e5029b",
   "metadata": {},
   "source": [
    "We'll assign values to those keys according to the pairings. For example, if drug name A is in a generic/brand pair with drug name B, then they will appear on each other's list of values in this dictionary."
   ]
  },
  {
   "cell_type": "code",
   "execution_count": 118,
   "id": "0c96ab22",
   "metadata": {},
   "outputs": [],
   "source": [
    "for pair in paired_drug_lists:\n",
    "    drug_dict[pair[0]].add(pair[1])\n",
    "    drug_dict[pair[1]].add(pair[0])"
   ]
  },
  {
   "cell_type": "markdown",
   "id": "bc9ace34",
   "metadata": {},
   "source": [
    "Let's find out how many of these drug names are associated with exactly one other drug name."
   ]
  },
  {
   "cell_type": "code",
   "execution_count": 119,
   "id": "133560b0",
   "metadata": {},
   "outputs": [
    {
     "data": {
      "text/plain": [
       "192"
      ]
     },
     "execution_count": 119,
     "metadata": {},
     "output_type": "execute_result"
    }
   ],
   "source": [
    "len({drug for drug in drug_dict if len(drug_dict[drug]) == 1})"
   ]
  },
  {
   "cell_type": "markdown",
   "id": "60afda9a",
   "metadata": {},
   "source": [
    "That should mean that exactly the remainder are associated with multiple drug names. It would make sense that drug names that belong to multiple generic/brand pairs are themselves the generic name. On that assumption, we'll create a list of generic drug names."
   ]
  },
  {
   "cell_type": "code",
   "execution_count": 120,
   "id": "299bb9ef",
   "metadata": {},
   "outputs": [],
   "source": [
    "generics = [drug for drug in drug_dict if len(drug_dict[drug]) > 1]\n",
    "\n",
    "generics.sort()"
   ]
  },
  {
   "cell_type": "code",
   "execution_count": 121,
   "id": "51c8458e",
   "metadata": {},
   "outputs": [
    {
     "data": {
      "text/plain": [
       "14"
      ]
     },
     "execution_count": 121,
     "metadata": {},
     "output_type": "execute_result"
    }
   ],
   "source": [
    "len(generics)"
   ]
  },
  {
   "cell_type": "markdown",
   "id": "32d19306",
   "metadata": {},
   "source": [
    "Now we'll check to make sure that the drug names we've just designated as \"generic\" do NOT belong to a generic/brand pair with *another* \"generic\"."
   ]
  },
  {
   "cell_type": "code",
   "execution_count": 122,
   "id": "a62ad737",
   "metadata": {},
   "outputs": [
    {
     "name": "stdout",
     "output_type": "stream",
     "text": [
      "0\n"
     ]
    }
   ],
   "source": [
    "count = 0\n",
    "\n",
    "for drug in generics:\n",
    "    for match in drug_dict[drug]:\n",
    "        if match in generics:\n",
    "            count += 1\n",
    "\n",
    "print(count)"
   ]
  },
  {
   "cell_type": "markdown",
   "id": "e98d4e46",
   "metadata": {},
   "source": [
    "Great.\n",
    "\n",
    "Then we can begin designating drug names as \"brands\" if they are in a generic/brand pair with a generic."
   ]
  },
  {
   "cell_type": "code",
   "execution_count": 123,
   "id": "80cc9dee",
   "metadata": {},
   "outputs": [],
   "source": [
    "brands = set()\n",
    "\n",
    "for generic in generics:\n",
    "    for match in drug_dict[generic]:\n",
    "        brands.add(match)\n",
    "\n",
    "brands = list(brands)\n",
    "\n",
    "brands.sort()"
   ]
  },
  {
   "cell_type": "code",
   "execution_count": 124,
   "id": "e090d65e",
   "metadata": {},
   "outputs": [
    {
     "data": {
      "text/plain": [
       "170"
      ]
     },
     "execution_count": 124,
     "metadata": {},
     "output_type": "execute_result"
    }
   ],
   "source": [
    "len(brands)"
   ]
  },
  {
   "cell_type": "markdown",
   "id": "4e796ce9",
   "metadata": {},
   "source": [
    "Now let's see what drugs remain and how many records they are associated with."
   ]
  },
  {
   "cell_type": "code",
   "execution_count": 125,
   "id": "51883d8e",
   "metadata": {},
   "outputs": [],
   "source": [
    "uncategorized = list(set(drug for drug in paired_drug_names if drug not in generics and drug not in brands))\n",
    "\n",
    "uncategorized.sort()"
   ]
  },
  {
   "cell_type": "markdown",
   "id": "818c6739",
   "metadata": {},
   "source": [
    "To be clear, these are drug names with the following properties:\n",
    "\n",
    "- the drug name belongs to an exclusive brand/generic pair\n",
    "- we have not yet identified which members of the pair are brand and generic"
   ]
  },
  {
   "cell_type": "code",
   "execution_count": 126,
   "id": "bd38190a",
   "metadata": {},
   "outputs": [
    {
     "data": {
      "text/plain": [
       "22"
      ]
     },
     "execution_count": 126,
     "metadata": {},
     "output_type": "execute_result"
    }
   ],
   "source": [
    "len(uncategorized)"
   ]
  },
  {
   "cell_type": "markdown",
   "id": "ff7a1518",
   "metadata": {},
   "source": [
    "We should be able to list all of these drug names in their pairs."
   ]
  },
  {
   "cell_type": "code",
   "execution_count": 127,
   "id": "34e35aca",
   "metadata": {},
   "outputs": [
    {
     "name": "stdout",
     "output_type": "stream",
     "text": [
      "Clomid || Clomiphene\n",
      "Conjugated estrogens || Premarin\n",
      "Copper || ParaGard\n",
      "Dienogest / estradiol || Natazia\n",
      "Ethinyl estradiol / etonogestrel || NuvaRing\n",
      "Femara || Letrozole\n",
      "Glucophage || Metformin\n",
      "Lysteda || Tranexamic acid\n",
      "Megace || Megestrol\n",
      "Mestranol / norethindrone || Necon 1 / 50\n",
      "Ulipristal || ella\n"
     ]
    }
   ],
   "source": [
    "repeated = set()\n",
    "for drug in uncategorized:\n",
    "    if drug not in repeated:\n",
    "        print(drug, '||', list(drug_dict[drug])[0])\n",
    "        repeated.add(drug)\n",
    "        repeated.add(list(drug_dict[drug])[0])"
   ]
  },
  {
   "cell_type": "markdown",
   "id": "28db85df",
   "metadata": {},
   "source": [
    "With so few pairs, we can Google the names to determine which names of a pair are generic and brand names."
   ]
  },
  {
   "cell_type": "code",
   "execution_count": 128,
   "id": "ef8962ce",
   "metadata": {},
   "outputs": [
    {
     "data": {
      "text/plain": [
       "181"
      ]
     },
     "execution_count": 128,
     "metadata": {},
     "output_type": "execute_result"
    }
   ],
   "source": [
    "new_brands = [\n",
    "    'Clomid', 'Premarin', 'ParaGard', 'Natazia', 'NuvaRing', 'Femara', \\\n",
    "    'Glucophage', 'Lysteda', 'Megace', 'Necon 1 / 50', 'ella'\n",
    "]\n",
    "\n",
    "brands.extend(new_brands)\n",
    "\n",
    "len(brands)"
   ]
  },
  {
   "cell_type": "code",
   "execution_count": 129,
   "id": "049e0104",
   "metadata": {},
   "outputs": [
    {
     "data": {
      "text/plain": [
       "25"
      ]
     },
     "execution_count": 129,
     "metadata": {},
     "output_type": "execute_result"
    }
   ],
   "source": [
    "for drug in new_brands:\n",
    "    generics.append(list(drug_dict[drug])[0])\n",
    "\n",
    "len(generics)"
   ]
  },
  {
   "cell_type": "markdown",
   "id": "7de8cea2",
   "metadata": {},
   "source": [
    "At this point, we have sorted all the paired brand and generic drug names. What remains is to identify whether each of the single drug names is a generic or brand name.\n",
    "\n",
    "Let's look at them."
   ]
  },
  {
   "cell_type": "code",
   "execution_count": 130,
   "id": "2f3f0690",
   "metadata": {},
   "outputs": [
    {
     "data": {
      "text/plain": [
       "['Ethinyl estradiol / folic acid / levonorgestrel', 'Nonoxynol 9']"
      ]
     },
     "execution_count": 130,
     "metadata": {},
     "output_type": "execute_result"
    }
   ],
   "source": [
    "unpaired_drug_names"
   ]
  },
  {
   "cell_type": "markdown",
   "id": "98b21377",
   "metadata": {},
   "source": [
    "Simple Google search confirms these are both generic names, so we'll add them as such."
   ]
  },
  {
   "cell_type": "code",
   "execution_count": 131,
   "id": "100ab47a",
   "metadata": {},
   "outputs": [],
   "source": [
    "generics.extend(unpaired_drug_names)\n",
    "\n",
    "generics.sort()"
   ]
  },
  {
   "cell_type": "markdown",
   "id": "820b39bd",
   "metadata": {},
   "source": [
    "Now we create a more universal drug naming system whereby every record is identified with its generic name."
   ]
  },
  {
   "cell_type": "code",
   "execution_count": 132,
   "id": "a945c0ee",
   "metadata": {},
   "outputs": [],
   "source": [
    "def generic_fix(drugList):\n",
    "    if len(drugList) == 1 or drugList[0] in generics:\n",
    "        return drugList[0]\n",
    "    else:\n",
    "        return drugList[1]\n",
    "\n",
    "df['genericName'] = df.drugList.apply(lambda x: generic_fix(x))"
   ]
  },
  {
   "cell_type": "code",
   "execution_count": 133,
   "id": "3b83116e",
   "metadata": {},
   "outputs": [],
   "source": [
    "def full_brand_fix(drugList):\n",
    "    if len(drugList) == 1:\n",
    "        return None\n",
    "    elif drugList[0] in brands:\n",
    "        return drugList[0]\n",
    "    else:\n",
    "        return drugList[1]\n",
    "\n",
    "df['fullBrandName'] = df.drugList.apply(lambda x: full_brand_fix(x))"
   ]
  },
  {
   "cell_type": "code",
   "execution_count": 134,
   "id": "eaf88350",
   "metadata": {},
   "outputs": [],
   "source": [
    "brand_dict = {}\n",
    "\n",
    "for fullName in brands:\n",
    "    name = fullName\n",
    "    tail = name.split()[-1]\n",
    "    while tail.isnumeric() or tail in ['Fe', 'Lo', 'One-Step', '/', '1.5', 'Contraceptive']:\n",
    "        name = name[:len(name)-len(tail)-1]\n",
    "        tail = name.split()[-1]\n",
    "    head = name.split()[0]\n",
    "    while head in ['Lo', '/']:\n",
    "        name = name[len(head)+1:]\n",
    "        head = name.split()[0]\n",
    "    brand_dict[fullName] = name\n",
    "\n",
    "df['shortBrandName'] = df.fullBrandName.apply(lambda x: None if x == None else brand_dict[x])"
   ]
  },
  {
   "cell_type": "markdown",
   "id": "1bee4874",
   "metadata": {},
   "source": [
    "# further exploration of duplicates\n",
    "\n",
    "Now we'll turn to more possible duplicate instances. We suspect the same user has copy-pasted an identical review multiple times when that verbatim review appears for the same condition and (generic) drug name with the same rating. Let's look at all such instances."
   ]
  },
  {
   "cell_type": "code",
   "execution_count": 135,
   "id": "5002feee",
   "metadata": {},
   "outputs": [
    {
     "data": {
      "text/plain": [
       "8"
      ]
     },
     "execution_count": 135,
     "metadata": {},
     "output_type": "execute_result"
    }
   ],
   "source": [
    "len(df[df.duplicated(subset=['genericName', 'condition', 'review', 'rating'])])"
   ]
  },
  {
   "cell_type": "code",
   "execution_count": 136,
   "id": "c783ee94",
   "metadata": {},
   "outputs": [
    {
     "data": {
      "text/html": [
       "<div>\n",
       "<style scoped>\n",
       "    .dataframe tbody tr th:only-of-type {\n",
       "        vertical-align: middle;\n",
       "    }\n",
       "\n",
       "    .dataframe tbody tr th {\n",
       "        vertical-align: top;\n",
       "    }\n",
       "\n",
       "    .dataframe thead th {\n",
       "        text-align: right;\n",
       "    }\n",
       "</style>\n",
       "<table border=\"1\" class=\"dataframe\">\n",
       "  <thead>\n",
       "    <tr style=\"text-align: right;\">\n",
       "      <th></th>\n",
       "      <th>genericName</th>\n",
       "      <th>condition</th>\n",
       "      <th>review</th>\n",
       "      <th>rating</th>\n",
       "      <th>date</th>\n",
       "    </tr>\n",
       "  </thead>\n",
       "  <tbody>\n",
       "    <tr>\n",
       "      <th>38469</th>\n",
       "      <td>Levonorgestrel</td>\n",
       "      <td>Emergency Contraception</td>\n",
       "      <td>\"me and my boyfriend were having sex and the c...</td>\n",
       "      <td>10.0</td>\n",
       "      <td>August 4, 2015</td>\n",
       "    </tr>\n",
       "    <tr>\n",
       "      <th>88315</th>\n",
       "      <td>Ethinyl estradiol / levonorgestrel</td>\n",
       "      <td>Birth Control</td>\n",
       "      <td>\"I have had a great experience on Chateal. I u...</td>\n",
       "      <td>10.0</td>\n",
       "      <td>August 29, 2016</td>\n",
       "    </tr>\n",
       "    <tr>\n",
       "      <th>97393</th>\n",
       "      <td>Ethinyl estradiol / levonorgestrel</td>\n",
       "      <td>Birth Control</td>\n",
       "      <td>\"I am almost on month 3 of this birth control ...</td>\n",
       "      <td>10.0</td>\n",
       "      <td>September 22, 2015</td>\n",
       "    </tr>\n",
       "    <tr>\n",
       "      <th>105971</th>\n",
       "      <td>Ethinyl estradiol / norethindrone</td>\n",
       "      <td>Birth Control</td>\n",
       "      <td>\"Was on Junel Fe and it worked according to my...</td>\n",
       "      <td>1.0</td>\n",
       "      <td>December 6, 2016</td>\n",
       "    </tr>\n",
       "    <tr>\n",
       "      <th>126179</th>\n",
       "      <td>Levonorgestrel</td>\n",
       "      <td>Emergency Contraception</td>\n",
       "      <td>\"Hey gals! In a 'the heat of the moment' situa...</td>\n",
       "      <td>10.0</td>\n",
       "      <td>June 6, 2015</td>\n",
       "    </tr>\n",
       "    <tr>\n",
       "      <th>129993</th>\n",
       "      <td>Ethinyl estradiol / norgestimate</td>\n",
       "      <td>Birth Control</td>\n",
       "      <td>\"I began taking Mononesse April 28th 2015. I w...</td>\n",
       "      <td>1.0</td>\n",
       "      <td>October 4, 2015</td>\n",
       "    </tr>\n",
       "    <tr>\n",
       "      <th>155176</th>\n",
       "      <td>Levonorgestrel</td>\n",
       "      <td>Emergency Contraception</td>\n",
       "      <td>\"I, like many others, was having protected sex...</td>\n",
       "      <td>1.0</td>\n",
       "      <td>July 12, 2015</td>\n",
       "    </tr>\n",
       "    <tr>\n",
       "      <th>193929</th>\n",
       "      <td>Etonogestrel</td>\n",
       "      <td>Birth Control</td>\n",
       "      <td>\"I have recently got my second implant inserte...</td>\n",
       "      <td>8.0</td>\n",
       "      <td>November 2, 2016</td>\n",
       "    </tr>\n",
       "  </tbody>\n",
       "</table>\n",
       "</div>"
      ],
      "text/plain": [
       "                               genericName                condition  \\\n",
       "38469                       Levonorgestrel  Emergency Contraception   \n",
       "88315   Ethinyl estradiol / levonorgestrel            Birth Control   \n",
       "97393   Ethinyl estradiol / levonorgestrel            Birth Control   \n",
       "105971   Ethinyl estradiol / norethindrone            Birth Control   \n",
       "126179                      Levonorgestrel  Emergency Contraception   \n",
       "129993    Ethinyl estradiol / norgestimate            Birth Control   \n",
       "155176                      Levonorgestrel  Emergency Contraception   \n",
       "193929                        Etonogestrel            Birth Control   \n",
       "\n",
       "                                                   review  rating  \\\n",
       "38469   \"me and my boyfriend were having sex and the c...    10.0   \n",
       "88315   \"I have had a great experience on Chateal. I u...    10.0   \n",
       "97393   \"I am almost on month 3 of this birth control ...    10.0   \n",
       "105971  \"Was on Junel Fe and it worked according to my...     1.0   \n",
       "126179  \"Hey gals! In a 'the heat of the moment' situa...    10.0   \n",
       "129993  \"I began taking Mononesse April 28th 2015. I w...     1.0   \n",
       "155176  \"I, like many others, was having protected sex...     1.0   \n",
       "193929  \"I have recently got my second implant inserte...     8.0   \n",
       "\n",
       "                      date  \n",
       "38469       August 4, 2015  \n",
       "88315      August 29, 2016  \n",
       "97393   September 22, 2015  \n",
       "105971    December 6, 2016  \n",
       "126179        June 6, 2015  \n",
       "129993     October 4, 2015  \n",
       "155176       July 12, 2015  \n",
       "193929    November 2, 2016  "
      ]
     },
     "execution_count": 136,
     "metadata": {},
     "output_type": "execute_result"
    }
   ],
   "source": [
    "df[df.duplicated(subset=['genericName', 'condition', 'review', 'rating'])] \\\n",
    "[['genericName', 'condition', 'review', 'rating', 'date']]"
   ]
  },
  {
   "cell_type": "markdown",
   "id": "0aad250d",
   "metadata": {},
   "source": [
    "The review texts all appear to be unique. As long as the review and its duplicate appear close in time to one another (within days), then these should be collapsed into a single review with the respective useful counts added together.\n",
    "\n",
    "First we'll check on the dates. The following cell will show the respective dates of when these duplicated reviews appeared."
   ]
  },
  {
   "cell_type": "code",
   "execution_count": 137,
   "id": "f5682167",
   "metadata": {},
   "outputs": [
    {
     "name": "stdout",
     "output_type": "stream",
     "text": [
      "August 4, 2015 ... and ... August 4, 2015\n",
      "August 29, 2016 ... and ... August 29, 2016\n",
      "September 22, 2015 ... and ... September 22, 2015\n",
      "December 6, 2016 ... and ... December 6, 2016\n",
      "June 6, 2015 ... and ... June 6, 2015\n",
      "October 4, 2015 ... and ... October 4, 2015\n",
      "July 12, 2015 ... and ... July 12, 2015\n",
      "November 3, 2016 ... and ... November 2, 2016\n"
     ]
    }
   ],
   "source": [
    "for ind in df[df.duplicated(subset=['genericName', 'condition', 'review', 'rating'])].index:\n",
    "    two_indices = list(df[df.review == df.loc[ind].review].index)\n",
    "    print(df.loc[two_indices[0]].date, '... and ...', df.loc[two_indices[1]].date)"
   ]
  },
  {
   "cell_type": "markdown",
   "id": "650b2eb1",
   "metadata": {},
   "source": [
    "They're all identical dates except one that is a day apart.\n",
    "\n",
    "We'll collapse these into single records and add the useful counts."
   ]
  },
  {
   "cell_type": "code",
   "execution_count": 138,
   "id": "e547b839",
   "metadata": {
    "scrolled": false
   },
   "outputs": [],
   "source": [
    "for ind in df[df.duplicated(subset=['genericName', 'condition', 'review', 'rating'])].index:\n",
    "    two_indices = list(df[df.review == df.loc[ind].review].index)\n",
    "    x, y = two_indices[0], two_indices[1]\n",
    "    count = int(df.loc[x].usefulCount + df.loc[y].usefulCount)\n",
    "    df.at[x, 'usefulCount'] = count\n",
    "    df.drop([y], inplace=True)"
   ]
  },
  {
   "cell_type": "markdown",
   "id": "c84665e5",
   "metadata": {},
   "source": [
    "# exploring final data set"
   ]
  },
  {
   "cell_type": "code",
   "execution_count": 139,
   "id": "ba14e7f0",
   "metadata": {},
   "outputs": [
    {
     "data": {
      "image/png": "[encoded data removed]",
      "text/plain": [
       "<Figure size 432x288 with 1 Axes>"
      ]
     },
     "metadata": {
      "needs_background": "light"
     },
     "output_type": "display_data"
    }
   ],
   "source": [
    "df.rating.hist(bins=10);"
   ]
  },
  {
   "cell_type": "markdown",
   "id": "72a00114",
   "metadata": {},
   "source": [
    "# save and reload preprocessed set\n",
    "\n",
    "At this stage we will save and reload the preprocessed set in order to avoid taking the time to repeat earlier work everytime we open the notebook.\n",
    "\n",
    "The saved version has restored or deleted all records with missing condition labels.\n",
    "\n",
    "We have established pairs in the list `twins` but we have NOT yet deleted either member of any pair or dealt with the confusion between brand and generic drug names.\n",
    "\n",
    "The size of the dateframe is nearly the same as its original version, roughly 215,000 records."
   ]
  },
  {
   "cell_type": "code",
   "execution_count": 141,
   "id": "e48dbc28",
   "metadata": {},
   "outputs": [],
   "source": [
    "filepath = Path('../data/preprocessed.csv')\n",
    "filepath.parent.mkdir(parents=True, exist_ok=True)\n",
    "df.to_csv(filepath)"
   ]
  },
  {
   "cell_type": "code",
   "execution_count": null,
   "id": "2bc819b8",
   "metadata": {},
   "outputs": [],
   "source": [
    "%store twins"
   ]
  },
  {
   "cell_type": "code",
   "execution_count": 343,
   "id": "42dd68e2",
   "metadata": {},
   "outputs": [],
   "source": [
    "df = pd.read_csv('../data/preprocessed.csv')\n",
    "df.drop(columns='Unnamed: 0', inplace=True)"
   ]
  },
  {
   "cell_type": "code",
   "execution_count": null,
   "id": "213659eb",
   "metadata": {},
   "outputs": [],
   "source": [
    "%store -r twins"
   ]
  },
  {
   "cell_type": "markdown",
   "id": "39f6379d",
   "metadata": {},
   "source": [
    "# exploration of rating and useful count"
   ]
  },
  {
   "cell_type": "code",
   "execution_count": 344,
   "id": "87746203",
   "metadata": {},
   "outputs": [
    {
     "data": {
      "image/png": "[encoded data removed]",
      "text/plain": [
       "<Figure size 432x288 with 1 Axes>"
      ]
     },
     "metadata": {
      "needs_background": "light"
     },
     "output_type": "display_data"
    }
   ],
   "source": [
    "X = range(1,11)\n",
    "Y = []\n",
    "for x in X:\n",
    "    Y.append(df[df.rating == x].usefulCount.mean())\n",
    "fig, ax = plt.subplots()\n",
    "ax.bar(X,Y);"
   ]
  },
  {
   "cell_type": "markdown",
   "id": "9c2128cb",
   "metadata": {},
   "source": [
    "This shows the average useful count by rating from 1 to 10. It seems that ratings of 8 and above are considered more useful than the others."
   ]
  },
  {
   "cell_type": "code",
   "execution_count": 427,
   "id": "4c77bb49",
   "metadata": {},
   "outputs": [
    {
     "name": "stdout",
     "output_type": "stream",
     "text": [
      "1% of the reviews received 20% of all the upvotes.\n",
      "This includes reviews with 46 or more upvotes\n"
     ]
    }
   ],
   "source": [
    "threshold = 20\n",
    "\n",
    "uv = list(df.usefulCount.values)\n",
    "uv.sort(reverse=True)\n",
    "n = 0\n",
    "while sum(uv[:n]) < threshold / 100 * df.usefulCount.sum():\n",
    "    n += 1\n",
    "print(str(int(n * 100 / len(df)))+'%','of the reviews received', str(threshold)+'%', 'of all the upvotes.')\n",
    "print('This includes reviews with', uv[n], 'or more upvotes')"
   ]
  },
  {
   "cell_type": "code",
   "execution_count": 428,
   "id": "c680fb7e",
   "metadata": {},
   "outputs": [
    {
     "data": {
      "text/plain": [
       "rating\n",
       "10.0    214\n",
       "9.0      83\n",
       "8.0      37\n",
       "1.0      30\n",
       "3.0      22\n",
       "6.0      17\n",
       "7.0      16\n",
       "2.0      13\n",
       "5.0      11\n",
       "4.0       7\n",
       "Name: count, dtype: int64"
      ]
     },
     "execution_count": 428,
     "metadata": {},
     "output_type": "execute_result"
    }
   ],
   "source": [
    "df[df.usefulCount >= 46].rating.value_counts()"
   ]
  },
  {
   "cell_type": "code",
   "execution_count": 429,
   "id": "384e2995",
   "metadata": {},
   "outputs": [
    {
     "name": "stdout",
     "output_type": "stream",
     "text": [
      "7% of the reviews received 40% of all the upvotes.\n",
      "This includes reviews with 21 or more upvotes\n"
     ]
    }
   ],
   "source": [
    "threshold = 40\n",
    "\n",
    "uv = list(df.usefulCount.values)\n",
    "uv.sort(reverse=True)\n",
    "n = 0\n",
    "while sum(uv[:n]) < threshold / 100 * df.usefulCount.sum():\n",
    "    n += 1\n",
    "print(str(int(n * 100 / len(df)))+'%','of the reviews received', str(threshold)+'%', 'of all the upvotes.')\n",
    "print('This includes reviews with', uv[n], 'or more upvotes')"
   ]
  },
  {
   "cell_type": "code",
   "execution_count": 430,
   "id": "60eb42e9",
   "metadata": {},
   "outputs": [
    {
     "data": {
      "text/plain": [
       "rating\n",
       "10.0    834\n",
       "9.0     381\n",
       "8.0     181\n",
       "1.0     159\n",
       "3.0      76\n",
       "7.0      73\n",
       "5.0      68\n",
       "2.0      66\n",
       "6.0      65\n",
       "4.0      55\n",
       "Name: count, dtype: int64"
      ]
     },
     "execution_count": 430,
     "metadata": {},
     "output_type": "execute_result"
    }
   ],
   "source": [
    "df[df.usefulCount >= 21].rating.value_counts()"
   ]
  },
  {
   "cell_type": "code",
   "execution_count": 431,
   "id": "c64f0afb",
   "metadata": {},
   "outputs": [
    {
     "name": "stdout",
     "output_type": "stream",
     "text": [
      "18% of the reviews received 60% of all the upvotes.\n",
      "This includes reviews with 12 or more upvotes\n"
     ]
    }
   ],
   "source": [
    "threshold = 60\n",
    "\n",
    "uv = list(df.usefulCount.values)\n",
    "uv.sort(reverse=True)\n",
    "n = 0\n",
    "while sum(uv[:n]) < threshold / 100 * df.usefulCount.sum():\n",
    "    n += 1\n",
    "print(str(int(n * 100 / len(df)))+'%','of the reviews received', str(threshold)+'%', 'of all the upvotes.')\n",
    "print('This includes reviews with', uv[n], 'or more upvotes')"
   ]
  },
  {
   "cell_type": "code",
   "execution_count": 432,
   "id": "6a32849c",
   "metadata": {},
   "outputs": [
    {
     "data": {
      "text/plain": [
       "rating\n",
       "10.0    1694\n",
       "9.0      898\n",
       "1.0      503\n",
       "8.0      456\n",
       "5.0      206\n",
       "2.0      202\n",
       "3.0      202\n",
       "7.0      200\n",
       "6.0      174\n",
       "4.0      170\n",
       "Name: count, dtype: int64"
      ]
     },
     "execution_count": 432,
     "metadata": {},
     "output_type": "execute_result"
    }
   ],
   "source": [
    "df[df.usefulCount >= 12].rating.value_counts()"
   ]
  },
  {
   "cell_type": "code",
   "execution_count": 433,
   "id": "095e5abe",
   "metadata": {},
   "outputs": [
    {
     "name": "stdout",
     "output_type": "stream",
     "text": [
      "37% of the reviews received 80% of all the upvotes.\n",
      "This includes reviews with 7 or more upvotes\n"
     ]
    }
   ],
   "source": [
    "threshold = 80\n",
    "\n",
    "uv = list(df.usefulCount.values)\n",
    "uv.sort(reverse=True)\n",
    "n = 0\n",
    "while sum(uv[:n]) < threshold / 100 * df.usefulCount.sum():\n",
    "    n += 1\n",
    "print(str(int(n * 100 / len(df)))+'%','of the reviews received', str(threshold)+'%', 'of all the upvotes.')\n",
    "print('This includes reviews with', uv[n], 'or more upvotes')"
   ]
  },
  {
   "cell_type": "code",
   "execution_count": 434,
   "id": "2a70db9e",
   "metadata": {},
   "outputs": [
    {
     "data": {
      "text/plain": [
       "rating\n",
       "10.0    2817\n",
       "9.0     1561\n",
       "1.0     1192\n",
       "8.0      917\n",
       "2.0      486\n",
       "5.0      480\n",
       "3.0      468\n",
       "7.0      434\n",
       "4.0      365\n",
       "6.0      336\n",
       "Name: count, dtype: int64"
      ]
     },
     "execution_count": 434,
     "metadata": {},
     "output_type": "execute_result"
    }
   ],
   "source": [
    "df[df.usefulCount >= 7].rating.value_counts()"
   ]
  },
  {
   "cell_type": "code",
   "execution_count": 425,
   "id": "e09b006f",
   "metadata": {},
   "outputs": [
    {
     "name": "stdout",
     "output_type": "stream",
     "text": [
      "65% of the reviews received 95% of all the upvotes.\n",
      "This includes reviews with 3 or more upvotes\n"
     ]
    }
   ],
   "source": [
    "threshold = 95\n",
    "\n",
    "uv = list(df.usefulCount.values)\n",
    "uv.sort(reverse=True)\n",
    "n = 0\n",
    "while sum(uv[:n]) < threshold / 100 * df.usefulCount.sum():\n",
    "    n += 1\n",
    "print(str(int(n * 100 / len(df)))+'%','of the reviews received', str(threshold)+'%', 'of all the upvotes.')\n",
    "print('This includes reviews with', uv[n], 'or more upvotes')"
   ]
  },
  {
   "cell_type": "code",
   "execution_count": 426,
   "id": "c1c79395",
   "metadata": {},
   "outputs": [
    {
     "data": {
      "text/plain": [
       "rating\n",
       "10.0    4250\n",
       "1.0     2548\n",
       "9.0     2524\n",
       "8.0     1689\n",
       "2.0     1065\n",
       "5.0     1012\n",
       "3.0     1012\n",
       "7.0      923\n",
       "4.0      759\n",
       "6.0      691\n",
       "Name: count, dtype: int64"
      ]
     },
     "execution_count": 426,
     "metadata": {},
     "output_type": "execute_result"
    }
   ],
   "source": [
    "df[df.usefulCount >= 3].rating.value_counts()"
   ]
  },
  {
   "cell_type": "code",
   "execution_count": 351,
   "id": "d4311bf2",
   "metadata": {},
   "outputs": [
    {
     "data": {
      "image/png": "[encoded data removed]",
      "text/plain": [
       "<Figure size 432x288 with 1 Axes>"
      ]
     },
     "metadata": {
      "needs_background": "light"
     },
     "output_type": "display_data"
    }
   ],
   "source": [
    "X = range(0,len(df),100)\n",
    "Y = []\n",
    "for x in X:\n",
    "    Y.append(sum(uv[:x]))\n",
    "fig, ax = plt.subplots()\n",
    "ax.plot(X,Y);"
   ]
  },
  {
   "cell_type": "markdown",
   "id": "d984a25b",
   "metadata": {},
   "source": [
    "This shows the cumulative sum of upvotes. For example, if we go 5% of the reviews in from the left on the x-axis, we would reach up to 33% of the total upvotes on the y-axis."
   ]
  },
  {
   "cell_type": "markdown",
   "id": "4decb1fe",
   "metadata": {},
   "source": [
    "# feature engineering ideas\n",
    "\n",
    "- word count\n",
    "- character count\n",
    "- words in all caps\n",
    "- average word length\n",
    "- whether words are in English (spelled correctly)\n",
    "- whether it includes characters such as exclamation points, question marks, (especially repeatedly), and emoticons\n",
    "- whether it mentions the brand or generic name in the review\n",
    "- whether it uses slang versus technical language\n",
    "- whether it mentions touchy subjects such as abortion\n",
    "- ngrams"
   ]
  },
  {
   "cell_type": "code",
   "execution_count": 353,
   "id": "4d023ddc",
   "metadata": {},
   "outputs": [],
   "source": [
    "df['raw_tokens'] = df.review.apply(lambda x: nltk.word_tokenize(x))"
   ]
  },
  {
   "cell_type": "code",
   "execution_count": 354,
   "id": "8c53a7c1",
   "metadata": {},
   "outputs": [],
   "source": [
    "df['review_lower'] = df['review'].str.lower()"
   ]
  },
  {
   "cell_type": "code",
   "execution_count": 341,
   "id": "aea75689",
   "metadata": {},
   "outputs": [],
   "source": [
    "# make lemmatizer\n",
    "lemmatizer = WordNetLemmatizer()"
   ]
  },
  {
   "cell_type": "markdown",
   "id": "a9011773",
   "metadata": {},
   "source": [
    "# verbal analysis BEFORE lemmatizing"
   ]
  },
  {
   "cell_type": "markdown",
   "id": "75095dd6",
   "metadata": {},
   "source": [
    "# all caps words"
   ]
  },
  {
   "cell_type": "code",
   "execution_count": 148,
   "id": "443c2f14",
   "metadata": {},
   "outputs": [],
   "source": [
    "def all_caps_fix(tokens_list):\n",
    "    count = 0\n",
    "    for token in tokens_list:\n",
    "        if len(token) > 2 and token.isupper():\n",
    "            count += 1\n",
    "    return count\n",
    "\n",
    "df['all_caps'] = df.raw_tokens.apply(lambda x: all_caps_fix(x))"
   ]
  },
  {
   "cell_type": "code",
   "execution_count": 149,
   "id": "e4299100",
   "metadata": {},
   "outputs": [
    {
     "data": {
      "text/plain": [
       "all_caps\n",
       "0    16406\n",
       "1     4061\n",
       "2     1632\n",
       "3      713\n",
       "4      337\n",
       "5      174\n",
       "6       98\n",
       "7       61\n",
       "9       24\n",
       "8       23\n",
       "Name: count, dtype: int64"
      ]
     },
     "execution_count": 149,
     "metadata": {},
     "output_type": "execute_result"
    }
   ],
   "source": [
    "df.all_caps.value_counts()[:10]"
   ]
  },
  {
   "cell_type": "code",
   "execution_count": 154,
   "id": "39397676",
   "metadata": {},
   "outputs": [
    {
     "data": {
      "image/png": "[encoded data removed]",
      "text/plain": [
       "<Figure size 432x288 with 1 Axes>"
      ]
     },
     "metadata": {
      "needs_background": "light"
     },
     "output_type": "display_data"
    }
   ],
   "source": [
    "plot_useful('all_caps', high=0.99)"
   ]
  },
  {
   "cell_type": "markdown",
   "id": "52981013",
   "metadata": {},
   "source": [
    "# no caps usage"
   ]
  },
  {
   "cell_type": "code",
   "execution_count": 317,
   "id": "8bca26e5",
   "metadata": {},
   "outputs": [],
   "source": [
    "df['no_caps'] = df.apply(lambda x: x.review == x.review_lower, axis=1)"
   ]
  },
  {
   "cell_type": "code",
   "execution_count": 318,
   "id": "a0fef4b1",
   "metadata": {},
   "outputs": [
    {
     "data": {
      "text/plain": [
       "no_caps\n",
       "False    23551\n",
       "True        41\n",
       "Name: count, dtype: int64"
      ]
     },
     "execution_count": 318,
     "metadata": {},
     "output_type": "execute_result"
    }
   ],
   "source": [
    "df.no_caps.value_counts()"
   ]
  },
  {
   "cell_type": "code",
   "execution_count": 319,
   "id": "f376930d",
   "metadata": {},
   "outputs": [
    {
     "data": {
      "text/plain": [
       "5.463414634146342"
      ]
     },
     "execution_count": 319,
     "metadata": {},
     "output_type": "execute_result"
    }
   ],
   "source": [
    "df[df.no_caps].usefulCount.mean()"
   ]
  },
  {
   "cell_type": "code",
   "execution_count": 320,
   "id": "a55f9429",
   "metadata": {},
   "outputs": [
    {
     "data": {
      "text/plain": [
       "8.589104496624348"
      ]
     },
     "execution_count": 320,
     "metadata": {},
     "output_type": "execute_result"
    }
   ],
   "source": [
    "df[~df.no_caps].usefulCount.mean()"
   ]
  },
  {
   "cell_type": "markdown",
   "id": "10b90467",
   "metadata": {},
   "source": [
    "# exclaim count"
   ]
  },
  {
   "cell_type": "code",
   "execution_count": 155,
   "id": "c512b0b7",
   "metadata": {},
   "outputs": [],
   "source": [
    "df['exclaim_count'] = df.raw_tokens.apply(lambda x: x.count('!'))"
   ]
  },
  {
   "cell_type": "code",
   "execution_count": 156,
   "id": "ab2f13a2",
   "metadata": {},
   "outputs": [
    {
     "data": {
      "text/plain": [
       "exclaim_count\n",
       "0    15102\n",
       "1     4311\n",
       "2     1952\n",
       "3     1028\n",
       "4      524\n",
       "5      257\n",
       "6      146\n",
       "7       82\n",
       "8       58\n",
       "9       32\n",
       "Name: count, dtype: int64"
      ]
     },
     "execution_count": 156,
     "metadata": {},
     "output_type": "execute_result"
    }
   ],
   "source": [
    "df.exclaim_count.value_counts()[:10]"
   ]
  },
  {
   "cell_type": "code",
   "execution_count": 157,
   "id": "0e43ab00",
   "metadata": {},
   "outputs": [
    {
     "data": {
      "image/png": "[encoded data removed]",
      "text/plain": [
       "<Figure size 432x288 with 1 Axes>"
      ]
     },
     "metadata": {
      "needs_background": "light"
     },
     "output_type": "display_data"
    }
   ],
   "source": [
    "plot_useful('exclaim_count', high=0.995)"
   ]
  },
  {
   "cell_type": "markdown",
   "id": "79841342",
   "metadata": {},
   "source": [
    "# question count"
   ]
  },
  {
   "cell_type": "code",
   "execution_count": 281,
   "id": "8a48f37e",
   "metadata": {},
   "outputs": [],
   "source": [
    "df['question_count'] = df.raw_tokens.apply(lambda x: x.count('?'))"
   ]
  },
  {
   "cell_type": "code",
   "execution_count": 282,
   "id": "c518f372",
   "metadata": {
    "scrolled": true
   },
   "outputs": [
    {
     "data": {
      "text/plain": [
       "question_count\n",
       "0    22880\n",
       "1      563\n",
       "2      102\n",
       "3       27\n",
       "4       13\n",
       "5        5\n",
       "8        1\n",
       "6        1\n",
       "Name: count, dtype: int64"
      ]
     },
     "execution_count": 282,
     "metadata": {},
     "output_type": "execute_result"
    }
   ],
   "source": [
    "df.question_count.value_counts()"
   ]
  },
  {
   "cell_type": "code",
   "execution_count": 160,
   "id": "1b822a30",
   "metadata": {},
   "outputs": [
    {
     "data": {
      "image/png": "[encoded data removed]",
      "text/plain": [
       "<Figure size 432x288 with 1 Axes>"
      ]
     },
     "metadata": {
      "needs_background": "light"
     },
     "output_type": "display_data"
    }
   ],
   "source": [
    "plot_useful('question_count', low=0.01, high=0.999)"
   ]
  },
  {
   "cell_type": "markdown",
   "id": "8f4c7e44",
   "metadata": {},
   "source": [
    "# word count"
   ]
  },
  {
   "cell_type": "code",
   "execution_count": 161,
   "id": "f1326021",
   "metadata": {},
   "outputs": [],
   "source": [
    "df['word_count'] = df.raw_tokens.apply(lambda x: len(x))"
   ]
  },
  {
   "cell_type": "code",
   "execution_count": 162,
   "id": "8bd382c7",
   "metadata": {},
   "outputs": [
    {
     "data": {
      "image/png": "[encoded data removed]",
      "text/plain": [
       "<Figure size 432x288 with 1 Axes>"
      ]
     },
     "metadata": {
      "needs_background": "light"
     },
     "output_type": "display_data"
    }
   ],
   "source": [
    "plot_useful('word_count')"
   ]
  },
  {
   "cell_type": "markdown",
   "id": "f36b71d5",
   "metadata": {},
   "source": [
    "# character count"
   ]
  },
  {
   "cell_type": "code",
   "execution_count": 163,
   "id": "7fe59a38",
   "metadata": {},
   "outputs": [],
   "source": [
    "df['character_count'] = df.review.apply(lambda x: len(x))"
   ]
  },
  {
   "cell_type": "code",
   "execution_count": 164,
   "id": "c963e1bf",
   "metadata": {},
   "outputs": [
    {
     "data": {
      "image/png": "[encoded data removed]",
      "text/plain": [
       "<Figure size 432x288 with 1 Axes>"
      ]
     },
     "metadata": {
      "needs_background": "light"
     },
     "output_type": "display_data"
    }
   ],
   "source": [
    "plot_useful('character_count')"
   ]
  },
  {
   "cell_type": "markdown",
   "id": "57ed94f2",
   "metadata": {},
   "source": [
    "# characters per word"
   ]
  },
  {
   "cell_type": "code",
   "execution_count": 169,
   "id": "2146f973",
   "metadata": {},
   "outputs": [],
   "source": [
    "df['cpw'] = 100 * df.character_count / df.word_count"
   ]
  },
  {
   "cell_type": "code",
   "execution_count": 170,
   "id": "76efd880",
   "metadata": {
    "scrolled": true
   },
   "outputs": [
    {
     "data": {
      "text/plain": [
       "cpw\n",
       "450.000000    183\n",
       "433.333333     99\n",
       "466.666667     89\n",
       "500.000000     78\n",
       "440.000000     74\n",
       "             ... \n",
       "510.526316      1\n",
       "423.783784      1\n",
       "482.653061      1\n",
       "528.906250      1\n",
       "502.222222      1\n",
       "Name: count, Length: 7202, dtype: int64"
      ]
     },
     "execution_count": 170,
     "metadata": {},
     "output_type": "execute_result"
    }
   ],
   "source": [
    "df.cpw.value_counts()"
   ]
  },
  {
   "cell_type": "code",
   "execution_count": 171,
   "id": "6e4ff6e5",
   "metadata": {},
   "outputs": [
    {
     "data": {
      "image/png": "[encoded data removed]",
      "text/plain": [
       "<Figure size 432x288 with 1 Axes>"
      ]
     },
     "metadata": {
      "needs_background": "light"
     },
     "output_type": "display_data"
    }
   ],
   "source": [
    "plot_useful('cpw', low=0.01, high=0.99)"
   ]
  },
  {
   "cell_type": "markdown",
   "id": "6c9c6261",
   "metadata": {},
   "source": [
    "# age reporting"
   ]
  },
  {
   "cell_type": "code",
   "execution_count": 313,
   "id": "40773dac",
   "metadata": {},
   "outputs": [],
   "source": [
    "def age_disclosure_feature(review):\n",
    "    if re.search('[1-4][0-9] +y(ea)?rs? +(old|of age)', review) or \\\n",
    "    re.search('(pregnant( +at)?|age( +of)?|being) +[1-4][0-9]', review) or \\\n",
    "    re.search('(teen|ty|one|two|three|four|five|six|seven|eight|nine) +y(ea)?rs? +(old|of +age)', review) or \\\n",
    "    re.search('i +(am +|was +|will +be +|would have been +)(not even +)?(now +)?(only +)?(just +)?(maybe +)?[1-4][0-9](\\s|\\.|\\!|\\?)', review):\n",
    "        return True\n",
    "    else:\n",
    "        return False\n",
    "\n",
    "df['age_disclosure'] = df.review_lower.apply(lambda x: age_disclosure_feature(x))"
   ]
  },
  {
   "cell_type": "code",
   "execution_count": 314,
   "id": "c11b34b7",
   "metadata": {},
   "outputs": [
    {
     "data": {
      "text/plain": [
       "age_disclosure\n",
       "False    21062\n",
       "True      2530\n",
       "Name: count, dtype: int64"
      ]
     },
     "execution_count": 314,
     "metadata": {},
     "output_type": "execute_result"
    }
   ],
   "source": [
    "df.age_disclosure.value_counts()"
   ]
  },
  {
   "cell_type": "code",
   "execution_count": 315,
   "id": "5d823199",
   "metadata": {},
   "outputs": [
    {
     "data": {
      "text/plain": [
       "9.442687747035572"
      ]
     },
     "execution_count": 315,
     "metadata": {},
     "output_type": "execute_result"
    }
   ],
   "source": [
    "df[df.age_disclosure].usefulCount.mean()"
   ]
  },
  {
   "cell_type": "code",
   "execution_count": 316,
   "id": "db7f13cf",
   "metadata": {},
   "outputs": [
    {
     "data": {
      "text/plain": [
       "8.480486183648276"
      ]
     },
     "execution_count": 316,
     "metadata": {},
     "output_type": "execute_result"
    }
   ],
   "source": [
    "df[~df.age_disclosure].usefulCount.mean()"
   ]
  },
  {
   "cell_type": "markdown",
   "id": "2da3b1a4",
   "metadata": {},
   "source": [
    "# verbal analysis AFTER lemmatizing"
   ]
  },
  {
   "cell_type": "markdown",
   "id": "b794e1bd",
   "metadata": {},
   "source": [
    "# sex slang\n",
    "\n",
    "Note that this is very flawed and I should spot check any results to see if that's actually what they're saying."
   ]
  },
  {
   "cell_type": "code",
   "execution_count": 400,
   "id": "1c921eb7",
   "metadata": {},
   "outputs": [
    {
     "data": {
      "text/plain": [
       "sex_slang\n",
       "False    23323\n",
       "True       269\n",
       "Name: count, dtype: int64"
      ]
     },
     "execution_count": 400,
     "metadata": {},
     "output_type": "execute_result"
    }
   ],
   "source": [
    "def sex_slang_feature(review):\n",
    "    if re.search('(cum|cuming|cumming|come|came|cummed|comed|cumed) +(in)', review) or \\\n",
    "    re.search('(he|him|his) +(cum|cuming|cumming|come|came|cummed|comed|cumed)', review):\n",
    "        return True\n",
    "    else:\n",
    "        return False\n",
    "\n",
    "df['sex_slang'] = df.review_lower.apply(sex_slang_feature)\n",
    "\n",
    "df.sex_slang.value_counts()"
   ]
  },
  {
   "cell_type": "code",
   "execution_count": 417,
   "id": "8bcf9de3",
   "metadata": {},
   "outputs": [
    {
     "name": "stderr",
     "output_type": "stream",
     "text": [
      "<ipython-input-417-4cc8f0f4c1a3>:1: UserWarning: This pattern is interpreted as a regular expression, and has match groups. To actually get the groups, use str.extract.\n",
      "  df[df.review_lower.str.contains('(shot|shoot)(e)?(ing)?(ed)? +(in)')].index[:25]\n"
     ]
    },
    {
     "data": {
      "text/plain": [
       "Index([ 191,  246,  342,  447,  504,  563,  832,  833,  919,  925,  926,  931,\n",
       "       1310, 1445, 1990, 2123, 2336, 2345, 2707, 3510, 3638, 3744, 3988, 4097,\n",
       "       4109],\n",
       "      dtype='int64')"
      ]
     },
     "execution_count": 417,
     "metadata": {},
     "output_type": "execute_result"
    }
   ],
   "source": [
    "df[df.review_lower.str.contains('(shot|shoot)(e)?(ing)?(ed)? +(in)')].index[:25]"
   ]
  },
  {
   "cell_type": "code",
   "execution_count": 421,
   "id": "9e7cfdf1",
   "metadata": {},
   "outputs": [
    {
     "data": {
      "text/plain": [
       "sex_slang\n",
       "False    23456\n",
       "True       136\n",
       "Name: count, dtype: int64"
      ]
     },
     "execution_count": 421,
     "metadata": {},
     "output_type": "execute_result"
    }
   ],
   "source": [
    "def sex_slang_feature(review):\n",
    "    if re.search('((com+|cum+|cam+|jiz+|shot|shoot)(e)?(ing)?(ed)?) +(in) +(me|my)', review) or \\\n",
    "    re.search('(he|him|his) +(cum|cuming|cumming|come|came|cummed|comed|cumed)', review):\n",
    "        return True\n",
    "    else:\n",
    "        return False\n",
    "\n",
    "df['sex_slang'] = df.review_lower.apply(sex_slang_feature)\n",
    "\n",
    "df.sex_slang.value_counts()"
   ]
  },
  {
   "cell_type": "code",
   "execution_count": 422,
   "id": "396f36a8",
   "metadata": {},
   "outputs": [
    {
     "data": {
      "text/plain": [
       "8.507352941176471"
      ]
     },
     "execution_count": 422,
     "metadata": {},
     "output_type": "execute_result"
    }
   ],
   "source": [
    "df[df.sex_slang].usefulCount.mean()"
   ]
  },
  {
   "cell_type": "code",
   "execution_count": 423,
   "id": "e659c176",
   "metadata": {},
   "outputs": [
    {
     "data": {
      "text/plain": [
       "8.584114938608458"
      ]
     },
     "execution_count": 423,
     "metadata": {},
     "output_type": "execute_result"
    }
   ],
   "source": [
    "df[~df.sex_slang].usefulCount.mean()"
   ]
  },
  {
   "cell_type": "code",
   "execution_count": 401,
   "id": "aaf60176",
   "metadata": {},
   "outputs": [
    {
     "data": {
      "text/plain": [
       "sex_slang\n",
       "False    23509\n",
       "True        83\n",
       "Name: count, dtype: int64"
      ]
     },
     "execution_count": 401,
     "metadata": {},
     "output_type": "execute_result"
    }
   ],
   "source": [
    "def sex_slang_feature(review):\n",
    "    if re.search('ejacul', review):\n",
    "        return True\n",
    "    else:\n",
    "        return False\n",
    "\n",
    "df['sex_slang'] = df.review_lower.apply(sex_slang_feature)\n",
    "\n",
    "df.sex_slang.value_counts()"
   ]
  },
  {
   "cell_type": "code",
   "execution_count": null,
   "id": "1717d5f4",
   "metadata": {},
   "outputs": [],
   "source": [
    "# make list of all tweet texts\n",
    "all_reviews = df.review.to_list()"
   ]
  },
  {
   "cell_type": "code",
   "execution_count": null,
   "id": "6bc34cb4",
   "metadata": {},
   "outputs": [],
   "source": [
    "# obtain the standard list of stopwords\n",
    "nltk.download('stopwords', quiet=True)\n",
    "# start our own list of stopwords with these words\n",
    "stop_list = stopwords.words('english')\n",
    "# add to this list some twitter-specific terms\n",
    "stop_list.extend(['sxsw', 'link', 'rt'])\n",
    "# add punctuation characters\n",
    "for char in string.punctuation:\n",
    "    stop_list.append(char)\n",
    "# add empty string\n",
    "stop_list.extend(['', 'ha', 'wa'])"
   ]
  },
  {
   "cell_type": "code",
   "execution_count": null,
   "id": "615f73e8",
   "metadata": {},
   "outputs": [],
   "source": [
    "stop_list = []"
   ]
  },
  {
   "cell_type": "code",
   "execution_count": null,
   "id": "5e0d6dad",
   "metadata": {},
   "outputs": [],
   "source": [
    "# a function that takes a list of reviews and 1) tokenizes them, 2) lemmatizes them, and 3) removes stopwords\n",
    "# this function returns a one-dimensional list of tokens\n",
    "def make_tokens(reviews):\n",
    "    # make list of tokens\n",
    "    tokens = nltk.word_tokenize(','.join(reviews))\n",
    "    # lemmatize tokens\n",
    "    tokens_lemmatized = [lemmatizer.lemmatize(word) for word in tokens]\n",
    "    # stop tokens\n",
    "    tokens_stopped = [word for word in tokens_lemmatized if \\\n",
    "                      word not in stop_list]\n",
    "    return tokens_stopped"
   ]
  },
  {
   "cell_type": "code",
   "execution_count": null,
   "id": "e9cf5887",
   "metadata": {},
   "outputs": [],
   "source": [
    "tokens_pos = make_tokens(df[(df.condition == 'Birth Control') & (df.usefulCount > 16)].review_lower.to_list())\n",
    "tokens_neg = make_tokens(df[(df.condition == 'Birth Control') & (df.usefulCount == 0)].review_lower.to_list())"
   ]
  },
  {
   "cell_type": "code",
   "execution_count": null,
   "id": "8e14a98e",
   "metadata": {},
   "outputs": [],
   "source": [
    "plot_wordcloud(make_wordcloud(tokens_neg))"
   ]
  },
  {
   "cell_type": "code",
   "execution_count": null,
   "id": "4b55eb21",
   "metadata": {},
   "outputs": [],
   "source": [
    "df['word_count'] = df.review.apply(lambda x: len(x.split()))"
   ]
  },
  {
   "cell_type": "code",
   "execution_count": null,
   "id": "58a4c643",
   "metadata": {},
   "outputs": [],
   "source": [
    "df['char_count'] = df.review.apply(lambda x: len(x))"
   ]
  },
  {
   "cell_type": "code",
   "execution_count": null,
   "id": "1535b059",
   "metadata": {},
   "outputs": [],
   "source": [
    "df['logUsefulCount'] = df.usefulCount.apply(lambda x: np.log(x) if x > 0 else 0)"
   ]
  },
  {
   "cell_type": "code",
   "execution_count": null,
   "id": "c1d2c48c",
   "metadata": {},
   "outputs": [],
   "source": [
    "'!' in df.loc[5].review"
   ]
  },
  {
   "cell_type": "markdown",
   "id": "cb92cc6d",
   "metadata": {},
   "source": [
    "# rudimentary word cloud maker"
   ]
  },
  {
   "cell_type": "code",
   "execution_count": null,
   "id": "a2f0c1c0",
   "metadata": {},
   "outputs": [],
   "source": [
    "df_bookmark_3 = df.copy()"
   ]
  },
  {
   "cell_type": "code",
   "execution_count": null,
   "id": "f97f6db7",
   "metadata": {},
   "outputs": [],
   "source": [
    "df = df[df.condition == 'Birth Control']\n",
    "\n",
    "def sentiment_fix(rating):\n",
    "    if rating > 8:\n",
    "        return 1\n",
    "    elif rating < 2:\n",
    "        return 0\n",
    "    else:\n",
    "        return None\n",
    "\n",
    "df['sentiment'] = df.rating.apply(lambda x: sentiment_fix(x))\n",
    "\n",
    "df_pos = df[df.sentiment == 1]\n",
    "\n",
    "df_neg = df[df.sentiment == 0]"
   ]
  },
  {
   "cell_type": "code",
   "execution_count": null,
   "id": "669b2189",
   "metadata": {},
   "outputs": [],
   "source": [
    "# make list of all reviews\n",
    "reviews_pos = df_pos.review_lower.to_list()\n",
    "reviews_neg = df_neg.review_lower.to_list()"
   ]
  },
  {
   "cell_type": "code",
   "execution_count": null,
   "id": "b71c7715",
   "metadata": {},
   "outputs": [],
   "source": [
    "# # make tokenizer\n",
    "# tokenizer = TweetTokenizer(\n",
    "#     preserve_case=False,\n",
    "#     strip_handles=True\n",
    "# )\n",
    "\n",
    "# create list of tokens from data set\n",
    "tokens_pos = word_tokenize(','.join(reviews_pos))\n",
    "tokens_neg = word_tokenize(','.join(reviews_neg))\n",
    "\n",
    "\n",
    "# tokens = [word for word in tokens]"
   ]
  },
  {
   "cell_type": "code",
   "execution_count": null,
   "id": "4c9e970a",
   "metadata": {},
   "outputs": [],
   "source": [
    "# make lemmatizer\n",
    "lemmatizer = WordNetLemmatizer()\n",
    "\n",
    "# lemmatize the list of words\n",
    "tokens_lemmatized_pos = [lemmatizer.lemmatize(word) for word in tokens_pos]\n",
    "tokens_lemmatized_neg = [lemmatizer.lemmatize(word) for word in tokens_neg]"
   ]
  },
  {
   "cell_type": "code",
   "execution_count": null,
   "id": "97f0599f",
   "metadata": {},
   "outputs": [],
   "source": [
    "# show the most frequently occurring tokens\n",
    "FreqDist(tokens_lemmatized_pos).most_common(25)"
   ]
  },
  {
   "cell_type": "code",
   "execution_count": null,
   "id": "0f156fc3",
   "metadata": {},
   "outputs": [],
   "source": [
    "# show the most frequently occurring tokens\n",
    "FreqDist(tokens_lemmatized_neg).most_common(25)"
   ]
  },
  {
   "cell_type": "code",
   "execution_count": null,
   "id": "afe5e458",
   "metadata": {},
   "outputs": [],
   "source": [
    "negatives = ['no', 'not', \"don't\", \"aren't\", \"couldn't\", \"didn't\", \"doesn't\", \"hadn't\", \"hasn't\", \"haven't\", \\\n",
    "             \"isn't\", \"wasn't\", \"weren't\", \"won't\", \"wouldn't\"]"
   ]
  },
  {
   "cell_type": "code",
   "execution_count": null,
   "id": "26e5207d",
   "metadata": {},
   "outputs": [],
   "source": [
    "# obtain the standard list of stopwords\n",
    "nltk.download('stopwords', quiet=True)\n",
    "# start our own list of stopwords with these words\n",
    "stop_list = [word for word in stopwords.words('english') if word not in negatives]\n",
    "# add punctuation characters\n",
    "for char in string.punctuation:\n",
    "    stop_list.append(char)\n",
    "# add empty string\n",
    "stop_list.extend(['', 'ha', 'wa'])"
   ]
  },
  {
   "cell_type": "code",
   "execution_count": null,
   "id": "c49f5c0d",
   "metadata": {},
   "outputs": [],
   "source": [
    "stop_list"
   ]
  },
  {
   "cell_type": "code",
   "execution_count": null,
   "id": "ad1c90fb",
   "metadata": {},
   "outputs": [],
   "source": [
    "# make stopped list of tokens\n",
    "tokens_stopped_pos = [word for word in tokens_lemmatized_pos if word not in stop_list]\n",
    "tokens_stopped_neg = [word for word in tokens_lemmatized_neg if word not in stop_list]"
   ]
  },
  {
   "cell_type": "code",
   "execution_count": null,
   "id": "0701778c",
   "metadata": {},
   "outputs": [],
   "source": [
    "# show the most frequently occurring tokens\n",
    "FreqDist(tokens_stopped_pos).most_common(25)"
   ]
  },
  {
   "cell_type": "code",
   "execution_count": null,
   "id": "f3942ef1",
   "metadata": {},
   "outputs": [],
   "source": [
    "# show the most frequently occurring tokens\n",
    "FreqDist(tokens_stopped_neg).most_common(25)"
   ]
  },
  {
   "cell_type": "code",
   "execution_count": null,
   "id": "8ab1196a",
   "metadata": {},
   "outputs": [],
   "source": [
    "# word cloud of stopped words\n",
    "plot_wordcloud(make_wordcloud(tokens_stopped_pos))"
   ]
  },
  {
   "cell_type": "code",
   "execution_count": null,
   "id": "38dc5ab5",
   "metadata": {},
   "outputs": [],
   "source": [
    "# word cloud of stopped words\n",
    "plot_wordcloud(make_wordcloud(tokens_stopped_neg, colormap='Reds'))"
   ]
  },
  {
   "cell_type": "code",
   "execution_count": null,
   "id": "8038419b",
   "metadata": {},
   "outputs": [],
   "source": [
    "df.groupby('rating').usefulCount.median()"
   ]
  },
  {
   "cell_type": "code",
   "execution_count": null,
   "id": "b080fab5",
   "metadata": {},
   "outputs": [],
   "source": [
    "len(df)"
   ]
  },
  {
   "cell_type": "code",
   "execution_count": 436,
   "id": "5b91a239",
   "metadata": {},
   "outputs": [],
   "source": [
    "df_bookmark_3 = df.copy()"
   ]
  },
  {
   "cell_type": "code",
   "execution_count": 449,
   "id": "c795d6ca",
   "metadata": {},
   "outputs": [],
   "source": [
    "# df = df_bookmark_3.copy()"
   ]
  },
  {
   "cell_type": "markdown",
   "id": "c516dd06",
   "metadata": {},
   "source": [
    "# rudimentary modeling attempts"
   ]
  },
  {
   "cell_type": "markdown",
   "id": "fdb7e58e",
   "metadata": {},
   "source": [
    "- establish one df with a binary (?) target"
   ]
  },
  {
   "cell_type": "code",
   "execution_count": 450,
   "id": "5bcd5fe0",
   "metadata": {},
   "outputs": [],
   "source": [
    "useful_threshold = [3, 10]\n",
    "\n",
    "df.drop(df[\n",
    "    (df.usefulCount > useful_threshold[0]) & \\\n",
    "    (df.usefulCount < useful_threshold[1])\n",
    "].index, inplace=True)\n",
    "\n",
    "df['target'] = df.usefulCount.apply(lambda x: 1 if x >= useful_threshold[1] else 0)"
   ]
  },
  {
   "cell_type": "code",
   "execution_count": 451,
   "id": "7f59d0c0",
   "metadata": {},
   "outputs": [
    {
     "data": {
      "text/plain": [
       "target\n",
       "0    9265\n",
       "1    6007\n",
       "Name: count, dtype: int64"
      ]
     },
     "execution_count": 451,
     "metadata": {},
     "output_type": "execute_result"
    }
   ],
   "source": [
    "df.target.value_counts()"
   ]
  },
  {
   "cell_type": "markdown",
   "id": "a6d7a2df",
   "metadata": {},
   "source": [
    "- establish stop list"
   ]
  },
  {
   "cell_type": "code",
   "execution_count": 453,
   "id": "101b1af1",
   "metadata": {},
   "outputs": [],
   "source": [
    "# obtain the standard list of stopwords\n",
    "nltk.download('stopwords', quiet=True)\n",
    "# start our own list of stopwords with these words\n",
    "stop_list = stopwords.words('english')\n",
    "# add punctuation characters\n",
    "for char in string.punctuation:\n",
    "    stop_list.append(char)\n",
    "# add empty string\n",
    "stop_list.extend([''])"
   ]
  },
  {
   "cell_type": "markdown",
   "id": "04b39a02",
   "metadata": {},
   "source": [
    "- establish function that tokenizes, removes stop words, lemmatizes, and performs any other necessary operations"
   ]
  },
  {
   "cell_type": "code",
   "execution_count": 454,
   "id": "3fabbdcc",
   "metadata": {},
   "outputs": [],
   "source": [
    "# make tokenizer\n",
    "def custom_tokenize(document):\n",
    "    \n",
    "    # shift everything to lower case\n",
    "    document = document.lower()\n",
    "\n",
    "    # create list of tokens from data set\n",
    "    tokens = nltk.tokenize.word_tokenize(document, language='english', preserve_line=False)\n",
    "    \n",
    "    # remove stop words\n",
    "    tokens = [word for word in tokens if not word in stop_list]\n",
    "\n",
    "    # instantiate lemmatizer\n",
    "    lemmatizer = WordNetLemmatizer()\n",
    "\n",
    "    # lemmatize the list of words\n",
    "    tokens_lemmatized = [lemmatizer.lemmatize(word) for word in tokens]\n",
    "    \n",
    "    return tokens_lemmatized"
   ]
  },
  {
   "cell_type": "markdown",
   "id": "c3491bc8",
   "metadata": {},
   "source": [
    "- train test split"
   ]
  },
  {
   "cell_type": "markdown",
   "id": "9cb2d6d6",
   "metadata": {},
   "source": [
    "## Train and test sets\n",
    "\n",
    "We'll split the data into train and test sets."
   ]
  },
  {
   "cell_type": "code",
   "execution_count": 455,
   "id": "8850da82",
   "metadata": {},
   "outputs": [],
   "source": [
    "# split the data into target (sentiment) and predictor (text)\n",
    "X, y = df['review'], df['target']\n",
    "\n",
    "# split the data into train and test sets\n",
    "# set random state for reproducibility\n",
    "X_train, X_test, y_train, y_test = train_test_split(X, y, test_size=0.2, random_state=SEED)"
   ]
  },
  {
   "cell_type": "markdown",
   "id": "2f54afe4",
   "metadata": {},
   "source": [
    "- follow modeling examples, pipeline, etc."
   ]
  },
  {
   "cell_type": "markdown",
   "id": "7284a910",
   "metadata": {},
   "source": [
    "## Results function\n",
    "\n",
    "We'll create a function that takes the pipeline we've created and displays only the results we're interested in."
   ]
  },
  {
   "cell_type": "code",
   "execution_count": 456,
   "id": "950b346d",
   "metadata": {},
   "outputs": [],
   "source": [
    "def model_results(pipeline):\n",
    "    # fit the pipeline to the training data\n",
    "    pipeline.fit(X_train, y_train)\n",
    "    # generate predictions for the test data\n",
    "    y_pred = pipeline.predict(X_test)\n",
    "    # display the training and test accuracy scores\n",
    "    print(f\"Training Score: {round(pipeline.score(X_train, y_train),4)} \\\n",
    "    \\nTest Score:     {round(pipeline.score(X_test, y_test),4)}\")\n",
    "    \n",
    "    # plot the normalized confusion matrix\n",
    "    plot_confusion_matrix(estimator=pipeline, X=X_test, y_true=y_test, cmap='Greens', \n",
    "                          normalize='true', \n",
    "                          display_labels=['Non-positive', 'Positive'])"
   ]
  },
  {
   "cell_type": "markdown",
   "id": "212e6434",
   "metadata": {},
   "source": [
    "## Naive Bayes (BASELINE MODEL)\n",
    "### Rough model"
   ]
  },
  {
   "cell_type": "code",
   "execution_count": 457,
   "id": "975f0206",
   "metadata": {},
   "outputs": [
    {
     "name": "stdout",
     "output_type": "stream",
     "text": [
      "Naive Bayes\n"
     ]
    },
    {
     "name": "stderr",
     "output_type": "stream",
     "text": [
      "/Users/stubbletrouble/opt/anaconda3/envs/learn-env/lib/python3.8/site-packages/sklearn/feature_extraction/text.py:383: UserWarning: Your stop_words may be inconsistent with your preprocessing. Tokenizing the stop words generated tokens [\"'d\", \"'ll\", \"'re\", \"'s\", \"'ve\", '``', 'could', 'might', 'must', \"n't\", 'need', 'sha', 'wo', 'would'] not in stop_words.\n",
      "  warnings.warn('Your stop_words may be inconsistent with '\n"
     ]
    },
    {
     "name": "stdout",
     "output_type": "stream",
     "text": [
      "Training Score: 0.6678     \n",
      "Test Score:     0.6255\n"
     ]
    },
    {
     "data": {
      "image/png": "[encoded data removed]",
      "text/plain": [
       "<Figure size 432x288 with 2 Axes>"
      ]
     },
     "metadata": {
      "needs_background": "light"
     },
     "output_type": "display_data"
    }
   ],
   "source": [
    "# Multinomial Naive Bayes\n",
    "\n",
    "# create pipeline\n",
    "pipeline_nb = Pipeline([\n",
    "    # set vectorizer\n",
    "    ('vectorizer', TfidfVectorizer(\n",
    "        tokenizer = custom_tokenize,\n",
    "        stop_words = stop_list\n",
    "    )),\n",
    "    # set classifier\n",
    "    ('clf', MultinomialNB())\n",
    "])\n",
    "print('Naive Bayes')\n",
    "# create model from pipeline and display results\n",
    "model_results(pipeline_nb)"
   ]
  },
  {
   "cell_type": "code",
   "execution_count": 458,
   "id": "7c55bf90",
   "metadata": {
    "ExecuteTime": {
     "end_time": "2021-06-25T19:28:23.500722Z",
     "start_time": "2021-06-25T19:28:23.377775Z"
    }
   },
   "outputs": [],
   "source": [
    "#defining a function to extract and plot feature importances from best models\n",
    "import math\n",
    "import seaborn as sns\n",
    "def plot_feature_importance(clf_pipe, n_features, title):\n",
    "    \"\"\"Function extracts classifier feature importances from a given pipeline object\n",
    "    and displays top n_features. \n",
    "    -------------------------------\n",
    "    Arguments:\n",
    "    clf_pipe: Pipeline object that contains the classifier. Feature importances will be\n",
    "    extracted from this pipeline's classifier.\n",
    "    n_features: top number of features to be plotted\n",
    "    title: title information for axes containing name of type of model\"\"\"\n",
    "    #extracting feature importance information from pipeline\n",
    "    feature_names = clf_pipe['vectorizer'].get_feature_names()\n",
    "    coefs = clf_pipe['clf'].coef_[0]\n",
    "    \n",
    "    #parsing information to df\n",
    "    importance_df = pd.DataFrame(feature_names, columns=['Word'])\n",
    "    importance_df['Importance'] = math.e**(abs(coefs))\n",
    "    importance_df['Coefficient'] = coefs\n",
    "\n",
    "    #sorting to find top n_features\n",
    "    feature_importance = importance_df.sort_values(by = [\"Importance\"], \n",
    "                                                   ascending=False).head(n_features)\n",
    "    \n",
    "    #plotting coefficients\n",
    "    fig, ax = plt.subplots(figsize=(15,10), ncols=2)\n",
    "    ax[0].set_title(f'Coefficients for {title}')\n",
    "    ax[0].set_ylabel('Word')\n",
    "    ax[0].set_xlabel('Coefficient')\n",
    "    sns.barplot(x='Coefficient', y='Word', data=feature_importance, \n",
    "                palette='coolwarm', ax=ax[0])\n",
    "    #plotting feature importances\n",
    "    ax[1].set_title(f'Feature Importances for {title}')\n",
    "    ax[1].set_ylabel('Word')\n",
    "    ax[1].set_xlabel('Importance')\n",
    "    sns.barplot(x='Importance', y='Word', data=feature_importance, \n",
    "                palette='coolwarm', ax=ax[1])\n",
    "    plt.tight_layout();"
   ]
  },
  {
   "cell_type": "markdown",
   "id": "77d4917c",
   "metadata": {},
   "source": [
    "### Feature Importances - Tuned Logistic Regression Model"
   ]
  },
  {
   "cell_type": "code",
   "execution_count": 459,
   "id": "2adf3d3c",
   "metadata": {
    "ExecuteTime": {
     "end_time": "2021-06-25T19:28:24.236294Z",
     "start_time": "2021-06-25T19:28:23.501717Z"
    }
   },
   "outputs": [
    {
     "data": {
      "image/png": "[encoded data removed]",
      "text/plain": [
       "<Figure size 1080x720 with 2 Axes>"
      ]
     },
     "metadata": {
      "needs_background": "light"
     },
     "output_type": "display_data"
    }
   ],
   "source": [
    "plot_feature_importance(pipeline_nb, 25, 'Tuned Logistic Regression Model')"
   ]
  },
  {
   "cell_type": "markdown",
   "id": "a7d5f225",
   "metadata": {},
   "source": [
    "# end"
   ]
  }
 ],
 "metadata": {
  "kernelspec": {
   "display_name": "Python (learn-env)",
   "language": "python",
   "name": "learn-env"
  },
  "language_info": {
   "codemirror_mode": {
    "name": "ipython",
    "version": 3
   },
   "file_extension": ".py",
   "mimetype": "text/x-python",
   "name": "python",
   "nbconvert_exporter": "python",
   "pygments_lexer": "ipython3",
   "version": "3.8.5"
  }
 },
 "nbformat": 4,
 "nbformat_minor": 5
}
