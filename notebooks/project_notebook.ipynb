{
 "cells": [
  {
   "cell_type": "markdown",
   "id": "b9e93bf4",
   "metadata": {},
   "source": [
    "https://archive.ics.uci.edu/dataset/462/drug+review+dataset+drugs+com"
   ]
  },
  {
   "cell_type": "markdown",
   "id": "5cdcb14c",
   "metadata": {},
   "source": [
    "# Flatiron Phase 5 Project\n",
    "\n",
    "## Aaron Galbraith\n",
    "\n",
    "https://www.linkedin.com/in/aarongalbraith \\\n",
    "https://github.com/aarongalbraith\n",
    "\n",
    "### Submitted: November 21, 2023\n",
    "\n",
    "## working contents\n",
    "\n",
    "- **[functions](#functions)<br>**\n",
    "- **[rough overview](#rough-overview)<br>**\n",
    "- **[missing values](#missing-values)<br>**\n",
    "- **[duplicates](#duplicates)<br>**\n",
    "- **[brand / generic pairs](#brand-/-generic-pairs)<br>**\n",
    "- **[further exploration of duplicates (skip for now)](#further-exploration-of-duplicates-(skip-for-now))<br>**\n",
    "- **[contractions](#contractions)<br>**\n",
    "- **[dates](#dates)<br>**\n",
    "- **[ratings](#ratings)<br>**\n",
    "- **[focusing on birth control](#focusing-on-birth-control)<br>**\n",
    "- **[save and reload preprocessed set](#save-and-reload-preprocessed-set)<br>**\n",
    "- **[feature engineering ideas](#feature-engineering-ideas)<br>**\n",
    "- **[rudimentary word cloud maker](#rudimentary-word-cloud-maker)<br>**\n",
    "- **[end](#end)<br>**\n",
    "\n",
    "\n",
    "## Contents\n",
    "\n",
    "- **[Business Understanding](#Business-Understanding)<br>**\n",
    "- **[Data Understanding](#Data-Understanding)**<br>\n",
    "- **[Data Preparation](#Data-Preparation)**<br>\n",
    "- **[Exploration](#Exploration)**<br>\n",
    "- **[Modeling](#Modeling)**<br>\n",
    "- **[Evaluation](#Evaluation)**<br>\n",
    "- **[Recommendations](#Recommendations)<br>**\n",
    "- **[Further Inquiry](#Further-Inquiry)**<br>"
   ]
  },
  {
   "cell_type": "code",
   "execution_count": 1,
   "id": "6d6b1870",
   "metadata": {},
   "outputs": [],
   "source": [
    "import pandas as pd\n",
    "import matplotlib.pyplot as plt\n",
    "\n",
    "import nltk\n",
    "from nltk.tokenize import word_tokenize\n",
    "from nltk.stem import WordNetLemmatizer\n",
    "from nltk import FreqDist\n",
    "from nltk.corpus import stopwords\n",
    "import string\n",
    "from wordcloud import WordCloud\n",
    "\n",
    "import html\n",
    "import contractions\n",
    "\n",
    "import re\n",
    "\n",
    "from IPython.display import display\n",
    "\n",
    "from sklearn.model_selection import train_test_split\n",
    "\n",
    "from sklearn.metrics import confusion_matrix, plot_confusion_matrix, accuracy_score, precision_score, f1_score\n",
    "from sklearn.pipeline import Pipeline\n",
    "\n",
    "from sklearn.feature_extraction.text import TfidfVectorizer\n",
    "from sklearn.naive_bayes import MultinomialNB\n",
    "from sklearn.model_selection import train_test_split, GridSearchCV\n",
    "\n",
    "from pathlib import Path\n",
    "\n",
    "SEED = 1979\n",
    "\n",
    "do_grids = True"
   ]
  },
  {
   "cell_type": "code",
   "execution_count": 2,
   "id": "8ae69c10",
   "metadata": {},
   "outputs": [],
   "source": [
    "d1 = pd.read_csv('../data/drugsComTrain_raw.tsv', delimiter='\\t', encoding='latin-1')\n",
    "d2 = pd.read_csv('../data/drugsComTest_raw.tsv', delimiter='\\t', encoding='latin-1')\n",
    "df = pd.concat([d1,d2]).reset_index().drop(columns=['Unnamed: 0', 'index'])"
   ]
  },
  {
   "cell_type": "markdown",
   "id": "307ba3cf",
   "metadata": {},
   "source": [
    "# functions"
   ]
  },
  {
   "cell_type": "code",
   "execution_count": 3,
   "id": "545ba3c0",
   "metadata": {},
   "outputs": [],
   "source": [
    "def show_review(index):\n",
    "    print(df.review.loc[index])\n",
    "    display(df[df.review == df.loc[index].review][['drugName', 'condition', 'rating', 'date', 'usefulCount']])"
   ]
  },
  {
   "cell_type": "code",
   "execution_count": 4,
   "id": "fa409806",
   "metadata": {},
   "outputs": [],
   "source": [
    "def show_similar(index):\n",
    "    \n",
    "    count_total = df[\n",
    "        (df.drugName == df.loc[index].drugName) & \\\n",
    "        (df.condition == df.loc[index].condition) & \\\n",
    "        (df.date == df.loc[index].date)\n",
    "    ].review.count()\n",
    "    \n",
    "    count_similar = df[\n",
    "        (df.drugName == df.loc[index].drugName) & \\\n",
    "        (df.condition == df.loc[index].condition) & \\\n",
    "        (df.rating == df.loc[index].rating) & \\\n",
    "        (df.date == df.loc[index].date)\n",
    "    ].review.count()\n",
    "    \n",
    "    print('On', df.loc[index].date, df.loc[index].drugName, 'was reviewed', count_total, \\\n",
    "          'times and received a rating of', df.loc[index].rating, count_similar, 'times.\\n')\n",
    "    print('From that date, here are all', count_similar, 'reviews with the same rating:\\n')\n",
    "    for ind in df[\n",
    "        (df.drugName == df.loc[index].drugName) & \\\n",
    "        (df.condition == df.loc[index].condition) & \\\n",
    "        (df.rating == df.loc[index].rating) & \\\n",
    "        (df.date == df.loc[index].date)\n",
    "    ].index:\n",
    "        print(df.loc[ind].review,'\\n')\n",
    "    \n",
    "    print('Here is a breakdown of all the dates when reviewers gave the same drug name and condition THIS RATING:')\n",
    "    display(df[\n",
    "        (df.drugName == df.loc[index].drugName) & \\\n",
    "        (df.condition == df.loc[index].condition) & \\\n",
    "        (df.rating == df.loc[index].rating)\n",
    "    ].date.value_counts())"
   ]
  },
  {
   "cell_type": "markdown",
   "id": "40f711bc",
   "metadata": {},
   "source": [
    "# rough overview"
   ]
  },
  {
   "cell_type": "code",
   "execution_count": null,
   "id": "405ba7f4",
   "metadata": {},
   "outputs": [],
   "source": [
    "df.head()"
   ]
  },
  {
   "cell_type": "code",
   "execution_count": null,
   "id": "b527de17",
   "metadata": {},
   "outputs": [],
   "source": [
    "df.shape"
   ]
  },
  {
   "cell_type": "code",
   "execution_count": null,
   "id": "b55c5f86",
   "metadata": {},
   "outputs": [],
   "source": [
    "df.info()"
   ]
  },
  {
   "cell_type": "code",
   "execution_count": null,
   "id": "58f8eb5c",
   "metadata": {},
   "outputs": [],
   "source": [
    "df.drugName.value_counts()"
   ]
  },
  {
   "cell_type": "code",
   "execution_count": null,
   "id": "3bd7ec3a",
   "metadata": {},
   "outputs": [],
   "source": [
    "df.condition.value_counts()"
   ]
  },
  {
   "cell_type": "code",
   "execution_count": null,
   "id": "48ab2cd7",
   "metadata": {},
   "outputs": [],
   "source": [
    "df.rating.value_counts()"
   ]
  },
  {
   "cell_type": "code",
   "execution_count": null,
   "id": "50c9393d",
   "metadata": {},
   "outputs": [],
   "source": [
    "df.groupby('drugName').condition.nunique().value_counts()"
   ]
  },
  {
   "cell_type": "markdown",
   "id": "71a3a24c",
   "metadata": {},
   "source": [
    "This means that, for example, 2047 drugs treat one condition only, and 753 drugs treat two conditions, etc."
   ]
  },
  {
   "cell_type": "code",
   "execution_count": null,
   "id": "c028f568",
   "metadata": {},
   "outputs": [],
   "source": [
    "df.groupby('condition').drugName.nunique().value_counts()"
   ]
  },
  {
   "cell_type": "markdown",
   "id": "6bd96cfd",
   "metadata": {},
   "source": [
    "This means that 180 conditions are treatable by two drugs, etc."
   ]
  },
  {
   "cell_type": "code",
   "execution_count": null,
   "id": "95cacc18",
   "metadata": {
    "scrolled": true
   },
   "outputs": [],
   "source": [
    "pd.set_option(\"display.max_rows\", None)\n",
    "print(df.drugName.value_counts())\n",
    "pd.set_option(\"display.max_rows\", 10)"
   ]
  },
  {
   "cell_type": "markdown",
   "id": "dc276ddd",
   "metadata": {},
   "source": [
    "A casual overview of the drug names indicates that they all seem valid."
   ]
  },
  {
   "cell_type": "code",
   "execution_count": null,
   "id": "1b699236",
   "metadata": {
    "scrolled": true
   },
   "outputs": [],
   "source": [
    "pd.set_option(\"display.max_rows\", None)\n",
    "print(df.condition.value_counts())\n",
    "pd.set_option(\"display.max_rows\", 10)"
   ]
  },
  {
   "cell_type": "markdown",
   "id": "2ac960d5",
   "metadata": {},
   "source": [
    "Oddly, the condition labels often (always?) omit initial 'F' and terminal 'r'. We can isolate instances of the former by searching for conditions that start with a lower case letter."
   ]
  },
  {
   "cell_type": "markdown",
   "id": "bc735b9b",
   "metadata": {},
   "source": [
    "# missing values"
   ]
  },
  {
   "cell_type": "code",
   "execution_count": 5,
   "id": "3012ad2d",
   "metadata": {},
   "outputs": [
    {
     "data": {
      "text/plain": [
       "1194"
      ]
     },
     "execution_count": 5,
     "metadata": {},
     "output_type": "execute_result"
    }
   ],
   "source": [
    "len(df[df.condition.isna()])"
   ]
  },
  {
   "cell_type": "code",
   "execution_count": 6,
   "id": "97acf5c1",
   "metadata": {},
   "outputs": [],
   "source": [
    "df.condition.fillna('missing', inplace=True)"
   ]
  },
  {
   "cell_type": "code",
   "execution_count": 7,
   "id": "9b36ccb8",
   "metadata": {},
   "outputs": [
    {
     "data": {
      "text/plain": [
       "1194"
      ]
     },
     "execution_count": 7,
     "metadata": {},
     "output_type": "execute_result"
    }
   ],
   "source": [
    "len(df[df.condition == 'missing'])"
   ]
  },
  {
   "cell_type": "markdown",
   "id": "f94b0cb3",
   "metadata": {},
   "source": [
    "We noticed another condition label that was meant to indicate missing and should be accordingly changed."
   ]
  },
  {
   "cell_type": "code",
   "execution_count": 8,
   "id": "7fdac945",
   "metadata": {},
   "outputs": [],
   "source": [
    "df.condition = df.condition.apply(lambda x: 'missing' if 'Not Listed' in x else x)"
   ]
  },
  {
   "cell_type": "code",
   "execution_count": 9,
   "id": "726192ab",
   "metadata": {},
   "outputs": [
    {
     "data": {
      "text/plain": [
       "1786"
      ]
     },
     "execution_count": 9,
     "metadata": {},
     "output_type": "execute_result"
    }
   ],
   "source": [
    "len(df[df.condition == 'missing'])"
   ]
  },
  {
   "cell_type": "markdown",
   "id": "bfd412df",
   "metadata": {},
   "source": [
    "We've identified some actual missing condition labels, but we noticed there are more condition labels that seem suspicious, particularly ones that start with something other than an upper case character. Let's look at all such condition labels."
   ]
  },
  {
   "cell_type": "code",
   "execution_count": 10,
   "id": "97a151d9",
   "metadata": {},
   "outputs": [
    {
     "data": {
      "text/plain": [
       "{'0</span> users found this comment helpful.',\n",
       " '100</span> users found this comment helpful.',\n",
       " '105</span> users found this comment helpful.',\n",
       " '10</span> users found this comment helpful.',\n",
       " '110</span> users found this comment helpful.',\n",
       " '11</span> users found this comment helpful.',\n",
       " '121</span> users found this comment helpful.',\n",
       " '123</span> users found this comment helpful.',\n",
       " '12</span> users found this comment helpful.',\n",
       " '135</span> users found this comment helpful.',\n",
       " '13</span> users found this comment helpful.',\n",
       " '142</span> users found this comment helpful.',\n",
       " '145</span> users found this comment helpful.',\n",
       " '146</span> users found this comment helpful.',\n",
       " '14</span> users found this comment helpful.',\n",
       " '15</span> users found this comment helpful.',\n",
       " '16</span> users found this comment helpful.',\n",
       " '17</span> users found this comment helpful.',\n",
       " '18</span> users found this comment helpful.',\n",
       " '19</span> users found this comment helpful.',\n",
       " '1</span> users found this comment helpful.',\n",
       " '20</span> users found this comment helpful.',\n",
       " '21</span> users found this comment helpful.',\n",
       " '22</span> users found this comment helpful.',\n",
       " '23</span> users found this comment helpful.',\n",
       " '24</span> users found this comment helpful.',\n",
       " '25</span> users found this comment helpful.',\n",
       " '26</span> users found this comment helpful.',\n",
       " '27</span> users found this comment helpful.',\n",
       " '28</span> users found this comment helpful.',\n",
       " '29</span> users found this comment helpful.',\n",
       " '2</span> users found this comment helpful.',\n",
       " '30</span> users found this comment helpful.',\n",
       " '31</span> users found this comment helpful.',\n",
       " '32</span> users found this comment helpful.',\n",
       " '33</span> users found this comment helpful.',\n",
       " '34</span> users found this comment helpful.',\n",
       " '35</span> users found this comment helpful.',\n",
       " '36</span> users found this comment helpful.',\n",
       " '37</span> users found this comment helpful.',\n",
       " '38</span> users found this comment helpful.',\n",
       " '39</span> users found this comment helpful.',\n",
       " '3</span> users found this comment helpful.',\n",
       " '40</span> users found this comment helpful.',\n",
       " '41</span> users found this comment helpful.',\n",
       " '42</span> users found this comment helpful.',\n",
       " '43</span> users found this comment helpful.',\n",
       " '44</span> users found this comment helpful.',\n",
       " '45</span> users found this comment helpful.',\n",
       " '46</span> users found this comment helpful.',\n",
       " '47</span> users found this comment helpful.',\n",
       " '48</span> users found this comment helpful.',\n",
       " '4</span> users found this comment helpful.',\n",
       " '51</span> users found this comment helpful.',\n",
       " '54</span> users found this comment helpful.',\n",
       " '55</span> users found this comment helpful.',\n",
       " '5</span> users found this comment helpful.',\n",
       " '61</span> users found this comment helpful.',\n",
       " '62</span> users found this comment helpful.',\n",
       " '63</span> users found this comment helpful.',\n",
       " '64</span> users found this comment helpful.',\n",
       " '6</span> users found this comment helpful.',\n",
       " '70</span> users found this comment helpful.',\n",
       " '72</span> users found this comment helpful.',\n",
       " '74</span> users found this comment helpful.',\n",
       " '75</span> users found this comment helpful.',\n",
       " '76</span> users found this comment helpful.',\n",
       " '77</span> users found this comment helpful.',\n",
       " '79</span> users found this comment helpful.',\n",
       " '7</span> users found this comment helpful.',\n",
       " '83</span> users found this comment helpful.',\n",
       " '84</span> users found this comment helpful.',\n",
       " '85</span> users found this comment helpful.',\n",
       " '8</span> users found this comment helpful.',\n",
       " '92</span> users found this comment helpful.',\n",
       " '94</span> users found this comment helpful.',\n",
       " '95</span> users found this comment helpful.',\n",
       " '98</span> users found this comment helpful.',\n",
       " '99</span> users found this comment helpful.',\n",
       " '9</span> users found this comment helpful.',\n",
       " 'acial Lipoatrophy',\n",
       " 'acial Wrinkles',\n",
       " 'actor IX Deficiency',\n",
       " 'ailure to Thrive',\n",
       " 'amilial Cold Autoinflammatory Syndrome',\n",
       " 'amilial Mediterranean Feve',\n",
       " 'atigue',\n",
       " 'cal Segmental Glomerulosclerosis',\n",
       " 'emale Infertility',\n",
       " 'eve',\n",
       " 'ge (amlodipine / valsartan)',\n",
       " 'ge HCT (amlodipine / hydrochlorothiazide / valsartan)',\n",
       " 'ibrocystic Breast Disease',\n",
       " 'ibromyalgia',\n",
       " 'lic Acid Deficiency',\n",
       " 'llicle Stimulation',\n",
       " 'llicular Lymphoma',\n",
       " 'm Pain Disorde',\n",
       " 'mance Anxiety',\n",
       " 'me',\n",
       " 'min / pioglitazone)',\n",
       " 'min / rosiglitazone)',\n",
       " 'min / saxagliptin)',\n",
       " 'min / sitagliptin)',\n",
       " 'min)',\n",
       " 'mis',\n",
       " 'mist (',\n",
       " 'moterol / mometasone)',\n",
       " 'moterol)',\n",
       " 'mulation) (phenylephrine)',\n",
       " 't Care',\n",
       " 't Pac with Cyclobenzaprine (cyclobenzaprine)',\n",
       " 'tic (mycophenolic acid)',\n",
       " 'unctional Gastric Disorde',\n",
       " 'ungal Infection Prophylaxis',\n",
       " 'ungal Pneumonia',\n",
       " \"von Willebrand's Disease\",\n",
       " 'zen Shoulde'}"
      ]
     },
     "execution_count": 10,
     "metadata": {},
     "output_type": "execute_result"
    }
   ],
   "source": [
    "set(df[(~df.condition.str[0].isin(list(string.ascii_uppercase))) &\n",
    "   (df.condition != 'missing')\n",
    "  ].condition)"
   ]
  },
  {
   "cell_type": "markdown",
   "id": "193d1473",
   "metadata": {},
   "source": [
    "These fall into three categories. Ones that include \"users found this comment helpful\" should be regarded as erroneous and therefore missing."
   ]
  },
  {
   "cell_type": "code",
   "execution_count": 11,
   "id": "a24ad16e",
   "metadata": {},
   "outputs": [],
   "source": [
    "df.condition = df.condition.apply(lambda x: 'missing' if 'users found' in x else x)"
   ]
  },
  {
   "cell_type": "code",
   "execution_count": 12,
   "id": "303247ec",
   "metadata": {},
   "outputs": [
    {
     "data": {
      "text/plain": [
       "2957"
      ]
     },
     "execution_count": 12,
     "metadata": {},
     "output_type": "execute_result"
    }
   ],
   "source": [
    "len(df[df.condition == 'missing'])"
   ]
  },
  {
   "cell_type": "markdown",
   "id": "28048237",
   "metadata": {},
   "source": [
    " Ones that show a clipped copy of the drug name and end with a parenthesis should also be regarded as missing."
   ]
  },
  {
   "cell_type": "code",
   "execution_count": 13,
   "id": "1a4a8913",
   "metadata": {},
   "outputs": [],
   "source": [
    "df.condition = df.condition.apply(lambda x: 'missing' \\\n",
    "                                  if x[0] not in list(string.ascii_uppercase) and \\\n",
    "                                  x[-1] in ['(', ')'] \\\n",
    "                                  else x)"
   ]
  },
  {
   "cell_type": "code",
   "execution_count": 14,
   "id": "00ccd67f",
   "metadata": {},
   "outputs": [
    {
     "data": {
      "text/plain": [
       "3286"
      ]
     },
     "execution_count": 14,
     "metadata": {},
     "output_type": "execute_result"
    }
   ],
   "source": [
    "len(df[df.condition == 'missing'])"
   ]
  },
  {
   "cell_type": "markdown",
   "id": "de8c4299",
   "metadata": {},
   "source": [
    "Most of the ones that show a clipped version of the condition label can possibly be restored."
   ]
  },
  {
   "cell_type": "code",
   "execution_count": 15,
   "id": "69f86b0b",
   "metadata": {},
   "outputs": [],
   "source": [
    "def condition_restore(condition):\n",
    "    if condition.split()[-1] in ['Disorde', 'eve', 'Shoulde', 'Cance']:\n",
    "        condition = condition+'r'\n",
    "    if condition.split()[0] in ['acial', 'ibrocystic', 'ungal', 'amilial', 'ailure', 'ever', \\\n",
    "                                'emale', 'unctional', 'actor', 'ibromyalgia', 'atigue']:\n",
    "        condition = 'F'+condition\n",
    "    if condition.split()[0] in ['llicular', 'llicle', 'lic', 'cal']:\n",
    "        condition = 'Fo'+condition\n",
    "    if condition.split()[0] in ['mance']:\n",
    "        condition = 'Perfor'+condition\n",
    "    if condition.split()[0] in ['zen']:\n",
    "        condition = 'Fro'+condition\n",
    "    if condition.split()[0] in ['mis']:\n",
    "        condition = 'Dermatitis Herpetifor'+condition\n",
    "    return condition\n",
    "\n",
    "df.condition = df.condition.apply(lambda x: condition_restore(x))"
   ]
  },
  {
   "cell_type": "markdown",
   "id": "07244479",
   "metadata": {},
   "source": [
    "Let's look at what we have left."
   ]
  },
  {
   "cell_type": "code",
   "execution_count": 16,
   "id": "f21a623d",
   "metadata": {},
   "outputs": [
    {
     "data": {
      "text/plain": [
       "{'m Pain Disorder', 'me', 't Care', \"von Willebrand's Disease\"}"
      ]
     },
     "execution_count": 16,
     "metadata": {},
     "output_type": "execute_result"
    }
   ],
   "source": [
    "set(df[(~df.condition.str[0].isin(list(string.ascii_uppercase))) &\n",
    "   (df.condition != 'missing')\n",
    "  ].condition)"
   ]
  },
  {
   "cell_type": "markdown",
   "id": "91e59c5f",
   "metadata": {},
   "source": [
    "\"von Willebrand's Disease\" appears to be a naturally uncapitalized condition. The others have been impossible to restore and will also be regarded as missing."
   ]
  },
  {
   "cell_type": "code",
   "execution_count": 17,
   "id": "6f6cc19d",
   "metadata": {},
   "outputs": [],
   "source": [
    "df.condition = df.condition.apply(lambda x: 'missing' \\\n",
    "                                  if x[0] not in list(string.ascii_uppercase) and \\\n",
    "                                  x.split()[0] != 'von' \\\n",
    "                                  else x)"
   ]
  },
  {
   "cell_type": "code",
   "execution_count": 18,
   "id": "eec37898",
   "metadata": {},
   "outputs": [
    {
     "data": {
      "text/plain": [
       "3293"
      ]
     },
     "execution_count": 18,
     "metadata": {},
     "output_type": "execute_result"
    }
   ],
   "source": [
    "len(df[df.condition == 'missing'])"
   ]
  },
  {
   "cell_type": "markdown",
   "id": "0f65fdce",
   "metadata": {},
   "source": [
    "We will be able to restore more of these missing condition labels after we do some work with duplicates."
   ]
  },
  {
   "cell_type": "markdown",
   "id": "2e34ec2d",
   "metadata": {},
   "source": [
    "# duplicates"
   ]
  },
  {
   "cell_type": "code",
   "execution_count": 19,
   "id": "419eef44",
   "metadata": {},
   "outputs": [
    {
     "data": {
      "text/plain": [
       "False    215061\n",
       "True          2\n",
       "Name: count, dtype: int64"
      ]
     },
     "execution_count": 19,
     "metadata": {},
     "output_type": "execute_result"
    }
   ],
   "source": [
    "df.duplicated().value_counts()"
   ]
  },
  {
   "cell_type": "code",
   "execution_count": 20,
   "id": "029c2dff",
   "metadata": {},
   "outputs": [
    {
     "data": {
      "text/html": [
       "<div>\n",
       "<style scoped>\n",
       "    .dataframe tbody tr th:only-of-type {\n",
       "        vertical-align: middle;\n",
       "    }\n",
       "\n",
       "    .dataframe tbody tr th {\n",
       "        vertical-align: top;\n",
       "    }\n",
       "\n",
       "    .dataframe thead th {\n",
       "        text-align: right;\n",
       "    }\n",
       "</style>\n",
       "<table border=\"1\" class=\"dataframe\">\n",
       "  <thead>\n",
       "    <tr style=\"text-align: right;\">\n",
       "      <th></th>\n",
       "      <th>drugName</th>\n",
       "      <th>condition</th>\n",
       "      <th>review</th>\n",
       "      <th>rating</th>\n",
       "      <th>date</th>\n",
       "      <th>usefulCount</th>\n",
       "    </tr>\n",
       "  </thead>\n",
       "  <tbody>\n",
       "    <tr>\n",
       "      <th>178703</th>\n",
       "      <td>Levonorgestrel</td>\n",
       "      <td>Emergency Contraception</td>\n",
       "      <td>\"I had a quickie n he decided to finish it off...</td>\n",
       "      <td>1.0</td>\n",
       "      <td>September 23, 2016</td>\n",
       "      <td>10</td>\n",
       "    </tr>\n",
       "    <tr>\n",
       "      <th>191001</th>\n",
       "      <td>Plan B</td>\n",
       "      <td>Emergency Contraception</td>\n",
       "      <td>\"I had a quickie n he decided to finish it off...</td>\n",
       "      <td>1.0</td>\n",
       "      <td>September 23, 2016</td>\n",
       "      <td>10</td>\n",
       "    </tr>\n",
       "  </tbody>\n",
       "</table>\n",
       "</div>"
      ],
      "text/plain": [
       "              drugName                condition  \\\n",
       "178703  Levonorgestrel  Emergency Contraception   \n",
       "191001          Plan B  Emergency Contraception   \n",
       "\n",
       "                                                   review  rating  \\\n",
       "178703  \"I had a quickie n he decided to finish it off...     1.0   \n",
       "191001  \"I had a quickie n he decided to finish it off...     1.0   \n",
       "\n",
       "                      date  usefulCount  \n",
       "178703  September 23, 2016           10  \n",
       "191001  September 23, 2016           10  "
      ]
     },
     "execution_count": 20,
     "metadata": {},
     "output_type": "execute_result"
    }
   ],
   "source": [
    "df[df.duplicated()]"
   ]
  },
  {
   "cell_type": "code",
   "execution_count": 21,
   "id": "35afa1a8",
   "metadata": {},
   "outputs": [
    {
     "name": "stdout",
     "output_type": "stream",
     "text": [
      "\"I had a quickie n he decided to finish it off in me... Well IMMEDIATELY we went 2 our local pharmacy n bought this plan b 1 step pill.I took it immediately.2 weeks later,took a pregnancy test n got the world&#039;s BIGGEST POSITIVE. The small pill was $50.That was the 1st time in a year n a half that I had intercourse n the last after I had my first son. I honestly believe this pill is ineffective because they just want u to think it works when n reality, it would never work. Alot of women don&#039;t know their bodies when they ovulate so if your not fertile and he ejaculates n u and u take the pill n dont get preg., The pill is supposed to make u think it worked. DO NOT buy. Was NEVER effective. Thank u!\"\n"
     ]
    },
    {
     "data": {
      "text/html": [
       "<div>\n",
       "<style scoped>\n",
       "    .dataframe tbody tr th:only-of-type {\n",
       "        vertical-align: middle;\n",
       "    }\n",
       "\n",
       "    .dataframe tbody tr th {\n",
       "        vertical-align: top;\n",
       "    }\n",
       "\n",
       "    .dataframe thead th {\n",
       "        text-align: right;\n",
       "    }\n",
       "</style>\n",
       "<table border=\"1\" class=\"dataframe\">\n",
       "  <thead>\n",
       "    <tr style=\"text-align: right;\">\n",
       "      <th></th>\n",
       "      <th>drugName</th>\n",
       "      <th>condition</th>\n",
       "      <th>rating</th>\n",
       "      <th>date</th>\n",
       "      <th>usefulCount</th>\n",
       "    </tr>\n",
       "  </thead>\n",
       "  <tbody>\n",
       "    <tr>\n",
       "      <th>131531</th>\n",
       "      <td>Levonorgestrel</td>\n",
       "      <td>Emergency Contraception</td>\n",
       "      <td>1.0</td>\n",
       "      <td>September 23, 2016</td>\n",
       "      <td>10</td>\n",
       "    </tr>\n",
       "    <tr>\n",
       "      <th>143768</th>\n",
       "      <td>Plan B</td>\n",
       "      <td>Emergency Contraception</td>\n",
       "      <td>1.0</td>\n",
       "      <td>September 23, 2016</td>\n",
       "      <td>10</td>\n",
       "    </tr>\n",
       "    <tr>\n",
       "      <th>178703</th>\n",
       "      <td>Levonorgestrel</td>\n",
       "      <td>Emergency Contraception</td>\n",
       "      <td>1.0</td>\n",
       "      <td>September 23, 2016</td>\n",
       "      <td>10</td>\n",
       "    </tr>\n",
       "    <tr>\n",
       "      <th>191001</th>\n",
       "      <td>Plan B</td>\n",
       "      <td>Emergency Contraception</td>\n",
       "      <td>1.0</td>\n",
       "      <td>September 23, 2016</td>\n",
       "      <td>10</td>\n",
       "    </tr>\n",
       "  </tbody>\n",
       "</table>\n",
       "</div>"
      ],
      "text/plain": [
       "              drugName                condition  rating                date  \\\n",
       "131531  Levonorgestrel  Emergency Contraception     1.0  September 23, 2016   \n",
       "143768          Plan B  Emergency Contraception     1.0  September 23, 2016   \n",
       "178703  Levonorgestrel  Emergency Contraception     1.0  September 23, 2016   \n",
       "191001          Plan B  Emergency Contraception     1.0  September 23, 2016   \n",
       "\n",
       "        usefulCount  \n",
       "131531           10  \n",
       "143768           10  \n",
       "178703           10  \n",
       "191001           10  "
      ]
     },
     "metadata": {},
     "output_type": "display_data"
    }
   ],
   "source": [
    "show_review(178703)"
   ]
  },
  {
   "cell_type": "markdown",
   "id": "18455e61",
   "metadata": {},
   "source": [
    "This is curious. The same review is recorded four times. There are two identical pairs, where the difference between the pairs is the drug name. We can drop one from each pair, but this will need to be revisited."
   ]
  },
  {
   "cell_type": "code",
   "execution_count": 22,
   "id": "4752aa06",
   "metadata": {},
   "outputs": [],
   "source": [
    "df.drop_duplicates(inplace=True)"
   ]
  },
  {
   "cell_type": "markdown",
   "id": "861538af",
   "metadata": {},
   "source": [
    "# brand / generic pairs\n",
    "\n",
    "The main type of duplicate we should look out for is records with duplicate reviews, as those likely indicate some kind of actual erroneous duplication. Let's see how many of those there are."
   ]
  },
  {
   "cell_type": "code",
   "execution_count": 23,
   "id": "eea8168c",
   "metadata": {},
   "outputs": [
    {
     "data": {
      "text/plain": [
       "86583"
      ]
     },
     "execution_count": 23,
     "metadata": {},
     "output_type": "execute_result"
    }
   ],
   "source": [
    "len(df[df.duplicated(subset=['review'])])"
   ]
  },
  {
   "cell_type": "markdown",
   "id": "f8d59785",
   "metadata": {},
   "source": [
    "That's a lot!\n",
    "\n",
    "Let's explore some facets of these duplicates."
   ]
  },
  {
   "cell_type": "code",
   "execution_count": 24,
   "id": "63c41abe",
   "metadata": {},
   "outputs": [
    {
     "data": {
      "text/plain": [
       "85876"
      ]
     },
     "execution_count": 24,
     "metadata": {},
     "output_type": "execute_result"
    }
   ],
   "source": [
    "len(df[df.duplicated(subset=df.columns.difference(['drugName']))])"
   ]
  },
  {
   "cell_type": "markdown",
   "id": "9bc8c9c3",
   "metadata": {},
   "source": [
    "The vast majority of duplicate reviews are accounted for by different drug names. Let's explore some examples."
   ]
  },
  {
   "cell_type": "code",
   "execution_count": 25,
   "id": "e5db749f",
   "metadata": {},
   "outputs": [
    {
     "data": {
      "text/html": [
       "<div>\n",
       "<style scoped>\n",
       "    .dataframe tbody tr th:only-of-type {\n",
       "        vertical-align: middle;\n",
       "    }\n",
       "\n",
       "    .dataframe tbody tr th {\n",
       "        vertical-align: top;\n",
       "    }\n",
       "\n",
       "    .dataframe thead th {\n",
       "        text-align: right;\n",
       "    }\n",
       "</style>\n",
       "<table border=\"1\" class=\"dataframe\">\n",
       "  <thead>\n",
       "    <tr style=\"text-align: right;\">\n",
       "      <th></th>\n",
       "      <th>drugName</th>\n",
       "      <th>condition</th>\n",
       "      <th>review</th>\n",
       "      <th>rating</th>\n",
       "      <th>date</th>\n",
       "      <th>usefulCount</th>\n",
       "    </tr>\n",
       "  </thead>\n",
       "  <tbody>\n",
       "    <tr>\n",
       "      <th>524</th>\n",
       "      <td>Nexplanon</td>\n",
       "      <td>Birth Control</td>\n",
       "      <td>\"First had implanon then got Nexplanon, had a ...</td>\n",
       "      <td>9.0</td>\n",
       "      <td>April 21, 2017</td>\n",
       "      <td>5</td>\n",
       "    </tr>\n",
       "    <tr>\n",
       "      <th>574</th>\n",
       "      <td>Cymbalta</td>\n",
       "      <td>Anxiety</td>\n",
       "      <td>\"Prescribed via a Psychiatrist for severe Pani...</td>\n",
       "      <td>1.0</td>\n",
       "      <td>September 5, 2010</td>\n",
       "      <td>27</td>\n",
       "    </tr>\n",
       "    <tr>\n",
       "      <th>726</th>\n",
       "      <td>Orsythia</td>\n",
       "      <td>Birth Control</td>\n",
       "      <td>\"I have only been on orsythia for about 1 mont...</td>\n",
       "      <td>2.0</td>\n",
       "      <td>October 8, 2015</td>\n",
       "      <td>7</td>\n",
       "    </tr>\n",
       "    <tr>\n",
       "      <th>1070</th>\n",
       "      <td>Desvenlafaxine</td>\n",
       "      <td>Depression</td>\n",
       "      <td>\"I have suffered from severe anxiety (GAD) and...</td>\n",
       "      <td>8.0</td>\n",
       "      <td>November 1, 2013</td>\n",
       "      <td>81</td>\n",
       "    </tr>\n",
       "    <tr>\n",
       "      <th>1375</th>\n",
       "      <td>Ethinyl estradiol / norethindrone</td>\n",
       "      <td>Birth Control</td>\n",
       "      <td>\"I have been taking my first pack of Lo Loestr...</td>\n",
       "      <td>8.0</td>\n",
       "      <td>February 1, 2012</td>\n",
       "      <td>7</td>\n",
       "    </tr>\n",
       "  </tbody>\n",
       "</table>\n",
       "</div>"
      ],
      "text/plain": [
       "                               drugName      condition  \\\n",
       "524                           Nexplanon  Birth Control   \n",
       "574                            Cymbalta        Anxiety   \n",
       "726                            Orsythia  Birth Control   \n",
       "1070                     Desvenlafaxine     Depression   \n",
       "1375  Ethinyl estradiol / norethindrone  Birth Control   \n",
       "\n",
       "                                                 review  rating  \\\n",
       "524   \"First had implanon then got Nexplanon, had a ...     9.0   \n",
       "574   \"Prescribed via a Psychiatrist for severe Pani...     1.0   \n",
       "726   \"I have only been on orsythia for about 1 mont...     2.0   \n",
       "1070  \"I have suffered from severe anxiety (GAD) and...     8.0   \n",
       "1375  \"I have been taking my first pack of Lo Loestr...     8.0   \n",
       "\n",
       "                   date  usefulCount  \n",
       "524      April 21, 2017            5  \n",
       "574   September 5, 2010           27  \n",
       "726     October 8, 2015            7  \n",
       "1070   November 1, 2013           81  \n",
       "1375   February 1, 2012            7  "
      ]
     },
     "execution_count": 25,
     "metadata": {},
     "output_type": "execute_result"
    }
   ],
   "source": [
    "df[df.duplicated(subset=df.columns.difference(['drugName']))].head()"
   ]
  },
  {
   "cell_type": "code",
   "execution_count": 26,
   "id": "d5bd30f8",
   "metadata": {},
   "outputs": [
    {
     "name": "stdout",
     "output_type": "stream",
     "text": [
      "\"First had implanon then got Nexplanon, had a period first month and I have not had one since. I&#039;m due to remove it next year.  I do notice spotting  sometimes for a day but it honestly  usually coincides with when I&#039;m stressed. \r\n",
      "Had some weight gain also.\r\n",
      "\r\n",
      "So far the best BC I&#039;ve  had in all my years.  I plan on trying for a baby next year then I will be back on it.\"\n"
     ]
    },
    {
     "data": {
      "text/html": [
       "<div>\n",
       "<style scoped>\n",
       "    .dataframe tbody tr th:only-of-type {\n",
       "        vertical-align: middle;\n",
       "    }\n",
       "\n",
       "    .dataframe tbody tr th {\n",
       "        vertical-align: top;\n",
       "    }\n",
       "\n",
       "    .dataframe thead th {\n",
       "        text-align: right;\n",
       "    }\n",
       "</style>\n",
       "<table border=\"1\" class=\"dataframe\">\n",
       "  <thead>\n",
       "    <tr style=\"text-align: right;\">\n",
       "      <th></th>\n",
       "      <th>drugName</th>\n",
       "      <th>condition</th>\n",
       "      <th>rating</th>\n",
       "      <th>date</th>\n",
       "      <th>usefulCount</th>\n",
       "    </tr>\n",
       "  </thead>\n",
       "  <tbody>\n",
       "    <tr>\n",
       "      <th>374</th>\n",
       "      <td>Etonogestrel</td>\n",
       "      <td>Birth Control</td>\n",
       "      <td>9.0</td>\n",
       "      <td>April 21, 2017</td>\n",
       "      <td>5</td>\n",
       "    </tr>\n",
       "    <tr>\n",
       "      <th>524</th>\n",
       "      <td>Nexplanon</td>\n",
       "      <td>Birth Control</td>\n",
       "      <td>9.0</td>\n",
       "      <td>April 21, 2017</td>\n",
       "      <td>5</td>\n",
       "    </tr>\n",
       "  </tbody>\n",
       "</table>\n",
       "</div>"
      ],
      "text/plain": [
       "         drugName      condition  rating            date  usefulCount\n",
       "374  Etonogestrel  Birth Control     9.0  April 21, 2017            5\n",
       "524     Nexplanon  Birth Control     9.0  April 21, 2017            5"
      ]
     },
     "metadata": {},
     "output_type": "display_data"
    }
   ],
   "source": [
    "show_review(524)"
   ]
  },
  {
   "cell_type": "code",
   "execution_count": 27,
   "id": "c4c8596a",
   "metadata": {},
   "outputs": [
    {
     "name": "stdout",
     "output_type": "stream",
     "text": [
      "\"Prescribed via a Psychiatrist for severe Panic attacks for 2 years.\r\n",
      "If I take dosage late or forget to take it the withdrawal symptoms kick in.  \r\n",
      "Gnawing physical pain, breathlessness, disorientation to time, difficulties in word finding while speaking, severe muscle pain and stiffness, nausea, labile emotions and panic.\r\n",
      "\r\n",
      "\"\n"
     ]
    },
    {
     "data": {
      "text/html": [
       "<div>\n",
       "<style scoped>\n",
       "    .dataframe tbody tr th:only-of-type {\n",
       "        vertical-align: middle;\n",
       "    }\n",
       "\n",
       "    .dataframe tbody tr th {\n",
       "        vertical-align: top;\n",
       "    }\n",
       "\n",
       "    .dataframe thead th {\n",
       "        text-align: right;\n",
       "    }\n",
       "</style>\n",
       "<table border=\"1\" class=\"dataframe\">\n",
       "  <thead>\n",
       "    <tr style=\"text-align: right;\">\n",
       "      <th></th>\n",
       "      <th>drugName</th>\n",
       "      <th>condition</th>\n",
       "      <th>rating</th>\n",
       "      <th>date</th>\n",
       "      <th>usefulCount</th>\n",
       "    </tr>\n",
       "  </thead>\n",
       "  <tbody>\n",
       "    <tr>\n",
       "      <th>321</th>\n",
       "      <td>Duloxetine</td>\n",
       "      <td>Anxiety</td>\n",
       "      <td>1.0</td>\n",
       "      <td>September 5, 2010</td>\n",
       "      <td>27</td>\n",
       "    </tr>\n",
       "    <tr>\n",
       "      <th>574</th>\n",
       "      <td>Cymbalta</td>\n",
       "      <td>Anxiety</td>\n",
       "      <td>1.0</td>\n",
       "      <td>September 5, 2010</td>\n",
       "      <td>27</td>\n",
       "    </tr>\n",
       "  </tbody>\n",
       "</table>\n",
       "</div>"
      ],
      "text/plain": [
       "       drugName condition  rating               date  usefulCount\n",
       "321  Duloxetine   Anxiety     1.0  September 5, 2010           27\n",
       "574    Cymbalta   Anxiety     1.0  September 5, 2010           27"
      ]
     },
     "metadata": {},
     "output_type": "display_data"
    }
   ],
   "source": [
    "show_review(574)"
   ]
  },
  {
   "cell_type": "code",
   "execution_count": 28,
   "id": "05befc0b",
   "metadata": {},
   "outputs": [
    {
     "name": "stdout",
     "output_type": "stream",
     "text": [
      "\"I have only been on orsythia for about 1 month and I just started my second week of my second month.  I guess I didn&#039;t notice earlier but I started to get slight headaches and I didn&#039;t feel very well physically and mentally.  It do help with my cramps and my period, not so much my acne but it&#039;s better.  The worst part of orsythia has to be the mood swings and the sweating!  I sweat a lot even if it&#039;s cold I&#039;ll start a light sweat, it&#039;s gross.  But the mood swings are the worst I just started feeling this and it happened while I was talking to one of my friends I just blew up on him, for no reason.  Then later on I started to feel really bad(mentally) and I cried for a while and I couldn&#039;t figure out why I was crying! I don&#039;t recommend!\"\n"
     ]
    },
    {
     "data": {
      "text/html": [
       "<div>\n",
       "<style scoped>\n",
       "    .dataframe tbody tr th:only-of-type {\n",
       "        vertical-align: middle;\n",
       "    }\n",
       "\n",
       "    .dataframe tbody tr th {\n",
       "        vertical-align: top;\n",
       "    }\n",
       "\n",
       "    .dataframe thead th {\n",
       "        text-align: right;\n",
       "    }\n",
       "</style>\n",
       "<table border=\"1\" class=\"dataframe\">\n",
       "  <thead>\n",
       "    <tr style=\"text-align: right;\">\n",
       "      <th></th>\n",
       "      <th>drugName</th>\n",
       "      <th>condition</th>\n",
       "      <th>rating</th>\n",
       "      <th>date</th>\n",
       "      <th>usefulCount</th>\n",
       "    </tr>\n",
       "  </thead>\n",
       "  <tbody>\n",
       "    <tr>\n",
       "      <th>378</th>\n",
       "      <td>Ethinyl estradiol / levonorgestrel</td>\n",
       "      <td>Birth Control</td>\n",
       "      <td>2.0</td>\n",
       "      <td>October 8, 2015</td>\n",
       "      <td>7</td>\n",
       "    </tr>\n",
       "    <tr>\n",
       "      <th>726</th>\n",
       "      <td>Orsythia</td>\n",
       "      <td>Birth Control</td>\n",
       "      <td>2.0</td>\n",
       "      <td>October 8, 2015</td>\n",
       "      <td>7</td>\n",
       "    </tr>\n",
       "  </tbody>\n",
       "</table>\n",
       "</div>"
      ],
      "text/plain": [
       "                               drugName      condition  rating  \\\n",
       "378  Ethinyl estradiol / levonorgestrel  Birth Control     2.0   \n",
       "726                            Orsythia  Birth Control     2.0   \n",
       "\n",
       "                date  usefulCount  \n",
       "378  October 8, 2015            7  \n",
       "726  October 8, 2015            7  "
      ]
     },
     "metadata": {},
     "output_type": "display_data"
    }
   ],
   "source": [
    "show_review(726)"
   ]
  },
  {
   "cell_type": "code",
   "execution_count": 29,
   "id": "4cf1f97a",
   "metadata": {},
   "outputs": [
    {
     "name": "stdout",
     "output_type": "stream",
     "text": [
      "\"I have suffered from severe anxiety (GAD) and was taking more and more Klonopin as time went on.  I am very sensitive to medication and have tried many different SSRI/SNRI&#039;s through the year with horrible side effects.  Finally, I had DNA testing to see what I would respond to and the result was Pristiq.  I started it several months ago in a small dose (I split the pills even though they say don&#039;t do this) and within a few days my anxiety literally went away.  I was able to cut my Klonopin in 1/2 over a two month period.  The first week or two I was extremely tired but that passed.  The only side effect I get from time to time is migraines.  It still amazes me that my anxiety has disappeared.  I no longer keep Klonopin in my  pocket!\"\n"
     ]
    },
    {
     "data": {
      "text/html": [
       "<div>\n",
       "<style scoped>\n",
       "    .dataframe tbody tr th:only-of-type {\n",
       "        vertical-align: middle;\n",
       "    }\n",
       "\n",
       "    .dataframe tbody tr th {\n",
       "        vertical-align: top;\n",
       "    }\n",
       "\n",
       "    .dataframe thead th {\n",
       "        text-align: right;\n",
       "    }\n",
       "</style>\n",
       "<table border=\"1\" class=\"dataframe\">\n",
       "  <thead>\n",
       "    <tr style=\"text-align: right;\">\n",
       "      <th></th>\n",
       "      <th>drugName</th>\n",
       "      <th>condition</th>\n",
       "      <th>rating</th>\n",
       "      <th>date</th>\n",
       "      <th>usefulCount</th>\n",
       "    </tr>\n",
       "  </thead>\n",
       "  <tbody>\n",
       "    <tr>\n",
       "      <th>855</th>\n",
       "      <td>Pristiq</td>\n",
       "      <td>Depression</td>\n",
       "      <td>8.0</td>\n",
       "      <td>November 1, 2013</td>\n",
       "      <td>81</td>\n",
       "    </tr>\n",
       "    <tr>\n",
       "      <th>1070</th>\n",
       "      <td>Desvenlafaxine</td>\n",
       "      <td>Depression</td>\n",
       "      <td>8.0</td>\n",
       "      <td>November 1, 2013</td>\n",
       "      <td>81</td>\n",
       "    </tr>\n",
       "  </tbody>\n",
       "</table>\n",
       "</div>"
      ],
      "text/plain": [
       "            drugName   condition  rating              date  usefulCount\n",
       "855          Pristiq  Depression     8.0  November 1, 2013           81\n",
       "1070  Desvenlafaxine  Depression     8.0  November 1, 2013           81"
      ]
     },
     "metadata": {},
     "output_type": "display_data"
    }
   ],
   "source": [
    "show_review(1070)"
   ]
  },
  {
   "cell_type": "code",
   "execution_count": 30,
   "id": "6552e976",
   "metadata": {},
   "outputs": [
    {
     "name": "stdout",
     "output_type": "stream",
     "text": [
      "\"I have been taking my first pack of Lo Loestrin Fe and I must say it really works for me. I was a little nervous at first because this is my first time taking birth control and I&#039;ve heard all the negative side effects of taking birth control. I have had spotting [brown-ish color] for three weeks after my period, but that&#039;s normal for the first month. I have breast tenderness and mood swings every now and then, then again it&#039;s expected for the first few months. I have not yet experienced any weight gain. So far I am satisfied, but I wish it wasn&#039;t so expensive.\"\n"
     ]
    },
    {
     "data": {
      "text/html": [
       "<div>\n",
       "<style scoped>\n",
       "    .dataframe tbody tr th:only-of-type {\n",
       "        vertical-align: middle;\n",
       "    }\n",
       "\n",
       "    .dataframe tbody tr th {\n",
       "        vertical-align: top;\n",
       "    }\n",
       "\n",
       "    .dataframe thead th {\n",
       "        text-align: right;\n",
       "    }\n",
       "</style>\n",
       "<table border=\"1\" class=\"dataframe\">\n",
       "  <thead>\n",
       "    <tr style=\"text-align: right;\">\n",
       "      <th></th>\n",
       "      <th>drugName</th>\n",
       "      <th>condition</th>\n",
       "      <th>rating</th>\n",
       "      <th>date</th>\n",
       "      <th>usefulCount</th>\n",
       "    </tr>\n",
       "  </thead>\n",
       "  <tbody>\n",
       "    <tr>\n",
       "      <th>609</th>\n",
       "      <td>Lo Loestrin Fe</td>\n",
       "      <td>Birth Control</td>\n",
       "      <td>8.0</td>\n",
       "      <td>February 1, 2012</td>\n",
       "      <td>7</td>\n",
       "    </tr>\n",
       "    <tr>\n",
       "      <th>1375</th>\n",
       "      <td>Ethinyl estradiol / norethindrone</td>\n",
       "      <td>Birth Control</td>\n",
       "      <td>8.0</td>\n",
       "      <td>February 1, 2012</td>\n",
       "      <td>7</td>\n",
       "    </tr>\n",
       "  </tbody>\n",
       "</table>\n",
       "</div>"
      ],
      "text/plain": [
       "                               drugName      condition  rating  \\\n",
       "609                      Lo Loestrin Fe  Birth Control     8.0   \n",
       "1375  Ethinyl estradiol / norethindrone  Birth Control     8.0   \n",
       "\n",
       "                  date  usefulCount  \n",
       "609   February 1, 2012            7  \n",
       "1375  February 1, 2012            7  "
      ]
     },
     "metadata": {},
     "output_type": "display_data"
    }
   ],
   "source": [
    "show_review(1375)"
   ]
  },
  {
   "cell_type": "markdown",
   "id": "f18b9196",
   "metadata": {},
   "source": [
    "These five examples make clear that the vast majority of duplicates are due to double-entry; (nearly) every review is entered once with its generic name and once with its brand name.\n",
    "\n",
    "We can use this phenomenon to restore some of the missing condition labels. If a missing condition label is part of such a unique pair, then we can confidently assign it the condition of its pair-mate.\n",
    "\n",
    "Let's broaded our search to records that duplicate every feature other than drug name and condition."
   ]
  },
  {
   "cell_type": "code",
   "execution_count": 31,
   "id": "05dc574c",
   "metadata": {},
   "outputs": [
    {
     "data": {
      "text/plain": [
       "86221"
      ]
     },
     "execution_count": 31,
     "metadata": {},
     "output_type": "execute_result"
    }
   ],
   "source": [
    "len(df[df.duplicated(subset=df.columns.difference(['drugName', 'condition']))])"
   ]
  },
  {
   "cell_type": "markdown",
   "id": "c14b7197",
   "metadata": {},
   "source": [
    "This is how many records are duplicates of other records in all values EXCEPT (POSSIBLY) drug name and condition. If a record is duplicated in this manner, the second (and third, fourth, etc.) instance will be captured in this bucket of dupes.\n",
    "\n",
    "If we check only this bucket for dupes, we can see whether there are any triplets, etc."
   ]
  },
  {
   "cell_type": "code",
   "execution_count": 32,
   "id": "c447254f",
   "metadata": {},
   "outputs": [],
   "source": [
    "df_dupes = df[df.duplicated(subset=df.columns.difference(['drugName', 'condition']))]"
   ]
  },
  {
   "cell_type": "code",
   "execution_count": 33,
   "id": "5d9acaba",
   "metadata": {},
   "outputs": [
    {
     "data": {
      "text/plain": [
       "1"
      ]
     },
     "execution_count": 33,
     "metadata": {},
     "output_type": "execute_result"
    }
   ],
   "source": [
    "len(df_dupes[df_dupes.duplicated(subset=df_dupes.columns.difference(['drugName', 'condition']))])"
   ]
  },
  {
   "cell_type": "markdown",
   "id": "1b23f6dc",
   "metadata": {},
   "source": [
    "There is only one."
   ]
  },
  {
   "cell_type": "code",
   "execution_count": 34,
   "id": "ac0bbef6",
   "metadata": {},
   "outputs": [
    {
     "data": {
      "text/html": [
       "<div>\n",
       "<style scoped>\n",
       "    .dataframe tbody tr th:only-of-type {\n",
       "        vertical-align: middle;\n",
       "    }\n",
       "\n",
       "    .dataframe tbody tr th {\n",
       "        vertical-align: top;\n",
       "    }\n",
       "\n",
       "    .dataframe thead th {\n",
       "        text-align: right;\n",
       "    }\n",
       "</style>\n",
       "<table border=\"1\" class=\"dataframe\">\n",
       "  <thead>\n",
       "    <tr style=\"text-align: right;\">\n",
       "      <th></th>\n",
       "      <th>drugName</th>\n",
       "      <th>condition</th>\n",
       "      <th>review</th>\n",
       "      <th>rating</th>\n",
       "      <th>date</th>\n",
       "      <th>usefulCount</th>\n",
       "    </tr>\n",
       "  </thead>\n",
       "  <tbody>\n",
       "    <tr>\n",
       "      <th>140144</th>\n",
       "      <td>Octreotide</td>\n",
       "      <td>Diabetes, Type 1</td>\n",
       "      <td>\"Great medicine. No side effects.\"</td>\n",
       "      <td>9.0</td>\n",
       "      <td>October 31, 2011</td>\n",
       "      <td>2</td>\n",
       "    </tr>\n",
       "  </tbody>\n",
       "</table>\n",
       "</div>"
      ],
      "text/plain": [
       "          drugName         condition                              review  \\\n",
       "140144  Octreotide  Diabetes, Type 1  \"Great medicine. No side effects.\"   \n",
       "\n",
       "        rating              date  usefulCount  \n",
       "140144     9.0  October 31, 2011            2  "
      ]
     },
     "execution_count": 34,
     "metadata": {},
     "output_type": "execute_result"
    }
   ],
   "source": [
    "df_dupes[df_dupes.duplicated(subset=df_dupes.columns.difference(['drugName', 'condition']))]"
   ]
  },
  {
   "cell_type": "code",
   "execution_count": 35,
   "id": "947554db",
   "metadata": {
    "scrolled": true
   },
   "outputs": [
    {
     "name": "stdout",
     "output_type": "stream",
     "text": [
      "\"Great medicine. No side effects.\"\n"
     ]
    },
    {
     "data": {
      "text/html": [
       "<div>\n",
       "<style scoped>\n",
       "    .dataframe tbody tr th:only-of-type {\n",
       "        vertical-align: middle;\n",
       "    }\n",
       "\n",
       "    .dataframe tbody tr th {\n",
       "        vertical-align: top;\n",
       "    }\n",
       "\n",
       "    .dataframe thead th {\n",
       "        text-align: right;\n",
       "    }\n",
       "</style>\n",
       "<table border=\"1\" class=\"dataframe\">\n",
       "  <thead>\n",
       "    <tr style=\"text-align: right;\">\n",
       "      <th></th>\n",
       "      <th>drugName</th>\n",
       "      <th>condition</th>\n",
       "      <th>rating</th>\n",
       "      <th>date</th>\n",
       "      <th>usefulCount</th>\n",
       "    </tr>\n",
       "  </thead>\n",
       "  <tbody>\n",
       "    <tr>\n",
       "      <th>39512</th>\n",
       "      <td>Reprexain</td>\n",
       "      <td>Pain</td>\n",
       "      <td>7.0</td>\n",
       "      <td>October 5, 2012</td>\n",
       "      <td>10</td>\n",
       "    </tr>\n",
       "    <tr>\n",
       "      <th>60998</th>\n",
       "      <td>Insulin regular</td>\n",
       "      <td>Diabetes, Type 1</td>\n",
       "      <td>9.0</td>\n",
       "      <td>October 31, 2011</td>\n",
       "      <td>2</td>\n",
       "    </tr>\n",
       "    <tr>\n",
       "      <th>119972</th>\n",
       "      <td>Insulin glulisine</td>\n",
       "      <td>Diabetes, Type 1</td>\n",
       "      <td>9.0</td>\n",
       "      <td>October 31, 2011</td>\n",
       "      <td>3</td>\n",
       "    </tr>\n",
       "    <tr>\n",
       "      <th>133212</th>\n",
       "      <td>Sandostatin</td>\n",
       "      <td>Diabetes, Type 1</td>\n",
       "      <td>9.0</td>\n",
       "      <td>October 31, 2011</td>\n",
       "      <td>2</td>\n",
       "    </tr>\n",
       "    <tr>\n",
       "      <th>140144</th>\n",
       "      <td>Octreotide</td>\n",
       "      <td>Diabetes, Type 1</td>\n",
       "      <td>9.0</td>\n",
       "      <td>October 31, 2011</td>\n",
       "      <td>2</td>\n",
       "    </tr>\n",
       "    <tr>\n",
       "      <th>141100</th>\n",
       "      <td>Insulin isophane / insulin regular</td>\n",
       "      <td>Diabetes, Type 1</td>\n",
       "      <td>9.0</td>\n",
       "      <td>October 31, 2011</td>\n",
       "      <td>10</td>\n",
       "    </tr>\n",
       "    <tr>\n",
       "      <th>148049</th>\n",
       "      <td>ReliOn / Novolin 70 / 30</td>\n",
       "      <td>Diabetes, Type 1</td>\n",
       "      <td>9.0</td>\n",
       "      <td>October 31, 2011</td>\n",
       "      <td>10</td>\n",
       "    </tr>\n",
       "    <tr>\n",
       "      <th>184262</th>\n",
       "      <td>Hydrocodone / ibuprofen</td>\n",
       "      <td>Pain</td>\n",
       "      <td>7.0</td>\n",
       "      <td>October 5, 2012</td>\n",
       "      <td>10</td>\n",
       "    </tr>\n",
       "  </tbody>\n",
       "</table>\n",
       "</div>"
      ],
      "text/plain": [
       "                                  drugName         condition  rating  \\\n",
       "39512                            Reprexain              Pain     7.0   \n",
       "60998                      Insulin regular  Diabetes, Type 1     9.0   \n",
       "119972                   Insulin glulisine  Diabetes, Type 1     9.0   \n",
       "133212                         Sandostatin  Diabetes, Type 1     9.0   \n",
       "140144                          Octreotide  Diabetes, Type 1     9.0   \n",
       "141100  Insulin isophane / insulin regular  Diabetes, Type 1     9.0   \n",
       "148049            ReliOn / Novolin 70 / 30  Diabetes, Type 1     9.0   \n",
       "184262             Hydrocodone / ibuprofen              Pain     7.0   \n",
       "\n",
       "                    date  usefulCount  \n",
       "39512    October 5, 2012           10  \n",
       "60998   October 31, 2011            2  \n",
       "119972  October 31, 2011            3  \n",
       "133212  October 31, 2011            2  \n",
       "140144  October 31, 2011            2  \n",
       "141100  October 31, 2011           10  \n",
       "148049  October 31, 2011           10  \n",
       "184262   October 5, 2012           10  "
      ]
     },
     "metadata": {},
     "output_type": "display_data"
    }
   ],
   "source": [
    "show_review(140144)"
   ]
  },
  {
   "cell_type": "markdown",
   "id": "46baa4d1",
   "metadata": {},
   "source": [
    "There are 6 records with the same review, date, rating, and condition. Because they're on the *same day*, it seems likely that these reviews were entered repeatedly by the same person. The two with a useful count of 10 are likely a brand/generic pair. As for the other 4, a possible explanation is that Sandostatin and Octreotide are brand names for the two types of insulin, and one of them somehow acquired an erroneous useful count. Let's reassign the useful count of Octreotide to 3 and let them pair off that way."
   ]
  },
  {
   "cell_type": "code",
   "execution_count": 36,
   "id": "ec646ecb",
   "metadata": {},
   "outputs": [],
   "source": [
    "df.at[140144, 'usefulCount'] = 3"
   ]
  },
  {
   "cell_type": "code",
   "execution_count": 37,
   "id": "abd5de4f",
   "metadata": {},
   "outputs": [
    {
     "name": "stdout",
     "output_type": "stream",
     "text": [
      "CPU times: user 10.9 s, sys: 85.2 ms, total: 10.9 s\n",
      "Wall time: 11.1 s\n"
     ]
    }
   ],
   "source": [
    "%%time\n",
    "# record the time for this cell -- 11.1 s\n",
    "\n",
    "# create stripped down dataframe that does not have drug names or conditions\n",
    "# we don't need these features for this operation because we're checking for matches on all other features\n",
    "df_pairs = df.drop(columns=['drugName', 'condition']).copy()\n",
    "\n",
    "# create a list of indices of records that duplicate everything other than drug name and condition\n",
    "df_dupes = df_pairs[df_pairs.duplicated()].index.tolist().copy()\n",
    "\n",
    "# create and populate a dictionary whose keys are dates and values are indices\n",
    "dates_bucket = {}\n",
    "# populate dictionary with keys that are dates belonging to the duplicates\n",
    "for date_ in list(set(df[df.index.isin(df_dupes)].date.tolist())):\n",
    "    dates_bucket[date_] = []\n",
    "# populate dictionary with values that are indices that are NOT from the duplicate list but DO share that date\n",
    "for i in df[~df.index.isin(df_dupes)].index:\n",
    "    dates_bucket[df.loc[i].date].append(i)"
   ]
  },
  {
   "cell_type": "code",
   "execution_count": 38,
   "id": "c85928ac",
   "metadata": {},
   "outputs": [
    {
     "name": "stdout",
     "output_type": "stream",
     "text": [
      "CPU times: user 2min 33s, sys: 590 ms, total: 2min 33s\n",
      "Wall time: 2min 35s\n"
     ]
    }
   ],
   "source": [
    "%%time\n",
    "# record the time for this cell -- 2min 37s\n",
    "\n",
    "# create a list of record pairs where each entry is a list of two indices\n",
    "pairs = []\n",
    "\n",
    "# iterate over the indices from the dupes list\n",
    "for i in df_dupes:\n",
    "    # set the date to the date from index i\n",
    "    date_i = df.loc[i].date\n",
    "    # iterate over OTHER indices who share that date\n",
    "    for j in dates_bucket[date_i]:\n",
    "        # check for a match\n",
    "        if df_pairs.loc[i].equals(df_pairs.loc[j]):\n",
    "            # remove this index from the dates dictionary so we have fewere to search through in later iterations\n",
    "            dates_bucket[date_i].remove(j)\n",
    "            # add this pair to the pairs list\n",
    "            pairs.append([i,j])\n",
    "            break"
   ]
  },
  {
   "cell_type": "code",
   "execution_count": 39,
   "id": "26f99a1e",
   "metadata": {},
   "outputs": [
    {
     "data": {
      "text/plain": [
       "[[524, 374],\n",
       " [574, 321],\n",
       " [726, 378],\n",
       " [1070, 855],\n",
       " [1375, 609],\n",
       " [1397, 1281],\n",
       " [1735, 1043],\n",
       " [1965, 299],\n",
       " [2014, 1844],\n",
       " [2091, 1609]]"
      ]
     },
     "execution_count": 39,
     "metadata": {},
     "output_type": "execute_result"
    }
   ],
   "source": [
    "pairs[:10]"
   ]
  },
  {
   "cell_type": "code",
   "execution_count": 40,
   "id": "ed85df61",
   "metadata": {},
   "outputs": [
    {
     "data": {
      "text/plain": [
       "3293"
      ]
     },
     "execution_count": 40,
     "metadata": {},
     "output_type": "execute_result"
    }
   ],
   "source": [
    "len(df[df.condition == 'missing'])"
   ]
  },
  {
   "cell_type": "code",
   "execution_count": 41,
   "id": "25a083b2",
   "metadata": {},
   "outputs": [
    {
     "name": "stdout",
     "output_type": "stream",
     "text": [
      "CPU times: user 7.11 s, sys: 35.4 ms, total: 7.14 s\n",
      "Wall time: 7.26 s\n"
     ]
    }
   ],
   "source": [
    "%%time\n",
    "# record the time for this cell -- 7.1 s\n",
    "\n",
    "# iterate over each record pair\n",
    "for pair in pairs:\n",
    "    # iterate over each member of the pair\n",
    "    for i in range(1):\n",
    "        # identify a pair member whose condition is missing\n",
    "        if df.loc[pair[i]].condition == 'missing':\n",
    "            # assign to the pair member the condition of its pair-mate\n",
    "            df.at[pair[i], 'condition'] = df.loc[pair[1-i]].condition"
   ]
  },
  {
   "cell_type": "code",
   "execution_count": 42,
   "id": "15d3af0f",
   "metadata": {},
   "outputs": [
    {
     "data": {
      "text/plain": [
       "3128"
      ]
     },
     "execution_count": 42,
     "metadata": {},
     "output_type": "execute_result"
    }
   ],
   "source": [
    "len(df[df.condition == 'missing'])"
   ]
  },
  {
   "cell_type": "code",
   "execution_count": 54,
   "id": "b4e28570",
   "metadata": {},
   "outputs": [],
   "source": [
    "df_learn = df.copy()\n",
    "df_learn.drop(df[~df.index.isin(df_dupes)].index, inplace=True)"
   ]
  },
  {
   "cell_type": "code",
   "execution_count": 44,
   "id": "b980f437",
   "metadata": {},
   "outputs": [
    {
     "data": {
      "text/plain": [
       "86221"
      ]
     },
     "execution_count": 44,
     "metadata": {},
     "output_type": "execute_result"
    }
   ],
   "source": [
    "len(pairs)"
   ]
  },
  {
   "cell_type": "code",
   "execution_count": 45,
   "id": "8a47f36f",
   "metadata": {},
   "outputs": [
    {
     "data": {
      "text/plain": [
       "86221"
      ]
     },
     "execution_count": 45,
     "metadata": {},
     "output_type": "execute_result"
    }
   ],
   "source": [
    "len(df_learn)"
   ]
  },
  {
   "cell_type": "code",
   "execution_count": 60,
   "id": "7797ccfb",
   "metadata": {},
   "outputs": [],
   "source": [
    "df_learn['brands'] = None"
   ]
  },
  {
   "cell_type": "code",
   "execution_count": 66,
   "id": "458330e5",
   "metadata": {},
   "outputs": [],
   "source": [
    "for pair in pairs:\n",
    "    label = set([df.loc[pair[0]].drugName, df.loc[pair[1]].drugName])\n",
    "    df_learn.at[pair[0], 'brands'] = label"
   ]
  },
  {
   "cell_type": "code",
   "execution_count": 67,
   "id": "d56f8a18",
   "metadata": {},
   "outputs": [
    {
     "data": {
      "text/plain": [
       "brands\n",
       "{Etonogestrel, Nexplanon}                                              2892\n",
       "{Levonorgestrel, Mirena}                                               1673\n",
       "{Implanon, Etonogestrel}                                               1506\n",
       "{Lexapro, Escitalopram}                                                1250\n",
       "{Bupropion / naltrexone, Contrave}                                     1215\n",
       "                                                                       ... \n",
       "{Afatinib, Gilotrif}                                                      1\n",
       "{Urso Forte, Ursodiol}                                                    1\n",
       "{Ibuprofen, Advil Migraine}                                               1\n",
       "{Acetaminophen, Feverall}                                                 1\n",
       "{Chlorpheniramine / methscopolamine / phenylephrine, Allergy DN PE}       1\n",
       "Name: count, Length: 2274, dtype: int64"
      ]
     },
     "execution_count": 67,
     "metadata": {},
     "output_type": "execute_result"
    }
   ],
   "source": [
    "df_learn.brands.value_counts()"
   ]
  },
  {
   "cell_type": "markdown",
   "id": "5a3f2252",
   "metadata": {},
   "source": [
    "## proposed solutions for missing values\n",
    "\n",
    "1. For every record with a missing condition, we will assign it the condition that is most common for the drug indicated by that record.\n",
    "\n",
    "2. Before executing solution 1, find each record's twin and use the condition label from the twin where applicable.\n",
    "\n",
    "For now, we'll just execute solution 2."
   ]
  },
  {
   "cell_type": "code",
   "execution_count": null,
   "id": "3f20442c",
   "metadata": {},
   "outputs": [],
   "source": [
    "drugs_w_missing_condition = list(set(df[df.condition == 'missing'].drugName))"
   ]
  },
  {
   "cell_type": "code",
   "execution_count": null,
   "id": "c59f3d21",
   "metadata": {},
   "outputs": [],
   "source": [
    "len(drugs_w_missing_condition)"
   ]
  },
  {
   "cell_type": "markdown",
   "id": "5226711e",
   "metadata": {},
   "source": [
    "This applies to about a quarter of the drugs. We'll create a dictionary that reports the most common condition for these drugs."
   ]
  },
  {
   "cell_type": "code",
   "execution_count": null,
   "id": "7def696a",
   "metadata": {},
   "outputs": [],
   "source": [
    "%%time\n",
    "# record the time for this cell -- 22.2 s\n",
    "\n",
    "most_common_condition = {}\n",
    "\n",
    "for drug in drugs_w_missing_condition:\n",
    "    condition = df[df.drugName == drug].condition.value_counts().idxmax()\n",
    "    if condition == 'missing' and len(set(df[df.drugName == drug].condition)) > 1:\n",
    "        condition = df[(df.drugName == drug) &\n",
    "                       (df.condition != 'missing')\n",
    "                      ].condition.value_counts().idxmax()\n",
    "    proportion = round(df[df.drugName == drug].condition.value_counts(normalize=True)[0],2)\n",
    "    most_common_condition[drug] = [condition, proportion]"
   ]
  },
  {
   "cell_type": "code",
   "execution_count": null,
   "id": "8bc19a51",
   "metadata": {},
   "outputs": [],
   "source": [
    "most_common_condition['Viagra']"
   ]
  },
  {
   "cell_type": "markdown",
   "id": "5ad1cafc",
   "metadata": {},
   "source": [
    "For example, if a review with an unlisted condition is about Viagra, we will assume the condition is Erectile Dysfunction."
   ]
  },
  {
   "cell_type": "code",
   "execution_count": null,
   "id": "2dd82de7",
   "metadata": {},
   "outputs": [],
   "source": [
    "df['condition'] = df.apply(lambda x: most_common_condition[x.drugName][0] \\\n",
    "                           if x.condition == 'missing' \\\n",
    "                           else x.condition, axis = 1)"
   ]
  },
  {
   "cell_type": "code",
   "execution_count": null,
   "id": "dfcd59a9",
   "metadata": {},
   "outputs": [],
   "source": [
    "len(df[df.condition == 'missing'])"
   ]
  },
  {
   "cell_type": "markdown",
   "id": "819903d3",
   "metadata": {},
   "source": [
    "This is how many records there are that still have no label for condition. This means the drugs indicated in these records are *only* indicated in references without an indicated condition. As such, there's not really anything we can do with these records, and we may as well drop them."
   ]
  },
  {
   "cell_type": "code",
   "execution_count": null,
   "id": "ce8664c6",
   "metadata": {},
   "outputs": [],
   "source": [
    "df.drop(df[df.condition == 'missing'].index, inplace=True)"
   ]
  },
  {
   "cell_type": "markdown",
   "id": "e75f2342",
   "metadata": {},
   "source": [
    "# further exploration of duplicates (skip for now)"
   ]
  },
  {
   "cell_type": "code",
   "execution_count": null,
   "id": "b0d0ab0a",
   "metadata": {},
   "outputs": [],
   "source": [
    "len(df[df.duplicated(subset=['drugName', 'condition', 'rating', 'date'])])"
   ]
  },
  {
   "cell_type": "markdown",
   "id": "3a8bc98e",
   "metadata": {},
   "source": [
    "That also seems like a lot. Let's explore these now."
   ]
  },
  {
   "cell_type": "code",
   "execution_count": null,
   "id": "154317b9",
   "metadata": {},
   "outputs": [],
   "source": [
    "df[df.duplicated(subset=['drugName', 'condition', 'rating', 'date'])].head()"
   ]
  },
  {
   "cell_type": "markdown",
   "id": "7642ead8",
   "metadata": {},
   "source": [
    "We'll use the \"show_similar\" function to explore these reviews that duplicate drug name"
   ]
  },
  {
   "cell_type": "code",
   "execution_count": null,
   "id": "3d2ba306",
   "metadata": {},
   "outputs": [],
   "source": [
    "show_similar(2450)"
   ]
  },
  {
   "cell_type": "code",
   "execution_count": null,
   "id": "a3d0fe05",
   "metadata": {},
   "outputs": [],
   "source": [
    "show_similar(3597)"
   ]
  },
  {
   "cell_type": "code",
   "execution_count": null,
   "id": "e9c23df5",
   "metadata": {},
   "outputs": [],
   "source": [
    "show_similar(4892)"
   ]
  },
  {
   "cell_type": "code",
   "execution_count": null,
   "id": "f29e8b84",
   "metadata": {},
   "outputs": [],
   "source": [
    "df[df.duplicated(subset=['drugName', 'condition', 'rating', 'date'])].rating.value_counts()"
   ]
  },
  {
   "cell_type": "code",
   "execution_count": null,
   "id": "23f55447",
   "metadata": {},
   "outputs": [],
   "source": [
    "df[\n",
    "    (df.drugName == df.loc[8576].drugName) & \\\n",
    "    (df.condition == df.loc[8576].condition) & \\\n",
    "    (df.date == df.loc[8576].date)\n",
    "    \n",
    "]"
   ]
  },
  {
   "cell_type": "code",
   "execution_count": null,
   "id": "3a1141cb",
   "metadata": {},
   "outputs": [],
   "source": [
    "df[(df.drugName == 'Miconazole') & \\\n",
    "   (df.condition == 'Vaginal Yeast Infection') & \\\n",
    "   (df.rating == 1.0) & \\\n",
    "   (df.date == 'May 25, 2016') & \\\n",
    "   (df.usefulCount == 6) \\\n",
    "  ]"
   ]
  },
  {
   "cell_type": "code",
   "execution_count": null,
   "id": "c228398b",
   "metadata": {},
   "outputs": [],
   "source": [
    "show_review(8737)"
   ]
  },
  {
   "cell_type": "code",
   "execution_count": null,
   "id": "052e297a",
   "metadata": {},
   "outputs": [],
   "source": [
    "len(df[df.duplicated(subset=['review'])])"
   ]
  },
  {
   "cell_type": "markdown",
   "id": "09a0e233",
   "metadata": {},
   "source": [
    "An enormous number of records have duplicated reviews."
   ]
  },
  {
   "cell_type": "code",
   "execution_count": null,
   "id": "04e99d3b",
   "metadata": {},
   "outputs": [],
   "source": [
    "show_review(524)"
   ]
  },
  {
   "cell_type": "code",
   "execution_count": null,
   "id": "270aea4b",
   "metadata": {},
   "outputs": [],
   "source": [
    "show_review(574)"
   ]
  },
  {
   "cell_type": "code",
   "execution_count": null,
   "id": "3f05963f",
   "metadata": {},
   "outputs": [],
   "source": [
    "show_review(726)"
   ]
  },
  {
   "cell_type": "code",
   "execution_count": null,
   "id": "7449a1b9",
   "metadata": {},
   "outputs": [],
   "source": [
    "show_review(1070)"
   ]
  },
  {
   "cell_type": "code",
   "execution_count": null,
   "id": "a206220f",
   "metadata": {},
   "outputs": [],
   "source": [
    "show_review(1375)"
   ]
  },
  {
   "cell_type": "markdown",
   "id": "2fac6b56",
   "metadata": {},
   "source": [
    "In all of the instances we checked, the duplicated record occurs because it is listed once under its chemical name and once under its brand name. We'll assume this is mostly the reason for the vast majority of review duplications and deal with them after we address other types of review duplications."
   ]
  },
  {
   "cell_type": "code",
   "execution_count": null,
   "id": "22d5ebe3",
   "metadata": {},
   "outputs": [],
   "source": [
    "len(df[(df.duplicated(subset=['review'])) &\n",
    "   ~df.duplicated(subset=df.columns.difference(['drugName']))\n",
    "  ])"
   ]
  },
  {
   "cell_type": "markdown",
   "id": "c7df08b6",
   "metadata": {},
   "source": [
    "This is how many records have identical reviews but differences *other than the drug name*. Let's explore a few of these."
   ]
  },
  {
   "cell_type": "code",
   "execution_count": null,
   "id": "91219fc9",
   "metadata": {},
   "outputs": [],
   "source": [
    "df[(df.duplicated(subset=['review'])) &\n",
    "   ~df.duplicated(subset=df.columns.difference(['drugName']))\n",
    "  ].head(15)"
   ]
  },
  {
   "cell_type": "code",
   "execution_count": null,
   "id": "5b1422d6",
   "metadata": {},
   "outputs": [],
   "source": [
    "show_review(2664)"
   ]
  },
  {
   "cell_type": "code",
   "execution_count": null,
   "id": "0b6897fd",
   "metadata": {},
   "outputs": [],
   "source": [
    "show_review(6465)"
   ]
  },
  {
   "cell_type": "code",
   "execution_count": null,
   "id": "1d4b93a4",
   "metadata": {},
   "outputs": [],
   "source": [
    "show_review(9735)"
   ]
  },
  {
   "cell_type": "code",
   "execution_count": null,
   "id": "2124d103",
   "metadata": {},
   "outputs": [],
   "source": [
    "show_review(13125)"
   ]
  },
  {
   "cell_type": "markdown",
   "id": "953749cf",
   "metadata": {},
   "source": [
    "Some of these are just common, short reviews, e.g. \"Great\". But others seem to have issues with the condition label as well.\n",
    "\n",
    "We found earlier that many duplicate reviews come in pairs where the drug name is generic and brand name in the two records. It seems that more of these pairs exist in instances where the condition is \"missing\" for some reason. Where this specific phenomenon occurs, we'll relabel the condition to match its partner in the pair. This will reduce the number of \"missing\" conditions but increase the number of duplicate pairs."
   ]
  },
  {
   "cell_type": "code",
   "execution_count": null,
   "id": "10453902",
   "metadata": {},
   "outputs": [],
   "source": [
    "len(df[df.condition == 'missing'])"
   ]
  },
  {
   "cell_type": "code",
   "execution_count": null,
   "id": "df71deed",
   "metadata": {},
   "outputs": [],
   "source": [
    "len(df[df.duplicated(subset=df.columns.difference(['drugName']))])"
   ]
  },
  {
   "cell_type": "code",
   "execution_count": null,
   "id": "c28cefb7",
   "metadata": {},
   "outputs": [],
   "source": [
    "len(df[df.duplicated(subset=df.columns.difference(['condition']))])"
   ]
  },
  {
   "cell_type": "code",
   "execution_count": null,
   "id": "add4581c",
   "metadata": {},
   "outputs": [],
   "source": [
    "len(df[df.duplicated(subset=df.columns.difference(['rating']))])"
   ]
  },
  {
   "cell_type": "code",
   "execution_count": null,
   "id": "133963fd",
   "metadata": {},
   "outputs": [],
   "source": [
    "len(df[df.duplicated(subset=df.columns.difference(['date']))])"
   ]
  },
  {
   "cell_type": "code",
   "execution_count": null,
   "id": "fad4fef3",
   "metadata": {},
   "outputs": [],
   "source": [
    "len(df[df.duplicated(subset=df.columns.difference(['usefulCount']))])"
   ]
  },
  {
   "cell_type": "code",
   "execution_count": null,
   "id": "c767a7ef",
   "metadata": {},
   "outputs": [],
   "source": [
    "df[df.duplicated(subset=df.columns.difference(['usefulCount']))].head()"
   ]
  },
  {
   "cell_type": "code",
   "execution_count": null,
   "id": "350bcb43",
   "metadata": {},
   "outputs": [],
   "source": [
    "show_review(33451)"
   ]
  },
  {
   "cell_type": "code",
   "execution_count": null,
   "id": "86ca3339",
   "metadata": {},
   "outputs": [],
   "source": [
    "show_review(42728)"
   ]
  },
  {
   "cell_type": "code",
   "execution_count": null,
   "id": "b76deed4",
   "metadata": {},
   "outputs": [],
   "source": [
    "show_review(61617)"
   ]
  },
  {
   "cell_type": "code",
   "execution_count": null,
   "id": "5080a3f3",
   "metadata": {},
   "outputs": [],
   "source": [
    "show_review(69518)"
   ]
  },
  {
   "cell_type": "code",
   "execution_count": null,
   "id": "b8c323b9",
   "metadata": {},
   "outputs": [],
   "source": [
    "show_review(72794)"
   ]
  },
  {
   "cell_type": "markdown",
   "id": "7be9ea4f",
   "metadata": {},
   "source": [
    "This appears to be an instance of someone re-posting a review multiple times. It seems that we should drop the duplicates in this case, but possibly we should tally up the useful count?"
   ]
  },
  {
   "cell_type": "markdown",
   "id": "88cd7c50",
   "metadata": {},
   "source": [
    "# contractions\n",
    "\n",
    "Here is an example of a contraction."
   ]
  },
  {
   "cell_type": "code",
   "execution_count": null,
   "id": "02253131",
   "metadata": {},
   "outputs": [],
   "source": [
    "df.review[3][56:69]"
   ]
  },
  {
   "cell_type": "markdown",
   "id": "0b93bce8",
   "metadata": {},
   "source": [
    "Here is how the html function fixes it."
   ]
  },
  {
   "cell_type": "code",
   "execution_count": null,
   "id": "214853b5",
   "metadata": {},
   "outputs": [],
   "source": [
    "html.unescape(df.loc[3][2])[56:64]"
   ]
  },
  {
   "cell_type": "markdown",
   "id": "9a2697cf",
   "metadata": {},
   "source": [
    "Here is how the contractions function fixes (the html function's fix of) it."
   ]
  },
  {
   "cell_type": "code",
   "execution_count": null,
   "id": "5d8c2d92",
   "metadata": {},
   "outputs": [],
   "source": [
    "contractions.fix(html.unescape(df.loc[3][2]))[56:65]"
   ]
  },
  {
   "cell_type": "markdown",
   "id": "ce89b798",
   "metadata": {},
   "source": [
    "Here is an instance of \"ain't\" with the same functions applied."
   ]
  },
  {
   "cell_type": "code",
   "execution_count": null,
   "id": "0a892e7f",
   "metadata": {},
   "outputs": [],
   "source": [
    "df.review.loc[507][75:99]"
   ]
  },
  {
   "cell_type": "code",
   "execution_count": null,
   "id": "ae14f367",
   "metadata": {},
   "outputs": [],
   "source": [
    "html.unescape(df.review.loc[507])[75:94]"
   ]
  },
  {
   "cell_type": "code",
   "execution_count": null,
   "id": "4a32bb9a",
   "metadata": {},
   "outputs": [],
   "source": [
    "contractions.fix(html.unescape(df.review.loc[507]))[75:96]"
   ]
  },
  {
   "cell_type": "code",
   "execution_count": null,
   "id": "920360d2",
   "metadata": {},
   "outputs": [],
   "source": [
    "len(df[df.review.str.contains('ain&#039;t')])"
   ]
  },
  {
   "cell_type": "markdown",
   "id": "60e71b28",
   "metadata": {},
   "source": [
    "There are 53 instances of \"ain't\".\n",
    "\n",
    "I'm currently having difficulty downloading the package that appropriately fixes \"ain't\" into \"is not\" or \"are not\" etc. This shouldn't matter after I remove stop words. I think it will be helpful to exclude negatives like \"no\" and \"not\" from the stop words. It could certainly be of help to look for bigrams like \"not good\"."
   ]
  },
  {
   "cell_type": "code",
   "execution_count": null,
   "id": "10ae729d",
   "metadata": {},
   "outputs": [],
   "source": [
    "df.review = df.review.apply(lambda x: html.unescape(x))"
   ]
  },
  {
   "cell_type": "markdown",
   "id": "4b2221fe",
   "metadata": {},
   "source": [
    "# dates"
   ]
  },
  {
   "cell_type": "code",
   "execution_count": null,
   "id": "b511db72",
   "metadata": {},
   "outputs": [],
   "source": [
    "sample = df.date.loc[0]"
   ]
  },
  {
   "cell_type": "code",
   "execution_count": null,
   "id": "c5e40f9f",
   "metadata": {},
   "outputs": [],
   "source": [
    "sample"
   ]
  },
  {
   "cell_type": "code",
   "execution_count": null,
   "id": "2668e455",
   "metadata": {},
   "outputs": [],
   "source": [
    "re.split(r'\\W+', sample)"
   ]
  },
  {
   "cell_type": "markdown",
   "id": "42e3e838",
   "metadata": {},
   "source": [
    "There's probably a datetime method for this, but the following will produce month // day // year, and then we can figure out the earliest and latest dates."
   ]
  },
  {
   "cell_type": "code",
   "execution_count": null,
   "id": "010efd26",
   "metadata": {},
   "outputs": [],
   "source": [
    "df['month'] = df.date.apply(lambda x: re.split(r'\\W+', x)[0])\n",
    "df['day'] = df.date.apply(lambda x: int(re.split(r'\\W+', x)[1]))\n",
    "df['year'] = df.date.apply(lambda x: int(re.split(r'\\W+', x)[2]))"
   ]
  },
  {
   "cell_type": "code",
   "execution_count": null,
   "id": "d4b66ccf",
   "metadata": {},
   "outputs": [],
   "source": [
    "df.year.min()"
   ]
  },
  {
   "cell_type": "code",
   "execution_count": null,
   "id": "e36871ca",
   "metadata": {},
   "outputs": [],
   "source": [
    "df[df.year == 2008].month.value_counts()"
   ]
  },
  {
   "cell_type": "code",
   "execution_count": null,
   "id": "8a663cc4",
   "metadata": {},
   "outputs": [],
   "source": [
    "df[(df.year == 2008) &\n",
    "   (df.month == 'February')\n",
    "  ].day.min()"
   ]
  },
  {
   "cell_type": "code",
   "execution_count": null,
   "id": "afe5fdc9",
   "metadata": {},
   "outputs": [],
   "source": [
    "df.year.max()"
   ]
  },
  {
   "cell_type": "code",
   "execution_count": null,
   "id": "8cb7db31",
   "metadata": {},
   "outputs": [],
   "source": [
    "df[df.year == 2017].month.value_counts()"
   ]
  },
  {
   "cell_type": "code",
   "execution_count": null,
   "id": "fc7611c3",
   "metadata": {},
   "outputs": [],
   "source": [
    "df[(df.year == 2017) &\n",
    "   (df.month == 'November')\n",
    "  ].day.max()"
   ]
  },
  {
   "cell_type": "markdown",
   "id": "d51234de",
   "metadata": {},
   "source": [
    "The reviews span from February 24, 2008 to November 30, 2017."
   ]
  },
  {
   "cell_type": "markdown",
   "id": "50ab793a",
   "metadata": {},
   "source": [
    "# ratings"
   ]
  },
  {
   "cell_type": "code",
   "execution_count": null,
   "id": "5e778280",
   "metadata": {},
   "outputs": [],
   "source": [
    "len(df)/2"
   ]
  },
  {
   "cell_type": "code",
   "execution_count": null,
   "id": "cc09560b",
   "metadata": {},
   "outputs": [],
   "source": [
    "df.rating.value_counts()"
   ]
  },
  {
   "cell_type": "code",
   "execution_count": null,
   "id": "3b65ae84",
   "metadata": {},
   "outputs": [],
   "source": [
    "len(df[df.rating > 8.5])"
   ]
  },
  {
   "cell_type": "code",
   "execution_count": null,
   "id": "fdc49764",
   "metadata": {},
   "outputs": [],
   "source": [
    "len(df[df.rating < 8.5])"
   ]
  },
  {
   "cell_type": "markdown",
   "id": "cca5c119",
   "metadata": {},
   "source": [
    "To split the review roughly in half we would split between 8 and 9"
   ]
  },
  {
   "cell_type": "markdown",
   "id": "8e1a8297",
   "metadata": {},
   "source": [
    "To split the ratings roughly in half we would make the splits 1-8 and 9-10."
   ]
  },
  {
   "cell_type": "code",
   "execution_count": null,
   "id": "aa5a91e9",
   "metadata": {},
   "outputs": [],
   "source": [
    "len(df)/3"
   ]
  },
  {
   "cell_type": "code",
   "execution_count": null,
   "id": "4e8cff55",
   "metadata": {},
   "outputs": [],
   "source": [
    "len(df[df.rating > 9.5])"
   ]
  },
  {
   "cell_type": "code",
   "execution_count": null,
   "id": "6d28893d",
   "metadata": {},
   "outputs": [],
   "source": [
    "len(df[df.rating < 6.5])"
   ]
  },
  {
   "cell_type": "markdown",
   "id": "0d13deb0",
   "metadata": {},
   "source": [
    "To split the ratings roughly in thirds we would make the splits 1-6, 7-9, and 10."
   ]
  },
  {
   "cell_type": "markdown",
   "id": "276ba5b3",
   "metadata": {},
   "source": [
    "# focusing on birth control"
   ]
  },
  {
   "cell_type": "code",
   "execution_count": null,
   "id": "2d4a20c5",
   "metadata": {},
   "outputs": [],
   "source": [
    "len(df[df.condition == 'Birth Control'])"
   ]
  },
  {
   "cell_type": "markdown",
   "id": "94b46c2b",
   "metadata": {},
   "source": [
    "This many records pertain to the condition of birth control."
   ]
  },
  {
   "cell_type": "code",
   "execution_count": null,
   "id": "1778b478",
   "metadata": {},
   "outputs": [],
   "source": [
    "birth_control_drugs = set(df[df.condition == 'Birth Control'].drugName)"
   ]
  },
  {
   "cell_type": "code",
   "execution_count": null,
   "id": "347ea4c3",
   "metadata": {},
   "outputs": [],
   "source": [
    "len(birth_control_drugs)"
   ]
  },
  {
   "cell_type": "markdown",
   "id": "ea97c662",
   "metadata": {},
   "source": [
    "This many drugs treat birth control."
   ]
  },
  {
   "cell_type": "code",
   "execution_count": null,
   "id": "48c0ac1f",
   "metadata": {},
   "outputs": [],
   "source": [
    "df[df.condition == 'Birth Control'].drugName.value_counts()"
   ]
  },
  {
   "cell_type": "markdown",
   "id": "ae4506cd",
   "metadata": {},
   "source": [
    "These are the most frequent drug names that treat birth control."
   ]
  },
  {
   "cell_type": "code",
   "execution_count": null,
   "id": "9b3b0481",
   "metadata": {},
   "outputs": [],
   "source": [
    "list(set(df[(df.condition != 'Birth Control') &\n",
    "   (df.drugName.isin(birth_control_drugs))\n",
    "  ].condition))"
   ]
  },
  {
   "cell_type": "markdown",
   "id": "904f562e",
   "metadata": {},
   "source": [
    "These are other conditions that are (at least sometimes) treated by drugs that (also) treat birth control."
   ]
  },
  {
   "cell_type": "markdown",
   "id": "a776dbe8",
   "metadata": {},
   "source": [
    "# save and reload preprocessed set\n",
    "\n",
    "At this stage we will save and reload the preprocessed set in order to avoid taking the time to repeat earlier work everytime we open the notebook.\n",
    "\n",
    "The saved version has restored or deleted all records with missing condition labels.\n",
    "\n",
    "We have established pairs in the list `twins` but we have NOT yet deleted either member of any pair or dealt with the confusion between brand and generic drug names.\n",
    "\n",
    "The size of the dateframe is nearly the same as its original version, roughly 215,000 records."
   ]
  },
  {
   "cell_type": "code",
   "execution_count": null,
   "id": "5f4a623d",
   "metadata": {},
   "outputs": [],
   "source": [
    "filepath = Path('../data/preprocessed.csv')\n",
    "filepath.parent.mkdir(parents=True, exist_ok=True)\n",
    "df.to_csv(filepath)"
   ]
  },
  {
   "cell_type": "code",
   "execution_count": null,
   "id": "5d1c0014",
   "metadata": {},
   "outputs": [],
   "source": [
    "%store twins"
   ]
  },
  {
   "cell_type": "code",
   "execution_count": null,
   "id": "1c117d3e",
   "metadata": {},
   "outputs": [],
   "source": [
    "df = pd.read_csv('../data/preprocessed.csv')\n",
    "df.drop(columns='Unnamed: 0', inplace=True)"
   ]
  },
  {
   "cell_type": "code",
   "execution_count": null,
   "id": "e30ef121",
   "metadata": {},
   "outputs": [],
   "source": [
    "%store -r twins"
   ]
  },
  {
   "cell_type": "markdown",
   "id": "a51eddd2",
   "metadata": {},
   "source": [
    "# feature engineering ideas\n",
    "\n",
    "- word count\n",
    "- character count\n",
    "- words in all caps\n",
    "- average word length\n",
    "- whether words are in English (spelled correctly)\n",
    "- whether it includes characters such as exclamation points, question marks, (especially repeatedly), and emoticons\n",
    "- whether it mentions the brand or generic name in the review"
   ]
  },
  {
   "cell_type": "markdown",
   "id": "427ef7ac",
   "metadata": {},
   "source": [
    "# truncate to just birth control"
   ]
  },
  {
   "cell_type": "code",
   "execution_count": null,
   "id": "140bc35f",
   "metadata": {},
   "outputs": [],
   "source": [
    "df.drop(df[df.condition != 'Birth Control'].index, inplace=True)"
   ]
  },
  {
   "cell_type": "code",
   "execution_count": null,
   "id": "a1a00b0b",
   "metadata": {},
   "outputs": [],
   "source": [
    "df.drop(columns='condition', inplace=True)"
   ]
  },
  {
   "cell_type": "code",
   "execution_count": null,
   "id": "23b3d026",
   "metadata": {},
   "outputs": [],
   "source": [
    "len(df)"
   ]
  },
  {
   "cell_type": "code",
   "execution_count": null,
   "id": "a5e15e60",
   "metadata": {},
   "outputs": [],
   "source": [
    "df.reset_index(inplace=True)"
   ]
  },
  {
   "cell_type": "code",
   "execution_count": null,
   "id": "c1ef4ea6",
   "metadata": {},
   "outputs": [],
   "source": [
    "df.drop(columns='index', inplace=True)"
   ]
  },
  {
   "cell_type": "markdown",
   "id": "1453bb09",
   "metadata": {},
   "source": [
    "# delete duplicates (one of each twin)"
   ]
  },
  {
   "cell_type": "markdown",
   "id": "1d85f018",
   "metadata": {},
   "source": [
    "# rudimentary word cloud maker"
   ]
  },
  {
   "cell_type": "code",
   "execution_count": null,
   "id": "2fac6016",
   "metadata": {},
   "outputs": [],
   "source": [
    "df['review'] = df['review'].str.lower()"
   ]
  },
  {
   "cell_type": "code",
   "execution_count": null,
   "id": "0a518882",
   "metadata": {},
   "outputs": [],
   "source": [
    "dfbc = df[df.condition == 'Birth Control']\n",
    "\n",
    "dfbc['sentiment'] = dfbc.rating.apply(lambda x: 1 if x > 5 else 0)\n",
    "\n",
    "dfbcpos = df[\n",
    "    (df.condition == 'Birth Control') & \\\n",
    "    (df.rating > 9.5)\n",
    "]\n",
    "\n",
    "dfbcneg = df[\n",
    "    (df.condition == 'Birth Control') & \\\n",
    "    (df.rating < 6.5)\n",
    "]"
   ]
  },
  {
   "cell_type": "code",
   "execution_count": null,
   "id": "2c42552b",
   "metadata": {},
   "outputs": [],
   "source": [
    "# make list of all reviews\n",
    "reviews_pos = dfbcpos.review.to_list()\n",
    "reviews_neg = dfbcneg.review.to_list()"
   ]
  },
  {
   "cell_type": "code",
   "execution_count": null,
   "id": "46988b0b",
   "metadata": {},
   "outputs": [],
   "source": [
    "# # make tokenizer\n",
    "# tokenizer = TweetTokenizer(\n",
    "#     preserve_case=False,\n",
    "#     strip_handles=True\n",
    "# )\n",
    "\n",
    "# create list of tokens from data set\n",
    "tokens_pos = word_tokenize(','.join(reviews_pos))\n",
    "tokens_neg = word_tokenize(','.join(reviews_neg))\n",
    "\n",
    "\n",
    "# tokens = [word for word in tokens]"
   ]
  },
  {
   "cell_type": "code",
   "execution_count": null,
   "id": "70dd9834",
   "metadata": {},
   "outputs": [],
   "source": [
    "# make lemmatizer\n",
    "lemmatizer = WordNetLemmatizer()\n",
    "\n",
    "# lemmatize the list of words\n",
    "tokens_lemmatized_pos = [lemmatizer.lemmatize(word) for word in tokens_pos]\n",
    "tokens_lemmatized_neg = [lemmatizer.lemmatize(word) for word in tokens_neg]"
   ]
  },
  {
   "cell_type": "code",
   "execution_count": null,
   "id": "90d08ebc",
   "metadata": {},
   "outputs": [],
   "source": [
    "# show the most frequently occurring tokens\n",
    "FreqDist(tokens_lemmatized_pos).most_common(25)"
   ]
  },
  {
   "cell_type": "code",
   "execution_count": null,
   "id": "09d612b0",
   "metadata": {},
   "outputs": [],
   "source": [
    "# show the most frequently occurring tokens\n",
    "FreqDist(tokens_lemmatized_neg).most_common(25)"
   ]
  },
  {
   "cell_type": "code",
   "execution_count": null,
   "id": "6709a969",
   "metadata": {},
   "outputs": [],
   "source": [
    "negatives = ['no', 'not', \"don't\", \"aren't\", \"couldn't\", \"didn't\", \"doesn't\", \"hadn't\", \"hasn't\", \"haven't\", \\\n",
    "             \"isn't\", \"wasn't\", \"weren't\", \"won't\", \"wouldn't\"]"
   ]
  },
  {
   "cell_type": "code",
   "execution_count": null,
   "id": "7c0fef55",
   "metadata": {},
   "outputs": [],
   "source": [
    "# obtain the standard list of stopwords\n",
    "nltk.download('stopwords', quiet=True)\n",
    "# start our own list of stopwords with these words\n",
    "stop_list = [word for word in stopwords.words('english') if word not in negatives]\n",
    "# add punctuation characters\n",
    "for char in string.punctuation:\n",
    "    stop_list.append(char)\n",
    "# add empty string\n",
    "stop_list.extend(['', 'ha', 'wa'])"
   ]
  },
  {
   "cell_type": "code",
   "execution_count": null,
   "id": "f25c486f",
   "metadata": {},
   "outputs": [],
   "source": [
    "stop_list"
   ]
  },
  {
   "cell_type": "code",
   "execution_count": null,
   "id": "1a572461",
   "metadata": {},
   "outputs": [],
   "source": [
    "# make stopped list of tokens\n",
    "tokens_stopped_pos = [word for word in tokens_lemmatized_pos if word not in stop_list]\n",
    "tokens_stopped_neg = [word for word in tokens_lemmatized_neg if word not in stop_list]"
   ]
  },
  {
   "cell_type": "code",
   "execution_count": null,
   "id": "14be17b5",
   "metadata": {},
   "outputs": [],
   "source": [
    "# show the most frequently occurring tokens\n",
    "FreqDist(tokens_stopped_pos).most_common(25)"
   ]
  },
  {
   "cell_type": "code",
   "execution_count": null,
   "id": "56319623",
   "metadata": {},
   "outputs": [],
   "source": [
    "# show the most frequently occurring tokens\n",
    "FreqDist(tokens_stopped_neg).most_common(25)"
   ]
  },
  {
   "cell_type": "code",
   "execution_count": null,
   "id": "8289b254",
   "metadata": {},
   "outputs": [],
   "source": [
    "# a function that generates a word cloud of a given list of words\n",
    "def make_wordcloud(wordlist, colormap='Greens', title=None):\n",
    "    # instantiate wordcloud\n",
    "    wordcloud = WordCloud(\n",
    "        width=600,\n",
    "        height=400,\n",
    "        colormap=colormap,\n",
    "        collocations = True\n",
    "    )\n",
    "    return wordcloud.generate(','.join(wordlist))\n",
    "\n",
    "def plot_wordcloud(wordcloud):\n",
    "    # plot wordcloud\n",
    "    plt.figure(figsize = (12, 15)) \n",
    "    plt.imshow(wordcloud) \n",
    "    plt.axis('off');"
   ]
  },
  {
   "cell_type": "code",
   "execution_count": null,
   "id": "8115cbf8",
   "metadata": {},
   "outputs": [],
   "source": [
    "# word cloud of stopped words\n",
    "plot_wordcloud(make_wordcloud(tokens_stopped_pos))"
   ]
  },
  {
   "cell_type": "code",
   "execution_count": null,
   "id": "12ac6836",
   "metadata": {},
   "outputs": [],
   "source": [
    "# word cloud of stopped words\n",
    "plot_wordcloud(make_wordcloud(tokens_stopped_neg))"
   ]
  },
  {
   "cell_type": "markdown",
   "id": "185c4d74",
   "metadata": {},
   "source": [
    "# end"
   ]
  }
 ],
 "metadata": {
  "kernelspec": {
   "display_name": "Python (learn-env)",
   "language": "python",
   "name": "learn-env"
  },
  "language_info": {
   "codemirror_mode": {
    "name": "ipython",
    "version": 3
   },
   "file_extension": ".py",
   "mimetype": "text/x-python",
   "name": "python",
   "nbconvert_exporter": "python",
   "pygments_lexer": "ipython3",
   "version": "3.8.5"
  }
 },
 "nbformat": 4,
 "nbformat_minor": 5
}
