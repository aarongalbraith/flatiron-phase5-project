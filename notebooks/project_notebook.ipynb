{
 "cells": [
  {
   "cell_type": "markdown",
   "id": "a8d06141",
   "metadata": {},
   "source": [
    "https://archive.ics.uci.edu/dataset/462/drug+review+dataset+drugs+com"
   ]
  },
  {
   "cell_type": "markdown",
   "id": "38e70705",
   "metadata": {},
   "source": [
    "# Flatiron Phase 5 Project\n",
    "\n",
    "## Aaron Galbraith\n",
    "\n",
    "https://www.linkedin.com/in/aarongalbraith \\\n",
    "https://github.com/aarongalbraith\n",
    "\n",
    "### Submitted: November 21, 2023\n",
    "\n",
    "## working contents\n",
    "\n",
    "- **[functions](#functions)<br>**\n",
    "- **[rough overview](#rough-overview)<br>**\n",
    "- **[missing values](#missing-values)<br>**\n",
    "- **[duplicates](#duplicates)<br>**\n",
    "- **[brand / generic pairs](#brand-/-generic-pairs)<br>**\n",
    "- **[further exploration of duplicates (skip for now)](#further-exploration-of-duplicates-(skip-for-now))<br>**\n",
    "- **[contractions](#contractions)<br>**\n",
    "- **[dates](#dates)<br>**\n",
    "- **[ratings](#ratings)<br>**\n",
    "- **[focusing on birth control](#focusing-on-birth-control)<br>**\n",
    "- **[save and reload preprocessed set](#save-and-reload-preprocessed-set)<br>**\n",
    "- **[feature engineering ideas](#feature-engineering-ideas)<br>**\n",
    "- **[rudimentary word cloud maker](#rudimentary-word-cloud-maker)<br>**\n",
    "- **[end](#end)<br>**\n",
    "\n",
    "\n",
    "## Contents\n",
    "\n",
    "- **[Business Understanding](#Business-Understanding)<br>**\n",
    "- **[Data Understanding](#Data-Understanding)**<br>\n",
    "- **[Data Preparation](#Data-Preparation)**<br>\n",
    "- **[Exploration](#Exploration)**<br>\n",
    "- **[Modeling](#Modeling)**<br>\n",
    "- **[Evaluation](#Evaluation)**<br>\n",
    "- **[Recommendations](#Recommendations)<br>**\n",
    "- **[Further Inquiry](#Further-Inquiry)**<br>"
   ]
  },
  {
   "cell_type": "code",
   "execution_count": 1,
   "id": "218ccf39",
   "metadata": {},
   "outputs": [],
   "source": [
    "import pandas as pd\n",
    "import matplotlib.pyplot as plt\n",
    "\n",
    "import nltk\n",
    "from nltk.tokenize import word_tokenize\n",
    "from nltk.stem import WordNetLemmatizer\n",
    "from nltk import FreqDist\n",
    "from nltk.corpus import stopwords\n",
    "import string\n",
    "from wordcloud import WordCloud\n",
    "\n",
    "import html\n",
    "import contractions\n",
    "\n",
    "import re\n",
    "\n",
    "from IPython.display import display\n",
    "\n",
    "from sklearn.model_selection import train_test_split\n",
    "\n",
    "from sklearn.metrics import confusion_matrix, plot_confusion_matrix, accuracy_score, precision_score, f1_score\n",
    "from sklearn.pipeline import Pipeline\n",
    "\n",
    "from sklearn.feature_extraction.text import TfidfVectorizer\n",
    "from sklearn.naive_bayes import MultinomialNB\n",
    "from sklearn.model_selection import train_test_split, GridSearchCV\n",
    "\n",
    "from pathlib import Path\n",
    "\n",
    "SEED = 1979\n",
    "\n",
    "do_grids = True"
   ]
  },
  {
   "cell_type": "code",
   "execution_count": null,
   "id": "ca0930a2",
   "metadata": {},
   "outputs": [],
   "source": [
    "d1 = pd.read_csv('../data/drugsComTrain_raw.tsv', delimiter='\\t', encoding='latin-1')\n",
    "d2 = pd.read_csv('../data/drugsComTest_raw.tsv', delimiter='\\t', encoding='latin-1')\n",
    "df = pd.concat([d1,d2]).reset_index().drop(columns=['Unnamed: 0', 'index'])"
   ]
  },
  {
   "cell_type": "markdown",
   "id": "a8b1fb31",
   "metadata": {},
   "source": [
    "# functions"
   ]
  },
  {
   "cell_type": "code",
   "execution_count": 2,
   "id": "5a85b0a1",
   "metadata": {},
   "outputs": [],
   "source": [
    "def show_review(index):\n",
    "    print(df.review.loc[index])\n",
    "    display(df[df.review == df.loc[index].review][['drugName', 'condition', 'rating', 'date', 'usefulCount']])"
   ]
  },
  {
   "cell_type": "code",
   "execution_count": 3,
   "id": "f3660048",
   "metadata": {},
   "outputs": [],
   "source": [
    "def show_similar(index):\n",
    "    \n",
    "    count_total = df[\n",
    "        (df.drugName == df.loc[index].drugName) & \\\n",
    "        (df.condition == df.loc[index].condition) & \\\n",
    "        (df.date == df.loc[index].date)\n",
    "    ].review.count()\n",
    "    \n",
    "    count_similar = df[\n",
    "        (df.drugName == df.loc[index].drugName) & \\\n",
    "        (df.condition == df.loc[index].condition) & \\\n",
    "        (df.rating == df.loc[index].rating) & \\\n",
    "        (df.date == df.loc[index].date)\n",
    "    ].review.count()\n",
    "    \n",
    "    print('On', df.loc[index].date, df.loc[index].drugName, 'was reviewed', count_total, \\\n",
    "          'times and received a rating of', df.loc[index].rating, count_similar, 'times.\\n')\n",
    "    print('From that date, here are all', count_similar, 'reviews with the same rating:\\n')\n",
    "    for ind in df[\n",
    "        (df.drugName == df.loc[index].drugName) & \\\n",
    "        (df.condition == df.loc[index].condition) & \\\n",
    "        (df.rating == df.loc[index].rating) & \\\n",
    "        (df.date == df.loc[index].date)\n",
    "    ].index:\n",
    "        print(df.loc[ind].review,'\\n')\n",
    "    \n",
    "    print('Here is a breakdown of all the dates when reviewers gave the same drug name and condition THIS RATING:')\n",
    "    display(df[\n",
    "        (df.drugName == df.loc[index].drugName) & \\\n",
    "        (df.condition == df.loc[index].condition) & \\\n",
    "        (df.rating == df.loc[index].rating)\n",
    "    ].date.value_counts())"
   ]
  },
  {
   "cell_type": "markdown",
   "id": "13682ca2",
   "metadata": {},
   "source": [
    "# rough overview"
   ]
  },
  {
   "cell_type": "code",
   "execution_count": null,
   "id": "827e439d",
   "metadata": {},
   "outputs": [],
   "source": [
    "df.head()"
   ]
  },
  {
   "cell_type": "code",
   "execution_count": null,
   "id": "cb3d34b3",
   "metadata": {},
   "outputs": [],
   "source": [
    "df.shape"
   ]
  },
  {
   "cell_type": "code",
   "execution_count": null,
   "id": "d10c3460",
   "metadata": {},
   "outputs": [],
   "source": [
    "df.info()"
   ]
  },
  {
   "cell_type": "code",
   "execution_count": null,
   "id": "49aedbed",
   "metadata": {},
   "outputs": [],
   "source": [
    "df.drugName.value_counts()"
   ]
  },
  {
   "cell_type": "code",
   "execution_count": null,
   "id": "3ecae931",
   "metadata": {},
   "outputs": [],
   "source": [
    "df.condition.value_counts()"
   ]
  },
  {
   "cell_type": "code",
   "execution_count": null,
   "id": "b4e34f71",
   "metadata": {},
   "outputs": [],
   "source": [
    "df.rating.value_counts()"
   ]
  },
  {
   "cell_type": "code",
   "execution_count": null,
   "id": "101b1942",
   "metadata": {},
   "outputs": [],
   "source": [
    "df.groupby('drugName').condition.nunique().value_counts()"
   ]
  },
  {
   "cell_type": "markdown",
   "id": "ba69eb36",
   "metadata": {},
   "source": [
    "This means that, for example, 2047 drugs treat one condition only, and 753 drugs treat two conditions, etc."
   ]
  },
  {
   "cell_type": "code",
   "execution_count": null,
   "id": "98ec6067",
   "metadata": {},
   "outputs": [],
   "source": [
    "df.groupby('condition').drugName.nunique().value_counts()"
   ]
  },
  {
   "cell_type": "markdown",
   "id": "3ff6ec5e",
   "metadata": {},
   "source": [
    "This means that 180 conditions are treatable by two drugs, etc."
   ]
  },
  {
   "cell_type": "code",
   "execution_count": null,
   "id": "6d43c435",
   "metadata": {
    "scrolled": true
   },
   "outputs": [],
   "source": [
    "pd.set_option(\"display.max_rows\", None)\n",
    "print(df.drugName.value_counts())\n",
    "pd.set_option(\"display.max_rows\", 10)"
   ]
  },
  {
   "cell_type": "markdown",
   "id": "78f754ec",
   "metadata": {},
   "source": [
    "A casual overview of the drug names indicates that they all seem valid."
   ]
  },
  {
   "cell_type": "code",
   "execution_count": null,
   "id": "d9d1993a",
   "metadata": {
    "scrolled": true
   },
   "outputs": [],
   "source": [
    "pd.set_option(\"display.max_rows\", None)\n",
    "print(df.condition.value_counts())\n",
    "pd.set_option(\"display.max_rows\", 10)"
   ]
  },
  {
   "cell_type": "markdown",
   "id": "e1283797",
   "metadata": {},
   "source": [
    "Oddly, the condition labels often (always?) omit initial 'F' and terminal 'r'. We can isolate instances of the former by searching for conditions that start with a lower case letter."
   ]
  },
  {
   "cell_type": "markdown",
   "id": "6d56c26e",
   "metadata": {},
   "source": [
    "# missing values"
   ]
  },
  {
   "cell_type": "code",
   "execution_count": null,
   "id": "fde39d41",
   "metadata": {},
   "outputs": [],
   "source": [
    "len(df[df.condition.isna()])"
   ]
  },
  {
   "cell_type": "code",
   "execution_count": null,
   "id": "9daef1a1",
   "metadata": {},
   "outputs": [],
   "source": [
    "df.condition.fillna('missing', inplace=True)"
   ]
  },
  {
   "cell_type": "code",
   "execution_count": null,
   "id": "f0fa1bc3",
   "metadata": {},
   "outputs": [],
   "source": [
    "len(df[df.condition == 'missing'])"
   ]
  },
  {
   "cell_type": "markdown",
   "id": "8b8e98ee",
   "metadata": {},
   "source": [
    "We noticed another condition label that was meant to indicate missing and should be accordingly changed."
   ]
  },
  {
   "cell_type": "code",
   "execution_count": null,
   "id": "c898fadf",
   "metadata": {},
   "outputs": [],
   "source": [
    "df.condition = df.condition.apply(lambda x: 'missing' if 'Not Listed' in x else x)"
   ]
  },
  {
   "cell_type": "code",
   "execution_count": null,
   "id": "6ab48035",
   "metadata": {},
   "outputs": [],
   "source": [
    "len(df[df.condition == 'missing'])"
   ]
  },
  {
   "cell_type": "markdown",
   "id": "a3b2274a",
   "metadata": {},
   "source": [
    "We've identified some actual missing condition labels, but we noticed there are more condition labels that seem suspicious, particularly ones that start with something other than an upper case character. Let's look at all such condition labels."
   ]
  },
  {
   "cell_type": "code",
   "execution_count": null,
   "id": "9fcae713",
   "metadata": {},
   "outputs": [],
   "source": [
    "set(df[(~df.condition.str[0].isin(list(string.ascii_uppercase))) &\n",
    "   (df.condition != 'missing')\n",
    "  ].condition)"
   ]
  },
  {
   "cell_type": "markdown",
   "id": "707b1337",
   "metadata": {},
   "source": [
    "These fall into three categories. Ones that include \"users found this comment helpful\" should be regarded as erroneous and therefore missing."
   ]
  },
  {
   "cell_type": "code",
   "execution_count": null,
   "id": "b7254466",
   "metadata": {},
   "outputs": [],
   "source": [
    "df.condition = df.condition.apply(lambda x: 'missing' if 'users found' in x else x)"
   ]
  },
  {
   "cell_type": "code",
   "execution_count": null,
   "id": "39d43182",
   "metadata": {},
   "outputs": [],
   "source": [
    "len(df[df.condition == 'missing'])"
   ]
  },
  {
   "cell_type": "markdown",
   "id": "e7b10e0b",
   "metadata": {},
   "source": [
    " Ones that show a clipped copy of the drug name and end with a parenthesis should also be regarded as missing."
   ]
  },
  {
   "cell_type": "code",
   "execution_count": null,
   "id": "759dc1d7",
   "metadata": {},
   "outputs": [],
   "source": [
    "df.condition = df.condition.apply(lambda x: 'missing' \\\n",
    "                                  if x[0] not in list(string.ascii_uppercase) and \\\n",
    "                                  x[-1] in ['(', ')'] \\\n",
    "                                  else x)"
   ]
  },
  {
   "cell_type": "code",
   "execution_count": null,
   "id": "9952c199",
   "metadata": {},
   "outputs": [],
   "source": [
    "len(df[df.condition == 'missing'])"
   ]
  },
  {
   "cell_type": "markdown",
   "id": "c6a83485",
   "metadata": {},
   "source": [
    "Most of the ones that show a clipped version of the condition label can possibly be restored."
   ]
  },
  {
   "cell_type": "code",
   "execution_count": null,
   "id": "2a980e55",
   "metadata": {},
   "outputs": [],
   "source": [
    "def condition_restore(condition):\n",
    "    if condition.split()[-1] in ['Disorde', 'eve', 'Shoulde', 'Cance']:\n",
    "        condition = condition+'r'\n",
    "    if condition.split()[0] in ['acial', 'ibrocystic', 'ungal', 'amilial', 'ailure', 'ever', \\\n",
    "                                'emale', 'unctional', 'actor', 'ibromyalgia', 'atigue']:\n",
    "        condition = 'F'+condition\n",
    "    if condition.split()[0] in ['llicular', 'llicle', 'lic', 'cal']:\n",
    "        condition = 'Fo'+condition\n",
    "    if condition.split()[0] in ['mance']:\n",
    "        condition = 'Perfor'+condition\n",
    "    if condition.split()[0] in ['zen']:\n",
    "        condition = 'Fro'+condition\n",
    "    if condition.split()[0] in ['mis']:\n",
    "        condition = 'Dermatitis Herpetifor'+condition\n",
    "    return condition\n",
    "\n",
    "df.condition = df.condition.apply(lambda x: condition_restore(x))"
   ]
  },
  {
   "cell_type": "markdown",
   "id": "f61a2b58",
   "metadata": {},
   "source": [
    "Let's look at what we have left."
   ]
  },
  {
   "cell_type": "code",
   "execution_count": null,
   "id": "2b610639",
   "metadata": {},
   "outputs": [],
   "source": [
    "set(df[(~df.condition.str[0].isin(list(string.ascii_uppercase))) &\n",
    "   (df.condition != 'missing')\n",
    "  ].condition)"
   ]
  },
  {
   "cell_type": "markdown",
   "id": "f1cd9733",
   "metadata": {},
   "source": [
    "\"von Willebrand's Disease\" appears to be a naturally uncapitalized condition. The others have been impossible to restore and will also be regarded as missing."
   ]
  },
  {
   "cell_type": "code",
   "execution_count": null,
   "id": "ad7a5d46",
   "metadata": {},
   "outputs": [],
   "source": [
    "df.condition = df.condition.apply(lambda x: 'missing' \\\n",
    "                                  if x[0] not in list(string.ascii_uppercase) and \\\n",
    "                                  x.split()[0] != 'von' \\\n",
    "                                  else x)"
   ]
  },
  {
   "cell_type": "code",
   "execution_count": null,
   "id": "30ce0880",
   "metadata": {},
   "outputs": [],
   "source": [
    "len(df[df.condition == 'missing'])"
   ]
  },
  {
   "cell_type": "markdown",
   "id": "5e3833c7",
   "metadata": {},
   "source": [
    "We will be able to restore more of these missing condition labels after we do some work with duplicates."
   ]
  },
  {
   "cell_type": "markdown",
   "id": "c53c43c9",
   "metadata": {},
   "source": [
    "# duplicates"
   ]
  },
  {
   "cell_type": "code",
   "execution_count": null,
   "id": "c55544b8",
   "metadata": {},
   "outputs": [],
   "source": [
    "df.duplicated().value_counts()"
   ]
  },
  {
   "cell_type": "code",
   "execution_count": null,
   "id": "d1d63070",
   "metadata": {},
   "outputs": [],
   "source": [
    "df[df.duplicated()]"
   ]
  },
  {
   "cell_type": "code",
   "execution_count": null,
   "id": "df94d741",
   "metadata": {},
   "outputs": [],
   "source": [
    "show_review(178703)"
   ]
  },
  {
   "cell_type": "markdown",
   "id": "e914467e",
   "metadata": {},
   "source": [
    "This is curious. The same review is recorded four times. There are two identical pairs, where the difference between the pairs is the drug name. We can drop one from each pair, but this will need to be revisited."
   ]
  },
  {
   "cell_type": "code",
   "execution_count": null,
   "id": "e99b62cf",
   "metadata": {},
   "outputs": [],
   "source": [
    "df.drop_duplicates(inplace=True)"
   ]
  },
  {
   "cell_type": "markdown",
   "id": "00815fd7",
   "metadata": {},
   "source": [
    "# brand / generic pairs\n",
    "\n",
    "The main type of duplicate we should look out for is records with duplicate reviews, as those likely indicate some kind of actual erroneous duplication. Let's see how many of those there are."
   ]
  },
  {
   "cell_type": "code",
   "execution_count": null,
   "id": "dec382ba",
   "metadata": {},
   "outputs": [],
   "source": [
    "len(df[df.duplicated(subset=['review'])])"
   ]
  },
  {
   "cell_type": "markdown",
   "id": "5a326170",
   "metadata": {},
   "source": [
    "That's a lot!\n",
    "\n",
    "Let's explore some facets of these duplicates."
   ]
  },
  {
   "cell_type": "code",
   "execution_count": null,
   "id": "7256c4f6",
   "metadata": {},
   "outputs": [],
   "source": [
    "len(df[df.duplicated(subset=df.columns.difference(['drugName']))])"
   ]
  },
  {
   "cell_type": "markdown",
   "id": "b048b5e1",
   "metadata": {},
   "source": [
    "The vast majority of duplicate reviews are accounted for by different drug names. Let's explore some examples."
   ]
  },
  {
   "cell_type": "code",
   "execution_count": null,
   "id": "ff41fbad",
   "metadata": {},
   "outputs": [],
   "source": [
    "df[df.duplicated(subset=df.columns.difference(['drugName']))].head()"
   ]
  },
  {
   "cell_type": "code",
   "execution_count": null,
   "id": "99b01361",
   "metadata": {},
   "outputs": [],
   "source": [
    "show_review(524)"
   ]
  },
  {
   "cell_type": "code",
   "execution_count": null,
   "id": "393ccf23",
   "metadata": {},
   "outputs": [],
   "source": [
    "show_review(574)"
   ]
  },
  {
   "cell_type": "code",
   "execution_count": null,
   "id": "2dd7fdc3",
   "metadata": {},
   "outputs": [],
   "source": [
    "show_review(726)"
   ]
  },
  {
   "cell_type": "code",
   "execution_count": null,
   "id": "7c5648c5",
   "metadata": {},
   "outputs": [],
   "source": [
    "show_review(1070)"
   ]
  },
  {
   "cell_type": "code",
   "execution_count": null,
   "id": "626a3e71",
   "metadata": {},
   "outputs": [],
   "source": [
    "show_review(1375)"
   ]
  },
  {
   "cell_type": "markdown",
   "id": "c4d95468",
   "metadata": {},
   "source": [
    "These five examples make clear that the vast majority of duplicates are due to double-entry; (nearly) every review is entered once with its generic name and once with its brand name.\n",
    "\n",
    "We can use this phenomenon to restore some of the missing condition labels. If a missing condition label is part of such a unique pair, then we can confidently assign it the condition of its pair-mate.\n",
    "\n",
    "Let's broaded our search to records that duplicate every feature other than drug name and condition."
   ]
  },
  {
   "cell_type": "code",
   "execution_count": null,
   "id": "26a259dd",
   "metadata": {},
   "outputs": [],
   "source": [
    "len(df[df.duplicated(subset=df.columns.difference(['drugName', 'condition']))])"
   ]
  },
  {
   "cell_type": "markdown",
   "id": "cbe1cce1",
   "metadata": {},
   "source": [
    "This is how many records are duplicates of other records in all values EXCEPT (POSSIBLY) drug name and condition. If a records is duplicated in this manner, the second (and third, fourth, etc.) instance will be captured in this bucket of dupes.\n",
    "\n",
    "If we check only this bucket for dupes, we can see whether there are any triplets, etc."
   ]
  },
  {
   "cell_type": "code",
   "execution_count": null,
   "id": "49a2d644",
   "metadata": {},
   "outputs": [],
   "source": [
    "df_dupes = df[df.duplicated(subset=df.columns.difference(['drugName', 'condition']))]"
   ]
  },
  {
   "cell_type": "code",
   "execution_count": null,
   "id": "9b2d4554",
   "metadata": {},
   "outputs": [],
   "source": [
    "len(df_dupes[df_dupes.duplicated(subset=df_dupes.columns.difference(['drugName', 'condition']))])"
   ]
  },
  {
   "cell_type": "markdown",
   "id": "c926138c",
   "metadata": {},
   "source": [
    "There is only one."
   ]
  },
  {
   "cell_type": "code",
   "execution_count": null,
   "id": "f19bc574",
   "metadata": {},
   "outputs": [],
   "source": [
    "df_dupes[df_dupes.duplicated(subset=df_dupes.columns.difference(['drugName', 'condition']))]"
   ]
  },
  {
   "cell_type": "code",
   "execution_count": null,
   "id": "9b1a6044",
   "metadata": {
    "scrolled": true
   },
   "outputs": [],
   "source": [
    "show_review(140144)"
   ]
  },
  {
   "cell_type": "markdown",
   "id": "b8511812",
   "metadata": {},
   "source": [
    "There are 6 records with the same review, date, rating, and condition. Because they're on the *same day*, it seems likely that these reviews were entered repeatedly by the same person. The two with a useful count of 10 are likely a brand/generic pair. As for the other 4, a possible explanation is that Sandostatin and Octreotide are brand names for the two types of insulin, and one of them somehow acquired an erroneous useful count. Let's reassign the useful count of Octreotide to 3 and let them pair off that way."
   ]
  },
  {
   "cell_type": "code",
   "execution_count": null,
   "id": "52e0c93e",
   "metadata": {},
   "outputs": [],
   "source": [
    "df.at[140144, 'usefulCount'] = 3"
   ]
  },
  {
   "cell_type": "code",
   "execution_count": null,
   "id": "2ff11843",
   "metadata": {},
   "outputs": [],
   "source": [
    "%%time\n",
    "df_dupes = df[df.duplicated(subset=df.columns.difference(['drugName', 'condition']))].index.tolist()\n",
    "dates_bucket = {}\n",
    "for date_ in list(set(df[~df.index.isin(df_dupes)].date.tolist())):\n",
    "    dates_bucket[date_] = []\n",
    "for i in df.index:\n",
    "    dates_bucket[df.loc[i].date].append(i)"
   ]
  },
  {
   "cell_type": "code",
   "execution_count": null,
   "id": "5e7a5180",
   "metadata": {},
   "outputs": [],
   "source": [
    "%%time\n",
    "\n",
    "twins = []\n",
    "\n",
    "for i in df_dupes:\n",
    "    date_i = df.loc[i].date\n",
    "    for j in dates_bucket[date_i]:\n",
    "        if df.loc[i][['review', 'rating', 'usefulCount']].\\\n",
    "        equals(df.loc[j][['review', 'rating', 'usefulCount']]):\n",
    "\n",
    "            dates_bucket[date_i].remove(j)\n",
    "            twins.append([i,j])\n",
    "            break\n"
   ]
  },
  {
   "cell_type": "markdown",
   "id": "da970848",
   "metadata": {},
   "source": [
    "# NOTE that at some point the twins list collapses every pair into the same indices"
   ]
  },
  {
   "cell_type": "code",
   "execution_count": null,
   "id": "90796655",
   "metadata": {},
   "outputs": [],
   "source": [
    "len(df[df.condition == 'missing'])"
   ]
  },
  {
   "cell_type": "code",
   "execution_count": null,
   "id": "5195ade1",
   "metadata": {},
   "outputs": [],
   "source": [
    "%%time\n",
    "\n",
    "for pair in twins:\n",
    "    for i in range(1):\n",
    "        if df.loc[pair[i]].condition == 'missing':\n",
    "            df.at[pair[i], 'condition'] = df.loc[pair[1-i]].condition"
   ]
  },
  {
   "cell_type": "code",
   "execution_count": null,
   "id": "d0717503",
   "metadata": {},
   "outputs": [],
   "source": [
    "len(df[df.condition == 'missing'])"
   ]
  },
  {
   "cell_type": "markdown",
   "id": "2b996b4f",
   "metadata": {},
   "source": [
    "## proposed solutions for missing values\n",
    "\n",
    "1. For every record with a missing condition, we will assign it the condition that is most common for the drug indicated by that record.\n",
    "\n",
    "2. Before executing solution 1, find each record's twin and use the condition label from the twin where applicable.\n",
    "\n",
    "For now, we'll just execute solution 2."
   ]
  },
  {
   "cell_type": "code",
   "execution_count": null,
   "id": "bcedfc69",
   "metadata": {},
   "outputs": [],
   "source": [
    "drugs_w_missing_condition = list(set(df[df.condition == 'missing'].drugName))"
   ]
  },
  {
   "cell_type": "code",
   "execution_count": null,
   "id": "af5579f9",
   "metadata": {},
   "outputs": [],
   "source": [
    "len(drugs_w_missing_condition)"
   ]
  },
  {
   "cell_type": "markdown",
   "id": "215edb07",
   "metadata": {},
   "source": [
    "This applies to about a quarter of the drugs. We'll create a dictionary that reports the most common condition for these drugs."
   ]
  },
  {
   "cell_type": "code",
   "execution_count": null,
   "id": "2c3705cb",
   "metadata": {},
   "outputs": [],
   "source": [
    "most_common_condition = {}\n",
    "\n",
    "for drug in drugs_w_missing_condition:\n",
    "    condition = df[df.drugName == drug].condition.value_counts().idxmax()\n",
    "    if condition == 'missing' and len(set(df[df.drugName == drug].condition)) > 1:\n",
    "        condition = df[(df.drugName == drug) &\n",
    "                       (df.condition != 'missing')\n",
    "                      ].condition.value_counts().idxmax()\n",
    "    proportion = round(df[df.drugName == drug].condition.value_counts(normalize=True)[0],2)\n",
    "    most_common_condition[drug] = [condition, proportion]"
   ]
  },
  {
   "cell_type": "code",
   "execution_count": null,
   "id": "71c0d300",
   "metadata": {},
   "outputs": [],
   "source": [
    "most_common_condition['Viagra']"
   ]
  },
  {
   "cell_type": "markdown",
   "id": "d8627dc6",
   "metadata": {},
   "source": [
    "For example, if a review with an unlisted condition is about Viagra, we will assume the condition is Erectile Dysfunction."
   ]
  },
  {
   "cell_type": "code",
   "execution_count": null,
   "id": "495d6459",
   "metadata": {},
   "outputs": [],
   "source": [
    "df['condition'] = df.apply(lambda x: most_common_condition[x.drugName][0] \\\n",
    "                           if x.condition == 'missing' \\\n",
    "                           else x.condition, axis = 1)"
   ]
  },
  {
   "cell_type": "code",
   "execution_count": null,
   "id": "3afa54c7",
   "metadata": {},
   "outputs": [],
   "source": [
    "len(df[df.condition == 'missing'])"
   ]
  },
  {
   "cell_type": "markdown",
   "id": "584af314",
   "metadata": {},
   "source": [
    "This is how many records there are that still have no label for condition. This means the drugs indicated in these records are *only* indicated in references without an indicated condition. As such, there's not really anything we can do with these records, and we may as well drop them."
   ]
  },
  {
   "cell_type": "code",
   "execution_count": null,
   "id": "98dd93e6",
   "metadata": {},
   "outputs": [],
   "source": [
    "df.drop(df[df.condition == 'missing'].index, inplace=True)"
   ]
  },
  {
   "cell_type": "markdown",
   "id": "71cc5d2f",
   "metadata": {},
   "source": [
    "# further exploration of duplicates (skip for now)"
   ]
  },
  {
   "cell_type": "code",
   "execution_count": null,
   "id": "e754c921",
   "metadata": {},
   "outputs": [],
   "source": [
    "len(df[df.duplicated(subset=['drugName', 'condition', 'rating', 'date'])])"
   ]
  },
  {
   "cell_type": "markdown",
   "id": "17204ff2",
   "metadata": {},
   "source": [
    "That also seems like a lot. Let's explore these now."
   ]
  },
  {
   "cell_type": "code",
   "execution_count": null,
   "id": "6d9daf3e",
   "metadata": {},
   "outputs": [],
   "source": [
    "df[df.duplicated(subset=['drugName', 'condition', 'rating', 'date'])].head()"
   ]
  },
  {
   "cell_type": "markdown",
   "id": "b4c0a8cb",
   "metadata": {},
   "source": [
    "We'll use the \"show_similar\" function to explore these reviews that duplicate drug name"
   ]
  },
  {
   "cell_type": "code",
   "execution_count": null,
   "id": "1a305ba7",
   "metadata": {},
   "outputs": [],
   "source": [
    "show_similar(2450)"
   ]
  },
  {
   "cell_type": "code",
   "execution_count": null,
   "id": "2815c617",
   "metadata": {},
   "outputs": [],
   "source": [
    "show_similar(3597)"
   ]
  },
  {
   "cell_type": "code",
   "execution_count": null,
   "id": "453cbdaf",
   "metadata": {},
   "outputs": [],
   "source": [
    "show_similar(4892)"
   ]
  },
  {
   "cell_type": "code",
   "execution_count": null,
   "id": "0917c97b",
   "metadata": {},
   "outputs": [],
   "source": [
    "df[df.duplicated(subset=['drugName', 'condition', 'rating', 'date'])].rating.value_counts()"
   ]
  },
  {
   "cell_type": "code",
   "execution_count": null,
   "id": "92884692",
   "metadata": {},
   "outputs": [],
   "source": [
    "df[\n",
    "    (df.drugName == df.loc[8576].drugName) & \\\n",
    "    (df.condition == df.loc[8576].condition) & \\\n",
    "    (df.date == df.loc[8576].date)\n",
    "    \n",
    "]"
   ]
  },
  {
   "cell_type": "code",
   "execution_count": null,
   "id": "7c5b158c",
   "metadata": {},
   "outputs": [],
   "source": [
    "df[(df.drugName == 'Miconazole') & \\\n",
    "   (df.condition == 'Vaginal Yeast Infection') & \\\n",
    "   (df.rating == 1.0) & \\\n",
    "   (df.date == 'May 25, 2016') & \\\n",
    "   (df.usefulCount == 6) \\\n",
    "  ]"
   ]
  },
  {
   "cell_type": "code",
   "execution_count": null,
   "id": "70a72bd7",
   "metadata": {},
   "outputs": [],
   "source": [
    "show_review(8737)"
   ]
  },
  {
   "cell_type": "code",
   "execution_count": null,
   "id": "bcdc7b54",
   "metadata": {},
   "outputs": [],
   "source": [
    "len(df[df.duplicated(subset=['review'])])"
   ]
  },
  {
   "cell_type": "markdown",
   "id": "83d9bd3a",
   "metadata": {},
   "source": [
    "An enormous number of records have duplicated reviews."
   ]
  },
  {
   "cell_type": "code",
   "execution_count": null,
   "id": "e2673546",
   "metadata": {},
   "outputs": [],
   "source": [
    "show_review(524)"
   ]
  },
  {
   "cell_type": "code",
   "execution_count": null,
   "id": "02111576",
   "metadata": {},
   "outputs": [],
   "source": [
    "show_review(574)"
   ]
  },
  {
   "cell_type": "code",
   "execution_count": null,
   "id": "8f07d119",
   "metadata": {},
   "outputs": [],
   "source": [
    "show_review(726)"
   ]
  },
  {
   "cell_type": "code",
   "execution_count": null,
   "id": "b0245f71",
   "metadata": {},
   "outputs": [],
   "source": [
    "show_review(1070)"
   ]
  },
  {
   "cell_type": "code",
   "execution_count": null,
   "id": "df3f0ff7",
   "metadata": {},
   "outputs": [],
   "source": [
    "show_review(1375)"
   ]
  },
  {
   "cell_type": "markdown",
   "id": "ad8c4579",
   "metadata": {},
   "source": [
    "In all of the instances we checked, the duplicated record occurs because it is listed once under its chemical name and once under its brand name. We'll assume this is mostly the reason for the vast majority of review duplications and deal with them after we address other types of review duplications."
   ]
  },
  {
   "cell_type": "code",
   "execution_count": null,
   "id": "b5fef757",
   "metadata": {},
   "outputs": [],
   "source": [
    "len(df[(df.duplicated(subset=['review'])) &\n",
    "   ~df.duplicated(subset=df.columns.difference(['drugName']))\n",
    "  ])"
   ]
  },
  {
   "cell_type": "markdown",
   "id": "5cada15b",
   "metadata": {},
   "source": [
    "This is how many records have identical reviews but differences *other than the drug name*. Let's explore a few of these."
   ]
  },
  {
   "cell_type": "code",
   "execution_count": null,
   "id": "fbf82595",
   "metadata": {},
   "outputs": [],
   "source": [
    "df[(df.duplicated(subset=['review'])) &\n",
    "   ~df.duplicated(subset=df.columns.difference(['drugName']))\n",
    "  ].head(15)"
   ]
  },
  {
   "cell_type": "code",
   "execution_count": null,
   "id": "99377e16",
   "metadata": {},
   "outputs": [],
   "source": [
    "show_review(2664)"
   ]
  },
  {
   "cell_type": "code",
   "execution_count": null,
   "id": "e80cd0e6",
   "metadata": {},
   "outputs": [],
   "source": [
    "show_review(6465)"
   ]
  },
  {
   "cell_type": "code",
   "execution_count": null,
   "id": "72cc9b89",
   "metadata": {},
   "outputs": [],
   "source": [
    "show_review(9735)"
   ]
  },
  {
   "cell_type": "code",
   "execution_count": null,
   "id": "c9fdeff0",
   "metadata": {},
   "outputs": [],
   "source": [
    "show_review(13125)"
   ]
  },
  {
   "cell_type": "markdown",
   "id": "46880796",
   "metadata": {},
   "source": [
    "Some of these are just common, short reviews, e.g. \"Great\". But others seem to have issues with the condition label as well.\n",
    "\n",
    "We found earlier that many duplicate reviews come in pairs where the drug name is generic and brand name in the two records. It seems that more of these pairs exist in instances where the condition is \"missing\" for some reason. Where this specific phenomenon occurs, we'll relabel the condition to match its partner in the pair. This will reduce the number of \"missing\" conditions but increase the number of duplicate pairs."
   ]
  },
  {
   "cell_type": "code",
   "execution_count": null,
   "id": "73febc58",
   "metadata": {},
   "outputs": [],
   "source": [
    "len(df[df.condition == 'missing'])"
   ]
  },
  {
   "cell_type": "code",
   "execution_count": null,
   "id": "9141c2ae",
   "metadata": {},
   "outputs": [],
   "source": [
    "len(df[df.duplicated(subset=df.columns.difference(['drugName']))])"
   ]
  },
  {
   "cell_type": "code",
   "execution_count": null,
   "id": "e13fd408",
   "metadata": {},
   "outputs": [],
   "source": [
    "len(df[df.duplicated(subset=df.columns.difference(['condition']))])"
   ]
  },
  {
   "cell_type": "code",
   "execution_count": null,
   "id": "571a09d6",
   "metadata": {},
   "outputs": [],
   "source": [
    "len(df[df.duplicated(subset=df.columns.difference(['rating']))])"
   ]
  },
  {
   "cell_type": "code",
   "execution_count": null,
   "id": "30f4baf1",
   "metadata": {},
   "outputs": [],
   "source": [
    "len(df[df.duplicated(subset=df.columns.difference(['date']))])"
   ]
  },
  {
   "cell_type": "code",
   "execution_count": null,
   "id": "be05e816",
   "metadata": {},
   "outputs": [],
   "source": [
    "len(df[df.duplicated(subset=df.columns.difference(['usefulCount']))])"
   ]
  },
  {
   "cell_type": "code",
   "execution_count": null,
   "id": "85144077",
   "metadata": {},
   "outputs": [],
   "source": [
    "df[df.duplicated(subset=df.columns.difference(['usefulCount']))].head()"
   ]
  },
  {
   "cell_type": "code",
   "execution_count": null,
   "id": "b28c1615",
   "metadata": {},
   "outputs": [],
   "source": [
    "show_review(33451)"
   ]
  },
  {
   "cell_type": "code",
   "execution_count": null,
   "id": "c754e9cf",
   "metadata": {},
   "outputs": [],
   "source": [
    "show_review(42728)"
   ]
  },
  {
   "cell_type": "code",
   "execution_count": null,
   "id": "5531eaa3",
   "metadata": {},
   "outputs": [],
   "source": [
    "show_review(61617)"
   ]
  },
  {
   "cell_type": "code",
   "execution_count": null,
   "id": "43107f85",
   "metadata": {},
   "outputs": [],
   "source": [
    "show_review(69518)"
   ]
  },
  {
   "cell_type": "code",
   "execution_count": null,
   "id": "c563e00e",
   "metadata": {},
   "outputs": [],
   "source": [
    "show_review(72794)"
   ]
  },
  {
   "cell_type": "markdown",
   "id": "f08d6ab2",
   "metadata": {},
   "source": [
    "This appears to be an instance of someone re-posting a review multiple times. It seems that we should drop the duplicates in this case, but possibly we should tally up the useful count?"
   ]
  },
  {
   "cell_type": "markdown",
   "id": "608ddb44",
   "metadata": {},
   "source": [
    "# contractions\n",
    "\n",
    "Here is an example of a contraction."
   ]
  },
  {
   "cell_type": "code",
   "execution_count": null,
   "id": "9cc67fb7",
   "metadata": {},
   "outputs": [],
   "source": [
    "df.review[3][56:69]"
   ]
  },
  {
   "cell_type": "markdown",
   "id": "63967f9c",
   "metadata": {},
   "source": [
    "Here is how the html function fixes it."
   ]
  },
  {
   "cell_type": "code",
   "execution_count": null,
   "id": "1ae82efe",
   "metadata": {},
   "outputs": [],
   "source": [
    "html.unescape(df.loc[3][2])[56:64]"
   ]
  },
  {
   "cell_type": "markdown",
   "id": "42b7a651",
   "metadata": {},
   "source": [
    "Here is how the contractions function fixes (the html function's fix of) it."
   ]
  },
  {
   "cell_type": "code",
   "execution_count": null,
   "id": "3b4f9a38",
   "metadata": {},
   "outputs": [],
   "source": [
    "contractions.fix(html.unescape(df.loc[3][2]))[56:65]"
   ]
  },
  {
   "cell_type": "markdown",
   "id": "ae980f5b",
   "metadata": {},
   "source": [
    "Here is an instance of \"ain't\" with the same functions applied."
   ]
  },
  {
   "cell_type": "code",
   "execution_count": null,
   "id": "634014de",
   "metadata": {},
   "outputs": [],
   "source": [
    "df.review.loc[507][75:99]"
   ]
  },
  {
   "cell_type": "code",
   "execution_count": null,
   "id": "76b8e455",
   "metadata": {},
   "outputs": [],
   "source": [
    "html.unescape(df.review.loc[507])[75:94]"
   ]
  },
  {
   "cell_type": "code",
   "execution_count": null,
   "id": "637f460a",
   "metadata": {},
   "outputs": [],
   "source": [
    "contractions.fix(html.unescape(df.review.loc[507]))[75:96]"
   ]
  },
  {
   "cell_type": "code",
   "execution_count": null,
   "id": "70a519bc",
   "metadata": {},
   "outputs": [],
   "source": [
    "len(df[df.review.str.contains('ain&#039;t')])"
   ]
  },
  {
   "cell_type": "markdown",
   "id": "635b53e3",
   "metadata": {},
   "source": [
    "There are 53 instances of \"ain't\".\n",
    "\n",
    "I'm currently having difficulty downloading the package that appropriately fixes \"ain't\" into \"is not\" or \"are not\" etc. This shouldn't matter after I remove stop words. I think it will be helpful to exclude negatives like \"no\" and \"not\" from the stop words. It could certainly be of help to look for bigrams like \"not good\"."
   ]
  },
  {
   "cell_type": "code",
   "execution_count": null,
   "id": "3cfdc74c",
   "metadata": {},
   "outputs": [],
   "source": [
    "df.review = df.review.apply(lambda x: html.unescape(x))"
   ]
  },
  {
   "cell_type": "markdown",
   "id": "2bcd3052",
   "metadata": {},
   "source": [
    "# dates"
   ]
  },
  {
   "cell_type": "code",
   "execution_count": null,
   "id": "89d32e92",
   "metadata": {},
   "outputs": [],
   "source": [
    "sample = df.date.loc[0]"
   ]
  },
  {
   "cell_type": "code",
   "execution_count": null,
   "id": "5e824a16",
   "metadata": {},
   "outputs": [],
   "source": [
    "sample"
   ]
  },
  {
   "cell_type": "code",
   "execution_count": null,
   "id": "eb4f5d5b",
   "metadata": {},
   "outputs": [],
   "source": [
    "re.split(r'\\W+', sample)"
   ]
  },
  {
   "cell_type": "markdown",
   "id": "51ac1e52",
   "metadata": {},
   "source": [
    "There's probably a datetime method for this, but the following will produce month // day // year, and then we can figure out the earliest and latest dates."
   ]
  },
  {
   "cell_type": "code",
   "execution_count": null,
   "id": "548c25b4",
   "metadata": {},
   "outputs": [],
   "source": [
    "df['month'] = df.date.apply(lambda x: re.split(r'\\W+', x)[0])\n",
    "df['day'] = df.date.apply(lambda x: int(re.split(r'\\W+', x)[1]))\n",
    "df['year'] = df.date.apply(lambda x: int(re.split(r'\\W+', x)[2]))"
   ]
  },
  {
   "cell_type": "code",
   "execution_count": null,
   "id": "85335a68",
   "metadata": {},
   "outputs": [],
   "source": [
    "df.year.min()"
   ]
  },
  {
   "cell_type": "code",
   "execution_count": null,
   "id": "f763cd11",
   "metadata": {},
   "outputs": [],
   "source": [
    "df[df.year == 2008].month.value_counts()"
   ]
  },
  {
   "cell_type": "code",
   "execution_count": null,
   "id": "059a1e19",
   "metadata": {},
   "outputs": [],
   "source": [
    "df[(df.year == 2008) &\n",
    "   (df.month == 'February')\n",
    "  ].day.min()"
   ]
  },
  {
   "cell_type": "code",
   "execution_count": null,
   "id": "072a4326",
   "metadata": {},
   "outputs": [],
   "source": [
    "df.year.max()"
   ]
  },
  {
   "cell_type": "code",
   "execution_count": null,
   "id": "4a54d635",
   "metadata": {},
   "outputs": [],
   "source": [
    "df[df.year == 2017].month.value_counts()"
   ]
  },
  {
   "cell_type": "code",
   "execution_count": null,
   "id": "36fc92d9",
   "metadata": {},
   "outputs": [],
   "source": [
    "df[(df.year == 2017) &\n",
    "   (df.month == 'November')\n",
    "  ].day.max()"
   ]
  },
  {
   "cell_type": "markdown",
   "id": "458b17f9",
   "metadata": {},
   "source": [
    "The reviews span from February 24, 2008 to November 30, 2017."
   ]
  },
  {
   "cell_type": "markdown",
   "id": "e132f507",
   "metadata": {},
   "source": [
    "# ratings"
   ]
  },
  {
   "cell_type": "code",
   "execution_count": null,
   "id": "06598f81",
   "metadata": {},
   "outputs": [],
   "source": [
    "len(df)/2"
   ]
  },
  {
   "cell_type": "code",
   "execution_count": null,
   "id": "d5736ea4",
   "metadata": {},
   "outputs": [],
   "source": [
    "df.rating.value_counts()"
   ]
  },
  {
   "cell_type": "code",
   "execution_count": null,
   "id": "052d4554",
   "metadata": {},
   "outputs": [],
   "source": [
    "len(df[df.rating > 8.5])"
   ]
  },
  {
   "cell_type": "code",
   "execution_count": null,
   "id": "14159d5e",
   "metadata": {},
   "outputs": [],
   "source": [
    "len(df[df.rating < 8.5])"
   ]
  },
  {
   "cell_type": "markdown",
   "id": "b32782f3",
   "metadata": {},
   "source": [
    "To split the review roughly in half we would split between 8 and 9"
   ]
  },
  {
   "cell_type": "markdown",
   "id": "5d8f3cd9",
   "metadata": {},
   "source": [
    "To split the ratings roughly in half we would make the splits 1-8 and 9-10."
   ]
  },
  {
   "cell_type": "code",
   "execution_count": null,
   "id": "053903ee",
   "metadata": {},
   "outputs": [],
   "source": [
    "len(df)/3"
   ]
  },
  {
   "cell_type": "code",
   "execution_count": null,
   "id": "520368f1",
   "metadata": {},
   "outputs": [],
   "source": [
    "len(df[df.rating > 9.5])"
   ]
  },
  {
   "cell_type": "code",
   "execution_count": null,
   "id": "969fb750",
   "metadata": {},
   "outputs": [],
   "source": [
    "len(df[df.rating < 6.5])"
   ]
  },
  {
   "cell_type": "markdown",
   "id": "983cbf4f",
   "metadata": {},
   "source": [
    "To split the ratings roughly in thirds we would make the splits 1-6, 7-9, and 10."
   ]
  },
  {
   "cell_type": "markdown",
   "id": "5e2b9d0a",
   "metadata": {},
   "source": [
    "# focusing on birth control"
   ]
  },
  {
   "cell_type": "code",
   "execution_count": null,
   "id": "8fe9375d",
   "metadata": {},
   "outputs": [],
   "source": [
    "len(df[df.condition == 'Birth Control'])"
   ]
  },
  {
   "cell_type": "markdown",
   "id": "70eef6fa",
   "metadata": {},
   "source": [
    "This many records pertain to the condition of birth control."
   ]
  },
  {
   "cell_type": "code",
   "execution_count": null,
   "id": "16b4b0dd",
   "metadata": {},
   "outputs": [],
   "source": [
    "birth_control_drugs = set(df[df.condition == 'Birth Control'].drugName)"
   ]
  },
  {
   "cell_type": "code",
   "execution_count": null,
   "id": "fe827138",
   "metadata": {},
   "outputs": [],
   "source": [
    "len(birth_control_drugs)"
   ]
  },
  {
   "cell_type": "markdown",
   "id": "f046290d",
   "metadata": {},
   "source": [
    "This many drugs treat birth control."
   ]
  },
  {
   "cell_type": "code",
   "execution_count": null,
   "id": "12e2111c",
   "metadata": {},
   "outputs": [],
   "source": [
    "list(set(df[(df.condition != 'Birth Control') &\n",
    "   (df.drugName.isin(birth_control_drugs))\n",
    "  ].condition))"
   ]
  },
  {
   "cell_type": "markdown",
   "id": "a25680d2",
   "metadata": {},
   "source": [
    "These are other conditions that are (at least sometimes) treated by drugs that (also) treat birth control."
   ]
  },
  {
   "cell_type": "code",
   "execution_count": null,
   "id": "269cbca3",
   "metadata": {},
   "outputs": [],
   "source": [
    "df[df.condition == 'Birth Control'].drugName.value_counts()"
   ]
  },
  {
   "cell_type": "markdown",
   "id": "570037c8",
   "metadata": {},
   "source": [
    "These are the most frequent drug names that treat birth control."
   ]
  },
  {
   "cell_type": "markdown",
   "id": "f1272729",
   "metadata": {},
   "source": [
    "# save and reload preprocessed set\n",
    "\n",
    "At this stage we will save and reload the preprocessed set in order to avoid taking the time to repeat earlier work everytime we open the notebook.\n",
    "\n",
    "The saved version has restored or deleted all records with missing condition labels.\n",
    "\n",
    "We have established pairs in the list `twins` but we have NOT yet deleted either member of any pair or dealt with the confusion between brand and generic drug names.\n",
    "\n",
    "The size of the dateframe is nearly the same as its original version, roughly 215,000 records."
   ]
  },
  {
   "cell_type": "code",
   "execution_count": null,
   "id": "e1361f6a",
   "metadata": {},
   "outputs": [],
   "source": [
    "filepath = Path('../data/preprocessed.csv')\n",
    "filepath.parent.mkdir(parents=True, exist_ok=True)\n",
    "df.to_csv(filepath)"
   ]
  },
  {
   "cell_type": "code",
   "execution_count": null,
   "id": "507d2a32",
   "metadata": {},
   "outputs": [],
   "source": [
    "%store twins"
   ]
  },
  {
   "cell_type": "code",
   "execution_count": 24,
   "id": "232ff057",
   "metadata": {},
   "outputs": [],
   "source": [
    "df = pd.read_csv('../data/preprocessed.csv')\n",
    "df.drop(columns='Unnamed: 0', inplace=True)"
   ]
  },
  {
   "cell_type": "code",
   "execution_count": 5,
   "id": "9d27d14a",
   "metadata": {},
   "outputs": [],
   "source": [
    "%store -r twins"
   ]
  },
  {
   "cell_type": "markdown",
   "id": "3865721d",
   "metadata": {},
   "source": [
    "# feature engineering ideas\n",
    "\n",
    "- word count\n",
    "- character count\n",
    "- words in all caps\n",
    "- average word length\n",
    "- whether words are in English (spelled correctly)\n",
    "- whether it includes characters such as exclamation points, question marks, (especially repeatedly), and emoticons\n",
    "- whether it mentions the brand or generic name in the review"
   ]
  },
  {
   "cell_type": "markdown",
   "id": "72662b7c",
   "metadata": {},
   "source": [
    "# truncate to just birth control"
   ]
  },
  {
   "cell_type": "code",
   "execution_count": 26,
   "id": "7439d061",
   "metadata": {},
   "outputs": [],
   "source": [
    "df.drop(df[df.condition != 'Birth Control'].index, inplace=True)"
   ]
  },
  {
   "cell_type": "code",
   "execution_count": 27,
   "id": "4cc60258",
   "metadata": {},
   "outputs": [],
   "source": [
    "df.drop(columns='condition', inplace=True)"
   ]
  },
  {
   "cell_type": "code",
   "execution_count": 28,
   "id": "9edba016",
   "metadata": {},
   "outputs": [
    {
     "data": {
      "text/plain": [
       "39499"
      ]
     },
     "execution_count": 28,
     "metadata": {},
     "output_type": "execute_result"
    }
   ],
   "source": [
    "len(df)"
   ]
  },
  {
   "cell_type": "code",
   "execution_count": 29,
   "id": "84920337",
   "metadata": {},
   "outputs": [],
   "source": [
    "df.reset_index(inplace=True)"
   ]
  },
  {
   "cell_type": "code",
   "execution_count": 30,
   "id": "8e715ad9",
   "metadata": {},
   "outputs": [],
   "source": [
    "df.drop(columns='index', inplace=True)"
   ]
  },
  {
   "cell_type": "markdown",
   "id": "8b93ce0d",
   "metadata": {},
   "source": [
    "# delete duplicates (one of each twin)"
   ]
  },
  {
   "cell_type": "markdown",
   "id": "ff95346f",
   "metadata": {},
   "source": [
    "# rudimentary word cloud maker"
   ]
  },
  {
   "cell_type": "code",
   "execution_count": null,
   "id": "7b749849",
   "metadata": {},
   "outputs": [],
   "source": [
    "df['review'] = df['review'].str.lower()"
   ]
  },
  {
   "cell_type": "code",
   "execution_count": null,
   "id": "f75e4146",
   "metadata": {},
   "outputs": [],
   "source": [
    "dfbc = df[df.condition == 'Birth Control']\n",
    "\n",
    "dfbc['sentiment'] = dfbc.rating.apply(lambda x: 1 if x > 5 else 0)\n",
    "\n",
    "dfbcpos = df[\n",
    "    (df.condition == 'Birth Control') & \\\n",
    "    (df.rating > 9.5)\n",
    "]\n",
    "\n",
    "dfbcneg = df[\n",
    "    (df.condition == 'Birth Control') & \\\n",
    "    (df.rating < 6.5)\n",
    "]"
   ]
  },
  {
   "cell_type": "code",
   "execution_count": null,
   "id": "32d00ab5",
   "metadata": {},
   "outputs": [],
   "source": [
    "# make list of all reviews\n",
    "reviews_pos = dfbcpos.review.to_list()\n",
    "reviews_neg = dfbcneg.review.to_list()"
   ]
  },
  {
   "cell_type": "code",
   "execution_count": null,
   "id": "50a87878",
   "metadata": {},
   "outputs": [],
   "source": [
    "# # make tokenizer\n",
    "# tokenizer = TweetTokenizer(\n",
    "#     preserve_case=False,\n",
    "#     strip_handles=True\n",
    "# )\n",
    "\n",
    "# create list of tokens from data set\n",
    "tokens_pos = word_tokenize(','.join(reviews_pos))\n",
    "tokens_neg = word_tokenize(','.join(reviews_neg))\n",
    "\n",
    "\n",
    "# tokens = [word for word in tokens]"
   ]
  },
  {
   "cell_type": "code",
   "execution_count": null,
   "id": "58df018d",
   "metadata": {},
   "outputs": [],
   "source": [
    "# make lemmatizer\n",
    "lemmatizer = WordNetLemmatizer()\n",
    "\n",
    "# lemmatize the list of words\n",
    "tokens_lemmatized_pos = [lemmatizer.lemmatize(word) for word in tokens_pos]\n",
    "tokens_lemmatized_neg = [lemmatizer.lemmatize(word) for word in tokens_neg]"
   ]
  },
  {
   "cell_type": "code",
   "execution_count": null,
   "id": "8f3bc01e",
   "metadata": {},
   "outputs": [],
   "source": [
    "# show the most frequently occurring tokens\n",
    "FreqDist(tokens_lemmatized_pos).most_common(25)"
   ]
  },
  {
   "cell_type": "code",
   "execution_count": null,
   "id": "accd9c91",
   "metadata": {},
   "outputs": [],
   "source": [
    "# show the most frequently occurring tokens\n",
    "FreqDist(tokens_lemmatized_neg).most_common(25)"
   ]
  },
  {
   "cell_type": "code",
   "execution_count": null,
   "id": "123c5d40",
   "metadata": {},
   "outputs": [],
   "source": [
    "negatives = ['no', 'not', \"don't\", \"aren't\", \"couldn't\", \"didn't\", \"doesn't\", \"hadn't\", \"hasn't\", \"haven't\", \\\n",
    "             \"isn't\", \"wasn't\", \"weren't\", \"won't\", \"wouldn't\"]"
   ]
  },
  {
   "cell_type": "code",
   "execution_count": null,
   "id": "85554cb2",
   "metadata": {},
   "outputs": [],
   "source": [
    "# obtain the standard list of stopwords\n",
    "nltk.download('stopwords', quiet=True)\n",
    "# start our own list of stopwords with these words\n",
    "stop_list = [word for word in stopwords.words('english') if word not in negatives]\n",
    "# add punctuation characters\n",
    "for char in string.punctuation:\n",
    "    stop_list.append(char)\n",
    "# add empty string\n",
    "stop_list.extend(['', 'ha', 'wa'])"
   ]
  },
  {
   "cell_type": "code",
   "execution_count": null,
   "id": "76094c5e",
   "metadata": {},
   "outputs": [],
   "source": [
    "stop_list"
   ]
  },
  {
   "cell_type": "code",
   "execution_count": null,
   "id": "35cfe0c0",
   "metadata": {},
   "outputs": [],
   "source": [
    "# make stopped list of tokens\n",
    "tokens_stopped_pos = [word for word in tokens_lemmatized_pos if word not in stop_list]\n",
    "tokens_stopped_neg = [word for word in tokens_lemmatized_neg if word not in stop_list]"
   ]
  },
  {
   "cell_type": "code",
   "execution_count": null,
   "id": "8400194d",
   "metadata": {},
   "outputs": [],
   "source": [
    "# show the most frequently occurring tokens\n",
    "FreqDist(tokens_stopped_pos).most_common(25)"
   ]
  },
  {
   "cell_type": "code",
   "execution_count": null,
   "id": "e499fdaf",
   "metadata": {},
   "outputs": [],
   "source": [
    "# show the most frequently occurring tokens\n",
    "FreqDist(tokens_stopped_neg).most_common(25)"
   ]
  },
  {
   "cell_type": "code",
   "execution_count": null,
   "id": "92c4f358",
   "metadata": {},
   "outputs": [],
   "source": [
    "# a function that generates a word cloud of a given list of words\n",
    "def make_wordcloud(wordlist, colormap='Greens', title=None):\n",
    "    # instantiate wordcloud\n",
    "    wordcloud = WordCloud(\n",
    "        width=600,\n",
    "        height=400,\n",
    "        colormap=colormap,\n",
    "        collocations = True\n",
    "    )\n",
    "    return wordcloud.generate(','.join(wordlist))\n",
    "\n",
    "def plot_wordcloud(wordcloud):\n",
    "    # plot wordcloud\n",
    "    plt.figure(figsize = (12, 15)) \n",
    "    plt.imshow(wordcloud) \n",
    "    plt.axis('off');"
   ]
  },
  {
   "cell_type": "code",
   "execution_count": null,
   "id": "7165d74a",
   "metadata": {},
   "outputs": [],
   "source": [
    "# word cloud of stopped words\n",
    "plot_wordcloud(make_wordcloud(tokens_stopped_pos))"
   ]
  },
  {
   "cell_type": "code",
   "execution_count": null,
   "id": "b8a50634",
   "metadata": {},
   "outputs": [],
   "source": [
    "# word cloud of stopped words\n",
    "plot_wordcloud(make_wordcloud(tokens_stopped_neg))"
   ]
  },
  {
   "cell_type": "markdown",
   "id": "1b729517",
   "metadata": {},
   "source": [
    "# end"
   ]
  }
 ],
 "metadata": {
  "kernelspec": {
   "display_name": "Python (learn-env)",
   "language": "python",
   "name": "learn-env"
  },
  "language_info": {
   "codemirror_mode": {
    "name": "ipython",
    "version": 3
   },
   "file_extension": ".py",
   "mimetype": "text/x-python",
   "name": "python",
   "nbconvert_exporter": "python",
   "pygments_lexer": "ipython3",
   "version": "3.8.5"
  }
 },
 "nbformat": 4,
 "nbformat_minor": 5
}
