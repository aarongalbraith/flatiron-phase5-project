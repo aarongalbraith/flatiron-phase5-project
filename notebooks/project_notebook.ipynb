{
 "cells": [
  {
   "cell_type": "markdown",
   "id": "b0089503",
   "metadata": {},
   "source": [
    "https://archive.ics.uci.edu/dataset/462/drug+review+dataset+drugs+com"
   ]
  },
  {
   "cell_type": "markdown",
   "id": "41434b21",
   "metadata": {},
   "source": [
    "# Flatiron Phase 5 Project\n",
    "\n",
    "## Aaron Galbraith\n",
    "\n",
    "https://www.linkedin.com/in/aarongalbraith \\\n",
    "https://github.com/aarongalbraith\n",
    "\n",
    "### Submitted: November 21, 2023\n",
    "\n",
    "## working contents\n",
    "\n",
    "- **[functions](#functions)<br>**\n",
    "- **[rough overview](#rough-overview)<br>**\n",
    "- **[duplicates](#duplicates)<br>**\n",
    "- **[missing values](#missing-values)<br>**\n",
    "- **[contractions](#contractions)<br>**\n",
    "- **[dates](#dates)<br>**\n",
    "- **[ratings](#ratings)<br>**\n",
    "- **[focusing on birth control](#focusing-on-birth-control)<br>**\n",
    "- **[feature engineering ideas](#feature-engineering-ideas)<br>**\n",
    "- **[rudimentary word cloud maker](#rudimentary-word-cloud-maker)<br>**\n",
    "- **[end](#end)<br>**\n",
    "\n",
    "\n",
    "## Contents\n",
    "\n",
    "- **[Business Understanding](#Business-Understanding)<br>**\n",
    "- **[Data Understanding](#Data-Understanding)**<br>\n",
    "- **[Data Preparation](#Data-Preparation)**<br>\n",
    "- **[Exploration](#Exploration)**<br>\n",
    "- **[Modeling](#Modeling)**<br>\n",
    "- **[Evaluation](#Evaluation)**<br>\n",
    "- **[Recommendations](#Recommendations)<br>**\n",
    "- **[Further Inquiry](#Further-Inquiry)**<br>"
   ]
  },
  {
   "cell_type": "code",
   "execution_count": 1,
   "id": "515d0e65",
   "metadata": {},
   "outputs": [],
   "source": [
    "import pandas as pd\n",
    "import matplotlib.pyplot as plt\n",
    "\n",
    "import nltk\n",
    "from nltk.tokenize import word_tokenize\n",
    "from nltk.stem import WordNetLemmatizer\n",
    "from nltk import FreqDist\n",
    "from nltk.corpus import stopwords\n",
    "import string\n",
    "from wordcloud import WordCloud\n",
    "\n",
    "import html\n",
    "import contractions\n",
    "\n",
    "import re\n",
    "\n",
    "from IPython.display import display\n",
    "\n",
    "from sklearn.model_selection import train_test_split\n",
    "\n",
    "from sklearn.metrics import confusion_matrix, plot_confusion_matrix, accuracy_score, precision_score, f1_score\n",
    "from sklearn.pipeline import Pipeline\n",
    "\n",
    "from sklearn.feature_extraction.text import TfidfVectorizer\n",
    "from sklearn.naive_bayes import MultinomialNB\n",
    "from sklearn.model_selection import train_test_split, GridSearchCV\n",
    "\n",
    "\n",
    "SEED = 1979\n",
    "\n",
    "do_grids = True"
   ]
  },
  {
   "cell_type": "code",
   "execution_count": 2,
   "id": "41cbe70a",
   "metadata": {},
   "outputs": [],
   "source": [
    "d1 = pd.read_csv('../data/drugsComTrain_raw.tsv', delimiter='\\t', encoding='latin-1')\n",
    "d2 = pd.read_csv('../data/drugsComTest_raw.tsv', delimiter='\\t', encoding='latin-1')\n",
    "df = pd.concat([d1,d2]).reset_index().drop(columns=['Unnamed: 0', 'index'])"
   ]
  },
  {
   "cell_type": "markdown",
   "id": "69b45689",
   "metadata": {},
   "source": [
    "# functions"
   ]
  },
  {
   "cell_type": "code",
   "execution_count": 3,
   "id": "d5fd9a22",
   "metadata": {},
   "outputs": [],
   "source": [
    "def show_review(index):\n",
    "    print(df.review.loc[index])\n",
    "    display(df[df.review == df.loc[index].review][['drugName', 'condition', 'rating', 'date', 'usefulCount']])"
   ]
  },
  {
   "cell_type": "code",
   "execution_count": 4,
   "id": "a80f328b",
   "metadata": {},
   "outputs": [],
   "source": [
    "def show_similar(index):\n",
    "    \n",
    "    count_total = df[\n",
    "        (df.drugName == df.loc[index].drugName) & \\\n",
    "        (df.condition == df.loc[index].condition) & \\\n",
    "        (df.date == df.loc[index].date)\n",
    "    ].review.count()\n",
    "    \n",
    "    count_similar = df[\n",
    "        (df.drugName == df.loc[index].drugName) & \\\n",
    "        (df.condition == df.loc[index].condition) & \\\n",
    "        (df.rating == df.loc[index].rating) & \\\n",
    "        (df.date == df.loc[index].date)\n",
    "    ].review.count()\n",
    "    \n",
    "    print('On', df.loc[index].date, df.loc[index].drugName, 'was reviewed', count_total, \\\n",
    "          'times and received a rating of', df.loc[index].rating, count_similar, 'times.\\n')\n",
    "    print('From that date, here are all', count_similar, 'reviews with the same rating:\\n')\n",
    "    for ind in df[\n",
    "        (df.drugName == df.loc[index].drugName) & \\\n",
    "        (df.condition == df.loc[index].condition) & \\\n",
    "        (df.rating == df.loc[index].rating) & \\\n",
    "        (df.date == df.loc[index].date)\n",
    "    ].index:\n",
    "        print(df.loc[ind].review,'\\n')\n",
    "    \n",
    "    print('Here is a breakdown of all the dates when reviewers gave the same drug name and condition THIS RATING:')\n",
    "    display(df[\n",
    "        (df.drugName == df.loc[index].drugName) & \\\n",
    "        (df.condition == df.loc[index].condition) & \\\n",
    "        (df.rating == df.loc[index].rating)\n",
    "    ].date.value_counts())"
   ]
  },
  {
   "cell_type": "markdown",
   "id": "ccc9d360",
   "metadata": {},
   "source": [
    "# rough overview"
   ]
  },
  {
   "cell_type": "code",
   "execution_count": null,
   "id": "c51a91bc",
   "metadata": {},
   "outputs": [],
   "source": [
    "df.head()"
   ]
  },
  {
   "cell_type": "code",
   "execution_count": null,
   "id": "4b48f4a4",
   "metadata": {},
   "outputs": [],
   "source": [
    "df.shape"
   ]
  },
  {
   "cell_type": "code",
   "execution_count": null,
   "id": "7f7fa48b",
   "metadata": {},
   "outputs": [],
   "source": [
    "df.info()"
   ]
  },
  {
   "cell_type": "code",
   "execution_count": null,
   "id": "3a9387fd",
   "metadata": {},
   "outputs": [],
   "source": [
    "df.drugName.value_counts()"
   ]
  },
  {
   "cell_type": "code",
   "execution_count": null,
   "id": "77e742b6",
   "metadata": {},
   "outputs": [],
   "source": [
    "df.condition.value_counts()"
   ]
  },
  {
   "cell_type": "code",
   "execution_count": null,
   "id": "635247cd",
   "metadata": {},
   "outputs": [],
   "source": [
    "df.rating.value_counts()"
   ]
  },
  {
   "cell_type": "code",
   "execution_count": null,
   "id": "bb2734f2",
   "metadata": {},
   "outputs": [],
   "source": [
    "df.groupby('drugName').condition.nunique().value_counts()"
   ]
  },
  {
   "cell_type": "markdown",
   "id": "0552b0d7",
   "metadata": {},
   "source": [
    "This means that, for example, 2047 drugs treat one condition only, and 753 drugs treat two conditions, etc."
   ]
  },
  {
   "cell_type": "code",
   "execution_count": null,
   "id": "4ca0c644",
   "metadata": {},
   "outputs": [],
   "source": [
    "df.groupby('condition').drugName.nunique().value_counts()"
   ]
  },
  {
   "cell_type": "markdown",
   "id": "2591b5cb",
   "metadata": {},
   "source": [
    "This means that 180 conditions are treatable by two drugs, etc."
   ]
  },
  {
   "cell_type": "code",
   "execution_count": null,
   "id": "37838843",
   "metadata": {
    "scrolled": true
   },
   "outputs": [],
   "source": [
    "pd.set_option(\"display.max_rows\", None)\n",
    "print(df.drugName.value_counts())\n",
    "pd.set_option(\"display.max_rows\", 10)"
   ]
  },
  {
   "cell_type": "markdown",
   "id": "ae19df27",
   "metadata": {},
   "source": [
    "A casual overview of the drug names indicates that they all seem valid."
   ]
  },
  {
   "cell_type": "code",
   "execution_count": null,
   "id": "1a332a8b",
   "metadata": {
    "scrolled": true
   },
   "outputs": [],
   "source": [
    "pd.set_option(\"display.max_rows\", None)\n",
    "print(df.condition.value_counts())\n",
    "pd.set_option(\"display.max_rows\", 10)"
   ]
  },
  {
   "cell_type": "markdown",
   "id": "492b586e",
   "metadata": {},
   "source": [
    "Oddly, the condition labels often (always?) omit initial 'F' and terminal 'r'. We can isolate instances of the former by searching for conditions that start with a lower case letter."
   ]
  },
  {
   "cell_type": "markdown",
   "id": "b277c6d0",
   "metadata": {},
   "source": [
    "# missing values"
   ]
  },
  {
   "cell_type": "code",
   "execution_count": 5,
   "id": "501536d4",
   "metadata": {},
   "outputs": [
    {
     "data": {
      "text/plain": [
       "1194"
      ]
     },
     "execution_count": 5,
     "metadata": {},
     "output_type": "execute_result"
    }
   ],
   "source": [
    "len(df[df.condition.isna()])"
   ]
  },
  {
   "cell_type": "code",
   "execution_count": 6,
   "id": "257d3cee",
   "metadata": {},
   "outputs": [],
   "source": [
    "df.condition.fillna('missing', inplace=True)"
   ]
  },
  {
   "cell_type": "code",
   "execution_count": 7,
   "id": "eea9ad9f",
   "metadata": {},
   "outputs": [
    {
     "data": {
      "text/plain": [
       "1194"
      ]
     },
     "execution_count": 7,
     "metadata": {},
     "output_type": "execute_result"
    }
   ],
   "source": [
    "len(df[df.condition == 'missing'])"
   ]
  },
  {
   "cell_type": "markdown",
   "id": "39efd94c",
   "metadata": {},
   "source": [
    "We noticed another condition label that was meant to indicate missing and should be accordingly changed."
   ]
  },
  {
   "cell_type": "code",
   "execution_count": 8,
   "id": "46e19ff3",
   "metadata": {},
   "outputs": [],
   "source": [
    "df.condition = df.condition.apply(lambda x: 'missing' if 'Not Listed' in x else x)"
   ]
  },
  {
   "cell_type": "code",
   "execution_count": 9,
   "id": "7a3e4619",
   "metadata": {},
   "outputs": [
    {
     "data": {
      "text/plain": [
       "1786"
      ]
     },
     "execution_count": 9,
     "metadata": {},
     "output_type": "execute_result"
    }
   ],
   "source": [
    "len(df[df.condition == 'missing'])"
   ]
  },
  {
   "cell_type": "markdown",
   "id": "ef0a755d",
   "metadata": {},
   "source": [
    "We've identified some actual missing condition labels, but we noticed there are more condition labels that seem suspicious, particularly ones that start with something other than an upper case character. Let's look at all such condition labels."
   ]
  },
  {
   "cell_type": "code",
   "execution_count": 10,
   "id": "b4a8a90e",
   "metadata": {},
   "outputs": [
    {
     "data": {
      "text/plain": [
       "{'0</span> users found this comment helpful.',\n",
       " '100</span> users found this comment helpful.',\n",
       " '105</span> users found this comment helpful.',\n",
       " '10</span> users found this comment helpful.',\n",
       " '110</span> users found this comment helpful.',\n",
       " '11</span> users found this comment helpful.',\n",
       " '121</span> users found this comment helpful.',\n",
       " '123</span> users found this comment helpful.',\n",
       " '12</span> users found this comment helpful.',\n",
       " '135</span> users found this comment helpful.',\n",
       " '13</span> users found this comment helpful.',\n",
       " '142</span> users found this comment helpful.',\n",
       " '145</span> users found this comment helpful.',\n",
       " '146</span> users found this comment helpful.',\n",
       " '14</span> users found this comment helpful.',\n",
       " '15</span> users found this comment helpful.',\n",
       " '16</span> users found this comment helpful.',\n",
       " '17</span> users found this comment helpful.',\n",
       " '18</span> users found this comment helpful.',\n",
       " '19</span> users found this comment helpful.',\n",
       " '1</span> users found this comment helpful.',\n",
       " '20</span> users found this comment helpful.',\n",
       " '21</span> users found this comment helpful.',\n",
       " '22</span> users found this comment helpful.',\n",
       " '23</span> users found this comment helpful.',\n",
       " '24</span> users found this comment helpful.',\n",
       " '25</span> users found this comment helpful.',\n",
       " '26</span> users found this comment helpful.',\n",
       " '27</span> users found this comment helpful.',\n",
       " '28</span> users found this comment helpful.',\n",
       " '29</span> users found this comment helpful.',\n",
       " '2</span> users found this comment helpful.',\n",
       " '30</span> users found this comment helpful.',\n",
       " '31</span> users found this comment helpful.',\n",
       " '32</span> users found this comment helpful.',\n",
       " '33</span> users found this comment helpful.',\n",
       " '34</span> users found this comment helpful.',\n",
       " '35</span> users found this comment helpful.',\n",
       " '36</span> users found this comment helpful.',\n",
       " '37</span> users found this comment helpful.',\n",
       " '38</span> users found this comment helpful.',\n",
       " '39</span> users found this comment helpful.',\n",
       " '3</span> users found this comment helpful.',\n",
       " '40</span> users found this comment helpful.',\n",
       " '41</span> users found this comment helpful.',\n",
       " '42</span> users found this comment helpful.',\n",
       " '43</span> users found this comment helpful.',\n",
       " '44</span> users found this comment helpful.',\n",
       " '45</span> users found this comment helpful.',\n",
       " '46</span> users found this comment helpful.',\n",
       " '47</span> users found this comment helpful.',\n",
       " '48</span> users found this comment helpful.',\n",
       " '4</span> users found this comment helpful.',\n",
       " '51</span> users found this comment helpful.',\n",
       " '54</span> users found this comment helpful.',\n",
       " '55</span> users found this comment helpful.',\n",
       " '5</span> users found this comment helpful.',\n",
       " '61</span> users found this comment helpful.',\n",
       " '62</span> users found this comment helpful.',\n",
       " '63</span> users found this comment helpful.',\n",
       " '64</span> users found this comment helpful.',\n",
       " '6</span> users found this comment helpful.',\n",
       " '70</span> users found this comment helpful.',\n",
       " '72</span> users found this comment helpful.',\n",
       " '74</span> users found this comment helpful.',\n",
       " '75</span> users found this comment helpful.',\n",
       " '76</span> users found this comment helpful.',\n",
       " '77</span> users found this comment helpful.',\n",
       " '79</span> users found this comment helpful.',\n",
       " '7</span> users found this comment helpful.',\n",
       " '83</span> users found this comment helpful.',\n",
       " '84</span> users found this comment helpful.',\n",
       " '85</span> users found this comment helpful.',\n",
       " '8</span> users found this comment helpful.',\n",
       " '92</span> users found this comment helpful.',\n",
       " '94</span> users found this comment helpful.',\n",
       " '95</span> users found this comment helpful.',\n",
       " '98</span> users found this comment helpful.',\n",
       " '99</span> users found this comment helpful.',\n",
       " '9</span> users found this comment helpful.',\n",
       " 'acial Lipoatrophy',\n",
       " 'acial Wrinkles',\n",
       " 'actor IX Deficiency',\n",
       " 'ailure to Thrive',\n",
       " 'amilial Cold Autoinflammatory Syndrome',\n",
       " 'amilial Mediterranean Feve',\n",
       " 'atigue',\n",
       " 'cal Segmental Glomerulosclerosis',\n",
       " 'emale Infertility',\n",
       " 'eve',\n",
       " 'ge (amlodipine / valsartan)',\n",
       " 'ge HCT (amlodipine / hydrochlorothiazide / valsartan)',\n",
       " 'ibrocystic Breast Disease',\n",
       " 'ibromyalgia',\n",
       " 'lic Acid Deficiency',\n",
       " 'llicle Stimulation',\n",
       " 'llicular Lymphoma',\n",
       " 'm Pain Disorde',\n",
       " 'mance Anxiety',\n",
       " 'me',\n",
       " 'min / pioglitazone)',\n",
       " 'min / rosiglitazone)',\n",
       " 'min / saxagliptin)',\n",
       " 'min / sitagliptin)',\n",
       " 'min)',\n",
       " 'mis',\n",
       " 'mist (',\n",
       " 'moterol / mometasone)',\n",
       " 'moterol)',\n",
       " 'mulation) (phenylephrine)',\n",
       " 't Care',\n",
       " 't Pac with Cyclobenzaprine (cyclobenzaprine)',\n",
       " 'tic (mycophenolic acid)',\n",
       " 'unctional Gastric Disorde',\n",
       " 'ungal Infection Prophylaxis',\n",
       " 'ungal Pneumonia',\n",
       " \"von Willebrand's Disease\",\n",
       " 'zen Shoulde'}"
      ]
     },
     "execution_count": 10,
     "metadata": {},
     "output_type": "execute_result"
    }
   ],
   "source": [
    "set(df[(~df.condition.str[0].isin(list(string.ascii_uppercase))) &\n",
    "   (df.condition != 'missing')\n",
    "  ].condition)"
   ]
  },
  {
   "cell_type": "markdown",
   "id": "d96ae94f",
   "metadata": {},
   "source": [
    "These fall into three categories. Ones that include \"users found this comment helpful\" should be regarded as erroneous and therefore missing."
   ]
  },
  {
   "cell_type": "code",
   "execution_count": 11,
   "id": "f6a3f950",
   "metadata": {},
   "outputs": [],
   "source": [
    "df.condition = df.condition.apply(lambda x: 'missing' if 'users found' in x else x)"
   ]
  },
  {
   "cell_type": "code",
   "execution_count": 12,
   "id": "3a5042d9",
   "metadata": {},
   "outputs": [
    {
     "data": {
      "text/plain": [
       "2957"
      ]
     },
     "execution_count": 12,
     "metadata": {},
     "output_type": "execute_result"
    }
   ],
   "source": [
    "len(df[df.condition == 'missing'])"
   ]
  },
  {
   "cell_type": "markdown",
   "id": "37f477d1",
   "metadata": {},
   "source": [
    " Ones that show a clipped copy of the drug name and end with a parenthesis should also be regarded as missing."
   ]
  },
  {
   "cell_type": "code",
   "execution_count": 13,
   "id": "5a289758",
   "metadata": {},
   "outputs": [],
   "source": [
    "df.condition = df.condition.apply(lambda x: 'missing' \\\n",
    "                                  if x[0] not in list(string.ascii_uppercase) and \\\n",
    "                                  x[-1] in ['(', ')'] \\\n",
    "                                  else x)"
   ]
  },
  {
   "cell_type": "code",
   "execution_count": 14,
   "id": "c94d8221",
   "metadata": {},
   "outputs": [
    {
     "data": {
      "text/plain": [
       "3286"
      ]
     },
     "execution_count": 14,
     "metadata": {},
     "output_type": "execute_result"
    }
   ],
   "source": [
    "len(df[df.condition == 'missing'])"
   ]
  },
  {
   "cell_type": "markdown",
   "id": "f114e633",
   "metadata": {},
   "source": [
    "Most of the ones that show a clipped version of the condition label can possibly be restored."
   ]
  },
  {
   "cell_type": "code",
   "execution_count": 15,
   "id": "81d393b4",
   "metadata": {},
   "outputs": [],
   "source": [
    "def condition_restore(condition):\n",
    "    if condition.split()[-1] in ['Disorde', 'eve', 'Shoulde', 'Cance']:\n",
    "        condition = condition+'r'\n",
    "    if condition.split()[0] in ['acial', 'ibrocystic', 'ungal', 'amilial', 'ailure', 'ever', \\\n",
    "                                'emale', 'unctional', 'actor', 'ibromyalgia', 'atigue']:\n",
    "        condition = 'F'+condition\n",
    "    if condition.split()[0] in ['llicular', 'llicle', 'lic', 'cal']:\n",
    "        condition = 'Fo'+condition\n",
    "    if condition.split()[0] in ['mance']:\n",
    "        condition = 'Perfor'+condition\n",
    "    if condition.split()[0] in ['zen']:\n",
    "        condition = 'Fro'+condition\n",
    "    if condition.split()[0] in ['mis']:\n",
    "        condition = 'Dermatitis Herpetifor'+condition\n",
    "    return condition\n",
    "\n",
    "df.condition = df.condition.apply(lambda x: condition_restore(x))"
   ]
  },
  {
   "cell_type": "markdown",
   "id": "64e5c0a7",
   "metadata": {},
   "source": [
    "Let's look at what we have left."
   ]
  },
  {
   "cell_type": "code",
   "execution_count": 16,
   "id": "5e2211b2",
   "metadata": {},
   "outputs": [
    {
     "data": {
      "text/plain": [
       "{'m Pain Disorder', 'me', 't Care', \"von Willebrand's Disease\"}"
      ]
     },
     "execution_count": 16,
     "metadata": {},
     "output_type": "execute_result"
    }
   ],
   "source": [
    "set(df[(~df.condition.str[0].isin(list(string.ascii_uppercase))) &\n",
    "   (df.condition != 'missing')\n",
    "  ].condition)"
   ]
  },
  {
   "cell_type": "markdown",
   "id": "dc8bde8d",
   "metadata": {},
   "source": [
    "\"von Willebrand's Disease\" appears to be a naturally uncapitalized condition. The others have been impossible to restore and will also be regarded as missing."
   ]
  },
  {
   "cell_type": "code",
   "execution_count": 17,
   "id": "98c50cea",
   "metadata": {},
   "outputs": [],
   "source": [
    "df.condition = df.condition.apply(lambda x: 'missing' \\\n",
    "                                  if x[0] not in list(string.ascii_uppercase) and \\\n",
    "                                  x.split()[0] != 'von' \\\n",
    "                                  else x)"
   ]
  },
  {
   "cell_type": "code",
   "execution_count": 18,
   "id": "644c20e5",
   "metadata": {},
   "outputs": [
    {
     "data": {
      "text/plain": [
       "3293"
      ]
     },
     "execution_count": 18,
     "metadata": {},
     "output_type": "execute_result"
    }
   ],
   "source": [
    "len(df[df.condition == 'missing'])"
   ]
  },
  {
   "cell_type": "markdown",
   "id": "3b8a2e5e",
   "metadata": {},
   "source": [
    "## proposed solutions for missing values\n",
    "\n",
    "1. For every record with a missing condition, we will assign it the condition that is most common for the drug indicated by that record.\n",
    "\n",
    "2. Before executing solution 1, find each record's twin and use the condition label from the twin where applicable.\n",
    "\n",
    "For now, we'll just execute solution 2."
   ]
  },
  {
   "cell_type": "code",
   "execution_count": 19,
   "id": "4b1904ec",
   "metadata": {},
   "outputs": [],
   "source": [
    "drugs_w_missing_condition = list(set(df[df.condition == 'missing'].drugName))"
   ]
  },
  {
   "cell_type": "code",
   "execution_count": 20,
   "id": "482f6708",
   "metadata": {},
   "outputs": [
    {
     "data": {
      "text/plain": [
       "842"
      ]
     },
     "execution_count": 20,
     "metadata": {},
     "output_type": "execute_result"
    }
   ],
   "source": [
    "len(drugs_w_missing_condition)"
   ]
  },
  {
   "cell_type": "markdown",
   "id": "8cfab65b",
   "metadata": {},
   "source": [
    "This applies to about a quarter of the drugs. We'll create a dictionary that reports the most common condition for these drugs."
   ]
  },
  {
   "cell_type": "code",
   "execution_count": 21,
   "id": "8862b975",
   "metadata": {},
   "outputs": [],
   "source": [
    "most_common_condition = {}\n",
    "\n",
    "for drug in drugs_w_missing_condition:\n",
    "    condition = df[df.drugName == drug].condition.value_counts().idxmax()\n",
    "    if condition == 'missing' and len(set(df[df.drugName == drug].condition)) > 1:\n",
    "        condition = df[(df.drugName == drug) &\n",
    "                       (df.condition != 'missing')\n",
    "                      ].condition.value_counts().idxmax()\n",
    "    proportion = round(df[df.drugName == drug].condition.value_counts(normalize=True)[0],2)\n",
    "    most_common_condition[drug] = [condition, proportion]"
   ]
  },
  {
   "cell_type": "code",
   "execution_count": 22,
   "id": "74d9abeb",
   "metadata": {},
   "outputs": [
    {
     "data": {
      "text/plain": [
       "['Erectile Dysfunction', 0.87]"
      ]
     },
     "execution_count": 22,
     "metadata": {},
     "output_type": "execute_result"
    }
   ],
   "source": [
    "most_common_condition['Viagra']"
   ]
  },
  {
   "cell_type": "markdown",
   "id": "1d5899a4",
   "metadata": {},
   "source": [
    "For example, if a review with an unlisted condition is about Viagra, we will assume the condition is Erectile Dysfunction."
   ]
  },
  {
   "cell_type": "code",
   "execution_count": 23,
   "id": "3abbc2fe",
   "metadata": {},
   "outputs": [],
   "source": [
    "df['condition'] = df.apply(lambda x: most_common_condition[x.drugName][0] \\\n",
    "                           if x.condition == 'missing' \\\n",
    "                           else x.condition, axis = 1)"
   ]
  },
  {
   "cell_type": "code",
   "execution_count": 24,
   "id": "8dd6e501",
   "metadata": {},
   "outputs": [
    {
     "data": {
      "text/plain": [
       "105"
      ]
     },
     "execution_count": 24,
     "metadata": {},
     "output_type": "execute_result"
    }
   ],
   "source": [
    "len(df[df.condition == 'missing'])"
   ]
  },
  {
   "cell_type": "markdown",
   "id": "87512727",
   "metadata": {},
   "source": [
    "This is how many records there are that still have no label for condition. This means the drugs indicated in these records are *only* indicated in references without an indicated condition. They may still have a \"twin\" records that we could match them to, but while we're skipping that solution step, there's not really anything we can do with these records, and we may as well drop them."
   ]
  },
  {
   "cell_type": "code",
   "execution_count": 25,
   "id": "d83b233b",
   "metadata": {},
   "outputs": [],
   "source": [
    "df.drop(df[df.condition == 'missing'].index, inplace=True)"
   ]
  },
  {
   "cell_type": "markdown",
   "id": "3974605b",
   "metadata": {},
   "source": [
    "# duplicates"
   ]
  },
  {
   "cell_type": "code",
   "execution_count": 26,
   "id": "9d521443",
   "metadata": {},
   "outputs": [
    {
     "data": {
      "text/plain": [
       "False    214956\n",
       "True          2\n",
       "Name: count, dtype: int64"
      ]
     },
     "execution_count": 26,
     "metadata": {},
     "output_type": "execute_result"
    }
   ],
   "source": [
    "df.duplicated().value_counts()"
   ]
  },
  {
   "cell_type": "code",
   "execution_count": 27,
   "id": "4e8d9616",
   "metadata": {},
   "outputs": [
    {
     "data": {
      "text/html": [
       "<div>\n",
       "<style scoped>\n",
       "    .dataframe tbody tr th:only-of-type {\n",
       "        vertical-align: middle;\n",
       "    }\n",
       "\n",
       "    .dataframe tbody tr th {\n",
       "        vertical-align: top;\n",
       "    }\n",
       "\n",
       "    .dataframe thead th {\n",
       "        text-align: right;\n",
       "    }\n",
       "</style>\n",
       "<table border=\"1\" class=\"dataframe\">\n",
       "  <thead>\n",
       "    <tr style=\"text-align: right;\">\n",
       "      <th></th>\n",
       "      <th>drugName</th>\n",
       "      <th>condition</th>\n",
       "      <th>review</th>\n",
       "      <th>rating</th>\n",
       "      <th>date</th>\n",
       "      <th>usefulCount</th>\n",
       "    </tr>\n",
       "  </thead>\n",
       "  <tbody>\n",
       "    <tr>\n",
       "      <th>178703</th>\n",
       "      <td>Levonorgestrel</td>\n",
       "      <td>Emergency Contraception</td>\n",
       "      <td>\"I had a quickie n he decided to finish it off...</td>\n",
       "      <td>1.0</td>\n",
       "      <td>September 23, 2016</td>\n",
       "      <td>10</td>\n",
       "    </tr>\n",
       "    <tr>\n",
       "      <th>191001</th>\n",
       "      <td>Plan B</td>\n",
       "      <td>Emergency Contraception</td>\n",
       "      <td>\"I had a quickie n he decided to finish it off...</td>\n",
       "      <td>1.0</td>\n",
       "      <td>September 23, 2016</td>\n",
       "      <td>10</td>\n",
       "    </tr>\n",
       "  </tbody>\n",
       "</table>\n",
       "</div>"
      ],
      "text/plain": [
       "              drugName                condition  \\\n",
       "178703  Levonorgestrel  Emergency Contraception   \n",
       "191001          Plan B  Emergency Contraception   \n",
       "\n",
       "                                                   review  rating  \\\n",
       "178703  \"I had a quickie n he decided to finish it off...     1.0   \n",
       "191001  \"I had a quickie n he decided to finish it off...     1.0   \n",
       "\n",
       "                      date  usefulCount  \n",
       "178703  September 23, 2016           10  \n",
       "191001  September 23, 2016           10  "
      ]
     },
     "execution_count": 27,
     "metadata": {},
     "output_type": "execute_result"
    }
   ],
   "source": [
    "df[df.duplicated()]"
   ]
  },
  {
   "cell_type": "code",
   "execution_count": 29,
   "id": "ec201f9a",
   "metadata": {},
   "outputs": [
    {
     "name": "stdout",
     "output_type": "stream",
     "text": [
      "\"I had a quickie n he decided to finish it off in me... Well IMMEDIATELY we went 2 our local pharmacy n bought this plan b 1 step pill.I took it immediately.2 weeks later,took a pregnancy test n got the world&#039;s BIGGEST POSITIVE. The small pill was $50.That was the 1st time in a year n a half that I had intercourse n the last after I had my first son. I honestly believe this pill is ineffective because they just want u to think it works when n reality, it would never work. Alot of women don&#039;t know their bodies when they ovulate so if your not fertile and he ejaculates n u and u take the pill n dont get preg., The pill is supposed to make u think it worked. DO NOT buy. Was NEVER effective. Thank u!\"\n"
     ]
    },
    {
     "data": {
      "text/html": [
       "<div>\n",
       "<style scoped>\n",
       "    .dataframe tbody tr th:only-of-type {\n",
       "        vertical-align: middle;\n",
       "    }\n",
       "\n",
       "    .dataframe tbody tr th {\n",
       "        vertical-align: top;\n",
       "    }\n",
       "\n",
       "    .dataframe thead th {\n",
       "        text-align: right;\n",
       "    }\n",
       "</style>\n",
       "<table border=\"1\" class=\"dataframe\">\n",
       "  <thead>\n",
       "    <tr style=\"text-align: right;\">\n",
       "      <th></th>\n",
       "      <th>drugName</th>\n",
       "      <th>condition</th>\n",
       "      <th>rating</th>\n",
       "      <th>date</th>\n",
       "      <th>usefulCount</th>\n",
       "    </tr>\n",
       "  </thead>\n",
       "  <tbody>\n",
       "    <tr>\n",
       "      <th>131531</th>\n",
       "      <td>Levonorgestrel</td>\n",
       "      <td>Emergency Contraception</td>\n",
       "      <td>1.0</td>\n",
       "      <td>September 23, 2016</td>\n",
       "      <td>10</td>\n",
       "    </tr>\n",
       "    <tr>\n",
       "      <th>143768</th>\n",
       "      <td>Plan B</td>\n",
       "      <td>Emergency Contraception</td>\n",
       "      <td>1.0</td>\n",
       "      <td>September 23, 2016</td>\n",
       "      <td>10</td>\n",
       "    </tr>\n",
       "    <tr>\n",
       "      <th>178703</th>\n",
       "      <td>Levonorgestrel</td>\n",
       "      <td>Emergency Contraception</td>\n",
       "      <td>1.0</td>\n",
       "      <td>September 23, 2016</td>\n",
       "      <td>10</td>\n",
       "    </tr>\n",
       "    <tr>\n",
       "      <th>191001</th>\n",
       "      <td>Plan B</td>\n",
       "      <td>Emergency Contraception</td>\n",
       "      <td>1.0</td>\n",
       "      <td>September 23, 2016</td>\n",
       "      <td>10</td>\n",
       "    </tr>\n",
       "  </tbody>\n",
       "</table>\n",
       "</div>"
      ],
      "text/plain": [
       "              drugName                condition  rating                date  \\\n",
       "131531  Levonorgestrel  Emergency Contraception     1.0  September 23, 2016   \n",
       "143768          Plan B  Emergency Contraception     1.0  September 23, 2016   \n",
       "178703  Levonorgestrel  Emergency Contraception     1.0  September 23, 2016   \n",
       "191001          Plan B  Emergency Contraception     1.0  September 23, 2016   \n",
       "\n",
       "        usefulCount  \n",
       "131531           10  \n",
       "143768           10  \n",
       "178703           10  \n",
       "191001           10  "
      ]
     },
     "metadata": {},
     "output_type": "display_data"
    }
   ],
   "source": [
    "show_review(178703)"
   ]
  },
  {
   "cell_type": "markdown",
   "id": "7a98d94d",
   "metadata": {},
   "source": [
    "This is curious. The same review is recorded four times. There are two identical pairs, where the difference between the pairs is the drug name. We can drop one from each pair, but this will need to be revisited."
   ]
  },
  {
   "cell_type": "code",
   "execution_count": 30,
   "id": "e974e0f1",
   "metadata": {},
   "outputs": [],
   "source": [
    "df.drop_duplicates(inplace=True)"
   ]
  },
  {
   "cell_type": "markdown",
   "id": "6a8cc5f1",
   "metadata": {},
   "source": [
    "# temporary solution for duplicate records\n",
    "\n",
    "For the time being, we will drop records that duplicate ALL values EXCEPT drug name. This MIGHT drop some genuinely different records that happen to have the same condition, review (e.g. \"It works!\"), rating, date, and useful count."
   ]
  },
  {
   "cell_type": "code",
   "execution_count": null,
   "id": "e302dceb",
   "metadata": {},
   "outputs": [],
   "source": [
    "len(df)"
   ]
  },
  {
   "cell_type": "code",
   "execution_count": null,
   "id": "c57e2713",
   "metadata": {},
   "outputs": [],
   "source": [
    "df.drop(df[df.duplicated(subset=df.columns.difference(['drugName']))].index, inplace=True)"
   ]
  },
  {
   "cell_type": "code",
   "execution_count": null,
   "id": "71c6d4a0",
   "metadata": {},
   "outputs": [],
   "source": [
    "len(df)"
   ]
  },
  {
   "cell_type": "markdown",
   "id": "1a7becf2",
   "metadata": {},
   "source": [
    "# further exploration of duplicates (skip for now)"
   ]
  },
  {
   "cell_type": "markdown",
   "id": "96b367aa",
   "metadata": {},
   "source": [
    "The main type of duplicate we should look out for is records with duplicate reviews, as those likely indicate some kind of actual erroneous duplication. Let's see how many of those there are."
   ]
  },
  {
   "cell_type": "code",
   "execution_count": null,
   "id": "46aba6f5",
   "metadata": {},
   "outputs": [],
   "source": [
    "len(df[df.duplicated(subset=['review'])])"
   ]
  },
  {
   "cell_type": "markdown",
   "id": "bfc91a9f",
   "metadata": {},
   "source": [
    "That's a lot!\n",
    "\n",
    "The other type of duplicate we should possibly be aware of is a kind of \"intentional\" duplicate, where a user seems to be logging multiple reviews for the same product on the same day with the same rating in some deliberate attempt to boost or bomb the product's average. let's see how many records duplicate the drug name, condition, rating, and date."
   ]
  },
  {
   "cell_type": "code",
   "execution_count": null,
   "id": "9b2bb5cb",
   "metadata": {},
   "outputs": [],
   "source": [
    "len(df[df.duplicated(subset=['drugName', 'condition', 'rating', 'date'])])"
   ]
  },
  {
   "cell_type": "markdown",
   "id": "323a8468",
   "metadata": {},
   "source": [
    "That also seems like a lot. Let's explore these now."
   ]
  },
  {
   "cell_type": "code",
   "execution_count": null,
   "id": "a754c2fc",
   "metadata": {},
   "outputs": [],
   "source": [
    "df[df.duplicated(subset=['drugName', 'condition', 'rating', 'date'])].head()"
   ]
  },
  {
   "cell_type": "markdown",
   "id": "31d8a4d2",
   "metadata": {},
   "source": [
    "We'll use the \"show_similar\" function to explore these reviews that duplicate drug name"
   ]
  },
  {
   "cell_type": "code",
   "execution_count": null,
   "id": "1708c3a6",
   "metadata": {},
   "outputs": [],
   "source": [
    "show_similar(2450)"
   ]
  },
  {
   "cell_type": "code",
   "execution_count": null,
   "id": "5b478d10",
   "metadata": {},
   "outputs": [],
   "source": [
    "show_similar(3597)"
   ]
  },
  {
   "cell_type": "code",
   "execution_count": null,
   "id": "85db022b",
   "metadata": {},
   "outputs": [],
   "source": [
    "show_similar(4892)"
   ]
  },
  {
   "cell_type": "code",
   "execution_count": null,
   "id": "dc679422",
   "metadata": {},
   "outputs": [],
   "source": [
    "show_review(183510)"
   ]
  },
  {
   "cell_type": "code",
   "execution_count": null,
   "id": "a03ce079",
   "metadata": {},
   "outputs": [],
   "source": [
    "df[df.duplicated(subset=['drugName', 'condition', 'rating', 'date'])].rating.value_counts()"
   ]
  },
  {
   "cell_type": "code",
   "execution_count": null,
   "id": "68b0c7f8",
   "metadata": {},
   "outputs": [],
   "source": [
    "df[\n",
    "    (df.drugName == df.loc[8576].drugName) & \\\n",
    "    (df.condition == df.loc[8576].condition) & \\\n",
    "    (df.date == df.loc[8576].date)\n",
    "    \n",
    "]"
   ]
  },
  {
   "cell_type": "code",
   "execution_count": null,
   "id": "487cde03",
   "metadata": {},
   "outputs": [],
   "source": [
    "df[(df.drugName == 'Miconazole') & \\\n",
    "   (df.condition == 'Vaginal Yeast Infection') & \\\n",
    "   (df.rating == 1.0) & \\\n",
    "   (df.date == 'May 25, 2016') & \\\n",
    "   (df.usefulCount == 6) \\\n",
    "  ]"
   ]
  },
  {
   "cell_type": "code",
   "execution_count": null,
   "id": "89721c72",
   "metadata": {},
   "outputs": [],
   "source": [
    "show_review(8737)"
   ]
  },
  {
   "cell_type": "code",
   "execution_count": null,
   "id": "0aef799a",
   "metadata": {},
   "outputs": [],
   "source": [
    "len(df[df.duplicated(subset=['review'])])"
   ]
  },
  {
   "cell_type": "markdown",
   "id": "1e36c3da",
   "metadata": {},
   "source": [
    "An enormous number of records have duplicated reviews."
   ]
  },
  {
   "cell_type": "code",
   "execution_count": null,
   "id": "3769323b",
   "metadata": {},
   "outputs": [],
   "source": [
    "df.duplicated(subset=df.columns.difference(['drugName'])).value_counts()"
   ]
  },
  {
   "cell_type": "markdown",
   "id": "7f00b7f1",
   "metadata": {},
   "source": [
    "Most of the duplicate reviews are accounted for by different drug names. Let's explore some examples."
   ]
  },
  {
   "cell_type": "code",
   "execution_count": null,
   "id": "ff309466",
   "metadata": {},
   "outputs": [],
   "source": [
    "df[df.duplicated(subset=df.columns.difference(['drugName']))].head()"
   ]
  },
  {
   "cell_type": "markdown",
   "id": "5f38ccf1",
   "metadata": {},
   "source": [
    "Let's look at each of these to see the full review and all the instances of duplication."
   ]
  },
  {
   "cell_type": "code",
   "execution_count": null,
   "id": "c047d062",
   "metadata": {},
   "outputs": [],
   "source": [
    "show_review(524)"
   ]
  },
  {
   "cell_type": "code",
   "execution_count": null,
   "id": "6f59dcb7",
   "metadata": {},
   "outputs": [],
   "source": [
    "show_review(574)"
   ]
  },
  {
   "cell_type": "code",
   "execution_count": null,
   "id": "290d1c82",
   "metadata": {},
   "outputs": [],
   "source": [
    "show_review(726)"
   ]
  },
  {
   "cell_type": "code",
   "execution_count": null,
   "id": "28948172",
   "metadata": {},
   "outputs": [],
   "source": [
    "show_review(1070)"
   ]
  },
  {
   "cell_type": "code",
   "execution_count": null,
   "id": "471bf2d4",
   "metadata": {},
   "outputs": [],
   "source": [
    "show_review(1375)"
   ]
  },
  {
   "cell_type": "markdown",
   "id": "6766fda1",
   "metadata": {},
   "source": [
    "In all of the instances we checked, the duplicated record occurs because it is listed once under its chemical name and once under its brand name. We'll assume this is mostly the reason for the vast majority of review duplications and deal with them after we address other types of review duplications."
   ]
  },
  {
   "cell_type": "code",
   "execution_count": null,
   "id": "611b5425",
   "metadata": {},
   "outputs": [],
   "source": [
    "len(df[(df.duplicated(subset=['review'])) &\n",
    "   ~df.duplicated(subset=df.columns.difference(['drugName']))\n",
    "  ])"
   ]
  },
  {
   "cell_type": "markdown",
   "id": "57d6582c",
   "metadata": {},
   "source": [
    "This is how many records have identical reviews but differences *other than the drug name*. Let's explore a few of these."
   ]
  },
  {
   "cell_type": "code",
   "execution_count": null,
   "id": "702ef86a",
   "metadata": {},
   "outputs": [],
   "source": [
    "df[(df.duplicated(subset=['review'])) &\n",
    "   ~df.duplicated(subset=df.columns.difference(['drugName']))\n",
    "  ].head(15)"
   ]
  },
  {
   "cell_type": "code",
   "execution_count": null,
   "id": "c243815b",
   "metadata": {},
   "outputs": [],
   "source": [
    "show_review(2664)"
   ]
  },
  {
   "cell_type": "code",
   "execution_count": null,
   "id": "5b3c4e17",
   "metadata": {},
   "outputs": [],
   "source": [
    "show_review(6465)"
   ]
  },
  {
   "cell_type": "code",
   "execution_count": null,
   "id": "ede21cc4",
   "metadata": {},
   "outputs": [],
   "source": [
    "show_review(9735)"
   ]
  },
  {
   "cell_type": "code",
   "execution_count": null,
   "id": "07b0ed03",
   "metadata": {},
   "outputs": [],
   "source": [
    "show_review(13125)"
   ]
  },
  {
   "cell_type": "markdown",
   "id": "8b0902a4",
   "metadata": {},
   "source": [
    "Some of these are just common, short reviews, e.g. \"Great\". But others seem to have issues with the condition label as well.\n",
    "\n",
    "We found earlier that many duplicate reviews come in pairs where the drug name is generic and brand name in the two records. It seems that more of these pairs exist in instances where the condition is \"missing\" for some reason. Where this specific phenomenon occurs, we'll relabel the condition to match its partner in the pair. This will reduce the number of \"missing\" conditions but increase the number of duplicate pairs."
   ]
  },
  {
   "cell_type": "code",
   "execution_count": null,
   "id": "15b397c2",
   "metadata": {},
   "outputs": [],
   "source": [
    "len(df[df.condition == 'missing'])"
   ]
  },
  {
   "cell_type": "code",
   "execution_count": null,
   "id": "7151afd6",
   "metadata": {},
   "outputs": [],
   "source": [
    "len(df[df.duplicated(subset=df.columns.difference(['drugName']))])"
   ]
  },
  {
   "cell_type": "code",
   "execution_count": null,
   "id": "3fb56769",
   "metadata": {},
   "outputs": [],
   "source": [
    "def condition_match(x):\n",
    "    for index in range(len(df)):\n",
    "        dove = df.loc[index]\n",
    "        if dove.drugName != x.drugName and dove.condition != 'missing' \\\n",
    "        and dove[['review', 'rating', 'date', 'usefulCount']] == x[['review', 'rating', 'date', 'usefulCount']]:\n",
    "            print('hell yeah')\n",
    "#     df_temp = df[\n",
    "#         (df.drugName != x.drugName) &\n",
    "#         (df.condition != 'missing') &\n",
    "#         (df[['review', 'rating', 'date', 'usefulCount']] == x[['review', 'rating', 'date', 'usefulCount']])\n",
    "#         (df.review == x.review) &\n",
    "#         (df.rating == x.rating) &\n",
    "#         (df.date == x.date) &\n",
    "#         (df.usefulCount == x.usefulCount)\n",
    "#     ]\n",
    "#     if len(df_temp) == 1:\n",
    "#         return df_temp.iloc[0]['condition']\n",
    "#     else:\n",
    "#         return x.condition\n",
    "\n",
    "# df.condition = df.apply(lambda x: condition_match(x) if x.condition == 'missing' else x.condition, axis=1)"
   ]
  },
  {
   "cell_type": "code",
   "execution_count": null,
   "id": "27782fb1",
   "metadata": {},
   "outputs": [],
   "source": [
    "df[df.condition.str[-1] == ')'][['drugName', 'condition']].value_counts()"
   ]
  },
  {
   "cell_type": "markdown",
   "id": "e01e0c90",
   "metadata": {},
   "source": [
    "Is there a way to do a search for conditions whose last \"word\" is a string that appears in the drug name value?"
   ]
  },
  {
   "cell_type": "code",
   "execution_count": null,
   "id": "8dcd89b5",
   "metadata": {},
   "outputs": [],
   "source": [
    "len(df[df.duplicated(subset=df.columns.difference(['condition']))])"
   ]
  },
  {
   "cell_type": "code",
   "execution_count": null,
   "id": "84390dd5",
   "metadata": {},
   "outputs": [],
   "source": [
    "len(df[df.duplicated(subset=df.columns.difference(['rating']))])"
   ]
  },
  {
   "cell_type": "code",
   "execution_count": null,
   "id": "22fe9ac3",
   "metadata": {},
   "outputs": [],
   "source": [
    "len(df[df.duplicated(subset=df.columns.difference(['date']))])"
   ]
  },
  {
   "cell_type": "code",
   "execution_count": null,
   "id": "763869f9",
   "metadata": {},
   "outputs": [],
   "source": [
    "len(df[df.duplicated(subset=df.columns.difference(['usefulCount']))])"
   ]
  },
  {
   "cell_type": "code",
   "execution_count": null,
   "id": "9e2d60c6",
   "metadata": {},
   "outputs": [],
   "source": [
    "df[df.duplicated(subset=df.columns.difference(['usefulCount']))].head()"
   ]
  },
  {
   "cell_type": "code",
   "execution_count": null,
   "id": "03a7fce2",
   "metadata": {},
   "outputs": [],
   "source": [
    "show_review(42728)"
   ]
  },
  {
   "cell_type": "code",
   "execution_count": null,
   "id": "c347a82c",
   "metadata": {},
   "outputs": [],
   "source": [
    "show_review(61617)"
   ]
  },
  {
   "cell_type": "code",
   "execution_count": null,
   "id": "9e9b8306",
   "metadata": {},
   "outputs": [],
   "source": [
    "show_review(69518)"
   ]
  },
  {
   "cell_type": "code",
   "execution_count": null,
   "id": "8ae44f25",
   "metadata": {},
   "outputs": [],
   "source": [
    "show_review(72794)"
   ]
  },
  {
   "cell_type": "markdown",
   "id": "877a7c30",
   "metadata": {},
   "source": [
    "This appears to be an instance of someone re-posting a review multiple times. It seems that we should drop the duplicates in this case, but possibly we should tally up the useful count?"
   ]
  },
  {
   "cell_type": "markdown",
   "id": "9fd2ff0c",
   "metadata": {},
   "source": [
    "# contractions\n",
    "\n",
    "Here is an example of a contraction."
   ]
  },
  {
   "cell_type": "code",
   "execution_count": 31,
   "id": "cbc92981",
   "metadata": {},
   "outputs": [
    {
     "data": {
      "text/plain": [
       "'I&#039;m glad'"
      ]
     },
     "execution_count": 31,
     "metadata": {},
     "output_type": "execute_result"
    }
   ],
   "source": [
    "df.review[3][56:69]"
   ]
  },
  {
   "cell_type": "markdown",
   "id": "77e8a6e8",
   "metadata": {},
   "source": [
    "Here is how the html function fixes it."
   ]
  },
  {
   "cell_type": "code",
   "execution_count": 32,
   "id": "67a91f88",
   "metadata": {},
   "outputs": [
    {
     "data": {
      "text/plain": [
       "\"I'm glad\""
      ]
     },
     "execution_count": 32,
     "metadata": {},
     "output_type": "execute_result"
    }
   ],
   "source": [
    "html.unescape(df.loc[3][2])[56:64]"
   ]
  },
  {
   "cell_type": "markdown",
   "id": "7ac782d8",
   "metadata": {},
   "source": [
    "Here is how the contractions function fixes (the html function's fix of) it."
   ]
  },
  {
   "cell_type": "code",
   "execution_count": 33,
   "id": "f8b84437",
   "metadata": {},
   "outputs": [
    {
     "data": {
      "text/plain": [
       "'I am glad'"
      ]
     },
     "execution_count": 33,
     "metadata": {},
     "output_type": "execute_result"
    }
   ],
   "source": [
    "contractions.fix(html.unescape(df.loc[3][2]))[56:65]"
   ]
  },
  {
   "cell_type": "markdown",
   "id": "1dbe59fc",
   "metadata": {},
   "source": [
    "Here is an instance of \"ain't\" with the same functions applied."
   ]
  },
  {
   "cell_type": "code",
   "execution_count": 34,
   "id": "ff3acdde",
   "metadata": {},
   "outputs": [
    {
     "data": {
      "text/plain": [
       "'I ain&#039;t complaining'"
      ]
     },
     "execution_count": 34,
     "metadata": {},
     "output_type": "execute_result"
    }
   ],
   "source": [
    "df.review.loc[507][75:99]"
   ]
  },
  {
   "cell_type": "code",
   "execution_count": 35,
   "id": "38383b44",
   "metadata": {},
   "outputs": [
    {
     "data": {
      "text/plain": [
       "\"I ain't complaining\""
      ]
     },
     "execution_count": 35,
     "metadata": {},
     "output_type": "execute_result"
    }
   ],
   "source": [
    "html.unescape(df.review.loc[507])[75:94]"
   ]
  },
  {
   "cell_type": "code",
   "execution_count": 36,
   "id": "c548e837",
   "metadata": {},
   "outputs": [
    {
     "data": {
      "text/plain": [
       "'I are not complaining'"
      ]
     },
     "execution_count": 36,
     "metadata": {},
     "output_type": "execute_result"
    }
   ],
   "source": [
    "contractions.fix(html.unescape(df.review.loc[507]))[75:96]"
   ]
  },
  {
   "cell_type": "code",
   "execution_count": 37,
   "id": "63ee6c21",
   "metadata": {},
   "outputs": [
    {
     "data": {
      "text/plain": [
       "53"
      ]
     },
     "execution_count": 37,
     "metadata": {},
     "output_type": "execute_result"
    }
   ],
   "source": [
    "len(df[df.review.str.contains('ain&#039;t')])"
   ]
  },
  {
   "cell_type": "markdown",
   "id": "c42cdea6",
   "metadata": {},
   "source": [
    "There are 53 instances of \"ain't\".\n",
    "\n",
    "I'm currently having difficulty downloading the package that appropriately fixes \"ain't\" into \"is not\" or \"are not\" etc. This shouldn't matter after I remove stop words. I think it will be helpful to exclude negatives like \"no\" and \"not\" from the stop words. It could certainly be of help to look for bigrams like \"not good\"."
   ]
  },
  {
   "cell_type": "code",
   "execution_count": 38,
   "id": "ef3655a9",
   "metadata": {},
   "outputs": [],
   "source": [
    "df.review = df.review.apply(lambda x: html.unescape(x))"
   ]
  },
  {
   "cell_type": "markdown",
   "id": "a0ad4692",
   "metadata": {},
   "source": [
    "# dates"
   ]
  },
  {
   "cell_type": "code",
   "execution_count": null,
   "id": "710483fb",
   "metadata": {},
   "outputs": [],
   "source": [
    "sample = df.date.loc[0]"
   ]
  },
  {
   "cell_type": "code",
   "execution_count": null,
   "id": "18cc10c1",
   "metadata": {},
   "outputs": [],
   "source": [
    "sample"
   ]
  },
  {
   "cell_type": "code",
   "execution_count": null,
   "id": "7ddbd9b9",
   "metadata": {},
   "outputs": [],
   "source": [
    "re.split(r'\\W+', sample)"
   ]
  },
  {
   "cell_type": "markdown",
   "id": "e662d8e8",
   "metadata": {},
   "source": [
    "There's probably a datetime method for this, but the following will produce month // day // year, and then we can figure out the earliest and latest dates."
   ]
  },
  {
   "cell_type": "code",
   "execution_count": null,
   "id": "ad9bf0b2",
   "metadata": {},
   "outputs": [],
   "source": [
    "df['month'] = df.date.apply(lambda x: re.split(r'\\W+', x)[0])\n",
    "df['day'] = df.date.apply(lambda x: int(re.split(r'\\W+', x)[1]))\n",
    "df['year'] = df.date.apply(lambda x: int(re.split(r'\\W+', x)[2]))"
   ]
  },
  {
   "cell_type": "code",
   "execution_count": null,
   "id": "b62c19b7",
   "metadata": {},
   "outputs": [],
   "source": [
    "df.year.min()"
   ]
  },
  {
   "cell_type": "code",
   "execution_count": null,
   "id": "d3231d15",
   "metadata": {},
   "outputs": [],
   "source": [
    "df[df.year == 2008].month.value_counts()"
   ]
  },
  {
   "cell_type": "code",
   "execution_count": null,
   "id": "8856ebff",
   "metadata": {},
   "outputs": [],
   "source": [
    "df[(df.year == 2008) &\n",
    "   (df.month == 'February')\n",
    "  ].day.min()"
   ]
  },
  {
   "cell_type": "code",
   "execution_count": null,
   "id": "bd707c82",
   "metadata": {},
   "outputs": [],
   "source": [
    "df.year.max()"
   ]
  },
  {
   "cell_type": "code",
   "execution_count": null,
   "id": "ebed0055",
   "metadata": {},
   "outputs": [],
   "source": [
    "df[df.year == 2017].month.value_counts()"
   ]
  },
  {
   "cell_type": "code",
   "execution_count": null,
   "id": "1c90544c",
   "metadata": {},
   "outputs": [],
   "source": [
    "df[(df.year == 2017) &\n",
    "   (df.month == 'November')\n",
    "  ].day.max()"
   ]
  },
  {
   "cell_type": "markdown",
   "id": "5adb89e7",
   "metadata": {},
   "source": [
    "The reviews span from February 24, 2008 to November 30, 2017."
   ]
  },
  {
   "cell_type": "markdown",
   "id": "ef14f2e4",
   "metadata": {},
   "source": [
    "# ratings"
   ]
  },
  {
   "cell_type": "code",
   "execution_count": null,
   "id": "dac913c3",
   "metadata": {},
   "outputs": [],
   "source": [
    "len(df)/2"
   ]
  },
  {
   "cell_type": "code",
   "execution_count": null,
   "id": "f2cb2713",
   "metadata": {},
   "outputs": [],
   "source": [
    "df.rating.value_counts()"
   ]
  },
  {
   "cell_type": "code",
   "execution_count": null,
   "id": "a7367b2a",
   "metadata": {},
   "outputs": [],
   "source": [
    "len(df[df.rating > 8.5])"
   ]
  },
  {
   "cell_type": "code",
   "execution_count": null,
   "id": "f105f8cd",
   "metadata": {},
   "outputs": [],
   "source": [
    "len(df[df.rating < 8.5])"
   ]
  },
  {
   "cell_type": "markdown",
   "id": "c7f958ca",
   "metadata": {},
   "source": [
    "To split the review roughly in half we would split between 8 and 9"
   ]
  },
  {
   "cell_type": "markdown",
   "id": "4603307e",
   "metadata": {},
   "source": [
    "To split the ratings roughly in half we would make the splits 1-8 and 9-10."
   ]
  },
  {
   "cell_type": "code",
   "execution_count": null,
   "id": "cad44bd4",
   "metadata": {},
   "outputs": [],
   "source": [
    "len(df)/3"
   ]
  },
  {
   "cell_type": "code",
   "execution_count": null,
   "id": "8c0797b8",
   "metadata": {},
   "outputs": [],
   "source": [
    "len(df[df.rating > 9.5])"
   ]
  },
  {
   "cell_type": "code",
   "execution_count": null,
   "id": "a0c6499c",
   "metadata": {},
   "outputs": [],
   "source": [
    "len(df[df.rating < 6.5])"
   ]
  },
  {
   "cell_type": "markdown",
   "id": "cfc60178",
   "metadata": {},
   "source": [
    "To split the ratings roughly in thirds we would make the splits 1-6, 7-9, and 10."
   ]
  },
  {
   "cell_type": "markdown",
   "id": "1d88258f",
   "metadata": {},
   "source": [
    "# focusing on birth control"
   ]
  },
  {
   "cell_type": "code",
   "execution_count": 39,
   "id": "de62c627",
   "metadata": {},
   "outputs": [
    {
     "data": {
      "text/plain": [
       "39499"
      ]
     },
     "execution_count": 39,
     "metadata": {},
     "output_type": "execute_result"
    }
   ],
   "source": [
    "len(df[df.condition == 'Birth Control'])"
   ]
  },
  {
   "cell_type": "markdown",
   "id": "6003bae5",
   "metadata": {},
   "source": [
    "This many records pertain to the condition of birth control."
   ]
  },
  {
   "cell_type": "code",
   "execution_count": 40,
   "id": "444ce228",
   "metadata": {},
   "outputs": [],
   "source": [
    "birth_control_drugs = set(df[df.condition == 'Birth Control'].drugName)"
   ]
  },
  {
   "cell_type": "code",
   "execution_count": 41,
   "id": "06ac3e15",
   "metadata": {},
   "outputs": [
    {
     "data": {
      "text/plain": [
       "181"
      ]
     },
     "execution_count": 41,
     "metadata": {},
     "output_type": "execute_result"
    }
   ],
   "source": [
    "len(birth_control_drugs)"
   ]
  },
  {
   "cell_type": "markdown",
   "id": "34286789",
   "metadata": {},
   "source": [
    "This many drugs treat birth control."
   ]
  },
  {
   "cell_type": "code",
   "execution_count": 42,
   "id": "6f3fdf34",
   "metadata": {},
   "outputs": [
    {
     "data": {
      "text/plain": [
       "['Menorrhagia',\n",
       " 'Acne',\n",
       " 'Polycystic Ovary Syndrome',\n",
       " 'Abnormal Uterine Bleeding',\n",
       " 'Renal Cell Carcinoma',\n",
       " 'Amenorrhea',\n",
       " 'Ovarian Cysts',\n",
       " 'Premenstrual Dysphoric Disorder',\n",
       " 'Postmenopausal Symptoms',\n",
       " 'Gonadotropin Inhibition',\n",
       " 'Menstrual Disorders',\n",
       " 'Premenstrual Syndrome',\n",
       " 'Endometriosis',\n",
       " 'Endometrial Hyperplasia, Prophylaxis',\n",
       " 'Emergency Contraception']"
      ]
     },
     "execution_count": 42,
     "metadata": {},
     "output_type": "execute_result"
    }
   ],
   "source": [
    "list(set(df[(df.condition != 'Birth Control') &\n",
    "   (df.drugName.isin(birth_control_drugs))\n",
    "  ].condition))"
   ]
  },
  {
   "cell_type": "markdown",
   "id": "331f904c",
   "metadata": {},
   "source": [
    "These are other conditions that are (at least sometimes) treated by drugs that (also) treat birth control."
   ]
  },
  {
   "cell_type": "code",
   "execution_count": 43,
   "id": "03490819",
   "metadata": {},
   "outputs": [
    {
     "data": {
      "text/plain": [
       "drugName\n",
       "Etonogestrel                          4413\n",
       "Ethinyl estradiol / norethindrone     3222\n",
       "Levonorgestrel                        2924\n",
       "Nexplanon                             2892\n",
       "Ethinyl estradiol / levonorgestrel    2213\n",
       "                                      ... \n",
       "Briellyn                                 1\n",
       "Loestrin Fe 1.5 / 30                     1\n",
       "Philith                                  1\n",
       "Lillow                                   1\n",
       "Cyclafem 7 / 7 / 7                       1\n",
       "Name: count, Length: 181, dtype: int64"
      ]
     },
     "execution_count": 43,
     "metadata": {},
     "output_type": "execute_result"
    }
   ],
   "source": [
    "df[df.condition == 'Birth Control'].drugName.value_counts()"
   ]
  },
  {
   "cell_type": "markdown",
   "id": "23ed011b",
   "metadata": {},
   "source": [
    "These are the most frequent drug names that treat birth control."
   ]
  },
  {
   "cell_type": "markdown",
   "id": "478440ed",
   "metadata": {},
   "source": [
    "# feature engineering ideas\n",
    "\n",
    "- word count\n",
    "- character count\n",
    "- words in all caps\n",
    "- average word length\n",
    "- whether words are in English (spelled correctly)\n",
    "- whether it includes characters such as exclamation points, question marks, (especially repeatedly), and emoticons"
   ]
  },
  {
   "cell_type": "markdown",
   "id": "f02295e2",
   "metadata": {},
   "source": [
    "# truncate to just birth control"
   ]
  },
  {
   "cell_type": "code",
   "execution_count": 45,
   "id": "b24b3551",
   "metadata": {},
   "outputs": [],
   "source": [
    "df.drop(df[df.condition != 'Birth Control'].index, inplace=True).reset_index"
   ]
  },
  {
   "cell_type": "code",
   "execution_count": 59,
   "id": "63ad6ac9",
   "metadata": {},
   "outputs": [],
   "source": [
    "df.drop(columns='condition', inplace=True)"
   ]
  },
  {
   "cell_type": "code",
   "execution_count": 52,
   "id": "5d41b6c5",
   "metadata": {},
   "outputs": [
    {
     "data": {
      "text/plain": [
       "39499"
      ]
     },
     "execution_count": 52,
     "metadata": {},
     "output_type": "execute_result"
    }
   ],
   "source": [
    "len(df)"
   ]
  },
  {
   "cell_type": "code",
   "execution_count": 64,
   "id": "c84a94eb",
   "metadata": {},
   "outputs": [],
   "source": [
    "df.reset_index(inplace=True)"
   ]
  },
  {
   "cell_type": "code",
   "execution_count": 65,
   "id": "d5243402",
   "metadata": {},
   "outputs": [],
   "source": [
    "df.drop(columns='index', inplace=True)"
   ]
  },
  {
   "cell_type": "markdown",
   "id": "a1bc3155",
   "metadata": {},
   "source": [
    "# attempt to fix twin duplicates problem"
   ]
  },
  {
   "cell_type": "code",
   "execution_count": 66,
   "id": "c4f1fc3d",
   "metadata": {},
   "outputs": [
    {
     "data": {
      "text/html": [
       "<div>\n",
       "<style scoped>\n",
       "    .dataframe tbody tr th:only-of-type {\n",
       "        vertical-align: middle;\n",
       "    }\n",
       "\n",
       "    .dataframe tbody tr th {\n",
       "        vertical-align: top;\n",
       "    }\n",
       "\n",
       "    .dataframe thead th {\n",
       "        text-align: right;\n",
       "    }\n",
       "</style>\n",
       "<table border=\"1\" class=\"dataframe\">\n",
       "  <thead>\n",
       "    <tr style=\"text-align: right;\">\n",
       "      <th></th>\n",
       "      <th>level_0</th>\n",
       "      <th>drugName</th>\n",
       "      <th>review</th>\n",
       "      <th>rating</th>\n",
       "      <th>date</th>\n",
       "      <th>usefulCount</th>\n",
       "    </tr>\n",
       "  </thead>\n",
       "  <tbody>\n",
       "    <tr>\n",
       "      <th>96</th>\n",
       "      <td>96</td>\n",
       "      <td>Nexplanon</td>\n",
       "      <td>\"First had implanon then got Nexplanon, had a ...</td>\n",
       "      <td>9.0</td>\n",
       "      <td>April 21, 2017</td>\n",
       "      <td>5</td>\n",
       "    </tr>\n",
       "    <tr>\n",
       "      <th>134</th>\n",
       "      <td>134</td>\n",
       "      <td>Orsythia</td>\n",
       "      <td>\"I have only been on orsythia for about 1 mont...</td>\n",
       "      <td>2.0</td>\n",
       "      <td>October 8, 2015</td>\n",
       "      <td>7</td>\n",
       "    </tr>\n",
       "    <tr>\n",
       "      <th>252</th>\n",
       "      <td>252</td>\n",
       "      <td>Ethinyl estradiol / norethindrone</td>\n",
       "      <td>\"I have been taking my first pack of Lo Loestr...</td>\n",
       "      <td>8.0</td>\n",
       "      <td>February 1, 2012</td>\n",
       "      <td>7</td>\n",
       "    </tr>\n",
       "    <tr>\n",
       "      <th>368</th>\n",
       "      <td>368</td>\n",
       "      <td>Aviane</td>\n",
       "      <td>\"I have been taking Aviane for about 3 years n...</td>\n",
       "      <td>9.0</td>\n",
       "      <td>January 24, 2011</td>\n",
       "      <td>1</td>\n",
       "    </tr>\n",
       "    <tr>\n",
       "      <th>428</th>\n",
       "      <td>428</td>\n",
       "      <td>Norethindrone</td>\n",
       "      <td>\"Long story short: I've never been able to tak...</td>\n",
       "      <td>9.0</td>\n",
       "      <td>February 14, 2016</td>\n",
       "      <td>10</td>\n",
       "    </tr>\n",
       "    <tr>\n",
       "      <th>...</th>\n",
       "      <td>...</td>\n",
       "      <td>...</td>\n",
       "      <td>...</td>\n",
       "      <td>...</td>\n",
       "      <td>...</td>\n",
       "      <td>...</td>\n",
       "    </tr>\n",
       "    <tr>\n",
       "      <th>39494</th>\n",
       "      <td>39494</td>\n",
       "      <td>Etonogestrel</td>\n",
       "      <td>\"So I got Nexplanon just under a year ago. I o...</td>\n",
       "      <td>9.0</td>\n",
       "      <td>November 5, 2013</td>\n",
       "      <td>3</td>\n",
       "    </tr>\n",
       "    <tr>\n",
       "      <th>39495</th>\n",
       "      <td>39495</td>\n",
       "      <td>Levonorgestrel</td>\n",
       "      <td>\"I first would like to thank all of you that p...</td>\n",
       "      <td>3.0</td>\n",
       "      <td>January 20, 2010</td>\n",
       "      <td>140</td>\n",
       "    </tr>\n",
       "    <tr>\n",
       "      <th>39496</th>\n",
       "      <td>39496</td>\n",
       "      <td>Microgestin Fe 1 / 20</td>\n",
       "      <td>\"I was on Microgestin for about 3 years. Over ...</td>\n",
       "      <td>6.0</td>\n",
       "      <td>August 1, 2014</td>\n",
       "      <td>15</td>\n",
       "    </tr>\n",
       "    <tr>\n",
       "      <th>39497</th>\n",
       "      <td>39497</td>\n",
       "      <td>Apri</td>\n",
       "      <td>\"I started taking Apri about 7 months ago. My ...</td>\n",
       "      <td>9.0</td>\n",
       "      <td>August 25, 2010</td>\n",
       "      <td>18</td>\n",
       "    </tr>\n",
       "    <tr>\n",
       "      <th>39498</th>\n",
       "      <td>39498</td>\n",
       "      <td>Levonorgestrel</td>\n",
       "      <td>\"I'm married, 34 years old and I have no kids....</td>\n",
       "      <td>8.0</td>\n",
       "      <td>November 15, 2010</td>\n",
       "      <td>7</td>\n",
       "    </tr>\n",
       "  </tbody>\n",
       "</table>\n",
       "<p>19420 rows × 6 columns</p>\n",
       "</div>"
      ],
      "text/plain": [
       "       level_0                           drugName  \\\n",
       "96          96                          Nexplanon   \n",
       "134        134                           Orsythia   \n",
       "252        252  Ethinyl estradiol / norethindrone   \n",
       "368        368                             Aviane   \n",
       "428        428                      Norethindrone   \n",
       "...        ...                                ...   \n",
       "39494    39494                       Etonogestrel   \n",
       "39495    39495                     Levonorgestrel   \n",
       "39496    39496              Microgestin Fe 1 / 20   \n",
       "39497    39497                               Apri   \n",
       "39498    39498                     Levonorgestrel   \n",
       "\n",
       "                                                  review  rating  \\\n",
       "96     \"First had implanon then got Nexplanon, had a ...     9.0   \n",
       "134    \"I have only been on orsythia for about 1 mont...     2.0   \n",
       "252    \"I have been taking my first pack of Lo Loestr...     8.0   \n",
       "368    \"I have been taking Aviane for about 3 years n...     9.0   \n",
       "428    \"Long story short: I've never been able to tak...     9.0   \n",
       "...                                                  ...     ...   \n",
       "39494  \"So I got Nexplanon just under a year ago. I o...     9.0   \n",
       "39495  \"I first would like to thank all of you that p...     3.0   \n",
       "39496  \"I was on Microgestin for about 3 years. Over ...     6.0   \n",
       "39497  \"I started taking Apri about 7 months ago. My ...     9.0   \n",
       "39498  \"I'm married, 34 years old and I have no kids....     8.0   \n",
       "\n",
       "                    date  usefulCount  \n",
       "96        April 21, 2017            5  \n",
       "134      October 8, 2015            7  \n",
       "252     February 1, 2012            7  \n",
       "368     January 24, 2011            1  \n",
       "428    February 14, 2016           10  \n",
       "...                  ...          ...  \n",
       "39494   November 5, 2013            3  \n",
       "39495   January 20, 2010          140  \n",
       "39496     August 1, 2014           15  \n",
       "39497    August 25, 2010           18  \n",
       "39498  November 15, 2010            7  \n",
       "\n",
       "[19420 rows x 6 columns]"
      ]
     },
     "execution_count": 66,
     "metadata": {},
     "output_type": "execute_result"
    }
   ],
   "source": [
    "df[df.duplicated(subset=['review', 'rating', 'date', 'usefulCount'])]"
   ]
  },
  {
   "cell_type": "code",
   "execution_count": 75,
   "id": "23c6f741",
   "metadata": {},
   "outputs": [],
   "source": [
    "df['condition'] = 'Birth Control'"
   ]
  },
  {
   "cell_type": "code",
   "execution_count": 78,
   "id": "cb9be333",
   "metadata": {},
   "outputs": [
    {
     "name": "stdout",
     "output_type": "stream",
     "text": [
      "\"First had implanon then got Nexplanon, had a period first month and I have not had one since. I'm due to remove it next year.  I do notice spotting  sometimes for a day but it honestly  usually coincides with when I'm stressed. \r\n",
      "Had some weight gain also.\r\n",
      "\r\n",
      "So far the best BC I've  had in all my years.  I plan on trying for a baby next year then I will be back on it.\"\n"
     ]
    },
    {
     "data": {
      "text/html": [
       "<div>\n",
       "<style scoped>\n",
       "    .dataframe tbody tr th:only-of-type {\n",
       "        vertical-align: middle;\n",
       "    }\n",
       "\n",
       "    .dataframe tbody tr th {\n",
       "        vertical-align: top;\n",
       "    }\n",
       "\n",
       "    .dataframe thead th {\n",
       "        text-align: right;\n",
       "    }\n",
       "</style>\n",
       "<table border=\"1\" class=\"dataframe\">\n",
       "  <thead>\n",
       "    <tr style=\"text-align: right;\">\n",
       "      <th></th>\n",
       "      <th>drugName</th>\n",
       "      <th>condition</th>\n",
       "      <th>rating</th>\n",
       "      <th>date</th>\n",
       "      <th>usefulCount</th>\n",
       "    </tr>\n",
       "  </thead>\n",
       "  <tbody>\n",
       "    <tr>\n",
       "      <th>69</th>\n",
       "      <td>Etonogestrel</td>\n",
       "      <td>Birth Control</td>\n",
       "      <td>9.0</td>\n",
       "      <td>April 21, 2017</td>\n",
       "      <td>5</td>\n",
       "    </tr>\n",
       "    <tr>\n",
       "      <th>96</th>\n",
       "      <td>Nexplanon</td>\n",
       "      <td>Birth Control</td>\n",
       "      <td>9.0</td>\n",
       "      <td>April 21, 2017</td>\n",
       "      <td>5</td>\n",
       "    </tr>\n",
       "  </tbody>\n",
       "</table>\n",
       "</div>"
      ],
      "text/plain": [
       "        drugName      condition  rating            date  usefulCount\n",
       "69  Etonogestrel  Birth Control     9.0  April 21, 2017            5\n",
       "96     Nexplanon  Birth Control     9.0  April 21, 2017            5"
      ]
     },
     "metadata": {},
     "output_type": "display_data"
    }
   ],
   "source": [
    "show_review(96)"
   ]
  },
  {
   "cell_type": "code",
   "execution_count": 72,
   "id": "fc7cee9a",
   "metadata": {},
   "outputs": [],
   "source": [
    "assert(df.index.max() == len(df)) - 1"
   ]
  },
  {
   "cell_type": "code",
   "execution_count": 97,
   "id": "4d68f927",
   "metadata": {},
   "outputs": [],
   "source": [
    "twin_dates = []\n",
    "for i in df[df.duplicated(subset=['review', 'rating', 'date', 'usefulCount'])].index:\n",
    "    twin = df[df.date == df.loc[i].date]\n",
    "    twin_dates.append(len(twin))"
   ]
  },
  {
   "cell_type": "code",
   "execution_count": 100,
   "id": "05d2ca90",
   "metadata": {},
   "outputs": [
    {
     "data": {
      "text/plain": [
       "60"
      ]
     },
     "execution_count": 100,
     "metadata": {},
     "output_type": "execute_result"
    }
   ],
   "source": [
    "max(twin_dates)"
   ]
  },
  {
   "cell_type": "code",
   "execution_count": 101,
   "id": "917564f2",
   "metadata": {},
   "outputs": [
    {
     "data": {
      "text/plain": [
       "19420"
      ]
     },
     "execution_count": 101,
     "metadata": {},
     "output_type": "execute_result"
    }
   ],
   "source": [
    "len(twin_dates)"
   ]
  },
  {
   "cell_type": "code",
   "execution_count": 83,
   "id": "d56aaffa",
   "metadata": {},
   "outputs": [
    {
     "ename": "KeyboardInterrupt",
     "evalue": "",
     "output_type": "error",
     "traceback": [
      "\u001b[0;31m---------------------------------------------------------------------------\u001b[0m",
      "\u001b[0;31mKeyboardInterrupt\u001b[0m                         Traceback (most recent call last)",
      "\u001b[0;32m<ipython-input-83-b282cddd8d82>\u001b[0m in \u001b[0;36m<module>\u001b[0;34m\u001b[0m\n\u001b[1;32m      3\u001b[0m \u001b[0;32mfor\u001b[0m \u001b[0mi\u001b[0m \u001b[0;32min\u001b[0m \u001b[0mdf\u001b[0m\u001b[0;34m[\u001b[0m\u001b[0mdf\u001b[0m\u001b[0;34m.\u001b[0m\u001b[0mduplicated\u001b[0m\u001b[0;34m(\u001b[0m\u001b[0msubset\u001b[0m\u001b[0;34m=\u001b[0m\u001b[0;34m[\u001b[0m\u001b[0;34m'review'\u001b[0m\u001b[0;34m,\u001b[0m \u001b[0;34m'rating'\u001b[0m\u001b[0;34m,\u001b[0m \u001b[0;34m'date'\u001b[0m\u001b[0;34m,\u001b[0m \u001b[0;34m'usefulCount'\u001b[0m\u001b[0;34m]\u001b[0m\u001b[0;34m)\u001b[0m\u001b[0;34m]\u001b[0m\u001b[0;34m.\u001b[0m\u001b[0mindex\u001b[0m\u001b[0;34m:\u001b[0m\u001b[0;34m\u001b[0m\u001b[0;34m\u001b[0m\u001b[0m\n\u001b[1;32m      4\u001b[0m     \u001b[0;32mfor\u001b[0m \u001b[0mj\u001b[0m \u001b[0;32min\u001b[0m \u001b[0mdf\u001b[0m\u001b[0;34m[\u001b[0m\u001b[0;34m~\u001b[0m\u001b[0mdf\u001b[0m\u001b[0;34m.\u001b[0m\u001b[0mduplicated\u001b[0m\u001b[0;34m(\u001b[0m\u001b[0msubset\u001b[0m\u001b[0;34m=\u001b[0m\u001b[0;34m[\u001b[0m\u001b[0;34m'review'\u001b[0m\u001b[0;34m,\u001b[0m \u001b[0;34m'rating'\u001b[0m\u001b[0;34m,\u001b[0m \u001b[0;34m'date'\u001b[0m\u001b[0;34m,\u001b[0m \u001b[0;34m'usefulCount'\u001b[0m\u001b[0;34m]\u001b[0m\u001b[0;34m)\u001b[0m\u001b[0;34m]\u001b[0m\u001b[0;34m.\u001b[0m\u001b[0mindex\u001b[0m\u001b[0;34m:\u001b[0m\u001b[0;34m\u001b[0m\u001b[0;34m\u001b[0m\u001b[0m\n\u001b[0;32m----> 5\u001b[0;31m         \u001b[0;32mif\u001b[0m \u001b[0mdf\u001b[0m\u001b[0;34m.\u001b[0m\u001b[0mloc\u001b[0m\u001b[0;34m[\u001b[0m\u001b[0mi\u001b[0m\u001b[0;34m]\u001b[0m\u001b[0;34m.\u001b[0m\u001b[0mreview\u001b[0m \u001b[0;34m==\u001b[0m \u001b[0mdf\u001b[0m\u001b[0;34m.\u001b[0m\u001b[0mloc\u001b[0m\u001b[0;34m[\u001b[0m\u001b[0mj\u001b[0m\u001b[0;34m]\u001b[0m\u001b[0;34m.\u001b[0m\u001b[0mreview\u001b[0m \u001b[0;32mand\u001b[0m\u001b[0;31m \u001b[0m\u001b[0;31m\\\u001b[0m\u001b[0;34m\u001b[0m\u001b[0;34m\u001b[0m\u001b[0m\n\u001b[0m\u001b[1;32m      6\u001b[0m         \u001b[0mdf\u001b[0m\u001b[0;34m.\u001b[0m\u001b[0mloc\u001b[0m\u001b[0;34m[\u001b[0m\u001b[0mi\u001b[0m\u001b[0;34m]\u001b[0m\u001b[0;34m.\u001b[0m\u001b[0mrating\u001b[0m \u001b[0;34m==\u001b[0m \u001b[0mdf\u001b[0m\u001b[0;34m.\u001b[0m\u001b[0mloc\u001b[0m\u001b[0;34m[\u001b[0m\u001b[0mj\u001b[0m\u001b[0;34m]\u001b[0m\u001b[0;34m.\u001b[0m\u001b[0mrating\u001b[0m \u001b[0;32mand\u001b[0m\u001b[0;31m \u001b[0m\u001b[0;31m\\\u001b[0m\u001b[0;34m\u001b[0m\u001b[0;34m\u001b[0m\u001b[0m\n\u001b[1;32m      7\u001b[0m         \u001b[0mdf\u001b[0m\u001b[0;34m.\u001b[0m\u001b[0mloc\u001b[0m\u001b[0;34m[\u001b[0m\u001b[0mi\u001b[0m\u001b[0;34m]\u001b[0m\u001b[0;34m.\u001b[0m\u001b[0mdate\u001b[0m \u001b[0;34m==\u001b[0m \u001b[0mdf\u001b[0m\u001b[0;34m.\u001b[0m\u001b[0mloc\u001b[0m\u001b[0;34m[\u001b[0m\u001b[0mj\u001b[0m\u001b[0;34m]\u001b[0m\u001b[0;34m.\u001b[0m\u001b[0mdate\u001b[0m \u001b[0;32mand\u001b[0m\u001b[0;31m \u001b[0m\u001b[0;31m\\\u001b[0m\u001b[0;34m\u001b[0m\u001b[0;34m\u001b[0m\u001b[0m\n",
      "\u001b[0;32m~/opt/anaconda3/envs/learn-env/lib/python3.8/site-packages/pandas/core/indexing.py\u001b[0m in \u001b[0;36m__getitem__\u001b[0;34m(self, key)\u001b[0m\n\u001b[1;32m   1101\u001b[0m \u001b[0;34m\u001b[0m\u001b[0m\n\u001b[1;32m   1102\u001b[0m             \u001b[0mmaybe_callable\u001b[0m \u001b[0;34m=\u001b[0m \u001b[0mcom\u001b[0m\u001b[0;34m.\u001b[0m\u001b[0mapply_if_callable\u001b[0m\u001b[0;34m(\u001b[0m\u001b[0mkey\u001b[0m\u001b[0;34m,\u001b[0m \u001b[0mself\u001b[0m\u001b[0;34m.\u001b[0m\u001b[0mobj\u001b[0m\u001b[0;34m)\u001b[0m\u001b[0;34m\u001b[0m\u001b[0;34m\u001b[0m\u001b[0m\n\u001b[0;32m-> 1103\u001b[0;31m             \u001b[0;32mreturn\u001b[0m \u001b[0mself\u001b[0m\u001b[0;34m.\u001b[0m\u001b[0m_getitem_axis\u001b[0m\u001b[0;34m(\u001b[0m\u001b[0mmaybe_callable\u001b[0m\u001b[0;34m,\u001b[0m \u001b[0maxis\u001b[0m\u001b[0;34m=\u001b[0m\u001b[0maxis\u001b[0m\u001b[0;34m)\u001b[0m\u001b[0;34m\u001b[0m\u001b[0;34m\u001b[0m\u001b[0m\n\u001b[0m\u001b[1;32m   1104\u001b[0m \u001b[0;34m\u001b[0m\u001b[0m\n\u001b[1;32m   1105\u001b[0m     \u001b[0;32mdef\u001b[0m \u001b[0m_is_scalar_access\u001b[0m\u001b[0;34m(\u001b[0m\u001b[0mself\u001b[0m\u001b[0;34m,\u001b[0m \u001b[0mkey\u001b[0m\u001b[0;34m:\u001b[0m \u001b[0mtuple\u001b[0m\u001b[0;34m)\u001b[0m\u001b[0;34m:\u001b[0m\u001b[0;34m\u001b[0m\u001b[0;34m\u001b[0m\u001b[0m\n",
      "\u001b[0;32m~/opt/anaconda3/envs/learn-env/lib/python3.8/site-packages/pandas/core/indexing.py\u001b[0m in \u001b[0;36m_getitem_axis\u001b[0;34m(self, key, axis)\u001b[0m\n\u001b[1;32m   1341\u001b[0m         \u001b[0;31m# fall thru to straight lookup\u001b[0m\u001b[0;34m\u001b[0m\u001b[0;34m\u001b[0m\u001b[0;34m\u001b[0m\u001b[0m\n\u001b[1;32m   1342\u001b[0m         \u001b[0mself\u001b[0m\u001b[0;34m.\u001b[0m\u001b[0m_validate_key\u001b[0m\u001b[0;34m(\u001b[0m\u001b[0mkey\u001b[0m\u001b[0;34m,\u001b[0m \u001b[0maxis\u001b[0m\u001b[0;34m)\u001b[0m\u001b[0;34m\u001b[0m\u001b[0;34m\u001b[0m\u001b[0m\n\u001b[0;32m-> 1343\u001b[0;31m         \u001b[0;32mreturn\u001b[0m \u001b[0mself\u001b[0m\u001b[0;34m.\u001b[0m\u001b[0m_get_label\u001b[0m\u001b[0;34m(\u001b[0m\u001b[0mkey\u001b[0m\u001b[0;34m,\u001b[0m \u001b[0maxis\u001b[0m\u001b[0;34m=\u001b[0m\u001b[0maxis\u001b[0m\u001b[0;34m)\u001b[0m\u001b[0;34m\u001b[0m\u001b[0;34m\u001b[0m\u001b[0m\n\u001b[0m\u001b[1;32m   1344\u001b[0m \u001b[0;34m\u001b[0m\u001b[0m\n\u001b[1;32m   1345\u001b[0m     \u001b[0;32mdef\u001b[0m \u001b[0m_get_slice_axis\u001b[0m\u001b[0;34m(\u001b[0m\u001b[0mself\u001b[0m\u001b[0;34m,\u001b[0m \u001b[0mslice_obj\u001b[0m\u001b[0;34m:\u001b[0m \u001b[0mslice\u001b[0m\u001b[0;34m,\u001b[0m \u001b[0maxis\u001b[0m\u001b[0;34m:\u001b[0m \u001b[0mAxisInt\u001b[0m\u001b[0;34m)\u001b[0m\u001b[0;34m:\u001b[0m\u001b[0;34m\u001b[0m\u001b[0;34m\u001b[0m\u001b[0m\n",
      "\u001b[0;32m~/opt/anaconda3/envs/learn-env/lib/python3.8/site-packages/pandas/core/indexing.py\u001b[0m in \u001b[0;36m_get_label\u001b[0;34m(self, label, axis)\u001b[0m\n\u001b[1;32m   1291\u001b[0m     \u001b[0;32mdef\u001b[0m \u001b[0m_get_label\u001b[0m\u001b[0;34m(\u001b[0m\u001b[0mself\u001b[0m\u001b[0;34m,\u001b[0m \u001b[0mlabel\u001b[0m\u001b[0;34m,\u001b[0m \u001b[0maxis\u001b[0m\u001b[0;34m:\u001b[0m \u001b[0mAxisInt\u001b[0m\u001b[0;34m)\u001b[0m\u001b[0;34m:\u001b[0m\u001b[0;34m\u001b[0m\u001b[0;34m\u001b[0m\u001b[0m\n\u001b[1;32m   1292\u001b[0m         \u001b[0;31m# GH#5567 this will fail if the label is not present in the axis.\u001b[0m\u001b[0;34m\u001b[0m\u001b[0;34m\u001b[0m\u001b[0;34m\u001b[0m\u001b[0m\n\u001b[0;32m-> 1293\u001b[0;31m         \u001b[0;32mreturn\u001b[0m \u001b[0mself\u001b[0m\u001b[0;34m.\u001b[0m\u001b[0mobj\u001b[0m\u001b[0;34m.\u001b[0m\u001b[0mxs\u001b[0m\u001b[0;34m(\u001b[0m\u001b[0mlabel\u001b[0m\u001b[0;34m,\u001b[0m \u001b[0maxis\u001b[0m\u001b[0;34m=\u001b[0m\u001b[0maxis\u001b[0m\u001b[0;34m)\u001b[0m\u001b[0;34m\u001b[0m\u001b[0;34m\u001b[0m\u001b[0m\n\u001b[0m\u001b[1;32m   1294\u001b[0m \u001b[0;34m\u001b[0m\u001b[0m\n\u001b[1;32m   1295\u001b[0m     \u001b[0;32mdef\u001b[0m \u001b[0m_handle_lowerdim_multi_index_axis0\u001b[0m\u001b[0;34m(\u001b[0m\u001b[0mself\u001b[0m\u001b[0;34m,\u001b[0m \u001b[0mtup\u001b[0m\u001b[0;34m:\u001b[0m \u001b[0mtuple\u001b[0m\u001b[0;34m)\u001b[0m\u001b[0;34m:\u001b[0m\u001b[0;34m\u001b[0m\u001b[0;34m\u001b[0m\u001b[0m\n",
      "\u001b[0;32m~/opt/anaconda3/envs/learn-env/lib/python3.8/site-packages/pandas/core/generic.py\u001b[0m in \u001b[0;36mxs\u001b[0;34m(self, key, axis, level, drop_level)\u001b[0m\n\u001b[1;32m   4113\u001b[0m                 \u001b[0;32mreturn\u001b[0m \u001b[0mself\u001b[0m\u001b[0;34m.\u001b[0m\u001b[0m_values\u001b[0m\u001b[0;34m[\u001b[0m\u001b[0mloc\u001b[0m\u001b[0;34m]\u001b[0m\u001b[0;34m\u001b[0m\u001b[0;34m\u001b[0m\u001b[0m\n\u001b[1;32m   4114\u001b[0m \u001b[0;34m\u001b[0m\u001b[0m\n\u001b[0;32m-> 4115\u001b[0;31m             \u001b[0mnew_mgr\u001b[0m \u001b[0;34m=\u001b[0m \u001b[0mself\u001b[0m\u001b[0;34m.\u001b[0m\u001b[0m_mgr\u001b[0m\u001b[0;34m.\u001b[0m\u001b[0mfast_xs\u001b[0m\u001b[0;34m(\u001b[0m\u001b[0mloc\u001b[0m\u001b[0;34m)\u001b[0m\u001b[0;34m\u001b[0m\u001b[0;34m\u001b[0m\u001b[0m\n\u001b[0m\u001b[1;32m   4116\u001b[0m \u001b[0;34m\u001b[0m\u001b[0m\n\u001b[1;32m   4117\u001b[0m             result = self._constructor_sliced(\n",
      "\u001b[0;32m~/opt/anaconda3/envs/learn-env/lib/python3.8/site-packages/pandas/core/internals/managers.py\u001b[0m in \u001b[0;36mfast_xs\u001b[0;34m(self, loc)\u001b[0m\n\u001b[1;32m   1079\u001b[0m             \u001b[0mresult\u001b[0m \u001b[0;34m=\u001b[0m \u001b[0mdtype\u001b[0m\u001b[0;34m.\u001b[0m\u001b[0mconstruct_array_type\u001b[0m\u001b[0;34m(\u001b[0m\u001b[0;34m)\u001b[0m\u001b[0;34m.\u001b[0m\u001b[0m_from_sequence\u001b[0m\u001b[0;34m(\u001b[0m\u001b[0mresult\u001b[0m\u001b[0;34m,\u001b[0m \u001b[0mdtype\u001b[0m\u001b[0;34m=\u001b[0m\u001b[0mdtype\u001b[0m\u001b[0;34m)\u001b[0m\u001b[0;34m\u001b[0m\u001b[0;34m\u001b[0m\u001b[0m\n\u001b[1;32m   1080\u001b[0m \u001b[0;34m\u001b[0m\u001b[0m\n\u001b[0;32m-> 1081\u001b[0;31m         \u001b[0mblock\u001b[0m \u001b[0;34m=\u001b[0m \u001b[0mnew_block\u001b[0m\u001b[0;34m(\u001b[0m\u001b[0mresult\u001b[0m\u001b[0;34m,\u001b[0m \u001b[0mplacement\u001b[0m\u001b[0;34m=\u001b[0m\u001b[0mslice\u001b[0m\u001b[0;34m(\u001b[0m\u001b[0;36m0\u001b[0m\u001b[0;34m,\u001b[0m \u001b[0mlen\u001b[0m\u001b[0;34m(\u001b[0m\u001b[0mresult\u001b[0m\u001b[0;34m)\u001b[0m\u001b[0;34m)\u001b[0m\u001b[0;34m,\u001b[0m \u001b[0mndim\u001b[0m\u001b[0;34m=\u001b[0m\u001b[0;36m1\u001b[0m\u001b[0;34m)\u001b[0m\u001b[0;34m\u001b[0m\u001b[0;34m\u001b[0m\u001b[0m\n\u001b[0m\u001b[1;32m   1082\u001b[0m         \u001b[0;32mreturn\u001b[0m \u001b[0mSingleBlockManager\u001b[0m\u001b[0;34m(\u001b[0m\u001b[0mblock\u001b[0m\u001b[0;34m,\u001b[0m \u001b[0mself\u001b[0m\u001b[0;34m.\u001b[0m\u001b[0maxes\u001b[0m\u001b[0;34m[\u001b[0m\u001b[0;36m0\u001b[0m\u001b[0;34m]\u001b[0m\u001b[0;34m)\u001b[0m\u001b[0;34m\u001b[0m\u001b[0;34m\u001b[0m\u001b[0m\n\u001b[1;32m   1083\u001b[0m \u001b[0;34m\u001b[0m\u001b[0m\n",
      "\u001b[0;32m~/opt/anaconda3/envs/learn-env/lib/python3.8/site-packages/pandas/core/internals/blocks.py\u001b[0m in \u001b[0;36mnew_block\u001b[0;34m(values, placement, ndim, refs)\u001b[0m\n\u001b[1;32m   2396\u001b[0m \u001b[0;34m\u001b[0m\u001b[0m\n\u001b[1;32m   2397\u001b[0m     \u001b[0mvalues\u001b[0m \u001b[0;34m=\u001b[0m \u001b[0mmaybe_coerce_values\u001b[0m\u001b[0;34m(\u001b[0m\u001b[0mvalues\u001b[0m\u001b[0;34m)\u001b[0m\u001b[0;34m\u001b[0m\u001b[0;34m\u001b[0m\u001b[0m\n\u001b[0;32m-> 2398\u001b[0;31m     \u001b[0;32mreturn\u001b[0m \u001b[0mklass\u001b[0m\u001b[0;34m(\u001b[0m\u001b[0mvalues\u001b[0m\u001b[0;34m,\u001b[0m \u001b[0mndim\u001b[0m\u001b[0;34m=\u001b[0m\u001b[0mndim\u001b[0m\u001b[0;34m,\u001b[0m \u001b[0mplacement\u001b[0m\u001b[0;34m=\u001b[0m\u001b[0mplacement\u001b[0m\u001b[0;34m,\u001b[0m \u001b[0mrefs\u001b[0m\u001b[0;34m=\u001b[0m\u001b[0mrefs\u001b[0m\u001b[0;34m)\u001b[0m\u001b[0;34m\u001b[0m\u001b[0;34m\u001b[0m\u001b[0m\n\u001b[0m\u001b[1;32m   2399\u001b[0m \u001b[0;34m\u001b[0m\u001b[0m\n\u001b[1;32m   2400\u001b[0m \u001b[0;34m\u001b[0m\u001b[0m\n",
      "\u001b[0;31mKeyboardInterrupt\u001b[0m: "
     ]
    }
   ],
   "source": [
    "found_pairs = 0\n",
    "\n",
    "for i in df[df.duplicated(subset=['review', 'rating', 'date', 'usefulCount'])].index:\n",
    "    for j in df[~df.duplicated(subset=['review', 'rating', 'date', 'usefulCount'])].index:\n",
    "        if df.loc[i].review == df.loc[j].review and \\\n",
    "        df.loc[i].rating == df.loc[j].rating and \\\n",
    "        df.loc[i].date == df.loc[j].date and \\\n",
    "        df.loc[i].usefulCount == df.loc[j].usefulCount:\n",
    "            found_pair = True\n",
    "            found_pairs += 1\n",
    "            break\n",
    "\n",
    "print(found_pairs)"
   ]
  },
  {
   "cell_type": "code",
   "execution_count": 84,
   "id": "02add843",
   "metadata": {},
   "outputs": [
    {
     "data": {
      "text/plain": [
       "159"
      ]
     },
     "execution_count": 84,
     "metadata": {},
     "output_type": "execute_result"
    }
   ],
   "source": [
    "found_pairs"
   ]
  },
  {
   "cell_type": "markdown",
   "id": "648f6546",
   "metadata": {},
   "source": [
    "# rudimentary word cloud maker"
   ]
  },
  {
   "cell_type": "code",
   "execution_count": null,
   "id": "eb47c095",
   "metadata": {},
   "outputs": [],
   "source": [
    "df['review'] = df['review'].str.lower()"
   ]
  },
  {
   "cell_type": "code",
   "execution_count": null,
   "id": "27d1cfaa",
   "metadata": {},
   "outputs": [],
   "source": [
    "dfbc = df[df.condition == 'Birth Control']\n",
    "\n",
    "dfbc['sentiment'] = dfbc.rating.apply(lambda x: 1 if x > 5 else 0)\n",
    "\n",
    "dfbcpos = df[\n",
    "    (df.condition == 'Birth Control') & \\\n",
    "    (df.rating > 9.5)\n",
    "]\n",
    "\n",
    "dfbcneg = df[\n",
    "    (df.condition == 'Birth Control') & \\\n",
    "    (df.rating < 6.5)\n",
    "]"
   ]
  },
  {
   "cell_type": "code",
   "execution_count": null,
   "id": "e9e5daa1",
   "metadata": {},
   "outputs": [],
   "source": [
    "# make list of all reviews\n",
    "reviews_pos = dfbcpos.review.to_list()\n",
    "reviews_neg = dfbcneg.review.to_list()"
   ]
  },
  {
   "cell_type": "code",
   "execution_count": null,
   "id": "608028f4",
   "metadata": {},
   "outputs": [],
   "source": [
    "# # make tokenizer\n",
    "# tokenizer = TweetTokenizer(\n",
    "#     preserve_case=False,\n",
    "#     strip_handles=True\n",
    "# )\n",
    "\n",
    "# create list of tokens from data set\n",
    "tokens_pos = word_tokenize(','.join(reviews_pos))\n",
    "tokens_neg = word_tokenize(','.join(reviews_neg))\n",
    "\n",
    "\n",
    "# tokens = [word for word in tokens]"
   ]
  },
  {
   "cell_type": "code",
   "execution_count": null,
   "id": "c1a162f4",
   "metadata": {},
   "outputs": [],
   "source": [
    "# make lemmatizer\n",
    "lemmatizer = WordNetLemmatizer()\n",
    "\n",
    "# lemmatize the list of words\n",
    "tokens_lemmatized_pos = [lemmatizer.lemmatize(word) for word in tokens_pos]\n",
    "tokens_lemmatized_neg = [lemmatizer.lemmatize(word) for word in tokens_neg]"
   ]
  },
  {
   "cell_type": "code",
   "execution_count": null,
   "id": "83a9b0e5",
   "metadata": {},
   "outputs": [],
   "source": [
    "# show the most frequently occurring tokens\n",
    "FreqDist(tokens_lemmatized_pos).most_common(25)"
   ]
  },
  {
   "cell_type": "code",
   "execution_count": null,
   "id": "b183436b",
   "metadata": {},
   "outputs": [],
   "source": [
    "# show the most frequently occurring tokens\n",
    "FreqDist(tokens_lemmatized_neg).most_common(25)"
   ]
  },
  {
   "cell_type": "code",
   "execution_count": null,
   "id": "ae0a4143",
   "metadata": {},
   "outputs": [],
   "source": [
    "negatives = ['no', 'not', \"don't\", \"aren't\", \"couldn't\", \"didn't\", \"doesn't\", \"hadn't\", \"hasn't\", \"haven't\", \\\n",
    "             \"isn't\", \"wasn't\", \"weren't\", \"won't\", \"wouldn't\"]"
   ]
  },
  {
   "cell_type": "code",
   "execution_count": null,
   "id": "c40858b9",
   "metadata": {},
   "outputs": [],
   "source": [
    "# obtain the standard list of stopwords\n",
    "nltk.download('stopwords', quiet=True)\n",
    "# start our own list of stopwords with these words\n",
    "stop_list = [word for word in stopwords.words('english') if word not in negatives]\n",
    "# add punctuation characters\n",
    "for char in string.punctuation:\n",
    "    stop_list.append(char)\n",
    "# add empty string\n",
    "stop_list.extend(['', 'ha', 'wa'])"
   ]
  },
  {
   "cell_type": "code",
   "execution_count": null,
   "id": "fd1c2502",
   "metadata": {},
   "outputs": [],
   "source": [
    "stop_list"
   ]
  },
  {
   "cell_type": "code",
   "execution_count": null,
   "id": "231333e7",
   "metadata": {},
   "outputs": [],
   "source": [
    "# make stopped list of tokens\n",
    "tokens_stopped_pos = [word for word in tokens_lemmatized_pos if word not in stop_list]\n",
    "tokens_stopped_neg = [word for word in tokens_lemmatized_neg if word not in stop_list]"
   ]
  },
  {
   "cell_type": "code",
   "execution_count": null,
   "id": "ec54b5a4",
   "metadata": {},
   "outputs": [],
   "source": [
    "# show the most frequently occurring tokens\n",
    "FreqDist(tokens_stopped_pos).most_common(25)"
   ]
  },
  {
   "cell_type": "code",
   "execution_count": null,
   "id": "ccfd06e4",
   "metadata": {},
   "outputs": [],
   "source": [
    "# show the most frequently occurring tokens\n",
    "FreqDist(tokens_stopped_neg).most_common(25)"
   ]
  },
  {
   "cell_type": "code",
   "execution_count": null,
   "id": "68451b56",
   "metadata": {},
   "outputs": [],
   "source": [
    "# a function that generates a word cloud of a given list of words\n",
    "def make_wordcloud(wordlist, colormap='Greens', title=None):\n",
    "    # instantiate wordcloud\n",
    "    wordcloud = WordCloud(\n",
    "        width=600,\n",
    "        height=400,\n",
    "        colormap=colormap,\n",
    "        collocations = True\n",
    "    )\n",
    "    return wordcloud.generate(','.join(wordlist))\n",
    "\n",
    "def plot_wordcloud(wordcloud):\n",
    "    # plot wordcloud\n",
    "    plt.figure(figsize = (12, 15)) \n",
    "    plt.imshow(wordcloud) \n",
    "    plt.axis('off');"
   ]
  },
  {
   "cell_type": "code",
   "execution_count": null,
   "id": "404e47b6",
   "metadata": {},
   "outputs": [],
   "source": [
    "# word cloud of stopped words\n",
    "plot_wordcloud(make_wordcloud(tokens_stopped_pos))"
   ]
  },
  {
   "cell_type": "code",
   "execution_count": null,
   "id": "cb67db7e",
   "metadata": {},
   "outputs": [],
   "source": [
    "# word cloud of stopped words\n",
    "plot_wordcloud(make_wordcloud(tokens_stopped_neg))"
   ]
  },
  {
   "cell_type": "markdown",
   "id": "84158429",
   "metadata": {},
   "source": [
    "# end"
   ]
  }
 ],
 "metadata": {
  "kernelspec": {
   "display_name": "Python (learn-env)",
   "language": "python",
   "name": "learn-env"
  },
  "language_info": {
   "codemirror_mode": {
    "name": "ipython",
    "version": 3
   },
   "file_extension": ".py",
   "mimetype": "text/x-python",
   "name": "python",
   "nbconvert_exporter": "python",
   "pygments_lexer": "ipython3",
   "version": "3.8.5"
  }
 },
 "nbformat": 4,
 "nbformat_minor": 5
}
