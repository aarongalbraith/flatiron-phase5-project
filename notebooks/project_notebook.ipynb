{
 "cells": [
  {
   "cell_type": "markdown",
   "id": "6cf28044",
   "metadata": {},
   "source": [
    "# Flatiron Phase 5 Project\n",
    "\n",
    "## Aaron Galbraith\n",
    "\n",
    "https://www.linkedin.com/in/aarongalbraith \\\n",
    "https://github.com/aarongalbraith\n",
    "\n",
    "### Submitted: November 20, 2023\n",
    "\n",
    "## Contents\n",
    "\n",
    "- **[Business Understanding](#Business-Understanding)<br>**\n",
    "- **[Data Understanding](#Data-Understanding)**<br>\n",
    "- **[Data Preparation](#Data-Preparation)**<br>\n",
    "- **[Exploration](#Exploration)**<br>\n",
    "- **[Modeling](#Modeling)**<br>\n",
    "- **[Evaluation](#Evaluation)**<br>\n",
    "- **[Recommendations](#Recommendations)<br>**\n",
    "- **[Further Inquiry](#Further-Inquiry)**<br>"
   ]
  },
  {
   "cell_type": "markdown",
   "id": "01cfc4eb",
   "metadata": {},
   "source": [
    "# Business Understanding\n",
    "\n",
    "In 2022 the US Supreme Court ruled in [Dobbs v. Jackson Women's Health Organization](https://www.supremecourt.gov/opinions/21pdf/19-1392_6j37.pdf) that the United States Constitution would no longer confer a right to abortion, leaving the legality of abortion timelines and procedures to the discretion of the individual states and territories. This brought an end to constitutionally enshrined abortion access after the 1973 ruling in [Roe v. Wade](https://tile.loc.gov/storage-services/service/ll/usrep/usrep410/usrep410113/usrep410113.pdf) had codified that right into law for roughly two generations. Both immediately and in the short time since the Dobbs decision, [many states have reduced access to abortion, and 14 states have banned abortion entirely](https://reproductiverights.org/maps/abortion-laws-by-state/). [Advocates for birth control access fear that new government controls could move beyond abortion and attempt to restrict birth control access as well](https://www.npr.org/2022/08/16/1117615628/abortion-birth-control-title-x-supreme-court-family-planning-planned-parenthood).\n",
    "\n",
    "In the new reproductive environment created by this ruling, Americans who are concerned with family planning are showing greater interest in birth control options and are more likely to consume and practice the birth control methods (that remain legal) in greater numbers than before. Pfizer can capitalize on this trend by understanding public perceptions of the various methods and responding to these perceptions in their marketing.\n",
    "\n",
    "In 2018, researchers Surya Kallumadi and Felix Gräßer at UC Irvine created the [UCI ML Drug Review Dataset](https://www.kaggle.com/datasets/jessicali9530/kuc-hackathon-winter-2018/) after collecting reviews from [Drugs.com](https://www.drugs.com/) that users had written about various drugs between 2008 and 2017. A substantial portion of these reviews addressed birth control and emergency contraception drugs.\n",
    "\n",
    "People often share similar sentiments with each other in online spaces such as [Reddit](https://www.reddit.com/r/birthcontrol/) and [Quora](https://www.quora.com/search?q=birth%20control). Our project analyzes the Drug Review Dataset in order to 1) learn what the Dataset can tell Pfizer about sentiments toward the various methods of birth control and 2) train a model that can be applied in other online spaces to determine what birth control methods users are discussing and how they feel about them. With this tool, Pfizer can more effectively market their products to the increased demand created by the Dobbs ruling."
   ]
  },
  {
   "cell_type": "markdown",
   "id": "ff6cdf0c",
   "metadata": {},
   "source": [
    "# Data Understanding\n",
    "\n",
    "## Import files"
   ]
  },
  {
   "cell_type": "code",
   "execution_count": 1,
   "id": "2a2b6203",
   "metadata": {},
   "outputs": [],
   "source": [
    "do_grids = False\n",
    "\n",
    "light_frame = False"
   ]
  },
  {
   "cell_type": "code",
   "execution_count": 2,
   "id": "40c7a0cf",
   "metadata": {},
   "outputs": [
    {
     "name": "stderr",
     "output_type": "stream",
     "text": [
      "[nltk_data] Downloading package wordnet to\n",
      "[nltk_data]     /Users/stubbletrouble/nltk_data...\n",
      "[nltk_data]   Package wordnet is already up-to-date!\n",
      "[nltk_data] Downloading package punkt to\n",
      "[nltk_data]     /Users/stubbletrouble/nltk_data...\n",
      "[nltk_data]   Package punkt is already up-to-date!\n"
     ]
    },
    {
     "name": "stdout",
     "output_type": "stream",
     "text": [
      "Requirement already satisfied: contractions in /Users/stubbletrouble/opt/anaconda3/envs/learn-env/lib/python3.8/site-packages (0.1.73)\r\n",
      "Requirement already satisfied: textsearch>=0.0.21 in /Users/stubbletrouble/opt/anaconda3/envs/learn-env/lib/python3.8/site-packages (from contractions) (0.0.24)\r\n",
      "Requirement already satisfied: anyascii in /Users/stubbletrouble/opt/anaconda3/envs/learn-env/lib/python3.8/site-packages (from textsearch>=0.0.21->contractions) (0.3.2)\r\n",
      "Requirement already satisfied: pyahocorasick in /Users/stubbletrouble/opt/anaconda3/envs/learn-env/lib/python3.8/site-packages (from textsearch>=0.0.21->contractions) (2.0.0)\r\n"
     ]
    }
   ],
   "source": [
    "import pandas as pd\n",
    "import matplotlib.pyplot as plt\n",
    "import numpy as np\n",
    "from datetime import datetime\n",
    "\n",
    "import nltk\n",
    "from nltk.stem import WordNetLemmatizer\n",
    "from nltk import FreqDist\n",
    "from nltk.tokenize import word_tokenize, sent_tokenize\n",
    "from nltk.corpus import cmudict\n",
    "\n",
    "nltk.download('wordnet')\n",
    "nltk.download('punkt')\n",
    "\n",
    "\n",
    "from nltk.corpus import stopwords\n",
    "\n",
    "import string\n",
    "from wordcloud import WordCloud\n",
    "\n",
    "import html\n",
    "\n",
    "! pip install contractions\n",
    "import contractions\n",
    "\n",
    "import re\n",
    "\n",
    "from IPython.display import display\n",
    "\n",
    "import seaborn as sns\n",
    "\n",
    "from xgboost import XGBClassifier\n",
    "\n",
    "from sklearn.model_selection import train_test_split\n",
    "\n",
    "from sklearn.metrics import confusion_matrix, accuracy_score, precision_score, f1_score\n",
    "from sklearn.pipeline import Pipeline\n",
    "\n",
    "from sklearn.linear_model import LogisticRegression\n",
    "from sklearn.feature_extraction.text import TfidfVectorizer\n",
    "from sklearn.model_selection import train_test_split, GridSearchCV\n",
    "from sklearn.preprocessing import StandardScaler\n",
    "from sklearn.compose import ColumnTransformer\n",
    "from sklearn.ensemble import BaggingClassifier, RandomForestClassifier\n",
    "from sklearn.tree import DecisionTreeClassifier\n",
    "from sklearn.svm import SVC\n",
    "from sklearn.metrics import accuracy_score, recall_score, confusion_matrix, roc_curve, auc\n",
    "from sklearn.metrics import precision_score, f1_score, roc_auc_score, log_loss\n",
    "\n",
    "from sklearn.metrics import confusion_matrix, ConfusionMatrixDisplay\n",
    "from sklearn.preprocessing import LabelEncoder\n",
    "\n",
    "\n",
    "from pathlib import Path\n",
    "\n",
    "SEED = 1979\n"
   ]
  },
  {
   "cell_type": "markdown",
   "id": "4dab70f3",
   "metadata": {},
   "source": [
    "## Load and briefly explore data set"
   ]
  },
  {
   "cell_type": "code",
   "execution_count": null,
   "id": "840c260b",
   "metadata": {},
   "outputs": [],
   "source": [
    "url1 = 'https://raw.githubusercontent.com/aarongalbraith/flatiron-phase5-project/main/data/drugsComTrain_raw.tsv'\n",
    "url2 = 'https://raw.githubusercontent.com/aarongalbraith/flatiron-phase5-project/main/data/drugsComTest_raw.tsv'"
   ]
  },
  {
   "cell_type": "code",
   "execution_count": null,
   "id": "33c13614",
   "metadata": {},
   "outputs": [],
   "source": [
    "d1 = pd.read_csv(url1, delimiter='\\t', encoding='latin-1')\n",
    "d2 = pd.read_csv(url2, delimiter='\\t', encoding='latin-1')\n",
    "df = pd.concat([d1,d2]).reset_index().drop(columns=['Unnamed: 0', 'index'])"
   ]
  },
  {
   "cell_type": "code",
   "execution_count": null,
   "id": "d0c6600a",
   "metadata": {},
   "outputs": [],
   "source": [
    "df.head()"
   ]
  },
  {
   "cell_type": "code",
   "execution_count": null,
   "id": "0d97d476",
   "metadata": {},
   "outputs": [],
   "source": [
    "df.shape"
   ]
  },
  {
   "cell_type": "code",
   "execution_count": null,
   "id": "749ca8b9",
   "metadata": {},
   "outputs": [],
   "source": [
    "df.info()"
   ]
  },
  {
   "cell_type": "markdown",
   "id": "6299eac1",
   "metadata": {},
   "source": [
    "There are some missing `condition` labels."
   ]
  },
  {
   "cell_type": "markdown",
   "id": "f17886d3",
   "metadata": {},
   "source": [
    "### `drugName` feature"
   ]
  },
  {
   "cell_type": "code",
   "execution_count": null,
   "id": "07211590",
   "metadata": {},
   "outputs": [],
   "source": [
    "df.drugName.value_counts()"
   ]
  },
  {
   "cell_type": "code",
   "execution_count": null,
   "id": "b4da6b07",
   "metadata": {},
   "outputs": [],
   "source": [
    "df.drugName.value_counts().quantile(.90)"
   ]
  },
  {
   "cell_type": "markdown",
   "id": "93e4be82",
   "metadata": {},
   "source": [
    "There are 3,671 unique drug names, and 10% of the drug names have more than 120 reviews."
   ]
  },
  {
   "cell_type": "code",
   "execution_count": null,
   "id": "dc31fef1",
   "metadata": {
    "scrolled": true
   },
   "outputs": [],
   "source": [
    "pd.set_option(\"display.max_rows\", None)\n",
    "print(df.drugName.value_counts())\n",
    "pd.set_option(\"display.max_rows\", 60)"
   ]
  },
  {
   "cell_type": "markdown",
   "id": "eace3c7e",
   "metadata": {},
   "source": [
    "A casual overview of the drug names indicates that they all seem valid. Some seem to specify drug combinations and/or dosage amounts."
   ]
  },
  {
   "cell_type": "markdown",
   "id": "e391386c",
   "metadata": {},
   "source": [
    "### `condition` feature"
   ]
  },
  {
   "cell_type": "code",
   "execution_count": null,
   "id": "8e2573ca",
   "metadata": {},
   "outputs": [],
   "source": [
    "df.condition.value_counts()"
   ]
  },
  {
   "cell_type": "code",
   "execution_count": null,
   "id": "5d6e45d3",
   "metadata": {},
   "outputs": [],
   "source": [
    "df.condition.value_counts().quantile(.90)"
   ]
  },
  {
   "cell_type": "markdown",
   "id": "aaa14356",
   "metadata": {},
   "source": [
    "There are 916 unique conditions, and 10% of the conditions have more than 332 reviews."
   ]
  },
  {
   "cell_type": "code",
   "execution_count": null,
   "id": "778a5864",
   "metadata": {
    "scrolled": true
   },
   "outputs": [],
   "source": [
    "pd.set_option(\"display.max_rows\", None)\n",
    "print(df.condition.value_counts())\n",
    "pd.set_option(\"display.max_rows\", 60)"
   ]
  },
  {
   "cell_type": "markdown",
   "id": "97d484e5",
   "metadata": {},
   "source": [
    "Oddly, the condition labels often (always?) omit initial 'F' and terminal 'r'. We can isolate instances of the former by searching for conditions that start with a lower case letter.\n",
    "\n",
    "We will eventually trim our records to a number of conditions that Planned Parenthood specializes in treating (and perhaps birth control exclusively), but we will need all the records to help us determine missing condition labels. After we have restored (or discarded) all missing condition labels, we can drop the conditions outside the scope of this review."
   ]
  },
  {
   "cell_type": "markdown",
   "id": "d60587d3",
   "metadata": {},
   "source": [
    "### `drugName` × `condition` features"
   ]
  },
  {
   "cell_type": "code",
   "execution_count": null,
   "id": "abf18c93",
   "metadata": {},
   "outputs": [],
   "source": [
    "df.groupby('drugName').condition.nunique().value_counts()[:10]"
   ]
  },
  {
   "cell_type": "markdown",
   "id": "a6a35dff",
   "metadata": {},
   "source": [
    "This means that, for example, 1869 drugs treat 1 condition only, etc."
   ]
  },
  {
   "cell_type": "code",
   "execution_count": null,
   "id": "520687e6",
   "metadata": {},
   "outputs": [],
   "source": [
    "df.groupby('condition').drugName.nunique().value_counts()[:10]"
   ]
  },
  {
   "cell_type": "markdown",
   "id": "5a66d69f",
   "metadata": {},
   "source": [
    "This means that 188 conditions are treatable by two drugs, etc."
   ]
  },
  {
   "cell_type": "markdown",
   "id": "ad53ed36",
   "metadata": {},
   "source": [
    "### `review` feature"
   ]
  },
  {
   "cell_type": "code",
   "execution_count": null,
   "id": "989e273a",
   "metadata": {},
   "outputs": [],
   "source": [
    "df.review.nunique()"
   ]
  },
  {
   "cell_type": "markdown",
   "id": "fca8c63b",
   "metadata": {},
   "source": [
    "This suggests that just over half of the review values are unique. Almost certainly there will be some duplication issues to deal with.\n",
    "\n",
    "Let's look at several reviews."
   ]
  },
  {
   "cell_type": "code",
   "execution_count": null,
   "id": "85134d0b",
   "metadata": {
    "scrolled": false
   },
   "outputs": [],
   "source": [
    "for i in range(5):\n",
    "    print(df.review[i], '\\n-----')"
   ]
  },
  {
   "cell_type": "markdown",
   "id": "53443a44",
   "metadata": {},
   "source": [
    "There appear to be escaped characters (e.g. `&#039;`, indicating an apostrophe) and contractions. We can address this now without affecting our analysis.\n",
    "\n",
    "We'll reset the review texts to unescape these characters and expand all contractions.\n",
    "\n",
    "Note: This will replace all instances of `ain't` with `are not`, resulting in some subject-verb agreement issues (e.g. `I are not`). This difference will be negligible in our analysis."
   ]
  },
  {
   "cell_type": "code",
   "execution_count": null,
   "id": "64dd5aa1",
   "metadata": {},
   "outputs": [],
   "source": [
    "df.review = df.review.apply(lambda x: contractions.fix(html.unescape(x)))"
   ]
  },
  {
   "cell_type": "markdown",
   "id": "624247bc",
   "metadata": {},
   "source": [
    "### `rating` feature"
   ]
  },
  {
   "cell_type": "code",
   "execution_count": null,
   "id": "e5b56467",
   "metadata": {},
   "outputs": [],
   "source": [
    "df.rating.value_counts()"
   ]
  },
  {
   "cell_type": "code",
   "execution_count": null,
   "id": "27f2ac94",
   "metadata": {},
   "outputs": [],
   "source": [
    "df.rating.hist(bins=df.rating.nunique());"
   ]
  },
  {
   "cell_type": "markdown",
   "id": "196bc231",
   "metadata": {},
   "source": [
    "Most of the conditions lie at the extremes, and more of them appear to be at the positive extreme."
   ]
  },
  {
   "cell_type": "markdown",
   "id": "a7dfecd2",
   "metadata": {},
   "source": [
    "### `date` feature"
   ]
  },
  {
   "cell_type": "markdown",
   "id": "69f219b9",
   "metadata": {},
   "source": [
    "In order to get a better understanding of the `date` feature, we'll convert it to a `datetime` object."
   ]
  },
  {
   "cell_type": "code",
   "execution_count": null,
   "id": "b90f4fa7",
   "metadata": {},
   "outputs": [],
   "source": [
    "df['datetime'] = df.date.apply(lambda x: datetime.strptime(x, '%B %d, %Y'))"
   ]
  },
  {
   "cell_type": "code",
   "execution_count": null,
   "id": "f5676a7c",
   "metadata": {},
   "outputs": [],
   "source": [
    "df.datetime.hist(bins=80);"
   ]
  },
  {
   "cell_type": "code",
   "execution_count": null,
   "id": "08f3b6b3",
   "metadata": {},
   "outputs": [],
   "source": [
    "start_date = df.datetime.min().strftime('%B %d, %Y')\n",
    "end_date = df.datetime.max().strftime('%B %d, %Y')\n",
    "\n",
    "print('The reviews span specifically from', start_date+',', 'to', end_date+'.')"
   ]
  },
  {
   "cell_type": "markdown",
   "id": "fa38e662",
   "metadata": {},
   "source": [
    "The reviews began to surge in early 2015."
   ]
  },
  {
   "cell_type": "markdown",
   "id": "b7cce88f",
   "metadata": {},
   "source": [
    "### `usefulCount` feature"
   ]
  },
  {
   "cell_type": "code",
   "execution_count": null,
   "id": "63ba25b2",
   "metadata": {},
   "outputs": [],
   "source": [
    "usefulCountCumulative = list(df.usefulCount.values)\n",
    "usefulCountCumulative.sort(reverse=True)\n",
    "\n",
    "X = range(0,len(df),5000)\n",
    "Y = []\n",
    "for x in X:\n",
    "    Y.append(sum(usefulCountCumulative[:x]))\n",
    "fig, ax = plt.subplots()\n",
    "ax.plot(X,Y);"
   ]
  },
  {
   "cell_type": "markdown",
   "id": "b3e4c3af",
   "metadata": {},
   "source": [
    "(If all reviews were equally useful, this graph would be a straight diagonal line from SW to NE)"
   ]
  },
  {
   "cell_type": "code",
   "execution_count": null,
   "id": "181aab82",
   "metadata": {},
   "outputs": [],
   "source": [
    "df.usefulCount.value_counts()[:10]"
   ]
  },
  {
   "cell_type": "markdown",
   "id": "5c364021",
   "metadata": {},
   "source": [
    "# Data Preparation"
   ]
  },
  {
   "cell_type": "markdown",
   "id": "80e8c2a9",
   "metadata": {},
   "source": [
    "## An outline for getting the information we need\n",
    "\n",
    "In addition to the standard goals of data cleaning, the main goals of our data preparation are\n",
    "1. Drop any records that don't pertain to birth control\n",
    "2. Identify which method of birth control each review discusses\n",
    "\n",
    "The records indicate a drug name and what condition (e.g. birth control) it treats, but problems with both of these features abound. There are many missing condition labels, and we can only restore them (and find out which ones should also have the \"birth control\" label) by understanding how they associate with the drug name labels. Some drug labels are for brand names, and others are for the generic or chemical name of the drug. Many records are actually instances of the review being entered twice, once with the brand name and once with the generic name. That's not the end of the complications, but it will suffice for an overview.\n",
    "\n",
    "Once the first main goal is achieved and we are able to trim the records to only those that concern the condition of birth control, we can use the edited and matched brand/generic names to identify the birth control method each drug is an instance of (e.g. injectable, IUD, patch). This also involved, for example, consolidating certain versions of the same brand name together to reduce the number of brands and make for more tractable analysis."
   ]
  },
  {
   "cell_type": "markdown",
   "id": "bf69636e",
   "metadata": {},
   "source": [
    "## Missing and erroneous condition labels\n",
    "\n",
    "In this section we will identify all `condition` labels that are either missing or in need of editing."
   ]
  },
  {
   "cell_type": "code",
   "execution_count": null,
   "id": "bef7cd68",
   "metadata": {},
   "outputs": [],
   "source": [
    "len(df[df.condition.isna()])"
   ]
  },
  {
   "cell_type": "code",
   "execution_count": null,
   "id": "8dbefa82",
   "metadata": {},
   "outputs": [],
   "source": [
    "df.condition.fillna('missing', inplace=True)"
   ]
  },
  {
   "cell_type": "code",
   "execution_count": null,
   "id": "9fbe8867",
   "metadata": {},
   "outputs": [],
   "source": [
    "len(df[df.condition == 'missing'])"
   ]
  },
  {
   "cell_type": "markdown",
   "id": "b6252cdc",
   "metadata": {},
   "source": [
    "We noticed another `condition` label that was meant to indicate missing and should be accordingly changed."
   ]
  },
  {
   "cell_type": "code",
   "execution_count": null,
   "id": "ea1512f5",
   "metadata": {},
   "outputs": [],
   "source": [
    "df.condition = df.condition.apply(lambda x: 'missing' if 'Not Listed' in x else x)"
   ]
  },
  {
   "cell_type": "code",
   "execution_count": null,
   "id": "c466ab46",
   "metadata": {},
   "outputs": [],
   "source": [
    "len(df[df.condition == 'missing'])"
   ]
  },
  {
   "cell_type": "markdown",
   "id": "b5cfaa5f",
   "metadata": {},
   "source": [
    "We've identified some actual missing `condition` labels, but we noticed there are more `condition` labels that seem suspicious, particularly ones that start with something other than an upper case character. Let's look at all such `condition` labels."
   ]
  },
  {
   "cell_type": "code",
   "execution_count": null,
   "id": "0ddf930c",
   "metadata": {},
   "outputs": [],
   "source": [
    "set(df[(~df.condition.str[0].isin(list(string.ascii_uppercase))) &\n",
    "   (df.condition != 'missing')\n",
    "  ].condition)"
   ]
  },
  {
   "cell_type": "markdown",
   "id": "bec4aaaf",
   "metadata": {},
   "source": [
    "These fall into three categories:\n",
    "1. \"X users found this comment helpful\" should be regarded as an erroneous label and retagged as \"missing."
   ]
  },
  {
   "cell_type": "code",
   "execution_count": null,
   "id": "52bc4e45",
   "metadata": {},
   "outputs": [],
   "source": [
    "df.condition = df.condition.apply(lambda x: 'missing' if 'users found' in x else x)"
   ]
  },
  {
   "cell_type": "code",
   "execution_count": null,
   "id": "09099838",
   "metadata": {},
   "outputs": [],
   "source": [
    "len(df[df.condition == 'missing'])"
   ]
  },
  {
   "cell_type": "markdown",
   "id": "6dea43d3",
   "metadata": {},
   "source": [
    "2. Labels that show a clipped copy of the `drugName` label and end with a parenthesis should also be regarded as missing. These erroneous labels merely repeat information already available in the `drugName` feature."
   ]
  },
  {
   "cell_type": "code",
   "execution_count": null,
   "id": "58a925d4",
   "metadata": {},
   "outputs": [],
   "source": [
    "df.condition = df.condition.apply(lambda x: 'missing' \\\n",
    "                                  if x[0] not in list(string.ascii_uppercase) and \\\n",
    "                                  x[-1] in ['(', ')'] \\\n",
    "                                  else x)"
   ]
  },
  {
   "cell_type": "code",
   "execution_count": null,
   "id": "f72975ec",
   "metadata": {},
   "outputs": [],
   "source": [
    "len(df[df.condition == 'missing'])"
   ]
  },
  {
   "cell_type": "markdown",
   "id": "90f5f56c",
   "metadata": {},
   "source": [
    "3. Other `condition` labels appear to omit the first and/or last several characters. We can infer certain corrections here to restore many of the conditions."
   ]
  },
  {
   "cell_type": "code",
   "execution_count": null,
   "id": "47a167ac",
   "metadata": {},
   "outputs": [],
   "source": [
    "def condition_restore(condition):\n",
    "    if condition.split()[-1] in ['Disorde', 'eve', 'Shoulde', 'Cance']:\n",
    "        condition = condition+'r'\n",
    "    if condition.split()[0] in ['acial', 'ibrocystic', 'ungal', 'amilial', 'ailure', 'ever', \\\n",
    "                                'emale', 'unctional', 'actor', 'ibromyalgia', 'atigue']:\n",
    "        condition = 'F'+condition\n",
    "    if condition.split()[0] in ['llicular', 'llicle', 'lic', 'cal']:\n",
    "        condition = 'Fo'+condition\n",
    "    if condition.split()[0] in ['mance']:\n",
    "        condition = 'Perfor'+condition\n",
    "    if condition.split()[0] in ['zen']:\n",
    "        condition = 'Fro'+condition\n",
    "    if condition.split()[0] in ['mis']:\n",
    "        condition = 'Dermatitis Herpetifor'+condition\n",
    "    return condition\n",
    "\n",
    "df.condition = df.condition.apply(lambda x: condition_restore(x))"
   ]
  },
  {
   "cell_type": "markdown",
   "id": "b10417f1",
   "metadata": {},
   "source": [
    "Let's look at what we have left."
   ]
  },
  {
   "cell_type": "code",
   "execution_count": null,
   "id": "8f6d1fd4",
   "metadata": {},
   "outputs": [],
   "source": [
    "set(df[(~df.condition.str[0].isin(list(string.ascii_uppercase))) &\n",
    "   (df.condition != 'missing')\n",
    "  ].condition)"
   ]
  },
  {
   "cell_type": "markdown",
   "id": "064d09d6",
   "metadata": {},
   "source": [
    "\"von Willebrand's Disease\" appears to be a naturally uncapitalized condition. The others have been impossible to restore and will also be regarded as missing."
   ]
  },
  {
   "cell_type": "code",
   "execution_count": null,
   "id": "31b2c799",
   "metadata": {},
   "outputs": [],
   "source": [
    "df.condition = df.condition.apply(lambda x: 'missing' \\\n",
    "                                  if x[0] not in list(string.ascii_uppercase) and \\\n",
    "                                  x.split()[0] != 'von' \\\n",
    "                                  else x)"
   ]
  },
  {
   "cell_type": "code",
   "execution_count": null,
   "id": "f825d850",
   "metadata": {},
   "outputs": [],
   "source": [
    "len(df[df.condition == 'missing'])"
   ]
  },
  {
   "cell_type": "markdown",
   "id": "ad808d66",
   "metadata": {},
   "source": [
    "We will be able to restore more of these missing condition labels after we do some work with duplicates."
   ]
  },
  {
   "cell_type": "markdown",
   "id": "82cb6883",
   "metadata": {},
   "source": [
    "## Duplicates"
   ]
  },
  {
   "cell_type": "code",
   "execution_count": null,
   "id": "d9b11f3c",
   "metadata": {},
   "outputs": [],
   "source": [
    "df.duplicated().value_counts()"
   ]
  },
  {
   "cell_type": "code",
   "execution_count": null,
   "id": "8037330b",
   "metadata": {},
   "outputs": [],
   "source": [
    "df[df.duplicated()]"
   ]
  },
  {
   "cell_type": "code",
   "execution_count": null,
   "id": "8b81b427",
   "metadata": {},
   "outputs": [],
   "source": [
    "show_duplicates = True\n",
    "\n",
    "def show_review(index):\n",
    "    if show_duplicates:\n",
    "        display(df[df.review == df.loc[index].review][['drugName', 'condition', 'rating', 'date', 'usefulCount']])\n",
    "    print('\\nReview #'+str(index),'| Rating:',df.loc[index].rating,'| Upvotes:',\n",
    "          df.loc[index].usefulCount,'\\n\\n'+df.review.loc[index][1:-1])"
   ]
  },
  {
   "cell_type": "code",
   "execution_count": null,
   "id": "b69066f9",
   "metadata": {},
   "outputs": [],
   "source": [
    "show_review(178703)"
   ]
  },
  {
   "cell_type": "markdown",
   "id": "0c843540",
   "metadata": {},
   "source": [
    "For reasons we will explore later, we believe this review was submitted twice by the same person, that each instance of it happened to receive 10 upvotes, and that it should correctly be associated with a grand total of 20 upvotes. Because this is one special instance where the review happened to receive 10 upvotes both times, making it a true duplicate of the data set, we will fix the values here, lest it interfere with operations later on."
   ]
  },
  {
   "cell_type": "code",
   "execution_count": null,
   "id": "323de649",
   "metadata": {},
   "outputs": [],
   "source": [
    "df.at[178703, 'usefulCount'] = 20\n",
    "df.at[191001, 'usefulCount'] = 20\n",
    "df.drop([131531, 143768], inplace=True)"
   ]
  },
  {
   "cell_type": "markdown",
   "id": "865360bd",
   "metadata": {},
   "source": [
    "## Duplicates due to brand / generic pairs\n",
    "\n",
    "The main type of duplicate we should look out for is records with duplicate reviews, as those likely indicate some kind of actual erroneous duplication. Let's see how many of those there are."
   ]
  },
  {
   "cell_type": "code",
   "execution_count": null,
   "id": "db2352e1",
   "metadata": {},
   "outputs": [],
   "source": [
    "df.duplicated(subset=['review']).value_counts()"
   ]
  },
  {
   "cell_type": "markdown",
   "id": "2fe15fd9",
   "metadata": {},
   "source": [
    "That's a lot!\n",
    "\n",
    "Let's explore some facets of these duplicates."
   ]
  },
  {
   "cell_type": "code",
   "execution_count": null,
   "id": "b7b36d4c",
   "metadata": {},
   "outputs": [],
   "source": [
    "len(df[df.duplicated(subset=df.columns.difference(['drugName']))])"
   ]
  },
  {
   "cell_type": "markdown",
   "id": "a36d0662",
   "metadata": {},
   "source": [
    "The vast majority of duplicate reviews are accounted for by different drug names. Let's explore some examples."
   ]
  },
  {
   "cell_type": "code",
   "execution_count": null,
   "id": "fdcf96e9",
   "metadata": {},
   "outputs": [],
   "source": [
    "for ind in df[df.duplicated(subset=df.columns.difference(['drugName']))].index[:5]:\n",
    "    show_review(ind)"
   ]
  },
  {
   "cell_type": "markdown",
   "id": "861b55e2",
   "metadata": {},
   "source": [
    "These five examples make clear that the vast majority of duplicates are due to double-entry; (nearly) every review is entered once with its generic name and once with its brand name.\n",
    "\n",
    "We can use this phenomenon to restore some of the missing condition labels. If a missing condition label is part of such a unique pair, then we can confidently assign it the condition of its pair-mate.\n",
    "\n",
    "Let's broaden our search to records that duplicate every feature other than drug name and condition."
   ]
  },
  {
   "cell_type": "code",
   "execution_count": null,
   "id": "2e26fb02",
   "metadata": {},
   "outputs": [],
   "source": [
    "len(df[df.duplicated(subset=df.columns.difference(['drugName', 'condition']))])"
   ]
  },
  {
   "cell_type": "markdown",
   "id": "377eb7b2",
   "metadata": {},
   "source": [
    "This is how many records are duplicates of other records in all values EXCEPT (POSSIBLY) drug name and condition. If a record is duplicated in this manner, the second (and third, fourth, etc.) instance will be captured in this bucket of dupes.\n",
    "\n",
    "If we check only this bucket for dupes, we can see whether there are any triplets, etc."
   ]
  },
  {
   "cell_type": "code",
   "execution_count": null,
   "id": "f4b9366f",
   "metadata": {},
   "outputs": [],
   "source": [
    "df_dupes = df[df.duplicated(subset=df.columns.difference(['drugName', 'condition']))]"
   ]
  },
  {
   "cell_type": "code",
   "execution_count": null,
   "id": "283d7447",
   "metadata": {},
   "outputs": [],
   "source": [
    "len(df_dupes[df_dupes.duplicated(subset=df_dupes.columns.difference(['drugName', 'condition']))])"
   ]
  },
  {
   "cell_type": "markdown",
   "id": "c80c5f0c",
   "metadata": {},
   "source": [
    "There is only one."
   ]
  },
  {
   "cell_type": "code",
   "execution_count": null,
   "id": "8284bbd1",
   "metadata": {},
   "outputs": [],
   "source": [
    "df_dupes[df_dupes.duplicated(subset=df_dupes.columns.difference(['drugName', 'condition']))]"
   ]
  },
  {
   "cell_type": "code",
   "execution_count": null,
   "id": "e711afa6",
   "metadata": {
    "scrolled": true
   },
   "outputs": [],
   "source": [
    "show_review(140144)"
   ]
  },
  {
   "cell_type": "markdown",
   "id": "819c6c41",
   "metadata": {},
   "source": [
    "There are 6 records with the same review, date, rating, and condition. (The reviews on October 5, 2012, appear to be just a coincidence of the same review wording for a different drug and condition.) Because they're on the *same day*, it seems likely that these reviews were possibly entered repeatedly by the same person. The two with a useful count of 10 are likely a brand/generic pair.\n",
    "\n",
    "As for the other 4, it's not clear what is going on. We will (would) later discover that there is also some discrepancy as to which of these is a brand or generic name. Since the review text isn't very descriptive, and the useful count is so low, (and it doesn't pertain to the main conditions treated by Planned Parenthood), let's just drop all 4."
   ]
  },
  {
   "cell_type": "code",
   "execution_count": null,
   "id": "041f04b4",
   "metadata": {},
   "outputs": [],
   "source": [
    "df.drop([60998, 119972, 133212, 140144], inplace=True)"
   ]
  },
  {
   "cell_type": "markdown",
   "id": "0bbdfb9f",
   "metadata": {},
   "source": [
    "Now we should be able to create a list of pairs of indices of records that match in all features except possibly drug name and condition. To make this run faster, we'll first create a way to sort them by date."
   ]
  },
  {
   "cell_type": "code",
   "execution_count": null,
   "id": "81b048a3",
   "metadata": {},
   "outputs": [],
   "source": [
    "%%time\n",
    "# ⏰ record the time for this cell -- usually 11-12 s\n",
    "\n",
    "# create stripped down dataframe that does not have drug names or conditions\n",
    "# we don't need these features for this operation because we're checking for matches on all other features\n",
    "df_pairs = df.drop(columns=['drugName', 'condition']).copy()\n",
    "\n",
    "# create a list of indices of records that duplicate everything other than drug name and condition\n",
    "df_dupes = df_pairs[df_pairs.duplicated()].index.tolist().copy()\n",
    "\n",
    "# create and populate a dictionary whose keys are dates and whose values are indices\n",
    "dates_dict = {}\n",
    "# populate dictionary with keys that are dates belonging to the duplicates\n",
    "for date_ in list(set(df[df.index.isin(df_dupes)].date.tolist())):\n",
    "    dates_dict[date_] = []\n",
    "# populate dictionary with values that are indices that are NOT from the duplicate list but DO share that date\n",
    "for i in df[~df.index.isin(df_dupes)].index:\n",
    "    dates_dict[df.loc[i].date].append(i)"
   ]
  },
  {
   "cell_type": "markdown",
   "id": "bf396769",
   "metadata": {},
   "source": [
    "Now we can use this dates dictionary to sort and identify the pairs."
   ]
  },
  {
   "cell_type": "code",
   "execution_count": null,
   "id": "2da7654e",
   "metadata": {},
   "outputs": [],
   "source": [
    "%%time\n",
    "# ⏰ record the time for this cell -- usually 2–4 mins\n",
    "\n",
    "# create a list of record pairs where each entry is a list of two indices\n",
    "pairs = []\n",
    "\n",
    "# iterate over the indices from the dupes list\n",
    "for i in df_dupes:\n",
    "    # set the date to the date from index i\n",
    "    date_i = df.loc[i].date\n",
    "    # iterate over OTHER indices who share that date\n",
    "    for j in dates_dict[date_i]:\n",
    "        # check for a match\n",
    "        if df_pairs.loc[i].equals(df_pairs.loc[j]) and df.drugName.loc[i] != df.drugName.loc[j]:\n",
    "            # remove this index from the dates dictionary so we have fewer to search through in later iterations\n",
    "            dates_dict[date_i].remove(j)\n",
    "            # add this pair to the pairs list\n",
    "            pairs.append([i,j])\n",
    "            break"
   ]
  },
  {
   "cell_type": "markdown",
   "id": "2de2c0f5",
   "metadata": {},
   "source": [
    "Let's take a look at several of the pairs we've collected."
   ]
  },
  {
   "cell_type": "code",
   "execution_count": null,
   "id": "fb6117e9",
   "metadata": {},
   "outputs": [],
   "source": [
    "pairs[:10]"
   ]
  },
  {
   "cell_type": "markdown",
   "id": "1552bbe9",
   "metadata": {},
   "source": [
    "Here we'll create a dictionary that matches the index of one pair member to the other member of the pair."
   ]
  },
  {
   "cell_type": "code",
   "execution_count": null,
   "id": "2edec0e2",
   "metadata": {},
   "outputs": [],
   "source": [
    "pairs_dict = {}\n",
    "\n",
    "for pair in pairs:\n",
    "    for i in range(2):\n",
    "        pairs_dict[pair[i]] = pair[1-i]"
   ]
  },
  {
   "cell_type": "markdown",
   "id": "910e3e9b",
   "metadata": {},
   "source": [
    "## Restore missing `condition` labels\n",
    "\n",
    "We will restore missing `condition` labels in two ways, in order of certainty:\n",
    "\n",
    "1. For missing values that possess a pair match, we will assign it the condition of its match.\n",
    "2. For the remaining missing values, we will assign it the condition that is most commonly associated with its drug name."
   ]
  },
  {
   "cell_type": "code",
   "execution_count": null,
   "id": "249549b2",
   "metadata": {},
   "outputs": [],
   "source": [
    "len(df[df.condition == 'missing'])"
   ]
  },
  {
   "cell_type": "code",
   "execution_count": null,
   "id": "10ae9b41",
   "metadata": {},
   "outputs": [],
   "source": [
    "%%time\n",
    "# ⏰ record the time for this cell -- usually 10-15 seconds\n",
    "\n",
    "# iterate over each record pair\n",
    "for pair in pairs:\n",
    "    # iterate over each member of the pair\n",
    "    for i in range(2):\n",
    "        # identify a pair member whose condition is missing\n",
    "        if df.loc[pair[i]].condition == 'missing':\n",
    "            # assign to the pair member the condition of its pair-mate\n",
    "            df.at[pair[i], 'condition'] = df.loc[pairs_dict[pair[i]]].condition"
   ]
  },
  {
   "cell_type": "code",
   "execution_count": null,
   "id": "c95bbc34",
   "metadata": {},
   "outputs": [],
   "source": [
    "len(df[df.condition == 'missing'])"
   ]
  },
  {
   "cell_type": "markdown",
   "id": "57aa5900",
   "metadata": {},
   "source": [
    "Because it will be useful later, we'll make a feature that names the indicated drug and, if applicable, the paired drug.\n",
    "\n",
    "This is not a *final* replacement for the drug name feature, but it will allow us to better recognize the relationship between the generic and brand drug names."
   ]
  },
  {
   "cell_type": "code",
   "execution_count": null,
   "id": "aaa35028",
   "metadata": {},
   "outputs": [],
   "source": [
    "%%time\n",
    "# ⏰ record the time for this cell -- usually 15-30 seconds\n",
    "\n",
    "df['ind'] = df.index\n",
    "\n",
    "def drugList_fix(index, drugName_):\n",
    "    drugList = [drugName_]\n",
    "    if index in pairs_dict:\n",
    "        drugList.append(df.loc[pairs_dict[index]].drugName)\n",
    "        # alphabetize each drug pair so that we will not mistakenly duplicate e.g. [A,B] & [B,A]\n",
    "        drugList.sort()\n",
    "    return drugList\n",
    "\n",
    "df['drugList'] = df.apply(lambda x: drugList_fix(x.ind, x.drugName), axis=1)\n",
    "\n",
    "df.drop(columns='ind', inplace=True)"
   ]
  },
  {
   "cell_type": "markdown",
   "id": "741bb8a6",
   "metadata": {},
   "source": [
    "Now we can create a feature that tells us if a record is associated with a paired drug name or not."
   ]
  },
  {
   "cell_type": "code",
   "execution_count": null,
   "id": "fb4e3f1e",
   "metadata": {},
   "outputs": [],
   "source": [
    "df['isPaired'] = df.drugList.apply(lambda x: True if len(x) > 1 else False)"
   ]
  },
  {
   "cell_type": "code",
   "execution_count": null,
   "id": "3f4d7830",
   "metadata": {},
   "outputs": [],
   "source": [
    "len(df[df.isPaired])"
   ]
  },
  {
   "cell_type": "code",
   "execution_count": null,
   "id": "a4a8d246",
   "metadata": {},
   "outputs": [],
   "source": [
    "len(df[~df.isPaired])"
   ]
  },
  {
   "cell_type": "markdown",
   "id": "3bed0b24",
   "metadata": {},
   "source": [
    "Because lists confuse certain operations"
   ]
  },
  {
   "cell_type": "code",
   "execution_count": null,
   "id": "6343dc22",
   "metadata": {},
   "outputs": [],
   "source": [
    "df['drugSetString'] = df.drugList.apply(lambda x: x[0] + ' ' + x[1] if len(x) == 2 else x[0])"
   ]
  },
  {
   "cell_type": "code",
   "execution_count": null,
   "id": "405d0228",
   "metadata": {
    "scrolled": true
   },
   "outputs": [],
   "source": [
    "len(df[df.duplicated(subset=df.columns.difference(['drugName', 'drugSet', 'drugList']))])"
   ]
  },
  {
   "cell_type": "markdown",
   "id": "053ccd93",
   "metadata": {},
   "source": [
    "With this new feature in place, we can drop one record from each of the brand/generic pairs. The drug name feature will retain only one member of the pair -- unpredictably either the brand or the generic -- which will make this feature more or less useless for the moment.\n",
    "\n",
    "Before we drop these records, we'll create a bookmark copy of the dataframe."
   ]
  },
  {
   "cell_type": "code",
   "execution_count": null,
   "id": "031b31e2",
   "metadata": {},
   "outputs": [],
   "source": [
    "# DO NOT re-run this cell out of sequence\n",
    "# to use the dataframe as it was at this stage, un-comment, run, and re-comment the cell that follows after it.\n",
    "df_bookmark_1 = df.copy()"
   ]
  },
  {
   "cell_type": "code",
   "execution_count": null,
   "id": "68acbf7e",
   "metadata": {},
   "outputs": [],
   "source": [
    "# df = df_bookmark_1.copy()"
   ]
  },
  {
   "cell_type": "code",
   "execution_count": null,
   "id": "7eddb64b",
   "metadata": {
    "scrolled": true
   },
   "outputs": [],
   "source": [
    "df.drop_duplicates(subset=df.columns.difference(['drugName', 'drugSet', 'drugList']), inplace=True)"
   ]
  },
  {
   "cell_type": "markdown",
   "id": "0d563e01",
   "metadata": {},
   "source": [
    "Explain why we're doing the cell below."
   ]
  },
  {
   "cell_type": "code",
   "execution_count": null,
   "id": "43b69da2",
   "metadata": {},
   "outputs": [],
   "source": [
    "show_duplicates = False"
   ]
  },
  {
   "cell_type": "markdown",
   "id": "1684f484",
   "metadata": {},
   "source": [
    "For every remaining record with a missing condition, we will assign it the condition that is most common for the drug indicated by that record. (This will not be biased by duplicates from brand/generic pairs, because we have dropped those duplicates.)\n",
    "\n",
    "This will be the last use we have for conditions *not* treated by Planned Parenthood."
   ]
  },
  {
   "cell_type": "code",
   "execution_count": null,
   "id": "a2ba4770",
   "metadata": {},
   "outputs": [],
   "source": [
    "drugs_w_missing_condition = list(set(df[df.condition == 'missing'].drugSetString))"
   ]
  },
  {
   "cell_type": "code",
   "execution_count": null,
   "id": "a7c3b938",
   "metadata": {},
   "outputs": [],
   "source": [
    "len(drugs_w_missing_condition)"
   ]
  },
  {
   "cell_type": "code",
   "execution_count": null,
   "id": "ab87e6f1",
   "metadata": {},
   "outputs": [],
   "source": [
    "df.drugSetString.nunique()"
   ]
  },
  {
   "cell_type": "markdown",
   "id": "c7f854a8",
   "metadata": {},
   "source": [
    "This applies to some 20% of the drugs. We'll create a dictionary that reports the most common condition for these drugs."
   ]
  },
  {
   "cell_type": "code",
   "execution_count": null,
   "id": "b9d45a46",
   "metadata": {},
   "outputs": [],
   "source": [
    "%%time\n",
    "# record the time for this cell -- 10-20 seconds\n",
    "\n",
    "most_common_condition = {}\n",
    "\n",
    "for drug in drugs_w_missing_condition:\n",
    "    condition = df[df.drugSetString == drug].condition.value_counts().idxmax()\n",
    "    if condition == 'missing' and len(set(df[df.drugSetString == drug].condition)) > 1:\n",
    "        condition = df[(df.drugSetString == drug) &\n",
    "                       (df.condition != 'missing')\n",
    "                      ].condition.value_counts().idxmax()\n",
    "    proportion = round(df[df.drugSetString == drug].condition.value_counts(normalize=True)[0],2)\n",
    "    most_common_condition[drug] = [condition, proportion]"
   ]
  },
  {
   "cell_type": "code",
   "execution_count": null,
   "id": "7b8a1593",
   "metadata": {},
   "outputs": [],
   "source": [
    "most_common_condition['Sildenafil Viagra']"
   ]
  },
  {
   "cell_type": "markdown",
   "id": "ac026172",
   "metadata": {},
   "source": [
    "For example, if a review with an unlisted condition is about Viagra, we will assume the condition is Erectile \n",
    "Dysfunction."
   ]
  },
  {
   "cell_type": "code",
   "execution_count": null,
   "id": "e0778e7d",
   "metadata": {},
   "outputs": [],
   "source": [
    "len(df[df.condition == 'missing'])"
   ]
  },
  {
   "cell_type": "code",
   "execution_count": null,
   "id": "f726c750",
   "metadata": {},
   "outputs": [],
   "source": [
    "df['condition'] = df.apply(lambda x: most_common_condition[x.drugSetString][0] \\\n",
    "                           if x.condition == 'missing' \\\n",
    "                           else x.condition, axis = 1)"
   ]
  },
  {
   "cell_type": "code",
   "execution_count": null,
   "id": "fdaf8294",
   "metadata": {},
   "outputs": [],
   "source": [
    "len(df[df.condition == 'missing'])"
   ]
  },
  {
   "cell_type": "markdown",
   "id": "965056d0",
   "metadata": {},
   "source": [
    "This is how many records there are that still have no condition label. This means the drugs indicated in these records are *only* indicated in references without an indicated condition. As such, there's not really anything we can do with these records, and we may as well drop them."
   ]
  },
  {
   "cell_type": "code",
   "execution_count": null,
   "id": "f1e6ffc3",
   "metadata": {},
   "outputs": [],
   "source": [
    "df.drop(df[df.condition == 'missing'].index, inplace=True)"
   ]
  },
  {
   "cell_type": "code",
   "execution_count": null,
   "id": "d9f6b3a6",
   "metadata": {},
   "outputs": [],
   "source": [
    "len(df[df.condition == 'missing'])"
   ]
  },
  {
   "cell_type": "markdown",
   "id": "271e0200",
   "metadata": {},
   "source": [
    "## Drop records by condition\n",
    "\n",
    "At this point, we still have more cleaning to do, but we have identified all the conditions that we can, and we won't have any further need for records with certain condition values, so we'll drop them."
   ]
  },
  {
   "cell_type": "code",
   "execution_count": null,
   "id": "a13b2703",
   "metadata": {},
   "outputs": [],
   "source": [
    "# DO NOT re-run this cell out of sequence\n",
    "# to use the dataframe as it was at this stage, un-comment, run, and re-comment the cell that follows after it.\n",
    "df_bookmark_2 = df.copy()"
   ]
  },
  {
   "cell_type": "code",
   "execution_count": null,
   "id": "97f4e116",
   "metadata": {},
   "outputs": [],
   "source": [
    "# df = df_bookmark_2.copy()"
   ]
  },
  {
   "cell_type": "markdown",
   "id": "a8b9bfad",
   "metadata": {},
   "source": [
    "Let's take another look at the complete list of conditions and choose which ones to keep."
   ]
  },
  {
   "cell_type": "code",
   "execution_count": null,
   "id": "6c0fa341",
   "metadata": {},
   "outputs": [],
   "source": [
    "df.condition.nunique()"
   ]
  },
  {
   "cell_type": "markdown",
   "id": "cac36eb6",
   "metadata": {},
   "source": [
    "Since there are so many conditions to consider, let's limit this to just conditions with at least 25 reviews."
   ]
  },
  {
   "cell_type": "code",
   "execution_count": null,
   "id": "9ac77b88",
   "metadata": {
    "scrolled": true
   },
   "outputs": [],
   "source": [
    "pd.set_option(\"display.max_rows\", None)\n",
    "display(df['condition'].value_counts().loc[lambda x: x >= 25])\n",
    "pd.set_option(\"display.max_rows\", 60)"
   ]
  },
  {
   "cell_type": "code",
   "execution_count": null,
   "id": "593c6998",
   "metadata": {},
   "outputs": [],
   "source": [
    "df.drop(df[~df.condition.isin(['Birth Control', 'Emergency Contraception'])].index, inplace=True)"
   ]
  },
  {
   "cell_type": "code",
   "execution_count": null,
   "id": "8d0b2d16",
   "metadata": {},
   "outputs": [],
   "source": [
    "df.condition.value_counts()"
   ]
  },
  {
   "cell_type": "markdown",
   "id": "aca2826a",
   "metadata": {},
   "source": [
    "## Pairing generic and brand names\n",
    "\n",
    "Now that we have a smaller number of records to deal with, we can sort out generic and brand names.\n",
    "\n",
    "First we'll create a list of all values from the drug name feature. (Some of these have been dropped from the drug name feature itself when we dropped one record from each brand/generic pair, but all of them were included in the drug list feature.)\n",
    "\n",
    "We'll create two lists: paired drugs (which we will attempt to sort into brand and generic) and single drugs (each of which we will then try to identify as either brand or generic)."
   ]
  },
  {
   "cell_type": "code",
   "execution_count": null,
   "id": "87d40c2d",
   "metadata": {},
   "outputs": [],
   "source": [
    "len(df)"
   ]
  },
  {
   "cell_type": "code",
   "execution_count": null,
   "id": "6bbdaf8b",
   "metadata": {},
   "outputs": [],
   "source": [
    "all_drug_lists = df.drugList.tolist()\n",
    "all_drug_lists.sort()"
   ]
  },
  {
   "cell_type": "code",
   "execution_count": null,
   "id": "111136ff",
   "metadata": {},
   "outputs": [],
   "source": [
    "len(all_drug_lists)"
   ]
  },
  {
   "cell_type": "code",
   "execution_count": null,
   "id": "875c7b8e",
   "metadata": {},
   "outputs": [],
   "source": [
    "all_drug_names = set()\n",
    "\n",
    "for list_ in all_drug_lists:\n",
    "    all_drug_names.add(list_[0])\n",
    "    if len(list_) > 1:\n",
    "        all_drug_names.add(list_[1])\n",
    "\n",
    "all_drug_names = list(all_drug_names)\n",
    "\n",
    "all_drug_names.sort()"
   ]
  },
  {
   "cell_type": "code",
   "execution_count": null,
   "id": "dada5487",
   "metadata": {},
   "outputs": [],
   "source": [
    "len(all_drug_names)"
   ]
  },
  {
   "cell_type": "code",
   "execution_count": null,
   "id": "25768635",
   "metadata": {},
   "outputs": [],
   "source": [
    "# this will create a full list with duplicates\n",
    "# we need to do this intermediate before moving to the following step to remove duplicates\n",
    "paired_drug_lists = df[df.isPaired].drugList.tolist()\n",
    "paired_drug_lists.sort()"
   ]
  },
  {
   "cell_type": "code",
   "execution_count": null,
   "id": "3104c6c7",
   "metadata": {},
   "outputs": [],
   "source": [
    "len(paired_drug_lists)"
   ]
  },
  {
   "cell_type": "code",
   "execution_count": null,
   "id": "6982d0f5",
   "metadata": {},
   "outputs": [],
   "source": [
    "paired_drug_names = set()\n",
    "\n",
    "for pair in paired_drug_lists:\n",
    "    paired_drug_names.add(pair[0])\n",
    "    paired_drug_names.add(pair[1])\n",
    "\n",
    "paired_drug_names = list(paired_drug_names)\n",
    "\n",
    "paired_drug_names.sort()"
   ]
  },
  {
   "cell_type": "code",
   "execution_count": null,
   "id": "9182c554",
   "metadata": {},
   "outputs": [],
   "source": [
    "unpaired_drug_names = [drug for drug in all_drug_names if drug not in paired_drug_names]\n",
    "\n",
    "unpaired_drug_names.sort()"
   ]
  },
  {
   "cell_type": "code",
   "execution_count": null,
   "id": "5d20beef",
   "metadata": {},
   "outputs": [],
   "source": [
    "len(paired_drug_names)"
   ]
  },
  {
   "cell_type": "code",
   "execution_count": null,
   "id": "5ba6b29d",
   "metadata": {},
   "outputs": [],
   "source": [
    "len(unpaired_drug_names)"
   ]
  },
  {
   "cell_type": "markdown",
   "id": "8d2c3e7f",
   "metadata": {},
   "source": [
    "Together, these two lists of names constitute all the drug names left to sort into brand and generic categories.\n",
    "\n",
    "In order to sort the list of paired drugs into brand and generic, we'll establish a dictionary whose keys are all the drug names that appear in a generic/brand pair."
   ]
  },
  {
   "cell_type": "code",
   "execution_count": null,
   "id": "a35f6e19",
   "metadata": {},
   "outputs": [],
   "source": [
    "drug_dict = {}\n",
    "\n",
    "for drug in paired_drug_names:\n",
    "    drug_dict[drug] = set()"
   ]
  },
  {
   "cell_type": "markdown",
   "id": "35607358",
   "metadata": {},
   "source": [
    "We'll assign values to those keys according to the pairings. For example, if drug name A is in a generic/brand pair with drug name B, then they will appear on each other's list of values in this dictionary."
   ]
  },
  {
   "cell_type": "code",
   "execution_count": null,
   "id": "0a60f5b8",
   "metadata": {},
   "outputs": [],
   "source": [
    "for pair in paired_drug_lists:\n",
    "    drug_dict[pair[0]].add(pair[1])\n",
    "    drug_dict[pair[1]].add(pair[0])"
   ]
  },
  {
   "cell_type": "markdown",
   "id": "4c2eb6a3",
   "metadata": {},
   "source": [
    "Let's find out how many of these drug names are associated with exactly one other drug name."
   ]
  },
  {
   "cell_type": "code",
   "execution_count": null,
   "id": "94773c00",
   "metadata": {},
   "outputs": [],
   "source": [
    "len({drug for drug in drug_dict if len(drug_dict[drug]) == 1})"
   ]
  },
  {
   "cell_type": "markdown",
   "id": "db33065a",
   "metadata": {},
   "source": [
    "That should mean that exactly the remainder are associated with multiple drug names. It would make sense that drug names that belong to multiple generic/brand pairs are themselves the generic name. On that assumption, we'll create a list of generic drug names."
   ]
  },
  {
   "cell_type": "code",
   "execution_count": null,
   "id": "072cd23b",
   "metadata": {},
   "outputs": [],
   "source": [
    "generics = [drug for drug in drug_dict if len(drug_dict[drug]) > 1]\n",
    "\n",
    "generics.sort()"
   ]
  },
  {
   "cell_type": "code",
   "execution_count": null,
   "id": "fec2b7c0",
   "metadata": {},
   "outputs": [],
   "source": [
    "len(generics)"
   ]
  },
  {
   "cell_type": "markdown",
   "id": "1f6a160d",
   "metadata": {},
   "source": [
    "Now we'll check to make sure that the drug names we've just designated as \"generic\" do NOT belong to a generic/brand pair with *another* \"generic\"."
   ]
  },
  {
   "cell_type": "code",
   "execution_count": null,
   "id": "bb1132f2",
   "metadata": {},
   "outputs": [],
   "source": [
    "count = 0\n",
    "\n",
    "for drug in generics:\n",
    "    for match in drug_dict[drug]:\n",
    "        if match in generics:\n",
    "            count += 1\n",
    "\n",
    "print(count)"
   ]
  },
  {
   "cell_type": "markdown",
   "id": "2508dae3",
   "metadata": {},
   "source": [
    "Great.\n",
    "\n",
    "Then we can begin designating drug names as \"brands\" if they are in a generic/brand pair with a generic."
   ]
  },
  {
   "cell_type": "code",
   "execution_count": null,
   "id": "65b6ec40",
   "metadata": {},
   "outputs": [],
   "source": [
    "brands = set()\n",
    "\n",
    "for generic in generics:\n",
    "    for match in drug_dict[generic]:\n",
    "        brands.add(match)\n",
    "\n",
    "brands = list(brands)\n",
    "\n",
    "brands.sort()"
   ]
  },
  {
   "cell_type": "code",
   "execution_count": null,
   "id": "0f5b8f5a",
   "metadata": {},
   "outputs": [],
   "source": [
    "len(brands)"
   ]
  },
  {
   "cell_type": "markdown",
   "id": "e8f0a980",
   "metadata": {},
   "source": [
    "Now let's see what drugs remain and how many records they are associated with."
   ]
  },
  {
   "cell_type": "code",
   "execution_count": null,
   "id": "850fee13",
   "metadata": {},
   "outputs": [],
   "source": [
    "uncategorized = list(set(drug for drug in paired_drug_names if drug not in generics and drug not in brands))\n",
    "\n",
    "uncategorized.sort()"
   ]
  },
  {
   "cell_type": "markdown",
   "id": "6ac41972",
   "metadata": {},
   "source": [
    "To be clear, these are drug names with the following properties:\n",
    "\n",
    "- the drug name belongs to an exclusive brand/generic pair\n",
    "- we have not yet identified which members of the pair are brand and generic"
   ]
  },
  {
   "cell_type": "code",
   "execution_count": null,
   "id": "d449f3bc",
   "metadata": {},
   "outputs": [],
   "source": [
    "len(uncategorized)"
   ]
  },
  {
   "cell_type": "markdown",
   "id": "84ed9486",
   "metadata": {},
   "source": [
    "We should be able to list all of these drug names in their pairs."
   ]
  },
  {
   "cell_type": "code",
   "execution_count": null,
   "id": "6cb018fb",
   "metadata": {},
   "outputs": [],
   "source": [
    "repeated = set()\n",
    "for drug in uncategorized:\n",
    "    if drug not in repeated:\n",
    "        print(drug, '||', list(drug_dict[drug])[0])\n",
    "        repeated.add(drug)\n",
    "        repeated.add(list(drug_dict[drug])[0])"
   ]
  },
  {
   "cell_type": "markdown",
   "id": "5cb9a1d2",
   "metadata": {},
   "source": [
    "With so few pairs, we can Google the names to determine which names of a pair are generic and brand names."
   ]
  },
  {
   "cell_type": "code",
   "execution_count": null,
   "id": "211f4cab",
   "metadata": {},
   "outputs": [],
   "source": [
    "new_brands = [\n",
    "    'ParaGard', 'Natazia', 'NuvaRing', 'Necon 1 / 50', 'ella'\n",
    "]\n",
    "\n",
    "brands.extend(new_brands)\n",
    "\n",
    "len(brands)"
   ]
  },
  {
   "cell_type": "code",
   "execution_count": null,
   "id": "13f6f653",
   "metadata": {},
   "outputs": [],
   "source": [
    "for drug in new_brands:\n",
    "    generics.append(list(drug_dict[drug])[0])\n",
    "\n",
    "len(generics)"
   ]
  },
  {
   "cell_type": "markdown",
   "id": "ed96da32",
   "metadata": {},
   "source": [
    "At this point, we have sorted all the paired brand and generic drug names. What remains is to identify whether each of the single drug names is a generic or brand name.\n",
    "\n",
    "Let's look at them."
   ]
  },
  {
   "cell_type": "code",
   "execution_count": null,
   "id": "622103df",
   "metadata": {},
   "outputs": [],
   "source": [
    "unpaired_drug_names"
   ]
  },
  {
   "cell_type": "markdown",
   "id": "7f2dee56",
   "metadata": {},
   "source": [
    "Simple Google search confirms these are both generic names, so we'll add them as such."
   ]
  },
  {
   "cell_type": "code",
   "execution_count": null,
   "id": "f992b5dd",
   "metadata": {},
   "outputs": [],
   "source": [
    "generics.extend(unpaired_drug_names)\n",
    "\n",
    "generics.sort()"
   ]
  },
  {
   "cell_type": "markdown",
   "id": "7642774b",
   "metadata": {},
   "source": [
    "Now we create a more universal drug naming system whereby every record is identified with its generic name."
   ]
  },
  {
   "cell_type": "code",
   "execution_count": null,
   "id": "a87e8a46",
   "metadata": {},
   "outputs": [],
   "source": [
    "def generic_fix(drugList):\n",
    "    if len(drugList) == 1 or drugList[0] in generics:\n",
    "        return drugList[0]\n",
    "    else:\n",
    "        return drugList[1]\n",
    "\n",
    "df['genericName'] = df.drugList.apply(lambda x: generic_fix(x))"
   ]
  },
  {
   "cell_type": "code",
   "execution_count": null,
   "id": "f991769d",
   "metadata": {},
   "outputs": [],
   "source": [
    "def full_brand_fix(drugList):\n",
    "    if len(drugList) == 1:\n",
    "        return None\n",
    "    elif drugList[0] in brands:\n",
    "        return drugList[0]\n",
    "    else:\n",
    "        return drugList[1]\n",
    "\n",
    "df['fullBrandName'] = df.drugList.apply(lambda x: full_brand_fix(x))"
   ]
  },
  {
   "cell_type": "code",
   "execution_count": null,
   "id": "9a74280e",
   "metadata": {},
   "outputs": [],
   "source": [
    "brand_dict = {}\n",
    "\n",
    "for fullName in brands:\n",
    "    name = fullName\n",
    "    tail = name.split()[-1]\n",
    "    while tail.isnumeric() or tail in ['Fe', 'Lo', 'One-Step', '/', '1.5', 'Contraceptive']:\n",
    "        name = name[:len(name)-len(tail)-1]\n",
    "        tail = name.split()[-1]\n",
    "    head = name.split()[0]\n",
    "    while head in ['Lo', '/']:\n",
    "        name = name[len(head)+1:]\n",
    "        head = name.split()[0]\n",
    "    brand_dict[fullName] = name\n",
    "\n",
    "df['shortBrandName'] = df.fullBrandName.apply(lambda x: None if x == None else brand_dict[x])"
   ]
  },
  {
   "cell_type": "markdown",
   "id": "18c8f729",
   "metadata": {},
   "source": [
    "## Duplicates due to multiple user entry\n",
    "\n",
    "Now we'll turn to more possible duplicate instances. We suspect the same user has copy-pasted an identical review multiple times when that verbatim review appears for the same condition and (generic) drug name with the same rating. Let's look at all such instances."
   ]
  },
  {
   "cell_type": "code",
   "execution_count": null,
   "id": "df10001c",
   "metadata": {},
   "outputs": [],
   "source": [
    "len(df[df.duplicated(subset=['genericName', 'condition', 'review', 'rating'])])"
   ]
  },
  {
   "cell_type": "code",
   "execution_count": null,
   "id": "c6c5ccd8",
   "metadata": {},
   "outputs": [],
   "source": [
    "df[df.duplicated(subset=['genericName', 'condition', 'review', 'rating'])] \\\n",
    "[['genericName', 'condition', 'review', 'rating', 'date']]"
   ]
  },
  {
   "cell_type": "markdown",
   "id": "2bf60c80",
   "metadata": {},
   "source": [
    "The review texts all appear to be unique. As long as the review and its duplicate appear close in time to one another (within days), then these should be collapsed into a single review with the respective useful counts added together.\n",
    "\n",
    "First we'll check on the dates. The following cell will show the respective dates of when these duplicated reviews appeared."
   ]
  },
  {
   "cell_type": "code",
   "execution_count": null,
   "id": "bd5de16b",
   "metadata": {},
   "outputs": [],
   "source": [
    "for ind in df[df.duplicated(subset=['genericName', 'condition', 'review', 'rating'])].index:\n",
    "    two_indices = list(df[df.review == df.loc[ind].review].index)\n",
    "    print(df.loc[two_indices[0]].date, '... and ...', df.loc[two_indices[1]].date)"
   ]
  },
  {
   "cell_type": "markdown",
   "id": "50b5bb35",
   "metadata": {},
   "source": [
    "They're all identical dates except one that is a day apart.\n",
    "\n",
    "We'll collapse these into single records and add the useful counts."
   ]
  },
  {
   "cell_type": "code",
   "execution_count": null,
   "id": "a2181bc6",
   "metadata": {
    "scrolled": false
   },
   "outputs": [],
   "source": [
    "for ind in df[df.duplicated(subset=['genericName', 'condition', 'review', 'rating'])].index:\n",
    "    two_indices = list(df[df.review == df.loc[ind].review].index)\n",
    "    x, y = two_indices[0], two_indices[1]\n",
    "    count = int(df.loc[x].usefulCount + df.loc[y].usefulCount)\n",
    "    df.at[x, 'usefulCount'] = count\n",
    "    df.drop([y], inplace=True)"
   ]
  },
  {
   "cell_type": "code",
   "execution_count": null,
   "id": "c82fc347",
   "metadata": {},
   "outputs": [],
   "source": [
    "# DO NOT re-run this cell out of sequence\n",
    "# to use the dataframe as it was at this stage, un-comment, run, and re-comment the cell that follows after it.\n",
    "df_bookmark_3 = df.copy()"
   ]
  },
  {
   "cell_type": "code",
   "execution_count": null,
   "id": "4d38cfc4",
   "metadata": {},
   "outputs": [],
   "source": [
    "# df = df_bookmark_3.copy()"
   ]
  },
  {
   "cell_type": "markdown",
   "id": "61e0500d",
   "metadata": {},
   "source": [
    "## Identifying birth control method"
   ]
  },
  {
   "cell_type": "markdown",
   "id": "46a15a27",
   "metadata": {},
   "source": [
    "Consider redoing this, where you pass through everything one time and assign everything to its method (other than pill) and assign everything that remains to pill by default.\n",
    "\n",
    "The problem with this would be the nonoxynol and the levonorgestrel. The former is a spermicide, which we're dropping because there are only two records. The latter we determined applied to emergency (not pill!) ... BUT what if there are brands associated with \"the pill\" that are also levonorgestrel? This might be worth investigating either way."
   ]
  },
  {
   "cell_type": "code",
   "execution_count": null,
   "id": "92d62dee",
   "metadata": {},
   "outputs": [],
   "source": [
    "birth_control_dict = {\n",
    "    'IUD': ['Skyla', 'Mirena', 'Kyleena', 'Liletta', 'ParaGard'],\n",
    "    'patch': ['Ortho Evra', 'Xulane'],\n",
    "    'implantable': ['Implanon', 'Nexplanon'],\n",
    "    'vaginal': ['NuvaRing'],\n",
    "    'injectable': ['Depo-Provera', 'depo-subQ provera', 'Provera'],\n",
    "    'emergency': ['Plan B', 'ella', 'Fallback Solo', 'Aftera', 'Take Action', 'Next Choice',\n",
    "                       'My Way', 'EContra EZ'],\n",
    "    'pill': ['Yasmin', 'Ortho Tri-Cyclen', 'Alesse', 'Aviane', 'Sprintec', 'Tri-Sprintec', 'Mircette',\n",
    "             'Seasonique', 'Yaz', 'Lutera', 'Portia', 'Camila', 'Apri', 'Beyaz', 'Desogen', 'Kariva',\n",
    "             'TriNessa', 'Zarah', 'Estarylla', 'Mononessa', 'Gianvi', 'Jolivette', 'Loestrin', 'Microgestin',\n",
    "             'Ortho-Cyclen', 'Ortho-Novum', 'Necon', 'Femcon', 'Marlissa', 'Aubra', 'Viorele', 'Vestura',\n",
    "             'Norlyda', 'Ortho Cyclen', 'Lybrel', 'Pirmella', 'Larin', 'Tarina', 'Previfem', 'Tri-Estarylla',\n",
    "             'Lessina', 'Elinest', 'Cryselle', 'Ortho-Cept', 'Falmina', 'Altavera', 'Tri-Lo-Marzia', 'Taytulla',\n",
    "             'CamreseLo', 'Philith', 'Dasetta', 'Gildess', 'Ovral', 'Jencycla', 'Tri-Linyah', 'Enskyce',\n",
    "             'Orsythia', 'Sronyx', 'Velivet', 'Reclipsen', 'Nikki', 'Levlen', 'Loryna', 'Juleber', 'Trivora',\n",
    "             'Zenchent', 'Tri-Previfem', 'Lyza', 'Seasonale', 'Mono-Linyah', 'Alyacen', 'Opcicon']\n",
    "}"
   ]
  },
  {
   "cell_type": "code",
   "execution_count": null,
   "id": "42e700e3",
   "metadata": {},
   "outputs": [],
   "source": [
    "def method_fix_1(shortBrandName):\n",
    "    for method in birth_control_dict:\n",
    "        if shortBrandName in birth_control_dict[method]:\n",
    "            return method\n",
    "    else:\n",
    "        return None\n",
    "\n",
    "df['method'] = df.shortBrandName.apply(lambda x: None if x == None else method_fix_1(x))"
   ]
  },
  {
   "cell_type": "code",
   "execution_count": null,
   "id": "f608ab31",
   "metadata": {},
   "outputs": [],
   "source": [
    "generic_dict = {\n",
    "    'patch': ['Ethinyl estradiol / norelgestromin'],\n",
    "    'IUD': ['Copper'],\n",
    "    'implantable': ['Etonogestrel'],\n",
    "    'emergency': ['Ulipristal'],\n",
    "    'vaginal': ['Ethinyl estradiol / etonogestrel'],\n",
    "    'pill': ['Ethinyl estradiol / levonorgestrel',\n",
    "             'Drospirenone / ethinyl estradiol / levomefolate calcium',  'Mestranol / norethindrone',\n",
    "             'Ethinyl estradiol / norgestimate', 'Ethinyl estradiol / norethindrone',\n",
    "             'Norethindrone', 'Drospirenone / ethinyl estradiol', 'Desogestrel / ethinyl estradiol',\n",
    "             'Ethinyl estradiol / norgestrel', 'Ethinyl estradiol / folic acid / levonorgestrel',\n",
    "             'Ethinyl estradiol / ethynodiol', 'Dienogest / estradiol'],\n",
    "    'injectable': ['Medroxyprogesterone']\n",
    "}"
   ]
  },
  {
   "cell_type": "code",
   "execution_count": null,
   "id": "05d5fecf",
   "metadata": {},
   "outputs": [],
   "source": [
    "def method_fix_2(generic):\n",
    "    for method in generic_dict:\n",
    "        if generic in generic_dict[method]:\n",
    "            return method\n",
    "    else:\n",
    "        return None\n",
    "\n",
    "df['method'] = df.apply(lambda x: method_fix_2(x.genericName) if x.method == None else x.method, axis=1)"
   ]
  },
  {
   "cell_type": "code",
   "execution_count": null,
   "id": "4700b2bc",
   "metadata": {},
   "outputs": [],
   "source": [
    "df[\n",
    "    (df.method.isna())\n",
    "].genericName.value_counts()"
   ]
  },
  {
   "cell_type": "code",
   "execution_count": null,
   "id": "77994173",
   "metadata": {},
   "outputs": [],
   "source": [
    "for ind in df[df.genericName == 'Nonoxynol 9'].index:\n",
    "    show_review(ind)"
   ]
  },
  {
   "cell_type": "markdown",
   "id": "55bab266",
   "metadata": {},
   "source": [
    "We could create a spermicide label, but there would only be two records for it, so we'll just drop them."
   ]
  },
  {
   "cell_type": "code",
   "execution_count": null,
   "id": "9399e5b3",
   "metadata": {},
   "outputs": [],
   "source": [
    "df.drop([172606, 209857], inplace=True)"
   ]
  },
  {
   "cell_type": "code",
   "execution_count": null,
   "id": "d81b0098",
   "metadata": {},
   "outputs": [],
   "source": [
    "for ind in df[\n",
    "    (df.genericName == 'Levonorgestrel') &\n",
    "    (df.method.isna())\n",
    "].index[:10]:\n",
    "    show_review(ind)"
   ]
  },
  {
   "cell_type": "markdown",
   "id": "56aa9a10",
   "metadata": {},
   "source": [
    "All of these examples describe emergency contraception."
   ]
  },
  {
   "cell_type": "code",
   "execution_count": null,
   "id": "0b19903e",
   "metadata": {},
   "outputs": [],
   "source": [
    "generic_dict['emergency'].append('Levonorgestrel')\n",
    "df['method'] = df.apply(lambda x: method_fix_2(x.genericName) if x.method == None else x.method, axis=1)"
   ]
  },
  {
   "cell_type": "code",
   "execution_count": null,
   "id": "59ac5762",
   "metadata": {},
   "outputs": [],
   "source": [
    "df[\n",
    "    (df.method.isna())\n",
    "].genericName.value_counts()"
   ]
  },
  {
   "cell_type": "code",
   "execution_count": null,
   "id": "201e1e87",
   "metadata": {},
   "outputs": [],
   "source": [
    "# DO NOT re-run this cell out of sequence\n",
    "# to use the dataframe as it was at this stage, un-comment, run, and re-comment the cell that follows after it.\n",
    "df_bookmark_4 = df.copy()"
   ]
  },
  {
   "cell_type": "code",
   "execution_count": null,
   "id": "9d825778",
   "metadata": {},
   "outputs": [],
   "source": [
    "# df = df_bookmark_4.copy()"
   ]
  },
  {
   "cell_type": "markdown",
   "id": "c0015b19",
   "metadata": {},
   "source": [
    "# Exploration"
   ]
  },
  {
   "cell_type": "markdown",
   "id": "abc46f96",
   "metadata": {},
   "source": [
    "## Rating over time"
   ]
  },
  {
   "cell_type": "code",
   "execution_count": null,
   "id": "9810d6b3",
   "metadata": {},
   "outputs": [],
   "source": [
    "# Calculate average rating for each method\n",
    "average_ratings = df.groupby('method')['rating'].mean().reset_index()\n",
    "\n",
    "# Create a bar chart using Seaborn\n",
    "plt.figure(figsize=(14, 6))\n",
    "\n",
    "# Set the font scale to increase text size\n",
    "sns.set(font_scale=1.5)\n",
    "sns.barplot(\n",
    "    x='method',\n",
    "    y='rating',\n",
    "    data=average_ratings,\n",
    "    order=average_ratings.sort_values('rating', ascending=False)['method'],\n",
    "    palette='deep'\n",
    ")\n",
    "plt.xlabel('Method')\n",
    "plt.ylabel('Average Rating')\n",
    "plt.title('Average Rating for Each Birth Control Method')\n",
    "plt.show()\n"
   ]
  },
  {
   "cell_type": "code",
   "execution_count": null,
   "id": "22a980f0",
   "metadata": {},
   "outputs": [],
   "source": [
    "# Extract year from datetime\n",
    "df['year'] = df['datetime'].dt.year\n",
    "\n",
    "# Group by 'year' and 'method', calculate the average rating for each group\n",
    "average_ratings = df.groupby(['year', 'method'])['rating'].mean().reset_index()\n",
    "\n",
    "# Pivot the DataFrame to have 'method' as columns and 'year' as index\n",
    "pivot_table = average_ratings.pivot_table(index='year', columns='method', values='rating')\n",
    "\n",
    "# Plot the data\n",
    "pivot_table.plot(kind='line', marker='o', figsize=(14, 6))\n",
    "plt.title('Average Rating of Each Method by Year')\n",
    "plt.xlabel('Year')\n",
    "plt.ylabel('Average Rating')\n",
    "plt.legend(title='Method', bbox_to_anchor=(1.05, 1), loc='upper left')\n",
    "plt.grid(True)\n",
    "plt.show()"
   ]
  },
  {
   "cell_type": "markdown",
   "id": "a43ad16d",
   "metadata": {},
   "source": [
    "Observations:\n",
    "- Ratings generally declined after the number of ratings increased significantly in 2015.\n",
    "- Emergency contraception has largely been more popular than other methods.\n",
    "- IUDs, patches, and vaginal contraceptives tend to be more popular than pills and implantables.\n",
    "- Injectable methods are consistently the least popular."
   ]
  },
  {
   "cell_type": "markdown",
   "id": "e0a27dce",
   "metadata": {},
   "source": [
    "## Rating and upvotes"
   ]
  },
  {
   "cell_type": "code",
   "execution_count": null,
   "id": "870ab7e5",
   "metadata": {},
   "outputs": [],
   "source": [
    "# Count the occurrences of each rating\n",
    "rating_counts = df['rating'].value_counts()\n",
    "\n",
    "# Sort the index for better visualization\n",
    "rating_counts = rating_counts.sort_index()\n",
    "\n",
    "# Plotting the bar graph\n",
    "plt.figure(figsize=(14, 6))\n",
    "plt.bar(rating_counts.index, rating_counts.values, color='skyblue')\n",
    "plt.xlabel('Rating')\n",
    "plt.ylabel('Count')\n",
    "plt.title('Distribution of Ratings')\n",
    "plt.show()"
   ]
  },
  {
   "cell_type": "markdown",
   "id": "45e58dfb",
   "metadata": {},
   "source": [
    "Observations:\n",
    "- There tend to be more positive ratings.\n",
    "- Negative ratings are concentrated on the worst rating (1.0).\n",
    "- There is a slight peak at 5.0. This indicates an attempt at neutrality.\n",
    "\n",
    "In light of this distribution, we could recommend a 3-, 4-, or 5-point rating system that might be a better fit."
   ]
  },
  {
   "cell_type": "code",
   "execution_count": null,
   "id": "dc901b82",
   "metadata": {},
   "outputs": [],
   "source": [
    "rating_counts = [\n",
    "    len(df[df.rating < 5]),\n",
    "    len(df[df.rating == 5]),\n",
    "    len(df[df.rating > 5])\n",
    "]\n",
    "\n",
    "# Plotting the bar graph\n",
    "plt.figure(figsize=(6, 6))\n",
    "plt.bar([0, 1, 2], rating_counts, color='skyblue')\n",
    "plt.xticks([0, 1, 2], ['Negative', '5.0', 'Positive'])  # Setting custom tick labels\n",
    "plt.xlabel(None)\n",
    "plt.ylabel('Count')\n",
    "plt.title('Distribution of Sentiment for All Birth Control Methods')\n",
    "plt.show()"
   ]
  },
  {
   "cell_type": "code",
   "execution_count": null,
   "id": "412bb67d",
   "metadata": {},
   "outputs": [],
   "source": [
    "methods = ['emergency', 'IUD', 'patch', 'vaginal', 'pill', 'implantable', 'injectable']\n",
    "\n",
    "positive_counts, negative_counts = [], []\n",
    "\n",
    "for method_ in methods:\n",
    "    positive_counts.append(len(df[(df.method == method_) & (df.rating > 5)]))\n",
    "    negative_counts.append(len(df[(df.method == method_) & (df.rating < 5)]))\n",
    "\n",
    "total_counts = [pos + neg for pos, neg in zip(positive_counts, negative_counts)]\n",
    "\n",
    "# Calculate percentages for positive and negative counts\n",
    "positive_percentages = [pos / total * 100 for pos, total in zip(positive_counts, total_counts)]\n",
    "negative_percentages = [neg / total * 100 for neg, total in zip(negative_counts, total_counts)]\n",
    "\n",
    "# Plotting the grouped bar graph\n",
    "bar_width = 0.35\n",
    "index = range(len(methods))\n",
    "\n",
    "plt.figure(figsize=(10, 6))\n",
    "\n",
    "plt.bar(index, positive_percentages, bar_width, label='Positive', color='skyblue')\n",
    "plt.bar([i + bar_width for i in index], negative_percentages, bar_width, label='Negative', color='salmon')\n",
    "\n",
    "plt.xlabel('Birth Control Methods')\n",
    "plt.ylabel('Percentage')\n",
    "plt.title('Positive and Negative Sentiment Percentages for Each Birth Control Method')\n",
    "plt.xticks([i + bar_width / 2 for i in index], methods)\n",
    "plt.legend()\n",
    "plt.tight_layout()\n",
    "plt.show()"
   ]
  },
  {
   "cell_type": "code",
   "execution_count": null,
   "id": "3ddb5d1f",
   "metadata": {},
   "outputs": [],
   "source": [
    "methods = ['emergency', 'IUD', 'patch', 'vaginal', 'pill', 'implantable', 'injectable', '**no method']\n",
    "use_percentages = [0.1, 7.2, 0.1, 1.5, 15.6, 1.6, 2.4, 7.2]\n",
    "\n",
    "colors = ['skyblue'] * (len(methods) - 1) + ['red']  # Set colors for each bar\n",
    "\n",
    "plt.figure(figsize=(10, 6))\n",
    "\n",
    "plt.bar(methods, use_percentages, color=colors)\n",
    "\n",
    "plt.xlabel('Birth Control Methods\\n\\n**at risk for unintended pregnancy')\n",
    "plt.ylabel('Use Percentage')\n",
    "plt.title('Use Percentages of Different Birth Control Methods')\n",
    "plt.xticks(rotation=45)  # Rotate x-axis labels for better readability\n",
    "plt.tight_layout()\n",
    "plt.show()\n"
   ]
  },
  {
   "cell_type": "code",
   "execution_count": null,
   "id": "dd463685",
   "metadata": {},
   "outputs": [],
   "source": [
    "# Calculate average usefulCount for each rating\n",
    "average_useful_count = df.groupby('rating')['usefulCount'].mean().reset_index()\n",
    "\n",
    "# Create a bar chart using Seaborn\n",
    "plt.figure(figsize=(14, 6))\n",
    "sns.barplot(x='rating', y='usefulCount', data=average_useful_count, palette='viridis')\n",
    "plt.xlabel('Rating')\n",
    "plt.ylabel('Average Upvotes')\n",
    "plt.title('Average Upvotes for Each Rating')\n",
    "plt.show()"
   ]
  },
  {
   "cell_type": "markdown",
   "id": "27118d73",
   "metadata": {},
   "source": [
    "Observations:\n",
    "- There is no real gain in usefulness other than for ratings 8 and above, which we saw earlier are also more prevalent than all other ratings except for 1.0, the lowest.\n",
    "\n",
    "Let's look at only the top 20% most useful reviews."
   ]
  },
  {
   "cell_type": "code",
   "execution_count": null,
   "id": "5ce1bddb",
   "metadata": {
    "scrolled": false
   },
   "outputs": [],
   "source": [
    "# Calculate average usefulCount for each rating\n",
    "average_useful_count = df[df.usefulCount > df.usefulCount.quantile(.80)].groupby('rating')['usefulCount'].mean().reset_index()\n",
    "\n",
    "# Create a bar chart using Seaborn\n",
    "plt.figure(figsize=(14, 6))\n",
    "sns.barplot(x='rating', y='usefulCount', data=average_useful_count, palette='viridis')\n",
    "plt.xlabel('Rating')\n",
    "plt.ylabel('Average Upvotes')\n",
    "plt.title('Average Upvotes for Each Rating — Top 20% of Upvotes')\n",
    "plt.show()"
   ]
  },
  {
   "cell_type": "markdown",
   "id": "c808878a",
   "metadata": {},
   "source": [
    "There's a relative spike among ratings of 3.0. Let's look at some highly upvoted reviews with a rating of 3.0."
   ]
  },
  {
   "cell_type": "code",
   "execution_count": null,
   "id": "7c72750f",
   "metadata": {},
   "outputs": [],
   "source": [
    "for ind in df[df.rating == 3].sort_values(by='usefulCount', ascending=False).index[:10]:\n",
    "    show_review(ind)"
   ]
  },
  {
   "cell_type": "markdown",
   "id": "b001ed63",
   "metadata": {},
   "source": [
    "Nothing jumps out about these reviews except that they are certainly negative and could all probably have been 1.0 ratings."
   ]
  },
  {
   "cell_type": "markdown",
   "id": "c4c7b820",
   "metadata": {},
   "source": [
    "## Term frequency analysis"
   ]
  },
  {
   "cell_type": "markdown",
   "id": "71383e41",
   "metadata": {},
   "source": [
    "Explain motivation for cells below."
   ]
  },
  {
   "cell_type": "markdown",
   "id": "f99d3a24",
   "metadata": {},
   "source": [
    "### Stop words\n",
    "\n",
    "We need stop lists for different purposes.\n",
    "\n",
    "For certain ngram analysis, we might like to consider keeping stop words like \"no\" and \"not\". This could be a \"light\" stop list.\n",
    "\n",
    "In other cases, we really want to trim it down, and stop as many words as possible. This could be a \"heavy\" stop list.\n",
    "\n",
    "Really need to clean up all stop list stuff."
   ]
  },
  {
   "cell_type": "code",
   "execution_count": 10,
   "id": "64cabf00",
   "metadata": {},
   "outputs": [],
   "source": [
    "punctuation_list = [char for char in string.punctuation]\n",
    "punctuation_list.extend(['', '``', \"''\", '...'])\n",
    "\n",
    "# obtain the standard list of stopwords\n",
    "nltk.download('stopwords', quiet=True)\n",
    "# start our own list of stopwords with these words\n",
    "stop_list_heavy = stopwords.words('english')\n",
    "# stop words to keep\n",
    "# 44-59 be/have/do verbs\n",
    "# 64-178 prepositions/subordinate conjunctions/modals\n",
    "stop_list_light = stop_list_heavy.copy()\n",
    "stop_list_light = stop_list_light[:44] + stop_list_light[60:64]\n",
    "# add punctuation characters\n",
    "for char in string.punctuation:\n",
    "    stop_list_light.append(char)\n",
    "    stop_list_heavy.append(char)\n",
    "# add misc other tokens\n",
    "stop_list_light.extend(['', 'll', 're', 've', 'ha', 'wa', '``', \"''\"])\n",
    "stop_list_heavy.extend(['', 'll', 're', 've', 'ha', 'wa', '``', \"''\"])"
   ]
  },
  {
   "cell_type": "markdown",
   "id": "541705c0",
   "metadata": {},
   "source": [
    "### Create more usable versions of review feature\n",
    "\n",
    "- `review_lower` will only make everything lower-case but not otherwise remove stop words, punctuation, or alter (lemmatize) anything.\n",
    "- `review_simple` will be lemmatized and \"lightly\" stopped, keeping some be/have/do verbs as well as other modals, prepositions and negatives\n",
    "\n",
    "The \"heavy\" stop list (and other stop lists) can be used to further trim down `review_simple` if desired.\n",
    "\n",
    "NEED TO REVIEW THE REST OF THIS DOC TO EDIT INSTANCES OF STOP LISTS AND REVIEW_LOWER, ETC."
   ]
  },
  {
   "cell_type": "code",
   "execution_count": null,
   "id": "ba13fb82",
   "metadata": {},
   "outputs": [],
   "source": [
    "df['review_lower'] = df.review.apply(lambda x: x.lower())"
   ]
  },
  {
   "cell_type": "code",
   "execution_count": null,
   "id": "6797b443",
   "metadata": {},
   "outputs": [],
   "source": [
    "df.review_lower.head()"
   ]
  },
  {
   "cell_type": "markdown",
   "id": "b2cd7d64",
   "metadata": {},
   "source": [
    "## some functions"
   ]
  },
  {
   "cell_type": "code",
   "execution_count": null,
   "id": "e1728227",
   "metadata": {},
   "outputs": [],
   "source": [
    "# a function that takes a list of documents and 1) tokenizes them, 2) lemmatizes them, and 3) removes stopwords\n",
    "# for example, to execute this function use make_tokens(df.review.tolist())\n",
    "# IN: a list of documents // OUT: a list of tokens\n",
    "\n",
    "lemmatizer = WordNetLemmatizer()\n",
    "\n",
    "def make_tokens(docs_list, stop_list=stop_list_light):\n",
    "    # join documents into a single string\n",
    "    docs_joined = ' '.join(docs_list)\n",
    "    # tokenize the single string into a list of tokens\n",
    "    tokens = nltk.word_tokenize(docs_joined)\n",
    "    # lemmatize the list of tokens\n",
    "    tokens_lemmatized = [lemmatizer.lemmatize(word) for word in tokens]\n",
    "    # stop the list of tokens\n",
    "    tokens_stopped = [word for word in tokens_lemmatized if word not in stop_list]\n",
    "    return tokens_stopped"
   ]
  },
  {
   "cell_type": "markdown",
   "id": "222c7cba",
   "metadata": {},
   "source": [
    "### this section is dedicated to performing TFIDF in pairs (pos/neg) and displaying corresponding word clouds"
   ]
  },
  {
   "cell_type": "code",
   "execution_count": null,
   "id": "910493a8",
   "metadata": {},
   "outputs": [],
   "source": [
    "extra_stops= ['pill', 'month', 'control', 'birth', 'day', 'first', 'week', 'year', 'get', \\\n",
    "              'time', 'side', 'would', 'effect', 'like', 'never', '3', 'got', 'started', 'also', 'one', '2', \\\n",
    "              'feel', 'since', 'really', 'take', 'back', 'every', 'two', 'went', 'little', 'experience', \\\n",
    "              'even', 'put', 'recommend', 'taking', 'last', 'much', 'thing', 'almost', 'ever', 'going', 'far', \\\n",
    "              'getting', 'still', 'could', 'go', 'made', '4', 'took', 'lot', '5', 'felt', 'around', 'tried', \\\n",
    "              'three', 'using', 'say', 'second', 'mirena', 'skyla', 'iud', 'nuvaring', 'nuva', 'ring', 'use', \\\n",
    "              'thought', 'experienced', 'make', 'used', 'doe', 'implanon', 'nexplanon', 'alway', 'see', 'know', \\\n",
    "              'something', 'shot', 'always', 'depo', 'provera', 'away', 'injection', 'patch', 'xulane', 'third', \\\n",
    "              'ortho', 'evra', 'think', 'yaz', 'noticed', 'taken', 'implant', 'paragard', 'plan', 'b', 'period']"
   ]
  },
  {
   "cell_type": "code",
   "execution_count": null,
   "id": "481084dd",
   "metadata": {},
   "outputs": [],
   "source": [
    "%%time\n",
    "\n",
    "method_tokens = {}\n",
    "\n",
    "for method_ in df.method.unique():\n",
    "    stop_list_ = stop_list_heavy.copy()\n",
    "    stop_list_.extend(extra_stops)\n",
    "    tokens = make_tokens(df[df.method == method_].review_lower.tolist(), stop_list_)\n",
    "    method_tokens[method_] = {}\n",
    "    method_tokens[method_]['positive'] = make_tokens(df[(df.method == method_) \\\n",
    "                                                        & (df.rating > 5)].review_lower.to_list(), stop_list_)\n",
    "    method_tokens[method_]['negative'] = make_tokens(df[(df.method == method_) \\\n",
    "                                                        & (df.rating < 5)].review_lower.to_list(), stop_list_)"
   ]
  },
  {
   "cell_type": "code",
   "execution_count": null,
   "id": "7a025f37",
   "metadata": {},
   "outputs": [],
   "source": [
    "def method_word_clouds(method_):\n",
    "\n",
    "    positive_text = (' ').join(method_tokens[method_]['positive'])\n",
    "    negative_text = (' ').join(method_tokens[method_]['negative'])\n",
    "\n",
    "    documents = [positive_text, negative_text]\n",
    "\n",
    "    vectorizer = TfidfVectorizer()\n",
    "    tfidf_matrix = vectorizer.fit_transform(documents)\n",
    "\n",
    "    positive_tfidf_scores = tfidf_matrix[0]  # TF-IDF scores for positive document\n",
    "    negative_tfidf_scores = tfidf_matrix[1]  # TF-IDF scores for negative document\n",
    "\n",
    "    feature_names = vectorizer.get_feature_names_out()\n",
    "\n",
    "    # Create dictionaries with words and their corresponding TF-IDF scores for each document\n",
    "    positive_word_scores = dict(zip(feature_names, positive_tfidf_scores.toarray()[0]))\n",
    "    negative_word_scores = dict(zip(feature_names, negative_tfidf_scores.toarray()[0]))\n",
    "\n",
    "    # Generate word clouds for positive and negative documents\n",
    "    positive_wordcloud = WordCloud(\n",
    "        width=600,\n",
    "        height=400,\n",
    "        colormap='Greens',\n",
    "        collocations=True\n",
    "    ).generate_from_frequencies(positive_word_scores)\n",
    "    negative_wordcloud = WordCloud(\n",
    "        width=600,\n",
    "        height=400,\n",
    "        colormap='Reds',\n",
    "        collocations=True\n",
    "    ).generate_from_frequencies(negative_word_scores)\n",
    "\n",
    "    # show positive and negative wordclouds for apple side by side\n",
    "    fig, ax = plt.subplots(figsize=(32,16), ncols=2)\n",
    "#     fig.subplots_adjust(top=0.85, bottom=0.15, hspace=0.3)\n",
    "    ax[0].imshow(positive_wordcloud)\n",
    "    ax[0].set_title('Positive Reviews', fontsize=65)\n",
    "    ax[0].axis('off')\n",
    "    ax[1].imshow(negative_wordcloud)\n",
    "    ax[1].set_title('Negative Reviews', fontsize=65)\n",
    "    ax[1].axis('off')\n",
    "    plt.tight_layout()\n",
    "    plt.show()"
   ]
  },
  {
   "cell_type": "code",
   "execution_count": null,
   "id": "a222043d",
   "metadata": {
    "scrolled": false
   },
   "outputs": [],
   "source": [
    "method_word_clouds('emergency')"
   ]
  },
  {
   "cell_type": "code",
   "execution_count": null,
   "id": "2ce7f3a6",
   "metadata": {
    "scrolled": false
   },
   "outputs": [],
   "source": [
    "method_word_clouds('IUD')"
   ]
  },
  {
   "cell_type": "code",
   "execution_count": null,
   "id": "2a46c2c6",
   "metadata": {
    "scrolled": false
   },
   "outputs": [],
   "source": [
    "method_word_clouds('patch')"
   ]
  },
  {
   "cell_type": "code",
   "execution_count": null,
   "id": "a7752d14",
   "metadata": {
    "scrolled": false
   },
   "outputs": [],
   "source": [
    "method_word_clouds('vaginal')"
   ]
  },
  {
   "cell_type": "code",
   "execution_count": null,
   "id": "d932cb48",
   "metadata": {
    "scrolled": true
   },
   "outputs": [],
   "source": [
    "method_word_clouds('pill')"
   ]
  },
  {
   "cell_type": "code",
   "execution_count": null,
   "id": "7167195f",
   "metadata": {
    "scrolled": false
   },
   "outputs": [],
   "source": [
    "method_word_clouds('implantable')"
   ]
  },
  {
   "cell_type": "code",
   "execution_count": null,
   "id": "d7033237",
   "metadata": {
    "scrolled": false
   },
   "outputs": [],
   "source": [
    "method_word_clouds('injectable')"
   ]
  },
  {
   "cell_type": "code",
   "execution_count": null,
   "id": "de0fdddb",
   "metadata": {},
   "outputs": [],
   "source": [
    "for ind in df[(df.review_lower.str.contains('breast')) & \\\n",
    "   (df.method == 'patch')\n",
    "  ].sort_values(by='rating', ascending=False).sort_values(by='usefulCount', ascending=False).index[:10]:\n",
    "    show_review(ind)"
   ]
  },
  {
   "cell_type": "markdown",
   "id": "2e35d45f",
   "metadata": {},
   "source": [
    "————————————————————————————————————————————————————————————"
   ]
  },
  {
   "cell_type": "markdown",
   "id": "765b761d",
   "metadata": {},
   "source": [
    "### this section is work that may be retrieved and built upon to show individual word clouds\n",
    "\n",
    "If anything, the most important words stuff should factor in the extra_stops and be incorporated in the function that produces the pairs of word clouds."
   ]
  },
  {
   "cell_type": "code",
   "execution_count": null,
   "id": "c7bf8448",
   "metadata": {},
   "outputs": [],
   "source": [
    "%%time\n",
    "\n",
    "reviews, corpus, tokens, tokens_joined = {}, {}, {}, {}\n",
    "\n",
    "for method_ in df.method.unique():\n",
    "    pos_join = ' '.join(method_tokens[method_]['positive'])\n",
    "    neg_join = ' '.join(method_tokens[method_]['negative'])\n",
    "    corpus[method_] = pos_join + ' ' + neg_join # the above as a single string with spaces\n",
    "    tokens[method_] = nltk.word_tokenize(corpus[method_]) # the above as a list of words\n",
    "    tokens_joined[method_] = ' '.join(tokens[method_]) # the above as a single string with spaces\n",
    "\n",
    "tokens_joined_list = [tokens_joined[method_] for method_ in df.method.unique()]"
   ]
  },
  {
   "cell_type": "code",
   "execution_count": null,
   "id": "02729586",
   "metadata": {},
   "outputs": [],
   "source": [
    "reviews, corpus, tokens, tokens_joined = {}, {}, {}, {}\n",
    "\n",
    "for method_ in df.method.unique():\n",
    "    reviews[method_] = df[df.method == method_].review_lower.tolist() # a list of all reviews of one method\n",
    "    corpus[method_] = ' '.join(reviews[method_]) # the above as a single string with spaces\n",
    "    tokens[method_] = nltk.word_tokenize(corpus[method_]) # the above as a list of words\n",
    "    tokens_joined[method_] = ' '.join(tokens[method_]) # the above as a single string with spaces\n",
    "\n",
    "tokens_joined_list = [tokens_joined[method_] for method_ in df.method.unique()]"
   ]
  },
  {
   "cell_type": "code",
   "execution_count": null,
   "id": "dcca0229",
   "metadata": {
    "scrolled": false
   },
   "outputs": [],
   "source": [
    "tfidf_vectorizer = TfidfVectorizer(ngram_range=(1,2), stop_words=stop_list_heavy)\n",
    "tfidf_matrix = tfidf_vectorizer.fit_transform(tokens_joined_list)\n",
    "\n",
    "for i, doc in enumerate(tokens_joined_list):\n",
    "    print(f\"Important words in Document {i+1}:\")\n",
    "    feature_names = tfidf_vectorizer.get_feature_names_out()\n",
    "    feature_index = tfidf_matrix[i, :].nonzero()[1]\n",
    "    tfidf_scores = zip(feature_index, [tfidf_matrix[i, x] for x in feature_index])\n",
    "    top_words = sorted(tfidf_scores, key=lambda x: x[1], reverse=True)[:10]  # Adjust 5 to desired number of top words\n",
    "    for word_index, score in top_words:\n",
    "        print(f\"{feature_names[word_index]} (TF-IDF Score: {score:.2f})\")\n",
    "    print()\n"
   ]
  },
  {
   "cell_type": "markdown",
   "id": "1a1eaa32",
   "metadata": {},
   "source": [
    "————————————————————————————————————————————————————————————"
   ]
  },
  {
   "cell_type": "markdown",
   "id": "15113c80",
   "metadata": {},
   "source": [
    "## What remains between here and the engineered features is of questionable use"
   ]
  },
  {
   "cell_type": "code",
   "execution_count": null,
   "id": "31bbbc14",
   "metadata": {},
   "outputs": [],
   "source": [
    "uv = list(df.usefulCount.values)\n",
    "uv.sort(reverse=True)\n",
    "\n",
    "for threshold in list(range(10, 100, 10)):\n",
    "    n = 0\n",
    "    while sum(uv[:n]) < threshold / 100 * df.usefulCount.sum():\n",
    "        n += 1\n",
    "    print(str(int(n * 100 / len(df)))+'%','of the reviews received', str(threshold)+'%', 'of all the upvotes.')\n",
    "    print('This includes reviews with', uv[n], 'or more upvotes\\n')\n",
    "\n",
    "print('The remaining', str(100 - int(n * 100 / len(df)))+'%','of the reviews received', uv[n], 'or fewer upvotes \\\n",
    "and made up the remaining 10% of all the upvotes.')"
   ]
  },
  {
   "cell_type": "code",
   "execution_count": null,
   "id": "2bd36fbe",
   "metadata": {},
   "outputs": [],
   "source": [
    "X = range(0,len(df),100)\n",
    "Y = []\n",
    "for x in X:\n",
    "    Y.append(sum(uv[:x]))\n",
    "fig, ax = plt.subplots()\n",
    "ax.plot(X,Y);"
   ]
  },
  {
   "cell_type": "markdown",
   "id": "edacaf38",
   "metadata": {},
   "source": [
    "This shows the cumulative sum of upvotes. For example, if we go 5% of the reviews in from the left on the x-axis, we would reach up to 33% of the total upvotes on the y-axis."
   ]
  },
  {
   "cell_type": "markdown",
   "id": "383c6f3f",
   "metadata": {},
   "source": [
    "# feature engineering ideas to assist in modeling"
   ]
  },
  {
   "cell_type": "code",
   "execution_count": null,
   "id": "be1fb97d",
   "metadata": {},
   "outputs": [],
   "source": [
    "engineered_features = []"
   ]
  },
  {
   "cell_type": "code",
   "execution_count": null,
   "id": "00aacb53",
   "metadata": {},
   "outputs": [],
   "source": [
    "def rating_plot(col, feature_name):\n",
    "\n",
    "    # Grouping by 'rating' and calculating the mean of 'but_count' for each rating\n",
    "    count_by_rating = df.groupby('rating')[col].mean()\n",
    "\n",
    "    # Creating the bar chart\n",
    "    plt.figure(figsize=(8, 6))\n",
    "    count_by_rating.plot(kind='bar', color='skyblue')\n",
    "    plt.title(f'Average {feature_name} for Each Rating')\n",
    "    plt.xlabel('Rating')\n",
    "    plt.ylabel(f'Average {feature_name}')\n",
    "    plt.xticks(rotation=0)  # Rotate x-axis labels if needed\n",
    "    plt.grid(axis='y')  # Add gridlines for better readability\n",
    "    plt.tight_layout()\n",
    "    plt.show()\n"
   ]
  },
  {
   "cell_type": "markdown",
   "id": "856c33b5",
   "metadata": {},
   "source": [
    "## word count"
   ]
  },
  {
   "cell_type": "code",
   "execution_count": null,
   "id": "b3086c4e",
   "metadata": {},
   "outputs": [],
   "source": [
    "df['word_tokens'] = df.review_lower.apply(\n",
    "    lambda x: [word for word in nltk.word_tokenize(x) if word not in punctuation_list])"
   ]
  },
  {
   "cell_type": "code",
   "execution_count": null,
   "id": "a7f9fe56",
   "metadata": {},
   "outputs": [],
   "source": [
    "df['word_count'] = df.word_tokens.apply(lambda x: len(x))"
   ]
  },
  {
   "cell_type": "code",
   "execution_count": null,
   "id": "21b98c6e",
   "metadata": {},
   "outputs": [],
   "source": [
    "rating_plot('word_count', 'Word Count')"
   ]
  },
  {
   "cell_type": "code",
   "execution_count": null,
   "id": "594df3c5",
   "metadata": {},
   "outputs": [],
   "source": [
    "engineered_features.append('word_count')"
   ]
  },
  {
   "cell_type": "markdown",
   "id": "2414b561",
   "metadata": {},
   "source": [
    "## character count"
   ]
  },
  {
   "cell_type": "code",
   "execution_count": null,
   "id": "c69f67d9",
   "metadata": {},
   "outputs": [],
   "source": [
    "df['character_count'] = df.review_lower.apply(lambda x: len(re.findall(r'\\w', x)))"
   ]
  },
  {
   "cell_type": "code",
   "execution_count": null,
   "id": "84f253a4",
   "metadata": {},
   "outputs": [],
   "source": [
    "rating_plot('character_count', 'Character Count')"
   ]
  },
  {
   "cell_type": "code",
   "execution_count": null,
   "id": "72a0ac18",
   "metadata": {},
   "outputs": [],
   "source": [
    "engineered_features.append('character_count')"
   ]
  },
  {
   "cell_type": "markdown",
   "id": "4f1d7331",
   "metadata": {},
   "source": [
    "## sentence count"
   ]
  },
  {
   "cell_type": "code",
   "execution_count": null,
   "id": "f503391e",
   "metadata": {},
   "outputs": [],
   "source": [
    "df['sentence_count'] = df.review_lower.apply(lambda x: len(sent_tokenize(x)))"
   ]
  },
  {
   "cell_type": "code",
   "execution_count": null,
   "id": "3586a31a",
   "metadata": {},
   "outputs": [],
   "source": [
    "rating_plot('sentence_count', 'Sentence Count')"
   ]
  },
  {
   "cell_type": "code",
   "execution_count": null,
   "id": "39569f99",
   "metadata": {},
   "outputs": [],
   "source": [
    "engineered_features.append('sentence_count')"
   ]
  },
  {
   "cell_type": "markdown",
   "id": "75d6fba2",
   "metadata": {},
   "source": [
    "## Coleman-Liau Index"
   ]
  },
  {
   "cell_type": "code",
   "execution_count": null,
   "id": "7f4995a5",
   "metadata": {},
   "outputs": [],
   "source": [
    "df['CLI_readability'] = df.apply(\n",
    "    lambda x: 5.88 * x.character_count / x.word_count - 29.6 * x.sentence_count / x.word_count - 15.8, axis=1)"
   ]
  },
  {
   "cell_type": "code",
   "execution_count": null,
   "id": "891beb94",
   "metadata": {},
   "outputs": [],
   "source": [
    "rating_plot('CLI_readability', 'CLI Readability')"
   ]
  },
  {
   "cell_type": "code",
   "execution_count": null,
   "id": "d33e5420",
   "metadata": {},
   "outputs": [],
   "source": [
    "engineered_features.append('CLI_readability')"
   ]
  },
  {
   "cell_type": "markdown",
   "id": "15587207",
   "metadata": {},
   "source": [
    "## Automated Readability Index"
   ]
  },
  {
   "cell_type": "code",
   "execution_count": null,
   "id": "3990baea",
   "metadata": {},
   "outputs": [],
   "source": [
    "df['ARI_readability'] = df.apply(\n",
    "    lambda x: 4.71 * x.character_count / x.word_count + 0.5 * x.word_count / x.sentence_count - 21.43, axis=1)"
   ]
  },
  {
   "cell_type": "code",
   "execution_count": null,
   "id": "32380e1e",
   "metadata": {},
   "outputs": [],
   "source": [
    "rating_plot('ARI_readability', 'ARI Readability')"
   ]
  },
  {
   "cell_type": "code",
   "execution_count": null,
   "id": "c62efcb5",
   "metadata": {},
   "outputs": [],
   "source": [
    "engineered_features.append('ARI_readability')"
   ]
  },
  {
   "cell_type": "markdown",
   "id": "44e9f6c3",
   "metadata": {},
   "source": [
    "## buts / even-handed reasoning"
   ]
  },
  {
   "cell_type": "code",
   "execution_count": null,
   "id": "09314db8",
   "metadata": {},
   "outputs": [],
   "source": [
    "# List of words to search for in reviews\n",
    "nuanced_words = ['but', 'even though', 'conversely', 'nonetheless', 'notwithstanding', 'in spite of', 'admittedly', \\\n",
    "                 'however', 'although', 'yet', 'nevertheless', 'on the other hand', 'despite', 'even so', 'while']\n",
    "\n",
    "# Function to count occurrences of nuanced words in a review\n",
    "def count_nuanced_words(text):\n",
    "    text_lower = text.lower()\n",
    "    count = sum(text_lower.count(word) for word in nuanced_words)\n",
    "    return count\n",
    "\n",
    "# Assuming df is your DataFrame and 'review_text' is the column containing the reviews\n",
    "df['nuanced_words_count'] = df['review_lower'].apply(count_nuanced_words)\n"
   ]
  },
  {
   "cell_type": "code",
   "execution_count": null,
   "id": "cb5500d9",
   "metadata": {},
   "outputs": [],
   "source": [
    "rating_plot('nuanced_words_count', 'Nuanced Reasoning Words')"
   ]
  },
  {
   "cell_type": "code",
   "execution_count": null,
   "id": "5d8b4d0e",
   "metadata": {},
   "outputs": [],
   "source": [
    "engineered_features.append('nuanced_words_count')"
   ]
  },
  {
   "cell_type": "markdown",
   "id": "1c44b971",
   "metadata": {},
   "source": [
    "## all caps words"
   ]
  },
  {
   "cell_type": "code",
   "execution_count": null,
   "id": "0972bb0c",
   "metadata": {},
   "outputs": [],
   "source": [
    "def all_caps_fix(review):\n",
    "    review_tokenized = [word for word in nltk.word_tokenize(review) if word not in punctuation_list]\n",
    "    all_caps_words = [word for word in review_tokenized if len(word) > 2 and word.isupper()]\n",
    "    return len(all_caps_words)\n",
    "\n",
    "df['all_caps_word_count'] = df.review.apply(lambda x: all_caps_fix(x))"
   ]
  },
  {
   "cell_type": "code",
   "execution_count": null,
   "id": "2df59018",
   "metadata": {},
   "outputs": [],
   "source": [
    "rating_plot('all_caps_word_count', 'Number of Words in ALL CAPS')"
   ]
  },
  {
   "cell_type": "code",
   "execution_count": null,
   "id": "94f308bf",
   "metadata": {},
   "outputs": [],
   "source": [
    "engineered_features.append('all_caps_word_count')"
   ]
  },
  {
   "cell_type": "markdown",
   "id": "229bac5e",
   "metadata": {},
   "source": [
    "## no caps usage"
   ]
  },
  {
   "cell_type": "code",
   "execution_count": null,
   "id": "039b7efe",
   "metadata": {},
   "outputs": [],
   "source": [
    "df['no_caps'] = df.apply(lambda x: 1 if x.review == x.review_lower else 0, axis=1)"
   ]
  },
  {
   "cell_type": "code",
   "execution_count": null,
   "id": "aafc4bb9",
   "metadata": {},
   "outputs": [],
   "source": [
    "rating_plot('no_caps', 'Reviews Without Any Capitalization')"
   ]
  },
  {
   "cell_type": "code",
   "execution_count": null,
   "id": "afc7a63b",
   "metadata": {},
   "outputs": [],
   "source": [
    "engineered_features.append('no_caps')"
   ]
  },
  {
   "cell_type": "markdown",
   "id": "7f6daa12",
   "metadata": {},
   "source": [
    "## exclaim count"
   ]
  },
  {
   "cell_type": "code",
   "execution_count": null,
   "id": "39ae4b70",
   "metadata": {},
   "outputs": [],
   "source": [
    "df['exclaim_count'] = df.review.apply(lambda x: x.count('!'))"
   ]
  },
  {
   "cell_type": "code",
   "execution_count": null,
   "id": "9b3e85ca",
   "metadata": {},
   "outputs": [],
   "source": [
    "rating_plot('exclaim_count', 'Number of Exclamation Points')"
   ]
  },
  {
   "cell_type": "code",
   "execution_count": null,
   "id": "bf9578f1",
   "metadata": {},
   "outputs": [],
   "source": [
    "engineered_features.append('exclaim_count')"
   ]
  },
  {
   "cell_type": "markdown",
   "id": "9f2186f1",
   "metadata": {},
   "source": [
    "## question count"
   ]
  },
  {
   "cell_type": "code",
   "execution_count": null,
   "id": "71fac193",
   "metadata": {},
   "outputs": [],
   "source": [
    "df['question_count'] = df.review.apply(lambda x: x.count('?'))"
   ]
  },
  {
   "cell_type": "code",
   "execution_count": null,
   "id": "f05a4362",
   "metadata": {},
   "outputs": [],
   "source": [
    "rating_plot('question_count', 'Number of Question Marks')"
   ]
  },
  {
   "cell_type": "code",
   "execution_count": null,
   "id": "ca591bd2",
   "metadata": {},
   "outputs": [],
   "source": [
    "engineered_features.append('question_count')"
   ]
  },
  {
   "cell_type": "markdown",
   "id": "c3f0da66",
   "metadata": {},
   "source": [
    "## age disclosure"
   ]
  },
  {
   "cell_type": "code",
   "execution_count": null,
   "id": "8af611a6",
   "metadata": {},
   "outputs": [],
   "source": [
    "def age_disclosure_feature(review):\n",
    "    if re.search('[1-4][0-9] +y(ea)?rs? +(old|of age)', review) or \\\n",
    "    re.search('(pregnant( +at)?|age( +of)?|being) +[1-4][0-9]', review) or \\\n",
    "    re.search('(teen|ty|one|two|three|four|five|six|seven|eight|nine) +y(ea)?rs? +(old|of +age)', review) or \\\n",
    "    re.search('i +(am +|was +|will +be +|would have been +)(not even +)?(now +)?(only +)?(just +)?(maybe +)?[1-4][0-9](\\s|\\.|\\!|\\?)', review):\n",
    "        return True\n",
    "    else:\n",
    "        return False\n",
    "\n",
    "df['age_disclosure'] = df.review_lower.apply(lambda x: 1 if age_disclosure_feature(x) else 0)"
   ]
  },
  {
   "cell_type": "code",
   "execution_count": null,
   "id": "559fec50",
   "metadata": {},
   "outputs": [],
   "source": [
    "rating_plot('age_disclosure', 'Age Disclosure')"
   ]
  },
  {
   "cell_type": "code",
   "execution_count": null,
   "id": "bbd3ce00",
   "metadata": {},
   "outputs": [],
   "source": [
    "engineered_features.append('age_disclosure')"
   ]
  },
  {
   "cell_type": "markdown",
   "id": "685d0581",
   "metadata": {},
   "source": [
    "## inclusion of brand name"
   ]
  },
  {
   "cell_type": "code",
   "execution_count": null,
   "id": "90917df7",
   "metadata": {},
   "outputs": [],
   "source": [
    "list(df[(df.method == 'patch') & (df.shortBrandName.notna())].shortBrandName.unique())"
   ]
  },
  {
   "cell_type": "code",
   "execution_count": null,
   "id": "df83903b",
   "metadata": {},
   "outputs": [],
   "source": [
    "method_brand_dict = {}\n",
    "\n",
    "def brand_by_method_fix(review, method_brand_list):\n",
    "    for brand in method_brand_list:\n",
    "        if brand == 'plan':\n",
    "            continue\n",
    "        if brand in review:\n",
    "            return 1\n",
    "    return 0\n",
    "\n",
    "for method_ in df.method.unique():\n",
    "    if method_ == 'emergency':\n",
    "        continue\n",
    "    elif method_ == 'patch':\n",
    "        method_brand_list = ['Evra', 'Xulane']\n",
    "    else:\n",
    "        method_brand_list = list(df[(df.method == method_) & \\\n",
    "                                    (df.shortBrandName.notna())].shortBrandName.unique())\n",
    "    method_brand_string = ' '.join([word.lower() for word in method_brand_list])\n",
    "    method_brand_list = list(set(method_brand_string.split(' ')))\n",
    "    df[method_] = df.review_lower.apply(lambda x: brand_by_method_fix(x, method_brand_list))\n",
    "    engineered_features.append(method_)"
   ]
  },
  {
   "cell_type": "code",
   "execution_count": null,
   "id": "2ed9daba",
   "metadata": {},
   "outputs": [],
   "source": [
    "# Create a pivot table to count occurrences of 1s for each method and dwarf\n",
    "pivot_table = df[df.method != 'emergency'][['method', 'pill', 'patch', 'IUD', 'implantable', 'injectable', 'vaginal']].pivot_table(index='method', aggfunc='sum')\n",
    "\n",
    "# Create a heatmap visualization\n",
    "plt.figure(figsize=(8, 6))\n",
    "sns.heatmap(pivot_table, annot=True, cmap='YlGnBu', fmt='g')\n",
    "plt.xlabel('Method of Brand Mentioned')\n",
    "plt.ylabel('Actual Method')\n",
    "plt.title('Number of Mentions')\n",
    "plt.show()\n"
   ]
  },
  {
   "cell_type": "code",
   "execution_count": null,
   "id": "7155ef76",
   "metadata": {},
   "outputs": [],
   "source": [
    "# DO NOT re-run this cell out of sequence\n",
    "# to use the dataframe as it was at this stage, un-comment, run, and re-comment the cell that follows after it.\n",
    "df_bookmark_5 = df.copy()"
   ]
  },
  {
   "cell_type": "code",
   "execution_count": null,
   "id": "adf8151a",
   "metadata": {},
   "outputs": [],
   "source": [
    "# df = df_bookmark_5.copy()"
   ]
  },
  {
   "cell_type": "markdown",
   "id": "f0486f1b",
   "metadata": {},
   "source": [
    "# DELETE THE CELL BELOW"
   ]
  },
  {
   "cell_type": "code",
   "execution_count": null,
   "id": "e22ff728",
   "metadata": {},
   "outputs": [],
   "source": [
    "filepath = Path('../data/preprocessed.csv')\n",
    "filepath.parent.mkdir(parents=True, exist_ok=True)\n",
    "df.to_csv(filepath)"
   ]
  },
  {
   "cell_type": "code",
   "execution_count": null,
   "id": "89e4183a",
   "metadata": {},
   "outputs": [],
   "source": []
  },
  {
   "cell_type": "code",
   "execution_count": 3,
   "id": "b921950f",
   "metadata": {},
   "outputs": [],
   "source": [
    "df = pd.read_csv('../data/preprocessed.csv')\n",
    "df.drop(columns='Unnamed: 0', inplace=True)"
   ]
  },
  {
   "cell_type": "code",
   "execution_count": 4,
   "id": "8edbe803",
   "metadata": {},
   "outputs": [],
   "source": [
    "%store -r engineered_features"
   ]
  },
  {
   "cell_type": "code",
   "execution_count": null,
   "id": "d8b2051c",
   "metadata": {},
   "outputs": [],
   "source": []
  },
  {
   "cell_type": "code",
   "execution_count": null,
   "id": "26031dde",
   "metadata": {},
   "outputs": [],
   "source": []
  },
  {
   "cell_type": "markdown",
   "id": "2dc5e1c1",
   "metadata": {},
   "source": [
    "# Modeling"
   ]
  },
  {
   "cell_type": "code",
   "execution_count": null,
   "id": "53bc314e",
   "metadata": {},
   "outputs": [],
   "source": [
    "if light_frame == True:\n",
    "    random_df = np.random.choice(df.index, 1000, replace=False)\n",
    "    df = df[df.index.isin(random_df)]"
   ]
  },
  {
   "cell_type": "markdown",
   "id": "771f520e",
   "metadata": {},
   "source": [
    "## Predicting birth control method\n",
    "## The target feature"
   ]
  },
  {
   "cell_type": "code",
   "execution_count": 5,
   "id": "c8c7bc94",
   "metadata": {},
   "outputs": [],
   "source": [
    "df['target'] = df.method"
   ]
  },
  {
   "cell_type": "code",
   "execution_count": 6,
   "id": "48852aab",
   "metadata": {},
   "outputs": [],
   "source": [
    "X_train, X_test, y_train, y_test = \\\n",
    "train_test_split(df[['review'] + engineered_features], df['target'], test_size=0.2, random_state=SEED)"
   ]
  },
  {
   "cell_type": "code",
   "execution_count": 7,
   "id": "88254cb0",
   "metadata": {},
   "outputs": [
    {
     "data": {
      "text/plain": [
       "target\n",
       "pill           0.4524\n",
       "implantable    0.2040\n",
       "IUD            0.1706\n",
       "emergency      0.0794\n",
       "vaginal        0.0387\n",
       "injectable     0.0316\n",
       "patch          0.0234\n",
       "Name: proportion, dtype: float64"
      ]
     },
     "execution_count": 7,
     "metadata": {},
     "output_type": "execute_result"
    }
   ],
   "source": [
    "# save this value to compare to future model crossval scores\n",
    "plurality_cv = round(y_train.value_counts(normalize=True)[1],4)\n",
    "# show the sentiment breakdown\n",
    "round(y_train.value_counts(normalize=True),4)"
   ]
  },
  {
   "cell_type": "markdown",
   "id": "e52fa19d",
   "metadata": {},
   "source": [
    "## Discuss metric"
   ]
  },
  {
   "cell_type": "markdown",
   "id": "7228f284",
   "metadata": {},
   "source": [
    "## Preprocess data"
   ]
  },
  {
   "cell_type": "code",
   "execution_count": 8,
   "id": "3d4360a6",
   "metadata": {},
   "outputs": [],
   "source": [
    "# reset variables\n",
    "\n",
    "text_preprocessor = None\n",
    "numerical_preprocessor = None\n",
    "preprocessor = None\n",
    "pipeline = None\n",
    "accuracy = None\n",
    "feature_names = None\n",
    "coefficients = None\n",
    "decision_function_values = None\n",
    "importance_df = None\n",
    "feature_importance = None"
   ]
  },
  {
   "cell_type": "code",
   "execution_count": 12,
   "id": "7506308a",
   "metadata": {},
   "outputs": [],
   "source": [
    "max_features = None\n",
    "stop_words = stop_list_light\n",
    "ngram_range = (1,3)"
   ]
  },
  {
   "cell_type": "code",
   "execution_count": 13,
   "id": "8d8906af",
   "metadata": {},
   "outputs": [],
   "source": [
    "text_preprocessor = TfidfVectorizer(\n",
    "    max_features=max_features,\n",
    "    ngram_range=ngram_range\n",
    ")\n",
    "\n",
    "numerical_preprocessor = StandardScaler()\n",
    "\n",
    "preprocessor = ColumnTransformer(\n",
    "    transformers=[\n",
    "        ('text', text_preprocessor, 'review'),\n",
    "        ('numerical', numerical_preprocessor, engineered_features)\n",
    "    ]\n",
    ")"
   ]
  },
  {
   "cell_type": "code",
   "execution_count": 14,
   "id": "4af0d145",
   "metadata": {},
   "outputs": [],
   "source": [
    "def run_model_1(model, title):\n",
    "    pipeline = Pipeline([\n",
    "        ('preprocessor', preprocessor),\n",
    "        ('model', model)\n",
    "    ])\n",
    "    \n",
    "    pipeline.fit(X_train, y_train)\n",
    "    # generate predictions for the test data\n",
    "    \n",
    "    y_pred = pipeline.predict(X_test)\n",
    "    # display the training and test accuracy scores\n",
    "    print(f\"Training Score: {round(pipeline.score(X_train, y_train),4)} \\\n",
    "    \\nTest Score:     {round(pipeline.score(X_test, y_test),4)}\")\n",
    "    \n",
    "    # generate predictions for the test data\n",
    "    y_pred = pipeline.predict(X_test)\n",
    "    \n",
    "    # calculate different evaluation metrics\n",
    "    accuracy = accuracy_score(y_test, y_pred)\n",
    "    f1_macro = f1_score(y_test, y_pred, average='macro')\n",
    "\n",
    "    \n",
    "    # display different evaluation metrics\n",
    "    print(f\"\\nAccuracy Score: {round(accuracy, 4)}\")\n",
    "    print(f\"F1 Macro Score: {round(f1_macro, 4)}\")\n",
    "\n",
    "    \n",
    "    # plot the confusion matrix\n",
    "    cm = confusion_matrix(y_test, y_pred, labels=pipeline.classes_)\n",
    "    disp = ConfusionMatrixDisplay(confusion_matrix=cm, display_labels=pipeline.classes_)\n",
    "    fig, ax = plt.subplots(figsize=(8, 6))\n",
    "    disp.plot(cmap='Greens', ax=ax)\n",
    "    plt.title(f\"Confusion Matrix for {title} Model\", fontsize=16, pad=20)\n",
    "    plt.xticks(rotation=90)\n",
    "    plt.show()"
   ]
  },
  {
   "cell_type": "code",
   "execution_count": 15,
   "id": "c5507cb9",
   "metadata": {},
   "outputs": [],
   "source": [
    "def tune_model_1(model, param_grid):\n",
    "    pipeline = Pipeline([('preprocessor', preprocessor), ('model', model)])\n",
    "    param_grid = param_grid\n",
    "    gridsearch = GridSearchCV(estimator=pipeline, param_grid = param_grid, cv=5, scoring='f1_macro')\n",
    "    gridsearch.fit(X_train,  y_train)\n",
    "    gridsearch.best_params_\n",
    "    return gridsearch.best_params_"
   ]
  },
  {
   "cell_type": "markdown",
   "id": "41583055",
   "metadata": {},
   "source": [
    "## Decision tree"
   ]
  },
  {
   "cell_type": "code",
   "execution_count": 16,
   "id": "245d163e",
   "metadata": {},
   "outputs": [
    {
     "name": "stdout",
     "output_type": "stream",
     "text": [
      "Training Score: 0.9999     \n",
      "Test Score:     0.8719\n",
      "\n",
      "Accuracy Score: 0.8719\n",
      "F1 Macro Score: 0.817\n"
     ]
    },
    {
     "data": {
      "image/png": "[encoded data removed]",
      "text/plain": [
       "<Figure size 576x432 with 2 Axes>"
      ]
     },
     "metadata": {
      "needs_background": "light"
     },
     "output_type": "display_data"
    },
    {
     "name": "stdout",
     "output_type": "stream",
     "text": [
      "CPU times: user 1min 23s, sys: 1.51 s, total: 1min 24s\n",
      "Wall time: 1min 25s\n"
     ]
    }
   ],
   "source": [
    "%%time\n",
    "\n",
    "run_model_1(DecisionTreeClassifier(random_state=SEED), 'Decision Tree')"
   ]
  },
  {
   "cell_type": "markdown",
   "id": "a0557039",
   "metadata": {},
   "source": [
    "## Tuning the decision tree model"
   ]
  },
  {
   "cell_type": "code",
   "execution_count": 17,
   "id": "50b99a0b",
   "metadata": {},
   "outputs": [
    {
     "name": "stdout",
     "output_type": "stream",
     "text": [
      "{'model__criterion': 'gini', 'model__max_depth': 20, 'model__min_samples_leaf': 1}\n",
      "CPU times: user 138 µs, sys: 56 µs, total: 194 µs\n",
      "Wall time: 150 µs\n"
     ]
    }
   ],
   "source": [
    "%%time\n",
    "\n",
    "if do_grids == True:\n",
    "    best_params_ = tune_model_1(DecisionTreeClassifier(random_state=SEED), param_grid={\n",
    "        'model__criterion': ['gini', 'entropy'],\n",
    "        'model__max_depth': [10, 20, None],\n",
    "        'model__min_samples_leaf': [1, 2, 3]\n",
    "    })\n",
    "else:\n",
    "    best_params_ = \"{'model__criterion': 'gini', 'model__max_depth': 20, 'model__min_samples_leaf': 1}\"\n",
    "print(best_params_)"
   ]
  },
  {
   "cell_type": "markdown",
   "id": "53437ab5",
   "metadata": {},
   "source": [
    "## Decision tree — tuned"
   ]
  },
  {
   "cell_type": "code",
   "execution_count": 18,
   "id": "b68df946",
   "metadata": {},
   "outputs": [
    {
     "name": "stdout",
     "output_type": "stream",
     "text": [
      "Training Score: 0.9483     \n",
      "Test Score:     0.8827\n",
      "\n",
      "Accuracy Score: 0.8827\n",
      "F1 Macro Score: 0.835\n"
     ]
    },
    {
     "data": {
      "image/png": "[encoded data removed]",
      "text/plain": [
       "<Figure size 576x432 with 2 Axes>"
      ]
     },
     "metadata": {
      "needs_background": "light"
     },
     "output_type": "display_data"
    },
    {
     "name": "stdout",
     "output_type": "stream",
     "text": [
      "CPU times: user 56.8 s, sys: 1 s, total: 57.8 s\n",
      "Wall time: 57.8 s\n"
     ]
    }
   ],
   "source": [
    "%%time\n",
    "\n",
    "run_model_1(DecisionTreeClassifier(\n",
    "    random_state=SEED,\n",
    "    criterion='gini',\n",
    "    max_depth=20,\n",
    "    min_samples_leaf=1\n",
    "),\n",
    "           'Tuned Decision Tree'\n",
    "           )"
   ]
  },
  {
   "cell_type": "markdown",
   "id": "0dccdd22",
   "metadata": {},
   "source": [
    "## Random forest"
   ]
  },
  {
   "cell_type": "code",
   "execution_count": 19,
   "id": "ca36e449",
   "metadata": {},
   "outputs": [
    {
     "name": "stdout",
     "output_type": "stream",
     "text": [
      "Training Score: 0.9999     \n",
      "Test Score:     0.8329\n",
      "\n",
      "Accuracy Score: 0.8329\n",
      "F1 Macro Score: 0.5899\n"
     ]
    },
    {
     "data": {
      "image/png": "[encoded data removed]",
      "text/plain": [
       "<Figure size 576x432 with 2 Axes>"
      ]
     },
     "metadata": {
      "needs_background": "light"
     },
     "output_type": "display_data"
    },
    {
     "name": "stdout",
     "output_type": "stream",
     "text": [
      "CPU times: user 4min 17s, sys: 1.93 s, total: 4min 19s\n",
      "Wall time: 4min 20s\n"
     ]
    }
   ],
   "source": [
    "%%time\n",
    "\n",
    "run_model_1(RandomForestClassifier(random_state=SEED), 'Random Forest')"
   ]
  },
  {
   "cell_type": "markdown",
   "id": "79a5735b",
   "metadata": {},
   "source": [
    "## Tuning the random forest model"
   ]
  },
  {
   "cell_type": "code",
   "execution_count": 20,
   "id": "3aef8240",
   "metadata": {},
   "outputs": [
    {
     "name": "stdout",
     "output_type": "stream",
     "text": [
      "{'model__criterion': 'gini', 'model__max_depth': None, 'model__min_samples_leaf': 1}\n",
      "CPU times: user 378 µs, sys: 402 µs, total: 780 µs\n",
      "Wall time: 449 µs\n"
     ]
    }
   ],
   "source": [
    "%%time\n",
    "\n",
    "if do_grids == True:\n",
    "    best_params_ = tune_model_1(RandomForestClassifier(random_state=SEED), param_grid={\n",
    "        'model__criterion': ['gini', 'entropy'],\n",
    "        'model__max_depth': [10, 20, None],\n",
    "        'model__min_samples_leaf': [1, 2, 3]\n",
    "    })\n",
    "else:\n",
    "    best_params_ = \"{'model__criterion': 'gini', 'model__max_depth': None, 'model__min_samples_leaf': 1}\"\n",
    "print(best_params_)"
   ]
  },
  {
   "cell_type": "markdown",
   "id": "76fea30f",
   "metadata": {},
   "source": [
    "## Random forest — tuned"
   ]
  },
  {
   "cell_type": "code",
   "execution_count": 21,
   "id": "8e3e013d",
   "metadata": {},
   "outputs": [
    {
     "name": "stdout",
     "output_type": "stream",
     "text": [
      "Training Score: 0.9999     \n",
      "Test Score:     0.8329\n",
      "\n",
      "Accuracy Score: 0.8329\n",
      "F1 Macro Score: 0.5899\n"
     ]
    },
    {
     "data": {
      "image/png": "[encoded data removed]",
      "text/plain": [
       "<Figure size 576x432 with 2 Axes>"
      ]
     },
     "metadata": {
      "needs_background": "light"
     },
     "output_type": "display_data"
    },
    {
     "name": "stdout",
     "output_type": "stream",
     "text": [
      "CPU times: user 4min 18s, sys: 1.95 s, total: 4min 20s\n",
      "Wall time: 4min 21s\n"
     ]
    }
   ],
   "source": [
    "%%time\n",
    "\n",
    "run_model_1(RandomForestClassifier(\n",
    "    random_state=SEED,\n",
    "    criterion='gini',\n",
    "    max_depth=None,\n",
    "    min_samples_leaf=1\n",
    "),\n",
    "           'Tuned Random Forest'\n",
    "           )"
   ]
  },
  {
   "cell_type": "markdown",
   "id": "e776c4a3",
   "metadata": {},
   "source": [
    "## Logistic regression"
   ]
  },
  {
   "cell_type": "code",
   "execution_count": 22,
   "id": "d102bcac",
   "metadata": {},
   "outputs": [
    {
     "name": "stdout",
     "output_type": "stream",
     "text": [
      "Training Score: 0.9504     \n",
      "Test Score:     0.9213\n",
      "\n",
      "Accuracy Score: 0.9213\n",
      "F1 Macro Score: 0.8662\n"
     ]
    },
    {
     "data": {
      "image/png": "[encoded data removed]",
      "text/plain": [
       "<Figure size 576x432 with 2 Axes>"
      ]
     },
     "metadata": {
      "needs_background": "light"
     },
     "output_type": "display_data"
    },
    {
     "name": "stdout",
     "output_type": "stream",
     "text": [
      "CPU times: user 10min 57s, sys: 2min 17s, total: 13min 14s\n",
      "Wall time: 5min 36s\n"
     ]
    }
   ],
   "source": [
    "%%time\n",
    "\n",
    "run_model_1(LogisticRegression(random_state=SEED, max_iter=1000), 'Logistic Regression')"
   ]
  },
  {
   "cell_type": "markdown",
   "id": "27c12705",
   "metadata": {},
   "source": [
    "## Tuning the logistic regression model"
   ]
  },
  {
   "cell_type": "code",
   "execution_count": null,
   "id": "9d5089df",
   "metadata": {},
   "outputs": [],
   "source": [
    "%%time\n",
    "\n",
    "if do_grids == True:\n",
    "    best_params_ = tune_model_1(LogisticRegression(random_state=SEED, max_iter=1000), param_grid={\n",
    "        'model__C': [0.001, 0.01, 0.1, 1, 10, 100],  # Regularization parameter\n",
    "        'model__penalty': ['l1', 'l2'],  # Regularization penalty ('l1' for Lasso, 'l2' for Ridge)\n",
    "        'model__solver': ['liblinear', 'saga']  # Algorithm to use in the optimization problem\n",
    "    })\n",
    "else:\n",
    "    best_params_ = \"{'model__C': 10, 'model__penalty': 'l2', 'model__solver': 'liblinear'}\"\n",
    "print(best_params_)"
   ]
  },
  {
   "cell_type": "markdown",
   "id": "bf5c1169",
   "metadata": {},
   "source": [
    "## Logistic regression — tuned"
   ]
  },
  {
   "cell_type": "code",
   "execution_count": 23,
   "id": "b191edda",
   "metadata": {},
   "outputs": [
    {
     "name": "stdout",
     "output_type": "stream",
     "text": [
      "Training Score: 0.9985     \n",
      "Test Score:     0.9417\n",
      "\n",
      "Accuracy Score: 0.9417\n",
      "F1 Macro Score: 0.9045\n"
     ]
    },
    {
     "data": {
      "image/png": "[encoded data removed]",
      "text/plain": [
       "<Figure size 576x432 with 2 Axes>"
      ]
     },
     "metadata": {
      "needs_background": "light"
     },
     "output_type": "display_data"
    },
    {
     "name": "stdout",
     "output_type": "stream",
     "text": [
      "CPU times: user 4min 44s, sys: 1min 22s, total: 6min 6s\n",
      "Wall time: 1min 47s\n"
     ]
    }
   ],
   "source": [
    "%%time\n",
    "\n",
    "run_model_1(LogisticRegression(\n",
    "    random_state=SEED,\n",
    "    max_iter=1000,\n",
    "    C=10,\n",
    "    penalty='l2',\n",
    "    solver='liblinear'\n",
    "),\n",
    "           'Tuned Logistic Regression'\n",
    "           )"
   ]
  },
  {
   "cell_type": "markdown",
   "id": "a73ee8ad",
   "metadata": {},
   "source": [
    "## Bagged trees"
   ]
  },
  {
   "cell_type": "code",
   "execution_count": 24,
   "id": "d57f4fa9",
   "metadata": {},
   "outputs": [
    {
     "name": "stdout",
     "output_type": "stream",
     "text": [
      "Training Score: 0.9923     \n",
      "Test Score:     0.9079\n",
      "\n",
      "Accuracy Score: 0.9079\n",
      "F1 Macro Score: 0.8654\n"
     ]
    },
    {
     "data": {
      "image/png": "[encoded data removed]",
      "text/plain": [
       "<Figure size 576x432 with 2 Axes>"
      ]
     },
     "metadata": {
      "needs_background": "light"
     },
     "output_type": "display_data"
    },
    {
     "name": "stdout",
     "output_type": "stream",
     "text": [
      "CPU times: user 7min 44s, sys: 1.83 s, total: 7min 46s\n",
      "Wall time: 7min 47s\n"
     ]
    }
   ],
   "source": [
    "%%time\n",
    "\n",
    "run_model_1(BaggingClassifier(random_state=SEED), 'Bagged Trees')"
   ]
  },
  {
   "cell_type": "markdown",
   "id": "7a315342",
   "metadata": {},
   "source": [
    "## Tuning the bagged trees model"
   ]
  },
  {
   "cell_type": "code",
   "execution_count": null,
   "id": "f4d29ebc",
   "metadata": {},
   "outputs": [],
   "source": [
    "%%time\n",
    "\n",
    "if do_grids == True:\n",
    "    best_params_ = tune_model_1(BaggingClassifier(random_state=SEED, estimator=DecisionTreeClassifier()), param_grid={\n",
    "        'model__n_estimators': [10, 50, 100],  # Number of base estimators (decision trees in this case)\n",
    "        'model__max_samples': [0.5, 0.7, 1.0],  # Sample size for each base estimator\n",
    "        'model__max_features': [0.5, 0.7, 1.0]  # Number of features to consider for each base estimator\n",
    "    })\n",
    "else:\n",
    "    best_params_ = \"{'model__max_features': 0.7, 'model__max_samples': 1.0, 'model__n_estimators': 100}\"\n",
    "print(best_params_)"
   ]
  },
  {
   "cell_type": "markdown",
   "id": "61cebe5b",
   "metadata": {},
   "source": [
    "## Bagged trees — tuned"
   ]
  },
  {
   "cell_type": "code",
   "execution_count": null,
   "id": "c0562910",
   "metadata": {},
   "outputs": [],
   "source": [
    "%%time\n",
    "\n",
    "run_model_1(BaggingClassifier(\n",
    "    random_state=SEED,\n",
    "    max_features=0.7,\n",
    "    max_samples=1.0,\n",
    "    n_estimators=100\n",
    "),\n",
    "           'Tuned Bagged Trees'\n",
    "           )"
   ]
  },
  {
   "cell_type": "markdown",
   "id": "6ca2b714",
   "metadata": {},
   "source": [
    "## XGBoost"
   ]
  },
  {
   "cell_type": "code",
   "execution_count": null,
   "id": "4796cec2",
   "metadata": {},
   "outputs": [],
   "source": [
    "%%time\n",
    "\n",
    "run_model_1(XGBClassifier(\n",
    "    random_state=SEED\n",
    "),\n",
    "           'XGBoost'\n",
    "           )"
   ]
  },
  {
   "cell_type": "markdown",
   "id": "26603235",
   "metadata": {},
   "source": [
    "Waiting on Bagged Trees - tuned and XGBoost ...\n",
    "\n",
    "- Decision Tree: F1 0.82 || Acc 87%\n",
    "- ... Tuned: F1: 0.84 || Acc 88%\n",
    "- Random Forest: F1 0.59 || Acc 83%\n",
    "- ... Tuned: F1 0.59 || Acc 83%\n",
    "- Logistic Regression: F1 0.87 || 92%\n",
    "- **... Tuned: F1 0.90 || Acc 94%**\n",
    "- Bagged Trees: F1 0.87 || Acc 91%\n",
    "- ... Tuned: ???\n",
    "- XGBoost: ??? (was earlier 94% accuracy)"
   ]
  },
  {
   "cell_type": "markdown",
   "id": "46a0063d",
   "metadata": {},
   "source": [
    "## Predicting rating"
   ]
  },
  {
   "cell_type": "markdown",
   "id": "5ec54b2e",
   "metadata": {},
   "source": [
    "## The target feature"
   ]
  },
  {
   "cell_type": "code",
   "execution_count": null,
   "id": "40fac694",
   "metadata": {},
   "outputs": [],
   "source": [
    "rating_threshold = [2, 10]\n",
    "\n",
    "print(len(df[df.rating <= rating_threshold[0]]), len(df[df.rating >= rating_threshold[1]]))"
   ]
  },
  {
   "cell_type": "markdown",
   "id": "6a041441",
   "metadata": {},
   "source": [
    "The above would be the easiest split. It uses fewer values and reduces class imbalance."
   ]
  },
  {
   "cell_type": "code",
   "execution_count": null,
   "id": "49d6d49c",
   "metadata": {},
   "outputs": [],
   "source": [
    "rating_threshold = [7, 8]\n",
    "\n",
    "neg_count = len(df[df.rating <= rating_threshold[0]])\n",
    "pos_count = len(df[df.rating >= rating_threshold[1]])\n",
    "\n",
    "print(neg_count, pos_count)"
   ]
  },
  {
   "cell_type": "markdown",
   "id": "e85463e5",
   "metadata": {},
   "source": [
    "The above would be the best way to reduce class imbalance while using all of the data."
   ]
  },
  {
   "cell_type": "code",
   "execution_count": null,
   "id": "6994b67e",
   "metadata": {},
   "outputs": [],
   "source": [
    "rating_threshold = [4, 6]\n",
    "\n",
    "neg_count = len(df[df.rating <= rating_threshold[0]])\n",
    "pos_count = len(df[df.rating >= rating_threshold[1]])\n",
    "\n",
    "print(neg_count, pos_count)"
   ]
  },
  {
   "cell_type": "markdown",
   "id": "dee21cd2",
   "metadata": {},
   "source": [
    "The above would use nearly all the data and give a better approximation of positive v. negative. It introduces a more significant class imbalance, though."
   ]
  },
  {
   "cell_type": "code",
   "execution_count": null,
   "id": "86453c72",
   "metadata": {},
   "outputs": [],
   "source": [
    "neg_freq = neg_count / (neg_count + pos_count)\n",
    "pos_freq = pos_count / (neg_count + pos_count)"
   ]
  },
  {
   "cell_type": "code",
   "execution_count": null,
   "id": "6d0345ac",
   "metadata": {},
   "outputs": [],
   "source": [
    "df.drop(df[\n",
    "    (df.rating > rating_threshold[0]) & \\\n",
    "    (df.rating < rating_threshold[1])\n",
    "].index, inplace=True)\n",
    "\n",
    "df['target'] = df.rating.apply(lambda x: 1 if x <= rating_threshold[0] else 0)"
   ]
  },
  {
   "cell_type": "code",
   "execution_count": null,
   "id": "0a13ba14",
   "metadata": {},
   "outputs": [],
   "source": [
    "X_train, X_test, y_train, y_test = \\\n",
    "train_test_split(df[['review'] + engineered_features], df['target'], test_size=0.2, random_state=SEED)"
   ]
  },
  {
   "cell_type": "code",
   "execution_count": null,
   "id": "efe5e054",
   "metadata": {},
   "outputs": [],
   "source": [
    "# save this value to compare to future model crossval scores\n",
    "plurality_cv = round(y_train.value_counts(normalize=True)[1],4)\n",
    "# show the sentiment breakdown\n",
    "round(y_train.value_counts(normalize=True),4)"
   ]
  },
  {
   "cell_type": "markdown",
   "id": "a3bacb8a",
   "metadata": {},
   "source": [
    "## Discuss metric"
   ]
  },
  {
   "cell_type": "markdown",
   "id": "10f01b2f",
   "metadata": {},
   "source": [
    "## Preprocess data"
   ]
  },
  {
   "cell_type": "code",
   "execution_count": null,
   "id": "4bad2de7",
   "metadata": {},
   "outputs": [],
   "source": [
    "# reset variables\n",
    "\n",
    "text_preprocessor = None\n",
    "numerical_preprocessor = None\n",
    "preprocessor = None\n",
    "pipeline = None\n",
    "accuracy = None\n",
    "feature_names = None\n",
    "coefficients = None\n",
    "decision_function_values = None\n",
    "importance_df = None\n",
    "feature_importance = None"
   ]
  },
  {
   "cell_type": "code",
   "execution_count": null,
   "id": "d08abdde",
   "metadata": {},
   "outputs": [],
   "source": [
    "max_features = None\n",
    "stop_words = stop_list_light\n",
    "ngram_range = (1,3)\n",
    "class_weight = {\n",
    "    0: neg_freq,\n",
    "    1: pos_freq/neg_freq\n",
    "}"
   ]
  },
  {
   "cell_type": "code",
   "execution_count": null,
   "id": "f52c96c4",
   "metadata": {},
   "outputs": [],
   "source": [
    "text_preprocessor = TfidfVectorizer(\n",
    "    max_features=max_features,\n",
    "    ngram_range=ngram_range\n",
    ")\n",
    "\n",
    "numerical_preprocessor = StandardScaler()\n",
    "\n",
    "preprocessor = ColumnTransformer(\n",
    "    transformers=[\n",
    "        ('text', text_preprocessor, 'review'),\n",
    "        ('numerical', numerical_preprocessor, engineered_features)\n",
    "    ]\n",
    ")"
   ]
  },
  {
   "cell_type": "code",
   "execution_count": null,
   "id": "873c438f",
   "metadata": {},
   "outputs": [],
   "source": [
    "def run_model_2(model, title):\n",
    "    pipeline = Pipeline([\n",
    "        ('preprocessor', preprocessor),\n",
    "        ('model', model)\n",
    "    ])\n",
    "    \n",
    "    pipeline.fit(X_train, y_train)\n",
    "    # generate predictions for the test data\n",
    "    y_pred = pipeline.predict(X_test)\n",
    "    # display the training and test accuracy scores\n",
    "    print(f\"Training Score: {round(pipeline.score(X_train, y_train),4)} \\\n",
    "    \\nTest Score:     {round(pipeline.score(X_test, y_test),4)}\")\n",
    "    \n",
    "    # generate predictions for the test data\n",
    "    y_pred = pipeline.predict(X_test)\n",
    "    y_pred_proba = pipeline.predict_proba(X_test)[:, 1]  # Probabilities for log loss\n",
    "    \n",
    "    # calculate different evaluation metrics\n",
    "    accuracy = accuracy_score(y_test, y_pred)\n",
    "    recall = recall_score(y_test, y_pred)\n",
    "    f1 = f1_score(y_test, y_pred)\n",
    "    roc_auc = roc_auc_score(y_test, y_pred_proba)\n",
    "    \n",
    "    # display different evaluation metrics\n",
    "    print(f\"\\nAccuracy Score: {round(accuracy, 4)}\")\n",
    "    print(f\"Recall Score: {round(recall, 4)}\")\n",
    "    print(f\"F1 Score: {round(f1, 4)}\")\n",
    "    print(f\"ROC-AUC Score: {round(roc_auc, 4)}\")\n",
    "    \n",
    "    # plot the normalized confusion matrix\n",
    "    cm = confusion_matrix(y_test, y_pred, labels=pipeline.classes_)\n",
    "    disp = ConfusionMatrixDisplay(confusion_matrix=cm, display_labels=pipeline.classes_)\n",
    "    fig, ax = plt.subplots(figsize=(8, 6))  # Modify the figsize as per your preference\n",
    "    disp.plot(cmap='Greens', ax=ax)\n",
    "    plt.title(f\"Confusion Matrix for {title} Model\", fontsize=16, pad=20)\n",
    "    plt.xticks(rotation=90)\n",
    "    plt.show()\n",
    "    \n",
    "    \n",
    "\n",
    "    # Calculate the False Positive Rate (FPR), True Positive Rate (TPR), and Thresholds\n",
    "    fpr, tpr, thresholds = roc_curve(y_test, y_pred_proba)\n",
    "\n",
    "    # Calculate the Area Under the ROC Curve (ROC-AUC)\n",
    "    roc_auc = auc(fpr, tpr)\n",
    "\n",
    "    # Plot the ROC curve\n",
    "    plt.figure(figsize=(8, 6))\n",
    "    plt.plot(fpr, tpr, color='blue', lw=2, label='ROC curve (AUC = %0.2f)' % roc_auc)\n",
    "    plt.plot([0, 1], [0, 1], color='red', linestyle='--', lw=2, label='Random Guessing')\n",
    "    plt.xlabel('False Positive Rate (FPR)')\n",
    "    plt.ylabel('True Positive Rate (TPR)')\n",
    "    plt.title(f\"ROC Curve for {title} Model\", fontsize=16, pad=20)\n",
    "    plt.legend(loc='lower right')\n",
    "    plt.show()\n",
    "\n",
    "    \n",
    "    feature_names = preprocessor.named_transformers_['text'].get_feature_names_out().tolist() + engineered_features\n",
    "    \n",
    "    n_features = 25\n",
    "\n",
    "    # --------------------------------------------------------\n",
    "    if hasattr(model, 'feature_importances_'):\n",
    "        coefficients = model.feature_importances_\n",
    "    elif hasattr(model.coef_, 'toarray'):\n",
    "        coefficients = model.coef_.toarray().flatten()\n",
    "    elif hasattr(model, 'coef_'):\n",
    "        coefficients = model.coef_.flatten()\n",
    "    else:\n",
    "        return\n",
    "    # --------------------------------------------------------\n",
    "\n",
    "    importance_df = pd.DataFrame(feature_names, columns=['Word'])\n",
    "    importance_df['Importance'] = np.e**(abs(coefficients))\n",
    "    importance_df['Coefficient'] = coefficients\n",
    "\n",
    "    feature_importance = importance_df.sort_values(\n",
    "        by = [\"Importance\"], ascending=False\n",
    "    ).head(n_features)\n",
    "\n",
    "    fig, ax = plt.subplots(figsize=(15,10), ncols=2)\n",
    "    ax[0].set_title(f'Coefficients for {title} Model')\n",
    "    ax[0].set_ylabel('Word')\n",
    "    ax[0].set_xlabel('Coefficient')\n",
    "    sns.barplot(x='Coefficient', y='Word', data=feature_importance, \n",
    "                palette='coolwarm', ax=ax[0])\n",
    "    #plotting feature importances\n",
    "    ax[1].set_title(f'Feature Importances for {title} Model')\n",
    "    ax[1].set_ylabel('Word')\n",
    "    ax[1].set_xlabel('Importance')\n",
    "    sns.barplot(x='Importance', y='Word', data=feature_importance, \n",
    "                palette='coolwarm', ax=ax[1])\n",
    "    plt.tight_layout()\n",
    "    \n",
    "\n",
    "\n"
   ]
  },
  {
   "cell_type": "code",
   "execution_count": null,
   "id": "8e72ca6b",
   "metadata": {},
   "outputs": [],
   "source": [
    "def tune_model_2(model, param_grid):\n",
    "    pipeline = Pipeline([('preprocessor', preprocessor), ('model', model)])\n",
    "    param_grid = param_grid\n",
    "    gridsearch = GridSearchCV(\n",
    "        estimator=pipeline,\n",
    "        param_grid = param_grid,\n",
    "        cv=5,\n",
    "        scoring='roc_auc',\n",
    "    )\n",
    "    gridsearch.fit(X_train,  y_train)\n",
    "    gridsearch.best_params_\n",
    "    return gridsearch.best_params_"
   ]
  },
  {
   "cell_type": "markdown",
   "id": "cb74daf8",
   "metadata": {},
   "source": [
    "## Decision tree"
   ]
  },
  {
   "cell_type": "code",
   "execution_count": null,
   "id": "b209f4f0",
   "metadata": {
    "scrolled": false
   },
   "outputs": [],
   "source": [
    "%%time\n",
    "\n",
    "run_model_2(\n",
    "    DecisionTreeClassifier(random_state=SEED, class_weight=class_weight),\n",
    "    'Decision Tree'\n",
    ")"
   ]
  },
  {
   "cell_type": "markdown",
   "id": "9aed2231",
   "metadata": {},
   "source": [
    "## Tuning the decision tree model"
   ]
  },
  {
   "cell_type": "code",
   "execution_count": null,
   "id": "40c3f144",
   "metadata": {},
   "outputs": [],
   "source": [
    "%%time\n",
    "\n",
    "if do_grids == True:\n",
    "    best_params_ = tune_model_2(DecisionTreeClassifier(random_state=SEED, class_weight=class_weight), param_grid={\n",
    "        'model__criterion': ['gini', 'entropy'],\n",
    "        'model__max_depth': [10, 20, None],\n",
    "        'model__min_samples_leaf': [1, 2, 3]\n",
    "    })\n",
    "else:\n",
    "    best_params_ = \"{'model__criterion': 'gini', 'model__max_depth': 20, 'model__min_samples_leaf': 2}\"\n",
    "print(best_params_)"
   ]
  },
  {
   "cell_type": "markdown",
   "id": "525f989f",
   "metadata": {},
   "source": [
    "## Decision tree — tuned"
   ]
  },
  {
   "cell_type": "code",
   "execution_count": null,
   "id": "3b8953aa",
   "metadata": {},
   "outputs": [],
   "source": [
    "%%time\n",
    "\n",
    "run_model_2(DecisionTreeClassifier(\n",
    "    random_state=SEED,\n",
    "    class_weight=class_weight,\n",
    "    criterion='gini',\n",
    "    max_depth=20,\n",
    "    min_samples_leaf=2\n",
    "),\n",
    "           'Tuned Decision Tree'\n",
    "           )"
   ]
  },
  {
   "cell_type": "markdown",
   "id": "e2b5675c",
   "metadata": {},
   "source": [
    "## Random forest"
   ]
  },
  {
   "cell_type": "code",
   "execution_count": null,
   "id": "7a6a9308",
   "metadata": {},
   "outputs": [],
   "source": [
    "%%time\n",
    "\n",
    "run_model_2(\n",
    "    RandomForestClassifier(random_state=SEED, class_weight=class_weight),\n",
    "    'Random Forest'\n",
    ")"
   ]
  },
  {
   "cell_type": "markdown",
   "id": "0d2090d6",
   "metadata": {},
   "source": [
    "## Tuning the random forest model"
   ]
  },
  {
   "cell_type": "code",
   "execution_count": null,
   "id": "577ced20",
   "metadata": {},
   "outputs": [],
   "source": [
    "%%time\n",
    "\n",
    "if do_grids == True:\n",
    "    best_params_ = tune_model_2(RandomForestClassifier(random_state=SEED, class_weight=class_weight), param_grid={\n",
    "        'model__criterion': ['gini', 'entropy'],\n",
    "        'model__max_depth': [10, 20, None],\n",
    "        'model__min_samples_leaf': [1, 2, 3]\n",
    "    })\n",
    "else:\n",
    "    best_params_ = \"{'model__criterion': 'entropy', 'model__max_depth': None, 'model__min_samples_leaf': 1}\"\n",
    "print(best_params_)"
   ]
  },
  {
   "cell_type": "markdown",
   "id": "539730c2",
   "metadata": {},
   "source": [
    "## Random forest — tuned"
   ]
  },
  {
   "cell_type": "code",
   "execution_count": null,
   "id": "51a58431",
   "metadata": {},
   "outputs": [],
   "source": [
    "%%time\n",
    "\n",
    "run_model_2(RandomForestClassifier(\n",
    "    random_state=SEED,\n",
    "    class_weight=class_weight,\n",
    "    criterion='entropy',\n",
    "    max_depth=None,\n",
    "    min_samples_leaf=1\n",
    "),\n",
    "           'Tuned Random Forest'\n",
    "           )"
   ]
  },
  {
   "cell_type": "markdown",
   "id": "b69aa1c2",
   "metadata": {},
   "source": [
    "## Logistic regression"
   ]
  },
  {
   "cell_type": "code",
   "execution_count": null,
   "id": "dde17472",
   "metadata": {},
   "outputs": [],
   "source": [
    "%%time\n",
    "\n",
    "run_model_2(\n",
    "    LogisticRegression(random_state=SEED, class_weight=class_weight, max_iter=1000),\n",
    "    'Logistic Regression'\n",
    ")"
   ]
  },
  {
   "cell_type": "markdown",
   "id": "21307bfd",
   "metadata": {},
   "source": [
    "## Tuning the logistic regression model"
   ]
  },
  {
   "cell_type": "markdown",
   "id": "b4719cba",
   "metadata": {},
   "source": [
    "## Logistic regression — tuned"
   ]
  },
  {
   "cell_type": "code",
   "execution_count": null,
   "id": "157dfa04",
   "metadata": {},
   "outputs": [],
   "source": [
    "%%time\n",
    "\n",
    "run_model_2(LogisticRegression(\n",
    "    random_state=SEED,\n",
    "    class_weight=class_weight,\n",
    "    max_iter=1000,\n",
    "    C=10,\n",
    "    penalty='l2',\n",
    "    solver='liblinear'\n",
    "),\n",
    "           'Tuned Logistic Regression'\n",
    "           )"
   ]
  },
  {
   "cell_type": "markdown",
   "id": "29a6dba7",
   "metadata": {},
   "source": [
    "## XGBoost"
   ]
  },
  {
   "cell_type": "code",
   "execution_count": null,
   "id": "8ef799d3",
   "metadata": {
    "scrolled": false
   },
   "outputs": [],
   "source": [
    "%%time\n",
    "\n",
    "run_model_2(\n",
    "    XGBClassifier(random_state=SEED, class_weight=class_weight),\n",
    "    'XGBoost'\n",
    ")"
   ]
  },
  {
   "cell_type": "markdown",
   "id": "f89dfe4e",
   "metadata": {},
   "source": [
    "- Decision Tree: ROC-AUC 0.69 || Rec 55% || Acc 73%\n",
    "- ... Tuned: ROC-AUC 0.75 || Rec 80% || Acc 71%\n",
    "- Random Forest: ROC-AUC 0.91 || Rec 61% || Acc 82%\n",
    "- ... Tuned: ROC-AUC 0.93 || Rec 63% || Acc 83%\n",
    "- Logistic Regression: ROC-AUC 0.93 || Rec 96% || Acc 77%\n",
    "- **... Tuned: ROC-AUC 0.95 || Rec 91% || Acc 86%**\n",
    "- XGBoost: ROC-AUC 0.92 || Rec 75% || Acc 85%"
   ]
  },
  {
   "cell_type": "markdown",
   "id": "4f729eae",
   "metadata": {},
   "source": [
    "# Evaluation"
   ]
  },
  {
   "cell_type": "markdown",
   "id": "77d21e02",
   "metadata": {},
   "source": [
    "# Recommendations\n",
    "\n",
    "Don't know where else to put this right now. At least one review, 27228, is glowingly positive but gave a 1.0 rating, clearly misunderstanding the rating system.\n",
    "\n",
    "- Don't sleep on the patch. Women feel strongly about it, and they like that it makes their breasts larger."
   ]
  },
  {
   "cell_type": "markdown",
   "id": "27c33ed5",
   "metadata": {},
   "source": [
    "## Use a different rating system\n",
    "\n",
    "No more than 5 points."
   ]
  },
  {
   "cell_type": "markdown",
   "id": "16e87b6b",
   "metadata": {},
   "source": [
    "# Further Inquiry\n",
    "\n",
    "- Recommendation algorithm\n",
    "- ~~word count~~\n",
    "- ~~character count~~\n",
    "- ~~words in all caps~~\n",
    "- ~~average word length~~\n",
    "- whether words are in English (spelled correctly)\n",
    "- ~~whether it includes characters such as exclamation points, question marks~~\n",
    "- (especially repeatedly), and emoticons\n",
    "- ~~whether it mentions the brand~~\n",
    "- or generic name in the review\n",
    "- whether it uses slang versus technical language\n",
    "- whether it mentions touchy subjects such as abortion\n",
    "- ngrams\n",
    "- does it mention switching treatments, comparison to other methods\n",
    "- ~~\"but\" count~~\n",
    "- features that indicate whether certain side effects are discussed, e.g. weight gain, acne"
   ]
  },
  {
   "cell_type": "code",
   "execution_count": null,
   "id": "9029527e",
   "metadata": {},
   "outputs": [],
   "source": [
    "if light_frame == False:\n",
    "    filepath = Path('../data/preprocessed.csv')\n",
    "    filepath.parent.mkdir(parents=True, exist_ok=True)\n",
    "    df.to_csv(filepath)"
   ]
  },
  {
   "cell_type": "code",
   "execution_count": null,
   "id": "9c9c5445",
   "metadata": {},
   "outputs": [],
   "source": [
    "%store engineered_features"
   ]
  }
 ],
 "metadata": {
  "kernelspec": {
   "display_name": "Python (learn-env)",
   "language": "python",
   "name": "learn-env"
  },
  "language_info": {
   "codemirror_mode": {
    "name": "ipython",
    "version": 3
   },
   "file_extension": ".py",
   "mimetype": "text/x-python",
   "name": "python",
   "nbconvert_exporter": "python",
   "pygments_lexer": "ipython3",
   "version": "3.8.5"
  }
 },
 "nbformat": 4,
 "nbformat_minor": 5
}
