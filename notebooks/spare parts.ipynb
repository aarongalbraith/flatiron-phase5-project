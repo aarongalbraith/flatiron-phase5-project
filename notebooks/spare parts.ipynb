{
 "cells": [
  {
   "cell_type": "markdown",
   "id": "ab219eb6",
   "metadata": {},
   "source": [
    "# This notebook currently includes sequences of cells that I do not want to run but might want to incorporate later"
   ]
  },
  {
   "cell_type": "markdown",
   "id": "820cc202",
   "metadata": {},
   "source": [
    "# sex slang\n",
    "\n",
    "Note that this is very flawed and I should spot check any results to see if that's actually what they're saying."
   ]
  },
  {
   "cell_type": "code",
   "execution_count": null,
   "id": "eca12117",
   "metadata": {},
   "outputs": [],
   "source": [
    "def sex_slang_feature(review):\n",
    "    if re.search('(cum|cuming|cumming|come|came|cummed|comed|cumed) +(in)', review) or \\\n",
    "    re.search('(he|him|his) +(cum|cuming|cumming|come|came|cummed|comed|cumed)', review):\n",
    "        return True\n",
    "    else:\n",
    "        return False\n",
    "\n",
    "df['sex_slang'] = df.review_lower.apply(sex_slang_feature)\n",
    "\n",
    "df.sex_slang.value_counts()"
   ]
  },
  {
   "cell_type": "code",
   "execution_count": null,
   "id": "26aa3593",
   "metadata": {},
   "outputs": [],
   "source": [
    "df[df.review_lower.str.contains('(shot|shoot)(e)?(ing)?(ed)? +(in)')].index[:25]"
   ]
  },
  {
   "cell_type": "code",
   "execution_count": null,
   "id": "1c8de7ab",
   "metadata": {},
   "outputs": [],
   "source": [
    "def sex_slang_feature(review):\n",
    "    if re.search('((com+|cum+|cam+|jiz+|shot|shoot)(e)?(ing)?(ed)?) +(in) +(me|my)', review) or \\\n",
    "    re.search('(he|him|his) +(cum|cuming|cumming|come|came|cummed|comed|cumed)', review):\n",
    "        return True\n",
    "    else:\n",
    "        return False\n",
    "\n",
    "df['sex_slang'] = df.review_lower.apply(sex_slang_feature)\n",
    "\n",
    "df.sex_slang.value_counts()"
   ]
  },
  {
   "cell_type": "code",
   "execution_count": null,
   "id": "138a7699",
   "metadata": {},
   "outputs": [],
   "source": [
    "df[df.sex_slang].usefulCount.mean()"
   ]
  },
  {
   "cell_type": "code",
   "execution_count": null,
   "id": "dedd78bd",
   "metadata": {},
   "outputs": [],
   "source": [
    "df[~df.sex_slang].usefulCount.mean()"
   ]
  },
  {
   "cell_type": "code",
   "execution_count": null,
   "id": "bcce17cf",
   "metadata": {},
   "outputs": [],
   "source": [
    "def sex_slang_feature(review):\n",
    "    if re.search('ejacul', review):\n",
    "        return True\n",
    "    else:\n",
    "        return False\n",
    "\n",
    "df['sex_slang'] = df.review_lower.apply(sex_slang_feature)\n",
    "\n",
    "df.sex_slang.value_counts()"
   ]
  },
  {
   "cell_type": "markdown",
   "id": "04fb854c",
   "metadata": {},
   "source": [
    "# not sure what this little section is"
   ]
  },
  {
   "cell_type": "code",
   "execution_count": null,
   "id": "18557d27",
   "metadata": {},
   "outputs": [],
   "source": [
    "# make list of all tweet texts\n",
    "all_reviews = df.review.to_list()"
   ]
  },
  {
   "cell_type": "code",
   "execution_count": null,
   "id": "2c12cf29",
   "metadata": {},
   "outputs": [],
   "source": [
    "# obtain the standard list of stopwords\n",
    "nltk.download('stopwords', quiet=True)\n",
    "# start our own list of stopwords with these words\n",
    "stop_list = stopwords.words('english')\n",
    "# add to this list some twitter-specific terms\n",
    "stop_list.extend(['sxsw', 'link', 'rt'])\n",
    "# add punctuation characters\n",
    "for char in string.punctuation:\n",
    "    stop_list.append(char)\n",
    "# add empty string\n",
    "stop_list.extend(['', 'ha', 'wa'])"
   ]
  },
  {
   "cell_type": "code",
   "execution_count": null,
   "id": "64836a26",
   "metadata": {},
   "outputs": [],
   "source": [
    "# a function that takes a list of reviews and 1) tokenizes them, 2) lemmatizes them, and 3) removes stopwords\n",
    "# this function returns a one-dimensional list of tokens\n",
    "def make_tokens(reviews):\n",
    "    # make list of tokens\n",
    "    tokens = nltk.word_tokenize(','.join(reviews))\n",
    "    # lemmatize tokens\n",
    "    tokens_lemmatized = [lemmatizer.lemmatize(word) for word in tokens]\n",
    "    # stop tokens\n",
    "    tokens_stopped = [word for word in tokens_lemmatized if \\\n",
    "                      word not in stop_list]\n",
    "    return tokens_stopped"
   ]
  },
  {
   "cell_type": "code",
   "execution_count": null,
   "id": "5134c20b",
   "metadata": {},
   "outputs": [],
   "source": [
    "df['logUsefulCount'] = df.usefulCount.apply(lambda x: np.log(x) if x > 0 else 0)"
   ]
  },
  {
   "cell_type": "markdown",
   "id": "fc113d7f",
   "metadata": {},
   "source": [
    "# rudimentary word cloud maker"
   ]
  },
  {
   "cell_type": "code",
   "execution_count": null,
   "id": "0dea1ff0",
   "metadata": {},
   "outputs": [],
   "source": [
    "df_bookmark_3 = df.copy()"
   ]
  },
  {
   "cell_type": "code",
   "execution_count": null,
   "id": "f7413cb9",
   "metadata": {},
   "outputs": [],
   "source": [
    "df = df[df.condition == 'Birth Control']\n",
    "\n",
    "def sentiment_fix(rating):\n",
    "    if rating > 8:\n",
    "        return 1\n",
    "    elif rating < 2:\n",
    "        return 0\n",
    "    else:\n",
    "        return None\n",
    "\n",
    "df['sentiment'] = df.rating.apply(lambda x: sentiment_fix(x))\n",
    "\n",
    "df_pos = df[df.sentiment == 1]\n",
    "\n",
    "df_neg = df[df.sentiment == 0]"
   ]
  },
  {
   "cell_type": "code",
   "execution_count": null,
   "id": "2eda16fd",
   "metadata": {},
   "outputs": [],
   "source": [
    "# make list of all reviews\n",
    "reviews_pos = df_pos.review_lower.to_list()\n",
    "reviews_neg = df_neg.review_lower.to_list()"
   ]
  },
  {
   "cell_type": "code",
   "execution_count": null,
   "id": "3dca910d",
   "metadata": {},
   "outputs": [],
   "source": [
    "# # make tokenizer\n",
    "# tokenizer = TweetTokenizer(\n",
    "#     preserve_case=False,\n",
    "#     strip_handles=True\n",
    "# )\n",
    "\n",
    "# create list of tokens from data set\n",
    "tokens_pos = word_tokenize(','.join(reviews_pos))\n",
    "tokens_neg = word_tokenize(','.join(reviews_neg))\n",
    "\n",
    "\n",
    "# tokens = [word for word in tokens]"
   ]
  },
  {
   "cell_type": "code",
   "execution_count": null,
   "id": "c0800e43",
   "metadata": {},
   "outputs": [],
   "source": [
    "# make lemmatizer\n",
    "lemmatizer = WordNetLemmatizer()\n",
    "\n",
    "# lemmatize the list of words\n",
    "tokens_lemmatized_pos = [lemmatizer.lemmatize(word) for word in tokens_pos]\n",
    "tokens_lemmatized_neg = [lemmatizer.lemmatize(word) for word in tokens_neg]"
   ]
  },
  {
   "cell_type": "code",
   "execution_count": null,
   "id": "ec9ca8a3",
   "metadata": {},
   "outputs": [],
   "source": [
    "# show the most frequently occurring tokens\n",
    "FreqDist(tokens_lemmatized_pos).most_common(25)"
   ]
  },
  {
   "cell_type": "code",
   "execution_count": null,
   "id": "2710133b",
   "metadata": {},
   "outputs": [],
   "source": [
    "# show the most frequently occurring tokens\n",
    "FreqDist(tokens_lemmatized_neg).most_common(25)"
   ]
  },
  {
   "cell_type": "code",
   "execution_count": null,
   "id": "03cc1fd5",
   "metadata": {},
   "outputs": [],
   "source": [
    "negatives = ['no', 'not', \"don't\", \"aren't\", \"couldn't\", \"didn't\", \"doesn't\", \"hadn't\", \"hasn't\", \"haven't\", \\\n",
    "             \"isn't\", \"wasn't\", \"weren't\", \"won't\", \"wouldn't\"]"
   ]
  },
  {
   "cell_type": "code",
   "execution_count": null,
   "id": "23842429",
   "metadata": {},
   "outputs": [],
   "source": [
    "# obtain the standard list of stopwords\n",
    "nltk.download('stopwords', quiet=True)\n",
    "# start our own list of stopwords with these words\n",
    "stop_list = [word for word in stopwords.words('english') if word not in negatives]\n",
    "# add punctuation characters\n",
    "for char in string.punctuation:\n",
    "    stop_list.append(char)\n",
    "# add empty string\n",
    "stop_list.extend(['', 'ha', 'wa'])"
   ]
  },
  {
   "cell_type": "code",
   "execution_count": null,
   "id": "608d5ad2",
   "metadata": {},
   "outputs": [],
   "source": [
    "stop_list"
   ]
  },
  {
   "cell_type": "code",
   "execution_count": null,
   "id": "5fc3dc68",
   "metadata": {},
   "outputs": [],
   "source": [
    "# make stopped list of tokens\n",
    "tokens_stopped_pos = [word for word in tokens_lemmatized_pos if word not in stop_list]\n",
    "tokens_stopped_neg = [word for word in tokens_lemmatized_neg if word not in stop_list]"
   ]
  },
  {
   "cell_type": "code",
   "execution_count": null,
   "id": "58c51e0f",
   "metadata": {},
   "outputs": [],
   "source": [
    "# show the most frequently occurring tokens\n",
    "FreqDist(tokens_stopped_pos).most_common(25)"
   ]
  },
  {
   "cell_type": "code",
   "execution_count": null,
   "id": "9e98ef84",
   "metadata": {},
   "outputs": [],
   "source": [
    "# show the most frequently occurring tokens\n",
    "FreqDist(tokens_stopped_neg).most_common(25)"
   ]
  },
  {
   "cell_type": "code",
   "execution_count": null,
   "id": "72d63a8c",
   "metadata": {},
   "outputs": [],
   "source": [
    "# word cloud of stopped words\n",
    "plot_wordcloud(make_wordcloud(tokens_stopped_pos))"
   ]
  },
  {
   "cell_type": "code",
   "execution_count": null,
   "id": "cfee8232",
   "metadata": {},
   "outputs": [],
   "source": [
    "# word cloud of stopped words\n",
    "plot_wordcloud(make_wordcloud(tokens_stopped_neg, colormap='Reds'))"
   ]
  },
  {
   "cell_type": "code",
   "execution_count": null,
   "id": "6add545e",
   "metadata": {},
   "outputs": [],
   "source": [
    "df.groupby('rating').usefulCount.median()"
   ]
  },
  {
   "cell_type": "code",
   "execution_count": null,
   "id": "4438dacd",
   "metadata": {},
   "outputs": [],
   "source": [
    "len(df)"
   ]
  },
  {
   "cell_type": "code",
   "execution_count": null,
   "id": "653cff9f",
   "metadata": {},
   "outputs": [],
   "source": [
    "df_bookmark_4 = df.copy()"
   ]
  },
  {
   "cell_type": "code",
   "execution_count": null,
   "id": "057872e6",
   "metadata": {},
   "outputs": [],
   "source": [
    "# df = df_bookmark_4.copy()"
   ]
  },
  {
   "cell_type": "markdown",
   "id": "91a5c5b7",
   "metadata": {},
   "source": [
    "# rudimentary modeling attempts"
   ]
  },
  {
   "cell_type": "markdown",
   "id": "f38396a6",
   "metadata": {},
   "source": [
    "BEFORE the train-test split, I need to establish the final version of my X and y. I can vectorize the text feature AFTER the train-test split, but that part is going to be the same either way, so I might as well do that BEFORE. And I also want to add engineered features, which will not factor into the vectorization.\n",
    "\n",
    "This also means that I need to settle on stop words, etc. BEFORE I vectorize, BEFORE I add engineered features, BEFORE I train-test split. Perhaps this could all be customized within various models later, but I don't know how to incorporate all of those steps into a pipeline.\n",
    "\n",
    "Well, now I'm seeing that many options are possible, but \n",
    "\n",
    "Also, I need to establish target values dependent on my choice of thresholds for determining \"useful\" v. \"not useful\". This needs to happend before the train-test split."
   ]
  },
  {
   "cell_type": "markdown",
   "id": "f662f2f2",
   "metadata": {},
   "source": [
    "- establish one df with a binary (?) target"
   ]
  },
  {
   "cell_type": "code",
   "execution_count": 195,
   "id": "e647c41c",
   "metadata": {},
   "outputs": [],
   "source": [
    "useful_threshold = [3, 10]\n",
    "\n",
    "df.drop(df[\n",
    "    (df.usefulCount > useful_threshold[0]) & \\\n",
    "    (df.usefulCount < useful_threshold[1])\n",
    "].index, inplace=True)\n",
    "\n",
    "df['target'] = df.usefulCount.apply(lambda x: 1 if x >= useful_threshold[1] else 0)"
   ]
  },
  {
   "cell_type": "code",
   "execution_count": null,
   "id": "4889fdf9",
   "metadata": {},
   "outputs": [],
   "source": [
    "df.target.value_counts()"
   ]
  },
  {
   "cell_type": "markdown",
   "id": "abeb6cc8",
   "metadata": {},
   "source": [
    "- establish stop list"
   ]
  },
  {
   "cell_type": "code",
   "execution_count": null,
   "id": "88f6d7cc",
   "metadata": {},
   "outputs": [],
   "source": [
    "# obtain the standard list of stopwords\n",
    "nltk.download('stopwords', quiet=True)\n",
    "# start our own list of stopwords with these words\n",
    "stop_list = stopwords.words('english')\n",
    "# add punctuation characters\n",
    "for char in string.punctuation:\n",
    "    stop_list.append(char)\n",
    "# add empty string\n",
    "stop_list.extend([''])"
   ]
  },
  {
   "cell_type": "markdown",
   "id": "7afc5e55",
   "metadata": {},
   "source": [
    "- establish function that tokenizes, removes stop words, lemmatizes, and performs any other necessary operations"
   ]
  },
  {
   "cell_type": "code",
   "execution_count": null,
   "id": "d43ce331",
   "metadata": {},
   "outputs": [],
   "source": [
    "# make tokenizer\n",
    "def custom_tokenize(document):\n",
    "    \n",
    "    # shift everything to lower case\n",
    "    document = document.lower()\n",
    "\n",
    "    # create list of tokens from data set\n",
    "    tokens = nltk.tokenize.word_tokenize(document, language='english', preserve_line=False)\n",
    "    \n",
    "    # remove stop words\n",
    "    tokens = [word for word in tokens if not word in stop_list]\n",
    "\n",
    "    # instantiate lemmatizer\n",
    "    lemmatizer = WordNetLemmatizer()\n",
    "\n",
    "    # lemmatize the list of words\n",
    "    tokens_lemmatized = [lemmatizer.lemmatize(word) for word in tokens]\n",
    "    \n",
    "    return tokens_lemmatized"
   ]
  },
  {
   "cell_type": "markdown",
   "id": "faeb02ca",
   "metadata": {},
   "source": [
    "- train test split"
   ]
  },
  {
   "cell_type": "markdown",
   "id": "3dfe35fa",
   "metadata": {},
   "source": [
    "## Train and test sets\n",
    "\n",
    "We'll split the data into train and test sets."
   ]
  },
  {
   "cell_type": "code",
   "execution_count": null,
   "id": "4df9a93a",
   "metadata": {},
   "outputs": [],
   "source": [
    "# split the data into target (sentiment) and predictor (text)\n",
    "X, y = df['review'], df['target']\n",
    "\n",
    "# split the data into train and test sets\n",
    "# set random state for reproducibility\n",
    "X_train, X_test, y_train, y_test = train_test_split(X, y, test_size=0.2, random_state=SEED)"
   ]
  },
  {
   "cell_type": "markdown",
   "id": "c4c0f30a",
   "metadata": {},
   "source": [
    "- follow modeling examples, pipeline, etc."
   ]
  },
  {
   "cell_type": "markdown",
   "id": "0ea57eb6",
   "metadata": {},
   "source": [
    "## Results function\n",
    "\n",
    "We'll create a function that takes the pipeline we've created and displays only the results we're interested in."
   ]
  },
  {
   "cell_type": "code",
   "execution_count": null,
   "id": "b04fda51",
   "metadata": {},
   "outputs": [],
   "source": [
    "def model_results(pipeline):\n",
    "    # fit the pipeline to the training data\n",
    "    pipeline.fit(X_train, y_train)\n",
    "    # generate predictions for the test data\n",
    "    y_pred = pipeline.predict(X_test)\n",
    "    # display the training and test accuracy scores\n",
    "    print(f\"Training Score: {round(pipeline.score(X_train, y_train),4)} \\\n",
    "    \\nTest Score:     {round(pipeline.score(X_test, y_test),4)}\")\n",
    "    \n",
    "    # plot the normalized confusion matrix\n",
    "    plot_confusion_matrix(estimator=pipeline, X=X_test, y_true=y_test, cmap='Greens', \n",
    "                          normalize='true', \n",
    "                          display_labels=['Non-positive', 'Positive'])"
   ]
  },
  {
   "cell_type": "markdown",
   "id": "e874a357",
   "metadata": {},
   "source": [
    "## Naive Bayes (BASELINE MODEL)\n",
    "### Rough model"
   ]
  },
  {
   "cell_type": "code",
   "execution_count": null,
   "id": "7d2def77",
   "metadata": {},
   "outputs": [],
   "source": [
    "# Multinomial Naive Bayes\n",
    "\n",
    "# create pipeline\n",
    "pipeline_nb = Pipeline([\n",
    "    # set vectorizer\n",
    "    ('vectorizer', TfidfVectorizer(\n",
    "        tokenizer = custom_tokenize,\n",
    "        stop_words = stop_list\n",
    "    )),\n",
    "    # set classifier\n",
    "    ('clf', MultinomialNB())\n",
    "])\n",
    "print('Naive Bayes')\n",
    "# create model from pipeline and display results\n",
    "model_results(pipeline_nb)"
   ]
  },
  {
   "cell_type": "code",
   "execution_count": 248,
   "id": "3f694bad",
   "metadata": {
    "ExecuteTime": {
     "end_time": "2021-06-25T19:28:23.500722Z",
     "start_time": "2021-06-25T19:28:23.377775Z"
    }
   },
   "outputs": [],
   "source": [
    "#defining a function to extract and plot feature importances from best models\n",
    "import math\n",
    "import seaborn as sns\n",
    "def plot_feature_importance(clf_pipe, n_features, title):\n",
    "    \"\"\"Function extracts classifier feature importances from a given pipeline object\n",
    "    and displays top n_features. \n",
    "    -------------------------------\n",
    "    Arguments:\n",
    "    clf_pipe: Pipeline object that contains the classifier. Feature importances will be\n",
    "    extracted from this pipeline's classifier.\n",
    "    n_features: top number of features to be plotted\n",
    "    title: title information for axes containing name of type of model\"\"\"\n",
    "    #extracting feature importance information from pipeline\n",
    "#     feature_names = clf_pipe['preprocessor'].get_feature_names()\n",
    "#     coefs = clf_pipe['clf'].coef_[0]\n",
    "    \n",
    "    feature_names = pipeline.named_steps['preprocessor'].named_transformers_['text'].get_feature_names() + engineered_features\n",
    "\n",
    "    coefs = model.coef_.toarray().flatten()  # Assuming linear kernel and using a sparse matrix\n",
    "    \n",
    "    #parsing information to df\n",
    "    importance_df = pd.DataFrame(feature_names, columns=['Word'])\n",
    "    importance_df['Importance'] = math.e**(abs(coefs))\n",
    "    importance_df['Coefficient'] = coefs\n",
    "\n",
    "    #sorting to find top n_features\n",
    "    feature_importance = importance_df.sort_values(by = [\"Importance\"], \n",
    "                                                   ascending=False).head(n_features)\n",
    "    \n",
    "    #plotting coefficients\n",
    "    fig, ax = plt.subplots(figsize=(15,10), ncols=2)\n",
    "    ax[0].set_title(f'Coefficients for {title}')\n",
    "    ax[0].set_ylabel('Word')\n",
    "    ax[0].set_xlabel('Coefficient')\n",
    "    sns.barplot(x='Coefficient', y='Word', data=feature_importance, \n",
    "                palette='coolwarm', ax=ax[0])\n",
    "    #plotting feature importances\n",
    "    ax[1].set_title(f'Feature Importances for {title}')\n",
    "    ax[1].set_ylabel('Word')\n",
    "    ax[1].set_xlabel('Importance')\n",
    "    sns.barplot(x='Importance', y='Word', data=feature_importance, \n",
    "                palette='coolwarm', ax=ax[1])\n",
    "    plt.tight_layout();"
   ]
  },
  {
   "cell_type": "markdown",
   "id": "e9cf0f24",
   "metadata": {},
   "source": [
    "### Feature Importances - Tuned Logistic Regression Model"
   ]
  },
  {
   "cell_type": "code",
   "execution_count": 249,
   "id": "caf85f1f",
   "metadata": {
    "ExecuteTime": {
     "end_time": "2021-06-25T19:28:24.236294Z",
     "start_time": "2021-06-25T19:28:23.501717Z"
    }
   },
   "outputs": [
    {
     "data": {
      "image/png": "[encoded data removed]",
      "text/plain": [
       "<Figure size 1080x720 with 2 Axes>"
      ]
     },
     "metadata": {
      "needs_background": "light"
     },
     "output_type": "display_data"
    }
   ],
   "source": [
    "plot_feature_importance(pipeline, 25, 'Tuned Logistic Regression Model')"
   ]
  },
  {
   "cell_type": "markdown",
   "id": "a0cb562f",
   "metadata": {},
   "source": [
    "# importing code from chat gpt\n",
    "\n",
    "Adjustments:\n",
    "- replace \"text_column\" with \"review_lower\"\n",
    "- replace numerical columns with a list\n",
    "- adjust stop words\n",
    "- choose ngram range"
   ]
  },
  {
   "cell_type": "markdown",
   "id": "deeef29a",
   "metadata": {},
   "source": [
    "The code below is the best working version of the chat gpt code I've found to run the model.\n",
    "\n",
    "I may wish to spend some time editing this down to something sleeker? Or something more similar to the version I cribbed previously for the apple tweets project.\n",
    "\n",
    "The challenge has been to pair the code below with a way to display the feature importances.\n",
    "\n",
    "At this point I have only been able to generate the coefficients when SVC uses a \"linear kernel\". When I toggled this feature to \"linear\", I also added \"probability=True\", and that may have been responsible for the code taking an especially long time to run.\n",
    "\n",
    "Perhaps I can remove the probability part. In any case, there should be a way to make this all run more smoothly and faster so that I can substitute other models easily."
   ]
  },
  {
   "cell_type": "code",
   "execution_count": 233,
   "id": "eb63809a",
   "metadata": {},
   "outputs": [
    {
     "name": "stdout",
     "output_type": "stream",
     "text": [
      "Accuracy: 65.34%\n"
     ]
    }
   ],
   "source": [
    "from sklearn.compose import ColumnTransformer\n",
    "from sklearn.pipeline import Pipeline\n",
    "from sklearn.feature_extraction.text import TfidfVectorizer\n",
    "from sklearn.preprocessing import StandardScaler\n",
    "from sklearn.impute import SimpleImputer\n",
    "from sklearn.svm import SVC  # Use the model of your choice\n",
    "\n",
    "# Assume df is your pandas DataFrame with 'text_column', 'numerical_column_1', 'numerical_column_2', and 'target_column'\n",
    "\n",
    "# Split the data\n",
    "X_train, X_test, y_train, y_test = train_test_split(df[['review'] + engineered_features], df['target'], test_size=0.2, random_state=SEED)\n",
    "\n",
    "# Define the preprocessing steps\n",
    "text_preprocessor = TfidfVectorizer(max_features=1000, stop_words=None, ngram_range=(1, 4))\n",
    "numerical_preprocessor = StandardScaler()\n",
    "\n",
    "# Create a column transformer to apply different preprocessing steps to different columns\n",
    "preprocessor = ColumnTransformer(\n",
    "    transformers=[\n",
    "        ('text', text_preprocessor, 'review'),\n",
    "        ('numerical', numerical_preprocessor, engineered_features)\n",
    "    ]\n",
    ")\n",
    "\n",
    "# Create a pipeline with the preprocessing steps and the model\n",
    "model = SVC(kernel='linear', probability=True)  # Replace with your model of choice\n",
    "pipeline = Pipeline([\n",
    "    ('preprocessor', preprocessor),\n",
    "    ('model', model)\n",
    "])\n",
    "\n",
    "# Fit and evaluate the pipeline\n",
    "pipeline.fit(X_train, y_train)\n",
    "accuracy = pipeline.score(X_test, y_test)\n",
    "print(f'Accuracy: {accuracy * 100:.2f}%')\n"
   ]
  },
  {
   "cell_type": "code",
   "execution_count": 199,
   "id": "607ee6b2",
   "metadata": {},
   "outputs": [
    {
     "data": {
      "text/plain": [
       "target\n",
       "0    0.607856\n",
       "1    0.392144\n",
       "Name: proportion, dtype: float64"
      ]
     },
     "execution_count": 199,
     "metadata": {},
     "output_type": "execute_result"
    }
   ],
   "source": [
    "y_test.value_counts(normalize=True)"
   ]
  },
  {
   "cell_type": "code",
   "execution_count": 224,
   "id": "c36331c6",
   "metadata": {},
   "outputs": [],
   "source": [
    "text_feature_names = pipeline.named_steps['preprocessor'].named_transformers_['text'].get_feature_names()"
   ]
  },
  {
   "cell_type": "code",
   "execution_count": 221,
   "id": "12c59b1e",
   "metadata": {},
   "outputs": [
    {
     "data": {
      "text/plain": [
       "'preprocessor'"
      ]
     },
     "execution_count": 221,
     "metadata": {},
     "output_type": "execute_result"
    }
   ],
   "source": [
    "column_transformer_name"
   ]
  },
  {
   "cell_type": "code",
   "execution_count": 241,
   "id": "c5ecd519",
   "metadata": {},
   "outputs": [
    {
     "name": "stdout",
     "output_type": "stream",
     "text": [
      "       Feature  Coefficient\n",
      "660   paragard     3.254091\n",
      "739      skyla    -3.104958\n",
      "728       shot     2.995566\n",
      "531     mirena     2.985670\n",
      "712    reviews     2.807534\n",
      "680       plan     2.779612\n",
      "188     condom     2.653027\n",
      "358      happy     2.398882\n",
      "826  the patch     2.352442\n",
      "490       life     2.340001\n"
     ]
    }
   ],
   "source": [
    "feature_names = pipeline.named_steps['preprocessor'].named_transformers_['text'].get_feature_names() + engineered_features\n",
    "# Extract coefficients from the linear SVM model\n",
    "coefficients = model.coef_.toarray().flatten()  # Assuming linear kernel and using a sparse matrix\n",
    "\n",
    "# Create a DataFrame to display the top features\n",
    "feature_importance_df = pd.DataFrame({'Feature': feature_names, 'Coefficient': coefficients})\n",
    "top_features = feature_importance_df.sort_values(by='Coefficient', key=abs, ascending=False).head(25)\n",
    "\n",
    "print(top_features[:10])\n"
   ]
  },
  {
   "cell_type": "code",
   "execution_count": 43,
   "id": "25efe6ff",
   "metadata": {
    "scrolled": true
   },
   "outputs": [
    {
     "data": {
      "image/png": "[encoded data removed]",
      "text/plain": [
       "<Figure size 720x576 with 1 Axes>"
      ]
     },
     "metadata": {
      "needs_background": "light"
     },
     "output_type": "display_data"
    }
   ],
   "source": [
    "\n",
    "# Sort and display the top features\n",
    "top_features = feature_importance_df.sort_values(by='Coefficient', key=abs, ascending=False).head(25)\n",
    "\n",
    "# Plot the top features\n",
    "plt.figure(figsize=(10, 8))\n",
    "plt.barh(top_features['Feature'], top_features['Coefficient'])\n",
    "plt.xlabel('Coefficient Value')\n",
    "plt.title('Top 25 Feature Importances')\n",
    "plt.show()"
   ]
  },
  {
   "cell_type": "markdown",
   "id": "dd972480",
   "metadata": {},
   "source": [
    "# end"
   ]
  }
 ],
 "metadata": {
  "kernelspec": {
   "display_name": "Python (learn-env)",
   "language": "python",
   "name": "learn-env"
  },
  "language_info": {
   "codemirror_mode": {
    "name": "ipython",
    "version": 3
   },
   "file_extension": ".py",
   "mimetype": "text/x-python",
   "name": "python",
   "nbconvert_exporter": "python",
   "pygments_lexer": "ipython3",
   "version": "3.8.5"
  }
 },
 "nbformat": 4,
 "nbformat_minor": 5
}
