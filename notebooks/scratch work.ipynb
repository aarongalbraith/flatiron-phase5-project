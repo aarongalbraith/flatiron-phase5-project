{
 "cells": [
  {
   "cell_type": "code",
   "execution_count": 1,
   "id": "2c7b5216",
   "metadata": {},
   "outputs": [],
   "source": [
    "import pandas as pd\n",
    "import matplotlib.pyplot as plt\n",
    "import numpy as np\n",
    "\n",
    "import nltk\n",
    "from nltk.tokenize import word_tokenize\n",
    "from nltk.stem import WordNetLemmatizer\n",
    "from nltk import FreqDist\n",
    "from nltk.corpus import stopwords\n",
    "import string\n",
    "from wordcloud import WordCloud\n",
    "\n",
    "import html\n",
    "import contractions\n",
    "\n",
    "import re\n",
    "\n",
    "from IPython.display import display\n",
    "\n",
    "from sklearn.model_selection import train_test_split\n",
    "\n",
    "from sklearn.metrics import confusion_matrix, plot_confusion_matrix, accuracy_score, precision_score, f1_score\n",
    "from sklearn.pipeline import Pipeline\n",
    "\n",
    "from sklearn.feature_extraction.text import TfidfVectorizer\n",
    "from sklearn.naive_bayes import MultinomialNB\n",
    "from sklearn.model_selection import train_test_split, GridSearchCV\n",
    "\n",
    "\n",
    "SEED = 1979\n",
    "\n",
    "do_grids = True"
   ]
  },
  {
   "cell_type": "code",
   "execution_count": 2,
   "id": "66f75dfa",
   "metadata": {},
   "outputs": [],
   "source": [
    "d1 = pd.read_csv('../data/drugsComTrain_raw.tsv', delimiter='\\t', encoding='latin-1')\n",
    "d2 = pd.read_csv('../data/drugsComTest_raw.tsv', delimiter='\\t', encoding='latin-1')\n",
    "df = pd.concat([d1,d2]).reset_index().drop(columns=['Unnamed: 0', 'index'])"
   ]
  },
  {
   "cell_type": "markdown",
   "id": "5acc8247",
   "metadata": {},
   "source": [
    "# functions"
   ]
  },
  {
   "cell_type": "code",
   "execution_count": 3,
   "id": "8623e439",
   "metadata": {},
   "outputs": [],
   "source": [
    "def show_review(index):\n",
    "    print(df.review.loc[index])\n",
    "    display(df[df.review == df.loc[index].review][['drugName', 'condition', 'rating', 'date', 'usefulCount']])"
   ]
  },
  {
   "cell_type": "code",
   "execution_count": 4,
   "id": "6fa12a7a",
   "metadata": {},
   "outputs": [],
   "source": [
    "def show_similar(index):\n",
    "    \n",
    "    count_total = df[\n",
    "        (df.drugName == df.loc[index].drugName) & \\\n",
    "        (df.condition == df.loc[index].condition) & \\\n",
    "        (df.date == df.loc[index].date)\n",
    "    ].review.count()\n",
    "    \n",
    "    count_similar = df[\n",
    "        (df.drugName == df.loc[index].drugName) & \\\n",
    "        (df.condition == df.loc[index].condition) & \\\n",
    "        (df.rating == df.loc[index].rating) & \\\n",
    "        (df.date == df.loc[index].date)\n",
    "    ].review.count()\n",
    "    \n",
    "    print('On', df.loc[index].date, df.loc[index].drugName, 'was reviewed', count_total, \\\n",
    "          'times and received a rating of', df.loc[index].rating, count_similar, 'times.\\n')\n",
    "    print('From that date, here are all', count_similar, 'reviews with the same rating:\\n')\n",
    "    for ind in df[\n",
    "        (df.drugName == df.loc[index].drugName) & \\\n",
    "        (df.condition == df.loc[index].condition) & \\\n",
    "        (df.rating == df.loc[index].rating) & \\\n",
    "        (df.date == df.loc[index].date)\n",
    "    ].index:\n",
    "        print(df.loc[ind].review,'\\n')\n",
    "    \n",
    "    print('Here is a breakdown of all the dates when reviewers gave the same drug name and condition THIS RATING:')\n",
    "    display(df[\n",
    "        (df.drugName == df.loc[index].drugName) & \\\n",
    "        (df.condition == df.loc[index].condition) & \\\n",
    "        (df.rating == df.loc[index].rating)\n",
    "    ].date.value_counts())"
   ]
  },
  {
   "cell_type": "markdown",
   "id": "7fe1d837",
   "metadata": {},
   "source": [
    "# missing values"
   ]
  },
  {
   "cell_type": "code",
   "execution_count": 5,
   "id": "883b203a",
   "metadata": {},
   "outputs": [
    {
     "data": {
      "text/plain": [
       "1194"
      ]
     },
     "execution_count": 5,
     "metadata": {},
     "output_type": "execute_result"
    }
   ],
   "source": [
    "len(df[df.condition.isna()])"
   ]
  },
  {
   "cell_type": "code",
   "execution_count": 6,
   "id": "f4e4038e",
   "metadata": {},
   "outputs": [],
   "source": [
    "df.condition.fillna('missing', inplace=True)"
   ]
  },
  {
   "cell_type": "code",
   "execution_count": 7,
   "id": "22d70bdc",
   "metadata": {},
   "outputs": [
    {
     "data": {
      "text/plain": [
       "1194"
      ]
     },
     "execution_count": 7,
     "metadata": {},
     "output_type": "execute_result"
    }
   ],
   "source": [
    "len(df[df.condition == 'missing'])"
   ]
  },
  {
   "cell_type": "markdown",
   "id": "1c801ae2",
   "metadata": {},
   "source": [
    "We noticed another condition label that was meant to indicate missing and should be accordingly changed."
   ]
  },
  {
   "cell_type": "code",
   "execution_count": 8,
   "id": "f5d075ab",
   "metadata": {},
   "outputs": [],
   "source": [
    "df.condition = df.condition.apply(lambda x: 'missing' if 'Not Listed' in x else x)"
   ]
  },
  {
   "cell_type": "code",
   "execution_count": 9,
   "id": "880e5b87",
   "metadata": {},
   "outputs": [
    {
     "data": {
      "text/plain": [
       "1786"
      ]
     },
     "execution_count": 9,
     "metadata": {},
     "output_type": "execute_result"
    }
   ],
   "source": [
    "len(df[df.condition == 'missing'])"
   ]
  },
  {
   "cell_type": "markdown",
   "id": "98696640",
   "metadata": {},
   "source": [
    "We've identified some actual missing condition labels, but we noticed there are more condition labels that seem suspicious, particularly ones that start with something other than an upper case character. Let's look at all such condition labels."
   ]
  },
  {
   "cell_type": "code",
   "execution_count": 10,
   "id": "6a7ed7f8",
   "metadata": {},
   "outputs": [
    {
     "data": {
      "text/plain": [
       "{'0</span> users found this comment helpful.',\n",
       " '100</span> users found this comment helpful.',\n",
       " '105</span> users found this comment helpful.',\n",
       " '10</span> users found this comment helpful.',\n",
       " '110</span> users found this comment helpful.',\n",
       " '11</span> users found this comment helpful.',\n",
       " '121</span> users found this comment helpful.',\n",
       " '123</span> users found this comment helpful.',\n",
       " '12</span> users found this comment helpful.',\n",
       " '135</span> users found this comment helpful.',\n",
       " '13</span> users found this comment helpful.',\n",
       " '142</span> users found this comment helpful.',\n",
       " '145</span> users found this comment helpful.',\n",
       " '146</span> users found this comment helpful.',\n",
       " '14</span> users found this comment helpful.',\n",
       " '15</span> users found this comment helpful.',\n",
       " '16</span> users found this comment helpful.',\n",
       " '17</span> users found this comment helpful.',\n",
       " '18</span> users found this comment helpful.',\n",
       " '19</span> users found this comment helpful.',\n",
       " '1</span> users found this comment helpful.',\n",
       " '20</span> users found this comment helpful.',\n",
       " '21</span> users found this comment helpful.',\n",
       " '22</span> users found this comment helpful.',\n",
       " '23</span> users found this comment helpful.',\n",
       " '24</span> users found this comment helpful.',\n",
       " '25</span> users found this comment helpful.',\n",
       " '26</span> users found this comment helpful.',\n",
       " '27</span> users found this comment helpful.',\n",
       " '28</span> users found this comment helpful.',\n",
       " '29</span> users found this comment helpful.',\n",
       " '2</span> users found this comment helpful.',\n",
       " '30</span> users found this comment helpful.',\n",
       " '31</span> users found this comment helpful.',\n",
       " '32</span> users found this comment helpful.',\n",
       " '33</span> users found this comment helpful.',\n",
       " '34</span> users found this comment helpful.',\n",
       " '35</span> users found this comment helpful.',\n",
       " '36</span> users found this comment helpful.',\n",
       " '37</span> users found this comment helpful.',\n",
       " '38</span> users found this comment helpful.',\n",
       " '39</span> users found this comment helpful.',\n",
       " '3</span> users found this comment helpful.',\n",
       " '40</span> users found this comment helpful.',\n",
       " '41</span> users found this comment helpful.',\n",
       " '42</span> users found this comment helpful.',\n",
       " '43</span> users found this comment helpful.',\n",
       " '44</span> users found this comment helpful.',\n",
       " '45</span> users found this comment helpful.',\n",
       " '46</span> users found this comment helpful.',\n",
       " '47</span> users found this comment helpful.',\n",
       " '48</span> users found this comment helpful.',\n",
       " '4</span> users found this comment helpful.',\n",
       " '51</span> users found this comment helpful.',\n",
       " '54</span> users found this comment helpful.',\n",
       " '55</span> users found this comment helpful.',\n",
       " '5</span> users found this comment helpful.',\n",
       " '61</span> users found this comment helpful.',\n",
       " '62</span> users found this comment helpful.',\n",
       " '63</span> users found this comment helpful.',\n",
       " '64</span> users found this comment helpful.',\n",
       " '6</span> users found this comment helpful.',\n",
       " '70</span> users found this comment helpful.',\n",
       " '72</span> users found this comment helpful.',\n",
       " '74</span> users found this comment helpful.',\n",
       " '75</span> users found this comment helpful.',\n",
       " '76</span> users found this comment helpful.',\n",
       " '77</span> users found this comment helpful.',\n",
       " '79</span> users found this comment helpful.',\n",
       " '7</span> users found this comment helpful.',\n",
       " '83</span> users found this comment helpful.',\n",
       " '84</span> users found this comment helpful.',\n",
       " '85</span> users found this comment helpful.',\n",
       " '8</span> users found this comment helpful.',\n",
       " '92</span> users found this comment helpful.',\n",
       " '94</span> users found this comment helpful.',\n",
       " '95</span> users found this comment helpful.',\n",
       " '98</span> users found this comment helpful.',\n",
       " '99</span> users found this comment helpful.',\n",
       " '9</span> users found this comment helpful.',\n",
       " 'acial Lipoatrophy',\n",
       " 'acial Wrinkles',\n",
       " 'actor IX Deficiency',\n",
       " 'ailure to Thrive',\n",
       " 'amilial Cold Autoinflammatory Syndrome',\n",
       " 'amilial Mediterranean Feve',\n",
       " 'atigue',\n",
       " 'cal Segmental Glomerulosclerosis',\n",
       " 'emale Infertility',\n",
       " 'eve',\n",
       " 'ge (amlodipine / valsartan)',\n",
       " 'ge HCT (amlodipine / hydrochlorothiazide / valsartan)',\n",
       " 'ibrocystic Breast Disease',\n",
       " 'ibromyalgia',\n",
       " 'lic Acid Deficiency',\n",
       " 'llicle Stimulation',\n",
       " 'llicular Lymphoma',\n",
       " 'm Pain Disorde',\n",
       " 'mance Anxiety',\n",
       " 'me',\n",
       " 'min / pioglitazone)',\n",
       " 'min / rosiglitazone)',\n",
       " 'min / saxagliptin)',\n",
       " 'min / sitagliptin)',\n",
       " 'min)',\n",
       " 'mis',\n",
       " 'mist (',\n",
       " 'moterol / mometasone)',\n",
       " 'moterol)',\n",
       " 'mulation) (phenylephrine)',\n",
       " 't Care',\n",
       " 't Pac with Cyclobenzaprine (cyclobenzaprine)',\n",
       " 'tic (mycophenolic acid)',\n",
       " 'unctional Gastric Disorde',\n",
       " 'ungal Infection Prophylaxis',\n",
       " 'ungal Pneumonia',\n",
       " \"von Willebrand's Disease\",\n",
       " 'zen Shoulde'}"
      ]
     },
     "execution_count": 10,
     "metadata": {},
     "output_type": "execute_result"
    }
   ],
   "source": [
    "set(df[(~df.condition.str[0].isin(list(string.ascii_uppercase))) &\n",
    "   (df.condition != 'missing')\n",
    "  ].condition)"
   ]
  },
  {
   "cell_type": "markdown",
   "id": "4ed4c2d1",
   "metadata": {},
   "source": [
    "These fall into three categories. Ones that include \"users found this comment helpful\" should be regarded as erroneous and therefore missing."
   ]
  },
  {
   "cell_type": "code",
   "execution_count": 11,
   "id": "8f55b0d5",
   "metadata": {},
   "outputs": [],
   "source": [
    "df.condition = df.condition.apply(lambda x: 'missing' if 'users found' in x else x)"
   ]
  },
  {
   "cell_type": "code",
   "execution_count": 12,
   "id": "f536df3c",
   "metadata": {},
   "outputs": [
    {
     "data": {
      "text/plain": [
       "2957"
      ]
     },
     "execution_count": 12,
     "metadata": {},
     "output_type": "execute_result"
    }
   ],
   "source": [
    "len(df[df.condition == 'missing'])"
   ]
  },
  {
   "cell_type": "markdown",
   "id": "b302f8d4",
   "metadata": {},
   "source": [
    " Ones that show a clipped copy of the drug name and end with a parenthesis should also be regarded as missing."
   ]
  },
  {
   "cell_type": "code",
   "execution_count": 13,
   "id": "894d8385",
   "metadata": {},
   "outputs": [],
   "source": [
    "df.condition = df.condition.apply(lambda x: 'missing' \\\n",
    "                                  if x[0] not in list(string.ascii_uppercase) and \\\n",
    "                                  x[-1] in ['(', ')'] \\\n",
    "                                  else x)"
   ]
  },
  {
   "cell_type": "code",
   "execution_count": 14,
   "id": "ee6edf90",
   "metadata": {},
   "outputs": [
    {
     "data": {
      "text/plain": [
       "3286"
      ]
     },
     "execution_count": 14,
     "metadata": {},
     "output_type": "execute_result"
    }
   ],
   "source": [
    "len(df[df.condition == 'missing'])"
   ]
  },
  {
   "cell_type": "markdown",
   "id": "96ce7968",
   "metadata": {},
   "source": [
    "Most of the ones that show a clipped version of the condition label can possibly be restored."
   ]
  },
  {
   "cell_type": "code",
   "execution_count": 15,
   "id": "62c28044",
   "metadata": {},
   "outputs": [],
   "source": [
    "def condition_restore(condition):\n",
    "    if condition.split()[-1] in ['Disorde', 'eve', 'Shoulde', 'Cance']:\n",
    "        condition = condition+'r'\n",
    "    if condition.split()[0] in ['acial', 'ibrocystic', 'ungal', 'amilial', 'ailure', 'ever', \\\n",
    "                                'emale', 'unctional', 'actor', 'ibromyalgia', 'atigue']:\n",
    "        condition = 'F'+condition\n",
    "    if condition.split()[0] in ['llicular', 'llicle', 'lic', 'cal']:\n",
    "        condition = 'Fo'+condition\n",
    "    if condition.split()[0] in ['mance']:\n",
    "        condition = 'Perfor'+condition\n",
    "    if condition.split()[0] in ['zen']:\n",
    "        condition = 'Fro'+condition\n",
    "    if condition.split()[0] in ['mis']:\n",
    "        condition = 'Dermatitis Herpetifor'+condition\n",
    "    return condition\n",
    "\n",
    "df.condition = df.condition.apply(lambda x: condition_restore(x))"
   ]
  },
  {
   "cell_type": "markdown",
   "id": "42c6ed24",
   "metadata": {},
   "source": [
    "Let's look at what we have left."
   ]
  },
  {
   "cell_type": "code",
   "execution_count": 16,
   "id": "dba392b1",
   "metadata": {},
   "outputs": [
    {
     "data": {
      "text/plain": [
       "{'m Pain Disorder', 'me', 't Care', \"von Willebrand's Disease\"}"
      ]
     },
     "execution_count": 16,
     "metadata": {},
     "output_type": "execute_result"
    }
   ],
   "source": [
    "set(df[(~df.condition.str[0].isin(list(string.ascii_uppercase))) &\n",
    "   (df.condition != 'missing')\n",
    "  ].condition)"
   ]
  },
  {
   "cell_type": "markdown",
   "id": "af1bba0f",
   "metadata": {},
   "source": [
    "\"von Willebrand's Disease\" appears to be a naturally uncapitalized condition. The others have been impossible to restore and will also be regarded as missing."
   ]
  },
  {
   "cell_type": "code",
   "execution_count": 17,
   "id": "f6baea7a",
   "metadata": {},
   "outputs": [],
   "source": [
    "df.condition = df.condition.apply(lambda x: 'missing' \\\n",
    "                                  if x[0] not in list(string.ascii_uppercase) and \\\n",
    "                                  x.split()[0] != 'von' \\\n",
    "                                  else x)"
   ]
  },
  {
   "cell_type": "code",
   "execution_count": 18,
   "id": "d632d374",
   "metadata": {},
   "outputs": [
    {
     "data": {
      "text/plain": [
       "3293"
      ]
     },
     "execution_count": 18,
     "metadata": {},
     "output_type": "execute_result"
    }
   ],
   "source": [
    "len(df[df.condition == 'missing'])"
   ]
  },
  {
   "cell_type": "markdown",
   "id": "3f03848a",
   "metadata": {},
   "source": [
    "## proposed solutions for missing values\n",
    "\n",
    "1. For every record with a missing condition, we will assign it the condition that is most common for the drug indicated by that record.\n",
    "\n",
    "2. Before executing solution 1, find each record's twin and use the condition label from the twin where applicable.\n",
    "\n",
    "For now, we'll just execute solution 2."
   ]
  },
  {
   "cell_type": "code",
   "execution_count": null,
   "id": "1450e2c3",
   "metadata": {},
   "outputs": [],
   "source": [
    "drugs_w_missing_condition = list(set(df[df.condition == 'missing'].drugName))"
   ]
  },
  {
   "cell_type": "code",
   "execution_count": null,
   "id": "fccc12e9",
   "metadata": {},
   "outputs": [],
   "source": [
    "len(drugs_w_missing_condition)"
   ]
  },
  {
   "cell_type": "markdown",
   "id": "7b639158",
   "metadata": {},
   "source": [
    "This applies to about a quarter of the drugs. We'll create a dictionary that reports the most common condition for these drugs."
   ]
  },
  {
   "cell_type": "code",
   "execution_count": null,
   "id": "4d88b149",
   "metadata": {},
   "outputs": [],
   "source": [
    "most_common_condition = {}\n",
    "\n",
    "for drug in drugs_w_missing_condition:\n",
    "    condition = df[df.drugName == drug].condition.value_counts().idxmax()\n",
    "    if condition == 'missing' and len(set(df[df.drugName == drug].condition)) > 1:\n",
    "        condition = df[(df.drugName == drug) &\n",
    "                       (df.condition != 'missing')\n",
    "                      ].condition.value_counts().idxmax()\n",
    "    proportion = round(df[df.drugName == drug].condition.value_counts(normalize=True)[0],2)\n",
    "    most_common_condition[drug] = [condition, proportion]"
   ]
  },
  {
   "cell_type": "code",
   "execution_count": null,
   "id": "a8d77082",
   "metadata": {},
   "outputs": [],
   "source": [
    "most_common_condition['Viagra']"
   ]
  },
  {
   "cell_type": "markdown",
   "id": "cfaa08ef",
   "metadata": {},
   "source": [
    "For example, if a review with an unlisted condition is about Viagra, we will assume the condition is Erectile Dysfunction."
   ]
  },
  {
   "cell_type": "code",
   "execution_count": null,
   "id": "822c0074",
   "metadata": {},
   "outputs": [],
   "source": [
    "df['condition'] = df.apply(lambda x: most_common_condition[x.drugName][0] \\\n",
    "                           if x.condition == 'missing' \\\n",
    "                           else x.condition, axis = 1)"
   ]
  },
  {
   "cell_type": "code",
   "execution_count": null,
   "id": "b899cf85",
   "metadata": {},
   "outputs": [],
   "source": [
    "len(df[df.condition == 'missing'])"
   ]
  },
  {
   "cell_type": "markdown",
   "id": "d31046e9",
   "metadata": {},
   "source": [
    "This is how many records there are that still have no label for condition. This means the drugs indicated in these records are *only* indicated in references without an indicated condition. They may still have a \"twin\" records that we could match them to, but while we're skipping that solution step, there's not really anything we can do with these records, and we may as well drop them."
   ]
  },
  {
   "cell_type": "code",
   "execution_count": null,
   "id": "e0baba6b",
   "metadata": {},
   "outputs": [],
   "source": [
    "df.drop(df[df.condition == 'missing'].index, inplace=True)"
   ]
  },
  {
   "cell_type": "markdown",
   "id": "19ba8693",
   "metadata": {},
   "source": [
    "# duplicates"
   ]
  },
  {
   "cell_type": "code",
   "execution_count": 19,
   "id": "095fca98",
   "metadata": {},
   "outputs": [
    {
     "data": {
      "text/plain": [
       "False    215061\n",
       "True          2\n",
       "Name: count, dtype: int64"
      ]
     },
     "execution_count": 19,
     "metadata": {},
     "output_type": "execute_result"
    }
   ],
   "source": [
    "df.duplicated().value_counts()"
   ]
  },
  {
   "cell_type": "code",
   "execution_count": 20,
   "id": "cae77d95",
   "metadata": {},
   "outputs": [
    {
     "data": {
      "text/html": [
       "<div>\n",
       "<style scoped>\n",
       "    .dataframe tbody tr th:only-of-type {\n",
       "        vertical-align: middle;\n",
       "    }\n",
       "\n",
       "    .dataframe tbody tr th {\n",
       "        vertical-align: top;\n",
       "    }\n",
       "\n",
       "    .dataframe thead th {\n",
       "        text-align: right;\n",
       "    }\n",
       "</style>\n",
       "<table border=\"1\" class=\"dataframe\">\n",
       "  <thead>\n",
       "    <tr style=\"text-align: right;\">\n",
       "      <th></th>\n",
       "      <th>drugName</th>\n",
       "      <th>condition</th>\n",
       "      <th>review</th>\n",
       "      <th>rating</th>\n",
       "      <th>date</th>\n",
       "      <th>usefulCount</th>\n",
       "    </tr>\n",
       "  </thead>\n",
       "  <tbody>\n",
       "    <tr>\n",
       "      <th>178703</th>\n",
       "      <td>Levonorgestrel</td>\n",
       "      <td>Emergency Contraception</td>\n",
       "      <td>\"I had a quickie n he decided to finish it off...</td>\n",
       "      <td>1.0</td>\n",
       "      <td>September 23, 2016</td>\n",
       "      <td>10</td>\n",
       "    </tr>\n",
       "    <tr>\n",
       "      <th>191001</th>\n",
       "      <td>Plan B</td>\n",
       "      <td>Emergency Contraception</td>\n",
       "      <td>\"I had a quickie n he decided to finish it off...</td>\n",
       "      <td>1.0</td>\n",
       "      <td>September 23, 2016</td>\n",
       "      <td>10</td>\n",
       "    </tr>\n",
       "  </tbody>\n",
       "</table>\n",
       "</div>"
      ],
      "text/plain": [
       "              drugName                condition  \\\n",
       "178703  Levonorgestrel  Emergency Contraception   \n",
       "191001          Plan B  Emergency Contraception   \n",
       "\n",
       "                                                   review  rating  \\\n",
       "178703  \"I had a quickie n he decided to finish it off...     1.0   \n",
       "191001  \"I had a quickie n he decided to finish it off...     1.0   \n",
       "\n",
       "                      date  usefulCount  \n",
       "178703  September 23, 2016           10  \n",
       "191001  September 23, 2016           10  "
      ]
     },
     "execution_count": 20,
     "metadata": {},
     "output_type": "execute_result"
    }
   ],
   "source": [
    "df[df.duplicated()]"
   ]
  },
  {
   "cell_type": "code",
   "execution_count": 21,
   "id": "ff18f3d6",
   "metadata": {},
   "outputs": [
    {
     "name": "stdout",
     "output_type": "stream",
     "text": [
      "\"I had a quickie n he decided to finish it off in me... Well IMMEDIATELY we went 2 our local pharmacy n bought this plan b 1 step pill.I took it immediately.2 weeks later,took a pregnancy test n got the world&#039;s BIGGEST POSITIVE. The small pill was $50.That was the 1st time in a year n a half that I had intercourse n the last after I had my first son. I honestly believe this pill is ineffective because they just want u to think it works when n reality, it would never work. Alot of women don&#039;t know their bodies when they ovulate so if your not fertile and he ejaculates n u and u take the pill n dont get preg., The pill is supposed to make u think it worked. DO NOT buy. Was NEVER effective. Thank u!\"\n"
     ]
    },
    {
     "data": {
      "text/html": [
       "<div>\n",
       "<style scoped>\n",
       "    .dataframe tbody tr th:only-of-type {\n",
       "        vertical-align: middle;\n",
       "    }\n",
       "\n",
       "    .dataframe tbody tr th {\n",
       "        vertical-align: top;\n",
       "    }\n",
       "\n",
       "    .dataframe thead th {\n",
       "        text-align: right;\n",
       "    }\n",
       "</style>\n",
       "<table border=\"1\" class=\"dataframe\">\n",
       "  <thead>\n",
       "    <tr style=\"text-align: right;\">\n",
       "      <th></th>\n",
       "      <th>drugName</th>\n",
       "      <th>condition</th>\n",
       "      <th>rating</th>\n",
       "      <th>date</th>\n",
       "      <th>usefulCount</th>\n",
       "    </tr>\n",
       "  </thead>\n",
       "  <tbody>\n",
       "    <tr>\n",
       "      <th>131531</th>\n",
       "      <td>Levonorgestrel</td>\n",
       "      <td>Emergency Contraception</td>\n",
       "      <td>1.0</td>\n",
       "      <td>September 23, 2016</td>\n",
       "      <td>10</td>\n",
       "    </tr>\n",
       "    <tr>\n",
       "      <th>143768</th>\n",
       "      <td>Plan B</td>\n",
       "      <td>Emergency Contraception</td>\n",
       "      <td>1.0</td>\n",
       "      <td>September 23, 2016</td>\n",
       "      <td>10</td>\n",
       "    </tr>\n",
       "    <tr>\n",
       "      <th>178703</th>\n",
       "      <td>Levonorgestrel</td>\n",
       "      <td>Emergency Contraception</td>\n",
       "      <td>1.0</td>\n",
       "      <td>September 23, 2016</td>\n",
       "      <td>10</td>\n",
       "    </tr>\n",
       "    <tr>\n",
       "      <th>191001</th>\n",
       "      <td>Plan B</td>\n",
       "      <td>Emergency Contraception</td>\n",
       "      <td>1.0</td>\n",
       "      <td>September 23, 2016</td>\n",
       "      <td>10</td>\n",
       "    </tr>\n",
       "  </tbody>\n",
       "</table>\n",
       "</div>"
      ],
      "text/plain": [
       "              drugName                condition  rating                date  \\\n",
       "131531  Levonorgestrel  Emergency Contraception     1.0  September 23, 2016   \n",
       "143768          Plan B  Emergency Contraception     1.0  September 23, 2016   \n",
       "178703  Levonorgestrel  Emergency Contraception     1.0  September 23, 2016   \n",
       "191001          Plan B  Emergency Contraception     1.0  September 23, 2016   \n",
       "\n",
       "        usefulCount  \n",
       "131531           10  \n",
       "143768           10  \n",
       "178703           10  \n",
       "191001           10  "
      ]
     },
     "metadata": {},
     "output_type": "display_data"
    }
   ],
   "source": [
    "show_review(178703)"
   ]
  },
  {
   "cell_type": "markdown",
   "id": "9b4a2865",
   "metadata": {},
   "source": [
    "This is curious. The same review is recorded four times. There are two identical pairs, where the difference between the pairs is the drug name. We can drop one from each pair, but this will need to be revisited."
   ]
  },
  {
   "cell_type": "code",
   "execution_count": 22,
   "id": "0e335ea6",
   "metadata": {},
   "outputs": [],
   "source": [
    "df.drop_duplicates(inplace=True)"
   ]
  },
  {
   "cell_type": "markdown",
   "id": "65112e00",
   "metadata": {},
   "source": [
    "# contractions\n",
    "\n",
    "Here is an example of a contraction."
   ]
  },
  {
   "cell_type": "code",
   "execution_count": 23,
   "id": "94da8a57",
   "metadata": {},
   "outputs": [
    {
     "data": {
      "text/plain": [
       "'I&#039;m glad'"
      ]
     },
     "execution_count": 23,
     "metadata": {},
     "output_type": "execute_result"
    }
   ],
   "source": [
    "df.review[3][56:69]"
   ]
  },
  {
   "cell_type": "markdown",
   "id": "f9a50aa6",
   "metadata": {},
   "source": [
    "Here is how the html function fixes it."
   ]
  },
  {
   "cell_type": "code",
   "execution_count": 24,
   "id": "0eed8b5c",
   "metadata": {},
   "outputs": [
    {
     "data": {
      "text/plain": [
       "\"I'm glad\""
      ]
     },
     "execution_count": 24,
     "metadata": {},
     "output_type": "execute_result"
    }
   ],
   "source": [
    "html.unescape(df.loc[3][2])[56:64]"
   ]
  },
  {
   "cell_type": "markdown",
   "id": "baee3ab2",
   "metadata": {},
   "source": [
    "Here is how the contractions function fixes (the html function's fix of) it."
   ]
  },
  {
   "cell_type": "code",
   "execution_count": 25,
   "id": "1cad7586",
   "metadata": {},
   "outputs": [
    {
     "data": {
      "text/plain": [
       "'I am glad'"
      ]
     },
     "execution_count": 25,
     "metadata": {},
     "output_type": "execute_result"
    }
   ],
   "source": [
    "contractions.fix(html.unescape(df.loc[3][2]))[56:65]"
   ]
  },
  {
   "cell_type": "markdown",
   "id": "eb2d7bbe",
   "metadata": {},
   "source": [
    "Here is an instance of \"ain't\" with the same functions applied."
   ]
  },
  {
   "cell_type": "code",
   "execution_count": 26,
   "id": "3f986897",
   "metadata": {},
   "outputs": [
    {
     "data": {
      "text/plain": [
       "'I ain&#039;t complaining'"
      ]
     },
     "execution_count": 26,
     "metadata": {},
     "output_type": "execute_result"
    }
   ],
   "source": [
    "df.review.loc[507][75:99]"
   ]
  },
  {
   "cell_type": "code",
   "execution_count": 27,
   "id": "bf5d1a79",
   "metadata": {},
   "outputs": [
    {
     "data": {
      "text/plain": [
       "\"I ain't complaining\""
      ]
     },
     "execution_count": 27,
     "metadata": {},
     "output_type": "execute_result"
    }
   ],
   "source": [
    "html.unescape(df.review.loc[507])[75:94]"
   ]
  },
  {
   "cell_type": "code",
   "execution_count": 28,
   "id": "7d0af466",
   "metadata": {},
   "outputs": [
    {
     "data": {
      "text/plain": [
       "'I are not complaining'"
      ]
     },
     "execution_count": 28,
     "metadata": {},
     "output_type": "execute_result"
    }
   ],
   "source": [
    "contractions.fix(html.unescape(df.review.loc[507]))[75:96]"
   ]
  },
  {
   "cell_type": "code",
   "execution_count": 29,
   "id": "54103dcd",
   "metadata": {},
   "outputs": [
    {
     "data": {
      "text/plain": [
       "53"
      ]
     },
     "execution_count": 29,
     "metadata": {},
     "output_type": "execute_result"
    }
   ],
   "source": [
    "len(df[df.review.str.contains('ain&#039;t')])"
   ]
  },
  {
   "cell_type": "markdown",
   "id": "e0880900",
   "metadata": {},
   "source": [
    "There are 53 instances of \"ain't\".\n",
    "\n",
    "I'm currently having difficulty downloading the package that appropriately fixes \"ain't\" into \"is not\" or \"are not\" etc. This shouldn't matter after I remove stop words. I think it will be helpful to exclude negatives like \"no\" and \"not\" from the stop words. It could certainly be of help to look for bigrams like \"not good\"."
   ]
  },
  {
   "cell_type": "code",
   "execution_count": 30,
   "id": "6013367a",
   "metadata": {},
   "outputs": [],
   "source": [
    "df.review = df.review.apply(lambda x: html.unescape(x))"
   ]
  },
  {
   "cell_type": "markdown",
   "id": "72302bea",
   "metadata": {},
   "source": [
    "# make some dummy dfs to use"
   ]
  },
  {
   "cell_type": "code",
   "execution_count": 31,
   "id": "ec3f649c",
   "metadata": {},
   "outputs": [
    {
     "data": {
      "text/plain": [
       "85876"
      ]
     },
     "execution_count": 31,
     "metadata": {},
     "output_type": "execute_result"
    }
   ],
   "source": [
    "df_old = df.copy()\n",
    "len(df_old[df_old.duplicated(subset = df_old.columns.difference(['drugName']))])"
   ]
  },
  {
   "cell_type": "code",
   "execution_count": 32,
   "id": "8946e9c4",
   "metadata": {},
   "outputs": [
    {
     "data": {
      "text/plain": [
       "18906"
      ]
     },
     "execution_count": 32,
     "metadata": {},
     "output_type": "execute_result"
    }
   ],
   "source": [
    "df_bc = df_old.drop(df_old[df_old.condition != 'Birth Control'].index)\n",
    "len(df_bc[df_bc.duplicated(subset = df_bc.columns.difference(['drugName']))])"
   ]
  },
  {
   "cell_type": "code",
   "execution_count": 33,
   "id": "cb6f9a32",
   "metadata": {},
   "outputs": [
    {
     "data": {
      "text/plain": [
       "5112"
      ]
     },
     "execution_count": 33,
     "metadata": {},
     "output_type": "execute_result"
    }
   ],
   "source": [
    "df_20000 = df_bc[df_bc.index.isin(np.random.choice(df_bc.index.tolist(), 20000, replace=False))]\n",
    "len(df_20000[df_20000.duplicated(subset = df_20000.columns.difference(['drugName']))])"
   ]
  },
  {
   "cell_type": "code",
   "execution_count": 34,
   "id": "689f830b",
   "metadata": {},
   "outputs": [
    {
     "data": {
      "text/plain": [
       "1261"
      ]
     },
     "execution_count": 34,
     "metadata": {},
     "output_type": "execute_result"
    }
   ],
   "source": [
    "df_10000 = df_bc[df_bc.index.isin(np.random.choice(df_bc.index.tolist(), 10000, replace=False))]\n",
    "len(df_10000[df_10000.duplicated(subset = df_10000.columns.difference(['drugName']))])"
   ]
  },
  {
   "cell_type": "code",
   "execution_count": 35,
   "id": "c14d7fa5",
   "metadata": {},
   "outputs": [
    {
     "data": {
      "text/plain": [
       "314"
      ]
     },
     "execution_count": 35,
     "metadata": {},
     "output_type": "execute_result"
    }
   ],
   "source": [
    "df_5000 = df_bc[df_bc.index.isin(np.random.choice(df_bc.index.tolist(), 5000, replace=False))]\n",
    "len(df_5000[df_5000.duplicated(subset = df_5000.columns.difference(['drugName']))])"
   ]
  },
  {
   "cell_type": "code",
   "execution_count": 36,
   "id": "45cb96b2",
   "metadata": {},
   "outputs": [
    {
     "data": {
      "text/plain": [
       "50"
      ]
     },
     "execution_count": 36,
     "metadata": {},
     "output_type": "execute_result"
    }
   ],
   "source": [
    "df_2000 = df_bc[df_bc.index.isin(np.random.choice(df_bc.index.tolist(), 2000, replace=False))]\n",
    "len(df_2000[df_2000.duplicated(subset = df_2000.columns.difference(['drugName']))])"
   ]
  },
  {
   "cell_type": "markdown",
   "id": "196b2d33",
   "metadata": {},
   "source": [
    "# date buckets with df_bc"
   ]
  },
  {
   "cell_type": "code",
   "execution_count": null,
   "id": "0b188dd0",
   "metadata": {},
   "outputs": [],
   "source": [
    "df = df_bc.copy()"
   ]
  },
  {
   "cell_type": "code",
   "execution_count": null,
   "id": "26fcea66",
   "metadata": {},
   "outputs": [],
   "source": [
    "df.drop(columns='drugName', inplace=True)"
   ]
  },
  {
   "cell_type": "code",
   "execution_count": null,
   "id": "313c17fb",
   "metadata": {},
   "outputs": [],
   "source": [
    "%%time\n",
    "dates_bucket = {}\n",
    "for date in list(set(df[~df.index.isin(bucket_A)].date.tolist())):\n",
    "    dates_bucket[date] = []\n",
    "for i in df.index:\n",
    "    dates_bucket[df.loc[i].date].append(i)"
   ]
  },
  {
   "cell_type": "code",
   "execution_count": null,
   "id": "c0462779",
   "metadata": {},
   "outputs": [],
   "source": [
    "%%time\n",
    "found_pairs = 0\n",
    "twins = []\n",
    "\n",
    "for i in bucket_A:\n",
    "    date_i = df.loc[i].date\n",
    "    for j in dates_bucket[date_i]:\n",
    "        if df.loc[i].equals(df.loc[j]):\n",
    "            found_pairs += 1\n",
    "            dates_bucket[date_i].remove(j)\n",
    "            twins.append([i,j])\n",
    "            break\n",
    "print(found_pairs)"
   ]
  },
  {
   "cell_type": "markdown",
   "id": "bce83b3b",
   "metadata": {},
   "source": [
    "# date buckets with 20000"
   ]
  },
  {
   "cell_type": "code",
   "execution_count": 37,
   "id": "50651e73",
   "metadata": {},
   "outputs": [],
   "source": [
    "df = df_20000.copy()"
   ]
  },
  {
   "cell_type": "code",
   "execution_count": 38,
   "id": "6842fc39",
   "metadata": {},
   "outputs": [],
   "source": [
    "df.drop(columns='drugName', inplace=True)"
   ]
  },
  {
   "cell_type": "code",
   "execution_count": 39,
   "id": "b3e7ec0d",
   "metadata": {},
   "outputs": [
    {
     "name": "stdout",
     "output_type": "stream",
     "text": [
      "CPU times: user 1.57 s, sys: 8.33 ms, total: 1.58 s\n",
      "Wall time: 1.59 s\n"
     ]
    }
   ],
   "source": [
    "%%time\n",
    "bucket_A = df[df.duplicated].index.tolist()\n",
    "dates_bucket = {}\n",
    "for date in list(set(df[~df.index.isin(bucket_A)].date.tolist())):\n",
    "    dates_bucket[date] = []\n",
    "for i in df.index:\n",
    "    dates_bucket[df.loc[i].date].append(i)"
   ]
  },
  {
   "cell_type": "code",
   "execution_count": 43,
   "id": "c42405ef",
   "metadata": {},
   "outputs": [
    {
     "name": "stdout",
     "output_type": "stream",
     "text": [
      "5112\n",
      "CPU times: user 22.4 s, sys: 148 ms, total: 22.6 s\n",
      "Wall time: 22.9 s\n"
     ]
    }
   ],
   "source": [
    "%%time\n",
    "found_pairs = 0\n",
    "twins = []\n",
    "\n",
    "for i in bucket_A:\n",
    "    date_i = df.loc[i].date\n",
    "    for j in dates_bucket[date_i]:\n",
    "        if df.loc[i].equals(df.loc[j]):\n",
    "            found_pairs += 1\n",
    "            dates_bucket[date_i].remove(j)\n",
    "            twins.append([i,j])\n",
    "            break\n",
    "print(found_pairs)"
   ]
  },
  {
   "cell_type": "code",
   "execution_count": 41,
   "id": "396fb8a7",
   "metadata": {},
   "outputs": [
    {
     "data": {
      "text/plain": [
       "5112"
      ]
     },
     "execution_count": 41,
     "metadata": {},
     "output_type": "execute_result"
    }
   ],
   "source": [
    "len(twins)"
   ]
  },
  {
   "cell_type": "markdown",
   "id": "b32c8fe2",
   "metadata": {},
   "source": [
    "# NEXT:\n",
    "\n",
    "experiment with the code below to see if separating into date buckets makes it faster.\n",
    "\n",
    "# DON'T FORGET:\n",
    "\n",
    "run tests to see whether there are triples??"
   ]
  },
  {
   "cell_type": "markdown",
   "id": "34d0da22",
   "metadata": {},
   "source": [
    "# experiment: 2,000 records // 50 duplicates"
   ]
  },
  {
   "cell_type": "code",
   "execution_count": null,
   "id": "8bc0207e",
   "metadata": {},
   "outputs": [],
   "source": [
    "df = df_2000.copy()"
   ]
  },
  {
   "cell_type": "code",
   "execution_count": null,
   "id": "e7dff762",
   "metadata": {},
   "outputs": [],
   "source": [
    "df.drop(columns='drugName', inplace=True)"
   ]
  },
  {
   "cell_type": "code",
   "execution_count": null,
   "id": "d3b0ea1f",
   "metadata": {},
   "outputs": [],
   "source": [
    "%%time\n",
    "bucket_A = df[df.duplicated].index.tolist()\n",
    "bucket_B = df[~df.index.isin(bucket_A)].index.tolist()"
   ]
  },
  {
   "cell_type": "code",
   "execution_count": null,
   "id": "d16abea7",
   "metadata": {},
   "outputs": [],
   "source": [
    "%%time\n",
    "found_pairs = 0\n",
    "for i in bucket_A:\n",
    "    for j in bucket_B:\n",
    "        if df.loc[i].equals(df.loc[j]):\n",
    "            found_pairs += 1\n",
    "print(found_pairs)"
   ]
  },
  {
   "cell_type": "code",
   "execution_count": null,
   "id": "def73b4d",
   "metadata": {},
   "outputs": [],
   "source": [
    "%%time\n",
    "found_pairs = 0\n",
    "for i in bucket_A:\n",
    "    for j in bucket_B:\n",
    "        if df.loc[i].equals(df.loc[j]):\n",
    "            found_pairs += 1\n",
    "            bucket_B.remove(j)\n",
    "            break\n",
    "print(found_pairs)"
   ]
  },
  {
   "cell_type": "code",
   "execution_count": null,
   "id": "429d1e89",
   "metadata": {},
   "outputs": [],
   "source": [
    "%%time\n",
    "found_pairs = 0\n",
    "twins = []\n",
    "bucket_B = df[~df.index.isin(bucket_A)].index.tolist()\n",
    "for i in bucket_A:\n",
    "    for j in bucket_B:\n",
    "        if df.loc[i].equals(df.loc[j]):\n",
    "            found_pairs += 1\n",
    "            bucket_B.remove(j)\n",
    "            twins.append([i,j])\n",
    "            break\n",
    "print(found_pairs)"
   ]
  },
  {
   "cell_type": "markdown",
   "id": "259cdf74",
   "metadata": {},
   "source": [
    "# experiment: 5,000 records // 310 duplicates"
   ]
  },
  {
   "cell_type": "code",
   "execution_count": null,
   "id": "60485521",
   "metadata": {},
   "outputs": [],
   "source": [
    "df = df_5000.copy()"
   ]
  },
  {
   "cell_type": "code",
   "execution_count": null,
   "id": "a0458475",
   "metadata": {},
   "outputs": [],
   "source": [
    "df.drop(columns='drugName', inplace=True)"
   ]
  },
  {
   "cell_type": "code",
   "execution_count": null,
   "id": "f88521da",
   "metadata": {},
   "outputs": [],
   "source": [
    "%%time\n",
    "bucket_A = df[df.duplicated].index.tolist()\n",
    "bucket_B = df[~df.index.isin(bucket_A)].index.tolist()"
   ]
  },
  {
   "cell_type": "code",
   "execution_count": null,
   "id": "86fabab5",
   "metadata": {},
   "outputs": [],
   "source": [
    "%%time\n",
    "found_pairs = 0\n",
    "for i in bucket_A:\n",
    "    for j in bucket_B:\n",
    "        if df.loc[i].equals(df.loc[j]):\n",
    "            found_pairs += 1\n",
    "print(found_pairs)"
   ]
  },
  {
   "cell_type": "code",
   "execution_count": null,
   "id": "9ef14388",
   "metadata": {},
   "outputs": [],
   "source": [
    "%%time\n",
    "found_pairs = 0\n",
    "for i in bucket_A:\n",
    "    for j in bucket_B:\n",
    "        if df.loc[i].equals(df.loc[j]):\n",
    "            found_pairs += 1\n",
    "            bucket_B.remove(j)\n",
    "            break\n",
    "print(found_pairs)"
   ]
  },
  {
   "cell_type": "code",
   "execution_count": null,
   "id": "123ebc4c",
   "metadata": {},
   "outputs": [],
   "source": [
    "%%time\n",
    "found_pairs = 0\n",
    "twins = []\n",
    "bucket_B = df[~df.index.isin(bucket_A)].index.tolist()\n",
    "for i in bucket_A:\n",
    "    for j in bucket_B:\n",
    "        if df.loc[i].equals(df.loc[j]):\n",
    "            found_pairs += 1\n",
    "            bucket_B.remove(j)\n",
    "            twins.append([i,j])\n",
    "            break\n",
    "print(found_pairs)"
   ]
  },
  {
   "cell_type": "markdown",
   "id": "42d58888",
   "metadata": {},
   "source": [
    "# experiment: 5,000 records // 310 duplicates // extra dates"
   ]
  },
  {
   "cell_type": "code",
   "execution_count": null,
   "id": "a38709bf",
   "metadata": {},
   "outputs": [],
   "source": [
    "df = df_5000.copy()"
   ]
  },
  {
   "cell_type": "code",
   "execution_count": null,
   "id": "51d43226",
   "metadata": {},
   "outputs": [],
   "source": [
    "df.drop(columns='drugName', inplace=True)"
   ]
  },
  {
   "cell_type": "code",
   "execution_count": null,
   "id": "75cf1d18",
   "metadata": {},
   "outputs": [],
   "source": [
    "%%time\n",
    "bucket_A = df[df.duplicated].index.tolist()\n",
    "bucket_B = df[~df.index.isin(bucket_A)].index.tolist()"
   ]
  },
  {
   "cell_type": "code",
   "execution_count": null,
   "id": "1827ef28",
   "metadata": {},
   "outputs": [],
   "source": [
    "%%time\n",
    "found_pairs = 0\n",
    "for i in bucket_A:\n",
    "    for j in bucket_B:\n",
    "        if df.loc[i].equals(df.loc[j]):\n",
    "            found_pairs += 1\n",
    "print(found_pairs)"
   ]
  },
  {
   "cell_type": "code",
   "execution_count": null,
   "id": "8bfbf745",
   "metadata": {},
   "outputs": [],
   "source": [
    "%%time\n",
    "found_pairs = 0\n",
    "for i in bucket_A:\n",
    "    for j in bucket_B:\n",
    "        if df.loc[i].equals(df.loc[j]):\n",
    "            found_pairs += 1\n",
    "            bucket_B.remove(j)\n",
    "            break\n",
    "print(found_pairs)"
   ]
  },
  {
   "cell_type": "code",
   "execution_count": null,
   "id": "99fb0efb",
   "metadata": {},
   "outputs": [],
   "source": [
    "%%time\n",
    "found_pairs = 0\n",
    "twins = []\n",
    "bucket_B = df[~df.index.isin(bucket_A)].index.tolist()\n",
    "for i in bucket_A:\n",
    "    for j in bucket_B:\n",
    "        if df.loc[i].equals(df.loc[j]):\n",
    "            found_pairs += 1\n",
    "            bucket_B.remove(j)\n",
    "            twins.append([i,j])\n",
    "            break\n",
    "print(found_pairs)"
   ]
  },
  {
   "cell_type": "markdown",
   "id": "5c566949",
   "metadata": {},
   "source": [
    "# experiment: 39,499 records // 19,420 duplicates"
   ]
  },
  {
   "cell_type": "code",
   "execution_count": null,
   "id": "e5200f77",
   "metadata": {},
   "outputs": [],
   "source": [
    "df = df_bc.copy()"
   ]
  },
  {
   "cell_type": "code",
   "execution_count": null,
   "id": "230ac58a",
   "metadata": {},
   "outputs": [],
   "source": [
    "df.drop(columns='drugName', inplace=True)"
   ]
  },
  {
   "cell_type": "code",
   "execution_count": null,
   "id": "cc219048",
   "metadata": {},
   "outputs": [],
   "source": [
    "%%time\n",
    "bucket_A = df[df.duplicated].index.tolist()\n",
    "bucket_B = df[~df.index.isin(bucket_A)].index.tolist()"
   ]
  },
  {
   "cell_type": "code",
   "execution_count": null,
   "id": "7fa80de2",
   "metadata": {},
   "outputs": [],
   "source": [
    "%%time\n",
    "found_pairs = 0\n",
    "twins = []\n",
    "for i in bucket_A:\n",
    "    for j in bucket_B:\n",
    "        if df.loc[i].equals(df.loc[j]):\n",
    "            found_pairs += 1\n",
    "            bucket_B.remove(j)\n",
    "            twins.append([i,j])\n",
    "            break\n",
    "print(found_pairs)"
   ]
  },
  {
   "cell_type": "code",
   "execution_count": null,
   "id": "9a2b289e",
   "metadata": {},
   "outputs": [],
   "source": [
    "len(twins)"
   ]
  },
  {
   "cell_type": "markdown",
   "id": "c76918d5",
   "metadata": {},
   "source": [
    "# end"
   ]
  }
 ],
 "metadata": {
  "kernelspec": {
   "display_name": "Python (learn-env)",
   "language": "python",
   "name": "learn-env"
  },
  "language_info": {
   "codemirror_mode": {
    "name": "ipython",
    "version": 3
   },
   "file_extension": ".py",
   "mimetype": "text/x-python",
   "name": "python",
   "nbconvert_exporter": "python",
   "pygments_lexer": "ipython3",
   "version": "3.8.5"
  }
 },
 "nbformat": 4,
 "nbformat_minor": 5
}
